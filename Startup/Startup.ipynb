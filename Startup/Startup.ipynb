{
 "cells": [
  {
   "cell_type": "markdown",
   "metadata": {
    "id": "4mJbK1knrJgz"
   },
   "source": [
    "# Проект: Исследование стартапов\n",
    "Выполнил: Яфаров Ринат"
   ]
  },
  {
   "cell_type": "markdown",
   "metadata": {
    "id": "P6j0r3worJg0"
   },
   "source": [
    "## Введение"
   ]
  },
  {
   "cell_type": "markdown",
   "metadata": {
    "id": "8lQtbsIUyFG6"
   },
   "source": [
    "Финансовая компания, которая предоставляет льготные займы стартапам, хочет войти на инвестиционный рынок с прицелом на покупку, развитие и последующую перепродажу перспективных стартапов."
   ]
  },
  {
   "cell_type": "markdown",
   "metadata": {},
   "source": [
    "Цель проекта: Подготовить датасет и проверить, что данные в нём соответствуют здравому смыслу, а также ответить на вопросы заказчика как о предобработке, так и о значении данных для бизнеса."
   ]
  },
  {
   "cell_type": "markdown",
   "metadata": {},
   "source": [
    "Задачи проекта:\n",
    "* предстоит принять решения по каким столбцам можно объединять данные из разных таблиц;\n",
    "* предстоит принять решения можно ли доверять данным о сотрудниках стартапов и их образовании;\n",
    "* предстоит принять решения что значат покупки за 0 или за 1 доллар;\n",
    "* предстоит принять решения какая цена в зависимости от категории стартапов и количества раундов финансирования перед его покупкой;\n",
    "* предстоит принять решения как рассчитать и отобразить численные показатели и динамику."
   ]
  },
  {
   "cell_type": "markdown",
   "metadata": {},
   "source": [
    "**Описание данных:** исторические данные представлены несколькими датасетами `acquisition.csv`, `company_and_rounds.csv`, `people.csv`, `education.csv`, `degrees.csv`; также даны дополнительные таблицы `fund.csv` и `investment.csv`.\n",
    "\n",
    "Датасет **`acquisition.csv`** содержит информацию о покупке одних компаний другими компаниями:\n",
    "* `id` - идентификатор покупки\n",
    "* `acquiring_company_id` - идентификатор покупающей компании\n",
    "* `acquired_company_id` - идентификатор покупаемой компании\n",
    "* `term_code` - варианты расчета\n",
    "* `price_amount` - сумма сделки\n",
    "* `acquired_at` - дата сделки\n",
    "\n",
    "Датасет **`company_and_rounds.csv`** содержит информацию о покупках и раундах финансирования:\n",
    "* `company ID` - идентификатор компании\n",
    "* `name` - название компании\n",
    "* `category code` - категория области деятельности компании\n",
    "* `status` - статус компании\n",
    "* `founded at` - дата инвестирования\n",
    "* `closed at` - дата закрытия компании\n",
    "* `domain` - официальный сайт компании\n",
    "* `network username` - ник компании в сети\n",
    "* `country code` - код страны компании\n",
    "* `investment rounds` - число инвестиционных раундов\n",
    "* `funding rounds` - число раундов финансирования\n",
    "* `funding total` - сумма финансирования\n",
    "* `milestones` - вехи финансирования\n",
    "* `funding round id` - идентификатор этапа финансирования\n",
    "* `company id` - идентификатор компании\n",
    "* `funded at` - дата финансирования\n",
    "* `funding round type` - тип финансирования\n",
    "* `raised amount` - сумма финансирования\n",
    "* `pre money valuation` - предварительная денежная оценка\n",
    "* `participants` - число участников\n",
    "* `is first round` - ялвяется ли раунд первым\n",
    "* `is last round` - является ли раунд последним\n",
    "\n",
    "Датасет **`education.csv`** содержит информацию об образовании сотрудника:\n",
    "* `id` - идентификатор записи об образовании\n",
    "* `person_id` - идентификатор работника\n",
    "* `instituition` - название учебного заведения\n",
    "* `graduated_at` - дата получения образования\n",
    "\n",
    "Датасет **`people.csv`** содержит информацию о сотрудниках:\n",
    "* `id` - идентификатор сотрудника\n",
    "* `first_name` - имя сотрудника\n",
    "* `last_name` - фамилия сотрудника\n",
    "* `company_id` - идентификатор компании\n",
    "* `network_username` - ник в социальных сетях\n",
    "\n",
    "Датасет **`degrees.csv`** содержит информацию о типе образования сотрудника:\n",
    "* `id` - идентификатор записи\n",
    "* `object_id` - идентификатор сотрудника\n",
    "* `degree_type` - тип образования\n",
    "* `subject` - специальность\n",
    "\n",
    "Дополнительный датасет **`fund.csv`** содержит информацию о фондах:\n",
    "* `id` - идентификатор фонда\n",
    "* `name` - название фонда\n",
    "* `category_code` - категория области деятельности компании\n",
    "* `founded_at` - дата создания фонда\n",
    "* `domain` - сайт фонда\n",
    "* `network_username` - ник фонда в сети\n",
    "* `country_code` - код страны фонда\n",
    "* `investment_rounds` - число инвестиционных раундов\n",
    "* `invested_companies` - число профинансированных компаний\n",
    "* `milestones` - вехи финансирования\n",
    "\n",
    "Дополнительный датасет **`investment.csv`** содержит информацию о раундах инвестирования:\n",
    "* `id` - идентификатор этапа инвестирования\n",
    "* `funding_round_id` - идентификатор раунда инвестирования\n",
    "* `company_id` - идентификатор компании\n",
    "* `funding_round_type` - тип финансирования\n",
    "* `fund_id` - идентификатор фонда\n",
    "\n",
    "**Структура проекта:**\n",
    "1. Знакомство и первичная предобработка данных.\n",
    "2. Основная редобработка и первичное исследование.\n",
    "3. Исследовательский анализ.\n",
    "4. Выводы и рекомендации."
   ]
  },
  {
   "cell_type": "markdown",
   "metadata": {
    "id": "xqr6uttCrJg0"
   },
   "source": [
    "\n",
    "## Шаг 1. Знакомство с данными: загрузка и первичная предобработка\n",
    "### 1.1. Вывод общей информации, исправление названия столбцов\n"
   ]
  },
  {
   "cell_type": "markdown",
   "metadata": {},
   "source": [
    "Для начала загрузим все необходимые библиотеки для работы с датасетами:"
   ]
  },
  {
   "cell_type": "code",
   "execution_count": 2,
   "metadata": {},
   "outputs": [
    {
     "name": "stdout",
     "output_type": "stream",
     "text": [
      "Collecting phik\n",
      "  Downloading phik-0.12.4-cp39-cp39-manylinux_2_17_x86_64.manylinux2014_x86_64.whl (686 kB)\n",
      "\u001b[K     |████████████████████████████████| 686 kB 2.8 MB/s eta 0:00:01\n",
      "\u001b[?25hRequirement already satisfied: joblib>=0.14.1 in /opt/conda/lib/python3.9/site-packages (from phik) (1.1.0)\n",
      "Requirement already satisfied: matplotlib>=2.2.3 in /opt/conda/lib/python3.9/site-packages (from phik) (3.3.4)\n",
      "Requirement already satisfied: scipy>=1.5.2 in /opt/conda/lib/python3.9/site-packages (from phik) (1.9.1)\n",
      "Requirement already satisfied: numpy>=1.18.0 in /opt/conda/lib/python3.9/site-packages (from phik) (1.21.1)\n",
      "Requirement already satisfied: pandas>=0.25.1 in /opt/conda/lib/python3.9/site-packages (from phik) (1.2.4)\n",
      "Requirement already satisfied: pillow>=6.2.0 in /opt/conda/lib/python3.9/site-packages (from matplotlib>=2.2.3->phik) (8.4.0)\n",
      "Requirement already satisfied: pyparsing!=2.0.4,!=2.1.2,!=2.1.6,>=2.0.3 in /opt/conda/lib/python3.9/site-packages (from matplotlib>=2.2.3->phik) (2.4.7)\n",
      "Requirement already satisfied: cycler>=0.10 in /opt/conda/lib/python3.9/site-packages (from matplotlib>=2.2.3->phik) (0.11.0)\n",
      "Requirement already satisfied: kiwisolver>=1.0.1 in /opt/conda/lib/python3.9/site-packages (from matplotlib>=2.2.3->phik) (1.4.4)\n",
      "Requirement already satisfied: python-dateutil>=2.1 in /opt/conda/lib/python3.9/site-packages (from matplotlib>=2.2.3->phik) (2.8.1)\n",
      "Requirement already satisfied: pytz>=2017.3 in /opt/conda/lib/python3.9/site-packages (from pandas>=0.25.1->phik) (2021.1)\n",
      "Requirement already satisfied: six>=1.5 in /opt/conda/lib/python3.9/site-packages (from python-dateutil>=2.1->matplotlib>=2.2.3->phik) (1.16.0)\n",
      "Installing collected packages: phik\n",
      "Successfully installed phik-0.12.4\n"
     ]
    }
   ],
   "source": [
    "!pip install phik"
   ]
  },
  {
   "cell_type": "code",
   "execution_count": 3,
   "metadata": {},
   "outputs": [],
   "source": [
    "# Импортируем библиотеки\n",
    "import pandas as pd\n",
    "import numpy as np\n",
    "\n",
    "# Загружаем библиотеки для визуализации данных\n",
    "import matplotlib.pyplot as plt\n",
    "import seaborn as sns\n",
    "\n",
    "# Загружаем библиотеку для расчёта коэффициента корреляции phi_k\n",
    "from phik import phik_matrix"
   ]
  },
  {
   "cell_type": "markdown",
   "metadata": {},
   "source": [
    "Теперь загрузим датасеты для работы с проектом:"
   ]
  },
  {
   "cell_type": "code",
   "execution_count": 4,
   "metadata": {},
   "outputs": [],
   "source": [
    "# загрузка датасетов\n",
    "try:\n",
    "      acq_df  = pd.read_csv('https://code.s3.yandex.net/datasets/acquisition.csv')\n",
    "except:\n",
    "      display(\"Файл не найден\")\n",
    "try:\n",
    "      comp_df  = pd.read_csv('https://code.s3.yandex.net/datasets/company_and_rounds.csv')\n",
    "except:\n",
    "      display(\"Файл не найден\")\n",
    "try:\n",
    "      edu_df  = pd.read_csv('https://code.s3.yandex.net/datasets/education.csv')\n",
    "except:\n",
    "      display(\"Файл не найден\")\n",
    "try:\n",
    "      peop_df  = pd.read_csv('https://code.s3.yandex.net/datasets/people.csv')\n",
    "except:\n",
    "      display(\"Файл не найден\")\n",
    "try:\n",
    "      degrs_df = pd.read_csv('https://code.s3.yandex.net/datasets/degrees.csv')\n",
    "except:\n",
    "      display(\"Файл не найден\")\n",
    "# загрузка дополнительных датасетов\n",
    "try:\n",
    "      fund_df  = pd.read_csv('https://code.s3.yandex.net/datasets/fund.csv')\n",
    "except:\n",
    "      display(\"Файл не найден\")\n",
    "try:\n",
    "      invst_df  = pd.read_csv('https://code.s3.yandex.net/datasets/investment.csv')\n",
    "except:\n",
    "      display(\"Файл не найден\")\n"
   ]
  },
  {
   "cell_type": "markdown",
   "metadata": {},
   "source": [
    "Далее познакомимся с информацией в каждом столбце:"
   ]
  },
  {
   "cell_type": "code",
   "execution_count": 5,
   "metadata": {},
   "outputs": [
    {
     "data": {
      "text/html": [
       "<div>\n",
       "<style scoped>\n",
       "    .dataframe tbody tr th:only-of-type {\n",
       "        vertical-align: middle;\n",
       "    }\n",
       "\n",
       "    .dataframe tbody tr th {\n",
       "        vertical-align: top;\n",
       "    }\n",
       "\n",
       "    .dataframe thead th {\n",
       "        text-align: right;\n",
       "    }\n",
       "</style>\n",
       "<table border=\"1\" class=\"dataframe\">\n",
       "  <thead>\n",
       "    <tr style=\"text-align: right;\">\n",
       "      <th></th>\n",
       "      <th>id</th>\n",
       "      <th>acquiring_company_id</th>\n",
       "      <th>acquired_company_id</th>\n",
       "      <th>term_code</th>\n",
       "      <th>price_amount</th>\n",
       "      <th>acquired_at</th>\n",
       "    </tr>\n",
       "  </thead>\n",
       "  <tbody>\n",
       "    <tr>\n",
       "      <th>0</th>\n",
       "      <td>1</td>\n",
       "      <td>11</td>\n",
       "      <td>10</td>\n",
       "      <td>NaN</td>\n",
       "      <td>20000000</td>\n",
       "      <td>2007-05-30</td>\n",
       "    </tr>\n",
       "    <tr>\n",
       "      <th>1</th>\n",
       "      <td>7</td>\n",
       "      <td>59</td>\n",
       "      <td>72</td>\n",
       "      <td>cash</td>\n",
       "      <td>60000000</td>\n",
       "      <td>2007-07-01</td>\n",
       "    </tr>\n",
       "    <tr>\n",
       "      <th>2</th>\n",
       "      <td>8</td>\n",
       "      <td>24</td>\n",
       "      <td>132</td>\n",
       "      <td>cash</td>\n",
       "      <td>280000000</td>\n",
       "      <td>2007-05-01</td>\n",
       "    </tr>\n",
       "    <tr>\n",
       "      <th>3</th>\n",
       "      <td>9</td>\n",
       "      <td>59</td>\n",
       "      <td>155</td>\n",
       "      <td>cash</td>\n",
       "      <td>100000000</td>\n",
       "      <td>2007-06-01</td>\n",
       "    </tr>\n",
       "    <tr>\n",
       "      <th>4</th>\n",
       "      <td>10</td>\n",
       "      <td>212</td>\n",
       "      <td>215</td>\n",
       "      <td>cash</td>\n",
       "      <td>25000000</td>\n",
       "      <td>2007-07-01</td>\n",
       "    </tr>\n",
       "  </tbody>\n",
       "</table>\n",
       "</div>"
      ],
      "text/plain": [
       "   id  acquiring_company_id  acquired_company_id term_code  price_amount  \\\n",
       "0   1                    11                   10       NaN      20000000   \n",
       "1   7                    59                   72      cash      60000000   \n",
       "2   8                    24                  132      cash     280000000   \n",
       "3   9                    59                  155      cash     100000000   \n",
       "4  10                   212                  215      cash      25000000   \n",
       "\n",
       "  acquired_at  \n",
       "0  2007-05-30  \n",
       "1  2007-07-01  \n",
       "2  2007-05-01  \n",
       "3  2007-06-01  \n",
       "4  2007-07-01  "
      ]
     },
     "execution_count": 5,
     "metadata": {},
     "output_type": "execute_result"
    }
   ],
   "source": [
    "#загружаем информацию из датафрейма acquisition.csv\n",
    "acq_df.head()"
   ]
  },
  {
   "cell_type": "code",
   "execution_count": 6,
   "metadata": {},
   "outputs": [
    {
     "data": {
      "text/html": [
       "<div>\n",
       "<style scoped>\n",
       "    .dataframe tbody tr th:only-of-type {\n",
       "        vertical-align: middle;\n",
       "    }\n",
       "\n",
       "    .dataframe tbody tr th {\n",
       "        vertical-align: top;\n",
       "    }\n",
       "\n",
       "    .dataframe thead th {\n",
       "        text-align: right;\n",
       "    }\n",
       "</style>\n",
       "<table border=\"1\" class=\"dataframe\">\n",
       "  <thead>\n",
       "    <tr style=\"text-align: right;\">\n",
       "      <th></th>\n",
       "      <th>company  ID</th>\n",
       "      <th>name</th>\n",
       "      <th>category  code</th>\n",
       "      <th>status</th>\n",
       "      <th>founded  at</th>\n",
       "      <th>closed  at</th>\n",
       "      <th>domain</th>\n",
       "      <th>network  username</th>\n",
       "      <th>country  code</th>\n",
       "      <th>investment  rounds</th>\n",
       "      <th>...</th>\n",
       "      <th>milestones</th>\n",
       "      <th>funding  round  id</th>\n",
       "      <th>company  id</th>\n",
       "      <th>funded  at</th>\n",
       "      <th>funding  round  type</th>\n",
       "      <th>raised  amount</th>\n",
       "      <th>pre  money  valuation</th>\n",
       "      <th>participants</th>\n",
       "      <th>is  first  round</th>\n",
       "      <th>is  last  round</th>\n",
       "    </tr>\n",
       "  </thead>\n",
       "  <tbody>\n",
       "    <tr>\n",
       "      <th>0</th>\n",
       "      <td>1.0</td>\n",
       "      <td>Wetpaint</td>\n",
       "      <td>web</td>\n",
       "      <td>operating</td>\n",
       "      <td>2005-10-17</td>\n",
       "      <td>NaN</td>\n",
       "      <td>wetpaint-inc.com</td>\n",
       "      <td>BachelrWetpaint</td>\n",
       "      <td>USA</td>\n",
       "      <td>0.0</td>\n",
       "      <td>...</td>\n",
       "      <td>5.0</td>\n",
       "      <td>888.0</td>\n",
       "      <td>1.0</td>\n",
       "      <td>2005-10-01</td>\n",
       "      <td>series-a</td>\n",
       "      <td>5250000.0</td>\n",
       "      <td>0.0</td>\n",
       "      <td>2.0</td>\n",
       "      <td>0.0</td>\n",
       "      <td>1.0</td>\n",
       "    </tr>\n",
       "    <tr>\n",
       "      <th>1</th>\n",
       "      <td>1.0</td>\n",
       "      <td>Wetpaint</td>\n",
       "      <td>web</td>\n",
       "      <td>operating</td>\n",
       "      <td>2005-10-17</td>\n",
       "      <td>NaN</td>\n",
       "      <td>wetpaint-inc.com</td>\n",
       "      <td>BachelrWetpaint</td>\n",
       "      <td>USA</td>\n",
       "      <td>0.0</td>\n",
       "      <td>...</td>\n",
       "      <td>5.0</td>\n",
       "      <td>889.0</td>\n",
       "      <td>1.0</td>\n",
       "      <td>2007-01-01</td>\n",
       "      <td>series-b</td>\n",
       "      <td>9500000.0</td>\n",
       "      <td>0.0</td>\n",
       "      <td>3.0</td>\n",
       "      <td>0.0</td>\n",
       "      <td>0.0</td>\n",
       "    </tr>\n",
       "    <tr>\n",
       "      <th>2</th>\n",
       "      <td>1.0</td>\n",
       "      <td>Wetpaint</td>\n",
       "      <td>web</td>\n",
       "      <td>operating</td>\n",
       "      <td>2005-10-17</td>\n",
       "      <td>NaN</td>\n",
       "      <td>wetpaint-inc.com</td>\n",
       "      <td>BachelrWetpaint</td>\n",
       "      <td>USA</td>\n",
       "      <td>0.0</td>\n",
       "      <td>...</td>\n",
       "      <td>5.0</td>\n",
       "      <td>2312.0</td>\n",
       "      <td>1.0</td>\n",
       "      <td>2008-05-19</td>\n",
       "      <td>series-c+</td>\n",
       "      <td>25000000.0</td>\n",
       "      <td>0.0</td>\n",
       "      <td>4.0</td>\n",
       "      <td>1.0</td>\n",
       "      <td>0.0</td>\n",
       "    </tr>\n",
       "    <tr>\n",
       "      <th>3</th>\n",
       "      <td>10.0</td>\n",
       "      <td>Flektor</td>\n",
       "      <td>games_video</td>\n",
       "      <td>acquired</td>\n",
       "      <td>NaN</td>\n",
       "      <td>NaN</td>\n",
       "      <td>flektor.com</td>\n",
       "      <td>NaN</td>\n",
       "      <td>USA</td>\n",
       "      <td>0.0</td>\n",
       "      <td>...</td>\n",
       "      <td>0.0</td>\n",
       "      <td>NaN</td>\n",
       "      <td>NaN</td>\n",
       "      <td>NaN</td>\n",
       "      <td>NaN</td>\n",
       "      <td>NaN</td>\n",
       "      <td>NaN</td>\n",
       "      <td>NaN</td>\n",
       "      <td>NaN</td>\n",
       "      <td>NaN</td>\n",
       "    </tr>\n",
       "    <tr>\n",
       "      <th>4</th>\n",
       "      <td>100.0</td>\n",
       "      <td>There</td>\n",
       "      <td>games_video</td>\n",
       "      <td>acquired</td>\n",
       "      <td>NaN</td>\n",
       "      <td>NaN</td>\n",
       "      <td>there.com</td>\n",
       "      <td>NaN</td>\n",
       "      <td>USA</td>\n",
       "      <td>0.0</td>\n",
       "      <td>...</td>\n",
       "      <td>4.0</td>\n",
       "      <td>NaN</td>\n",
       "      <td>NaN</td>\n",
       "      <td>NaN</td>\n",
       "      <td>NaN</td>\n",
       "      <td>NaN</td>\n",
       "      <td>NaN</td>\n",
       "      <td>NaN</td>\n",
       "      <td>NaN</td>\n",
       "      <td>NaN</td>\n",
       "    </tr>\n",
       "  </tbody>\n",
       "</table>\n",
       "<p>5 rows × 22 columns</p>\n",
       "</div>"
      ],
      "text/plain": [
       "   company  ID      name category  code     status founded  at closed  at  \\\n",
       "0          1.0  Wetpaint            web  operating  2005-10-17        NaN   \n",
       "1          1.0  Wetpaint            web  operating  2005-10-17        NaN   \n",
       "2          1.0  Wetpaint            web  operating  2005-10-17        NaN   \n",
       "3         10.0   Flektor    games_video   acquired         NaN        NaN   \n",
       "4        100.0     There    games_video   acquired         NaN        NaN   \n",
       "\n",
       "             domain network  username country  code  investment  rounds  ...  \\\n",
       "0  wetpaint-inc.com   BachelrWetpaint           USA                 0.0  ...   \n",
       "1  wetpaint-inc.com   BachelrWetpaint           USA                 0.0  ...   \n",
       "2  wetpaint-inc.com   BachelrWetpaint           USA                 0.0  ...   \n",
       "3       flektor.com               NaN           USA                 0.0  ...   \n",
       "4         there.com               NaN           USA                 0.0  ...   \n",
       "\n",
       "   milestones  funding  round  id  company  id  funded  at  \\\n",
       "0         5.0               888.0          1.0  2005-10-01   \n",
       "1         5.0               889.0          1.0  2007-01-01   \n",
       "2         5.0              2312.0          1.0  2008-05-19   \n",
       "3         0.0                 NaN          NaN         NaN   \n",
       "4         4.0                 NaN          NaN         NaN   \n",
       "\n",
       "   funding  round  type raised  amount pre  money  valuation  participants  \\\n",
       "0              series-a      5250000.0                   0.0           2.0   \n",
       "1              series-b      9500000.0                   0.0           3.0   \n",
       "2             series-c+     25000000.0                   0.0           4.0   \n",
       "3                   NaN            NaN                   NaN           NaN   \n",
       "4                   NaN            NaN                   NaN           NaN   \n",
       "\n",
       "   is  first  round  is  last  round  \n",
       "0               0.0              1.0  \n",
       "1               0.0              0.0  \n",
       "2               1.0              0.0  \n",
       "3               NaN              NaN  \n",
       "4               NaN              NaN  \n",
       "\n",
       "[5 rows x 22 columns]"
      ]
     },
     "execution_count": 6,
     "metadata": {},
     "output_type": "execute_result"
    }
   ],
   "source": [
    "#загружаем информацию из датафрейма company_and_rounds.csv\n",
    "comp_df.head()"
   ]
  },
  {
   "cell_type": "markdown",
   "metadata": {},
   "source": [
    "Столбцы не приведены к стилю `snake case`, поэтому следует из обработать"
   ]
  },
  {
   "cell_type": "code",
   "execution_count": 7,
   "metadata": {},
   "outputs": [
    {
     "data": {
      "text/html": [
       "<div>\n",
       "<style scoped>\n",
       "    .dataframe tbody tr th:only-of-type {\n",
       "        vertical-align: middle;\n",
       "    }\n",
       "\n",
       "    .dataframe tbody tr th {\n",
       "        vertical-align: top;\n",
       "    }\n",
       "\n",
       "    .dataframe thead th {\n",
       "        text-align: right;\n",
       "    }\n",
       "</style>\n",
       "<table border=\"1\" class=\"dataframe\">\n",
       "  <thead>\n",
       "    <tr style=\"text-align: right;\">\n",
       "      <th></th>\n",
       "      <th>id</th>\n",
       "      <th>person_id</th>\n",
       "      <th>instituition</th>\n",
       "      <th>graduated_at</th>\n",
       "    </tr>\n",
       "  </thead>\n",
       "  <tbody>\n",
       "    <tr>\n",
       "      <th>0</th>\n",
       "      <td>1</td>\n",
       "      <td>6117</td>\n",
       "      <td>NaN</td>\n",
       "      <td>NaN</td>\n",
       "    </tr>\n",
       "    <tr>\n",
       "      <th>1</th>\n",
       "      <td>2</td>\n",
       "      <td>6136</td>\n",
       "      <td>Washington University, St. Louis</td>\n",
       "      <td>1990-01-01</td>\n",
       "    </tr>\n",
       "    <tr>\n",
       "      <th>2</th>\n",
       "      <td>3</td>\n",
       "      <td>6136</td>\n",
       "      <td>Boston University</td>\n",
       "      <td>1992-01-01</td>\n",
       "    </tr>\n",
       "    <tr>\n",
       "      <th>3</th>\n",
       "      <td>4</td>\n",
       "      <td>6005</td>\n",
       "      <td>University of Greenwich</td>\n",
       "      <td>2006-01-01</td>\n",
       "    </tr>\n",
       "    <tr>\n",
       "      <th>4</th>\n",
       "      <td>5</td>\n",
       "      <td>5832</td>\n",
       "      <td>Rice University</td>\n",
       "      <td>NaN</td>\n",
       "    </tr>\n",
       "  </tbody>\n",
       "</table>\n",
       "</div>"
      ],
      "text/plain": [
       "   id  person_id                      instituition graduated_at\n",
       "0   1       6117                               NaN          NaN\n",
       "1   2       6136  Washington University, St. Louis   1990-01-01\n",
       "2   3       6136                 Boston University   1992-01-01\n",
       "3   4       6005           University of Greenwich   2006-01-01\n",
       "4   5       5832                   Rice University          NaN"
      ]
     },
     "execution_count": 7,
     "metadata": {},
     "output_type": "execute_result"
    }
   ],
   "source": [
    "#загружаем информацию из датафрейма education.csv\n",
    "edu_df.head()"
   ]
  },
  {
   "cell_type": "code",
   "execution_count": 8,
   "metadata": {},
   "outputs": [
    {
     "data": {
      "text/html": [
       "<div>\n",
       "<style scoped>\n",
       "    .dataframe tbody tr th:only-of-type {\n",
       "        vertical-align: middle;\n",
       "    }\n",
       "\n",
       "    .dataframe tbody tr th {\n",
       "        vertical-align: top;\n",
       "    }\n",
       "\n",
       "    .dataframe thead th {\n",
       "        text-align: right;\n",
       "    }\n",
       "</style>\n",
       "<table border=\"1\" class=\"dataframe\">\n",
       "  <thead>\n",
       "    <tr style=\"text-align: right;\">\n",
       "      <th></th>\n",
       "      <th>id</th>\n",
       "      <th>first_name</th>\n",
       "      <th>last_name</th>\n",
       "      <th>company_id</th>\n",
       "      <th>network_username</th>\n",
       "    </tr>\n",
       "  </thead>\n",
       "  <tbody>\n",
       "    <tr>\n",
       "      <th>0</th>\n",
       "      <td>10</td>\n",
       "      <td>Mark</td>\n",
       "      <td>Zuckerberg</td>\n",
       "      <td>5.0</td>\n",
       "      <td>NaN</td>\n",
       "    </tr>\n",
       "    <tr>\n",
       "      <th>1</th>\n",
       "      <td>100</td>\n",
       "      <td>Peter</td>\n",
       "      <td>Lester</td>\n",
       "      <td>27.0</td>\n",
       "      <td>NaN</td>\n",
       "    </tr>\n",
       "    <tr>\n",
       "      <th>2</th>\n",
       "      <td>1000</td>\n",
       "      <td>Dr. Steven</td>\n",
       "      <td>E. Saunders</td>\n",
       "      <td>292.0</td>\n",
       "      <td>NaN</td>\n",
       "    </tr>\n",
       "    <tr>\n",
       "      <th>3</th>\n",
       "      <td>10000</td>\n",
       "      <td>Neil</td>\n",
       "      <td>Capel</td>\n",
       "      <td>2526.0</td>\n",
       "      <td>NaN</td>\n",
       "    </tr>\n",
       "    <tr>\n",
       "      <th>4</th>\n",
       "      <td>100000</td>\n",
       "      <td>Sue</td>\n",
       "      <td>Pilsch</td>\n",
       "      <td>NaN</td>\n",
       "      <td>NaN</td>\n",
       "    </tr>\n",
       "  </tbody>\n",
       "</table>\n",
       "</div>"
      ],
      "text/plain": [
       "       id  first_name    last_name  company_id network_username\n",
       "0      10        Mark   Zuckerberg         5.0              NaN\n",
       "1     100       Peter       Lester        27.0              NaN\n",
       "2    1000  Dr. Steven  E. Saunders       292.0              NaN\n",
       "3   10000        Neil        Capel      2526.0              NaN\n",
       "4  100000         Sue       Pilsch         NaN              NaN"
      ]
     },
     "execution_count": 8,
     "metadata": {},
     "output_type": "execute_result"
    }
   ],
   "source": [
    "#загружаем информацию из датафрейма people.csv\n",
    "peop_df.head()"
   ]
  },
  {
   "cell_type": "code",
   "execution_count": 9,
   "metadata": {},
   "outputs": [
    {
     "data": {
      "text/html": [
       "<div>\n",
       "<style scoped>\n",
       "    .dataframe tbody tr th:only-of-type {\n",
       "        vertical-align: middle;\n",
       "    }\n",
       "\n",
       "    .dataframe tbody tr th {\n",
       "        vertical-align: top;\n",
       "    }\n",
       "\n",
       "    .dataframe thead th {\n",
       "        text-align: right;\n",
       "    }\n",
       "</style>\n",
       "<table border=\"1\" class=\"dataframe\">\n",
       "  <thead>\n",
       "    <tr style=\"text-align: right;\">\n",
       "      <th></th>\n",
       "      <th>id</th>\n",
       "      <th>object_id</th>\n",
       "      <th>degree_type</th>\n",
       "      <th>subject</th>\n",
       "    </tr>\n",
       "  </thead>\n",
       "  <tbody>\n",
       "    <tr>\n",
       "      <th>0</th>\n",
       "      <td>1</td>\n",
       "      <td>p:6117</td>\n",
       "      <td>MBA</td>\n",
       "      <td>NaN</td>\n",
       "    </tr>\n",
       "    <tr>\n",
       "      <th>1</th>\n",
       "      <td>2</td>\n",
       "      <td>p:6136</td>\n",
       "      <td>BA</td>\n",
       "      <td>English, French</td>\n",
       "    </tr>\n",
       "    <tr>\n",
       "      <th>2</th>\n",
       "      <td>3</td>\n",
       "      <td>p:6136</td>\n",
       "      <td>MS</td>\n",
       "      <td>Mass Communication</td>\n",
       "    </tr>\n",
       "    <tr>\n",
       "      <th>3</th>\n",
       "      <td>4</td>\n",
       "      <td>p:6005</td>\n",
       "      <td>MS</td>\n",
       "      <td>Internet Technology</td>\n",
       "    </tr>\n",
       "    <tr>\n",
       "      <th>4</th>\n",
       "      <td>5</td>\n",
       "      <td>p:5832</td>\n",
       "      <td>BCS</td>\n",
       "      <td>Computer Science, Psychology</td>\n",
       "    </tr>\n",
       "  </tbody>\n",
       "</table>\n",
       "</div>"
      ],
      "text/plain": [
       "   id object_id degree_type                       subject\n",
       "0   1    p:6117         MBA                           NaN\n",
       "1   2    p:6136          BA               English, French\n",
       "2   3    p:6136          MS            Mass Communication\n",
       "3   4    p:6005          MS           Internet Technology\n",
       "4   5    p:5832         BCS  Computer Science, Psychology"
      ]
     },
     "execution_count": 9,
     "metadata": {},
     "output_type": "execute_result"
    }
   ],
   "source": [
    "#загружаем информацию из датафрейма degrees.csv\n",
    "degrs_df.head()"
   ]
  },
  {
   "cell_type": "markdown",
   "metadata": {},
   "source": [
    "Теперь проанализируем основную информацию каждого датафрейма:"
   ]
  },
  {
   "cell_type": "code",
   "execution_count": 10,
   "metadata": {},
   "outputs": [
    {
     "name": "stdout",
     "output_type": "stream",
     "text": [
      "<class 'pandas.core.frame.DataFrame'>\n",
      "RangeIndex: 9407 entries, 0 to 9406\n",
      "Data columns (total 6 columns):\n",
      " #   Column                Non-Null Count  Dtype \n",
      "---  ------                --------------  ----- \n",
      " 0   id                    9407 non-null   int64 \n",
      " 1   acquiring_company_id  9407 non-null   int64 \n",
      " 2   acquired_company_id   9407 non-null   int64 \n",
      " 3   term_code             1831 non-null   object\n",
      " 4   price_amount          9407 non-null   int64 \n",
      " 5   acquired_at           9378 non-null   object\n",
      "dtypes: int64(4), object(2)\n",
      "memory usage: 441.1+ KB\n"
     ]
    }
   ],
   "source": [
    "#загружаем информацию датафрейма acquisition.csv\n",
    "acq_df.info()"
   ]
  },
  {
   "cell_type": "markdown",
   "metadata": {},
   "source": [
    "Видно, что много пропусков в столбце `term_code`и столбец `acquired_at` должен быть тип datetime, а не object"
   ]
  },
  {
   "cell_type": "code",
   "execution_count": 11,
   "metadata": {},
   "outputs": [
    {
     "name": "stdout",
     "output_type": "stream",
     "text": [
      "<class 'pandas.core.frame.DataFrame'>\n",
      "RangeIndex: 217774 entries, 0 to 217773\n",
      "Data columns (total 22 columns):\n",
      " #   Column                 Non-Null Count   Dtype  \n",
      "---  ------                 --------------   -----  \n",
      " 0   company  ID            217472 non-null  float64\n",
      " 1   name                   217472 non-null  object \n",
      " 2   category  code         143886 non-null  object \n",
      " 3   status                 217472 non-null  object \n",
      " 4   founded  at            109956 non-null  object \n",
      " 5   closed  at             3449 non-null    object \n",
      " 6   domain                 147159 non-null  object \n",
      " 7   network  username      95534 non-null   object \n",
      " 8   country  code          108607 non-null  object \n",
      " 9   investment  rounds     217472 non-null  float64\n",
      " 10  funding  rounds        217472 non-null  float64\n",
      " 11  funding  total         217472 non-null  float64\n",
      " 12  milestones             217472 non-null  float64\n",
      " 13  funding  round  id     52928 non-null   float64\n",
      " 14  company  id            52928 non-null   float64\n",
      " 15  funded  at             52680 non-null   object \n",
      " 16  funding  round  type   52928 non-null   object \n",
      " 17  raised  amount         52928 non-null   float64\n",
      " 18  pre  money  valuation  52928 non-null   float64\n",
      " 19  participants           52928 non-null   float64\n",
      " 20  is  first  round       52928 non-null   float64\n",
      " 21  is  last  round        52928 non-null   float64\n",
      "dtypes: float64(12), object(10)\n",
      "memory usage: 36.6+ MB\n"
     ]
    }
   ],
   "source": [
    "#загружаем информацию датафрейма company_and_rounds.csv\n",
    "comp_df.info()"
   ]
  },
  {
   "cell_type": "markdown",
   "metadata": {},
   "source": [
    "Заметим некую трудность в полноте данных в этом датафрейме. Во многих столбцах присутствует большое количество пропусков. Также тип данных подобран неверно. `company ID`, `company id`, `investment rounds`, `funding  rounds`, `milestones` должны иметь целочисленный тип, `founded at`, `closed at`, `funded at` - тип даты; Трудность о которой можно сказать, скорее всего вызвана ранними манипуляциями над этим датафреймом. Например, можно предположить, что он создан присоедининием двух датафреймов, так как количество пропусков в столбцах примерно похоже"
   ]
  },
  {
   "cell_type": "code",
   "execution_count": 12,
   "metadata": {},
   "outputs": [
    {
     "name": "stdout",
     "output_type": "stream",
     "text": [
      "<class 'pandas.core.frame.DataFrame'>\n",
      "RangeIndex: 109610 entries, 0 to 109609\n",
      "Data columns (total 4 columns):\n",
      " #   Column        Non-Null Count   Dtype \n",
      "---  ------        --------------   ----- \n",
      " 0   id            109610 non-null  int64 \n",
      " 1   person_id     109610 non-null  int64 \n",
      " 2   instituition  109555 non-null  object\n",
      " 3   graduated_at  58054 non-null   object\n",
      "dtypes: int64(2), object(2)\n",
      "memory usage: 3.3+ MB\n"
     ]
    }
   ],
   "source": [
    "#загружаем информацию датафрейма education.csv\n",
    "edu_df.info()"
   ]
  },
  {
   "cell_type": "markdown",
   "metadata": {},
   "source": [
    "Можно увидеть большое количество пропусков в столбце с датой получения образования и то, что тип данных выбран object, а не date для данного столбца"
   ]
  },
  {
   "cell_type": "code",
   "execution_count": 13,
   "metadata": {},
   "outputs": [
    {
     "name": "stdout",
     "output_type": "stream",
     "text": [
      "<class 'pandas.core.frame.DataFrame'>\n",
      "RangeIndex: 226709 entries, 0 to 226708\n",
      "Data columns (total 5 columns):\n",
      " #   Column            Non-Null Count   Dtype  \n",
      "---  ------            --------------   -----  \n",
      " 0   id                226709 non-null  int64  \n",
      " 1   first_name        226704 non-null  object \n",
      " 2   last_name         226708 non-null  object \n",
      " 3   company_id        34615 non-null   float64\n",
      " 4   network_username  38867 non-null   object \n",
      "dtypes: float64(1), int64(1), object(3)\n",
      "memory usage: 8.6+ MB\n"
     ]
    }
   ],
   "source": [
    "#загружаем информацию датафрейма people.csv\n",
    "peop_df.info()"
   ]
  },
  {
   "cell_type": "markdown",
   "metadata": {},
   "source": [
    "Видно, что малая часть пропусков присутствует в столбце с именем и фамилией сотрудников, но существенная часть в колонках `company_id` и `network_username`. Кроме того, тип данных у `company_id` лучше привести к целочисленному типу"
   ]
  },
  {
   "cell_type": "code",
   "execution_count": 14,
   "metadata": {},
   "outputs": [
    {
     "name": "stdout",
     "output_type": "stream",
     "text": [
      "<class 'pandas.core.frame.DataFrame'>\n",
      "RangeIndex: 109610 entries, 0 to 109609\n",
      "Data columns (total 4 columns):\n",
      " #   Column       Non-Null Count   Dtype \n",
      "---  ------       --------------   ----- \n",
      " 0   id           109610 non-null  int64 \n",
      " 1   object_id    109610 non-null  object\n",
      " 2   degree_type  98392 non-null   object\n",
      " 3   subject      81298 non-null   object\n",
      "dtypes: int64(1), object(3)\n",
      "memory usage: 3.3+ MB\n"
     ]
    }
   ],
   "source": [
    "#загружаем информацию датафрейма degrees.csv\n",
    "degrs_df.info()"
   ]
  },
  {
   "cell_type": "markdown",
   "metadata": {},
   "source": [
    "Видно немалое количество пропусков в столбцах с типом образования и специальностью"
   ]
  },
  {
   "cell_type": "markdown",
   "metadata": {},
   "source": [
    "Для полного анализа данных перед предобработкой стоит проанализировать также наличие дубликатов в датафреймах:"
   ]
  },
  {
   "cell_type": "code",
   "execution_count": 15,
   "metadata": {},
   "outputs": [
    {
     "data": {
      "text/plain": [
       "'Количество полных дубликатов acq_df:'"
      ]
     },
     "metadata": {},
     "output_type": "display_data"
    },
    {
     "data": {
      "text/plain": [
       "0"
      ]
     },
     "metadata": {},
     "output_type": "display_data"
    },
    {
     "data": {
      "text/plain": [
       "'Количество полных дубликатов comp_df:'"
      ]
     },
     "metadata": {},
     "output_type": "display_data"
    },
    {
     "data": {
      "text/plain": [
       "0"
      ]
     },
     "metadata": {},
     "output_type": "display_data"
    },
    {
     "data": {
      "text/plain": [
       "'Количество полных дубликатов edu_df:'"
      ]
     },
     "metadata": {},
     "output_type": "display_data"
    },
    {
     "data": {
      "text/plain": [
       "0"
      ]
     },
     "metadata": {},
     "output_type": "display_data"
    },
    {
     "data": {
      "text/plain": [
       "'Количество полных дубликатов peop_df:'"
      ]
     },
     "metadata": {},
     "output_type": "display_data"
    },
    {
     "data": {
      "text/plain": [
       "0"
      ]
     },
     "metadata": {},
     "output_type": "display_data"
    },
    {
     "data": {
      "text/plain": [
       "'Количество полных дубликатов degrs_df:'"
      ]
     },
     "metadata": {},
     "output_type": "display_data"
    },
    {
     "data": {
      "text/plain": [
       "0"
      ]
     },
     "metadata": {},
     "output_type": "display_data"
    }
   ],
   "source": [
    "display('Количество полных дубликатов acq_df:', acq_df.duplicated().sum())\n",
    "display('Количество полных дубликатов comp_df:', comp_df.duplicated().sum())\n",
    "display('Количество полных дубликатов edu_df:', edu_df.duplicated().sum())\n",
    "display('Количество полных дубликатов peop_df:', peop_df.duplicated().sum())\n",
    "display('Количество полных дубликатов degrs_df:', degrs_df.duplicated().sum())"
   ]
  },
  {
   "cell_type": "markdown",
   "metadata": {},
   "source": [
    "Пропусков не обнаружено, перейдем к предообработки данных"
   ]
  },
  {
   "cell_type": "markdown",
   "metadata": {
    "id": "mg2gEwh0rJg0"
   },
   "source": [
    "### 1.2. Смена типов и анализ пропусков\n",
    "\n"
   ]
  },
  {
   "cell_type": "markdown",
   "metadata": {
    "id": "FsL0A8RBrJg1"
   },
   "source": [
    "Для начала обработаем все неправильные типы данных у столбцов:"
   ]
  },
  {
   "cell_type": "code",
   "execution_count": 16,
   "metadata": {
    "id": "5Sg2O8zNnzKc"
   },
   "outputs": [],
   "source": [
    "# меняем тип данных в датафрейме acq_df\n",
    "acq_df['acquired_at'] = pd.to_datetime(acq_df['acquired_at'])"
   ]
  },
  {
   "cell_type": "code",
   "execution_count": 17,
   "metadata": {},
   "outputs": [
    {
     "data": {
      "text/plain": [
       "id                               int64\n",
       "acquiring_company_id             int64\n",
       "acquired_company_id              int64\n",
       "term_code                       object\n",
       "price_amount                     int64\n",
       "acquired_at             datetime64[ns]\n",
       "dtype: object"
      ]
     },
     "execution_count": 17,
     "metadata": {},
     "output_type": "execute_result"
    }
   ],
   "source": [
    "acq_df.dtypes"
   ]
  },
  {
   "cell_type": "code",
   "execution_count": 18,
   "metadata": {},
   "outputs": [],
   "source": [
    "# меняем тип данных в датафрейме comp_df\n",
    "for col in ['founded  at', 'closed  at', 'funded  at']:\n",
    "    comp_df[col] = pd.to_datetime(comp_df[col])"
   ]
  },
  {
   "cell_type": "code",
   "execution_count": 19,
   "metadata": {},
   "outputs": [
    {
     "data": {
      "text/plain": [
       "company  ID                     float64\n",
       "name                             object\n",
       "category  code                   object\n",
       "status                           object\n",
       "founded  at              datetime64[ns]\n",
       "closed  at               datetime64[ns]\n",
       "domain                           object\n",
       "network  username                object\n",
       "country  code                    object\n",
       "investment  rounds              float64\n",
       "funding  rounds                 float64\n",
       "funding  total                  float64\n",
       "milestones                      float64\n",
       "funding  round  id              float64\n",
       "company  id                     float64\n",
       "funded  at               datetime64[ns]\n",
       "funding  round  type             object\n",
       "raised  amount                  float64\n",
       "pre  money  valuation           float64\n",
       "participants                    float64\n",
       "is  first  round                float64\n",
       "is  last  round                 float64\n",
       "dtype: object"
      ]
     },
     "execution_count": 19,
     "metadata": {},
     "output_type": "execute_result"
    }
   ],
   "source": [
    "comp_df.dtypes"
   ]
  },
  {
   "cell_type": "code",
   "execution_count": 20,
   "metadata": {},
   "outputs": [],
   "source": [
    "# меняем тип данных в датафрейме education\n",
    "edu_df['graduated_at'] = pd.to_datetime(edu_df['graduated_at'])"
   ]
  },
  {
   "cell_type": "code",
   "execution_count": 21,
   "metadata": {},
   "outputs": [
    {
     "data": {
      "text/plain": [
       "id                       int64\n",
       "person_id                int64\n",
       "instituition            object\n",
       "graduated_at    datetime64[ns]\n",
       "dtype: object"
      ]
     },
     "execution_count": 21,
     "metadata": {},
     "output_type": "execute_result"
    }
   ],
   "source": [
    "edu_df.dtypes"
   ]
  },
  {
   "cell_type": "markdown",
   "metadata": {},
   "source": [
    "Типы данных в датафреймах теперь имеею корректный формат"
   ]
  },
  {
   "cell_type": "markdown",
   "metadata": {},
   "source": [
    "Далее проведем обработку названий столбцов в датафрейме `comp_df`"
   ]
  },
  {
   "cell_type": "code",
   "execution_count": 22,
   "metadata": {},
   "outputs": [],
   "source": [
    "#приводим названия столбцов comp_df к виду snake case:\n",
    "comp_df=comp_df.rename(columns={'company  ID':'company_ID',\n",
    "                                    'category  code':'category_code',\n",
    "                                    'founded  at':'founded_at',\n",
    "                                    'closed  at':'closed_at',\n",
    "                                    'network  username':'network_username',\n",
    "                                    'country  code':'country_code',\n",
    "                                    'investment  rounds':'investment_rounds',\n",
    "                                    'funding  rounds':'funding_rounds',\n",
    "                                    'funding  total':'funding_total',\n",
    "                                    'funding  round  id':'funding_round_id',\n",
    "                                    'company  id':'company_id',\n",
    "                                    'funded  at':'funded_at',\n",
    "                                    'funding  round  type':'funding_round_type',\n",
    "                                    'raised  amount':'raised_amount',\n",
    "                                    'pre  money  valuation':'pre_money_valuation',\n",
    "                                    'is  first  round':'is_first_round',\n",
    "                                    'is  last  round':'is_last_round'\n",
    "                                   })"
   ]
  },
  {
   "cell_type": "code",
   "execution_count": 23,
   "metadata": {},
   "outputs": [
    {
     "data": {
      "text/plain": [
       "Index(['company_ID', 'name', 'category_code', 'status', 'founded_at',\n",
       "       'closed_at', 'domain', 'network_username', 'country_code',\n",
       "       'investment_rounds', 'funding_rounds', 'funding_total', 'milestones',\n",
       "       'funding_round_id', 'company_id', 'funded_at', 'funding_round_type',\n",
       "       'raised_amount', 'pre_money_valuation', 'participants',\n",
       "       'is_first_round', 'is_last_round'],\n",
       "      dtype='object')"
      ]
     },
     "execution_count": 23,
     "metadata": {},
     "output_type": "execute_result"
    }
   ],
   "source": [
    "comp_df.columns"
   ]
  },
  {
   "cell_type": "markdown",
   "metadata": {},
   "source": [
    "Далее стоит оценить полноту данных - сделаем предварительный вывод, достаточно ли данных для решения задач проекта."
   ]
  },
  {
   "cell_type": "code",
   "execution_count": 24,
   "metadata": {},
   "outputs": [
    {
     "data": {
      "text/plain": [
       "term_code               0.805358\n",
       "acquired_at             0.003083\n",
       "id                      0.000000\n",
       "acquiring_company_id    0.000000\n",
       "acquired_company_id     0.000000\n",
       "price_amount            0.000000\n",
       "dtype: float64"
      ]
     },
     "execution_count": 24,
     "metadata": {},
     "output_type": "execute_result"
    }
   ],
   "source": [
    "# рассчитаем долю пропусков в acq_df\n",
    "(acq_df.isna().sum() / acq_df.shape[0]).sort_values(ascending=False)"
   ]
  },
  {
   "cell_type": "markdown",
   "metadata": {},
   "source": [
    "Данный датафрейм можно оценить как достаточно полный для анализа. Есть только один момент с пропусками в столбце `term_code` - 81%, в котором находится информация о вариантах расчета.Данные столбец не будет сильно важна для дальнейшего анализа."
   ]
  },
  {
   "cell_type": "code",
   "execution_count": 25,
   "metadata": {},
   "outputs": [
    {
     "data": {
      "text/plain": [
       "closed_at              0.984162\n",
       "funded_at              0.758098\n",
       "is_last_round          0.756959\n",
       "is_first_round         0.756959\n",
       "participants           0.756959\n",
       "pre_money_valuation    0.756959\n",
       "raised_amount          0.756959\n",
       "funding_round_type     0.756959\n",
       "funding_round_id       0.756959\n",
       "company_id             0.756959\n",
       "network_username       0.561316\n",
       "country_code           0.501286\n",
       "founded_at             0.495091\n",
       "category_code          0.339288\n",
       "domain                 0.324258\n",
       "company_ID             0.001387\n",
       "milestones             0.001387\n",
       "name                   0.001387\n",
       "funding_rounds         0.001387\n",
       "investment_rounds      0.001387\n",
       "status                 0.001387\n",
       "funding_total          0.001387\n",
       "dtype: float64"
      ]
     },
     "execution_count": 25,
     "metadata": {},
     "output_type": "execute_result"
    }
   ],
   "source": [
    "# рассчитаем долю пропусков в comp_df\n",
    "(comp_df.isna().sum() / comp_df.shape[0]).sort_values(ascending=False)"
   ]
  },
  {
   "cell_type": "markdown",
   "metadata": {},
   "source": [
    "Видно,что большое количество пропусков в важных для дальнейшего анализа данных столбцах - это `funding round type`, `participants`, `raised_amount`, `funding_round_id`, `company_id` - у всех доля пропусков составляет около 76% по всем строкам. Необходимо понять с чем связана подобная ситуация, либо ввести определенную стратегию по дальнейшему анализу данных, приняв эти пропуски."
   ]
  },
  {
   "cell_type": "code",
   "execution_count": 26,
   "metadata": {},
   "outputs": [
    {
     "data": {
      "text/plain": [
       "graduated_at    0.470359\n",
       "instituition    0.000502\n",
       "id              0.000000\n",
       "person_id       0.000000\n",
       "dtype: float64"
      ]
     },
     "execution_count": 26,
     "metadata": {},
     "output_type": "execute_result"
    }
   ],
   "source": [
    "# рассчитаем долю пропусков в edu_df\n",
    "(edu_df.isna().sum() / edu_df.shape[0]).sort_values(ascending=False)"
   ]
  },
  {
   "cell_type": "markdown",
   "metadata": {},
   "source": [
    "Данный датафрейм можно оценить как достаточно полный для анализа. Есть только один момент с пропусками в столбце `graduated_at` - 47%."
   ]
  },
  {
   "cell_type": "code",
   "execution_count": 27,
   "metadata": {},
   "outputs": [
    {
     "data": {
      "text/plain": [
       "company_id          0.847315\n",
       "network_username    0.828560\n",
       "first_name          0.000022\n",
       "last_name           0.000004\n",
       "id                  0.000000\n",
       "dtype: float64"
      ]
     },
     "execution_count": 27,
     "metadata": {},
     "output_type": "execute_result"
    }
   ],
   "source": [
    "# рассчитаем долю пропусков в peop_df\n",
    "(peop_df.isna().sum() / peop_df.shape[0]).sort_values(ascending=False)"
   ]
  },
  {
   "cell_type": "markdown",
   "metadata": {},
   "source": [
    "Данный датафрейм можно назвать достаточно неполным, так как в нем отсутствует необходимая информация об идентификаторе компании, который показывает нам к какой компании привязан сотрудник.Доли пропусков: `company_id` - 85%, `network_username` - 83%"
   ]
  },
  {
   "cell_type": "code",
   "execution_count": 28,
   "metadata": {},
   "outputs": [
    {
     "data": {
      "text/plain": [
       "subject        0.258298\n",
       "degree_type    0.102345\n",
       "id             0.000000\n",
       "object_id      0.000000\n",
       "dtype: float64"
      ]
     },
     "execution_count": 28,
     "metadata": {},
     "output_type": "execute_result"
    }
   ],
   "source": [
    "degrs_df\n",
    "# рассчитаем долю пропусков в degrs_df\n",
    "(degrs_df.isna().sum() / degrs_df.shape[0]).sort_values(ascending=False)"
   ]
  },
  {
   "cell_type": "markdown",
   "metadata": {},
   "source": [
    "Данный датафрейм достаточно полный для анализа. Однако, есть немного пропусков: 25% пропусков находится в колонке `subject` со специальностью сотрудника и 10% в колонке `degree_type` с типом образования."
   ]
  },
  {
   "cell_type": "markdown",
   "metadata": {},
   "source": [
    "### Промежуточный вывод\n",
    "\n",
    "Каждый датафрейм загружен, выведена информация о них и приведены некоторые замечания. Обобщим информацию о датафреймах:\n",
    "\n",
    "\n",
    "**1.** Датафрейм `acq_df.csv` имеет 9407 строк и 6 столбцов. Основные подробности или изменения, осуществленные над ним:\n",
    "* Тип данных в столбце `acquired_at` изменен на дату.\n",
    "* Много пропусков в колонке с вариантами расчета `term_code` - 81%.\n",
    "\n",
    "**2.** Датафрейм `comp_df.csv` имеет 217774 строки и 22 колонки. Основные подробности или изменения:\n",
    "* Осуществлено форматирование названий столбцов на тип snake_case.\n",
    "* Типы данных у колонок `company_ID`,`company_id`, `investment_rounds`, `funding_rounds`, `milestones` предпочтительнее должны обладать целочисленным типом, а `founded_at`, `closed_at`, `funded_at` - типом даты. Как следствие, тип данных у столбцов `founded_at`, `closed_at`, `funded_at` изменен на datetime с помощью библиотеки pandas.\n",
    "* В датафрейме большое число пропусков: примерно 76% у половины колонок (например, `funding_round_type`, `participants`, `raised_amount`, `funding_round_id`.\n",
    "* В целом, датафрейм имеет странную структуру, к тому же заметны не совсем ясные дубликаты-колонки `company_ID` и `company_id`, а также `funding_total` и `raised_amount`. Предположительно, датафрейм является комбинацией нескольких с определенным типом объединения.\n",
    "\n",
    "**3.** Датафрейм `edu_df.csv` имеет 109610 строк и 4 колонки. Основные подробности:\n",
    "* Изменен тип данных у колонки `graduated_at` на тип datetime.\n",
    "* Та же колонка с датой получения образования имеет 47% пропусков, остальные поля характеризуются полнотой содержащейся информации.\n",
    "\n",
    "**4.** Датафрейм `peop_df.csv` имеет 226709 строк и 5 столбцов. Основные подробности:\n",
    "* Основная часть пропусков в колонках `company_id` (85%) и `network_username` (83%) - достаточно странно, так как сотрудники не привязаны к какой-то определенной компании.\n",
    "  \n",
    "**5.** Датафрейм `degrs_df.csv` имеет 109610 строк и 4 колонки. Основные подробности:\n",
    "* Пропуски характерны для колонок `subject` со специальностью сотрудника (25%), а также `degree_type` с типом образования (10%)."
   ]
  },
  {
   "cell_type": "markdown",
   "metadata": {
    "id": "u60cHsn6rJg1"
   },
   "source": [
    "## Шаг 2. Предобработка данных, предварительное исследование"
   ]
  },
  {
   "cell_type": "markdown",
   "metadata": {
    "id": "g2bHIIjcrJg1"
   },
   "source": [
    "\n",
    "### 2.1. Раунды финансирования по годам\n",
    "\n",
    "Задание выполним без объединения и дополнительной предобработки на основе датасета `company_and_rounds.csv`.\n",
    "На основе полученных данных ответим на вопросы:\n",
    "\n",
    "* В каком году типичный размер собранных в рамках одного раунда средств был максимален?\n",
    "\n",
    "* Какая тенденция по количеству раундов и выделяемых в рамках каждого раунда средств наблюдалась в 2013 году?"
   ]
  },
  {
   "cell_type": "markdown",
   "metadata": {
    "id": "ovyDibxNrJg1"
   },
   "source": [
    " Составим сводную таблицу по годам, в которой на основании столбца `raised_amount` для каждого года указан:\n",
    "\n",
    "  * типичный размер средств, выделяемый в рамках одного раунда;\n",
    "  * общее количество раундов финансирования за этот год."
   ]
  },
  {
   "cell_type": "code",
   "execution_count": 29,
   "metadata": {},
   "outputs": [],
   "source": [
    "# перед составлением таблицы создадим новый столбец с годом финансирования\n",
    "comp_df['year_fund'] = comp_df['funded_at'].dt.year"
   ]
  },
  {
   "cell_type": "code",
   "execution_count": 30,
   "metadata": {},
   "outputs": [
    {
     "data": {
      "text/html": [
       "<div>\n",
       "<style scoped>\n",
       "    .dataframe tbody tr th:only-of-type {\n",
       "        vertical-align: middle;\n",
       "    }\n",
       "\n",
       "    .dataframe tbody tr th {\n",
       "        vertical-align: top;\n",
       "    }\n",
       "\n",
       "    .dataframe thead th {\n",
       "        text-align: right;\n",
       "    }\n",
       "</style>\n",
       "<table border=\"1\" class=\"dataframe\">\n",
       "  <thead>\n",
       "    <tr style=\"text-align: right;\">\n",
       "      <th></th>\n",
       "      <th>cnt_rounds</th>\n",
       "      <th>median_fund</th>\n",
       "    </tr>\n",
       "    <tr>\n",
       "      <th>year_fund</th>\n",
       "      <th></th>\n",
       "      <th></th>\n",
       "    </tr>\n",
       "  </thead>\n",
       "  <tbody>\n",
       "    <tr>\n",
       "      <th>2013</th>\n",
       "      <td>11072</td>\n",
       "      <td>1200000.0</td>\n",
       "    </tr>\n",
       "    <tr>\n",
       "      <th>2012</th>\n",
       "      <td>9970</td>\n",
       "      <td>1000000.0</td>\n",
       "    </tr>\n",
       "    <tr>\n",
       "      <th>2011</th>\n",
       "      <td>9204</td>\n",
       "      <td>1200000.0</td>\n",
       "    </tr>\n",
       "    <tr>\n",
       "      <th>2010</th>\n",
       "      <td>6221</td>\n",
       "      <td>1602500.0</td>\n",
       "    </tr>\n",
       "    <tr>\n",
       "      <th>2009</th>\n",
       "      <td>4151</td>\n",
       "      <td>2000000.0</td>\n",
       "    </tr>\n",
       "    <tr>\n",
       "      <th>2008</th>\n",
       "      <td>3774</td>\n",
       "      <td>3110000.0</td>\n",
       "    </tr>\n",
       "    <tr>\n",
       "      <th>2007</th>\n",
       "      <td>3279</td>\n",
       "      <td>3973320.0</td>\n",
       "    </tr>\n",
       "    <tr>\n",
       "      <th>2006</th>\n",
       "      <td>2436</td>\n",
       "      <td>5000000.0</td>\n",
       "    </tr>\n",
       "    <tr>\n",
       "      <th>2005</th>\n",
       "      <td>1633</td>\n",
       "      <td>5500000.0</td>\n",
       "    </tr>\n",
       "    <tr>\n",
       "      <th>2004</th>\n",
       "      <td>291</td>\n",
       "      <td>5000000.0</td>\n",
       "    </tr>\n",
       "    <tr>\n",
       "      <th>2003</th>\n",
       "      <td>159</td>\n",
       "      <td>3000000.0</td>\n",
       "    </tr>\n",
       "    <tr>\n",
       "      <th>2000</th>\n",
       "      <td>125</td>\n",
       "      <td>4200000.0</td>\n",
       "    </tr>\n",
       "    <tr>\n",
       "      <th>2002</th>\n",
       "      <td>116</td>\n",
       "      <td>4200000.0</td>\n",
       "    </tr>\n",
       "    <tr>\n",
       "      <th>2001</th>\n",
       "      <td>96</td>\n",
       "      <td>3000000.0</td>\n",
       "    </tr>\n",
       "    <tr>\n",
       "      <th>1999</th>\n",
       "      <td>76</td>\n",
       "      <td>2000000.0</td>\n",
       "    </tr>\n",
       "    <tr>\n",
       "      <th>1998</th>\n",
       "      <td>29</td>\n",
       "      <td>100000.0</td>\n",
       "    </tr>\n",
       "    <tr>\n",
       "      <th>1997</th>\n",
       "      <td>9</td>\n",
       "      <td>3300000.0</td>\n",
       "    </tr>\n",
       "    <tr>\n",
       "      <th>1960</th>\n",
       "      <td>9</td>\n",
       "      <td>0.0</td>\n",
       "    </tr>\n",
       "    <tr>\n",
       "      <th>1996</th>\n",
       "      <td>7</td>\n",
       "      <td>12500.0</td>\n",
       "    </tr>\n",
       "    <tr>\n",
       "      <th>1995</th>\n",
       "      <td>7</td>\n",
       "      <td>2000000.0</td>\n",
       "    </tr>\n",
       "    <tr>\n",
       "      <th>1984</th>\n",
       "      <td>3</td>\n",
       "      <td>41000.0</td>\n",
       "    </tr>\n",
       "    <tr>\n",
       "      <th>1994</th>\n",
       "      <td>2</td>\n",
       "      <td>6700000.0</td>\n",
       "    </tr>\n",
       "    <tr>\n",
       "      <th>1993</th>\n",
       "      <td>2</td>\n",
       "      <td>62500.0</td>\n",
       "    </tr>\n",
       "    <tr>\n",
       "      <th>1987</th>\n",
       "      <td>2</td>\n",
       "      <td>1250000.0</td>\n",
       "    </tr>\n",
       "    <tr>\n",
       "      <th>1974</th>\n",
       "      <td>2</td>\n",
       "      <td>0.0</td>\n",
       "    </tr>\n",
       "    <tr>\n",
       "      <th>1973</th>\n",
       "      <td>1</td>\n",
       "      <td>0.0</td>\n",
       "    </tr>\n",
       "    <tr>\n",
       "      <th>1992</th>\n",
       "      <td>1</td>\n",
       "      <td>2000000.0</td>\n",
       "    </tr>\n",
       "    <tr>\n",
       "      <th>1990</th>\n",
       "      <td>1</td>\n",
       "      <td>1000000.0</td>\n",
       "    </tr>\n",
       "    <tr>\n",
       "      <th>1989</th>\n",
       "      <td>1</td>\n",
       "      <td>15000.0</td>\n",
       "    </tr>\n",
       "    <tr>\n",
       "      <th>1985</th>\n",
       "      <td>1</td>\n",
       "      <td>0.0</td>\n",
       "    </tr>\n",
       "  </tbody>\n",
       "</table>\n",
       "</div>"
      ],
      "text/plain": [
       "           cnt_rounds  median_fund\n",
       "year_fund                         \n",
       "2013            11072    1200000.0\n",
       "2012             9970    1000000.0\n",
       "2011             9204    1200000.0\n",
       "2010             6221    1602500.0\n",
       "2009             4151    2000000.0\n",
       "2008             3774    3110000.0\n",
       "2007             3279    3973320.0\n",
       "2006             2436    5000000.0\n",
       "2005             1633    5500000.0\n",
       "2004              291    5000000.0\n",
       "2003              159    3000000.0\n",
       "2000              125    4200000.0\n",
       "2002              116    4200000.0\n",
       "2001               96    3000000.0\n",
       "1999               76    2000000.0\n",
       "1998               29     100000.0\n",
       "1997                9    3300000.0\n",
       "1960                9          0.0\n",
       "1996                7      12500.0\n",
       "1995                7    2000000.0\n",
       "1984                3      41000.0\n",
       "1994                2    6700000.0\n",
       "1993                2      62500.0\n",
       "1987                2    1250000.0\n",
       "1974                2          0.0\n",
       "1973                1          0.0\n",
       "1992                1    2000000.0\n",
       "1990                1    1000000.0\n",
       "1989                1      15000.0\n",
       "1985                1          0.0"
      ]
     },
     "metadata": {},
     "output_type": "display_data"
    }
   ],
   "source": [
    "# составляем сводную таблицу\n",
    "pivot_table = pd.pivot_table(comp_df, index='year_fund', values='raised_amount', aggfunc={'raised_amount': ['median', 'count']})\n",
    "\n",
    "# редактируем названия столбцов на более логичные\n",
    "pivot_table.columns = ['cnt_rounds', 'median_fund']\n",
    "\n",
    "# переводим год в целое значение\n",
    "pivot_table.index = pd.to_numeric(pivot_table.index).astype('int64')\n",
    "display(pivot_table.sort_values(ascending=False,by='cnt_rounds'))"
   ]
  },
  {
   "cell_type": "markdown",
   "metadata": {
    "id": "HB81GTA9n04M"
   },
   "source": [
    "Оставим в таблице информацию только для тех лет, для которых есть информация о более чем 50 раундах финансирования."
   ]
  },
  {
   "cell_type": "code",
   "execution_count": 31,
   "metadata": {},
   "outputs": [
    {
     "data": {
      "text/html": [
       "<div>\n",
       "<style scoped>\n",
       "    .dataframe tbody tr th:only-of-type {\n",
       "        vertical-align: middle;\n",
       "    }\n",
       "\n",
       "    .dataframe tbody tr th {\n",
       "        vertical-align: top;\n",
       "    }\n",
       "\n",
       "    .dataframe thead th {\n",
       "        text-align: right;\n",
       "    }\n",
       "</style>\n",
       "<table border=\"1\" class=\"dataframe\">\n",
       "  <thead>\n",
       "    <tr style=\"text-align: right;\">\n",
       "      <th></th>\n",
       "      <th>cnt_rounds</th>\n",
       "      <th>median_fund</th>\n",
       "    </tr>\n",
       "    <tr>\n",
       "      <th>year_fund</th>\n",
       "      <th></th>\n",
       "      <th></th>\n",
       "    </tr>\n",
       "  </thead>\n",
       "  <tbody>\n",
       "    <tr>\n",
       "      <th>2013</th>\n",
       "      <td>11072</td>\n",
       "      <td>1200000.0</td>\n",
       "    </tr>\n",
       "    <tr>\n",
       "      <th>2012</th>\n",
       "      <td>9970</td>\n",
       "      <td>1000000.0</td>\n",
       "    </tr>\n",
       "    <tr>\n",
       "      <th>2011</th>\n",
       "      <td>9204</td>\n",
       "      <td>1200000.0</td>\n",
       "    </tr>\n",
       "    <tr>\n",
       "      <th>2010</th>\n",
       "      <td>6221</td>\n",
       "      <td>1602500.0</td>\n",
       "    </tr>\n",
       "    <tr>\n",
       "      <th>2009</th>\n",
       "      <td>4151</td>\n",
       "      <td>2000000.0</td>\n",
       "    </tr>\n",
       "    <tr>\n",
       "      <th>2008</th>\n",
       "      <td>3774</td>\n",
       "      <td>3110000.0</td>\n",
       "    </tr>\n",
       "    <tr>\n",
       "      <th>2007</th>\n",
       "      <td>3279</td>\n",
       "      <td>3973320.0</td>\n",
       "    </tr>\n",
       "    <tr>\n",
       "      <th>2006</th>\n",
       "      <td>2436</td>\n",
       "      <td>5000000.0</td>\n",
       "    </tr>\n",
       "    <tr>\n",
       "      <th>2005</th>\n",
       "      <td>1633</td>\n",
       "      <td>5500000.0</td>\n",
       "    </tr>\n",
       "    <tr>\n",
       "      <th>2004</th>\n",
       "      <td>291</td>\n",
       "      <td>5000000.0</td>\n",
       "    </tr>\n",
       "    <tr>\n",
       "      <th>2003</th>\n",
       "      <td>159</td>\n",
       "      <td>3000000.0</td>\n",
       "    </tr>\n",
       "    <tr>\n",
       "      <th>2000</th>\n",
       "      <td>125</td>\n",
       "      <td>4200000.0</td>\n",
       "    </tr>\n",
       "    <tr>\n",
       "      <th>2002</th>\n",
       "      <td>116</td>\n",
       "      <td>4200000.0</td>\n",
       "    </tr>\n",
       "    <tr>\n",
       "      <th>2001</th>\n",
       "      <td>96</td>\n",
       "      <td>3000000.0</td>\n",
       "    </tr>\n",
       "    <tr>\n",
       "      <th>1999</th>\n",
       "      <td>76</td>\n",
       "      <td>2000000.0</td>\n",
       "    </tr>\n",
       "  </tbody>\n",
       "</table>\n",
       "</div>"
      ],
      "text/plain": [
       "           cnt_rounds  median_fund\n",
       "year_fund                         \n",
       "2013            11072    1200000.0\n",
       "2012             9970    1000000.0\n",
       "2011             9204    1200000.0\n",
       "2010             6221    1602500.0\n",
       "2009             4151    2000000.0\n",
       "2008             3774    3110000.0\n",
       "2007             3279    3973320.0\n",
       "2006             2436    5000000.0\n",
       "2005             1633    5500000.0\n",
       "2004              291    5000000.0\n",
       "2003              159    3000000.0\n",
       "2000              125    4200000.0\n",
       "2002              116    4200000.0\n",
       "2001               96    3000000.0\n",
       "1999               76    2000000.0"
      ]
     },
     "metadata": {},
     "output_type": "display_data"
    }
   ],
   "source": [
    "# создаем отфильтрованный датафрейм\n",
    "pivot_table = pivot_table[pivot_table['cnt_rounds'] > 50]\n",
    "display(pivot_table.sort_values(ascending=False,by='cnt_rounds'))"
   ]
  },
  {
   "cell_type": "markdown",
   "metadata": {},
   "source": [
    "На основе получившейся таблицы построем график, который будет отражать динамику типичного размера средств, которые стартапы получали в рамках одного раунда финансирования. Так как нам надо показать изменения показателей с течением времени будем использовать линейный график."
   ]
  },
  {
   "cell_type": "code",
   "execution_count": 32,
   "metadata": {},
   "outputs": [
    {
     "data": {
      "text/plain": [
       "<Figure size 1080x1080 with 0 Axes>"
      ]
     },
     "metadata": {},
     "output_type": "display_data"
    },
    {
     "data": {
      "image/png": "[encoded data removed]",
      "text/plain": [
       "<Figure size 432x288 with 1 Axes>"
      ]
     },
     "metadata": {
      "needs_background": "light"
     },
     "output_type": "display_data"
    }
   ],
   "source": [
    "# сбросим индексы таблицы для правильного построения\n",
    "pivot_graphic = pivot_table.reset_index()\n",
    "\n",
    "# строим визуализацию\n",
    "plt.figure(figsize=(15,15))\n",
    "\n",
    "pivot_graphic[['year_fund', 'median_fund']].plot(\n",
    "    kind='line',\n",
    "    x='year_fund',\n",
    "    y='median_fund',\n",
    "    rot=30,\n",
    "    color='skyblue',\n",
    "    marker='o',\n",
    "    legend=False,\n",
    "    title='Динамика типичного размера средств, получаемых стартапами')\n",
    "\n",
    "plt.xlabel('Год')\n",
    "plt.ylabel('Размер средств')\n",
    "plt.xticks(np.arange(min(pivot_graphic['year_fund']), max(pivot_graphic['year_fund']) + 1, 1))\n",
    "plt.yticks(np.arange(min(pivot_graphic['median_fund']), max(pivot_graphic['median_fund']) + 500000, 500000))\n",
    "plt.grid()\n",
    "plt.show()"
   ]
  },
  {
   "cell_type": "markdown",
   "metadata": {},
   "source": [
    "Вывод: на основе полученных данных и их визуализации подытожим следующие наблюдения:\n",
    "* Максимальный размер собранных средств состоялся в 2005 году. Далее выделяются 2004 и 2006 года по убыванию суммы соответственно.\n",
    "* 2013 год выделяется из всех годов максимальным количеством раундов финансирования, а размер средств, выделяемых в рамках каждого раунда, составил 1.2 млн денежных единиц. "
   ]
  },
  {
   "cell_type": "markdown",
   "metadata": {
    "id": "45if1en1rJg2"
   },
   "source": [
    "\n",
    "### 2.2. Люди и их образование\n",
    "\n",
    "Заказчик хочет понять, зависит ли полнота сведений о сотрудниках (например, об их образовании) от размера компаний.\n",
    "\n",
    "* Оцените, насколько информация об образовании сотрудников полна. Используя датасеты `people.csv` и `education.csv`, разделите все компании на несколько групп по количеству сотрудников и оцените среднюю долю сотрудников без информации об образовании в каждой из групп. Обоснуйте выбранные границы групп.\n",
    "\n",
    "* Оцените, возможно ли для выполнения задания присоединить к этим таблицам ещё и таблицу `degrees.csv`."
   ]
  },
  {
   "cell_type": "markdown",
   "metadata": {
    "id": "psPO7C4MrJg2"
   },
   "source": [
    "Перед работой над исследованием стоит выяснить: нужно ли присоединять к объединенному датафрейму из `people.csv`,`education.csv`, еще и датасет `degrees.csv`"
   ]
  },
  {
   "cell_type": "markdown",
   "metadata": {
    "id": "xdQ6H5ZSn1ZM"
   },
   "source": [
    "Перед проверкой объединим датасеты `people.csv` и `education.csv`"
   ]
  },
  {
   "cell_type": "code",
   "execution_count": 33,
   "metadata": {},
   "outputs": [
    {
     "data": {
      "text/html": [
       "<div>\n",
       "<style scoped>\n",
       "    .dataframe tbody tr th:only-of-type {\n",
       "        vertical-align: middle;\n",
       "    }\n",
       "\n",
       "    .dataframe tbody tr th {\n",
       "        vertical-align: top;\n",
       "    }\n",
       "\n",
       "    .dataframe thead th {\n",
       "        text-align: right;\n",
       "    }\n",
       "</style>\n",
       "<table border=\"1\" class=\"dataframe\">\n",
       "  <thead>\n",
       "    <tr style=\"text-align: right;\">\n",
       "      <th></th>\n",
       "      <th>id_peop</th>\n",
       "      <th>first_name</th>\n",
       "      <th>last_name</th>\n",
       "      <th>company_id</th>\n",
       "      <th>network_username</th>\n",
       "      <th>id_edu</th>\n",
       "      <th>person_id</th>\n",
       "      <th>instituition</th>\n",
       "      <th>graduated_at</th>\n",
       "    </tr>\n",
       "  </thead>\n",
       "  <tbody>\n",
       "    <tr>\n",
       "      <th>0</th>\n",
       "      <td>10</td>\n",
       "      <td>Mark</td>\n",
       "      <td>Zuckerberg</td>\n",
       "      <td>5.0</td>\n",
       "      <td>NaN</td>\n",
       "      <td>2415.0</td>\n",
       "      <td>10.0</td>\n",
       "      <td>Harvard University</td>\n",
       "      <td>NaT</td>\n",
       "    </tr>\n",
       "    <tr>\n",
       "      <th>1</th>\n",
       "      <td>100</td>\n",
       "      <td>Peter</td>\n",
       "      <td>Lester</td>\n",
       "      <td>27.0</td>\n",
       "      <td>NaN</td>\n",
       "      <td>NaN</td>\n",
       "      <td>NaN</td>\n",
       "      <td>NaN</td>\n",
       "      <td>NaT</td>\n",
       "    </tr>\n",
       "    <tr>\n",
       "      <th>2</th>\n",
       "      <td>1000</td>\n",
       "      <td>Dr. Steven</td>\n",
       "      <td>E. Saunders</td>\n",
       "      <td>292.0</td>\n",
       "      <td>NaN</td>\n",
       "      <td>NaN</td>\n",
       "      <td>NaN</td>\n",
       "      <td>NaN</td>\n",
       "      <td>NaT</td>\n",
       "    </tr>\n",
       "    <tr>\n",
       "      <th>3</th>\n",
       "      <td>10000</td>\n",
       "      <td>Neil</td>\n",
       "      <td>Capel</td>\n",
       "      <td>2526.0</td>\n",
       "      <td>NaN</td>\n",
       "      <td>NaN</td>\n",
       "      <td>NaN</td>\n",
       "      <td>NaN</td>\n",
       "      <td>NaT</td>\n",
       "    </tr>\n",
       "    <tr>\n",
       "      <th>4</th>\n",
       "      <td>100000</td>\n",
       "      <td>Sue</td>\n",
       "      <td>Pilsch</td>\n",
       "      <td>NaN</td>\n",
       "      <td>NaN</td>\n",
       "      <td>NaN</td>\n",
       "      <td>NaN</td>\n",
       "      <td>NaN</td>\n",
       "      <td>NaT</td>\n",
       "    </tr>\n",
       "  </tbody>\n",
       "</table>\n",
       "</div>"
      ],
      "text/plain": [
       "   id_peop  first_name    last_name  company_id network_username  id_edu  \\\n",
       "0       10        Mark   Zuckerberg         5.0              NaN  2415.0   \n",
       "1      100       Peter       Lester        27.0              NaN     NaN   \n",
       "2     1000  Dr. Steven  E. Saunders       292.0              NaN     NaN   \n",
       "3    10000        Neil        Capel      2526.0              NaN     NaN   \n",
       "4   100000         Sue       Pilsch         NaN              NaN     NaN   \n",
       "\n",
       "   person_id        instituition graduated_at  \n",
       "0       10.0  Harvard University          NaT  \n",
       "1        NaN                 NaN          NaT  \n",
       "2        NaN                 NaN          NaT  \n",
       "3        NaN                 NaN          NaT  \n",
       "4        NaN                 NaN          NaT  "
      ]
     },
     "execution_count": 33,
     "metadata": {},
     "output_type": "execute_result"
    }
   ],
   "source": [
    "# объединим датасеты\n",
    "peop_edu_df = peop_df.merge(edu_df, how='left', left_on='id', right_on='person_id', suffixes=['_peop', '_edu'])\n",
    "peop_edu_df.head(5)"
   ]
  },
  {
   "cell_type": "code",
   "execution_count": 34,
   "metadata": {},
   "outputs": [
    {
     "data": {
      "text/plain": [
       "55036"
      ]
     },
     "execution_count": 34,
     "metadata": {},
     "output_type": "execute_result"
    }
   ],
   "source": [
    "#найдем количество дубликатов по имени и фамилии, это люди с несколькими образованиями\n",
    "peop_edu_df.duplicated(['first_name','last_name']).sum()"
   ]
  },
  {
   "cell_type": "code",
   "execution_count": 35,
   "metadata": {},
   "outputs": [
    {
     "data": {
      "text/html": [
       "<div>\n",
       "<style scoped>\n",
       "    .dataframe tbody tr th:only-of-type {\n",
       "        vertical-align: middle;\n",
       "    }\n",
       "\n",
       "    .dataframe tbody tr th {\n",
       "        vertical-align: top;\n",
       "    }\n",
       "\n",
       "    .dataframe thead th {\n",
       "        text-align: right;\n",
       "    }\n",
       "</style>\n",
       "<table border=\"1\" class=\"dataframe\">\n",
       "  <thead>\n",
       "    <tr style=\"text-align: right;\">\n",
       "      <th></th>\n",
       "      <th>id_peop</th>\n",
       "      <th>first_name</th>\n",
       "      <th>last_name</th>\n",
       "      <th>company_id</th>\n",
       "      <th>network_username</th>\n",
       "      <th>id_edu</th>\n",
       "      <th>person_id</th>\n",
       "      <th>instituition</th>\n",
       "      <th>graduated_at</th>\n",
       "    </tr>\n",
       "  </thead>\n",
       "  <tbody>\n",
       "    <tr>\n",
       "      <th>0</th>\n",
       "      <td>10</td>\n",
       "      <td>Mark</td>\n",
       "      <td>Zuckerberg</td>\n",
       "      <td>5.0</td>\n",
       "      <td>NaN</td>\n",
       "      <td>2415.0</td>\n",
       "      <td>10.0</td>\n",
       "      <td>Harvard University</td>\n",
       "      <td>NaT</td>\n",
       "    </tr>\n",
       "    <tr>\n",
       "      <th>1</th>\n",
       "      <td>100</td>\n",
       "      <td>Peter</td>\n",
       "      <td>Lester</td>\n",
       "      <td>27.0</td>\n",
       "      <td>NaN</td>\n",
       "      <td>NaN</td>\n",
       "      <td>NaN</td>\n",
       "      <td>NaN</td>\n",
       "      <td>NaT</td>\n",
       "    </tr>\n",
       "    <tr>\n",
       "      <th>2</th>\n",
       "      <td>1000</td>\n",
       "      <td>Dr. Steven</td>\n",
       "      <td>E. Saunders</td>\n",
       "      <td>292.0</td>\n",
       "      <td>NaN</td>\n",
       "      <td>NaN</td>\n",
       "      <td>NaN</td>\n",
       "      <td>NaN</td>\n",
       "      <td>NaT</td>\n",
       "    </tr>\n",
       "    <tr>\n",
       "      <th>3</th>\n",
       "      <td>10000</td>\n",
       "      <td>Neil</td>\n",
       "      <td>Capel</td>\n",
       "      <td>2526.0</td>\n",
       "      <td>NaN</td>\n",
       "      <td>NaN</td>\n",
       "      <td>NaN</td>\n",
       "      <td>NaN</td>\n",
       "      <td>NaT</td>\n",
       "    </tr>\n",
       "    <tr>\n",
       "      <th>4</th>\n",
       "      <td>100000</td>\n",
       "      <td>Sue</td>\n",
       "      <td>Pilsch</td>\n",
       "      <td>NaN</td>\n",
       "      <td>NaN</td>\n",
       "      <td>NaN</td>\n",
       "      <td>NaN</td>\n",
       "      <td>NaN</td>\n",
       "      <td>NaT</td>\n",
       "    </tr>\n",
       "  </tbody>\n",
       "</table>\n",
       "</div>"
      ],
      "text/plain": [
       "   id_peop  first_name    last_name  company_id network_username  id_edu  \\\n",
       "0       10        Mark   Zuckerberg         5.0              NaN  2415.0   \n",
       "1      100       Peter       Lester        27.0              NaN     NaN   \n",
       "2     1000  Dr. Steven  E. Saunders       292.0              NaN     NaN   \n",
       "3    10000        Neil        Capel      2526.0              NaN     NaN   \n",
       "4   100000         Sue       Pilsch         NaN              NaN     NaN   \n",
       "\n",
       "   person_id        instituition graduated_at  \n",
       "0       10.0  Harvard University          NaT  \n",
       "1        NaN                 NaN          NaT  \n",
       "2        NaN                 NaN          NaT  \n",
       "3        NaN                 NaN          NaT  \n",
       "4        NaN                 NaN          NaT  "
      ]
     },
     "execution_count": 35,
     "metadata": {},
     "output_type": "execute_result"
    }
   ],
   "source": [
    "# удалим дубликаты по имени и фамилии\n",
    "peop_edu_df = peop_edu_df.drop_duplicates(['first_name', 'last_name'])\n",
    "peop_edu_df.head(5)"
   ]
  },
  {
   "cell_type": "code",
   "execution_count": 36,
   "metadata": {},
   "outputs": [
    {
     "data": {
      "text/html": [
       "<div>\n",
       "<style scoped>\n",
       "    .dataframe tbody tr th:only-of-type {\n",
       "        vertical-align: middle;\n",
       "    }\n",
       "\n",
       "    .dataframe tbody tr th {\n",
       "        vertical-align: top;\n",
       "    }\n",
       "\n",
       "    .dataframe thead th {\n",
       "        text-align: right;\n",
       "    }\n",
       "</style>\n",
       "<table border=\"1\" class=\"dataframe\">\n",
       "  <thead>\n",
       "    <tr style=\"text-align: right;\">\n",
       "      <th></th>\n",
       "      <th>id_peop</th>\n",
       "      <th>first_name</th>\n",
       "      <th>last_name</th>\n",
       "      <th>company_id</th>\n",
       "      <th>network_username</th>\n",
       "      <th>id_edu</th>\n",
       "      <th>person_id</th>\n",
       "      <th>instituition</th>\n",
       "      <th>graduated_at</th>\n",
       "      <th>inst_isna</th>\n",
       "      <th>grad_isna</th>\n",
       "    </tr>\n",
       "  </thead>\n",
       "  <tbody>\n",
       "    <tr>\n",
       "      <th>0</th>\n",
       "      <td>10</td>\n",
       "      <td>Mark</td>\n",
       "      <td>Zuckerberg</td>\n",
       "      <td>5.0</td>\n",
       "      <td>NaN</td>\n",
       "      <td>2415.0</td>\n",
       "      <td>10.0</td>\n",
       "      <td>Harvard University</td>\n",
       "      <td>NaT</td>\n",
       "      <td>False</td>\n",
       "      <td>True</td>\n",
       "    </tr>\n",
       "    <tr>\n",
       "      <th>1</th>\n",
       "      <td>100</td>\n",
       "      <td>Peter</td>\n",
       "      <td>Lester</td>\n",
       "      <td>27.0</td>\n",
       "      <td>NaN</td>\n",
       "      <td>NaN</td>\n",
       "      <td>NaN</td>\n",
       "      <td>NaN</td>\n",
       "      <td>NaT</td>\n",
       "      <td>True</td>\n",
       "      <td>True</td>\n",
       "    </tr>\n",
       "    <tr>\n",
       "      <th>2</th>\n",
       "      <td>1000</td>\n",
       "      <td>Dr. Steven</td>\n",
       "      <td>E. Saunders</td>\n",
       "      <td>292.0</td>\n",
       "      <td>NaN</td>\n",
       "      <td>NaN</td>\n",
       "      <td>NaN</td>\n",
       "      <td>NaN</td>\n",
       "      <td>NaT</td>\n",
       "      <td>True</td>\n",
       "      <td>True</td>\n",
       "    </tr>\n",
       "  </tbody>\n",
       "</table>\n",
       "</div>"
      ],
      "text/plain": [
       "   id_peop  first_name    last_name  company_id network_username  id_edu  \\\n",
       "0       10        Mark   Zuckerberg         5.0              NaN  2415.0   \n",
       "1      100       Peter       Lester        27.0              NaN     NaN   \n",
       "2     1000  Dr. Steven  E. Saunders       292.0              NaN     NaN   \n",
       "\n",
       "   person_id        instituition graduated_at  inst_isna  grad_isna  \n",
       "0       10.0  Harvard University          NaT      False       True  \n",
       "1        NaN                 NaN          NaT       True       True  \n",
       "2        NaN                 NaN          NaT       True       True  "
      ]
     },
     "execution_count": 36,
     "metadata": {},
     "output_type": "execute_result"
    }
   ],
   "source": [
    "# создадим дополнительные столбцы с указателем на пропуски в строке\n",
    "peop_edu_df['inst_isna'] = peop_edu_df['instituition'].isna()\n",
    "peop_edu_df['grad_isna'] = peop_edu_df['graduated_at'].isna()\n",
    "\n",
    "# вывод результата\n",
    "peop_edu_df.head(3)"
   ]
  },
  {
   "cell_type": "code",
   "execution_count": 37,
   "metadata": {},
   "outputs": [
    {
     "data": {
      "text/plain": [
       "0.30263145520036866"
      ]
     },
     "execution_count": 37,
     "metadata": {},
     "output_type": "execute_result"
    }
   ],
   "source": [
    "# выведем количество данных с наличием образования в объединенном столбце\n",
    "(peop_edu_df[(peop_edu_df['inst_isna'] == False) | (peop_edu_df['grad_isna'] == False)].shape[0]) / peop_edu_df.shape[0]"
   ]
  },
  {
   "cell_type": "markdown",
   "metadata": {},
   "source": [
    "Далее присоединим еще одну таблицу `degrees.csv` и выполним такие же действия."
   ]
  },
  {
   "cell_type": "code",
   "execution_count": 38,
   "metadata": {},
   "outputs": [],
   "source": [
    "# выведем \"чистый id\" через составной\n",
    "degrs_df['pure_id'] = pd.to_numeric(degrs_df['object_id'].str.replace('p:', ''))"
   ]
  },
  {
   "cell_type": "code",
   "execution_count": 39,
   "metadata": {},
   "outputs": [
    {
     "data": {
      "text/html": [
       "<div>\n",
       "<style scoped>\n",
       "    .dataframe tbody tr th:only-of-type {\n",
       "        vertical-align: middle;\n",
       "    }\n",
       "\n",
       "    .dataframe tbody tr th {\n",
       "        vertical-align: top;\n",
       "    }\n",
       "\n",
       "    .dataframe thead th {\n",
       "        text-align: right;\n",
       "    }\n",
       "</style>\n",
       "<table border=\"1\" class=\"dataframe\">\n",
       "  <thead>\n",
       "    <tr style=\"text-align: right;\">\n",
       "      <th></th>\n",
       "      <th>id_peop</th>\n",
       "      <th>first_name</th>\n",
       "      <th>last_name</th>\n",
       "      <th>company_id</th>\n",
       "      <th>network_username</th>\n",
       "      <th>id_edu</th>\n",
       "      <th>person_id</th>\n",
       "      <th>instituition</th>\n",
       "      <th>graduated_at</th>\n",
       "      <th>inst_isna</th>\n",
       "      <th>grad_isna</th>\n",
       "      <th>id</th>\n",
       "      <th>object_id</th>\n",
       "      <th>degree_type</th>\n",
       "      <th>subject</th>\n",
       "      <th>pure_id</th>\n",
       "    </tr>\n",
       "  </thead>\n",
       "  <tbody>\n",
       "    <tr>\n",
       "      <th>0</th>\n",
       "      <td>10</td>\n",
       "      <td>Mark</td>\n",
       "      <td>Zuckerberg</td>\n",
       "      <td>5.0</td>\n",
       "      <td>NaN</td>\n",
       "      <td>2415.0</td>\n",
       "      <td>10.0</td>\n",
       "      <td>Harvard University</td>\n",
       "      <td>NaT</td>\n",
       "      <td>False</td>\n",
       "      <td>True</td>\n",
       "      <td>2415.0</td>\n",
       "      <td>p:10</td>\n",
       "      <td>NaN</td>\n",
       "      <td>Computer Science</td>\n",
       "      <td>10.0</td>\n",
       "    </tr>\n",
       "    <tr>\n",
       "      <th>1</th>\n",
       "      <td>100</td>\n",
       "      <td>Peter</td>\n",
       "      <td>Lester</td>\n",
       "      <td>27.0</td>\n",
       "      <td>NaN</td>\n",
       "      <td>NaN</td>\n",
       "      <td>NaN</td>\n",
       "      <td>NaN</td>\n",
       "      <td>NaT</td>\n",
       "      <td>True</td>\n",
       "      <td>True</td>\n",
       "      <td>NaN</td>\n",
       "      <td>NaN</td>\n",
       "      <td>NaN</td>\n",
       "      <td>NaN</td>\n",
       "      <td>NaN</td>\n",
       "    </tr>\n",
       "    <tr>\n",
       "      <th>2</th>\n",
       "      <td>1000</td>\n",
       "      <td>Dr. Steven</td>\n",
       "      <td>E. Saunders</td>\n",
       "      <td>292.0</td>\n",
       "      <td>NaN</td>\n",
       "      <td>NaN</td>\n",
       "      <td>NaN</td>\n",
       "      <td>NaN</td>\n",
       "      <td>NaT</td>\n",
       "      <td>True</td>\n",
       "      <td>True</td>\n",
       "      <td>NaN</td>\n",
       "      <td>NaN</td>\n",
       "      <td>NaN</td>\n",
       "      <td>NaN</td>\n",
       "      <td>NaN</td>\n",
       "    </tr>\n",
       "    <tr>\n",
       "      <th>3</th>\n",
       "      <td>10000</td>\n",
       "      <td>Neil</td>\n",
       "      <td>Capel</td>\n",
       "      <td>2526.0</td>\n",
       "      <td>NaN</td>\n",
       "      <td>NaN</td>\n",
       "      <td>NaN</td>\n",
       "      <td>NaN</td>\n",
       "      <td>NaT</td>\n",
       "      <td>True</td>\n",
       "      <td>True</td>\n",
       "      <td>NaN</td>\n",
       "      <td>NaN</td>\n",
       "      <td>NaN</td>\n",
       "      <td>NaN</td>\n",
       "      <td>NaN</td>\n",
       "    </tr>\n",
       "    <tr>\n",
       "      <th>4</th>\n",
       "      <td>100000</td>\n",
       "      <td>Sue</td>\n",
       "      <td>Pilsch</td>\n",
       "      <td>NaN</td>\n",
       "      <td>NaN</td>\n",
       "      <td>NaN</td>\n",
       "      <td>NaN</td>\n",
       "      <td>NaN</td>\n",
       "      <td>NaT</td>\n",
       "      <td>True</td>\n",
       "      <td>True</td>\n",
       "      <td>NaN</td>\n",
       "      <td>NaN</td>\n",
       "      <td>NaN</td>\n",
       "      <td>NaN</td>\n",
       "      <td>NaN</td>\n",
       "    </tr>\n",
       "  </tbody>\n",
       "</table>\n",
       "</div>"
      ],
      "text/plain": [
       "   id_peop  first_name    last_name  company_id network_username  id_edu  \\\n",
       "0       10        Mark   Zuckerberg         5.0              NaN  2415.0   \n",
       "1      100       Peter       Lester        27.0              NaN     NaN   \n",
       "2     1000  Dr. Steven  E. Saunders       292.0              NaN     NaN   \n",
       "3    10000        Neil        Capel      2526.0              NaN     NaN   \n",
       "4   100000         Sue       Pilsch         NaN              NaN     NaN   \n",
       "\n",
       "   person_id        instituition graduated_at  inst_isna  grad_isna      id  \\\n",
       "0       10.0  Harvard University          NaT      False       True  2415.0   \n",
       "1        NaN                 NaN          NaT       True       True     NaN   \n",
       "2        NaN                 NaN          NaT       True       True     NaN   \n",
       "3        NaN                 NaN          NaT       True       True     NaN   \n",
       "4        NaN                 NaN          NaT       True       True     NaN   \n",
       "\n",
       "  object_id degree_type           subject  pure_id  \n",
       "0      p:10         NaN  Computer Science     10.0  \n",
       "1       NaN         NaN               NaN      NaN  \n",
       "2       NaN         NaN               NaN      NaN  \n",
       "3       NaN         NaN               NaN      NaN  \n",
       "4       NaN         NaN               NaN      NaN  "
      ]
     },
     "execution_count": 39,
     "metadata": {},
     "output_type": "execute_result"
    }
   ],
   "source": [
    "# объединим 3 датафрейма\n",
    "ped_df = peop_edu_df.merge(degrs_df, how='left', left_on='id_peop', right_on='pure_id')\n",
    "\n",
    "# также удалим дубликаты по имени и фамилии, чтобы каждый сотрудник входил в список один раз\n",
    "ped_df = ped_df.drop_duplicates(['first_name', 'last_name'])\n",
    "ped_df.head(5)"
   ]
  },
  {
   "cell_type": "code",
   "execution_count": 40,
   "metadata": {},
   "outputs": [
    {
     "data": {
      "text/html": [
       "<div>\n",
       "<style scoped>\n",
       "    .dataframe tbody tr th:only-of-type {\n",
       "        vertical-align: middle;\n",
       "    }\n",
       "\n",
       "    .dataframe tbody tr th {\n",
       "        vertical-align: top;\n",
       "    }\n",
       "\n",
       "    .dataframe thead th {\n",
       "        text-align: right;\n",
       "    }\n",
       "</style>\n",
       "<table border=\"1\" class=\"dataframe\">\n",
       "  <thead>\n",
       "    <tr style=\"text-align: right;\">\n",
       "      <th></th>\n",
       "      <th>id_peop</th>\n",
       "      <th>first_name</th>\n",
       "      <th>last_name</th>\n",
       "      <th>company_id</th>\n",
       "      <th>network_username</th>\n",
       "      <th>id_edu</th>\n",
       "      <th>person_id</th>\n",
       "      <th>instituition</th>\n",
       "      <th>graduated_at</th>\n",
       "      <th>inst_isna</th>\n",
       "      <th>grad_isna</th>\n",
       "      <th>id</th>\n",
       "      <th>object_id</th>\n",
       "      <th>degree_type</th>\n",
       "      <th>subject</th>\n",
       "      <th>pure_id</th>\n",
       "      <th>degree_isna</th>\n",
       "      <th>sbj_isna</th>\n",
       "    </tr>\n",
       "  </thead>\n",
       "  <tbody>\n",
       "    <tr>\n",
       "      <th>0</th>\n",
       "      <td>10</td>\n",
       "      <td>Mark</td>\n",
       "      <td>Zuckerberg</td>\n",
       "      <td>5.0</td>\n",
       "      <td>NaN</td>\n",
       "      <td>2415.0</td>\n",
       "      <td>10.0</td>\n",
       "      <td>Harvard University</td>\n",
       "      <td>NaT</td>\n",
       "      <td>False</td>\n",
       "      <td>True</td>\n",
       "      <td>2415.0</td>\n",
       "      <td>p:10</td>\n",
       "      <td>NaN</td>\n",
       "      <td>Computer Science</td>\n",
       "      <td>10.0</td>\n",
       "      <td>True</td>\n",
       "      <td>False</td>\n",
       "    </tr>\n",
       "    <tr>\n",
       "      <th>1</th>\n",
       "      <td>100</td>\n",
       "      <td>Peter</td>\n",
       "      <td>Lester</td>\n",
       "      <td>27.0</td>\n",
       "      <td>NaN</td>\n",
       "      <td>NaN</td>\n",
       "      <td>NaN</td>\n",
       "      <td>NaN</td>\n",
       "      <td>NaT</td>\n",
       "      <td>True</td>\n",
       "      <td>True</td>\n",
       "      <td>NaN</td>\n",
       "      <td>NaN</td>\n",
       "      <td>NaN</td>\n",
       "      <td>NaN</td>\n",
       "      <td>NaN</td>\n",
       "      <td>True</td>\n",
       "      <td>True</td>\n",
       "    </tr>\n",
       "    <tr>\n",
       "      <th>2</th>\n",
       "      <td>1000</td>\n",
       "      <td>Dr. Steven</td>\n",
       "      <td>E. Saunders</td>\n",
       "      <td>292.0</td>\n",
       "      <td>NaN</td>\n",
       "      <td>NaN</td>\n",
       "      <td>NaN</td>\n",
       "      <td>NaN</td>\n",
       "      <td>NaT</td>\n",
       "      <td>True</td>\n",
       "      <td>True</td>\n",
       "      <td>NaN</td>\n",
       "      <td>NaN</td>\n",
       "      <td>NaN</td>\n",
       "      <td>NaN</td>\n",
       "      <td>NaN</td>\n",
       "      <td>True</td>\n",
       "      <td>True</td>\n",
       "    </tr>\n",
       "  </tbody>\n",
       "</table>\n",
       "</div>"
      ],
      "text/plain": [
       "   id_peop  first_name    last_name  company_id network_username  id_edu  \\\n",
       "0       10        Mark   Zuckerberg         5.0              NaN  2415.0   \n",
       "1      100       Peter       Lester        27.0              NaN     NaN   \n",
       "2     1000  Dr. Steven  E. Saunders       292.0              NaN     NaN   \n",
       "\n",
       "   person_id        instituition graduated_at  inst_isna  grad_isna      id  \\\n",
       "0       10.0  Harvard University          NaT      False       True  2415.0   \n",
       "1        NaN                 NaN          NaT       True       True     NaN   \n",
       "2        NaN                 NaN          NaT       True       True     NaN   \n",
       "\n",
       "  object_id degree_type           subject  pure_id  degree_isna  sbj_isna  \n",
       "0      p:10         NaN  Computer Science     10.0         True     False  \n",
       "1       NaN         NaN               NaN      NaN         True      True  \n",
       "2       NaN         NaN               NaN      NaN         True      True  "
      ]
     },
     "execution_count": 40,
     "metadata": {},
     "output_type": "execute_result"
    }
   ],
   "source": [
    "# создадим дополнительные столбцы с указателем на пропуски в строке\n",
    "ped_df['inst_isna'] = ped_df['instituition'].isna()\n",
    "ped_df['grad_isna'] = ped_df['graduated_at'].isna()\n",
    "ped_df['degree_isna'] = ped_df['degree_type'].isna()\n",
    "ped_df['sbj_isna'] = ped_df['subject'].isna()\n",
    "\n",
    "# вывод результата\n",
    "ped_df.head(3)"
   ]
  },
  {
   "cell_type": "code",
   "execution_count": 41,
   "metadata": {},
   "outputs": [
    {
     "data": {
      "text/plain": [
       "0.3026878838322565"
      ]
     },
     "execution_count": 41,
     "metadata": {},
     "output_type": "execute_result"
    }
   ],
   "source": [
    "# выведем количество данных с наличием образования в объединенном столбце\n",
    "(ped_df[(ped_df['inst_isna'] == False) | (ped_df['grad_isna'] == False) | (ped_df['degree_isna'] == False) | (ped_df['sbj_isna'] == False)].shape[0]) / ped_df.shape[0]"
   ]
  },
  {
   "cell_type": "markdown",
   "metadata": {},
   "source": [
    "Видем, что количество данных при присоединении третьего датасета не изменилось. Поэтому можем сделать вывод, что в этом нет необходимости"
   ]
  },
  {
   "cell_type": "markdown",
   "metadata": {},
   "source": [
    "Создадим функцию, которая обобщает информацию об образовании. Для удобства дальнейшей работы реализуем следующую логику: если у человека есть запись либо об учебном заведении, либо о дате выпуска, то функция будет возвращать значение \"0\". В противном случае будет возвращаться \"1\". Это упростит поиск доли сотрудников *без информации об образовании*. Таким образом, метка \"1\" будет означать, что у сотрудника отсутствует любая информация об образовании, а \"0\" будет указывать на наличие данных либо об учебном заведении, либо о дате выпуска."
   ]
  },
  {
   "cell_type": "code",
   "execution_count": 42,
   "metadata": {},
   "outputs": [],
   "source": [
    "# функция для проверки наличия образования\n",
    "def no_inf(row):\n",
    "    if (row['inst_isna'] == 0) | (row['grad_isna'] == 0):\n",
    "        return 0\n",
    "    else:\n",
    "        return 1  "
   ]
  },
  {
   "cell_type": "code",
   "execution_count": 43,
   "metadata": {},
   "outputs": [
    {
     "data": {
      "text/html": [
       "<div>\n",
       "<style scoped>\n",
       "    .dataframe tbody tr th:only-of-type {\n",
       "        vertical-align: middle;\n",
       "    }\n",
       "\n",
       "    .dataframe tbody tr th {\n",
       "        vertical-align: top;\n",
       "    }\n",
       "\n",
       "    .dataframe thead th {\n",
       "        text-align: right;\n",
       "    }\n",
       "</style>\n",
       "<table border=\"1\" class=\"dataframe\">\n",
       "  <thead>\n",
       "    <tr style=\"text-align: right;\">\n",
       "      <th></th>\n",
       "      <th>id_peop</th>\n",
       "      <th>first_name</th>\n",
       "      <th>last_name</th>\n",
       "      <th>company_id</th>\n",
       "      <th>network_username</th>\n",
       "      <th>id_edu</th>\n",
       "      <th>person_id</th>\n",
       "      <th>instituition</th>\n",
       "      <th>graduated_at</th>\n",
       "      <th>inst_isna</th>\n",
       "      <th>grad_isna</th>\n",
       "      <th>not_education</th>\n",
       "    </tr>\n",
       "  </thead>\n",
       "  <tbody>\n",
       "    <tr>\n",
       "      <th>0</th>\n",
       "      <td>10</td>\n",
       "      <td>Mark</td>\n",
       "      <td>Zuckerberg</td>\n",
       "      <td>5.0</td>\n",
       "      <td>NaN</td>\n",
       "      <td>2415.0</td>\n",
       "      <td>10.0</td>\n",
       "      <td>Harvard University</td>\n",
       "      <td>NaT</td>\n",
       "      <td>False</td>\n",
       "      <td>True</td>\n",
       "      <td>0</td>\n",
       "    </tr>\n",
       "    <tr>\n",
       "      <th>1</th>\n",
       "      <td>100</td>\n",
       "      <td>Peter</td>\n",
       "      <td>Lester</td>\n",
       "      <td>27.0</td>\n",
       "      <td>NaN</td>\n",
       "      <td>NaN</td>\n",
       "      <td>NaN</td>\n",
       "      <td>NaN</td>\n",
       "      <td>NaT</td>\n",
       "      <td>True</td>\n",
       "      <td>True</td>\n",
       "      <td>1</td>\n",
       "    </tr>\n",
       "    <tr>\n",
       "      <th>2</th>\n",
       "      <td>1000</td>\n",
       "      <td>Dr. Steven</td>\n",
       "      <td>E. Saunders</td>\n",
       "      <td>292.0</td>\n",
       "      <td>NaN</td>\n",
       "      <td>NaN</td>\n",
       "      <td>NaN</td>\n",
       "      <td>NaN</td>\n",
       "      <td>NaT</td>\n",
       "      <td>True</td>\n",
       "      <td>True</td>\n",
       "      <td>1</td>\n",
       "    </tr>\n",
       "    <tr>\n",
       "      <th>3</th>\n",
       "      <td>10000</td>\n",
       "      <td>Neil</td>\n",
       "      <td>Capel</td>\n",
       "      <td>2526.0</td>\n",
       "      <td>NaN</td>\n",
       "      <td>NaN</td>\n",
       "      <td>NaN</td>\n",
       "      <td>NaN</td>\n",
       "      <td>NaT</td>\n",
       "      <td>True</td>\n",
       "      <td>True</td>\n",
       "      <td>1</td>\n",
       "    </tr>\n",
       "    <tr>\n",
       "      <th>4</th>\n",
       "      <td>100000</td>\n",
       "      <td>Sue</td>\n",
       "      <td>Pilsch</td>\n",
       "      <td>NaN</td>\n",
       "      <td>NaN</td>\n",
       "      <td>NaN</td>\n",
       "      <td>NaN</td>\n",
       "      <td>NaN</td>\n",
       "      <td>NaT</td>\n",
       "      <td>True</td>\n",
       "      <td>True</td>\n",
       "      <td>1</td>\n",
       "    </tr>\n",
       "    <tr>\n",
       "      <th>5</th>\n",
       "      <td>100002</td>\n",
       "      <td>Keith</td>\n",
       "      <td>Kurzendoerfer</td>\n",
       "      <td>NaN</td>\n",
       "      <td>NaN</td>\n",
       "      <td>NaN</td>\n",
       "      <td>NaN</td>\n",
       "      <td>NaN</td>\n",
       "      <td>NaT</td>\n",
       "      <td>True</td>\n",
       "      <td>True</td>\n",
       "      <td>1</td>\n",
       "    </tr>\n",
       "    <tr>\n",
       "      <th>6</th>\n",
       "      <td>100006</td>\n",
       "      <td>Courtney</td>\n",
       "      <td>Homer</td>\n",
       "      <td>81558.0</td>\n",
       "      <td>jobsbostontech</td>\n",
       "      <td>83604.0</td>\n",
       "      <td>100006.0</td>\n",
       "      <td>MIT Sloan School of Management</td>\n",
       "      <td>2004-01-01</td>\n",
       "      <td>False</td>\n",
       "      <td>False</td>\n",
       "      <td>0</td>\n",
       "    </tr>\n",
       "  </tbody>\n",
       "</table>\n",
       "</div>"
      ],
      "text/plain": [
       "   id_peop  first_name      last_name  company_id network_username   id_edu  \\\n",
       "0       10        Mark     Zuckerberg         5.0              NaN   2415.0   \n",
       "1      100       Peter         Lester        27.0              NaN      NaN   \n",
       "2     1000  Dr. Steven    E. Saunders       292.0              NaN      NaN   \n",
       "3    10000        Neil          Capel      2526.0              NaN      NaN   \n",
       "4   100000         Sue         Pilsch         NaN              NaN      NaN   \n",
       "5   100002       Keith  Kurzendoerfer         NaN              NaN      NaN   \n",
       "6   100006    Courtney          Homer     81558.0   jobsbostontech  83604.0   \n",
       "\n",
       "   person_id                    instituition graduated_at  inst_isna  \\\n",
       "0       10.0              Harvard University          NaT      False   \n",
       "1        NaN                             NaN          NaT       True   \n",
       "2        NaN                             NaN          NaT       True   \n",
       "3        NaN                             NaN          NaT       True   \n",
       "4        NaN                             NaN          NaT       True   \n",
       "5        NaN                             NaN          NaT       True   \n",
       "6   100006.0  MIT Sloan School of Management   2004-01-01      False   \n",
       "\n",
       "   grad_isna  not_education  \n",
       "0       True              0  \n",
       "1       True              1  \n",
       "2       True              1  \n",
       "3       True              1  \n",
       "4       True              1  \n",
       "5       True              1  \n",
       "6      False              0  "
      ]
     },
     "execution_count": 43,
     "metadata": {},
     "output_type": "execute_result"
    }
   ],
   "source": [
    "# применяем функцию к датафрейму\n",
    "peop_edu_df['not_education'] = peop_edu_df.apply(no_inf, axis=1)\n",
    "peop_edu_df.head(7)"
   ]
  },
  {
   "cell_type": "code",
   "execution_count": 44,
   "metadata": {},
   "outputs": [
    {
     "data": {
      "text/html": [
       "<div>\n",
       "<style scoped>\n",
       "    .dataframe tbody tr th:only-of-type {\n",
       "        vertical-align: middle;\n",
       "    }\n",
       "\n",
       "    .dataframe tbody tr th {\n",
       "        vertical-align: top;\n",
       "    }\n",
       "\n",
       "    .dataframe thead th {\n",
       "        text-align: right;\n",
       "    }\n",
       "</style>\n",
       "<table border=\"1\" class=\"dataframe\">\n",
       "  <thead>\n",
       "    <tr style=\"text-align: right;\">\n",
       "      <th></th>\n",
       "      <th>id_peop</th>\n",
       "      <th>not_education</th>\n",
       "    </tr>\n",
       "    <tr>\n",
       "      <th>company_id</th>\n",
       "      <th></th>\n",
       "      <th></th>\n",
       "    </tr>\n",
       "  </thead>\n",
       "  <tbody>\n",
       "    <tr>\n",
       "      <th>59.0</th>\n",
       "      <td>226</td>\n",
       "      <td>0.314159</td>\n",
       "    </tr>\n",
       "    <tr>\n",
       "      <th>29.0</th>\n",
       "      <td>134</td>\n",
       "      <td>0.261194</td>\n",
       "    </tr>\n",
       "    <tr>\n",
       "      <th>1242.0</th>\n",
       "      <td>124</td>\n",
       "      <td>0.266129</td>\n",
       "    </tr>\n",
       "    <tr>\n",
       "      <th>231067.0</th>\n",
       "      <td>71</td>\n",
       "      <td>0.197183</td>\n",
       "    </tr>\n",
       "    <tr>\n",
       "      <th>499.0</th>\n",
       "      <td>59</td>\n",
       "      <td>0.305085</td>\n",
       "    </tr>\n",
       "    <tr>\n",
       "      <th>...</th>\n",
       "      <td>...</td>\n",
       "      <td>...</td>\n",
       "    </tr>\n",
       "    <tr>\n",
       "      <th>6777.0</th>\n",
       "      <td>1</td>\n",
       "      <td>1.000000</td>\n",
       "    </tr>\n",
       "    <tr>\n",
       "      <th>63265.0</th>\n",
       "      <td>1</td>\n",
       "      <td>1.000000</td>\n",
       "    </tr>\n",
       "    <tr>\n",
       "      <th>63268.0</th>\n",
       "      <td>1</td>\n",
       "      <td>0.000000</td>\n",
       "    </tr>\n",
       "    <tr>\n",
       "      <th>63286.0</th>\n",
       "      <td>1</td>\n",
       "      <td>0.000000</td>\n",
       "    </tr>\n",
       "    <tr>\n",
       "      <th>71537.0</th>\n",
       "      <td>1</td>\n",
       "      <td>0.000000</td>\n",
       "    </tr>\n",
       "  </tbody>\n",
       "</table>\n",
       "<p>21829 rows × 2 columns</p>\n",
       "</div>"
      ],
      "text/plain": [
       "            id_peop  not_education\n",
       "company_id                        \n",
       "59.0            226       0.314159\n",
       "29.0            134       0.261194\n",
       "1242.0          124       0.266129\n",
       "231067.0         71       0.197183\n",
       "499.0            59       0.305085\n",
       "...             ...            ...\n",
       "6777.0            1       1.000000\n",
       "63265.0           1       1.000000\n",
       "63268.0           1       0.000000\n",
       "63286.0           1       0.000000\n",
       "71537.0           1       0.000000\n",
       "\n",
       "[21829 rows x 2 columns]"
      ]
     },
     "execution_count": 44,
     "metadata": {},
     "output_type": "execute_result"
    }
   ],
   "source": [
    "# выводим информацию о компаниях, сортировка по убыванию персонала\n",
    "peop_edu_df.groupby('company_id').agg({'id_peop': 'count', 'not_education': 'mean'}).sort_values(by='id_peop', ascending=False)"
   ]
  },
  {
   "cell_type": "markdown",
   "metadata": {},
   "source": [
    "Проверим распределение численности сотрудников по компаниям с помощью decsribe и quantile, так как данные численные и меют непрерывное распределение:"
   ]
  },
  {
   "cell_type": "code",
   "execution_count": 45,
   "metadata": {},
   "outputs": [
    {
     "data": {
      "text/plain": [
       "count    21829.000000\n",
       "mean         1.483256\n",
       "std          2.604611\n",
       "min          1.000000\n",
       "25%          1.000000\n",
       "50%          1.000000\n",
       "75%          1.000000\n",
       "max        226.000000\n",
       "Name: id_peop, dtype: float64"
      ]
     },
     "execution_count": 45,
     "metadata": {},
     "output_type": "execute_result"
    }
   ],
   "source": [
    "# берем только одну колонку из полученного ранее датасета и применяем describe\n",
    "test = peop_edu_df.groupby('company_id').agg({'id_peop': 'count', 'not_education': 'mean'}).sort_values(by='id_peop', ascending=False)\n",
    "test['id_peop'].describe()"
   ]
  },
  {
   "cell_type": "code",
   "execution_count": 46,
   "metadata": {},
   "outputs": [
    {
     "data": {
      "text/plain": [
       "3.0"
      ]
     },
     "execution_count": 46,
     "metadata": {},
     "output_type": "execute_result"
    }
   ],
   "source": [
    "# ищем процентиль\n",
    "test['id_peop'].quantile(0.95)"
   ]
  },
  {
   "cell_type": "code",
   "execution_count": 47,
   "metadata": {},
   "outputs": [
    {
     "data": {
      "text/plain": [
       "7.0"
      ]
     },
     "execution_count": 47,
     "metadata": {},
     "output_type": "execute_result"
    }
   ],
   "source": [
    "# ищем процентиль\n",
    "test['id_peop'].quantile(0.99)"
   ]
  },
  {
   "cell_type": "markdown",
   "metadata": {},
   "source": [
    "Согласно статистическим данным, можно отметить, что большинство компаний имеют лишь одного сотрудника (75% от общего числа). 95% компаний располагают не более чем тремя сотрудниками, а 99% ограничиваются семью. В оставшемся проценте находятся компании с значительно большим числом сотрудников, включая одну, в которой максимальное количество работников достигает 226 человек."
   ]
  },
  {
   "cell_type": "code",
   "execution_count": 48,
   "metadata": {},
   "outputs": [],
   "source": [
    "# изменим название колонок в соответствии со смыслом содержимого\n",
    "comp_info = peop_edu_df.groupby('company_id').agg({'id_peop': 'count', 'not_education': 'mean'}).sort_values(by='id_peop', ascending=False)\n",
    "comp_info.columns = ['personal', 'part_no_education']"
   ]
  },
  {
   "cell_type": "markdown",
   "metadata": {},
   "source": [
    "Целесообразно разделить все компании следующим образом (согласно классификации предприятий ФЗ №209):\n",
    "* Численность работников до 15 чел. включительно - микропредприятие ('micro enterprise')\n",
    "* Численность работников от 16 до 100 чел. включительно - малое предприятие ('small enterprise')\n",
    "* Численность работников от 101 до 250 чел. включительно - среднее предприятие ('medium enterprise')\n",
    "\n",
    "\n",
    "Но так как 99 процентиль показал 7 сотрудников будет целесообразно понизить пороговые значения:\n",
    "* Численность работников до 5 чел. включительно - микропредприятие ('micro enterprise')\n",
    "* Численность работников от 16 до 100 чел. включительно - малое предприятие ('small enterprise')\n",
    "* Численность работников от 101 до 250 чел. включительно - среднее предприятие ('medium enterprise')"
   ]
  },
  {
   "cell_type": "code",
   "execution_count": 49,
   "metadata": {},
   "outputs": [],
   "source": [
    "def category_company(row): \n",
    "    if row <= 5:\n",
    "        return 'micro enterprise'\n",
    "    if 15 < row <= 100:\n",
    "        return 'small enterprise'\n",
    "    if 100 < row <= 250:\n",
    "        return 'medium enterprise'"
   ]
  },
  {
   "cell_type": "code",
   "execution_count": 50,
   "metadata": {},
   "outputs": [
    {
     "data": {
      "text/html": [
       "<div>\n",
       "<style scoped>\n",
       "    .dataframe tbody tr th:only-of-type {\n",
       "        vertical-align: middle;\n",
       "    }\n",
       "\n",
       "    .dataframe tbody tr th {\n",
       "        vertical-align: top;\n",
       "    }\n",
       "\n",
       "    .dataframe thead th {\n",
       "        text-align: right;\n",
       "    }\n",
       "</style>\n",
       "<table border=\"1\" class=\"dataframe\">\n",
       "  <thead>\n",
       "    <tr style=\"text-align: right;\">\n",
       "      <th></th>\n",
       "      <th>company_id</th>\n",
       "      <th>personal</th>\n",
       "      <th>part_no_education</th>\n",
       "      <th>category</th>\n",
       "    </tr>\n",
       "  </thead>\n",
       "  <tbody>\n",
       "    <tr>\n",
       "      <th>0</th>\n",
       "      <td>59.0</td>\n",
       "      <td>226</td>\n",
       "      <td>0.314159</td>\n",
       "      <td>medium enterprise</td>\n",
       "    </tr>\n",
       "    <tr>\n",
       "      <th>1</th>\n",
       "      <td>29.0</td>\n",
       "      <td>134</td>\n",
       "      <td>0.261194</td>\n",
       "      <td>medium enterprise</td>\n",
       "    </tr>\n",
       "    <tr>\n",
       "      <th>2</th>\n",
       "      <td>1242.0</td>\n",
       "      <td>124</td>\n",
       "      <td>0.266129</td>\n",
       "      <td>medium enterprise</td>\n",
       "    </tr>\n",
       "    <tr>\n",
       "      <th>3</th>\n",
       "      <td>231067.0</td>\n",
       "      <td>71</td>\n",
       "      <td>0.197183</td>\n",
       "      <td>small enterprise</td>\n",
       "    </tr>\n",
       "    <tr>\n",
       "      <th>4</th>\n",
       "      <td>499.0</td>\n",
       "      <td>59</td>\n",
       "      <td>0.305085</td>\n",
       "      <td>small enterprise</td>\n",
       "    </tr>\n",
       "    <tr>\n",
       "      <th>...</th>\n",
       "      <td>...</td>\n",
       "      <td>...</td>\n",
       "      <td>...</td>\n",
       "      <td>...</td>\n",
       "    </tr>\n",
       "    <tr>\n",
       "      <th>21824</th>\n",
       "      <td>6777.0</td>\n",
       "      <td>1</td>\n",
       "      <td>1.000000</td>\n",
       "      <td>micro enterprise</td>\n",
       "    </tr>\n",
       "    <tr>\n",
       "      <th>21825</th>\n",
       "      <td>63265.0</td>\n",
       "      <td>1</td>\n",
       "      <td>1.000000</td>\n",
       "      <td>micro enterprise</td>\n",
       "    </tr>\n",
       "    <tr>\n",
       "      <th>21826</th>\n",
       "      <td>63268.0</td>\n",
       "      <td>1</td>\n",
       "      <td>0.000000</td>\n",
       "      <td>micro enterprise</td>\n",
       "    </tr>\n",
       "    <tr>\n",
       "      <th>21827</th>\n",
       "      <td>63286.0</td>\n",
       "      <td>1</td>\n",
       "      <td>0.000000</td>\n",
       "      <td>micro enterprise</td>\n",
       "    </tr>\n",
       "    <tr>\n",
       "      <th>21828</th>\n",
       "      <td>71537.0</td>\n",
       "      <td>1</td>\n",
       "      <td>0.000000</td>\n",
       "      <td>micro enterprise</td>\n",
       "    </tr>\n",
       "  </tbody>\n",
       "</table>\n",
       "<p>21829 rows × 4 columns</p>\n",
       "</div>"
      ],
      "text/plain": [
       "       company_id  personal  part_no_education           category\n",
       "0            59.0       226           0.314159  medium enterprise\n",
       "1            29.0       134           0.261194  medium enterprise\n",
       "2          1242.0       124           0.266129  medium enterprise\n",
       "3        231067.0        71           0.197183   small enterprise\n",
       "4           499.0        59           0.305085   small enterprise\n",
       "...           ...       ...                ...                ...\n",
       "21824      6777.0         1           1.000000   micro enterprise\n",
       "21825     63265.0         1           1.000000   micro enterprise\n",
       "21826     63268.0         1           0.000000   micro enterprise\n",
       "21827     63286.0         1           0.000000   micro enterprise\n",
       "21828     71537.0         1           0.000000   micro enterprise\n",
       "\n",
       "[21829 rows x 4 columns]"
      ]
     },
     "metadata": {},
     "output_type": "display_data"
    }
   ],
   "source": [
    "# перед проведением категоризации определим датафрейм\n",
    "company_df = comp_info.reset_index()\n",
    "\n",
    "# проведем категоризацию данных\n",
    "company_df['category'] = company_df['personal'].apply(category_company)\n",
    "\n",
    "# результат\n",
    "display(company_df)"
   ]
  },
  {
   "cell_type": "markdown",
   "metadata": {},
   "source": [
    "После получения промежуточной таблицы, в которой будет представлена численность работников каждого предприятия и доля сотрудников без данных об образовании, мы проведем группировку по типам предприятий. Затем внутри каждой группы определим среднюю долю сотрудников, не имеющих информации об образовании."
   ]
  },
  {
   "cell_type": "code",
   "execution_count": 51,
   "metadata": {},
   "outputs": [
    {
     "data": {
      "text/html": [
       "<div>\n",
       "<style scoped>\n",
       "    .dataframe tbody tr th:only-of-type {\n",
       "        vertical-align: middle;\n",
       "    }\n",
       "\n",
       "    .dataframe tbody tr th {\n",
       "        vertical-align: top;\n",
       "    }\n",
       "\n",
       "    .dataframe thead th {\n",
       "        text-align: right;\n",
       "    }\n",
       "</style>\n",
       "<table border=\"1\" class=\"dataframe\">\n",
       "  <thead>\n",
       "    <tr style=\"text-align: right;\">\n",
       "      <th></th>\n",
       "      <th>part_no_education</th>\n",
       "    </tr>\n",
       "    <tr>\n",
       "      <th>category</th>\n",
       "      <th></th>\n",
       "    </tr>\n",
       "  </thead>\n",
       "  <tbody>\n",
       "    <tr>\n",
       "      <th>medium enterprise</th>\n",
       "      <td>0.280494</td>\n",
       "    </tr>\n",
       "    <tr>\n",
       "      <th>micro enterprise</th>\n",
       "      <td>0.464882</td>\n",
       "    </tr>\n",
       "    <tr>\n",
       "      <th>small enterprise</th>\n",
       "      <td>0.390147</td>\n",
       "    </tr>\n",
       "  </tbody>\n",
       "</table>\n",
       "</div>"
      ],
      "text/plain": [
       "                   part_no_education\n",
       "category                            \n",
       "medium enterprise           0.280494\n",
       "micro enterprise            0.464882\n",
       "small enterprise            0.390147"
      ]
     },
     "execution_count": 51,
     "metadata": {},
     "output_type": "execute_result"
    }
   ],
   "source": [
    "# получаем данные о средней доли сотрудников без образования\n",
    "company_df.groupby('category').agg({'part_no_education': 'mean'})"
   ]
  },
  {
   "cell_type": "code",
   "execution_count": 52,
   "metadata": {},
   "outputs": [
    {
     "data": {
      "text/plain": [
       "<Figure size 1080x1080 with 0 Axes>"
      ]
     },
     "metadata": {},
     "output_type": "display_data"
    },
    {
     "data": {
      "image/png": "[encoded data removed]",
      "text/plain": [
       "<Figure size 432x288 with 1 Axes>"
      ]
     },
     "metadata": {
      "needs_background": "light"
     },
     "output_type": "display_data"
    }
   ],
   "source": [
    "# строим визуализацию на основе полученных данных\n",
    "plt.figure(figsize=(15, 15))\n",
    "\n",
    "company_df.groupby('category').agg({'part_no_education': 'mean'}).plot(\n",
    "    kind='bar',\n",
    "    rot=0,\n",
    "    color='skyblue',\n",
    "    legend=False,\n",
    "    title='Средняя доля сотрудников без информации об образовании по типу предприятия')\n",
    "\n",
    "plt.xlabel('Тип предприятия')\n",
    "plt.ylabel('Доля')\n",
    "plt.grid(axis='y')\n",
    "plt.show()"
   ]
  },
  {
   "cell_type": "markdown",
   "metadata": {},
   "source": [
    "Визуализация наглядно демонстрирует, что наиболее высокая доля сотрудников без наличия записей об образовании среди микропредприятий (micro enterprise), далее идут малые предприятия."
   ]
  },
  {
   "cell_type": "markdown",
   "metadata": {},
   "source": [
    "### 2.3. Объединять или не объединять — вот в чём вопрос\n",
    "\n",
    "Некоторые названия столбцов встречаются в датасетах чаще других. И, например, в результате предварительной проверки датасетов было выяснено, что столбец `company_id` подходит для объединения данных, так как большая часть значений встречается в разных датасетах не один, а несколько раз. Этот столбец может быть использован для объединения данных.\n",
    "\n",
    "* Установите, подходит ли для объединения данных столбец `network_username`, который встречается в нескольких датасетах. Нам необходимо понимать, дублируется ли для разных датасетов информация в столбцах с таким названием, и если да — то насколько часто.\n",
    "\n",
    "* Оцените, можно ли использовать столбцы с именем `network_username` для объединения данных."
   ]
  },
  {
   "cell_type": "markdown",
   "metadata": {
    "id": "Cf5IjfOQrJg1"
   },
   "source": [
    "Используя множества, определим уникальные данные в столбцах `network_username` каждого датафрейма."
   ]
  },
  {
   "cell_type": "code",
   "execution_count": 53,
   "metadata": {
    "id": "CilOkz-inz37"
   },
   "outputs": [
    {
     "name": "stdout",
     "output_type": "stream",
     "text": [
      "Количество уникальных ников среди датафрейма company_and_rounds: 79572\n"
     ]
    }
   ],
   "source": [
    "# определим множество ников компаний и найдем его размер\n",
    "network_comp = set(comp_df['network_username'])\n",
    "print('Количество уникальных ников среди датафрейма company_and_rounds:', len(network_comp))"
   ]
  },
  {
   "cell_type": "code",
   "execution_count": 54,
   "metadata": {},
   "outputs": [
    {
     "name": "stdout",
     "output_type": "stream",
     "text": [
      "Количество уникальных ников среди датафрейма people: 38422\n"
     ]
    }
   ],
   "source": [
    "# определим множество ников компаний и найдем его размер\n",
    "network_people = set(peop_df['network_username'])\n",
    "print('Количество уникальных ников среди датафрейма people:', len(network_people))"
   ]
  },
  {
   "cell_type": "code",
   "execution_count": 55,
   "metadata": {},
   "outputs": [
    {
     "name": "stdout",
     "output_type": "stream",
     "text": [
      "Количество уникальных ников среди датафрейма fund: 2099\n"
     ]
    }
   ],
   "source": [
    "# определим множество ников компаний и найдем его размер\n",
    "network_fund = set(fund_df['network_username'])\n",
    "print('Количество уникальных ников среди датафрейма fund:', len(network_fund))"
   ]
  },
  {
   "cell_type": "markdown",
   "metadata": {},
   "source": [
    "После того как найдено количество уникальных значений в разных столбцах `network_username`, ищем количество пересечений множеств по отдельности и у всех сразу."
   ]
  },
  {
   "cell_type": "code",
   "execution_count": 56,
   "metadata": {},
   "outputs": [
    {
     "name": "stdout",
     "output_type": "stream",
     "text": [
      "Количество пересечений у company_and_rounds и people: 2200\n"
     ]
    }
   ],
   "source": [
    "# выводим количество пересечений у множеств\n",
    "print('Количество пересечений у company_and_rounds и people:', len(network_comp.intersection(network_people)))"
   ]
  },
  {
   "cell_type": "code",
   "execution_count": 57,
   "metadata": {},
   "outputs": [
    {
     "name": "stdout",
     "output_type": "stream",
     "text": [
      "Количество пересечений у company_and_rounds и fund: 71\n"
     ]
    }
   ],
   "source": [
    "# выводим количество пересечений у множеств\n",
    "print('Количество пересечений у company_and_rounds и fund:', len(network_comp.intersection(network_fund)))"
   ]
  },
  {
   "cell_type": "code",
   "execution_count": 58,
   "metadata": {},
   "outputs": [
    {
     "name": "stdout",
     "output_type": "stream",
     "text": [
      "Количество пересечений у people и fund: 80\n"
     ]
    }
   ],
   "source": [
    "# выводим количество пересечений у множеств\n",
    "print('Количество пересечений у people и fund:', len(network_people.intersection(network_fund)))"
   ]
  },
  {
   "cell_type": "code",
   "execution_count": 59,
   "metadata": {},
   "outputs": [
    {
     "name": "stdout",
     "output_type": "stream",
     "text": [
      "Количество пересечений у всех трех датафреймов: 8\n"
     ]
    }
   ],
   "source": [
    "# выводим количество пересечений у множеств\n",
    "print('Количество пересечений у всех трех датафреймов:', len(network_comp.intersection(network_people, network_fund)))"
   ]
  },
  {
   "cell_type": "markdown",
   "metadata": {},
   "source": [
    "Будем считать таблицу `company_and_rounds` основной, так как в ней больше всего уникальных ников. Для решения вопроса о присоединении по столбцу `network_username` проведем сравнение пересечений множеств в долях."
   ]
  },
  {
   "cell_type": "code",
   "execution_count": 60,
   "metadata": {},
   "outputs": [
    {
     "name": "stdout",
     "output_type": "stream",
     "text": [
      "Доля строк company_and_round, имеющих пересечение с people: 0.0276479163524858\n"
     ]
    }
   ],
   "source": [
    "# найдем долю пересечений от общего количества уникальных ников\n",
    "print('Доля строк company_and_round, имеющих пересечение с people:', len(network_comp.intersection(network_people)) / len(network_comp))"
   ]
  },
  {
   "cell_type": "code",
   "execution_count": 61,
   "metadata": {},
   "outputs": [
    {
     "name": "stdout",
     "output_type": "stream",
     "text": [
      "Доля строк company_and_round, имеющих пересечение с fund: 0.0008922736641029508\n"
     ]
    }
   ],
   "source": [
    "# найдем долю пересечений от общего количества уникальных ников\n",
    "print('Доля строк company_and_round, имеющих пересечение с fund:', len(network_comp.intersection(network_fund)) / len(network_comp))"
   ]
  },
  {
   "cell_type": "code",
   "execution_count": 62,
   "metadata": {},
   "outputs": [
    {
     "name": "stdout",
     "output_type": "stream",
     "text": [
      "Доля строк company_and_round, имеющих пересечение с обоими множествами: 0.0001005378776454029\n"
     ]
    }
   ],
   "source": [
    "# найдем долю пересечений от общего количества уникальных ников\n",
    "print('Доля строк company_and_round, имеющих пересечение с обоими множествами:', len(network_comp.intersection(network_people, network_fund)) / len(network_comp))"
   ]
  },
  {
   "cell_type": "markdown",
   "metadata": {},
   "source": [
    "Таким образом, можно сделать вывод о нецелесообразности присоединения датафреймов по столбцу network_username, так как общая доля уникальных ников в датафрейме с компаниями составляет 79572 значений, а доля потенциально присоединяемых строк 0.027 (или примерно 3%) и 0.0009 (или примерно 0.1%) соответственно с датафреймами `people.csv` и `fund.csv`."
   ]
  },
  {
   "cell_type": "markdown",
   "metadata": {
    "id": "EHcODomVrJg1"
   },
   "source": [
    "\n",
    "### 2.4. Проблемный датасет и причина возникновения пропусков\n",
    "\n",
    "Во время собственного анализа данных у заказчика больше всего вопросов возникло к датасету `company_and_rounds.csv`. В нём много пропусков как раз в информации о раундах, которая заказчику важна. Хотя информация об общем объёме финансирования по раундам присутствует в других датасетах, заказчик считает данные `company_and_rounds.csv` о размере средств наиболее верными.\n",
    "\n",
    "* Любым удобным способом приведите данные в вид, который позволяет проводить анализ в разрезе отдельных компаний. Можно изменять форму данных, порядок их хранения. Обратите внимание на структуру датасета, порядок и названия столбцов, проанализируйте значения.\n",
    "\n",
    "По гипотезе заказчика данные по компаниям из этой таблицы раньше хранились иначе, более удобным для исследования образом.\n",
    "\n",
    "* Максимальным образом сохраняя данные, сохранив их связность и исключив возможные возникающие при этом ошибки, подготовьте данные так, чтобы удобно было отобрать компании по параметрам и рассчитать показатели из расчёта на одну компанию."
   ]
  },
  {
   "cell_type": "markdown",
   "metadata": {
    "id": "tJ6Sl6MKrJg1"
   },
   "source": [
    "Из предыдущего предположения о том, что весь датасет `company_and_rounds` образован путем слияния нескольких, проведем его обработку. Возьмем колонки (первые 13), предположительно относящиеся к одной из соединенных таблиц и соберем в один отдельный датафрейм `company_df`. Оставшиеся колонки и данные в них объединим в датафрейм `rounds_df`.\n",
    "\n",
    "Начнем с удаления пустых строк, в которых не содержится совершенно никаких данных о компаниях - во всех 13 колонках (вне зависимости от того, есть ли данные о раундах), потому что без подобных данных дальнейший анализ нецелесообразен. Выведем информацию в этих 13 колонках:"
   ]
  },
  {
   "cell_type": "code",
   "execution_count": 63,
   "metadata": {
    "id": "SFfUmzron0Tc"
   },
   "outputs": [
    {
     "data": {
      "text/html": [
       "<div>\n",
       "<style scoped>\n",
       "    .dataframe tbody tr th:only-of-type {\n",
       "        vertical-align: middle;\n",
       "    }\n",
       "\n",
       "    .dataframe tbody tr th {\n",
       "        vertical-align: top;\n",
       "    }\n",
       "\n",
       "    .dataframe thead th {\n",
       "        text-align: right;\n",
       "    }\n",
       "</style>\n",
       "<table border=\"1\" class=\"dataframe\">\n",
       "  <thead>\n",
       "    <tr style=\"text-align: right;\">\n",
       "      <th></th>\n",
       "      <th>company_ID</th>\n",
       "      <th>name</th>\n",
       "      <th>category_code</th>\n",
       "      <th>status</th>\n",
       "      <th>founded_at</th>\n",
       "      <th>closed_at</th>\n",
       "      <th>domain</th>\n",
       "      <th>network_username</th>\n",
       "      <th>country_code</th>\n",
       "      <th>investment_rounds</th>\n",
       "      <th>funding_rounds</th>\n",
       "      <th>funding_total</th>\n",
       "      <th>milestones</th>\n",
       "    </tr>\n",
       "  </thead>\n",
       "  <tbody>\n",
       "    <tr>\n",
       "      <th>0</th>\n",
       "      <td>1.0</td>\n",
       "      <td>Wetpaint</td>\n",
       "      <td>web</td>\n",
       "      <td>operating</td>\n",
       "      <td>2005-10-17</td>\n",
       "      <td>NaT</td>\n",
       "      <td>wetpaint-inc.com</td>\n",
       "      <td>BachelrWetpaint</td>\n",
       "      <td>USA</td>\n",
       "      <td>0.0</td>\n",
       "      <td>3.0</td>\n",
       "      <td>39750000.0</td>\n",
       "      <td>5.0</td>\n",
       "    </tr>\n",
       "    <tr>\n",
       "      <th>1</th>\n",
       "      <td>1.0</td>\n",
       "      <td>Wetpaint</td>\n",
       "      <td>web</td>\n",
       "      <td>operating</td>\n",
       "      <td>2005-10-17</td>\n",
       "      <td>NaT</td>\n",
       "      <td>wetpaint-inc.com</td>\n",
       "      <td>BachelrWetpaint</td>\n",
       "      <td>USA</td>\n",
       "      <td>0.0</td>\n",
       "      <td>3.0</td>\n",
       "      <td>39750000.0</td>\n",
       "      <td>5.0</td>\n",
       "    </tr>\n",
       "    <tr>\n",
       "      <th>2</th>\n",
       "      <td>1.0</td>\n",
       "      <td>Wetpaint</td>\n",
       "      <td>web</td>\n",
       "      <td>operating</td>\n",
       "      <td>2005-10-17</td>\n",
       "      <td>NaT</td>\n",
       "      <td>wetpaint-inc.com</td>\n",
       "      <td>BachelrWetpaint</td>\n",
       "      <td>USA</td>\n",
       "      <td>0.0</td>\n",
       "      <td>3.0</td>\n",
       "      <td>39750000.0</td>\n",
       "      <td>5.0</td>\n",
       "    </tr>\n",
       "    <tr>\n",
       "      <th>3</th>\n",
       "      <td>10.0</td>\n",
       "      <td>Flektor</td>\n",
       "      <td>games_video</td>\n",
       "      <td>acquired</td>\n",
       "      <td>NaT</td>\n",
       "      <td>NaT</td>\n",
       "      <td>flektor.com</td>\n",
       "      <td>NaN</td>\n",
       "      <td>USA</td>\n",
       "      <td>0.0</td>\n",
       "      <td>0.0</td>\n",
       "      <td>0.0</td>\n",
       "      <td>0.0</td>\n",
       "    </tr>\n",
       "    <tr>\n",
       "      <th>4</th>\n",
       "      <td>100.0</td>\n",
       "      <td>There</td>\n",
       "      <td>games_video</td>\n",
       "      <td>acquired</td>\n",
       "      <td>NaT</td>\n",
       "      <td>NaT</td>\n",
       "      <td>there.com</td>\n",
       "      <td>NaN</td>\n",
       "      <td>USA</td>\n",
       "      <td>0.0</td>\n",
       "      <td>0.0</td>\n",
       "      <td>0.0</td>\n",
       "      <td>4.0</td>\n",
       "    </tr>\n",
       "    <tr>\n",
       "      <th>5</th>\n",
       "      <td>10000.0</td>\n",
       "      <td>MYWEBBO</td>\n",
       "      <td>network_hosting</td>\n",
       "      <td>operating</td>\n",
       "      <td>2008-07-26</td>\n",
       "      <td>NaT</td>\n",
       "      <td>mywebbo.com</td>\n",
       "      <td>NaN</td>\n",
       "      <td>NaN</td>\n",
       "      <td>0.0</td>\n",
       "      <td>0.0</td>\n",
       "      <td>0.0</td>\n",
       "      <td>0.0</td>\n",
       "    </tr>\n",
       "    <tr>\n",
       "      <th>6</th>\n",
       "      <td>10001.0</td>\n",
       "      <td>THE Movie Streamer</td>\n",
       "      <td>games_video</td>\n",
       "      <td>operating</td>\n",
       "      <td>2008-07-26</td>\n",
       "      <td>NaT</td>\n",
       "      <td>themoviestreamer.com</td>\n",
       "      <td>NaN</td>\n",
       "      <td>NaN</td>\n",
       "      <td>0.0</td>\n",
       "      <td>0.0</td>\n",
       "      <td>0.0</td>\n",
       "      <td>0.0</td>\n",
       "    </tr>\n",
       "    <tr>\n",
       "      <th>7</th>\n",
       "      <td>10002.0</td>\n",
       "      <td>Synergie Media</td>\n",
       "      <td>advertising</td>\n",
       "      <td>operating</td>\n",
       "      <td>2007-06-27</td>\n",
       "      <td>NaT</td>\n",
       "      <td>synergie-media.com</td>\n",
       "      <td>NaN</td>\n",
       "      <td>MAR</td>\n",
       "      <td>0.0</td>\n",
       "      <td>0.0</td>\n",
       "      <td>0.0</td>\n",
       "      <td>0.0</td>\n",
       "    </tr>\n",
       "    <tr>\n",
       "      <th>8</th>\n",
       "      <td>10003.0</td>\n",
       "      <td>Green Basti Ecosystems</td>\n",
       "      <td>cleantech</td>\n",
       "      <td>operating</td>\n",
       "      <td>2008-08-20</td>\n",
       "      <td>NaT</td>\n",
       "      <td>NaN</td>\n",
       "      <td>NaN</td>\n",
       "      <td>IND</td>\n",
       "      <td>0.0</td>\n",
       "      <td>0.0</td>\n",
       "      <td>0.0</td>\n",
       "      <td>0.0</td>\n",
       "    </tr>\n",
       "    <tr>\n",
       "      <th>9</th>\n",
       "      <td>100042.0</td>\n",
       "      <td>HostNine</td>\n",
       "      <td>NaN</td>\n",
       "      <td>operating</td>\n",
       "      <td>NaT</td>\n",
       "      <td>NaT</td>\n",
       "      <td>hostnine.com</td>\n",
       "      <td>Hostnine</td>\n",
       "      <td>NaN</td>\n",
       "      <td>0.0</td>\n",
       "      <td>0.0</td>\n",
       "      <td>0.0</td>\n",
       "      <td>1.0</td>\n",
       "    </tr>\n",
       "  </tbody>\n",
       "</table>\n",
       "</div>"
      ],
      "text/plain": [
       "   company_ID                    name    category_code     status founded_at  \\\n",
       "0         1.0                Wetpaint              web  operating 2005-10-17   \n",
       "1         1.0                Wetpaint              web  operating 2005-10-17   \n",
       "2         1.0                Wetpaint              web  operating 2005-10-17   \n",
       "3        10.0                 Flektor      games_video   acquired        NaT   \n",
       "4       100.0                   There      games_video   acquired        NaT   \n",
       "5     10000.0                 MYWEBBO  network_hosting  operating 2008-07-26   \n",
       "6     10001.0      THE Movie Streamer      games_video  operating 2008-07-26   \n",
       "7     10002.0          Synergie Media      advertising  operating 2007-06-27   \n",
       "8     10003.0  Green Basti Ecosystems        cleantech  operating 2008-08-20   \n",
       "9    100042.0                HostNine              NaN  operating        NaT   \n",
       "\n",
       "  closed_at                domain network_username country_code  \\\n",
       "0       NaT      wetpaint-inc.com  BachelrWetpaint          USA   \n",
       "1       NaT      wetpaint-inc.com  BachelrWetpaint          USA   \n",
       "2       NaT      wetpaint-inc.com  BachelrWetpaint          USA   \n",
       "3       NaT           flektor.com              NaN          USA   \n",
       "4       NaT             there.com              NaN          USA   \n",
       "5       NaT           mywebbo.com              NaN          NaN   \n",
       "6       NaT  themoviestreamer.com              NaN          NaN   \n",
       "7       NaT    synergie-media.com              NaN          MAR   \n",
       "8       NaT                   NaN              NaN          IND   \n",
       "9       NaT          hostnine.com         Hostnine          NaN   \n",
       "\n",
       "   investment_rounds  funding_rounds  funding_total  milestones  \n",
       "0                0.0             3.0     39750000.0         5.0  \n",
       "1                0.0             3.0     39750000.0         5.0  \n",
       "2                0.0             3.0     39750000.0         5.0  \n",
       "3                0.0             0.0            0.0         0.0  \n",
       "4                0.0             0.0            0.0         4.0  \n",
       "5                0.0             0.0            0.0         0.0  \n",
       "6                0.0             0.0            0.0         0.0  \n",
       "7                0.0             0.0            0.0         0.0  \n",
       "8                0.0             0.0            0.0         0.0  \n",
       "9                0.0             0.0            0.0         1.0  "
      ]
     },
     "execution_count": 63,
     "metadata": {},
     "output_type": "execute_result"
    }
   ],
   "source": [
    "comp_df.iloc[:, :13].head(10)"
   ]
  },
  {
   "cell_type": "code",
   "execution_count": 64,
   "metadata": {},
   "outputs": [
    {
     "data": {
      "text/html": [
       "<div>\n",
       "<style scoped>\n",
       "    .dataframe tbody tr th:only-of-type {\n",
       "        vertical-align: middle;\n",
       "    }\n",
       "\n",
       "    .dataframe tbody tr th {\n",
       "        vertical-align: top;\n",
       "    }\n",
       "\n",
       "    .dataframe thead th {\n",
       "        text-align: right;\n",
       "    }\n",
       "</style>\n",
       "<table border=\"1\" class=\"dataframe\">\n",
       "  <thead>\n",
       "    <tr style=\"text-align: right;\">\n",
       "      <th></th>\n",
       "      <th>company_ID</th>\n",
       "      <th>name</th>\n",
       "      <th>category_code</th>\n",
       "      <th>status</th>\n",
       "      <th>founded_at</th>\n",
       "      <th>closed_at</th>\n",
       "      <th>domain</th>\n",
       "      <th>network_username</th>\n",
       "      <th>country_code</th>\n",
       "      <th>investment_rounds</th>\n",
       "      <th>funding_rounds</th>\n",
       "      <th>funding_total</th>\n",
       "      <th>milestones</th>\n",
       "    </tr>\n",
       "  </thead>\n",
       "  <tbody>\n",
       "    <tr>\n",
       "      <th>0</th>\n",
       "      <td>1.0</td>\n",
       "      <td>Wetpaint</td>\n",
       "      <td>web</td>\n",
       "      <td>operating</td>\n",
       "      <td>2005-10-17</td>\n",
       "      <td>NaT</td>\n",
       "      <td>wetpaint-inc.com</td>\n",
       "      <td>BachelrWetpaint</td>\n",
       "      <td>USA</td>\n",
       "      <td>0.0</td>\n",
       "      <td>3.0</td>\n",
       "      <td>39750000.0</td>\n",
       "      <td>5.0</td>\n",
       "    </tr>\n",
       "    <tr>\n",
       "      <th>1</th>\n",
       "      <td>1.0</td>\n",
       "      <td>Wetpaint</td>\n",
       "      <td>web</td>\n",
       "      <td>operating</td>\n",
       "      <td>2005-10-17</td>\n",
       "      <td>NaT</td>\n",
       "      <td>wetpaint-inc.com</td>\n",
       "      <td>BachelrWetpaint</td>\n",
       "      <td>USA</td>\n",
       "      <td>0.0</td>\n",
       "      <td>3.0</td>\n",
       "      <td>39750000.0</td>\n",
       "      <td>5.0</td>\n",
       "    </tr>\n",
       "    <tr>\n",
       "      <th>2</th>\n",
       "      <td>1.0</td>\n",
       "      <td>Wetpaint</td>\n",
       "      <td>web</td>\n",
       "      <td>operating</td>\n",
       "      <td>2005-10-17</td>\n",
       "      <td>NaT</td>\n",
       "      <td>wetpaint-inc.com</td>\n",
       "      <td>BachelrWetpaint</td>\n",
       "      <td>USA</td>\n",
       "      <td>0.0</td>\n",
       "      <td>3.0</td>\n",
       "      <td>39750000.0</td>\n",
       "      <td>5.0</td>\n",
       "    </tr>\n",
       "    <tr>\n",
       "      <th>3</th>\n",
       "      <td>10.0</td>\n",
       "      <td>Flektor</td>\n",
       "      <td>games_video</td>\n",
       "      <td>acquired</td>\n",
       "      <td>NaT</td>\n",
       "      <td>NaT</td>\n",
       "      <td>flektor.com</td>\n",
       "      <td>NaN</td>\n",
       "      <td>USA</td>\n",
       "      <td>0.0</td>\n",
       "      <td>0.0</td>\n",
       "      <td>0.0</td>\n",
       "      <td>0.0</td>\n",
       "    </tr>\n",
       "    <tr>\n",
       "      <th>4</th>\n",
       "      <td>100.0</td>\n",
       "      <td>There</td>\n",
       "      <td>games_video</td>\n",
       "      <td>acquired</td>\n",
       "      <td>NaT</td>\n",
       "      <td>NaT</td>\n",
       "      <td>there.com</td>\n",
       "      <td>NaN</td>\n",
       "      <td>USA</td>\n",
       "      <td>0.0</td>\n",
       "      <td>0.0</td>\n",
       "      <td>0.0</td>\n",
       "      <td>4.0</td>\n",
       "    </tr>\n",
       "    <tr>\n",
       "      <th>5</th>\n",
       "      <td>10000.0</td>\n",
       "      <td>MYWEBBO</td>\n",
       "      <td>network_hosting</td>\n",
       "      <td>operating</td>\n",
       "      <td>2008-07-26</td>\n",
       "      <td>NaT</td>\n",
       "      <td>mywebbo.com</td>\n",
       "      <td>NaN</td>\n",
       "      <td>NaN</td>\n",
       "      <td>0.0</td>\n",
       "      <td>0.0</td>\n",
       "      <td>0.0</td>\n",
       "      <td>0.0</td>\n",
       "    </tr>\n",
       "    <tr>\n",
       "      <th>6</th>\n",
       "      <td>10001.0</td>\n",
       "      <td>THE Movie Streamer</td>\n",
       "      <td>games_video</td>\n",
       "      <td>operating</td>\n",
       "      <td>2008-07-26</td>\n",
       "      <td>NaT</td>\n",
       "      <td>themoviestreamer.com</td>\n",
       "      <td>NaN</td>\n",
       "      <td>NaN</td>\n",
       "      <td>0.0</td>\n",
       "      <td>0.0</td>\n",
       "      <td>0.0</td>\n",
       "      <td>0.0</td>\n",
       "    </tr>\n",
       "    <tr>\n",
       "      <th>7</th>\n",
       "      <td>10002.0</td>\n",
       "      <td>Synergie Media</td>\n",
       "      <td>advertising</td>\n",
       "      <td>operating</td>\n",
       "      <td>2007-06-27</td>\n",
       "      <td>NaT</td>\n",
       "      <td>synergie-media.com</td>\n",
       "      <td>NaN</td>\n",
       "      <td>MAR</td>\n",
       "      <td>0.0</td>\n",
       "      <td>0.0</td>\n",
       "      <td>0.0</td>\n",
       "      <td>0.0</td>\n",
       "    </tr>\n",
       "    <tr>\n",
       "      <th>8</th>\n",
       "      <td>10003.0</td>\n",
       "      <td>Green Basti Ecosystems</td>\n",
       "      <td>cleantech</td>\n",
       "      <td>operating</td>\n",
       "      <td>2008-08-20</td>\n",
       "      <td>NaT</td>\n",
       "      <td>NaN</td>\n",
       "      <td>NaN</td>\n",
       "      <td>IND</td>\n",
       "      <td>0.0</td>\n",
       "      <td>0.0</td>\n",
       "      <td>0.0</td>\n",
       "      <td>0.0</td>\n",
       "    </tr>\n",
       "    <tr>\n",
       "      <th>9</th>\n",
       "      <td>100042.0</td>\n",
       "      <td>HostNine</td>\n",
       "      <td>NaN</td>\n",
       "      <td>operating</td>\n",
       "      <td>NaT</td>\n",
       "      <td>NaT</td>\n",
       "      <td>hostnine.com</td>\n",
       "      <td>Hostnine</td>\n",
       "      <td>NaN</td>\n",
       "      <td>0.0</td>\n",
       "      <td>0.0</td>\n",
       "      <td>0.0</td>\n",
       "      <td>1.0</td>\n",
       "    </tr>\n",
       "  </tbody>\n",
       "</table>\n",
       "</div>"
      ],
      "text/plain": [
       "   company_ID                    name    category_code     status founded_at  \\\n",
       "0         1.0                Wetpaint              web  operating 2005-10-17   \n",
       "1         1.0                Wetpaint              web  operating 2005-10-17   \n",
       "2         1.0                Wetpaint              web  operating 2005-10-17   \n",
       "3        10.0                 Flektor      games_video   acquired        NaT   \n",
       "4       100.0                   There      games_video   acquired        NaT   \n",
       "5     10000.0                 MYWEBBO  network_hosting  operating 2008-07-26   \n",
       "6     10001.0      THE Movie Streamer      games_video  operating 2008-07-26   \n",
       "7     10002.0          Synergie Media      advertising  operating 2007-06-27   \n",
       "8     10003.0  Green Basti Ecosystems        cleantech  operating 2008-08-20   \n",
       "9    100042.0                HostNine              NaN  operating        NaT   \n",
       "\n",
       "  closed_at                domain network_username country_code  \\\n",
       "0       NaT      wetpaint-inc.com  BachelrWetpaint          USA   \n",
       "1       NaT      wetpaint-inc.com  BachelrWetpaint          USA   \n",
       "2       NaT      wetpaint-inc.com  BachelrWetpaint          USA   \n",
       "3       NaT           flektor.com              NaN          USA   \n",
       "4       NaT             there.com              NaN          USA   \n",
       "5       NaT           mywebbo.com              NaN          NaN   \n",
       "6       NaT  themoviestreamer.com              NaN          NaN   \n",
       "7       NaT    synergie-media.com              NaN          MAR   \n",
       "8       NaT                   NaN              NaN          IND   \n",
       "9       NaT          hostnine.com         Hostnine          NaN   \n",
       "\n",
       "   investment_rounds  funding_rounds  funding_total  milestones  \n",
       "0                0.0             3.0     39750000.0         5.0  \n",
       "1                0.0             3.0     39750000.0         5.0  \n",
       "2                0.0             3.0     39750000.0         5.0  \n",
       "3                0.0             0.0            0.0         0.0  \n",
       "4                0.0             0.0            0.0         4.0  \n",
       "5                0.0             0.0            0.0         0.0  \n",
       "6                0.0             0.0            0.0         0.0  \n",
       "7                0.0             0.0            0.0         0.0  \n",
       "8                0.0             0.0            0.0         0.0  \n",
       "9                0.0             0.0            0.0         1.0  "
      ]
     },
     "execution_count": 64,
     "metadata": {},
     "output_type": "execute_result"
    }
   ],
   "source": [
    "# удаляем пустые строки в первой логической части\n",
    "subset_columns = ['company_id', \n",
    "                  'name', \n",
    "                  'category_code', \n",
    "                  'status', \n",
    "                  'founded_at', \n",
    "                  'closed_at', \n",
    "                  'domain', \n",
    "                  'network_username', \n",
    "                  'country_code', \n",
    "                  'investment_rounds', \n",
    "                  'funding_rounds', \n",
    "                  'funding_total', \n",
    "                  'milestones']   \n",
    "\n",
    "# получаем первый логический датафрейм\n",
    "company_df = comp_df.dropna(how='all', subset=subset_columns).reset_index(drop=True)\n",
    "company_df = company_df.iloc[:, :13]\n",
    "company_df.head(10)"
   ]
  },
  {
   "cell_type": "markdown",
   "metadata": {},
   "source": [
    "Поступим также со второй логической частью датасета, если в оставшихся 9 колонках во всех строках пропуски - удаляем такие строки, так как информации о раундах нет и в дальнейшем анализе они бесполезны. Это будет датафрейм `rounds_df`:"
   ]
  },
  {
   "cell_type": "code",
   "execution_count": 65,
   "metadata": {},
   "outputs": [
    {
     "data": {
      "text/html": [
       "<div>\n",
       "<style scoped>\n",
       "    .dataframe tbody tr th:only-of-type {\n",
       "        vertical-align: middle;\n",
       "    }\n",
       "\n",
       "    .dataframe tbody tr th {\n",
       "        vertical-align: top;\n",
       "    }\n",
       "\n",
       "    .dataframe thead th {\n",
       "        text-align: right;\n",
       "    }\n",
       "</style>\n",
       "<table border=\"1\" class=\"dataframe\">\n",
       "  <thead>\n",
       "    <tr style=\"text-align: right;\">\n",
       "      <th></th>\n",
       "      <th>funding_round_id</th>\n",
       "      <th>company_id</th>\n",
       "      <th>funded_at</th>\n",
       "      <th>funding_round_type</th>\n",
       "      <th>raised_amount</th>\n",
       "      <th>pre_money_valuation</th>\n",
       "      <th>participants</th>\n",
       "      <th>is_first_round</th>\n",
       "      <th>is_last_round</th>\n",
       "    </tr>\n",
       "  </thead>\n",
       "  <tbody>\n",
       "    <tr>\n",
       "      <th>0</th>\n",
       "      <td>888.0</td>\n",
       "      <td>1.0</td>\n",
       "      <td>2005-10-01</td>\n",
       "      <td>series-a</td>\n",
       "      <td>5250000.0</td>\n",
       "      <td>0.0</td>\n",
       "      <td>2.0</td>\n",
       "      <td>0.0</td>\n",
       "      <td>1.0</td>\n",
       "    </tr>\n",
       "    <tr>\n",
       "      <th>1</th>\n",
       "      <td>889.0</td>\n",
       "      <td>1.0</td>\n",
       "      <td>2007-01-01</td>\n",
       "      <td>series-b</td>\n",
       "      <td>9500000.0</td>\n",
       "      <td>0.0</td>\n",
       "      <td>3.0</td>\n",
       "      <td>0.0</td>\n",
       "      <td>0.0</td>\n",
       "    </tr>\n",
       "    <tr>\n",
       "      <th>2</th>\n",
       "      <td>2312.0</td>\n",
       "      <td>1.0</td>\n",
       "      <td>2008-05-19</td>\n",
       "      <td>series-c+</td>\n",
       "      <td>25000000.0</td>\n",
       "      <td>0.0</td>\n",
       "      <td>4.0</td>\n",
       "      <td>1.0</td>\n",
       "      <td>0.0</td>\n",
       "    </tr>\n",
       "    <tr>\n",
       "      <th>3</th>\n",
       "      <td>1644.0</td>\n",
       "      <td>1001.0</td>\n",
       "      <td>2008-02-26</td>\n",
       "      <td>series-a</td>\n",
       "      <td>5000000.0</td>\n",
       "      <td>0.0</td>\n",
       "      <td>3.0</td>\n",
       "      <td>1.0</td>\n",
       "      <td>1.0</td>\n",
       "    </tr>\n",
       "    <tr>\n",
       "      <th>4</th>\n",
       "      <td>6682.0</td>\n",
       "      <td>10014.0</td>\n",
       "      <td>2008-09-01</td>\n",
       "      <td>angel</td>\n",
       "      <td>0.0</td>\n",
       "      <td>0.0</td>\n",
       "      <td>1.0</td>\n",
       "      <td>1.0</td>\n",
       "      <td>1.0</td>\n",
       "    </tr>\n",
       "    <tr>\n",
       "      <th>5</th>\n",
       "      <td>3619.0</td>\n",
       "      <td>10015.0</td>\n",
       "      <td>2008-10-10</td>\n",
       "      <td>series-a</td>\n",
       "      <td>2000000.0</td>\n",
       "      <td>0.0</td>\n",
       "      <td>2.0</td>\n",
       "      <td>0.0</td>\n",
       "      <td>1.0</td>\n",
       "    </tr>\n",
       "    <tr>\n",
       "      <th>6</th>\n",
       "      <td>18213.0</td>\n",
       "      <td>10015.0</td>\n",
       "      <td>2010-09-10</td>\n",
       "      <td>series-b</td>\n",
       "      <td>9000000.0</td>\n",
       "      <td>0.0</td>\n",
       "      <td>4.0</td>\n",
       "      <td>0.0</td>\n",
       "      <td>0.0</td>\n",
       "    </tr>\n",
       "    <tr>\n",
       "      <th>7</th>\n",
       "      <td>27747.0</td>\n",
       "      <td>10015.0</td>\n",
       "      <td>2012-01-24</td>\n",
       "      <td>series-c+</td>\n",
       "      <td>12000000.0</td>\n",
       "      <td>0.0</td>\n",
       "      <td>4.0</td>\n",
       "      <td>0.0</td>\n",
       "      <td>0.0</td>\n",
       "    </tr>\n",
       "    <tr>\n",
       "      <th>8</th>\n",
       "      <td>45409.0</td>\n",
       "      <td>10015.0</td>\n",
       "      <td>2013-08-13</td>\n",
       "      <td>series-c+</td>\n",
       "      <td>43000000.0</td>\n",
       "      <td>0.0</td>\n",
       "      <td>5.0</td>\n",
       "      <td>1.0</td>\n",
       "      <td>0.0</td>\n",
       "    </tr>\n",
       "    <tr>\n",
       "      <th>9</th>\n",
       "      <td>54006.0</td>\n",
       "      <td>10015.0</td>\n",
       "      <td>2012-01-01</td>\n",
       "      <td>venture</td>\n",
       "      <td>2069200.0</td>\n",
       "      <td>0.0</td>\n",
       "      <td>4.0</td>\n",
       "      <td>0.0</td>\n",
       "      <td>0.0</td>\n",
       "    </tr>\n",
       "  </tbody>\n",
       "</table>\n",
       "</div>"
      ],
      "text/plain": [
       "   funding_round_id  company_id  funded_at funding_round_type  raised_amount  \\\n",
       "0             888.0         1.0 2005-10-01           series-a      5250000.0   \n",
       "1             889.0         1.0 2007-01-01           series-b      9500000.0   \n",
       "2            2312.0         1.0 2008-05-19          series-c+     25000000.0   \n",
       "3            1644.0      1001.0 2008-02-26           series-a      5000000.0   \n",
       "4            6682.0     10014.0 2008-09-01              angel            0.0   \n",
       "5            3619.0     10015.0 2008-10-10           series-a      2000000.0   \n",
       "6           18213.0     10015.0 2010-09-10           series-b      9000000.0   \n",
       "7           27747.0     10015.0 2012-01-24          series-c+     12000000.0   \n",
       "8           45409.0     10015.0 2013-08-13          series-c+     43000000.0   \n",
       "9           54006.0     10015.0 2012-01-01            venture      2069200.0   \n",
       "\n",
       "   pre_money_valuation  participants  is_first_round  is_last_round  \n",
       "0                  0.0           2.0             0.0            1.0  \n",
       "1                  0.0           3.0             0.0            0.0  \n",
       "2                  0.0           4.0             1.0            0.0  \n",
       "3                  0.0           3.0             1.0            1.0  \n",
       "4                  0.0           1.0             1.0            1.0  \n",
       "5                  0.0           2.0             0.0            1.0  \n",
       "6                  0.0           4.0             0.0            0.0  \n",
       "7                  0.0           4.0             0.0            0.0  \n",
       "8                  0.0           5.0             1.0            0.0  \n",
       "9                  0.0           4.0             0.0            0.0  "
      ]
     },
     "execution_count": 65,
     "metadata": {},
     "output_type": "execute_result"
    }
   ],
   "source": [
    "# удаляем пустые строки во второй логической части таблицы\n",
    "subset_columns = ['funding_round_id',\n",
    "                  'company_id', \n",
    "                  'funded_at', \n",
    "                  'funding_round_type', \n",
    "                  'raised_amount', \n",
    "                  'pre_money_valuation', \n",
    "                  'participants', \n",
    "                  'is_first_round', \n",
    "                  'is_last_round'] \n",
    "\n",
    "# получим второй логический датафрейм\n",
    "rounds_df = comp_df.dropna(how='all', subset=subset_columns).reset_index(drop=True)\n",
    "rounds_df = rounds_df.iloc[:, 13:-1]\n",
    "rounds_df.head(10)"
   ]
  },
  {
   "cell_type": "code",
   "execution_count": 66,
   "metadata": {},
   "outputs": [
    {
     "data": {
      "text/plain": [
       "21220"
      ]
     },
     "execution_count": 66,
     "metadata": {},
     "output_type": "execute_result"
    }
   ],
   "source": [
    "# запоминаем количество строк в company_df\n",
    "cnt_rows = company_df.shape[0]\n",
    "\n",
    "# проверка на дубликаты company_df\n",
    "company_df.duplicated().sum()"
   ]
  },
  {
   "cell_type": "code",
   "execution_count": 67,
   "metadata": {},
   "outputs": [
    {
     "data": {
      "text/plain": [
       "0"
      ]
     },
     "execution_count": 67,
     "metadata": {},
     "output_type": "execute_result"
    }
   ],
   "source": [
    "# проверка на дубликаты rounds_df\n",
    "rounds_df.duplicated().sum()"
   ]
  },
  {
   "cell_type": "markdown",
   "metadata": {},
   "source": [
    "Вероятнее всего, такое количество дубликатов вызвано присоединением данных из `rounds_df` к `company_df`. Это не ошибка, так как одному и тому же набору полей в `company_df`, если речь идет об одной компании с одной и той же информацией о себе, может соответствовать разная информация по раундам из полей датафрейма `rounds_df`.\n",
    "\n",
    "Для дальнейшей работы, \"очистим\" датафрейм `company_df` от дубликатов:"
   ]
  },
  {
   "cell_type": "code",
   "execution_count": 68,
   "metadata": {},
   "outputs": [
    {
     "data": {
      "text/plain": [
       "0"
      ]
     },
     "execution_count": 68,
     "metadata": {},
     "output_type": "execute_result"
    }
   ],
   "source": [
    "# удаляем дубликаты в company_df\n",
    "company_df = company_df.drop_duplicates().reset_index(drop=True)\n",
    "\n",
    "# заново проверяем количество дубликатов\n",
    "company_df.duplicated().sum()"
   ]
  },
  {
   "cell_type": "code",
   "execution_count": 69,
   "metadata": {},
   "outputs": [
    {
     "name": "stdout",
     "output_type": "stream",
     "text": [
      "Доля удаленных дублирующихся данных: 0.097\n"
     ]
    }
   ],
   "source": [
    "print('Доля удаленных дублирующихся данных:', round(1 - company_df.shape[0] / cnt_rows, 3))"
   ]
  },
  {
   "cell_type": "markdown",
   "metadata": {},
   "source": [
    "Таким образом, практически 10% данных удалилось из датафрейма `company_df`, так как это были дубликаты. Датафрейм `rounds_df` чистить не требуется, в нем нет дубликатов."
   ]
  },
  {
   "cell_type": "code",
   "execution_count": 70,
   "metadata": {},
   "outputs": [
    {
     "data": {
      "text/plain": [
       "company_ID           0.000005\n",
       "name                 0.000005\n",
       "category_code        0.373271\n",
       "status               0.000005\n",
       "founded_at           0.535868\n",
       "closed_at            0.986670\n",
       "domain               0.356182\n",
       "network_username     0.589980\n",
       "country_code         0.552337\n",
       "investment_rounds    0.000005\n",
       "funding_rounds       0.000005\n",
       "funding_total        0.000005\n",
       "milestones           0.000005\n",
       "dtype: float64"
      ]
     },
     "execution_count": 70,
     "metadata": {},
     "output_type": "execute_result"
    }
   ],
   "source": [
    "# доля пропусков в полях company_df\n",
    "company_df.isna().mean()"
   ]
  },
  {
   "cell_type": "code",
   "execution_count": 71,
   "metadata": {},
   "outputs": [
    {
     "data": {
      "text/plain": [
       "funding_round_id       0.000000\n",
       "company_id             0.000000\n",
       "funded_at              0.004686\n",
       "funding_round_type     0.000000\n",
       "raised_amount          0.000000\n",
       "pre_money_valuation    0.000000\n",
       "participants           0.000000\n",
       "is_first_round         0.000000\n",
       "is_last_round          0.000000\n",
       "dtype: float64"
      ]
     },
     "execution_count": 71,
     "metadata": {},
     "output_type": "execute_result"
    }
   ],
   "source": [
    "# количество пропусков в полях rounds_df\n",
    "rounds_df.isna().mean()"
   ]
  },
  {
   "cell_type": "markdown",
   "metadata": {},
   "source": [
    "Пропуски наблюдаются в обоих датафреймах расположены в побочных полях, не относящихся к анализу."
   ]
  },
  {
   "cell_type": "markdown",
   "metadata": {
    "id": "bmVYhphNrJg2"
   },
   "source": [
    "\n",
    "## Шаг 3. Исследовательский анализ объединённых таблиц\n",
    "\n",
    "<big>Приступите к шагу 3 после проверки ревьюера.</big>"
   ]
  },
  {
   "cell_type": "markdown",
   "metadata": {
    "id": "3Di6tCT3rJg2"
   },
   "source": [
    "\n",
    "### 3.1. Объединение данных\n",
    "\n",
    "Объедините данные для ответа на вопросы заказчика, которые касаются интересующих его компаний.\n",
    "\n",
    "В качестве основы для объединённой таблицы возьмите данные из обработанного датасета `company_and_rounds.csv` — выберите только те компании, у которых указаны значения `funding_rounds` или `investment_rounds` больше нуля, и те, у которых в колонке `status` указано `acquired`.\n",
    "\n",
    "Далее работайте только с этими данными."
   ]
  },
  {
   "cell_type": "markdown",
   "metadata": {
    "id": "mGYqoHS7rJg2"
   },
   "source": [
    "Будем работать с датафреймом `company_df` из предыдущего пункта. Возьмем первые 10 строк, чтобы вспомнить хранимые им данные:"
   ]
  },
  {
   "cell_type": "code",
   "execution_count": 75,
   "metadata": {
    "id": "vJZ4mO2Un1yt"
   },
   "outputs": [
    {
     "data": {
      "text/html": [
       "<div>\n",
       "<style scoped>\n",
       "    .dataframe tbody tr th:only-of-type {\n",
       "        vertical-align: middle;\n",
       "    }\n",
       "\n",
       "    .dataframe tbody tr th {\n",
       "        vertical-align: top;\n",
       "    }\n",
       "\n",
       "    .dataframe thead th {\n",
       "        text-align: right;\n",
       "    }\n",
       "</style>\n",
       "<table border=\"1\" class=\"dataframe\">\n",
       "  <thead>\n",
       "    <tr style=\"text-align: right;\">\n",
       "      <th></th>\n",
       "      <th>company_ID</th>\n",
       "      <th>name</th>\n",
       "      <th>category_code</th>\n",
       "      <th>status</th>\n",
       "      <th>founded_at</th>\n",
       "      <th>closed_at</th>\n",
       "      <th>domain</th>\n",
       "      <th>network_username</th>\n",
       "      <th>country_code</th>\n",
       "      <th>investment_rounds</th>\n",
       "      <th>funding_rounds</th>\n",
       "      <th>funding_total</th>\n",
       "      <th>milestones</th>\n",
       "    </tr>\n",
       "  </thead>\n",
       "  <tbody>\n",
       "    <tr>\n",
       "      <th>0</th>\n",
       "      <td>1.0</td>\n",
       "      <td>Wetpaint</td>\n",
       "      <td>web</td>\n",
       "      <td>operating</td>\n",
       "      <td>2005-10-17</td>\n",
       "      <td>NaT</td>\n",
       "      <td>wetpaint-inc.com</td>\n",
       "      <td>BachelrWetpaint</td>\n",
       "      <td>USA</td>\n",
       "      <td>0.0</td>\n",
       "      <td>3.0</td>\n",
       "      <td>39750000.0</td>\n",
       "      <td>5.0</td>\n",
       "    </tr>\n",
       "    <tr>\n",
       "      <th>1</th>\n",
       "      <td>10.0</td>\n",
       "      <td>Flektor</td>\n",
       "      <td>games_video</td>\n",
       "      <td>acquired</td>\n",
       "      <td>NaT</td>\n",
       "      <td>NaT</td>\n",
       "      <td>flektor.com</td>\n",
       "      <td>NaN</td>\n",
       "      <td>USA</td>\n",
       "      <td>0.0</td>\n",
       "      <td>0.0</td>\n",
       "      <td>0.0</td>\n",
       "      <td>0.0</td>\n",
       "    </tr>\n",
       "    <tr>\n",
       "      <th>2</th>\n",
       "      <td>100.0</td>\n",
       "      <td>There</td>\n",
       "      <td>games_video</td>\n",
       "      <td>acquired</td>\n",
       "      <td>NaT</td>\n",
       "      <td>NaT</td>\n",
       "      <td>there.com</td>\n",
       "      <td>NaN</td>\n",
       "      <td>USA</td>\n",
       "      <td>0.0</td>\n",
       "      <td>0.0</td>\n",
       "      <td>0.0</td>\n",
       "      <td>4.0</td>\n",
       "    </tr>\n",
       "    <tr>\n",
       "      <th>3</th>\n",
       "      <td>10000.0</td>\n",
       "      <td>MYWEBBO</td>\n",
       "      <td>network_hosting</td>\n",
       "      <td>operating</td>\n",
       "      <td>2008-07-26</td>\n",
       "      <td>NaT</td>\n",
       "      <td>mywebbo.com</td>\n",
       "      <td>NaN</td>\n",
       "      <td>NaN</td>\n",
       "      <td>0.0</td>\n",
       "      <td>0.0</td>\n",
       "      <td>0.0</td>\n",
       "      <td>0.0</td>\n",
       "    </tr>\n",
       "    <tr>\n",
       "      <th>4</th>\n",
       "      <td>10001.0</td>\n",
       "      <td>THE Movie Streamer</td>\n",
       "      <td>games_video</td>\n",
       "      <td>operating</td>\n",
       "      <td>2008-07-26</td>\n",
       "      <td>NaT</td>\n",
       "      <td>themoviestreamer.com</td>\n",
       "      <td>NaN</td>\n",
       "      <td>NaN</td>\n",
       "      <td>0.0</td>\n",
       "      <td>0.0</td>\n",
       "      <td>0.0</td>\n",
       "      <td>0.0</td>\n",
       "    </tr>\n",
       "    <tr>\n",
       "      <th>5</th>\n",
       "      <td>10002.0</td>\n",
       "      <td>Synergie Media</td>\n",
       "      <td>advertising</td>\n",
       "      <td>operating</td>\n",
       "      <td>2007-06-27</td>\n",
       "      <td>NaT</td>\n",
       "      <td>synergie-media.com</td>\n",
       "      <td>NaN</td>\n",
       "      <td>MAR</td>\n",
       "      <td>0.0</td>\n",
       "      <td>0.0</td>\n",
       "      <td>0.0</td>\n",
       "      <td>0.0</td>\n",
       "    </tr>\n",
       "    <tr>\n",
       "      <th>6</th>\n",
       "      <td>10003.0</td>\n",
       "      <td>Green Basti Ecosystems</td>\n",
       "      <td>cleantech</td>\n",
       "      <td>operating</td>\n",
       "      <td>2008-08-20</td>\n",
       "      <td>NaT</td>\n",
       "      <td>NaN</td>\n",
       "      <td>NaN</td>\n",
       "      <td>IND</td>\n",
       "      <td>0.0</td>\n",
       "      <td>0.0</td>\n",
       "      <td>0.0</td>\n",
       "      <td>0.0</td>\n",
       "    </tr>\n",
       "    <tr>\n",
       "      <th>7</th>\n",
       "      <td>100042.0</td>\n",
       "      <td>HostNine</td>\n",
       "      <td>NaN</td>\n",
       "      <td>operating</td>\n",
       "      <td>NaT</td>\n",
       "      <td>NaT</td>\n",
       "      <td>hostnine.com</td>\n",
       "      <td>Hostnine</td>\n",
       "      <td>NaN</td>\n",
       "      <td>0.0</td>\n",
       "      <td>0.0</td>\n",
       "      <td>0.0</td>\n",
       "      <td>1.0</td>\n",
       "    </tr>\n",
       "    <tr>\n",
       "      <th>8</th>\n",
       "      <td>10005.0</td>\n",
       "      <td>Thomas Publishing</td>\n",
       "      <td>advertising</td>\n",
       "      <td>operating</td>\n",
       "      <td>NaT</td>\n",
       "      <td>NaT</td>\n",
       "      <td>thomaspublishing.com</td>\n",
       "      <td>NaN</td>\n",
       "      <td>USA</td>\n",
       "      <td>0.0</td>\n",
       "      <td>0.0</td>\n",
       "      <td>0.0</td>\n",
       "      <td>1.0</td>\n",
       "    </tr>\n",
       "    <tr>\n",
       "      <th>9</th>\n",
       "      <td>100062.0</td>\n",
       "      <td>Vetter Idea Management System</td>\n",
       "      <td>enterprise</td>\n",
       "      <td>operating</td>\n",
       "      <td>2011-08-01</td>\n",
       "      <td>NaT</td>\n",
       "      <td>getvetter.com</td>\n",
       "      <td>getvetter</td>\n",
       "      <td>NaN</td>\n",
       "      <td>0.0</td>\n",
       "      <td>0.0</td>\n",
       "      <td>0.0</td>\n",
       "      <td>1.0</td>\n",
       "    </tr>\n",
       "  </tbody>\n",
       "</table>\n",
       "</div>"
      ],
      "text/plain": [
       "   company_ID                           name    category_code     status  \\\n",
       "0         1.0                       Wetpaint              web  operating   \n",
       "1        10.0                        Flektor      games_video   acquired   \n",
       "2       100.0                          There      games_video   acquired   \n",
       "3     10000.0                        MYWEBBO  network_hosting  operating   \n",
       "4     10001.0             THE Movie Streamer      games_video  operating   \n",
       "5     10002.0                 Synergie Media      advertising  operating   \n",
       "6     10003.0         Green Basti Ecosystems        cleantech  operating   \n",
       "7    100042.0                       HostNine              NaN  operating   \n",
       "8     10005.0              Thomas Publishing      advertising  operating   \n",
       "9    100062.0  Vetter Idea Management System       enterprise  operating   \n",
       "\n",
       "  founded_at closed_at                domain network_username country_code  \\\n",
       "0 2005-10-17       NaT      wetpaint-inc.com  BachelrWetpaint          USA   \n",
       "1        NaT       NaT           flektor.com              NaN          USA   \n",
       "2        NaT       NaT             there.com              NaN          USA   \n",
       "3 2008-07-26       NaT           mywebbo.com              NaN          NaN   \n",
       "4 2008-07-26       NaT  themoviestreamer.com              NaN          NaN   \n",
       "5 2007-06-27       NaT    synergie-media.com              NaN          MAR   \n",
       "6 2008-08-20       NaT                   NaN              NaN          IND   \n",
       "7        NaT       NaT          hostnine.com         Hostnine          NaN   \n",
       "8        NaT       NaT  thomaspublishing.com              NaN          USA   \n",
       "9 2011-08-01       NaT         getvetter.com        getvetter          NaN   \n",
       "\n",
       "   investment_rounds  funding_rounds  funding_total  milestones  \n",
       "0                0.0             3.0     39750000.0         5.0  \n",
       "1                0.0             0.0            0.0         0.0  \n",
       "2                0.0             0.0            0.0         4.0  \n",
       "3                0.0             0.0            0.0         0.0  \n",
       "4                0.0             0.0            0.0         0.0  \n",
       "5                0.0             0.0            0.0         0.0  \n",
       "6                0.0             0.0            0.0         0.0  \n",
       "7                0.0             0.0            0.0         1.0  \n",
       "8                0.0             0.0            0.0         1.0  \n",
       "9                0.0             0.0            0.0         1.0  "
      ]
     },
     "metadata": {},
     "output_type": "display_data"
    }
   ],
   "source": [
    "display(company_df.head(10))"
   ]
  },
  {
   "cell_type": "markdown",
   "metadata": {},
   "source": [
    "Перейдем к отфильтровыванию этого датафрейма по указанным условиям: значения в `funding_rounds` или `investment_rounds` больше нуля, а также значение в `status` равняется **acquired**. Назовем полученный датафрейм `base_df`."
   ]
  },
  {
   "cell_type": "code",
   "execution_count": 74,
   "metadata": {},
   "outputs": [
    {
     "data": {
      "text/html": [
       "<div>\n",
       "<style scoped>\n",
       "    .dataframe tbody tr th:only-of-type {\n",
       "        vertical-align: middle;\n",
       "    }\n",
       "\n",
       "    .dataframe tbody tr th {\n",
       "        vertical-align: top;\n",
       "    }\n",
       "\n",
       "    .dataframe thead th {\n",
       "        text-align: right;\n",
       "    }\n",
       "</style>\n",
       "<table border=\"1\" class=\"dataframe\">\n",
       "  <thead>\n",
       "    <tr style=\"text-align: right;\">\n",
       "      <th></th>\n",
       "      <th>company_ID</th>\n",
       "      <th>name</th>\n",
       "      <th>category_code</th>\n",
       "      <th>status</th>\n",
       "      <th>founded_at</th>\n",
       "      <th>closed_at</th>\n",
       "      <th>domain</th>\n",
       "      <th>network_username</th>\n",
       "      <th>country_code</th>\n",
       "      <th>investment_rounds</th>\n",
       "      <th>funding_rounds</th>\n",
       "      <th>funding_total</th>\n",
       "      <th>milestones</th>\n",
       "    </tr>\n",
       "  </thead>\n",
       "  <tbody>\n",
       "    <tr>\n",
       "      <th>0</th>\n",
       "      <td>1.0</td>\n",
       "      <td>Wetpaint</td>\n",
       "      <td>web</td>\n",
       "      <td>operating</td>\n",
       "      <td>2005-10-17</td>\n",
       "      <td>NaT</td>\n",
       "      <td>wetpaint-inc.com</td>\n",
       "      <td>BachelrWetpaint</td>\n",
       "      <td>USA</td>\n",
       "      <td>0.0</td>\n",
       "      <td>3.0</td>\n",
       "      <td>39750000.0</td>\n",
       "      <td>5.0</td>\n",
       "    </tr>\n",
       "    <tr>\n",
       "      <th>1</th>\n",
       "      <td>10.0</td>\n",
       "      <td>Flektor</td>\n",
       "      <td>games_video</td>\n",
       "      <td>acquired</td>\n",
       "      <td>NaT</td>\n",
       "      <td>NaT</td>\n",
       "      <td>flektor.com</td>\n",
       "      <td>NaN</td>\n",
       "      <td>USA</td>\n",
       "      <td>0.0</td>\n",
       "      <td>0.0</td>\n",
       "      <td>0.0</td>\n",
       "      <td>0.0</td>\n",
       "    </tr>\n",
       "    <tr>\n",
       "      <th>2</th>\n",
       "      <td>100.0</td>\n",
       "      <td>There</td>\n",
       "      <td>games_video</td>\n",
       "      <td>acquired</td>\n",
       "      <td>NaT</td>\n",
       "      <td>NaT</td>\n",
       "      <td>there.com</td>\n",
       "      <td>NaN</td>\n",
       "      <td>USA</td>\n",
       "      <td>0.0</td>\n",
       "      <td>0.0</td>\n",
       "      <td>0.0</td>\n",
       "      <td>4.0</td>\n",
       "    </tr>\n",
       "    <tr>\n",
       "      <th>13</th>\n",
       "      <td>1001.0</td>\n",
       "      <td>FriendFeed</td>\n",
       "      <td>web</td>\n",
       "      <td>acquired</td>\n",
       "      <td>2007-10-01</td>\n",
       "      <td>NaT</td>\n",
       "      <td>friendfeed.com</td>\n",
       "      <td>friendfeed</td>\n",
       "      <td>USA</td>\n",
       "      <td>0.0</td>\n",
       "      <td>1.0</td>\n",
       "      <td>5000000.0</td>\n",
       "      <td>3.0</td>\n",
       "    </tr>\n",
       "    <tr>\n",
       "      <th>18</th>\n",
       "      <td>10014.0</td>\n",
       "      <td>Mobclix</td>\n",
       "      <td>mobile</td>\n",
       "      <td>acquired</td>\n",
       "      <td>2008-03-01</td>\n",
       "      <td>NaT</td>\n",
       "      <td>mobclix.com</td>\n",
       "      <td>mobclix</td>\n",
       "      <td>USA</td>\n",
       "      <td>0.0</td>\n",
       "      <td>1.0</td>\n",
       "      <td>0.0</td>\n",
       "      <td>4.0</td>\n",
       "    </tr>\n",
       "  </tbody>\n",
       "</table>\n",
       "</div>"
      ],
      "text/plain": [
       "    company_ID        name category_code     status founded_at closed_at  \\\n",
       "0          1.0    Wetpaint           web  operating 2005-10-17       NaT   \n",
       "1         10.0     Flektor   games_video   acquired        NaT       NaT   \n",
       "2        100.0       There   games_video   acquired        NaT       NaT   \n",
       "13      1001.0  FriendFeed           web   acquired 2007-10-01       NaT   \n",
       "18     10014.0     Mobclix        mobile   acquired 2008-03-01       NaT   \n",
       "\n",
       "              domain network_username country_code  investment_rounds  \\\n",
       "0   wetpaint-inc.com  BachelrWetpaint          USA                0.0   \n",
       "1        flektor.com              NaN          USA                0.0   \n",
       "2          there.com              NaN          USA                0.0   \n",
       "13    friendfeed.com       friendfeed          USA                0.0   \n",
       "18       mobclix.com          mobclix          USA                0.0   \n",
       "\n",
       "    funding_rounds  funding_total  milestones  \n",
       "0              3.0     39750000.0         5.0  \n",
       "1              0.0            0.0         0.0  \n",
       "2              0.0            0.0         4.0  \n",
       "13             1.0      5000000.0         3.0  \n",
       "18             1.0            0.0         4.0  "
      ]
     },
     "metadata": {},
     "output_type": "display_data"
    },
    {
     "data": {
      "text/html": [
       "<div>\n",
       "<style scoped>\n",
       "    .dataframe tbody tr th:only-of-type {\n",
       "        vertical-align: middle;\n",
       "    }\n",
       "\n",
       "    .dataframe tbody tr th {\n",
       "        vertical-align: top;\n",
       "    }\n",
       "\n",
       "    .dataframe thead th {\n",
       "        text-align: right;\n",
       "    }\n",
       "</style>\n",
       "<table border=\"1\" class=\"dataframe\">\n",
       "  <thead>\n",
       "    <tr style=\"text-align: right;\">\n",
       "      <th></th>\n",
       "      <th>company_ID</th>\n",
       "      <th>name</th>\n",
       "      <th>category_code</th>\n",
       "      <th>status</th>\n",
       "      <th>founded_at</th>\n",
       "      <th>closed_at</th>\n",
       "      <th>domain</th>\n",
       "      <th>network_username</th>\n",
       "      <th>country_code</th>\n",
       "      <th>investment_rounds</th>\n",
       "      <th>funding_rounds</th>\n",
       "      <th>funding_total</th>\n",
       "      <th>milestones</th>\n",
       "    </tr>\n",
       "  </thead>\n",
       "  <tbody>\n",
       "    <tr>\n",
       "      <th>196544</th>\n",
       "      <td>1344.0</td>\n",
       "      <td>Vobile</td>\n",
       "      <td>web</td>\n",
       "      <td>operating</td>\n",
       "      <td>2005-01-01</td>\n",
       "      <td>NaT</td>\n",
       "      <td>vobileinc.com</td>\n",
       "      <td>networkmobile</td>\n",
       "      <td>USA</td>\n",
       "      <td>0.0</td>\n",
       "      <td>1.0</td>\n",
       "      <td>10000000.0</td>\n",
       "      <td>0.0</td>\n",
       "    </tr>\n",
       "    <tr>\n",
       "      <th>196545</th>\n",
       "      <td>142181.0</td>\n",
       "      <td>Stop Being Watched</td>\n",
       "      <td>software</td>\n",
       "      <td>operating</td>\n",
       "      <td>2010-06-10</td>\n",
       "      <td>NaT</td>\n",
       "      <td>stopbeingwatched.com</td>\n",
       "      <td>SBWinfonetwork</td>\n",
       "      <td>USA</td>\n",
       "      <td>0.0</td>\n",
       "      <td>1.0</td>\n",
       "      <td>500000.0</td>\n",
       "      <td>1.0</td>\n",
       "    </tr>\n",
       "    <tr>\n",
       "      <th>196549</th>\n",
       "      <td>3429.0</td>\n",
       "      <td>Zend Technologies</td>\n",
       "      <td>software</td>\n",
       "      <td>operating</td>\n",
       "      <td>1999-01-01</td>\n",
       "      <td>NaT</td>\n",
       "      <td>zend.com</td>\n",
       "      <td>networkzend</td>\n",
       "      <td>USA</td>\n",
       "      <td>0.0</td>\n",
       "      <td>4.0</td>\n",
       "      <td>44000000.0</td>\n",
       "      <td>6.0</td>\n",
       "    </tr>\n",
       "    <tr>\n",
       "      <th>196550</th>\n",
       "      <td>7748.0</td>\n",
       "      <td>Flowgram</td>\n",
       "      <td>web</td>\n",
       "      <td>closed</td>\n",
       "      <td>2007-06-01</td>\n",
       "      <td>2008-06-11</td>\n",
       "      <td>flowgram.com</td>\n",
       "      <td>network</td>\n",
       "      <td>USA</td>\n",
       "      <td>0.0</td>\n",
       "      <td>1.0</td>\n",
       "      <td>1300000.0</td>\n",
       "      <td>3.0</td>\n",
       "    </tr>\n",
       "    <tr>\n",
       "      <th>196552</th>\n",
       "      <td>43233.0</td>\n",
       "      <td>Photonet</td>\n",
       "      <td>photo_video</td>\n",
       "      <td>acquired</td>\n",
       "      <td>2010-03-01</td>\n",
       "      <td>NaT</td>\n",
       "      <td>Photonet.com</td>\n",
       "      <td>Photonet</td>\n",
       "      <td>USA</td>\n",
       "      <td>0.0</td>\n",
       "      <td>3.0</td>\n",
       "      <td>57500000.0</td>\n",
       "      <td>3.0</td>\n",
       "    </tr>\n",
       "  </tbody>\n",
       "</table>\n",
       "</div>"
      ],
      "text/plain": [
       "        company_ID                name category_code     status founded_at  \\\n",
       "196544      1344.0              Vobile           web  operating 2005-01-01   \n",
       "196545    142181.0  Stop Being Watched      software  operating 2010-06-10   \n",
       "196549      3429.0   Zend Technologies      software  operating 1999-01-01   \n",
       "196550      7748.0            Flowgram           web     closed 2007-06-01   \n",
       "196552     43233.0            Photonet   photo_video   acquired 2010-03-01   \n",
       "\n",
       "        closed_at                domain network_username country_code  \\\n",
       "196544        NaT         vobileinc.com    networkmobile          USA   \n",
       "196545        NaT  stopbeingwatched.com   SBWinfonetwork          USA   \n",
       "196549        NaT              zend.com      networkzend          USA   \n",
       "196550 2008-06-11          flowgram.com          network          USA   \n",
       "196552        NaT          Photonet.com         Photonet          USA   \n",
       "\n",
       "        investment_rounds  funding_rounds  funding_total  milestones  \n",
       "196544                0.0             1.0     10000000.0         0.0  \n",
       "196545                0.0             1.0       500000.0         1.0  \n",
       "196549                0.0             4.0     44000000.0         6.0  \n",
       "196550                0.0             1.0      1300000.0         3.0  \n",
       "196552                0.0             3.0     57500000.0         3.0  "
      ]
     },
     "metadata": {},
     "output_type": "display_data"
    }
   ],
   "source": [
    "# отфильтровываем company_df для получения нового датафрейма\n",
    "base_df = company_df[((company_df['funding_rounds'] > 0) | (company_df['investment_rounds'] > 0)) | (company_df['status'] == 'acquired')]\n",
    "base_df.reset_index(drop=True)\n",
    "display(base_df.head())\n",
    "display(base_df.tail())"
   ]
  },
  {
   "cell_type": "markdown",
   "metadata": {},
   "source": [
    "Проверим полученный датасет на полноту, выведем пропуски:"
   ]
  },
  {
   "cell_type": "code",
   "execution_count": 76,
   "metadata": {},
   "outputs": [
    {
     "data": {
      "text/plain": [
       "closed_at            38619\n",
       "network_username     19897\n",
       "founded_at           12940\n",
       "country_code          6005\n",
       "category_code         5432\n",
       "domain                4993\n",
       "company_ID               0\n",
       "name                     0\n",
       "status                   0\n",
       "investment_rounds        0\n",
       "funding_rounds           0\n",
       "funding_total            0\n",
       "milestones               0\n",
       "dtype: int64"
      ]
     },
     "execution_count": 76,
     "metadata": {},
     "output_type": "execute_result"
    }
   ],
   "source": [
    "# проверка на пропуски\n",
    "base_df.isna().sum().sort_values(ascending=False)"
   ]
  },
  {
   "cell_type": "markdown",
   "metadata": {},
   "source": [
    "Пропуски наблюдаются,но не в важных для дальнейшего анализа столбцах.\n",
    "\n",
    "Проверим датафрейм на дубликаты:"
   ]
  },
  {
   "cell_type": "code",
   "execution_count": 77,
   "metadata": {},
   "outputs": [
    {
     "data": {
      "text/plain": [
       "0"
      ]
     },
     "execution_count": 77,
     "metadata": {},
     "output_type": "execute_result"
    }
   ],
   "source": [
    "# проверка на дубликаты\n",
    "base_df.duplicated().sum()"
   ]
  },
  {
   "cell_type": "markdown",
   "metadata": {},
   "source": [
    "В итоге был получен датафрейм `base_df` путем фильтрации исходного `company_df`, он прошел проверку на полноту и корректность данных."
   ]
  },
  {
   "cell_type": "markdown",
   "metadata": {
    "id": "DFHINkV3rJg2"
   },
   "source": [
    "\n",
    "### 3.2. Анализ выбросов\n",
    "\n",
    "Заказчика интересует обычный для рассматриваемого периода размер средств, который предоставлялся компаниям.\n",
    "\n",
    "* По предобработанному столбцу `funding_total` графическим способом оцените, какой размер общего финансирования для одной компании будет типичным, а какой — выбивающимся.\n",
    "\n",
    "* В процессе расчёта значений обратите внимание, например, на показатели, возвращаемые методом `.describe()`, — объясните их. Применимы ли к таким данным обычные способы нахождения типичных значений?"
   ]
  },
  {
   "cell_type": "markdown",
   "metadata": {
    "id": "8jm75fKXrJg2"
   },
   "source": [
    "Проверим данные в столбце на пропуски:"
   ]
  },
  {
   "cell_type": "code",
   "execution_count": 78,
   "metadata": {},
   "outputs": [
    {
     "data": {
      "text/plain": [
       "0"
      ]
     },
     "execution_count": 78,
     "metadata": {},
     "output_type": "execute_result"
    }
   ],
   "source": [
    "# проверка на пропуски\n",
    "base_df['funding_total'].isna().sum()"
   ]
  },
  {
   "cell_type": "markdown",
   "metadata": {},
   "source": [
    "Применим метод **describe** для снятия статистических показателей со столбца `funding_total`:"
   ]
  },
  {
   "cell_type": "code",
   "execution_count": 79,
   "metadata": {},
   "outputs": [
    {
     "data": {
      "text/plain": [
       "count    4.074700e+04\n",
       "mean     1.013561e+07\n",
       "std      5.646436e+07\n",
       "min      0.000000e+00\n",
       "25%      0.000000e+00\n",
       "50%      6.000000e+05\n",
       "75%      5.650650e+06\n",
       "max      5.700000e+09\n",
       "Name: funding_total, dtype: float64"
      ]
     },
     "execution_count": 79,
     "metadata": {},
     "output_type": "execute_result"
    }
   ],
   "source": [
    "base_df['funding_total'].describe()"
   ]
  },
  {
   "cell_type": "markdown",
   "metadata": {},
   "source": [
    "Минимальное значение, а также 25-процентный показатель, равны 0, что говорит о том, что в данных много значений с нулевым размером общего финансирования. Будем иметь это в виду для дальнейшего анализа.\n",
    "\n",
    "Также заметна большая разница между средним арифметическим и медианой, причем среднее значительно больше. Это указывает на то, что в нашем столбце присутствуют выбросы, которые сдвигают значение среднего арифметического в большую сторону. Графически убедимся в этом, построив 2 диаграммы размаха: с выбросами и без."
   ]
  },
  {
   "cell_type": "code",
   "execution_count": 80,
   "metadata": {
    "id": "dIWqyEomn2MU"
   },
   "outputs": [
    {
     "data": {
      "image/png": "[encoded data removed]",
      "text/plain": [
       "<Figure size 720x144 with 1 Axes>"
      ]
     },
     "metadata": {
      "needs_background": "light"
     },
     "output_type": "display_data"
    }
   ],
   "source": [
    "# строим диаграмму размаха с выбросами\n",
    "plt.figure(figsize=(10, 2))\n",
    "\n",
    "base_df.boxplot(column='funding_total', vert=False)\n",
    "\n",
    "plt.title('Размер общего финансирования')\n",
    "plt.xlabel('Общий размер финансирования')\n",
    "plt.show()"
   ]
  },
  {
   "cell_type": "code",
   "execution_count": 81,
   "metadata": {},
   "outputs": [
    {
     "data": {
      "image/png": "[encoded data removed]",
      "text/plain": [
       "<Figure size 720x144 with 1 Axes>"
      ]
     },
     "metadata": {
      "needs_background": "light"
     },
     "output_type": "display_data"
    }
   ],
   "source": [
    "# строим диаграмму размаха без выбросов\n",
    "plt.figure(figsize=(10, 2))\n",
    "\n",
    "base_df.boxplot(column='funding_total', vert=False, showfliers=False)\n",
    "\n",
    "plt.title('Размер общего финансирования')\n",
    "plt.xlabel('Общий размер финансирования')\n",
    "plt.show()"
   ]
  },
  {
   "cell_type": "markdown",
   "metadata": {},
   "source": [
    "Диаграмма значительно искажается при наличии выбросов, но скопление основных значений наблюдается до 1 млрд. \n",
    "Однако и диаграмма без выбросов \"срезает\" много данных. Обратимся к перцентилям:"
   ]
  },
  {
   "cell_type": "code",
   "execution_count": 82,
   "metadata": {},
   "outputs": [
    {
     "name": "stdout",
     "output_type": "stream",
     "text": [
      "50% значений (верхняя граница): 600000.0\n",
      "95% значений (верхняя граница): 43500000.0\n",
      "99% значений (верхняя граница): 133948660.00000046\n"
     ]
    }
   ],
   "source": [
    "# считаем процентили\n",
    "print('50% значений (верхняя граница):', base_df['funding_total'].quantile(0.5))\n",
    "print('95% значений (верхняя граница):', base_df['funding_total'].quantile(0.95))\n",
    "print('99% значений (верхняя граница):', base_df['funding_total'].quantile(0.99))"
   ]
  },
  {
   "cell_type": "markdown",
   "metadata": {},
   "source": [
    "В итоге в данном случае выбросы в значительной степени искажают типичное значение, поэтому лучше взять в качестве него медиану данных. Таким образом, типичное значение для финансирования составляет около 600 тыс. рублей. Выбивающимися значениями можно считать все, превыщающие 99-процентный показатель, который составляет 133948660 денежных единиц, именно они сдвигают среднее арифметическое."
   ]
  },
  {
   "cell_type": "markdown",
   "metadata": {
    "id": "JqkRAQrIrJg2"
   },
   "source": [
    "\n",
    "### 3.3. Куплены забесплатно?\n",
    "\n",
    "* Исследуйте компании, которые были проданы за ноль или за один доллар, и при этом известно, что у них был ненулевой общий объём финансирования.\n",
    "\n",
    "* Рассчитайте аналитически верхнюю и нижнюю границу выбросов для столбца `funding_total` и укажите, каким процентилям границы соответствуют. Учитывая озвученные выше предпосылки и собственные соображения, сделайте выводы о корректности планируемой заказчиком замены нижней и верхней границы выбросов на значения, рассчитанные по процентилям."
   ]
  },
  {
   "cell_type": "markdown",
   "metadata": {
    "id": "wJHXCBwwrJg2"
   },
   "source": [
    "Уточним, по каким данным потребуется соединять датафрейм `acquisition` с датафреймом `base_df`. В первом датафрейме имеется информация об идентификаторе покупаемой компании в поле **`acquired_company_id`** и суммой сделки (по которой впоследствии проведем фильтрацию), а во втором датафрейме поле **`company_id`** той компании, которая была куплена."
   ]
  },
  {
   "cell_type": "code",
   "execution_count": 84,
   "metadata": {
    "id": "-kA4CO27n2ql"
   },
   "outputs": [
    {
     "data": {
      "text/plain": [
       "9247"
      ]
     },
     "execution_count": 84,
     "metadata": {},
     "output_type": "execute_result"
    }
   ],
   "source": [
    "# определяем пересечение идентификаторов компаний\n",
    "len(set(acq_df['acquired_company_id']).intersection(set(base_df['company_ID'])))"
   ]
  },
  {
   "cell_type": "code",
   "execution_count": 85,
   "metadata": {},
   "outputs": [
    {
     "data": {
      "text/plain": [
       "9407"
      ]
     },
     "execution_count": 85,
     "metadata": {},
     "output_type": "execute_result"
    }
   ],
   "source": [
    "# количество строк в левом датафрейме\n",
    "acq_df.shape[0]"
   ]
  },
  {
   "cell_type": "markdown",
   "metadata": {},
   "source": [
    "Таким образом, в датафрейме `base_df` в поле `company_id` лежит информация об идентификаторах проданных компаниях.\n",
    "\n",
    "Проведем проверку датафрейма `acquisition` на дубликаты и пропуски:"
   ]
  },
  {
   "cell_type": "code",
   "execution_count": 86,
   "metadata": {},
   "outputs": [
    {
     "data": {
      "text/plain": [
       "0"
      ]
     },
     "execution_count": 86,
     "metadata": {},
     "output_type": "execute_result"
    }
   ],
   "source": [
    "# проверка на дубликаты\n",
    "acq_df.duplicated().sum()"
   ]
  },
  {
   "cell_type": "code",
   "execution_count": 87,
   "metadata": {},
   "outputs": [
    {
     "data": {
      "text/plain": [
       "0"
      ]
     },
     "execution_count": 87,
     "metadata": {},
     "output_type": "execute_result"
    }
   ],
   "source": [
    "# проверим на дубликаты в id\n",
    "acq_df.duplicated(subset='id').sum()"
   ]
  },
  {
   "cell_type": "code",
   "execution_count": 88,
   "metadata": {},
   "outputs": [
    {
     "data": {
      "text/plain": [
       "id                         0\n",
       "acquiring_company_id       0\n",
       "acquired_company_id        0\n",
       "term_code               7576\n",
       "price_amount               0\n",
       "acquired_at               29\n",
       "dtype: int64"
      ]
     },
     "execution_count": 88,
     "metadata": {},
     "output_type": "execute_result"
    }
   ],
   "source": [
    "# проверка на пропуски\n",
    "acq_df.isna().sum()"
   ]
  },
  {
   "cell_type": "markdown",
   "metadata": {},
   "source": [
    "Таким образом, датафрейм `acquisition` имеет хорошо организованную структуру данных и может использоваться для дальнейшего присоединения к датафрейму `base_df`. Назовем объединенный датафрейм `merge_df`:"
   ]
  },
  {
   "cell_type": "code",
   "execution_count": 90,
   "metadata": {},
   "outputs": [
    {
     "data": {
      "text/html": [
       "<div>\n",
       "<style scoped>\n",
       "    .dataframe tbody tr th:only-of-type {\n",
       "        vertical-align: middle;\n",
       "    }\n",
       "\n",
       "    .dataframe tbody tr th {\n",
       "        vertical-align: top;\n",
       "    }\n",
       "\n",
       "    .dataframe thead th {\n",
       "        text-align: right;\n",
       "    }\n",
       "</style>\n",
       "<table border=\"1\" class=\"dataframe\">\n",
       "  <thead>\n",
       "    <tr style=\"text-align: right;\">\n",
       "      <th></th>\n",
       "      <th>company_ID</th>\n",
       "      <th>name</th>\n",
       "      <th>category_code</th>\n",
       "      <th>status</th>\n",
       "      <th>founded_at</th>\n",
       "      <th>closed_at</th>\n",
       "      <th>domain</th>\n",
       "      <th>network_username</th>\n",
       "      <th>country_code</th>\n",
       "      <th>investment_rounds</th>\n",
       "      <th>funding_rounds</th>\n",
       "      <th>funding_total</th>\n",
       "      <th>milestones</th>\n",
       "      <th>id</th>\n",
       "      <th>acquiring_company_id</th>\n",
       "      <th>acquired_company_id</th>\n",
       "      <th>term_code</th>\n",
       "      <th>price_amount</th>\n",
       "      <th>acquired_at</th>\n",
       "    </tr>\n",
       "  </thead>\n",
       "  <tbody>\n",
       "    <tr>\n",
       "      <th>0</th>\n",
       "      <td>10.0</td>\n",
       "      <td>Flektor</td>\n",
       "      <td>games_video</td>\n",
       "      <td>acquired</td>\n",
       "      <td>NaT</td>\n",
       "      <td>NaT</td>\n",
       "      <td>flektor.com</td>\n",
       "      <td>NaN</td>\n",
       "      <td>USA</td>\n",
       "      <td>0.0</td>\n",
       "      <td>0.0</td>\n",
       "      <td>0.0</td>\n",
       "      <td>0.0</td>\n",
       "      <td>1</td>\n",
       "      <td>11</td>\n",
       "      <td>10</td>\n",
       "      <td>NaN</td>\n",
       "      <td>20000000</td>\n",
       "      <td>2007-05-30</td>\n",
       "    </tr>\n",
       "    <tr>\n",
       "      <th>1</th>\n",
       "      <td>100.0</td>\n",
       "      <td>There</td>\n",
       "      <td>games_video</td>\n",
       "      <td>acquired</td>\n",
       "      <td>NaT</td>\n",
       "      <td>NaT</td>\n",
       "      <td>there.com</td>\n",
       "      <td>NaN</td>\n",
       "      <td>USA</td>\n",
       "      <td>0.0</td>\n",
       "      <td>0.0</td>\n",
       "      <td>0.0</td>\n",
       "      <td>4.0</td>\n",
       "      <td>20</td>\n",
       "      <td>377</td>\n",
       "      <td>100</td>\n",
       "      <td>cash</td>\n",
       "      <td>0</td>\n",
       "      <td>2005-05-29</td>\n",
       "    </tr>\n",
       "    <tr>\n",
       "      <th>2</th>\n",
       "      <td>1001.0</td>\n",
       "      <td>FriendFeed</td>\n",
       "      <td>web</td>\n",
       "      <td>acquired</td>\n",
       "      <td>2007-10-01</td>\n",
       "      <td>NaT</td>\n",
       "      <td>friendfeed.com</td>\n",
       "      <td>friendfeed</td>\n",
       "      <td>USA</td>\n",
       "      <td>0.0</td>\n",
       "      <td>1.0</td>\n",
       "      <td>5000000.0</td>\n",
       "      <td>3.0</td>\n",
       "      <td>1901</td>\n",
       "      <td>5</td>\n",
       "      <td>1001</td>\n",
       "      <td>cash_and_stock</td>\n",
       "      <td>47500000</td>\n",
       "      <td>2009-08-10</td>\n",
       "    </tr>\n",
       "    <tr>\n",
       "      <th>3</th>\n",
       "      <td>10014.0</td>\n",
       "      <td>Mobclix</td>\n",
       "      <td>mobile</td>\n",
       "      <td>acquired</td>\n",
       "      <td>2008-03-01</td>\n",
       "      <td>NaT</td>\n",
       "      <td>mobclix.com</td>\n",
       "      <td>mobclix</td>\n",
       "      <td>USA</td>\n",
       "      <td>0.0</td>\n",
       "      <td>1.0</td>\n",
       "      <td>0.0</td>\n",
       "      <td>4.0</td>\n",
       "      <td>3878</td>\n",
       "      <td>23054</td>\n",
       "      <td>10014</td>\n",
       "      <td>NaN</td>\n",
       "      <td>0</td>\n",
       "      <td>2010-09-30</td>\n",
       "    </tr>\n",
       "    <tr>\n",
       "      <th>4</th>\n",
       "      <td>100265.0</td>\n",
       "      <td>Coastal Supply Company</td>\n",
       "      <td>NaN</td>\n",
       "      <td>acquired</td>\n",
       "      <td>NaT</td>\n",
       "      <td>NaT</td>\n",
       "      <td>NaN</td>\n",
       "      <td>NaN</td>\n",
       "      <td>NaN</td>\n",
       "      <td>0.0</td>\n",
       "      <td>0.0</td>\n",
       "      <td>0.0</td>\n",
       "      <td>1.0</td>\n",
       "      <td>6106</td>\n",
       "      <td>38215</td>\n",
       "      <td>100265</td>\n",
       "      <td>NaN</td>\n",
       "      <td>0</td>\n",
       "      <td>2011-09-06</td>\n",
       "    </tr>\n",
       "    <tr>\n",
       "      <th>...</th>\n",
       "      <td>...</td>\n",
       "      <td>...</td>\n",
       "      <td>...</td>\n",
       "      <td>...</td>\n",
       "      <td>...</td>\n",
       "      <td>...</td>\n",
       "      <td>...</td>\n",
       "      <td>...</td>\n",
       "      <td>...</td>\n",
       "      <td>...</td>\n",
       "      <td>...</td>\n",
       "      <td>...</td>\n",
       "      <td>...</td>\n",
       "      <td>...</td>\n",
       "      <td>...</td>\n",
       "      <td>...</td>\n",
       "      <td>...</td>\n",
       "      <td>...</td>\n",
       "      <td>...</td>\n",
       "    </tr>\n",
       "    <tr>\n",
       "      <th>9385</th>\n",
       "      <td>11484.0</td>\n",
       "      <td>Networktise</td>\n",
       "      <td>web</td>\n",
       "      <td>acquired</td>\n",
       "      <td>2008-08-01</td>\n",
       "      <td>NaT</td>\n",
       "      <td>networktise.com</td>\n",
       "      <td>NaN</td>\n",
       "      <td>NaN</td>\n",
       "      <td>0.0</td>\n",
       "      <td>0.0</td>\n",
       "      <td>0.0</td>\n",
       "      <td>0.0</td>\n",
       "      <td>8605</td>\n",
       "      <td>205151</td>\n",
       "      <td>11484</td>\n",
       "      <td>NaN</td>\n",
       "      <td>0</td>\n",
       "      <td>2013-05-10</td>\n",
       "    </tr>\n",
       "    <tr>\n",
       "      <th>9386</th>\n",
       "      <td>153326.0</td>\n",
       "      <td>Yoke</td>\n",
       "      <td>web</td>\n",
       "      <td>acquired</td>\n",
       "      <td>NaT</td>\n",
       "      <td>NaT</td>\n",
       "      <td>apps.socialnet.com::yokeapp</td>\n",
       "      <td>NaN</td>\n",
       "      <td>NaN</td>\n",
       "      <td>0.0</td>\n",
       "      <td>1.0</td>\n",
       "      <td>500000.0</td>\n",
       "      <td>1.0</td>\n",
       "      <td>7948</td>\n",
       "      <td>2352</td>\n",
       "      <td>153326</td>\n",
       "      <td>NaN</td>\n",
       "      <td>0</td>\n",
       "      <td>2012-09-11</td>\n",
       "    </tr>\n",
       "    <tr>\n",
       "      <th>9387</th>\n",
       "      <td>53224.0</td>\n",
       "      <td>UberNetwork</td>\n",
       "      <td>web</td>\n",
       "      <td>acquired</td>\n",
       "      <td>NaT</td>\n",
       "      <td>NaT</td>\n",
       "      <td>ubernetwork.com::</td>\n",
       "      <td>NaN</td>\n",
       "      <td>NaN</td>\n",
       "      <td>0.0</td>\n",
       "      <td>0.0</td>\n",
       "      <td>0.0</td>\n",
       "      <td>1.0</td>\n",
       "      <td>5034</td>\n",
       "      <td>45529</td>\n",
       "      <td>53224</td>\n",
       "      <td>NaN</td>\n",
       "      <td>0</td>\n",
       "      <td>2011-01-23</td>\n",
       "    </tr>\n",
       "    <tr>\n",
       "      <th>9388</th>\n",
       "      <td>69612.0</td>\n",
       "      <td>Networkcism</td>\n",
       "      <td>NaN</td>\n",
       "      <td>acquired</td>\n",
       "      <td>NaT</td>\n",
       "      <td>NaT</td>\n",
       "      <td>networkcism.com</td>\n",
       "      <td>NaN</td>\n",
       "      <td>NaN</td>\n",
       "      <td>0.0</td>\n",
       "      <td>0.0</td>\n",
       "      <td>0.0</td>\n",
       "      <td>0.0</td>\n",
       "      <td>5189</td>\n",
       "      <td>22309</td>\n",
       "      <td>69612</td>\n",
       "      <td>NaN</td>\n",
       "      <td>0</td>\n",
       "      <td>2011-02-23</td>\n",
       "    </tr>\n",
       "    <tr>\n",
       "      <th>9389</th>\n",
       "      <td>43233.0</td>\n",
       "      <td>Photonet</td>\n",
       "      <td>photo_video</td>\n",
       "      <td>acquired</td>\n",
       "      <td>2010-03-01</td>\n",
       "      <td>NaT</td>\n",
       "      <td>Photonet.com</td>\n",
       "      <td>Photonet</td>\n",
       "      <td>USA</td>\n",
       "      <td>0.0</td>\n",
       "      <td>3.0</td>\n",
       "      <td>57500000.0</td>\n",
       "      <td>3.0</td>\n",
       "      <td>6968</td>\n",
       "      <td>5</td>\n",
       "      <td>43233</td>\n",
       "      <td>cash_and_stock</td>\n",
       "      <td>1010470000</td>\n",
       "      <td>2012-04-09</td>\n",
       "    </tr>\n",
       "  </tbody>\n",
       "</table>\n",
       "<p>9390 rows × 19 columns</p>\n",
       "</div>"
      ],
      "text/plain": [
       "      company_ID                    name category_code    status founded_at  \\\n",
       "0           10.0                 Flektor   games_video  acquired        NaT   \n",
       "1          100.0                   There   games_video  acquired        NaT   \n",
       "2         1001.0              FriendFeed           web  acquired 2007-10-01   \n",
       "3        10014.0                 Mobclix        mobile  acquired 2008-03-01   \n",
       "4       100265.0  Coastal Supply Company           NaN  acquired        NaT   \n",
       "...          ...                     ...           ...       ...        ...   \n",
       "9385     11484.0             Networktise           web  acquired 2008-08-01   \n",
       "9386    153326.0                    Yoke           web  acquired        NaT   \n",
       "9387     53224.0             UberNetwork           web  acquired        NaT   \n",
       "9388     69612.0             Networkcism           NaN  acquired        NaT   \n",
       "9389     43233.0                Photonet   photo_video  acquired 2010-03-01   \n",
       "\n",
       "     closed_at                       domain network_username country_code  \\\n",
       "0          NaT                  flektor.com              NaN          USA   \n",
       "1          NaT                    there.com              NaN          USA   \n",
       "2          NaT               friendfeed.com       friendfeed          USA   \n",
       "3          NaT                  mobclix.com          mobclix          USA   \n",
       "4          NaT                          NaN              NaN          NaN   \n",
       "...        ...                          ...              ...          ...   \n",
       "9385       NaT              networktise.com              NaN          NaN   \n",
       "9386       NaT  apps.socialnet.com::yokeapp              NaN          NaN   \n",
       "9387       NaT            ubernetwork.com::              NaN          NaN   \n",
       "9388       NaT              networkcism.com              NaN          NaN   \n",
       "9389       NaT                 Photonet.com         Photonet          USA   \n",
       "\n",
       "      investment_rounds  funding_rounds  funding_total  milestones    id  \\\n",
       "0                   0.0             0.0            0.0         0.0     1   \n",
       "1                   0.0             0.0            0.0         4.0    20   \n",
       "2                   0.0             1.0      5000000.0         3.0  1901   \n",
       "3                   0.0             1.0            0.0         4.0  3878   \n",
       "4                   0.0             0.0            0.0         1.0  6106   \n",
       "...                 ...             ...            ...         ...   ...   \n",
       "9385                0.0             0.0            0.0         0.0  8605   \n",
       "9386                0.0             1.0       500000.0         1.0  7948   \n",
       "9387                0.0             0.0            0.0         1.0  5034   \n",
       "9388                0.0             0.0            0.0         0.0  5189   \n",
       "9389                0.0             3.0     57500000.0         3.0  6968   \n",
       "\n",
       "      acquiring_company_id  acquired_company_id       term_code  price_amount  \\\n",
       "0                       11                   10             NaN      20000000   \n",
       "1                      377                  100            cash             0   \n",
       "2                        5                 1001  cash_and_stock      47500000   \n",
       "3                    23054                10014             NaN             0   \n",
       "4                    38215               100265             NaN             0   \n",
       "...                    ...                  ...             ...           ...   \n",
       "9385                205151                11484             NaN             0   \n",
       "9386                  2352               153326             NaN             0   \n",
       "9387                 45529                53224             NaN             0   \n",
       "9388                 22309                69612             NaN             0   \n",
       "9389                     5                43233  cash_and_stock    1010470000   \n",
       "\n",
       "     acquired_at  \n",
       "0     2007-05-30  \n",
       "1     2005-05-29  \n",
       "2     2009-08-10  \n",
       "3     2010-09-30  \n",
       "4     2011-09-06  \n",
       "...          ...  \n",
       "9385  2013-05-10  \n",
       "9386  2012-09-11  \n",
       "9387  2011-01-23  \n",
       "9388  2011-02-23  \n",
       "9389  2012-04-09  \n",
       "\n",
       "[9390 rows x 19 columns]"
      ]
     },
     "execution_count": 90,
     "metadata": {},
     "output_type": "execute_result"
    }
   ],
   "source": [
    "# проведем объединение датафреймов\n",
    "merge_df = base_df.merge(acq_df, how='inner', left_on='company_ID', right_on='acquired_company_id')\n",
    "merge_df"
   ]
  },
  {
   "cell_type": "markdown",
   "metadata": {},
   "source": [
    "После получения объединенного датасета отфильтруем его по заданным критериям: **`price_amount`** - сумма сделки - равняется 0 или 1, при этом **`funding_total`** - общий объем финансирования - ненулевой. Назовем этот датафрейм `sold_df`."
   ]
  },
  {
   "cell_type": "code",
   "execution_count": 91,
   "metadata": {},
   "outputs": [
    {
     "data": {
      "text/html": [
       "<div>\n",
       "<style scoped>\n",
       "    .dataframe tbody tr th:only-of-type {\n",
       "        vertical-align: middle;\n",
       "    }\n",
       "\n",
       "    .dataframe tbody tr th {\n",
       "        vertical-align: top;\n",
       "    }\n",
       "\n",
       "    .dataframe thead th {\n",
       "        text-align: right;\n",
       "    }\n",
       "</style>\n",
       "<table border=\"1\" class=\"dataframe\">\n",
       "  <thead>\n",
       "    <tr style=\"text-align: right;\">\n",
       "      <th></th>\n",
       "      <th>company_ID</th>\n",
       "      <th>name</th>\n",
       "      <th>category_code</th>\n",
       "      <th>status</th>\n",
       "      <th>founded_at</th>\n",
       "      <th>closed_at</th>\n",
       "      <th>domain</th>\n",
       "      <th>network_username</th>\n",
       "      <th>country_code</th>\n",
       "      <th>investment_rounds</th>\n",
       "      <th>funding_rounds</th>\n",
       "      <th>funding_total</th>\n",
       "      <th>milestones</th>\n",
       "      <th>id</th>\n",
       "      <th>acquiring_company_id</th>\n",
       "      <th>acquired_company_id</th>\n",
       "      <th>term_code</th>\n",
       "      <th>price_amount</th>\n",
       "      <th>acquired_at</th>\n",
       "    </tr>\n",
       "  </thead>\n",
       "  <tbody>\n",
       "    <tr>\n",
       "      <th>0</th>\n",
       "      <td>10054.0</td>\n",
       "      <td>Jumptap</td>\n",
       "      <td>mobile</td>\n",
       "      <td>acquired</td>\n",
       "      <td>2005-01-01</td>\n",
       "      <td>NaT</td>\n",
       "      <td>jumptap.com</td>\n",
       "      <td>jumptap</td>\n",
       "      <td>USA</td>\n",
       "      <td>0.0</td>\n",
       "      <td>7.0</td>\n",
       "      <td>121500000.0</td>\n",
       "      <td>3.0</td>\n",
       "      <td>9288</td>\n",
       "      <td>23283</td>\n",
       "      <td>10054</td>\n",
       "      <td>cash_and_stock</td>\n",
       "      <td>0</td>\n",
       "      <td>2013-08-13</td>\n",
       "    </tr>\n",
       "    <tr>\n",
       "      <th>1</th>\n",
       "      <td>101312.0</td>\n",
       "      <td>SideTour</td>\n",
       "      <td>web</td>\n",
       "      <td>acquired</td>\n",
       "      <td>2011-06-01</td>\n",
       "      <td>NaT</td>\n",
       "      <td>sidetour.com</td>\n",
       "      <td>sidetour</td>\n",
       "      <td>USA</td>\n",
       "      <td>0.0</td>\n",
       "      <td>3.0</td>\n",
       "      <td>4000000.0</td>\n",
       "      <td>2.0</td>\n",
       "      <td>9653</td>\n",
       "      <td>11391</td>\n",
       "      <td>101312</td>\n",
       "      <td>NaN</td>\n",
       "      <td>0</td>\n",
       "      <td>2013-09-18</td>\n",
       "    </tr>\n",
       "    <tr>\n",
       "      <th>2</th>\n",
       "      <td>101340.0</td>\n",
       "      <td>ChoicePass</td>\n",
       "      <td>enterprise</td>\n",
       "      <td>acquired</td>\n",
       "      <td>2011-07-01</td>\n",
       "      <td>NaT</td>\n",
       "      <td>choicepass.com</td>\n",
       "      <td>choicepass</td>\n",
       "      <td>USA</td>\n",
       "      <td>0.0</td>\n",
       "      <td>1.0</td>\n",
       "      <td>250000.0</td>\n",
       "      <td>1.0</td>\n",
       "      <td>7272</td>\n",
       "      <td>1972</td>\n",
       "      <td>101340</td>\n",
       "      <td>NaN</td>\n",
       "      <td>0</td>\n",
       "      <td>2012-06-18</td>\n",
       "    </tr>\n",
       "    <tr>\n",
       "      <th>3</th>\n",
       "      <td>10137.0</td>\n",
       "      <td>Producteev</td>\n",
       "      <td>software</td>\n",
       "      <td>acquired</td>\n",
       "      <td>2008-07-08</td>\n",
       "      <td>NaT</td>\n",
       "      <td>producteev.com</td>\n",
       "      <td>producteev</td>\n",
       "      <td>USA</td>\n",
       "      <td>0.0</td>\n",
       "      <td>3.0</td>\n",
       "      <td>1310000.0</td>\n",
       "      <td>2.0</td>\n",
       "      <td>8254</td>\n",
       "      <td>757</td>\n",
       "      <td>10137</td>\n",
       "      <td>cash_and_stock</td>\n",
       "      <td>0</td>\n",
       "      <td>2012-11-05</td>\n",
       "    </tr>\n",
       "    <tr>\n",
       "      <th>4</th>\n",
       "      <td>10139.0</td>\n",
       "      <td>TradeCard</td>\n",
       "      <td>enterprise</td>\n",
       "      <td>acquired</td>\n",
       "      <td>1999-01-01</td>\n",
       "      <td>NaT</td>\n",
       "      <td>tradecard.com</td>\n",
       "      <td>TradeCard</td>\n",
       "      <td>USA</td>\n",
       "      <td>0.0</td>\n",
       "      <td>2.0</td>\n",
       "      <td>44925000.0</td>\n",
       "      <td>1.0</td>\n",
       "      <td>9326</td>\n",
       "      <td>44008</td>\n",
       "      <td>10139</td>\n",
       "      <td>NaN</td>\n",
       "      <td>0</td>\n",
       "      <td>2013-04-01</td>\n",
       "    </tr>\n",
       "    <tr>\n",
       "      <th>...</th>\n",
       "      <td>...</td>\n",
       "      <td>...</td>\n",
       "      <td>...</td>\n",
       "      <td>...</td>\n",
       "      <td>...</td>\n",
       "      <td>...</td>\n",
       "      <td>...</td>\n",
       "      <td>...</td>\n",
       "      <td>...</td>\n",
       "      <td>...</td>\n",
       "      <td>...</td>\n",
       "      <td>...</td>\n",
       "      <td>...</td>\n",
       "      <td>...</td>\n",
       "      <td>...</td>\n",
       "      <td>...</td>\n",
       "      <td>...</td>\n",
       "      <td>...</td>\n",
       "      <td>...</td>\n",
       "    </tr>\n",
       "    <tr>\n",
       "      <th>1613</th>\n",
       "      <td>99.0</td>\n",
       "      <td>Amie Street</td>\n",
       "      <td>web</td>\n",
       "      <td>acquired</td>\n",
       "      <td>2011-07-04</td>\n",
       "      <td>NaT</td>\n",
       "      <td>amiestreet.com</td>\n",
       "      <td>amiestreet_logs</td>\n",
       "      <td>USA</td>\n",
       "      <td>0.0</td>\n",
       "      <td>2.0</td>\n",
       "      <td>3900000.0</td>\n",
       "      <td>0.0</td>\n",
       "      <td>7024</td>\n",
       "      <td>317</td>\n",
       "      <td>99</td>\n",
       "      <td>NaN</td>\n",
       "      <td>0</td>\n",
       "      <td>2010-09-22</td>\n",
       "    </tr>\n",
       "    <tr>\n",
       "      <th>1614</th>\n",
       "      <td>9905.0</td>\n",
       "      <td>UBmatrix</td>\n",
       "      <td>software</td>\n",
       "      <td>acquired</td>\n",
       "      <td>2005-01-01</td>\n",
       "      <td>NaT</td>\n",
       "      <td>ubmatrix.com</td>\n",
       "      <td>NaN</td>\n",
       "      <td>USA</td>\n",
       "      <td>0.0</td>\n",
       "      <td>2.0</td>\n",
       "      <td>5172350.0</td>\n",
       "      <td>0.0</td>\n",
       "      <td>3381</td>\n",
       "      <td>41119</td>\n",
       "      <td>9905</td>\n",
       "      <td>NaN</td>\n",
       "      <td>0</td>\n",
       "      <td>2010-06-24</td>\n",
       "    </tr>\n",
       "    <tr>\n",
       "      <th>1615</th>\n",
       "      <td>992.0</td>\n",
       "      <td>wunderloop</td>\n",
       "      <td>advertising</td>\n",
       "      <td>acquired</td>\n",
       "      <td>1999-01-01</td>\n",
       "      <td>NaT</td>\n",
       "      <td>wunderloop.com</td>\n",
       "      <td>NaN</td>\n",
       "      <td>USA</td>\n",
       "      <td>0.0</td>\n",
       "      <td>1.0</td>\n",
       "      <td>10000000.0</td>\n",
       "      <td>1.0</td>\n",
       "      <td>9916</td>\n",
       "      <td>19182</td>\n",
       "      <td>992</td>\n",
       "      <td>NaN</td>\n",
       "      <td>0</td>\n",
       "      <td>2010-07-02</td>\n",
       "    </tr>\n",
       "    <tr>\n",
       "      <th>1616</th>\n",
       "      <td>997.0</td>\n",
       "      <td>Zimbra</td>\n",
       "      <td>enterprise</td>\n",
       "      <td>acquired</td>\n",
       "      <td>2003-01-01</td>\n",
       "      <td>NaT</td>\n",
       "      <td>zimbra.com</td>\n",
       "      <td>zimbra</td>\n",
       "      <td>USA</td>\n",
       "      <td>0.0</td>\n",
       "      <td>1.0</td>\n",
       "      <td>14500000.0</td>\n",
       "      <td>3.0</td>\n",
       "      <td>9121</td>\n",
       "      <td>415</td>\n",
       "      <td>997</td>\n",
       "      <td>NaN</td>\n",
       "      <td>0</td>\n",
       "      <td>2013-07-15</td>\n",
       "    </tr>\n",
       "    <tr>\n",
       "      <th>1617</th>\n",
       "      <td>153326.0</td>\n",
       "      <td>Yoke</td>\n",
       "      <td>web</td>\n",
       "      <td>acquired</td>\n",
       "      <td>NaT</td>\n",
       "      <td>NaT</td>\n",
       "      <td>apps.socialnet.com::yokeapp</td>\n",
       "      <td>NaN</td>\n",
       "      <td>NaN</td>\n",
       "      <td>0.0</td>\n",
       "      <td>1.0</td>\n",
       "      <td>500000.0</td>\n",
       "      <td>1.0</td>\n",
       "      <td>7948</td>\n",
       "      <td>2352</td>\n",
       "      <td>153326</td>\n",
       "      <td>NaN</td>\n",
       "      <td>0</td>\n",
       "      <td>2012-09-11</td>\n",
       "    </tr>\n",
       "  </tbody>\n",
       "</table>\n",
       "<p>1618 rows × 19 columns</p>\n",
       "</div>"
      ],
      "text/plain": [
       "      company_ID         name category_code    status founded_at closed_at  \\\n",
       "0        10054.0      Jumptap        mobile  acquired 2005-01-01       NaT   \n",
       "1       101312.0     SideTour           web  acquired 2011-06-01       NaT   \n",
       "2       101340.0   ChoicePass    enterprise  acquired 2011-07-01       NaT   \n",
       "3        10137.0   Producteev      software  acquired 2008-07-08       NaT   \n",
       "4        10139.0    TradeCard    enterprise  acquired 1999-01-01       NaT   \n",
       "...          ...          ...           ...       ...        ...       ...   \n",
       "1613        99.0  Amie Street           web  acquired 2011-07-04       NaT   \n",
       "1614      9905.0     UBmatrix      software  acquired 2005-01-01       NaT   \n",
       "1615       992.0   wunderloop   advertising  acquired 1999-01-01       NaT   \n",
       "1616       997.0       Zimbra    enterprise  acquired 2003-01-01       NaT   \n",
       "1617    153326.0         Yoke           web  acquired        NaT       NaT   \n",
       "\n",
       "                           domain network_username country_code  \\\n",
       "0                     jumptap.com          jumptap          USA   \n",
       "1                    sidetour.com         sidetour          USA   \n",
       "2                  choicepass.com       choicepass          USA   \n",
       "3                  producteev.com       producteev          USA   \n",
       "4                   tradecard.com        TradeCard          USA   \n",
       "...                           ...              ...          ...   \n",
       "1613               amiestreet.com  amiestreet_logs          USA   \n",
       "1614                 ubmatrix.com              NaN          USA   \n",
       "1615               wunderloop.com              NaN          USA   \n",
       "1616                   zimbra.com           zimbra          USA   \n",
       "1617  apps.socialnet.com::yokeapp              NaN          NaN   \n",
       "\n",
       "      investment_rounds  funding_rounds  funding_total  milestones    id  \\\n",
       "0                   0.0             7.0    121500000.0         3.0  9288   \n",
       "1                   0.0             3.0      4000000.0         2.0  9653   \n",
       "2                   0.0             1.0       250000.0         1.0  7272   \n",
       "3                   0.0             3.0      1310000.0         2.0  8254   \n",
       "4                   0.0             2.0     44925000.0         1.0  9326   \n",
       "...                 ...             ...            ...         ...   ...   \n",
       "1613                0.0             2.0      3900000.0         0.0  7024   \n",
       "1614                0.0             2.0      5172350.0         0.0  3381   \n",
       "1615                0.0             1.0     10000000.0         1.0  9916   \n",
       "1616                0.0             1.0     14500000.0         3.0  9121   \n",
       "1617                0.0             1.0       500000.0         1.0  7948   \n",
       "\n",
       "      acquiring_company_id  acquired_company_id       term_code  price_amount  \\\n",
       "0                    23283                10054  cash_and_stock             0   \n",
       "1                    11391               101312             NaN             0   \n",
       "2                     1972               101340             NaN             0   \n",
       "3                      757                10137  cash_and_stock             0   \n",
       "4                    44008                10139             NaN             0   \n",
       "...                    ...                  ...             ...           ...   \n",
       "1613                   317                   99             NaN             0   \n",
       "1614                 41119                 9905             NaN             0   \n",
       "1615                 19182                  992             NaN             0   \n",
       "1616                   415                  997             NaN             0   \n",
       "1617                  2352               153326             NaN             0   \n",
       "\n",
       "     acquired_at  \n",
       "0     2013-08-13  \n",
       "1     2013-09-18  \n",
       "2     2012-06-18  \n",
       "3     2012-11-05  \n",
       "4     2013-04-01  \n",
       "...          ...  \n",
       "1613  2010-09-22  \n",
       "1614  2010-06-24  \n",
       "1615  2010-07-02  \n",
       "1616  2013-07-15  \n",
       "1617  2012-09-11  \n",
       "\n",
       "[1618 rows x 19 columns]"
      ]
     },
     "execution_count": 91,
     "metadata": {},
     "output_type": "execute_result"
    }
   ],
   "source": [
    "# отфильтровываем датафрейм\n",
    "sold_df = merge_df[((merge_df['price_amount'] == 0) | (merge_df['price_amount'] == 1)) & (merge_df['funding_total'] > 0)]\n",
    "sold_df.reset_index(drop=True)"
   ]
  },
  {
   "cell_type": "markdown",
   "metadata": {},
   "source": [
    "Обратимся к столбцу `funding_total`, для начала получим общую статистическую информацию:"
   ]
  },
  {
   "cell_type": "code",
   "execution_count": 92,
   "metadata": {},
   "outputs": [
    {
     "data": {
      "text/plain": [
       "count    1.618000e+03\n",
       "mean     1.815296e+07\n",
       "std      1.445030e+08\n",
       "min      3.750000e+03\n",
       "25%      2.000000e+06\n",
       "50%      6.000000e+06\n",
       "75%      1.550000e+07\n",
       "max      5.700000e+09\n",
       "Name: funding_total, dtype: float64"
      ]
     },
     "execution_count": 92,
     "metadata": {},
     "output_type": "execute_result"
    }
   ],
   "source": [
    "sold_df['funding_total'].describe()"
   ]
  },
  {
   "cell_type": "markdown",
   "metadata": {},
   "source": [
    "По этим данным, а также по выводам, сделанным в предыдущем пункте, замечаем, что имеем правоасимметричное распределение. Для дальнейшего расчета будет полезно увеличить коэффициент, взяв не 1.5, а, например, 2.5, чтобы не выбрасывать значения, по ошибке посчитавшиеся за выбросы. "
   ]
  },
  {
   "cell_type": "markdown",
   "metadata": {},
   "source": [
    "Рассчитаем аналитически нижнюю и верхнюю границу выбросов для столбца `funding_total`, пользуясь следующими уравнениями:\n",
    "* Нижний порог = Q1 - 2.5 * IQR\n",
    "* Верхний порог = Q3 + 2.5 * IQR\n",
    "\n",
    "В этих уравнениях Q1 - первый квартиль, что то же самое, что 25-й процентиль, а Q3 - третий квартиль, то есть 75-й процентиль. IQR - разность между Q3 и Q1.\n",
    "  \n",
    "Для осуществления этого понадобится метод **quantile()**:"
   ]
  },
  {
   "cell_type": "code",
   "execution_count": 93,
   "metadata": {},
   "outputs": [
    {
     "name": "stdout",
     "output_type": "stream",
     "text": [
      "Значение Q1:  2000000.0\n",
      "Значение Q3:  15500000.0\n",
      "Значение межквартильного размаха:  13500000.0\n"
     ]
    }
   ],
   "source": [
    "# рассчитываем квартили\n",
    "q1 = sold_df['funding_total'].quantile(0.25)\n",
    "q3 = sold_df['funding_total'].quantile(0.75)\n",
    "iqr = q3 - q1\n",
    "\n",
    "print('Значение Q1: ', q1)\n",
    "print('Значение Q3: ', q3)\n",
    "print('Значение межквартильного размаха: ', iqr)"
   ]
  },
  {
   "cell_type": "code",
   "execution_count": 94,
   "metadata": {},
   "outputs": [
    {
     "name": "stdout",
     "output_type": "stream",
     "text": [
      "Нижняя граница выбросов:  3750.0\n",
      "Верхняя граница выбросов:  49250000.0\n"
     ]
    }
   ],
   "source": [
    "# рассчитываем пороги значений\n",
    "coeff = 2.5\n",
    "lower_bound = q1 - coeff * iqr\n",
    "upper_bound = q3 + coeff * iqr\n",
    "\n",
    "if lower_bound < min(sold_df['funding_total']):\n",
    "    lower_bound = min(sold_df['funding_total'])\n",
    "\n",
    "print('Нижняя граница выбросов: ', lower_bound)\n",
    "print('Верхняя граница выбросов: ', upper_bound)"
   ]
  },
  {
   "cell_type": "markdown",
   "metadata": {},
   "source": [
    "Предварительно поставим проверку на значение нижней границы, так как она может выйти за пределы минимального значения всех данных и быть отрицательной. Если вышла - назначаем ей минимальное значение в данных."
   ]
  },
  {
   "cell_type": "markdown",
   "metadata": {},
   "source": [
    "Найдем, каким процентилям соответствуют нижний и верхний пороги:"
   ]
  },
  {
   "cell_type": "code",
   "execution_count": 95,
   "metadata": {},
   "outputs": [
    {
     "name": "stdout",
     "output_type": "stream",
     "text": [
      "Нулевой процентиль:  3750.0\n",
      "95-й процентиль:  51487499.99999996\n"
     ]
    }
   ],
   "source": [
    "# ищем процентили\n",
    "print('Нулевой процентиль: ', sold_df['funding_total'].quantile(0))\n",
    "print('95-й процентиль: ', sold_df['funding_total'].quantile(0.95))"
   ]
  },
  {
   "cell_type": "markdown",
   "metadata": {},
   "source": [
    "Проверим, соответствует ли нижний порог выбросов минимуму в данных об общем объеме финансирования:"
   ]
  },
  {
   "cell_type": "code",
   "execution_count": 96,
   "metadata": {},
   "outputs": [
    {
     "data": {
      "text/plain": [
       "True"
      ]
     },
     "execution_count": 96,
     "metadata": {},
     "output_type": "execute_result"
    }
   ],
   "source": [
    "# проверка на минимум \n",
    "lower_bound == min(sold_df['funding_total'])"
   ]
  },
  {
   "cell_type": "markdown",
   "metadata": {},
   "source": [
    "Так как нижняя граница соответствует минимуму, проверим, какой процент данных, отсеянных верхним порогом выбросов, попадет в выборку:"
   ]
  },
  {
   "cell_type": "code",
   "execution_count": 98,
   "metadata": {},
   "outputs": [
    {
     "data": {
      "text/plain": [
       "94.43757725587145"
      ]
     },
     "execution_count": 98,
     "metadata": {},
     "output_type": "execute_result"
    }
   ],
   "source": [
    "sold_df[sold_df['funding_total'] < upper_bound].shape[0] / sold_df.shape[0] * 100"
   ]
  },
  {
   "cell_type": "markdown",
   "metadata": {},
   "source": [
    "Таким образом, чуть больше 94% данных остаются в процессе фильтрации по нижней и верхней границе. \n",
    "\n",
    "Процент данных, которые фильтруют границы, составляет 94%."
   ]
  },
  {
   "cell_type": "markdown",
   "metadata": {},
   "source": [
    "Таким образом аналитически рассчитанные значения нижнего и верхнего порога выбросов соответствуют соответственно нулевому и почти 95-му процентилю; в целом, хотя аналитически рассчитанная верхняя граница чуть меньше 95-го процентиля, принято отсеивать значения, превышающие 95-й процентиль, поэтому можно считать корректным планируемую замену нижней и верхней границы выбросов на процентили, так как основная масса значений лежит в этом диапазоне."
   ]
  },
  {
   "cell_type": "markdown",
   "metadata": {
    "id": "mEiWpROjrJg2"
   },
   "source": [
    "\n",
    "### 3.4. Цены стартапов по категориям\n",
    "\n",
    "Категории стартапов с наибольшими ценами и значительным разбросом цен могут быть наиболее привлекательными для крупных инвесторов, которые готовы к высоким рискам ради потенциально больших доходов. Среди категорий стартапов выделите категории стартапов, характеризующиеся:\n",
    "\n",
    "* наибольшими ценами;\n",
    "* и наибольшим разбросом цен за стартап.\n",
    "\n",
    "Объясните, почему решили составить топ именно из такого числа категорий и почему рассчитывали именно так."
   ]
  },
  {
   "cell_type": "markdown",
   "metadata": {
    "id": "jQ09dYUWrJg2"
   },
   "source": [
    "Сгруппируем данные по категориям и вычислим для каждой категории количество стартапов, а также медиану как показатель наибольшей цены, так как она наименее подвержена выбросам в отличие от среднего арифметического, и отклонение цен:  "
   ]
  },
  {
   "cell_type": "code",
   "execution_count": 99,
   "metadata": {
    "id": "MFONscXPn29F"
   },
   "outputs": [
    {
     "data": {
      "text/html": [
       "<div>\n",
       "<style scoped>\n",
       "    .dataframe tbody tr th:only-of-type {\n",
       "        vertical-align: middle;\n",
       "    }\n",
       "\n",
       "    .dataframe tbody tr th {\n",
       "        vertical-align: top;\n",
       "    }\n",
       "\n",
       "    .dataframe thead th {\n",
       "        text-align: right;\n",
       "    }\n",
       "</style>\n",
       "<table border=\"1\" class=\"dataframe\">\n",
       "  <thead>\n",
       "    <tr style=\"text-align: right;\">\n",
       "      <th></th>\n",
       "      <th>median</th>\n",
       "      <th>std</th>\n",
       "      <th>count</th>\n",
       "    </tr>\n",
       "    <tr>\n",
       "      <th>category_code</th>\n",
       "      <th></th>\n",
       "      <th></th>\n",
       "      <th></th>\n",
       "    </tr>\n",
       "  </thead>\n",
       "  <tbody>\n",
       "    <tr>\n",
       "      <th>software</th>\n",
       "      <td>1000000.0</td>\n",
       "      <td>2.382372e+07</td>\n",
       "      <td>5712</td>\n",
       "    </tr>\n",
       "    <tr>\n",
       "      <th>biotech</th>\n",
       "      <td>4000000.0</td>\n",
       "      <td>5.465791e+07</td>\n",
       "      <td>3597</td>\n",
       "    </tr>\n",
       "    <tr>\n",
       "      <th>web</th>\n",
       "      <td>210000.0</td>\n",
       "      <td>3.343890e+07</td>\n",
       "      <td>3569</td>\n",
       "    </tr>\n",
       "    <tr>\n",
       "      <th>mobile</th>\n",
       "      <td>800000.0</td>\n",
       "      <td>1.459792e+08</td>\n",
       "      <td>2359</td>\n",
       "    </tr>\n",
       "    <tr>\n",
       "      <th>enterprise</th>\n",
       "      <td>1617100.0</td>\n",
       "      <td>3.662222e+07</td>\n",
       "      <td>1878</td>\n",
       "    </tr>\n",
       "    <tr>\n",
       "      <th>ecommerce</th>\n",
       "      <td>486000.0</td>\n",
       "      <td>4.757703e+07</td>\n",
       "      <td>1831</td>\n",
       "    </tr>\n",
       "    <tr>\n",
       "      <th>games_video</th>\n",
       "      <td>503000.0</td>\n",
       "      <td>4.239264e+07</td>\n",
       "      <td>1633</td>\n",
       "    </tr>\n",
       "    <tr>\n",
       "      <th>advertising</th>\n",
       "      <td>1000000.0</td>\n",
       "      <td>2.125720e+07</td>\n",
       "      <td>1436</td>\n",
       "    </tr>\n",
       "    <tr>\n",
       "      <th>hardware</th>\n",
       "      <td>1408400.0</td>\n",
       "      <td>5.078738e+07</td>\n",
       "      <td>1233</td>\n",
       "    </tr>\n",
       "    <tr>\n",
       "      <th>cleantech</th>\n",
       "      <td>6000000.0</td>\n",
       "      <td>9.215550e+07</td>\n",
       "      <td>1145</td>\n",
       "    </tr>\n",
       "    <tr>\n",
       "      <th>other</th>\n",
       "      <td>1000.0</td>\n",
       "      <td>2.345000e+07</td>\n",
       "      <td>1073</td>\n",
       "    </tr>\n",
       "    <tr>\n",
       "      <th>medical</th>\n",
       "      <td>5400000.0</td>\n",
       "      <td>3.354983e+07</td>\n",
       "      <td>703</td>\n",
       "    </tr>\n",
       "    <tr>\n",
       "      <th>analytics</th>\n",
       "      <td>2000000.0</td>\n",
       "      <td>2.893465e+07</td>\n",
       "      <td>701</td>\n",
       "    </tr>\n",
       "    <tr>\n",
       "      <th>health</th>\n",
       "      <td>1000000.0</td>\n",
       "      <td>1.050341e+08</td>\n",
       "      <td>650</td>\n",
       "    </tr>\n",
       "    <tr>\n",
       "      <th>network_hosting</th>\n",
       "      <td>2000000.0</td>\n",
       "      <td>6.288838e+07</td>\n",
       "      <td>634</td>\n",
       "    </tr>\n",
       "    <tr>\n",
       "      <th>finance</th>\n",
       "      <td>1350000.0</td>\n",
       "      <td>3.594626e+07</td>\n",
       "      <td>617</td>\n",
       "    </tr>\n",
       "    <tr>\n",
       "      <th>social</th>\n",
       "      <td>355000.0</td>\n",
       "      <td>1.114758e+08</td>\n",
       "      <td>614</td>\n",
       "    </tr>\n",
       "    <tr>\n",
       "      <th>public_relations</th>\n",
       "      <td>450000.0</td>\n",
       "      <td>5.840271e+07</td>\n",
       "      <td>591</td>\n",
       "    </tr>\n",
       "    <tr>\n",
       "      <th>education</th>\n",
       "      <td>570000.0</td>\n",
       "      <td>3.660939e+07</td>\n",
       "      <td>560</td>\n",
       "    </tr>\n",
       "    <tr>\n",
       "      <th>semiconductor</th>\n",
       "      <td>8100000.0</td>\n",
       "      <td>3.992461e+07</td>\n",
       "      <td>551</td>\n",
       "    </tr>\n",
       "    <tr>\n",
       "      <th>consulting</th>\n",
       "      <td>50000.0</td>\n",
       "      <td>1.375791e+07</td>\n",
       "      <td>503</td>\n",
       "    </tr>\n",
       "    <tr>\n",
       "      <th>security</th>\n",
       "      <td>2024640.0</td>\n",
       "      <td>4.497966e+07</td>\n",
       "      <td>495</td>\n",
       "    </tr>\n",
       "    <tr>\n",
       "      <th>manufacturing</th>\n",
       "      <td>1895040.0</td>\n",
       "      <td>9.304530e+07</td>\n",
       "      <td>394</td>\n",
       "    </tr>\n",
       "    <tr>\n",
       "      <th>search</th>\n",
       "      <td>681350.0</td>\n",
       "      <td>3.255413e+07</td>\n",
       "      <td>353</td>\n",
       "    </tr>\n",
       "    <tr>\n",
       "      <th>hospitality</th>\n",
       "      <td>728007.0</td>\n",
       "      <td>3.659653e+07</td>\n",
       "      <td>302</td>\n",
       "    </tr>\n",
       "    <tr>\n",
       "      <th>fashion</th>\n",
       "      <td>1200000.0</td>\n",
       "      <td>3.968917e+07</td>\n",
       "      <td>251</td>\n",
       "    </tr>\n",
       "    <tr>\n",
       "      <th>messaging</th>\n",
       "      <td>727250.0</td>\n",
       "      <td>2.735327e+07</td>\n",
       "      <td>245</td>\n",
       "    </tr>\n",
       "    <tr>\n",
       "      <th>travel</th>\n",
       "      <td>605750.0</td>\n",
       "      <td>4.806784e+07</td>\n",
       "      <td>240</td>\n",
       "    </tr>\n",
       "    <tr>\n",
       "      <th>news</th>\n",
       "      <td>908014.5</td>\n",
       "      <td>5.054718e+07</td>\n",
       "      <td>238</td>\n",
       "    </tr>\n",
       "    <tr>\n",
       "      <th>music</th>\n",
       "      <td>650000.0</td>\n",
       "      <td>4.348189e+07</td>\n",
       "      <td>195</td>\n",
       "    </tr>\n",
       "    <tr>\n",
       "      <th>real_estate</th>\n",
       "      <td>605000.0</td>\n",
       "      <td>4.385250e+07</td>\n",
       "      <td>163</td>\n",
       "    </tr>\n",
       "    <tr>\n",
       "      <th>photo_video</th>\n",
       "      <td>470071.0</td>\n",
       "      <td>1.373838e+07</td>\n",
       "      <td>161</td>\n",
       "    </tr>\n",
       "    <tr>\n",
       "      <th>sports</th>\n",
       "      <td>330000.0</td>\n",
       "      <td>5.359102e+06</td>\n",
       "      <td>124</td>\n",
       "    </tr>\n",
       "    <tr>\n",
       "      <th>nonprofit</th>\n",
       "      <td>715847.0</td>\n",
       "      <td>1.137488e+07</td>\n",
       "      <td>100</td>\n",
       "    </tr>\n",
       "    <tr>\n",
       "      <th>transportation</th>\n",
       "      <td>1100000.0</td>\n",
       "      <td>5.372778e+07</td>\n",
       "      <td>99</td>\n",
       "    </tr>\n",
       "    <tr>\n",
       "      <th>automotive</th>\n",
       "      <td>1300000.0</td>\n",
       "      <td>1.832047e+08</td>\n",
       "      <td>89</td>\n",
       "    </tr>\n",
       "    <tr>\n",
       "      <th>legal</th>\n",
       "      <td>770000.0</td>\n",
       "      <td>1.176535e+07</td>\n",
       "      <td>68</td>\n",
       "    </tr>\n",
       "    <tr>\n",
       "      <th>design</th>\n",
       "      <td>322745.0</td>\n",
       "      <td>8.862027e+06</td>\n",
       "      <td>60</td>\n",
       "    </tr>\n",
       "    <tr>\n",
       "      <th>nanotech</th>\n",
       "      <td>5115960.0</td>\n",
       "      <td>9.596109e+07</td>\n",
       "      <td>60</td>\n",
       "    </tr>\n",
       "    <tr>\n",
       "      <th>local</th>\n",
       "      <td>268333.0</td>\n",
       "      <td>2.296641e+07</td>\n",
       "      <td>44</td>\n",
       "    </tr>\n",
       "    <tr>\n",
       "      <th>pets</th>\n",
       "      <td>400000.0</td>\n",
       "      <td>7.134800e+06</td>\n",
       "      <td>27</td>\n",
       "    </tr>\n",
       "    <tr>\n",
       "      <th>government</th>\n",
       "      <td>15000.0</td>\n",
       "      <td>4.865810e+07</td>\n",
       "      <td>17</td>\n",
       "    </tr>\n",
       "  </tbody>\n",
       "</table>\n",
       "</div>"
      ],
      "text/plain": [
       "                     median           std  count\n",
       "category_code                                   \n",
       "software          1000000.0  2.382372e+07   5712\n",
       "biotech           4000000.0  5.465791e+07   3597\n",
       "web                210000.0  3.343890e+07   3569\n",
       "mobile             800000.0  1.459792e+08   2359\n",
       "enterprise        1617100.0  3.662222e+07   1878\n",
       "ecommerce          486000.0  4.757703e+07   1831\n",
       "games_video        503000.0  4.239264e+07   1633\n",
       "advertising       1000000.0  2.125720e+07   1436\n",
       "hardware          1408400.0  5.078738e+07   1233\n",
       "cleantech         6000000.0  9.215550e+07   1145\n",
       "other                1000.0  2.345000e+07   1073\n",
       "medical           5400000.0  3.354983e+07    703\n",
       "analytics         2000000.0  2.893465e+07    701\n",
       "health            1000000.0  1.050341e+08    650\n",
       "network_hosting   2000000.0  6.288838e+07    634\n",
       "finance           1350000.0  3.594626e+07    617\n",
       "social             355000.0  1.114758e+08    614\n",
       "public_relations   450000.0  5.840271e+07    591\n",
       "education          570000.0  3.660939e+07    560\n",
       "semiconductor     8100000.0  3.992461e+07    551\n",
       "consulting          50000.0  1.375791e+07    503\n",
       "security          2024640.0  4.497966e+07    495\n",
       "manufacturing     1895040.0  9.304530e+07    394\n",
       "search             681350.0  3.255413e+07    353\n",
       "hospitality        728007.0  3.659653e+07    302\n",
       "fashion           1200000.0  3.968917e+07    251\n",
       "messaging          727250.0  2.735327e+07    245\n",
       "travel             605750.0  4.806784e+07    240\n",
       "news               908014.5  5.054718e+07    238\n",
       "music              650000.0  4.348189e+07    195\n",
       "real_estate        605000.0  4.385250e+07    163\n",
       "photo_video        470071.0  1.373838e+07    161\n",
       "sports             330000.0  5.359102e+06    124\n",
       "nonprofit          715847.0  1.137488e+07    100\n",
       "transportation    1100000.0  5.372778e+07     99\n",
       "automotive        1300000.0  1.832047e+08     89\n",
       "legal              770000.0  1.176535e+07     68\n",
       "design             322745.0  8.862027e+06     60\n",
       "nanotech          5115960.0  9.596109e+07     60\n",
       "local              268333.0  2.296641e+07     44\n",
       "pets               400000.0  7.134800e+06     27\n",
       "government          15000.0  4.865810e+07     17"
      ]
     },
     "execution_count": 99,
     "metadata": {},
     "output_type": "execute_result"
    }
   ],
   "source": [
    "# агрегируем данные\n",
    "base_df.groupby('category_code')['funding_total'].agg(['median', 'std', 'count']).sort_values(by='count', ascending=False)"
   ]
  },
  {
   "cell_type": "markdown",
   "metadata": {},
   "source": [
    "Проведем фильтрацию по количеству стартапов меньше 1000, такие категории можно не рассматривать ввиду их относительной немасштабности:"
   ]
  },
  {
   "cell_type": "code",
   "execution_count": 100,
   "metadata": {},
   "outputs": [
    {
     "data": {
      "text/html": [
       "<div>\n",
       "<style scoped>\n",
       "    .dataframe tbody tr th:only-of-type {\n",
       "        vertical-align: middle;\n",
       "    }\n",
       "\n",
       "    .dataframe tbody tr th {\n",
       "        vertical-align: top;\n",
       "    }\n",
       "\n",
       "    .dataframe thead th {\n",
       "        text-align: right;\n",
       "    }\n",
       "</style>\n",
       "<table border=\"1\" class=\"dataframe\">\n",
       "  <thead>\n",
       "    <tr style=\"text-align: right;\">\n",
       "      <th></th>\n",
       "      <th>median</th>\n",
       "      <th>std</th>\n",
       "      <th>count</th>\n",
       "    </tr>\n",
       "    <tr>\n",
       "      <th>category_code</th>\n",
       "      <th></th>\n",
       "      <th></th>\n",
       "      <th></th>\n",
       "    </tr>\n",
       "  </thead>\n",
       "  <tbody>\n",
       "    <tr>\n",
       "      <th>software</th>\n",
       "      <td>1000000.0</td>\n",
       "      <td>2.382372e+07</td>\n",
       "      <td>5712</td>\n",
       "    </tr>\n",
       "    <tr>\n",
       "      <th>biotech</th>\n",
       "      <td>4000000.0</td>\n",
       "      <td>5.465791e+07</td>\n",
       "      <td>3597</td>\n",
       "    </tr>\n",
       "    <tr>\n",
       "      <th>web</th>\n",
       "      <td>210000.0</td>\n",
       "      <td>3.343890e+07</td>\n",
       "      <td>3569</td>\n",
       "    </tr>\n",
       "    <tr>\n",
       "      <th>mobile</th>\n",
       "      <td>800000.0</td>\n",
       "      <td>1.459792e+08</td>\n",
       "      <td>2359</td>\n",
       "    </tr>\n",
       "    <tr>\n",
       "      <th>enterprise</th>\n",
       "      <td>1617100.0</td>\n",
       "      <td>3.662222e+07</td>\n",
       "      <td>1878</td>\n",
       "    </tr>\n",
       "    <tr>\n",
       "      <th>ecommerce</th>\n",
       "      <td>486000.0</td>\n",
       "      <td>4.757703e+07</td>\n",
       "      <td>1831</td>\n",
       "    </tr>\n",
       "    <tr>\n",
       "      <th>games_video</th>\n",
       "      <td>503000.0</td>\n",
       "      <td>4.239264e+07</td>\n",
       "      <td>1633</td>\n",
       "    </tr>\n",
       "    <tr>\n",
       "      <th>advertising</th>\n",
       "      <td>1000000.0</td>\n",
       "      <td>2.125720e+07</td>\n",
       "      <td>1436</td>\n",
       "    </tr>\n",
       "    <tr>\n",
       "      <th>hardware</th>\n",
       "      <td>1408400.0</td>\n",
       "      <td>5.078738e+07</td>\n",
       "      <td>1233</td>\n",
       "    </tr>\n",
       "    <tr>\n",
       "      <th>cleantech</th>\n",
       "      <td>6000000.0</td>\n",
       "      <td>9.215550e+07</td>\n",
       "      <td>1145</td>\n",
       "    </tr>\n",
       "    <tr>\n",
       "      <th>other</th>\n",
       "      <td>1000.0</td>\n",
       "      <td>2.345000e+07</td>\n",
       "      <td>1073</td>\n",
       "    </tr>\n",
       "  </tbody>\n",
       "</table>\n",
       "</div>"
      ],
      "text/plain": [
       "                  median           std  count\n",
       "category_code                                \n",
       "software       1000000.0  2.382372e+07   5712\n",
       "biotech        4000000.0  5.465791e+07   3597\n",
       "web             210000.0  3.343890e+07   3569\n",
       "mobile          800000.0  1.459792e+08   2359\n",
       "enterprise     1617100.0  3.662222e+07   1878\n",
       "ecommerce       486000.0  4.757703e+07   1831\n",
       "games_video     503000.0  4.239264e+07   1633\n",
       "advertising    1000000.0  2.125720e+07   1436\n",
       "hardware       1408400.0  5.078738e+07   1233\n",
       "cleantech      6000000.0  9.215550e+07   1145\n",
       "other             1000.0  2.345000e+07   1073"
      ]
     },
     "execution_count": 100,
     "metadata": {},
     "output_type": "execute_result"
    }
   ],
   "source": [
    "# фильтр по количеству стартапов\n",
    "filter_df = base_df.groupby('category_code')['funding_total'].agg(['median', 'std', 'count']).sort_values(by='count', ascending=False)\n",
    "filter_df = filter_df[filter_df['count'] > 1000]\n",
    "filter_df"
   ]
  },
  {
   "cell_type": "markdown",
   "metadata": {},
   "source": [
    "Выведем категории по убыванию цен за стартапы:"
   ]
  },
  {
   "cell_type": "code",
   "execution_count": 101,
   "metadata": {},
   "outputs": [
    {
     "data": {
      "text/html": [
       "<div>\n",
       "<style scoped>\n",
       "    .dataframe tbody tr th:only-of-type {\n",
       "        vertical-align: middle;\n",
       "    }\n",
       "\n",
       "    .dataframe tbody tr th {\n",
       "        vertical-align: top;\n",
       "    }\n",
       "\n",
       "    .dataframe thead th {\n",
       "        text-align: right;\n",
       "    }\n",
       "</style>\n",
       "<table border=\"1\" class=\"dataframe\">\n",
       "  <thead>\n",
       "    <tr style=\"text-align: right;\">\n",
       "      <th></th>\n",
       "      <th>median</th>\n",
       "      <th>std</th>\n",
       "      <th>count</th>\n",
       "    </tr>\n",
       "    <tr>\n",
       "      <th>category_code</th>\n",
       "      <th></th>\n",
       "      <th></th>\n",
       "      <th></th>\n",
       "    </tr>\n",
       "  </thead>\n",
       "  <tbody>\n",
       "    <tr>\n",
       "      <th>cleantech</th>\n",
       "      <td>6000000.0</td>\n",
       "      <td>9.215550e+07</td>\n",
       "      <td>1145</td>\n",
       "    </tr>\n",
       "    <tr>\n",
       "      <th>biotech</th>\n",
       "      <td>4000000.0</td>\n",
       "      <td>5.465791e+07</td>\n",
       "      <td>3597</td>\n",
       "    </tr>\n",
       "    <tr>\n",
       "      <th>enterprise</th>\n",
       "      <td>1617100.0</td>\n",
       "      <td>3.662222e+07</td>\n",
       "      <td>1878</td>\n",
       "    </tr>\n",
       "    <tr>\n",
       "      <th>hardware</th>\n",
       "      <td>1408400.0</td>\n",
       "      <td>5.078738e+07</td>\n",
       "      <td>1233</td>\n",
       "    </tr>\n",
       "    <tr>\n",
       "      <th>software</th>\n",
       "      <td>1000000.0</td>\n",
       "      <td>2.382372e+07</td>\n",
       "      <td>5712</td>\n",
       "    </tr>\n",
       "    <tr>\n",
       "      <th>advertising</th>\n",
       "      <td>1000000.0</td>\n",
       "      <td>2.125720e+07</td>\n",
       "      <td>1436</td>\n",
       "    </tr>\n",
       "    <tr>\n",
       "      <th>mobile</th>\n",
       "      <td>800000.0</td>\n",
       "      <td>1.459792e+08</td>\n",
       "      <td>2359</td>\n",
       "    </tr>\n",
       "    <tr>\n",
       "      <th>games_video</th>\n",
       "      <td>503000.0</td>\n",
       "      <td>4.239264e+07</td>\n",
       "      <td>1633</td>\n",
       "    </tr>\n",
       "    <tr>\n",
       "      <th>ecommerce</th>\n",
       "      <td>486000.0</td>\n",
       "      <td>4.757703e+07</td>\n",
       "      <td>1831</td>\n",
       "    </tr>\n",
       "    <tr>\n",
       "      <th>web</th>\n",
       "      <td>210000.0</td>\n",
       "      <td>3.343890e+07</td>\n",
       "      <td>3569</td>\n",
       "    </tr>\n",
       "    <tr>\n",
       "      <th>other</th>\n",
       "      <td>1000.0</td>\n",
       "      <td>2.345000e+07</td>\n",
       "      <td>1073</td>\n",
       "    </tr>\n",
       "  </tbody>\n",
       "</table>\n",
       "</div>"
      ],
      "text/plain": [
       "                  median           std  count\n",
       "category_code                                \n",
       "cleantech      6000000.0  9.215550e+07   1145\n",
       "biotech        4000000.0  5.465791e+07   3597\n",
       "enterprise     1617100.0  3.662222e+07   1878\n",
       "hardware       1408400.0  5.078738e+07   1233\n",
       "software       1000000.0  2.382372e+07   5712\n",
       "advertising    1000000.0  2.125720e+07   1436\n",
       "mobile          800000.0  1.459792e+08   2359\n",
       "games_video     503000.0  4.239264e+07   1633\n",
       "ecommerce       486000.0  4.757703e+07   1831\n",
       "web             210000.0  3.343890e+07   3569\n",
       "other             1000.0  2.345000e+07   1073"
      ]
     },
     "execution_count": 101,
     "metadata": {},
     "output_type": "execute_result"
    }
   ],
   "source": [
    "# выводим категории по убыванию медианы цен\n",
    "filter_df.sort_values(by='median', ascending=False)"
   ]
  },
  {
   "cell_type": "markdown",
   "metadata": {},
   "source": [
    "Выведем категории по убыванию разброса цен:"
   ]
  },
  {
   "cell_type": "code",
   "execution_count": 102,
   "metadata": {},
   "outputs": [
    {
     "data": {
      "text/html": [
       "<div>\n",
       "<style scoped>\n",
       "    .dataframe tbody tr th:only-of-type {\n",
       "        vertical-align: middle;\n",
       "    }\n",
       "\n",
       "    .dataframe tbody tr th {\n",
       "        vertical-align: top;\n",
       "    }\n",
       "\n",
       "    .dataframe thead th {\n",
       "        text-align: right;\n",
       "    }\n",
       "</style>\n",
       "<table border=\"1\" class=\"dataframe\">\n",
       "  <thead>\n",
       "    <tr style=\"text-align: right;\">\n",
       "      <th></th>\n",
       "      <th>median</th>\n",
       "      <th>std</th>\n",
       "      <th>count</th>\n",
       "    </tr>\n",
       "    <tr>\n",
       "      <th>category_code</th>\n",
       "      <th></th>\n",
       "      <th></th>\n",
       "      <th></th>\n",
       "    </tr>\n",
       "  </thead>\n",
       "  <tbody>\n",
       "    <tr>\n",
       "      <th>mobile</th>\n",
       "      <td>800000.0</td>\n",
       "      <td>1.459792e+08</td>\n",
       "      <td>2359</td>\n",
       "    </tr>\n",
       "    <tr>\n",
       "      <th>cleantech</th>\n",
       "      <td>6000000.0</td>\n",
       "      <td>9.215550e+07</td>\n",
       "      <td>1145</td>\n",
       "    </tr>\n",
       "    <tr>\n",
       "      <th>biotech</th>\n",
       "      <td>4000000.0</td>\n",
       "      <td>5.465791e+07</td>\n",
       "      <td>3597</td>\n",
       "    </tr>\n",
       "    <tr>\n",
       "      <th>hardware</th>\n",
       "      <td>1408400.0</td>\n",
       "      <td>5.078738e+07</td>\n",
       "      <td>1233</td>\n",
       "    </tr>\n",
       "    <tr>\n",
       "      <th>ecommerce</th>\n",
       "      <td>486000.0</td>\n",
       "      <td>4.757703e+07</td>\n",
       "      <td>1831</td>\n",
       "    </tr>\n",
       "    <tr>\n",
       "      <th>games_video</th>\n",
       "      <td>503000.0</td>\n",
       "      <td>4.239264e+07</td>\n",
       "      <td>1633</td>\n",
       "    </tr>\n",
       "    <tr>\n",
       "      <th>enterprise</th>\n",
       "      <td>1617100.0</td>\n",
       "      <td>3.662222e+07</td>\n",
       "      <td>1878</td>\n",
       "    </tr>\n",
       "    <tr>\n",
       "      <th>web</th>\n",
       "      <td>210000.0</td>\n",
       "      <td>3.343890e+07</td>\n",
       "      <td>3569</td>\n",
       "    </tr>\n",
       "    <tr>\n",
       "      <th>software</th>\n",
       "      <td>1000000.0</td>\n",
       "      <td>2.382372e+07</td>\n",
       "      <td>5712</td>\n",
       "    </tr>\n",
       "    <tr>\n",
       "      <th>other</th>\n",
       "      <td>1000.0</td>\n",
       "      <td>2.345000e+07</td>\n",
       "      <td>1073</td>\n",
       "    </tr>\n",
       "    <tr>\n",
       "      <th>advertising</th>\n",
       "      <td>1000000.0</td>\n",
       "      <td>2.125720e+07</td>\n",
       "      <td>1436</td>\n",
       "    </tr>\n",
       "  </tbody>\n",
       "</table>\n",
       "</div>"
      ],
      "text/plain": [
       "                  median           std  count\n",
       "category_code                                \n",
       "mobile          800000.0  1.459792e+08   2359\n",
       "cleantech      6000000.0  9.215550e+07   1145\n",
       "biotech        4000000.0  5.465791e+07   3597\n",
       "hardware       1408400.0  5.078738e+07   1233\n",
       "ecommerce       486000.0  4.757703e+07   1831\n",
       "games_video     503000.0  4.239264e+07   1633\n",
       "enterprise     1617100.0  3.662222e+07   1878\n",
       "web             210000.0  3.343890e+07   3569\n",
       "software       1000000.0  2.382372e+07   5712\n",
       "other             1000.0  2.345000e+07   1073\n",
       "advertising    1000000.0  2.125720e+07   1436"
      ]
     },
     "execution_count": 102,
     "metadata": {},
     "output_type": "execute_result"
    }
   ],
   "source": [
    "# выводим категории по убыванию разброса\n",
    "filter_df.sort_values(by='std', ascending=False)"
   ]
  },
  {
   "cell_type": "markdown",
   "metadata": {},
   "source": [
    "Таким образом:\n",
    "Среди топовых категорий с высокими ценами и наибольшим разбросом цен за стартап выделяются `cleantech`, `biotech` и `hardware`. \n",
    "* Категория **`cleantech`** характеризуется самой высокой медианой цен - 6 млн долларов, что может говорить о ресурсоемких проектах, в которых требуется привлечение крупного объема средств для реализации идеи, а также о заинтересованности финансовых компаний в инвестировании средств в разработку технологий, снижающих негативное воздействие на окружающую среду. Разброс цен также не мал - 92 млн долларов.\n",
    "* В категории **`biotech`** количество проектов занимает 2 место среди всех остальных категорий - можно предположить, что такие стартапы пользуются наибольшим спросом и интересом. Большое значение у ценовой медианы - 4 млн долларов при разбросе цен почти в 55 млн долларов.\n",
    "* Категория **`hardware`** имеет медиану в размере 1.4 млн долларов. Разброс цен составляет 50 млн долларов. Важно обратить внимание на то, что проектов, относящихся к категории `software` практически в 5 раз больше, что говорит о том, что интерес к разработке аппаратной части значительно выше, чем к программному обеспечению, хотя второму выделяется чуть больше средств. \n",
    "* Остальные категории характеризуются либо большим значением медианы, но не таким солидным разбросом цен, либо наоборот. Например, разброс цен наиболее высок у категории **`mobile`** -  практически 146 млн долларов, при этом медиана цен невыоская и располагается во второй поливине топа - 800 тыс. доалларов.\n",
    "* Остальным категориям в среднем выделяются средства в размере до 1 млн долларов. В целом, такое распределение может говорить о стабильном финансировании всех представленных категорий."
   ]
  },
  {
   "cell_type": "markdown",
   "metadata": {},
   "source": [
    "В качестве показателя высоких цен выбрана медиана, так как она наименее подвержена влиянию выбросов в отличие от среднего арифметического; в качестве разброса цен выбрано стандартное отклонение как степень изменчивости набора данных."
   ]
  },
  {
   "cell_type": "markdown",
   "metadata": {
    "id": "ADOfyVY_rJg3"
   },
   "source": [
    "\n",
    "### 3.5. Сколько раундов продержится стартап перед покупкой\n",
    "\n",
    "* Необходимо проанализировать столбец `funding_rounds`. Исследуйте значения столбца. Заказчика интересует типичное значение количества раундов для каждого возможного статуса стартапа.\n",
    "\n",
    "* Постройте график, который отображает, сколько в среднем раундов финансирования проходило для стартапов из каждой группы. Сделайте выводы."
   ]
  },
  {
   "cell_type": "markdown",
   "metadata": {
    "id": "hgXMPC4WrJg3"
   },
   "source": [
    "Изначально проверим количество пропусков в столбце `funding_rounds`:"
   ]
  },
  {
   "cell_type": "code",
   "execution_count": 103,
   "metadata": {},
   "outputs": [
    {
     "data": {
      "text/plain": [
       "0"
      ]
     },
     "execution_count": 103,
     "metadata": {},
     "output_type": "execute_result"
    }
   ],
   "source": [
    "# проверка на пропуски\n",
    "base_df['funding_rounds'].isna().sum()"
   ]
  },
  {
   "cell_type": "markdown",
   "metadata": {},
   "source": [
    "Пропусков в данных нет. Так как данные в столбце `funding_rounds` имеют числовой тип и представлены дискретными значениями, будем исследовать их распределение по категориям (количеству раундов). Изначально выведем информацию о количестве значений в каждой категории:"
   ]
  },
  {
   "cell_type": "code",
   "execution_count": 104,
   "metadata": {},
   "outputs": [
    {
     "data": {
      "text/plain": [
       "1.0     20534\n",
       "0.0      9040\n",
       "2.0      6142\n",
       "3.0      2662\n",
       "4.0      1216\n",
       "5.0       600\n",
       "6.0       249\n",
       "7.0       147\n",
       "8.0        67\n",
       "9.0        46\n",
       "10.0       23\n",
       "11.0       10\n",
       "13.0        5\n",
       "12.0        3\n",
       "15.0        2\n",
       "14.0        1\n",
       "Name: funding_rounds, dtype: int64"
      ]
     },
     "execution_count": 104,
     "metadata": {},
     "output_type": "execute_result"
    }
   ],
   "source": [
    "# распределяем данные по значениям столбца funding_rounds \n",
    "base_df['funding_rounds'].value_counts()"
   ]
  },
  {
   "cell_type": "code",
   "execution_count": 105,
   "metadata": {},
   "outputs": [
    {
     "data": {
      "text/plain": [
       "1.0     0.503939\n",
       "0.0     0.221857\n",
       "2.0     0.150735\n",
       "3.0     0.065330\n",
       "4.0     0.029843\n",
       "5.0     0.014725\n",
       "6.0     0.006111\n",
       "7.0     0.003608\n",
       "8.0     0.001644\n",
       "9.0     0.001129\n",
       "10.0    0.000564\n",
       "11.0    0.000245\n",
       "13.0    0.000123\n",
       "12.0    0.000074\n",
       "15.0    0.000049\n",
       "14.0    0.000025\n",
       "Name: funding_rounds, dtype: float64"
      ]
     },
     "execution_count": 105,
     "metadata": {},
     "output_type": "execute_result"
    }
   ],
   "source": [
    "# распределяем данные по значениям столбца funding_rounds с долями\n",
    "base_df['funding_rounds'].value_counts(normalize=True)"
   ]
  },
  {
   "cell_type": "markdown",
   "metadata": {},
   "source": [
    "Результаты показывают, что всего в этом столбце 16 уникальных значений — от 0 до 15 раундов финансирования. При этом самое непопулярное число раундов составляет более 5 (количество компаний с таким числом раундов меньше процента). 1 раунд финансирования самый популярный: 20534 компаний (или примерно 50% от всех). Далее идет 0 раундов с 9040 компаний (22%), 2 раунда с 6142 компаниями (15%), 3 раунда с 2662 компаниями (6.5%). \n",
    "\n",
    "Неравномерное распределение по числу раундов следует учитывать при дальнейшем анализе."
   ]
  },
  {
   "cell_type": "markdown",
   "metadata": {},
   "source": [
    "Осуществим поиск типичного значения количества раундов для каждого возможного статуса стартапа. При этом отфильтруем таблицу так, чтобы исключить записи с нулевым количеством раундов, так как они скорее всего не прохоили через процедуру финансирования."
   ]
  },
  {
   "cell_type": "code",
   "execution_count": 106,
   "metadata": {},
   "outputs": [],
   "source": [
    "# исключаем данные с нулевым количеством раундов финансирования\n",
    "finance_df = base_df[base_df['funding_rounds'] != 0]"
   ]
  },
  {
   "cell_type": "code",
   "execution_count": 107,
   "metadata": {},
   "outputs": [
    {
     "data": {
      "text/plain": [
       "status\n",
       "acquired     1.896645\n",
       "closed       1.383437\n",
       "ipo          2.526531\n",
       "operating    1.642359\n",
       "Name: funding_rounds, dtype: float64"
      ]
     },
     "execution_count": 107,
     "metadata": {},
     "output_type": "execute_result"
    }
   ],
   "source": [
    "# агрегируем данные по статусу проекта\n",
    "finance_df.groupby('status')['funding_rounds'].mean()"
   ]
  },
  {
   "cell_type": "markdown",
   "metadata": {},
   "source": [
    "Построим график, на котором изобразим, сколько в среднем проходило раундов финансирования стартапов для каждого статуса:"
   ]
  },
  {
   "cell_type": "code",
   "execution_count": 109,
   "metadata": {},
   "outputs": [
    {
     "data": {
      "image/png": "[encoded data removed]",
      "text/plain": [
       "<Figure size 576x432 with 1 Axes>"
      ]
     },
     "metadata": {
      "needs_background": "light"
     },
     "output_type": "display_data"
    }
   ],
   "source": [
    "# строим визуализацию\n",
    "plt.figure(figsize=(8, 6))\n",
    "\n",
    "finance_df.groupby('status')['funding_rounds'].mean().sort_values(ascending=False).plot(\n",
    "    kind='bar',\n",
    "    rot=0,\n",
    "    color='skyblue',\n",
    "    legend=False,\n",
    "    title='Среднее число раундов финансирования по статусу проекта')\n",
    "\n",
    "plt.xlabel('Статус компании')\n",
    "plt.ylabel('Среднее число раундов финансирования')\n",
    "plt.grid()\n",
    "plt.show()"
   ]
  },
  {
   "cell_type": "markdown",
   "metadata": {},
   "source": [
    "Таким образом значения столбца `funding_rounds` распределены неравномерно, превалирующее большинство занимают компании с единственным раундом финансирования, далее идут компании с 0, 2 и 3 раундами финансирования соответственно по убыванию. Распределение по статусам компаний среднего числа раундов финансирования показывает, что для категории `ipo` среднее число раундов финансирования превышает 2.5 и приближается к 3, для категории `acquired` этот показатель почти дотягивает до 2 раундов, для категории `operating` - превышает 1.5 раунда, а для категории `closed` - более 1, но менее 1.5."
   ]
  },
  {
   "cell_type": "markdown",
   "metadata": {
    "id": "VAFEZ2HBrJg3"
   },
   "source": [
    "\n",
    "## Шаг 4. Итоговый вывод и рекомендации\n",
    "\n",
    "Опишите, что было сделано в проекте, какие были сделаны выводы, подкрепляют ли они друг друга или заставляют сомневаться в полученных результатах."
   ]
  },
  {
   "cell_type": "markdown",
   "metadata": {},
   "source": [
    "### Общий обзор проделанной работы.\n",
    "\n",
    "В ходе исследования были изучены датасеты:\n",
    "* `acquisition`, содержащий информацию о покупках одних компаний другими;\n",
    "* `company_and_rounds`, содержащий информацию о компаниях и раундах финансирования;\n",
    "* `education`, содержащий информацию об образовании сотрудников;\n",
    "* `people`, содержащий информацию о сотрудниках;\n",
    "* `degrees`, содержащий информацию о типе образования сотрудника;\n",
    "* дополнительный датафрейм `fund`, содержащий информацию о фондах.\n",
    "\n",
    "**1.** Каждый датафрейм проверен на пропуски и дубликаты, логически подходящим столбцам присвоен тип даты и времени.\n",
    "\n",
    "\n",
    "**2.** Наименования колонок в датафрейме `company_and_rounds` приведены к типу snake_case.\n",
    "\n",
    "**3.** Осуществлена проверка на количество пропусков для выяснения полноты представленных данных.\n",
    "\n",
    "**4.** Выяснено, что столбец `network_username` не подходит для объединения нескольких датафреймов ввиду малого количества пересечений данных в соответствующих колонках.\n",
    "\n",
    "**5.** Датафрейм `company_and_rounds` разделен на два побочных логически объяснимых датасета `company_df` и `rounds_df`, из которых скорее всего был образован изначально. Каждый из этих датасетов приведен к форме, удобной для дальнейшего анализа, и может использоваться самостоятельно.\n",
    "\n",
    "**6.** Получен новый датафрейм `base_df` путем фильтрации `company_df`. В нем представлены те компании, которые меняли или готовы менять владельцев - есть данные по получению инвестиций или финансирования, именно такие данные интересуют заказчика.\n",
    "\n",
    "**7.** Получен новый датафрейм `sold_df` (из соединения `base_df` и `acquisition`) с компаниями, которые были проданы за 0 или 1 доллар, при этом имеют ненулевой общий объем финансирования. В качестве коэффициента при расчете нижнего и верхнего порогов выбран 2.5 вместо 1.5, для того чтобы больше значений вошло в \"нормальные\", не отбрасывались и не считались выбросами."
   ]
  },
  {
   "cell_type": "markdown",
   "metadata": {},
   "source": [
    "### Выводы.\n",
    "\n",
    "* По сводной таблице по годам с информацией о типичном размере средств, выделяемом в рамках одного раунда, и об общем количестве финансирования за год можно заметить тенденцию к дроблению финансирования на большое количество раундов, при это снижается объем выделяемых на каждый из раундов средств. Эта тенденция прослеживается с 2005 года.\n",
    "\n",
    "* Если разделить все компании на 3 группы по количеству работников, то заметны следующие интересные выводы: наибольшая численность сотрудников без наличия какой-либо информации об образовании наблюдается в так называемых микро предприятиях (численность персонала до 15 чел. вкл.) - 47% от всех работников в этом типе, затем идут малые предприятия (16-100 чел.) с 39% работников, только потом средние предприятия с численностью более 100 человек - 28%. Это может указывать на возможные выводы: предприятия с маленькой численностью менее строги к \"профилю\" работника, так как скорее всего представляют из себя общества знакомых друг другу людей, либо же ИП (о чем свидетельствует 75й процентиль), предприятия же побольше имеют свою политику при наборе наемных рабочих и строго проверяют их портфолио.\n",
    "\n",
    "* Наиболее типичным размером финансирования считается размер в 600 тыс. долларов, показатель рассчитывался по медиане, так как среднее сильно реагирует на выбросы. Выбивающимися значениями можно считать размер финансирования более 134 млн долларов.\n",
    "\n",
    "* Аналитически рассчитанные нижняя и верхняя границы выбросов у компаний (конкретно этим границам соответствуют значения 3750 и 49250000), проданных за 0 или 1 доллар, соответствуют процентилям 0 и 95. Если проводить фильтрацию по верхнему порогу, в полученный датафрейм войдут 94.4% данных. В принципе, теоретически это применяемо, так как значения выше 95-процентного показателя принято считать выбросами.\n",
    "\n",
    "* Стоит обратить внимание на такие категории как `cleantech`, `biotech` и `hardware` как категории, отличающиеся наибольшими типичными ценами и наибольшим разбросом цен за стартап.\n",
    "\n",
    "* Для каждого возможного статуса стартапа выявлено типичное значение числа раундов финансирования. В категории **ipo** такое значение равняется приближается к 3 раундам, а в категориях **acquired**, **operating** и **closed** - лежит в промежутке от 1 до 2 раундов. В целом, по всему датафрейму популярным является 1 раунд финансирования, затем следуют 0, 2 и 3 раунда."
   ]
  }
 ],
 "metadata": {
  "ExecuteTimeLog": [
   {
    "duration": 29889,
    "start_time": "2025-01-28T16:15:04.484Z"
   },
   {
    "duration": 1321,
    "start_time": "2025-01-28T16:15:58.889Z"
   },
   {
    "duration": 1982,
    "start_time": "2025-01-28T16:17:33.298Z"
   },
   {
    "duration": 1950,
    "start_time": "2025-01-28T16:21:48.547Z"
   },
   {
    "duration": 12,
    "start_time": "2025-01-28T16:26:11.571Z"
   },
   {
    "duration": 24,
    "start_time": "2025-01-28T16:26:53.957Z"
   },
   {
    "duration": 8,
    "start_time": "2025-01-28T16:27:44.826Z"
   },
   {
    "duration": 10,
    "start_time": "2025-01-28T16:28:03.123Z"
   },
   {
    "duration": 8,
    "start_time": "2025-01-28T16:28:29.889Z"
   },
   {
    "duration": 12,
    "start_time": "2025-01-28T16:29:50.388Z"
   },
   {
    "duration": 94,
    "start_time": "2025-01-28T16:32:44.408Z"
   },
   {
    "duration": 7,
    "start_time": "2025-01-28T16:37:55.522Z"
   },
   {
    "duration": 18,
    "start_time": "2025-01-28T16:38:01.927Z"
   },
   {
    "duration": 39,
    "start_time": "2025-01-28T16:39:44.905Z"
   },
   {
    "duration": 8,
    "start_time": "2025-01-28T16:42:42.559Z"
   },
   {
    "duration": 24,
    "start_time": "2025-01-28T16:42:53.399Z"
   },
   {
    "duration": 617,
    "start_time": "2025-01-28T16:45:45.110Z"
   },
   {
    "duration": 7,
    "start_time": "2025-01-28T17:31:22.637Z"
   },
   {
    "duration": 5,
    "start_time": "2025-01-28T17:31:36.521Z"
   },
   {
    "duration": 101,
    "start_time": "2025-01-28T17:31:47.145Z"
   },
   {
    "duration": 11,
    "start_time": "2025-01-28T17:31:56.136Z"
   },
   {
    "duration": 5,
    "start_time": "2025-01-28T17:31:57.006Z"
   },
   {
    "duration": 1028,
    "start_time": "2025-01-28T17:32:48.537Z"
   },
   {
    "duration": 1008,
    "start_time": "2025-01-28T17:34:05.046Z"
   },
   {
    "duration": 119,
    "start_time": "2025-01-28T17:34:45.930Z"
   },
   {
    "duration": 5,
    "start_time": "2025-01-28T17:35:02.312Z"
   },
   {
    "duration": 16,
    "start_time": "2025-01-28T17:35:45.187Z"
   },
   {
    "duration": 5,
    "start_time": "2025-01-28T17:36:02.311Z"
   },
   {
    "duration": 4,
    "start_time": "2025-01-28T18:13:24.239Z"
   },
   {
    "duration": 16,
    "start_time": "2025-01-28T18:20:05.034Z"
   },
   {
    "duration": 4,
    "start_time": "2025-01-28T18:20:06.279Z"
   },
   {
    "duration": 21,
    "start_time": "2025-01-28T18:20:21.982Z"
   },
   {
    "duration": 8,
    "start_time": "2025-01-28T18:20:22.808Z"
   },
   {
    "duration": 4,
    "start_time": "2025-01-28T18:20:26.917Z"
   },
   {
    "duration": 42,
    "start_time": "2025-01-28T18:21:28.240Z"
   },
   {
    "duration": 5,
    "start_time": "2025-01-28T18:21:28.556Z"
   },
   {
    "duration": 9,
    "start_time": "2025-01-28T18:24:34.866Z"
   },
   {
    "duration": 74,
    "start_time": "2025-01-28T18:27:59.716Z"
   },
   {
    "duration": 7,
    "start_time": "2025-01-28T18:28:12.103Z"
   },
   {
    "duration": 13,
    "start_time": "2025-01-28T18:33:07.383Z"
   },
   {
    "duration": 38,
    "start_time": "2025-01-28T18:38:29.850Z"
   },
   {
    "duration": 20,
    "start_time": "2025-01-28T18:46:25.554Z"
   },
   {
    "duration": 21,
    "start_time": "2025-01-28T18:50:39.190Z"
   },
   {
    "duration": 2567,
    "start_time": "2025-01-28T18:51:05.781Z"
   },
   {
    "duration": 1253,
    "start_time": "2025-01-28T18:51:08.444Z"
   },
   {
    "duration": 2244,
    "start_time": "2025-01-28T18:51:10.039Z"
   },
   {
    "duration": 15,
    "start_time": "2025-01-28T18:51:12.286Z"
   },
   {
    "duration": 26,
    "start_time": "2025-01-28T18:51:14.795Z"
   },
   {
    "duration": 8,
    "start_time": "2025-01-28T18:51:16.854Z"
   },
   {
    "duration": 10,
    "start_time": "2025-01-28T18:51:17.389Z"
   },
   {
    "duration": 8,
    "start_time": "2025-01-28T18:51:17.850Z"
   },
   {
    "duration": 12,
    "start_time": "2025-01-28T18:51:18.903Z"
   },
   {
    "duration": 100,
    "start_time": "2025-01-28T18:51:20.151Z"
   },
   {
    "duration": 19,
    "start_time": "2025-01-28T18:51:22.771Z"
   },
   {
    "duration": 41,
    "start_time": "2025-01-28T18:51:24.813Z"
   },
   {
    "duration": 25,
    "start_time": "2025-01-28T18:51:26.666Z"
   },
   {
    "duration": 622,
    "start_time": "2025-01-28T18:51:28.490Z"
   },
   {
    "duration": 7,
    "start_time": "2025-01-28T18:51:35.064Z"
   },
   {
    "duration": 6,
    "start_time": "2025-01-28T18:51:38.830Z"
   },
   {
    "duration": 125,
    "start_time": "2025-01-28T18:51:39.901Z"
   },
   {
    "duration": 6,
    "start_time": "2025-01-28T18:51:42.394Z"
   },
   {
    "duration": 20,
    "start_time": "2025-01-28T18:51:46.182Z"
   },
   {
    "duration": 5,
    "start_time": "2025-01-28T18:51:49.273Z"
   },
   {
    "duration": 32,
    "start_time": "2025-01-28T18:51:51.815Z"
   },
   {
    "duration": 5,
    "start_time": "2025-01-28T18:51:52.940Z"
   },
   {
    "duration": 11,
    "start_time": "2025-01-28T18:51:57.749Z"
   },
   {
    "duration": 74,
    "start_time": "2025-01-28T18:51:59.404Z"
   },
   {
    "duration": 12,
    "start_time": "2025-01-28T18:52:00.804Z"
   },
   {
    "duration": 37,
    "start_time": "2025-01-28T18:52:07.855Z"
   },
   {
    "duration": 21,
    "start_time": "2025-01-28T18:52:08.886Z"
   },
   {
    "duration": 115,
    "start_time": "2025-01-28T19:03:23.348Z"
   },
   {
    "duration": 2469,
    "start_time": "2025-01-28T19:03:30.125Z"
   },
   {
    "duration": 4,
    "start_time": "2025-01-28T19:03:32.596Z"
   },
   {
    "duration": 2190,
    "start_time": "2025-01-28T19:03:32.602Z"
   },
   {
    "duration": 10,
    "start_time": "2025-01-28T19:03:34.794Z"
   },
   {
    "duration": 41,
    "start_time": "2025-01-28T19:03:34.805Z"
   },
   {
    "duration": 24,
    "start_time": "2025-01-28T19:03:34.848Z"
   },
   {
    "duration": 31,
    "start_time": "2025-01-28T19:03:34.874Z"
   },
   {
    "duration": 35,
    "start_time": "2025-01-28T19:03:34.906Z"
   },
   {
    "duration": 26,
    "start_time": "2025-01-28T19:03:34.943Z"
   },
   {
    "duration": 101,
    "start_time": "2025-01-28T19:03:34.971Z"
   },
   {
    "duration": 19,
    "start_time": "2025-01-28T19:03:35.074Z"
   },
   {
    "duration": 38,
    "start_time": "2025-01-28T19:03:35.413Z"
   },
   {
    "duration": 25,
    "start_time": "2025-01-28T19:03:35.838Z"
   },
   {
    "duration": 649,
    "start_time": "2025-01-28T19:03:36.983Z"
   },
   {
    "duration": 7,
    "start_time": "2025-01-28T19:03:38.622Z"
   },
   {
    "duration": 5,
    "start_time": "2025-01-28T19:03:38.979Z"
   },
   {
    "duration": 121,
    "start_time": "2025-01-28T19:03:39.390Z"
   },
   {
    "duration": 5,
    "start_time": "2025-01-28T19:03:39.729Z"
   },
   {
    "duration": 17,
    "start_time": "2025-01-28T19:03:40.069Z"
   },
   {
    "duration": 5,
    "start_time": "2025-01-28T19:03:40.391Z"
   },
   {
    "duration": 22,
    "start_time": "2025-01-28T19:03:41.331Z"
   },
   {
    "duration": 5,
    "start_time": "2025-01-28T19:03:41.703Z"
   },
   {
    "duration": 9,
    "start_time": "2025-01-28T19:03:42.275Z"
   },
   {
    "duration": 75,
    "start_time": "2025-01-28T19:03:42.813Z"
   },
   {
    "duration": 13,
    "start_time": "2025-01-28T19:03:43.375Z"
   },
   {
    "duration": 37,
    "start_time": "2025-01-28T19:03:43.953Z"
   },
   {
    "duration": 21,
    "start_time": "2025-01-28T19:03:44.528Z"
   },
   {
    "duration": 14,
    "start_time": "2025-01-28T19:03:48.867Z"
   },
   {
    "duration": 10,
    "start_time": "2025-01-28T19:03:59.122Z"
   },
   {
    "duration": 43,
    "start_time": "2025-01-28T19:04:00.480Z"
   },
   {
    "duration": 27,
    "start_time": "2025-01-28T19:04:43.540Z"
   },
   {
    "duration": 26,
    "start_time": "2025-01-28T19:04:59.667Z"
   },
   {
    "duration": 26,
    "start_time": "2025-01-28T19:05:25.181Z"
   },
   {
    "duration": 26,
    "start_time": "2025-01-28T19:06:46.208Z"
   },
   {
    "duration": 9,
    "start_time": "2025-01-28T19:07:21.510Z"
   },
   {
    "duration": 164,
    "start_time": "2025-01-28T19:10:05.914Z"
   },
   {
    "duration": 1100,
    "start_time": "2025-01-28T19:10:17.897Z"
   },
   {
    "duration": 195,
    "start_time": "2025-01-28T19:10:39.594Z"
   },
   {
    "duration": 203,
    "start_time": "2025-01-28T19:10:49.685Z"
   },
   {
    "duration": 197,
    "start_time": "2025-01-28T19:10:59.969Z"
   },
   {
    "duration": 63,
    "start_time": "2025-01-29T08:45:25.997Z"
   },
   {
    "duration": 4171,
    "start_time": "2025-01-29T08:45:36.516Z"
   },
   {
    "duration": 1641,
    "start_time": "2025-01-29T08:45:40.689Z"
   },
   {
    "duration": 2737,
    "start_time": "2025-01-29T08:45:42.331Z"
   },
   {
    "duration": 18,
    "start_time": "2025-01-29T08:45:45.070Z"
   },
   {
    "duration": 119,
    "start_time": "2025-01-29T08:45:45.090Z"
   },
   {
    "duration": 21,
    "start_time": "2025-01-29T08:45:45.211Z"
   },
   {
    "duration": 26,
    "start_time": "2025-01-29T08:45:45.234Z"
   },
   {
    "duration": 73,
    "start_time": "2025-01-29T08:45:45.261Z"
   },
   {
    "duration": 42,
    "start_time": "2025-01-29T08:45:45.336Z"
   },
   {
    "duration": 139,
    "start_time": "2025-01-29T08:45:47.065Z"
   },
   {
    "duration": 24,
    "start_time": "2025-01-29T08:45:47.926Z"
   },
   {
    "duration": 53,
    "start_time": "2025-01-29T08:45:48.634Z"
   },
   {
    "duration": 27,
    "start_time": "2025-01-29T08:45:49.325Z"
   },
   {
    "duration": 834,
    "start_time": "2025-01-29T08:45:50.315Z"
   },
   {
    "duration": 12,
    "start_time": "2025-01-29T08:45:51.666Z"
   },
   {
    "duration": 5,
    "start_time": "2025-01-29T08:45:52.010Z"
   },
   {
    "duration": 165,
    "start_time": "2025-01-29T08:45:52.364Z"
   },
   {
    "duration": 6,
    "start_time": "2025-01-29T08:45:52.613Z"
   },
   {
    "duration": 19,
    "start_time": "2025-01-29T08:45:52.938Z"
   },
   {
    "duration": 5,
    "start_time": "2025-01-29T08:45:53.260Z"
   },
   {
    "duration": 25,
    "start_time": "2025-01-29T08:45:54.207Z"
   },
   {
    "duration": 6,
    "start_time": "2025-01-29T08:45:54.529Z"
   },
   {
    "duration": 10,
    "start_time": "2025-01-29T08:45:55.138Z"
   },
   {
    "duration": 96,
    "start_time": "2025-01-29T08:45:55.755Z"
   },
   {
    "duration": 13,
    "start_time": "2025-01-29T08:45:56.422Z"
   },
   {
    "duration": 44,
    "start_time": "2025-01-29T08:45:56.914Z"
   },
   {
    "duration": 36,
    "start_time": "2025-01-29T08:45:57.573Z"
   },
   {
    "duration": 11,
    "start_time": "2025-01-29T08:45:59.541Z"
   },
   {
    "duration": 126,
    "start_time": "2025-01-29T08:45:59.821Z"
   },
   {
    "duration": 16,
    "start_time": "2025-01-29T08:46:00.572Z"
   },
   {
    "duration": 262,
    "start_time": "2025-01-29T08:46:02.542Z"
   },
   {
    "duration": 12,
    "start_time": "2025-01-29T08:46:07.303Z"
   },
   {
    "duration": 117,
    "start_time": "2025-01-29T08:46:35.419Z"
   },
   {
    "duration": 280,
    "start_time": "2025-01-29T08:49:13.958Z"
   },
   {
    "duration": 119,
    "start_time": "2025-01-29T08:49:49.333Z"
   },
   {
    "duration": 133,
    "start_time": "2025-01-29T08:50:59.454Z"
   },
   {
    "duration": 10,
    "start_time": "2025-01-29T08:51:10.737Z"
   },
   {
    "duration": 154,
    "start_time": "2025-01-29T08:51:23.087Z"
   },
   {
    "duration": 27,
    "start_time": "2025-01-29T08:52:33.801Z"
   },
   {
    "duration": 10,
    "start_time": "2025-01-29T08:53:26.023Z"
   },
   {
    "duration": 24,
    "start_time": "2025-01-29T08:53:39.677Z"
   },
   {
    "duration": 163,
    "start_time": "2025-01-29T08:54:44.431Z"
   },
   {
    "duration": 373,
    "start_time": "2025-01-29T08:55:27.194Z"
   },
   {
    "duration": 64,
    "start_time": "2025-01-29T08:55:54.630Z"
   },
   {
    "duration": 24,
    "start_time": "2025-01-29T08:56:10.521Z"
   },
   {
    "duration": 3,
    "start_time": "2025-01-29T09:01:52.418Z"
   },
   {
    "duration": 2732,
    "start_time": "2025-01-29T09:02:26.588Z"
   },
   {
    "duration": 35,
    "start_time": "2025-01-29T09:08:19.181Z"
   },
   {
    "duration": 44,
    "start_time": "2025-01-29T09:09:58.155Z"
   },
   {
    "duration": 24,
    "start_time": "2025-01-29T09:10:08.339Z"
   },
   {
    "duration": 23,
    "start_time": "2025-01-29T09:11:13.322Z"
   },
   {
    "duration": 15,
    "start_time": "2025-01-29T09:11:21.170Z"
   },
   {
    "duration": 6,
    "start_time": "2025-01-29T09:11:34.823Z"
   },
   {
    "duration": 19,
    "start_time": "2025-01-29T09:14:36.690Z"
   },
   {
    "duration": 4,
    "start_time": "2025-01-29T09:17:25.861Z"
   },
   {
    "duration": 21,
    "start_time": "2025-01-29T09:17:52.545Z"
   },
   {
    "duration": 18,
    "start_time": "2025-01-29T09:20:47.973Z"
   },
   {
    "duration": 163,
    "start_time": "2025-01-29T09:21:15.851Z"
   },
   {
    "duration": 29,
    "start_time": "2025-01-29T09:24:45.041Z"
   },
   {
    "duration": 24,
    "start_time": "2025-01-29T09:25:02.804Z"
   },
   {
    "duration": 6,
    "start_time": "2025-01-29T09:25:17.902Z"
   },
   {
    "duration": 6,
    "start_time": "2025-01-29T09:25:51.529Z"
   },
   {
    "duration": 4,
    "start_time": "2025-01-29T09:25:59.940Z"
   },
   {
    "duration": 4,
    "start_time": "2025-01-29T09:26:08.055Z"
   },
   {
    "duration": 7,
    "start_time": "2025-01-29T09:26:16.219Z"
   },
   {
    "duration": 6,
    "start_time": "2025-01-29T09:26:43.004Z"
   },
   {
    "duration": 6,
    "start_time": "2025-01-29T09:26:55.193Z"
   },
   {
    "duration": 6,
    "start_time": "2025-01-29T09:27:04.748Z"
   },
   {
    "duration": 29,
    "start_time": "2025-01-29T09:30:56.201Z"
   },
   {
    "duration": 191,
    "start_time": "2025-01-29T09:31:37.312Z"
   },
   {
    "duration": 12,
    "start_time": "2025-01-29T09:32:05.097Z"
   },
   {
    "duration": 72,
    "start_time": "2025-01-29T09:32:52.125Z"
   },
   {
    "duration": 297,
    "start_time": "2025-01-29T09:33:10.919Z"
   },
   {
    "duration": 33,
    "start_time": "2025-01-29T09:33:20.799Z"
   },
   {
    "duration": 592,
    "start_time": "2025-01-29T09:33:51.106Z"
   },
   {
    "duration": 9,
    "start_time": "2025-01-29T09:34:04.189Z"
   },
   {
    "duration": 77,
    "start_time": "2025-01-29T09:35:46.966Z"
   },
   {
    "duration": 19,
    "start_time": "2025-01-29T09:35:56.326Z"
   },
   {
    "duration": 3384,
    "start_time": "2025-01-30T08:15:07.302Z"
   },
   {
    "duration": 1343,
    "start_time": "2025-01-30T08:15:10.688Z"
   },
   {
    "duration": 1880,
    "start_time": "2025-01-30T08:15:12.032Z"
   },
   {
    "duration": 12,
    "start_time": "2025-01-30T08:15:13.914Z"
   },
   {
    "duration": 46,
    "start_time": "2025-01-30T08:15:13.927Z"
   },
   {
    "duration": 27,
    "start_time": "2025-01-30T08:15:13.975Z"
   },
   {
    "duration": 18,
    "start_time": "2025-01-30T08:15:14.003Z"
   },
   {
    "duration": 26,
    "start_time": "2025-01-30T08:15:14.022Z"
   },
   {
    "duration": 25,
    "start_time": "2025-01-30T08:15:14.050Z"
   },
   {
    "duration": 103,
    "start_time": "2025-01-30T08:15:14.077Z"
   },
   {
    "duration": 18,
    "start_time": "2025-01-30T08:15:14.181Z"
   },
   {
    "duration": 50,
    "start_time": "2025-01-30T08:15:14.201Z"
   },
   {
    "duration": 23,
    "start_time": "2025-01-30T08:15:14.252Z"
   },
   {
    "duration": 606,
    "start_time": "2025-01-30T08:15:14.276Z"
   },
   {
    "duration": 7,
    "start_time": "2025-01-30T08:15:14.883Z"
   },
   {
    "duration": 36,
    "start_time": "2025-01-30T08:15:14.891Z"
   },
   {
    "duration": 143,
    "start_time": "2025-01-30T08:15:14.928Z"
   },
   {
    "duration": 5,
    "start_time": "2025-01-30T08:15:15.073Z"
   },
   {
    "duration": 45,
    "start_time": "2025-01-30T08:15:15.079Z"
   },
   {
    "duration": 56,
    "start_time": "2025-01-30T08:15:15.125Z"
   },
   {
    "duration": 90,
    "start_time": "2025-01-30T08:15:15.182Z"
   },
   {
    "duration": 7,
    "start_time": "2025-01-30T08:15:15.273Z"
   },
   {
    "duration": 37,
    "start_time": "2025-01-30T08:15:15.281Z"
   },
   {
    "duration": 110,
    "start_time": "2025-01-30T08:15:15.319Z"
   },
   {
    "duration": 10,
    "start_time": "2025-01-30T08:15:15.431Z"
   },
   {
    "duration": 56,
    "start_time": "2025-01-30T08:15:15.443Z"
   },
   {
    "duration": 20,
    "start_time": "2025-01-30T08:15:15.500Z"
   },
   {
    "duration": 32,
    "start_time": "2025-01-30T08:15:15.524Z"
   },
   {
    "duration": 154,
    "start_time": "2025-01-30T08:15:15.557Z"
   },
   {
    "duration": 0,
    "start_time": "2025-01-30T08:15:15.713Z"
   },
   {
    "duration": 0,
    "start_time": "2025-01-30T08:15:15.714Z"
   },
   {
    "duration": 0,
    "start_time": "2025-01-30T08:15:15.715Z"
   },
   {
    "duration": 0,
    "start_time": "2025-01-30T08:15:15.716Z"
   },
   {
    "duration": 0,
    "start_time": "2025-01-30T08:15:15.717Z"
   },
   {
    "duration": 0,
    "start_time": "2025-01-30T08:15:15.718Z"
   },
   {
    "duration": 0,
    "start_time": "2025-01-30T08:15:15.719Z"
   },
   {
    "duration": 0,
    "start_time": "2025-01-30T08:15:15.720Z"
   },
   {
    "duration": 0,
    "start_time": "2025-01-30T08:15:15.722Z"
   },
   {
    "duration": 0,
    "start_time": "2025-01-30T08:15:15.723Z"
   },
   {
    "duration": 0,
    "start_time": "2025-01-30T08:15:15.724Z"
   },
   {
    "duration": 0,
    "start_time": "2025-01-30T08:15:15.725Z"
   },
   {
    "duration": 0,
    "start_time": "2025-01-30T08:15:15.726Z"
   },
   {
    "duration": 0,
    "start_time": "2025-01-30T08:15:15.727Z"
   },
   {
    "duration": 0,
    "start_time": "2025-01-30T08:15:15.748Z"
   },
   {
    "duration": 0,
    "start_time": "2025-01-30T08:15:15.750Z"
   },
   {
    "duration": 0,
    "start_time": "2025-01-30T08:15:15.751Z"
   },
   {
    "duration": 0,
    "start_time": "2025-01-30T08:15:15.752Z"
   },
   {
    "duration": 0,
    "start_time": "2025-01-30T08:15:15.753Z"
   },
   {
    "duration": 0,
    "start_time": "2025-01-30T08:15:15.754Z"
   },
   {
    "duration": 0,
    "start_time": "2025-01-30T08:15:15.756Z"
   },
   {
    "duration": 0,
    "start_time": "2025-01-30T08:15:15.757Z"
   },
   {
    "duration": 0,
    "start_time": "2025-01-30T08:15:15.758Z"
   },
   {
    "duration": 0,
    "start_time": "2025-01-30T08:15:15.760Z"
   },
   {
    "duration": 0,
    "start_time": "2025-01-30T08:15:15.761Z"
   },
   {
    "duration": 0,
    "start_time": "2025-01-30T08:15:15.762Z"
   },
   {
    "duration": 0,
    "start_time": "2025-01-30T08:15:15.763Z"
   },
   {
    "duration": 0,
    "start_time": "2025-01-30T08:15:15.764Z"
   },
   {
    "duration": 0,
    "start_time": "2025-01-30T08:15:15.765Z"
   },
   {
    "duration": 0,
    "start_time": "2025-01-30T08:15:15.766Z"
   },
   {
    "duration": 0,
    "start_time": "2025-01-30T08:15:15.767Z"
   },
   {
    "duration": 0,
    "start_time": "2025-01-30T08:15:15.768Z"
   },
   {
    "duration": 0,
    "start_time": "2025-01-30T08:15:15.769Z"
   },
   {
    "duration": 0,
    "start_time": "2025-01-30T08:15:15.770Z"
   },
   {
    "duration": 0,
    "start_time": "2025-01-30T08:15:15.771Z"
   },
   {
    "duration": 0,
    "start_time": "2025-01-30T08:15:15.772Z"
   },
   {
    "duration": 0,
    "start_time": "2025-01-30T08:15:15.774Z"
   },
   {
    "duration": 0,
    "start_time": "2025-01-30T08:15:15.775Z"
   },
   {
    "duration": 0,
    "start_time": "2025-01-30T08:15:15.776Z"
   },
   {
    "duration": 0,
    "start_time": "2025-01-30T08:15:15.777Z"
   },
   {
    "duration": 0,
    "start_time": "2025-01-30T08:15:15.778Z"
   },
   {
    "duration": 3650,
    "start_time": "2025-01-30T10:46:44.555Z"
   },
   {
    "duration": 1585,
    "start_time": "2025-01-30T10:46:48.207Z"
   },
   {
    "duration": 2376,
    "start_time": "2025-01-30T10:46:59.576Z"
   },
   {
    "duration": 15,
    "start_time": "2025-01-30T10:47:09.217Z"
   },
   {
    "duration": 26,
    "start_time": "2025-01-30T10:47:09.713Z"
   },
   {
    "duration": 9,
    "start_time": "2025-01-30T10:47:10.642Z"
   },
   {
    "duration": 10,
    "start_time": "2025-01-30T10:47:11.096Z"
   },
   {
    "duration": 9,
    "start_time": "2025-01-30T10:47:11.577Z"
   },
   {
    "duration": 14,
    "start_time": "2025-01-30T10:47:12.480Z"
   },
   {
    "duration": 109,
    "start_time": "2025-01-30T10:47:18.162Z"
   },
   {
    "duration": 21,
    "start_time": "2025-01-30T10:47:19.601Z"
   },
   {
    "duration": 43,
    "start_time": "2025-01-30T10:47:20.305Z"
   },
   {
    "duration": 26,
    "start_time": "2025-01-30T10:47:21.069Z"
   },
   {
    "duration": 736,
    "start_time": "2025-01-30T10:47:22.112Z"
   },
   {
    "duration": 9,
    "start_time": "2025-01-30T10:47:30.352Z"
   },
   {
    "duration": 6,
    "start_time": "2025-01-30T10:47:30.681Z"
   },
   {
    "duration": 155,
    "start_time": "2025-01-30T10:47:31.163Z"
   },
   {
    "duration": 6,
    "start_time": "2025-01-30T10:47:31.634Z"
   },
   {
    "duration": 19,
    "start_time": "2025-01-30T10:47:32.156Z"
   },
   {
    "duration": 6,
    "start_time": "2025-01-30T10:47:32.717Z"
   },
   {
    "duration": 38,
    "start_time": "2025-01-30T10:47:33.553Z"
   },
   {
    "duration": 4,
    "start_time": "2025-01-30T10:47:33.953Z"
   },
   {
    "duration": 10,
    "start_time": "2025-01-30T10:47:35.137Z"
   },
   {
    "duration": 91,
    "start_time": "2025-01-30T10:47:41.128Z"
   },
   {
    "duration": 13,
    "start_time": "2025-01-30T10:47:41.930Z"
   },
   {
    "duration": 39,
    "start_time": "2025-01-30T10:47:43.131Z"
   },
   {
    "duration": 22,
    "start_time": "2025-01-30T10:47:43.445Z"
   },
   {
    "duration": 13,
    "start_time": "2025-01-30T10:48:28.951Z"
   },
   {
    "duration": 183,
    "start_time": "2025-01-30T10:48:31.103Z"
   },
   {
    "duration": 12,
    "start_time": "2025-01-30T10:48:41.704Z"
   },
   {
    "duration": 235,
    "start_time": "2025-01-30T10:48:42.337Z"
   },
   {
    "duration": 120,
    "start_time": "2025-01-30T10:48:43.799Z"
   },
   {
    "duration": 104,
    "start_time": "2025-01-30T10:48:44.546Z"
   },
   {
    "duration": 172,
    "start_time": "2025-01-30T10:48:44.652Z"
   },
   {
    "duration": 26,
    "start_time": "2025-01-30T10:48:44.825Z"
   },
   {
    "duration": 30,
    "start_time": "2025-01-30T10:48:44.853Z"
   },
   {
    "duration": 149,
    "start_time": "2025-01-30T10:48:44.885Z"
   },
   {
    "duration": 408,
    "start_time": "2025-01-30T10:48:45.037Z"
   },
   {
    "duration": 62,
    "start_time": "2025-01-30T10:48:45.446Z"
   },
   {
    "duration": 26,
    "start_time": "2025-01-30T10:48:45.510Z"
   },
   {
    "duration": 3,
    "start_time": "2025-01-30T10:48:45.538Z"
   },
   {
    "duration": 2332,
    "start_time": "2025-01-30T10:48:45.543Z"
   },
   {
    "duration": 25,
    "start_time": "2025-01-30T10:48:47.877Z"
   },
   {
    "duration": 23,
    "start_time": "2025-01-30T10:48:47.903Z"
   },
   {
    "duration": 6,
    "start_time": "2025-01-30T10:48:47.928Z"
   },
   {
    "duration": 38,
    "start_time": "2025-01-30T10:48:47.937Z"
   },
   {
    "duration": 20,
    "start_time": "2025-01-30T10:48:47.977Z"
   },
   {
    "duration": 4,
    "start_time": "2025-01-30T10:48:47.999Z"
   },
   {
    "duration": 20,
    "start_time": "2025-01-30T10:48:48.005Z"
   },
   {
    "duration": 13,
    "start_time": "2025-01-30T10:48:48.027Z"
   },
   {
    "duration": 157,
    "start_time": "2025-01-30T10:48:48.073Z"
   },
   {
    "duration": 29,
    "start_time": "2025-01-30T10:48:48.233Z"
   },
   {
    "duration": 24,
    "start_time": "2025-01-30T10:48:48.272Z"
   },
   {
    "duration": 12,
    "start_time": "2025-01-30T10:48:48.298Z"
   },
   {
    "duration": 94,
    "start_time": "2025-01-30T10:48:48.312Z"
   },
   {
    "duration": 6,
    "start_time": "2025-01-30T10:48:48.408Z"
   },
   {
    "duration": 4,
    "start_time": "2025-01-30T10:48:48.416Z"
   },
   {
    "duration": 11,
    "start_time": "2025-01-30T10:48:48.422Z"
   },
   {
    "duration": 7,
    "start_time": "2025-01-30T10:48:48.435Z"
   },
   {
    "duration": 5,
    "start_time": "2025-01-30T10:48:48.443Z"
   },
   {
    "duration": 11,
    "start_time": "2025-01-30T10:48:48.449Z"
   },
   {
    "duration": 40,
    "start_time": "2025-01-30T10:48:48.461Z"
   },
   {
    "duration": 191,
    "start_time": "2025-01-30T10:48:48.502Z"
   },
   {
    "duration": 72,
    "start_time": "2025-01-30T10:48:48.694Z"
   },
   {
    "duration": 315,
    "start_time": "2025-01-30T10:48:48.772Z"
   },
   {
    "duration": 32,
    "start_time": "2025-01-30T10:48:49.089Z"
   },
   {
    "duration": 545,
    "start_time": "2025-01-30T10:48:49.122Z"
   },
   {
    "duration": 4,
    "start_time": "2025-01-30T10:48:49.672Z"
   },
   {
    "duration": 62,
    "start_time": "2025-01-30T10:48:49.677Z"
   },
   {
    "duration": 10,
    "start_time": "2025-01-30T10:48:49.740Z"
   },
   {
    "duration": 30,
    "start_time": "2025-01-30T10:49:27.497Z"
   },
   {
    "duration": 11,
    "start_time": "2025-01-30T10:49:34.607Z"
   },
   {
    "duration": 231,
    "start_time": "2025-01-30T10:49:35.729Z"
   },
   {
    "duration": 108,
    "start_time": "2025-01-30T10:49:38.224Z"
   },
   {
    "duration": 108,
    "start_time": "2025-01-30T10:49:39.905Z"
   },
   {
    "duration": 156,
    "start_time": "2025-01-30T10:49:40.304Z"
   },
   {
    "duration": 27,
    "start_time": "2025-01-30T10:49:41.081Z"
   },
   {
    "duration": 17,
    "start_time": "2025-01-30T10:49:41.495Z"
   },
   {
    "duration": 137,
    "start_time": "2025-01-30T10:49:42.249Z"
   },
   {
    "duration": 370,
    "start_time": "2025-01-30T10:49:42.937Z"
   },
   {
    "duration": 54,
    "start_time": "2025-01-30T10:49:44.356Z"
   },
   {
    "duration": 28,
    "start_time": "2025-01-30T10:49:44.482Z"
   },
   {
    "duration": 3,
    "start_time": "2025-01-30T10:49:46.809Z"
   },
   {
    "duration": 2509,
    "start_time": "2025-01-30T10:49:47.416Z"
   },
   {
    "duration": 26,
    "start_time": "2025-01-30T10:49:49.926Z"
   },
   {
    "duration": 41,
    "start_time": "2025-01-30T10:49:49.953Z"
   },
   {
    "duration": 6,
    "start_time": "2025-01-30T10:49:49.996Z"
   },
   {
    "duration": 7,
    "start_time": "2025-01-30T10:49:50.160Z"
   },
   {
    "duration": 20,
    "start_time": "2025-01-30T10:49:51.201Z"
   },
   {
    "duration": 3,
    "start_time": "2025-01-30T10:49:52.184Z"
   },
   {
    "duration": 23,
    "start_time": "2025-01-30T10:49:53.412Z"
   },
   {
    "duration": 12,
    "start_time": "2025-01-30T10:49:54.424Z"
   },
   {
    "duration": 161,
    "start_time": "2025-01-30T10:49:55.057Z"
   },
   {
    "duration": 32,
    "start_time": "2025-01-30T10:49:56.864Z"
   },
   {
    "duration": 23,
    "start_time": "2025-01-30T10:49:57.544Z"
   },
   {
    "duration": 4,
    "start_time": "2025-01-30T10:49:58.113Z"
   },
   {
    "duration": 6,
    "start_time": "2025-01-30T10:49:58.931Z"
   },
   {
    "duration": 4,
    "start_time": "2025-01-30T10:49:59.288Z"
   },
   {
    "duration": 4,
    "start_time": "2025-01-30T10:49:59.656Z"
   },
   {
    "duration": 6,
    "start_time": "2025-01-30T10:50:00.025Z"
   },
   {
    "duration": 7,
    "start_time": "2025-01-30T10:50:00.694Z"
   },
   {
    "duration": 4,
    "start_time": "2025-01-30T10:50:00.992Z"
   },
   {
    "duration": 5,
    "start_time": "2025-01-30T10:50:01.305Z"
   },
   {
    "duration": 30,
    "start_time": "2025-01-30T10:50:02.608Z"
   },
   {
    "duration": 190,
    "start_time": "2025-01-30T10:50:03.040Z"
   },
   {
    "duration": 75,
    "start_time": "2025-01-30T10:50:04.327Z"
   },
   {
    "duration": 306,
    "start_time": "2025-01-30T10:50:05.306Z"
   },
   {
    "duration": 36,
    "start_time": "2025-01-30T10:50:05.615Z"
   },
   {
    "duration": 529,
    "start_time": "2025-01-30T10:50:05.965Z"
   },
   {
    "duration": 4,
    "start_time": "2025-01-30T10:50:06.496Z"
   },
   {
    "duration": 61,
    "start_time": "2025-01-30T10:50:07.574Z"
   },
   {
    "duration": 10,
    "start_time": "2025-01-30T10:50:08.071Z"
   },
   {
    "duration": 5228,
    "start_time": "2025-01-31T08:37:06.900Z"
   },
   {
    "duration": 1573,
    "start_time": "2025-01-31T08:37:12.130Z"
   },
   {
    "duration": 2344,
    "start_time": "2025-01-31T08:37:13.705Z"
   },
   {
    "duration": 13,
    "start_time": "2025-01-31T08:37:16.051Z"
   },
   {
    "duration": 30,
    "start_time": "2025-01-31T08:37:16.066Z"
   },
   {
    "duration": 22,
    "start_time": "2025-01-31T08:37:16.099Z"
   },
   {
    "duration": 12,
    "start_time": "2025-01-31T08:37:16.123Z"
   },
   {
    "duration": 21,
    "start_time": "2025-01-31T08:37:16.137Z"
   },
   {
    "duration": 14,
    "start_time": "2025-01-31T08:37:16.160Z"
   },
   {
    "duration": 124,
    "start_time": "2025-01-31T08:37:16.177Z"
   },
   {
    "duration": 23,
    "start_time": "2025-01-31T08:37:16.303Z"
   },
   {
    "duration": 59,
    "start_time": "2025-01-31T08:37:16.329Z"
   },
   {
    "duration": 27,
    "start_time": "2025-01-31T08:37:16.391Z"
   },
   {
    "duration": 724,
    "start_time": "2025-01-31T08:37:16.421Z"
   },
   {
    "duration": 8,
    "start_time": "2025-01-31T08:37:17.156Z"
   },
   {
    "duration": 7,
    "start_time": "2025-01-31T08:37:17.166Z"
   },
   {
    "duration": 158,
    "start_time": "2025-01-31T08:37:17.174Z"
   },
   {
    "duration": 6,
    "start_time": "2025-01-31T08:37:17.334Z"
   },
   {
    "duration": 44,
    "start_time": "2025-01-31T08:37:17.341Z"
   },
   {
    "duration": 14,
    "start_time": "2025-01-31T08:37:17.387Z"
   },
   {
    "duration": 45,
    "start_time": "2025-01-31T08:37:17.403Z"
   },
   {
    "duration": 6,
    "start_time": "2025-01-31T08:37:17.451Z"
   },
   {
    "duration": 15,
    "start_time": "2025-01-31T08:37:17.459Z"
   },
   {
    "duration": 93,
    "start_time": "2025-01-31T08:37:17.475Z"
   },
   {
    "duration": 14,
    "start_time": "2025-01-31T08:37:17.570Z"
   },
   {
    "duration": 38,
    "start_time": "2025-01-31T08:37:17.585Z"
   },
   {
    "duration": 42,
    "start_time": "2025-01-31T08:37:17.625Z"
   },
   {
    "duration": 11,
    "start_time": "2025-01-31T08:37:17.669Z"
   },
   {
    "duration": 55,
    "start_time": "2025-01-31T08:37:17.681Z"
   },
   {
    "duration": 10,
    "start_time": "2025-01-31T08:37:17.756Z"
   },
   {
    "duration": 233,
    "start_time": "2025-01-31T08:37:17.767Z"
   },
   {
    "duration": 101,
    "start_time": "2025-01-31T08:37:18.001Z"
   },
   {
    "duration": 105,
    "start_time": "2025-01-31T08:37:18.103Z"
   },
   {
    "duration": 154,
    "start_time": "2025-01-31T08:37:18.209Z"
   },
   {
    "duration": 24,
    "start_time": "2025-01-31T08:37:18.364Z"
   },
   {
    "duration": 43,
    "start_time": "2025-01-31T08:37:18.390Z"
   },
   {
    "duration": 116,
    "start_time": "2025-01-31T08:37:18.434Z"
   },
   {
    "duration": 346,
    "start_time": "2025-01-31T08:37:18.552Z"
   },
   {
    "duration": 45,
    "start_time": "2025-01-31T08:37:18.899Z"
   },
   {
    "duration": 23,
    "start_time": "2025-01-31T08:37:18.956Z"
   },
   {
    "duration": 3,
    "start_time": "2025-01-31T08:37:18.983Z"
   },
   {
    "duration": 2109,
    "start_time": "2025-01-31T08:37:18.987Z"
   },
   {
    "duration": 22,
    "start_time": "2025-01-31T08:37:21.098Z"
   },
   {
    "duration": 37,
    "start_time": "2025-01-31T08:37:21.122Z"
   },
   {
    "duration": 6,
    "start_time": "2025-01-31T08:37:21.160Z"
   },
   {
    "duration": 27,
    "start_time": "2025-01-31T08:37:21.168Z"
   },
   {
    "duration": 24,
    "start_time": "2025-01-31T08:37:21.197Z"
   },
   {
    "duration": 12,
    "start_time": "2025-01-31T08:37:21.223Z"
   },
   {
    "duration": 20,
    "start_time": "2025-01-31T08:37:21.237Z"
   },
   {
    "duration": 11,
    "start_time": "2025-01-31T08:37:21.259Z"
   },
   {
    "duration": 136,
    "start_time": "2025-01-31T08:37:21.272Z"
   },
   {
    "duration": 27,
    "start_time": "2025-01-31T08:37:21.410Z"
   },
   {
    "duration": 34,
    "start_time": "2025-01-31T08:37:21.438Z"
   },
   {
    "duration": 23,
    "start_time": "2025-01-31T08:37:21.474Z"
   },
   {
    "duration": 13,
    "start_time": "2025-01-31T08:37:21.498Z"
   },
   {
    "duration": 17,
    "start_time": "2025-01-31T08:37:21.512Z"
   },
   {
    "duration": 24,
    "start_time": "2025-01-31T08:37:21.531Z"
   },
   {
    "duration": 28,
    "start_time": "2025-01-31T08:37:21.557Z"
   },
   {
    "duration": 38,
    "start_time": "2025-01-31T08:37:21.587Z"
   },
   {
    "duration": 19,
    "start_time": "2025-01-31T08:37:21.627Z"
   },
   {
    "duration": 36,
    "start_time": "2025-01-31T08:37:21.648Z"
   },
   {
    "duration": 93,
    "start_time": "2025-01-31T08:37:21.686Z"
   },
   {
    "duration": 184,
    "start_time": "2025-01-31T08:37:21.780Z"
   },
   {
    "duration": 56,
    "start_time": "2025-01-31T08:37:21.966Z"
   },
   {
    "duration": 294,
    "start_time": "2025-01-31T08:37:22.024Z"
   },
   {
    "duration": 36,
    "start_time": "2025-01-31T08:37:22.320Z"
   },
   {
    "duration": 486,
    "start_time": "2025-01-31T08:37:22.358Z"
   },
   {
    "duration": 11,
    "start_time": "2025-01-31T08:37:22.846Z"
   },
   {
    "duration": 69,
    "start_time": "2025-01-31T08:37:22.859Z"
   },
   {
    "duration": 9,
    "start_time": "2025-01-31T08:37:22.930Z"
   },
   {
    "duration": 54,
    "start_time": "2025-01-31T09:48:24.480Z"
   },
   {
    "duration": 3804,
    "start_time": "2025-01-31T09:49:03.430Z"
   },
   {
    "duration": 1552,
    "start_time": "2025-01-31T09:49:07.236Z"
   },
   {
    "duration": 2176,
    "start_time": "2025-01-31T09:49:08.790Z"
   },
   {
    "duration": 13,
    "start_time": "2025-01-31T09:49:10.969Z"
   },
   {
    "duration": 33,
    "start_time": "2025-01-31T09:49:10.983Z"
   },
   {
    "duration": 21,
    "start_time": "2025-01-31T09:49:11.018Z"
   },
   {
    "duration": 22,
    "start_time": "2025-01-31T09:49:11.041Z"
   },
   {
    "duration": 35,
    "start_time": "2025-01-31T09:49:11.065Z"
   },
   {
    "duration": 20,
    "start_time": "2025-01-31T09:49:11.103Z"
   },
   {
    "duration": 112,
    "start_time": "2025-01-31T09:49:11.288Z"
   },
   {
    "duration": 20,
    "start_time": "2025-01-31T09:49:11.974Z"
   },
   {
    "duration": 42,
    "start_time": "2025-01-31T09:49:12.366Z"
   },
   {
    "duration": 24,
    "start_time": "2025-01-31T09:49:12.792Z"
   },
   {
    "duration": 646,
    "start_time": "2025-01-31T09:49:13.408Z"
   },
   {
    "duration": 7,
    "start_time": "2025-01-31T09:49:14.422Z"
   },
   {
    "duration": 5,
    "start_time": "2025-01-31T09:49:14.646Z"
   },
   {
    "duration": 124,
    "start_time": "2025-01-31T09:49:14.830Z"
   },
   {
    "duration": 5,
    "start_time": "2025-01-31T09:49:15.038Z"
   },
   {
    "duration": 18,
    "start_time": "2025-01-31T09:49:15.269Z"
   },
   {
    "duration": 5,
    "start_time": "2025-01-31T09:49:15.455Z"
   },
   {
    "duration": 39,
    "start_time": "2025-01-31T09:49:16.078Z"
   },
   {
    "duration": 4,
    "start_time": "2025-01-31T09:49:16.280Z"
   },
   {
    "duration": 9,
    "start_time": "2025-01-31T09:49:16.662Z"
   },
   {
    "duration": 75,
    "start_time": "2025-01-31T09:49:17.245Z"
   },
   {
    "duration": 12,
    "start_time": "2025-01-31T09:49:17.638Z"
   },
   {
    "duration": 36,
    "start_time": "2025-01-31T09:49:18.033Z"
   },
   {
    "duration": 22,
    "start_time": "2025-01-31T09:49:18.383Z"
   },
   {
    "duration": 11,
    "start_time": "2025-01-31T09:49:20.110Z"
   },
   {
    "duration": 52,
    "start_time": "2025-01-31T09:49:20.559Z"
   },
   {
    "duration": 9,
    "start_time": "2025-01-31T09:49:21.717Z"
   },
   {
    "duration": 217,
    "start_time": "2025-01-31T09:49:22.616Z"
   },
   {
    "duration": 100,
    "start_time": "2025-01-31T09:49:24.834Z"
   },
   {
    "duration": 109,
    "start_time": "2025-01-31T09:49:24.936Z"
   },
   {
    "duration": 144,
    "start_time": "2025-01-31T09:49:25.047Z"
   },
   {
    "duration": 24,
    "start_time": "2025-01-31T09:49:25.256Z"
   },
   {
    "duration": 15,
    "start_time": "2025-01-31T09:49:25.555Z"
   },
   {
    "duration": 122,
    "start_time": "2025-01-31T09:49:25.869Z"
   },
   {
    "duration": 333,
    "start_time": "2025-01-31T09:49:26.261Z"
   },
   {
    "duration": 59,
    "start_time": "2025-01-31T09:49:26.596Z"
   },
   {
    "duration": 22,
    "start_time": "2025-01-31T09:49:26.741Z"
   },
   {
    "duration": 4,
    "start_time": "2025-01-31T09:49:27.590Z"
   },
   {
    "duration": 2196,
    "start_time": "2025-01-31T09:49:27.799Z"
   },
   {
    "duration": 38,
    "start_time": "2025-01-31T09:49:29.998Z"
   },
   {
    "duration": 45,
    "start_time": "2025-01-31T09:49:30.038Z"
   },
   {
    "duration": 73,
    "start_time": "2025-01-31T09:49:30.086Z"
   },
   {
    "duration": 37,
    "start_time": "2025-01-31T09:49:30.161Z"
   },
   {
    "duration": 57,
    "start_time": "2025-01-31T09:49:30.200Z"
   },
   {
    "duration": 67,
    "start_time": "2025-01-31T09:49:30.259Z"
   },
   {
    "duration": 66,
    "start_time": "2025-01-31T09:49:30.329Z"
   },
   {
    "duration": 11,
    "start_time": "2025-01-31T09:49:30.646Z"
   },
   {
    "duration": 130,
    "start_time": "2025-01-31T09:49:30.838Z"
   },
   {
    "duration": 27,
    "start_time": "2025-01-31T09:49:32.313Z"
   },
   {
    "duration": 20,
    "start_time": "2025-01-31T09:49:32.514Z"
   },
   {
    "duration": 5,
    "start_time": "2025-01-31T09:49:32.718Z"
   },
   {
    "duration": 6,
    "start_time": "2025-01-31T09:49:33.117Z"
   },
   {
    "duration": 3,
    "start_time": "2025-01-31T09:49:33.318Z"
   },
   {
    "duration": 6,
    "start_time": "2025-01-31T09:49:33.627Z"
   },
   {
    "duration": 6,
    "start_time": "2025-01-31T09:49:33.708Z"
   },
   {
    "duration": 6,
    "start_time": "2025-01-31T09:49:34.086Z"
   },
   {
    "duration": 4,
    "start_time": "2025-01-31T09:49:34.262Z"
   },
   {
    "duration": 5,
    "start_time": "2025-01-31T09:49:34.454Z"
   },
   {
    "duration": 29,
    "start_time": "2025-01-31T09:49:35.439Z"
   },
   {
    "duration": 170,
    "start_time": "2025-01-31T09:49:35.639Z"
   },
   {
    "duration": 56,
    "start_time": "2025-01-31T09:49:36.080Z"
   },
   {
    "duration": 243,
    "start_time": "2025-01-31T09:49:36.297Z"
   },
   {
    "duration": 28,
    "start_time": "2025-01-31T09:49:36.574Z"
   },
   {
    "duration": 493,
    "start_time": "2025-01-31T09:49:37.095Z"
   },
   {
    "duration": 4,
    "start_time": "2025-01-31T09:49:37.591Z"
   },
   {
    "duration": 54,
    "start_time": "2025-01-31T09:49:37.842Z"
   },
   {
    "duration": 17,
    "start_time": "2025-01-31T09:49:38.103Z"
   },
   {
    "duration": 18,
    "start_time": "2025-01-31T09:49:42.319Z"
   },
   {
    "duration": 43,
    "start_time": "2025-01-31T09:51:12.518Z"
   },
   {
    "duration": 61,
    "start_time": "2025-01-31T09:52:01.239Z"
   },
   {
    "duration": 18,
    "start_time": "2025-01-31T09:52:20.353Z"
   },
   {
    "duration": 20,
    "start_time": "2025-01-31T09:52:55.992Z"
   },
   {
    "duration": 47,
    "start_time": "2025-01-31T09:53:37.143Z"
   },
   {
    "duration": 5,
    "start_time": "2025-01-31T09:54:51.316Z"
   },
   {
    "duration": 10,
    "start_time": "2025-01-31T09:55:06.180Z"
   },
   {
    "duration": 155,
    "start_time": "2025-01-31T09:55:39.433Z"
   },
   {
    "duration": 221,
    "start_time": "2025-01-31T09:55:49.037Z"
   },
   {
    "duration": 9,
    "start_time": "2025-01-31T09:56:07.878Z"
   },
   {
    "duration": 2031,
    "start_time": "2025-01-31T10:00:35.987Z"
   },
   {
    "duration": 15,
    "start_time": "2025-01-31T10:03:00.390Z"
   },
   {
    "duration": 4,
    "start_time": "2025-01-31T10:03:15.971Z"
   },
   {
    "duration": 8,
    "start_time": "2025-01-31T10:04:12.091Z"
   },
   {
    "duration": 6,
    "start_time": "2025-01-31T10:04:18.066Z"
   },
   {
    "duration": 10,
    "start_time": "2025-01-31T10:04:26.139Z"
   },
   {
    "duration": 16,
    "start_time": "2025-01-31T10:06:44.648Z"
   },
   {
    "duration": 48,
    "start_time": "2025-01-31T10:06:52.217Z"
   },
   {
    "duration": 36,
    "start_time": "2025-01-31T10:07:13.922Z"
   },
   {
    "duration": 9,
    "start_time": "2025-01-31T10:07:34.960Z"
   },
   {
    "duration": 6,
    "start_time": "2025-01-31T10:08:03.568Z"
   },
   {
    "duration": 4,
    "start_time": "2025-01-31T10:08:14.857Z"
   },
   {
    "duration": 6,
    "start_time": "2025-01-31T10:08:43.391Z"
   },
   {
    "duration": 4,
    "start_time": "2025-01-31T10:09:11.280Z"
   },
   {
    "duration": 506,
    "start_time": "2025-01-31T10:09:21.360Z"
   },
   {
    "duration": 7,
    "start_time": "2025-01-31T10:09:33.690Z"
   },
   {
    "duration": 31,
    "start_time": "2025-01-31T10:10:42.585Z"
   },
   {
    "duration": 19,
    "start_time": "2025-01-31T10:11:13.201Z"
   },
   {
    "duration": 10,
    "start_time": "2025-01-31T10:11:26.954Z"
   },
   {
    "duration": 11,
    "start_time": "2025-01-31T10:11:44.595Z"
   },
   {
    "duration": 10,
    "start_time": "2025-01-31T11:32:12.238Z"
   },
   {
    "duration": 7,
    "start_time": "2025-01-31T11:32:24.941Z"
   },
   {
    "duration": 7,
    "start_time": "2025-01-31T11:32:34.711Z"
   },
   {
    "duration": 7,
    "start_time": "2025-01-31T11:33:37.313Z"
   },
   {
    "duration": 19,
    "start_time": "2025-01-31T11:33:47.325Z"
   },
   {
    "duration": 153,
    "start_time": "2025-01-31T11:34:09.445Z"
   },
   {
    "duration": 141,
    "start_time": "2025-01-31T11:34:39.877Z"
   }
  ],
  "colab": {
   "provenance": []
  },
  "kernelspec": {
   "display_name": "Python 3 (ipykernel)",
   "language": "python",
   "name": "python3"
  },
  "language_info": {
   "codemirror_mode": {
    "name": "ipython",
    "version": 3
   },
   "file_extension": ".py",
   "mimetype": "text/x-python",
   "name": "python",
   "nbconvert_exporter": "python",
   "pygments_lexer": "ipython3",
   "version": "3.9.5"
  },
  "toc": {
   "base_numbering": 1,
   "nav_menu": {},
   "number_sections": true,
   "sideBar": true,
   "skip_h1_title": true,
   "title_cell": "Table of Contents",
   "title_sidebar": "Contents",
   "toc_cell": false,
   "toc_position": {},
   "toc_section_display": true,
   "toc_window_display": false
  }
 },
 "nbformat": 4,
 "nbformat_minor": 1
}
