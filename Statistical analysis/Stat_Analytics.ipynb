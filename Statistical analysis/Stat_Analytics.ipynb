{
 "cells": [
  {
   "cell_type": "markdown",
   "id": "e06910dd",
   "metadata": {
    "id": "e06910dd"
   },
   "source": [
    "# Проверка гипотезы в Python и составление аналитической записки\n",
    "\n",
    "- Автор:Яфаров Ринат\n",
    "- Дата:22.03.2025"
   ]
  },
  {
   "cell_type": "markdown",
   "id": "4149134c",
   "metadata": {
    "id": "4149134c"
   },
   "source": [
    "## Цели и задачи проекта\n",
    "\n",
    "Основная цель проекта — анализ данных об использовании сервиса Яндекс Книги для получения ценной информации о поведении пользователей, их предпочтениях в чтении и прослушивании контента, а также выявление факторов, влияющих на вовлеченность и длительность сессий. "
   ]
  },
  {
   "cell_type": "markdown",
   "id": "728986ea",
   "metadata": {
    "id": "728986ea"
   },
   "source": [
    "## Описание данных\n",
    "\n",
    "Набор данных содержит информацию об активности пользователей в сервисе Яндекс Книги за период с 1 сентября по 11 декабря 2024 года. Данные включают в себя информацию о чтении и прослушивании контента, а также характеристики пользователей, контента, авторов и географического положения.\n",
    "\n",
    "**Таблицы данных:**\n",
    "\n",
    "1.  **`bookmate.audition` (Данные об активности пользователей):**\n",
    "    *   **Описание:** Содержит данные о каждой сессии чтения или прослушивания контента пользователем.\n",
    "    *   **Поля:**\n",
    "        *   <mark>`audition_id`</mark>: Уникальный идентификатор сессии.\n",
    "        *   <mark>`puid`</mark>: Идентификатор пользователя.\n",
    "        *   <mark>`usage_platform_ru`</mark>: Название платформы, использованной для прослушивания (например, iOS, Android, Web).\n",
    "        *   <mark>`msk_business_dt_str`</mark>: Дата события в формате строки (московское время).\n",
    "        *   <mark>`app_version`</mark>: Версия приложения, использованная для чтения или прослушивания.\n",
    "        *   <mark>`adult_content_flg`</mark>: Флаг, указывающий, был ли контент предназначен для взрослых (`True` или `False`).\n",
    "        *   <mark>`hours`</mark>: Длительность чтения или прослушивания в часах.\n",
    "        *   <mark>`hours_sessions_long`</mark>: Продолжительность длинных сессий чтения или прослушивания в часах.\n",
    "        *   <mark>`kids_content_flg`</mark>: Флаг, указывающий, был ли контент предназначен для детей (`True` или `False`).\n",
    "        *   <mark>`main_content_id`</mark>: Идентификатор основного контента (книги, аудиокниги и т.д.).\n",
    "        *   <mark>`usage_geo_id`</mark>: Идентификатор географического местоположения пользователя.\n",
    "\n",
    "2.  **`bookmate.content` (Данные о контенте):**\n",
    "    *   **Описание:** Содержит информацию о контенте, доступном в сервисе.\n",
    "    *   **Поля:**\n",
    "        *   <mark>`main_content_id`</mark>: Идентификатор основного контента.\n",
    "        *   <mark>`main_author_id`</mark>: Идентификатор основного автора контента.\n",
    "        *   <mark>`main_content_type`</mark>: Тип контента (например, \"audiobook\", \"book\").\n",
    "        *   <mark>`main_content_name`</mark>: Название контента.\n",
    "        *   <mark>`main_content_duration_hours`</mark>: Длительность контента в часах.\n",
    "        *   <mark>`published_topic_title_list`</mark>: Список жанров контента (может содержать несколько жанров, разделенных запятыми).\n",
    "\n",
    "3.  **`bookmate.author` (Данные об авторах):**\n",
    "    *   **Описание:** Содержит информацию об авторах контента.\n",
    "    *   **Поля:**\n",
    "        *   <mark>`main_author_id`</mark>: Идентификатор основного автора контента.\n",
    "        *   <mark>`main_author_name`</mark>: Имя основного автора контента.\n",
    "\n",
    "4.  **`bookmate.geo` (Данные о местоположении):**\n",
    "    *   **Описание:** Содержит информацию о географическом положении пользователей.\n",
    "    *   **Поля:**\n",
    "        *   <mark>`usage_geo_id`</mark>: Идентификатор географического положения.\n",
    "        *   <mark>`usage_geo_id_name`</mark>: Город или регион географического положения.\n",
    "        *   <mark>`usage_country_name`</mark>: Страна географического положения.\n"
   ]
  },
  {
   "cell_type": "markdown",
   "id": "4fecaf95",
   "metadata": {
    "id": "4fecaf95"
   },
   "source": [
    "## Содержимое проекта\n",
    "1.  **Постановка цели и задач**\n",
    "2.  **Сбор и подготовка данных**\n",
    "3.  **Статистическая проверка гипотез**\n",
    "4.  **Анализ и интерпретация результатов**\n",
    "5.  **Формулировка выводов и рекомендаций**\n"
   ]
  },
  {
   "cell_type": "markdown",
   "id": "6f7d21d6",
   "metadata": {
    "id": "6f7d21d6"
   },
   "source": [
    "## 1. Загрузка данных и знакомство с ними\n",
    "\n",
    "Загрузите данные пользователей из Москвы и Санкт-Петербурга c их активностью (суммой часов чтения и прослушивания) из файла `/datasets/yandex_knigi_data.csv`."
   ]
  },
  {
   "cell_type": "code",
   "execution_count": 1,
   "id": "05faf34b",
   "metadata": {
    "id": "05faf34b"
   },
   "outputs": [],
   "source": [
    "# Пустые ячейки после каждого задания — примерное пространство для работы.\n",
    "# Вы можете свободно добавлять или удалять ячейки по своему усмотрению в зависимости от логики и объёма работы."
   ]
  },
  {
   "cell_type": "code",
   "execution_count": 2,
   "id": "ce87c1db",
   "metadata": {
    "id": "ce87c1db"
   },
   "outputs": [],
   "source": [
    "# Используйте ячейки типа Code для вашего кода"
   ]
  },
  {
   "cell_type": "code",
   "execution_count": 3,
   "id": "f68a7419",
   "metadata": {
    "id": "f68a7419"
   },
   "outputs": [],
   "source": [
    "import pandas as pd\n",
    "from scipy import stats\n",
    "import matplotlib.pyplot as plt\n",
    "import seaborn as sns"
   ]
  },
  {
   "cell_type": "code",
   "execution_count": 4,
   "id": "02209336",
   "metadata": {},
   "outputs": [],
   "source": [
    "df = pd.read_csv('https://code.s3.yandex.net/datasets/yandex_knigi_data.csv')"
   ]
  },
  {
   "cell_type": "code",
   "execution_count": 5,
   "id": "88a2376e",
   "metadata": {},
   "outputs": [
    {
     "data": {
      "text/html": [
       "<div>\n",
       "<style scoped>\n",
       "    .dataframe tbody tr th:only-of-type {\n",
       "        vertical-align: middle;\n",
       "    }\n",
       "\n",
       "    .dataframe tbody tr th {\n",
       "        vertical-align: top;\n",
       "    }\n",
       "\n",
       "    .dataframe thead th {\n",
       "        text-align: right;\n",
       "    }\n",
       "</style>\n",
       "<table border=\"1\" class=\"dataframe\">\n",
       "  <thead>\n",
       "    <tr style=\"text-align: right;\">\n",
       "      <th></th>\n",
       "      <th>Unnamed: 0</th>\n",
       "      <th>city</th>\n",
       "      <th>puid</th>\n",
       "      <th>hours</th>\n",
       "    </tr>\n",
       "  </thead>\n",
       "  <tbody>\n",
       "    <tr>\n",
       "      <th>0</th>\n",
       "      <td>0</td>\n",
       "      <td>Москва</td>\n",
       "      <td>9668</td>\n",
       "      <td>26.167776</td>\n",
       "    </tr>\n",
       "    <tr>\n",
       "      <th>1</th>\n",
       "      <td>1</td>\n",
       "      <td>Москва</td>\n",
       "      <td>16598</td>\n",
       "      <td>82.111217</td>\n",
       "    </tr>\n",
       "    <tr>\n",
       "      <th>2</th>\n",
       "      <td>2</td>\n",
       "      <td>Москва</td>\n",
       "      <td>80401</td>\n",
       "      <td>4.656906</td>\n",
       "    </tr>\n",
       "    <tr>\n",
       "      <th>3</th>\n",
       "      <td>3</td>\n",
       "      <td>Москва</td>\n",
       "      <td>140205</td>\n",
       "      <td>1.840556</td>\n",
       "    </tr>\n",
       "    <tr>\n",
       "      <th>4</th>\n",
       "      <td>4</td>\n",
       "      <td>Москва</td>\n",
       "      <td>248755</td>\n",
       "      <td>151.326434</td>\n",
       "    </tr>\n",
       "  </tbody>\n",
       "</table>\n",
       "</div>"
      ],
      "text/plain": [
       "   Unnamed: 0    city    puid       hours\n",
       "0           0  Москва    9668   26.167776\n",
       "1           1  Москва   16598   82.111217\n",
       "2           2  Москва   80401    4.656906\n",
       "3           3  Москва  140205    1.840556\n",
       "4           4  Москва  248755  151.326434"
      ]
     },
     "execution_count": 5,
     "metadata": {},
     "output_type": "execute_result"
    }
   ],
   "source": [
    "df.head()"
   ]
  },
  {
   "cell_type": "code",
   "execution_count": 6,
   "id": "a464a73f",
   "metadata": {},
   "outputs": [
    {
     "name": "stdout",
     "output_type": "stream",
     "text": [
      "\n",
      "Дубликаты в puid до удаления:\n"
     ]
    },
    {
     "data": {
      "text/plain": [
       "244"
      ]
     },
     "execution_count": 6,
     "metadata": {},
     "output_type": "execute_result"
    }
   ],
   "source": [
    "print(\"\\nДубликаты в puid до удаления:\")\n",
    "df['puid'].duplicated().sum()"
   ]
  },
  {
   "cell_type": "code",
   "execution_count": 7,
   "id": "f46fa46a",
   "metadata": {},
   "outputs": [],
   "source": [
    "df= df.drop_duplicates(subset='puid', keep='first') "
   ]
  },
  {
   "cell_type": "code",
   "execution_count": 8,
   "id": "1a67d890",
   "metadata": {},
   "outputs": [
    {
     "name": "stdout",
     "output_type": "stream",
     "text": [
      "\n",
      "Дубликаты в puid после удаления:\n",
      "0\n"
     ]
    }
   ],
   "source": [
    "print(\"\\nДубликаты в puid после удаления:\")\n",
    "print(df['puid'].duplicated().sum())"
   ]
  },
  {
   "cell_type": "code",
   "execution_count": 9,
   "id": "ce0e1c4a",
   "metadata": {},
   "outputs": [
    {
     "name": "stdout",
     "output_type": "stream",
     "text": [
      "\n",
      "Количество пользователей из Москвы: 6234\n",
      "Количество пользователей из Санкт-Петербурга: 2306\n"
     ]
    }
   ],
   "source": [
    "msk_count = len(df[df['city'] == 'Москва'])\n",
    "spb_count = len(df[df['city'] == 'Санкт-Петербург'])\n",
    "print(f\"\\nКоличество пользователей из Москвы: {msk_count}\")\n",
    "print(f\"Количество пользователей из Санкт-Петербурга: {spb_count}\")"
   ]
  },
  {
   "cell_type": "code",
   "execution_count": 10,
   "id": "2a643586",
   "metadata": {},
   "outputs": [
    {
     "data": {
      "text/plain": [
       "count    2306.000000\n",
       "mean       11.264433\n",
       "std        39.831755\n",
       "min         0.000025\n",
       "25%         0.060173\n",
       "50%         0.875355\n",
       "75%         6.138424\n",
       "max       978.764775\n",
       "Name: hours, dtype: float64"
      ]
     },
     "execution_count": 10,
     "metadata": {},
     "output_type": "execute_result"
    }
   ],
   "source": [
    "df[df['city'] == 'Санкт-Петербург']['hours'].describe()"
   ]
  },
  {
   "cell_type": "code",
   "execution_count": 11,
   "id": "74df320c",
   "metadata": {},
   "outputs": [
    {
     "data": {
      "text/plain": [
       "count    6234.000000\n",
       "mean       10.881092\n",
       "std        36.851683\n",
       "min         0.000018\n",
       "25%         0.059903\n",
       "50%         0.924498\n",
       "75%         5.939972\n",
       "max       857.209373\n",
       "Name: hours, dtype: float64"
      ]
     },
     "execution_count": 11,
     "metadata": {},
     "output_type": "execute_result"
    }
   ],
   "source": [
    "df[df['city'] == 'Москва']['hours'].describe()"
   ]
  },
  {
   "cell_type": "markdown",
   "id": "483b3c44",
   "metadata": {},
   "source": [
    "## Вывод по преобработки данных\n",
    "\n",
    "Обнаружено и удалено 244 дубликата в идентификаторах пользователей, что позволило повысить точность дальнейшего анализа.\n",
    "\n",
    "Установлено, что количество пользователей из Москвы (6234) значительно превышает количество пользователей из Санкт-Петербурга (2306).\n",
    "\n",
    "Среднее время активности пользователей в Санкт-Петербурге (11.26 часа) немного выше, чем в Москве (10.88 часа).\n",
    "\n",
    "Медиана времени активности в Москве (0.92 часа) немного выше, чем в Санкт-Петербурге (0.88 часа).\n",
    "\n",
    "Распределение времени активности в обоих городах характеризуется высоким стандартным отклонением и наличием выбросов (очень активных пользователей).\n",
    "\n",
    "Доля \"неактивных\" пользователей (проводящих мало времени в сервисе) примерно одинакова в обоих городах."
   ]
  },
  {
   "cell_type": "markdown",
   "id": "996bcf79",
   "metadata": {},
   "source": [
    "Последствия неравных размеров групп:\n",
    "\n",
    "1. Неравные размеры групп могут снизить статистическую мощность t-теста. Это означает, что тест может быть менее чувствителен к обнаружению реальной разницы между средними значениями, если она существует.\n",
    "2. Некоторые тесты на равенство дисперсий очень чувствительны к отклонениям от нормальности, особенно когда размеры групп сильно различаются. В таких случаях тест Левена, который менее чувствителен к отклонениям от нормальности, является более предпочтительным.\n",
    "3. При интерпретации результатов важно учитывать, что разница между средними значениями может быть статистически значимой, но не иметь практической значимости, особенно если меньшая группа имеет очень высокую дисперсию."
   ]
  },
  {
   "cell_type": "markdown",
   "id": "956e82e2",
   "metadata": {
    "id": "956e82e2"
   },
   "source": [
    "## 2. Проверка гипотезы в Python\n",
    "\n",
    "Гипотеза звучит так: пользователи из Санкт-Петербурга проводят в среднем больше времени за чтением и прослушиванием книг в приложении, чем пользователи из Москвы. Попробуйте статистически это доказать, используя одностороннюю проверку гипотезы с двумя выборками:\n",
    "\n",
    "- Нулевая гипотеза H₀: Средняя активность пользователей в часах в двух группах (Москва и Санкт-Петербург) не различается.\n",
    "\n",
    "- Альтернативная гипотеза H₁: Средняя активность пользователей в Санкт-Петербурге больше, и это различие статистически значимо."
   ]
  },
  {
   "cell_type": "code",
   "execution_count": 12,
   "id": "fe4d1571",
   "metadata": {},
   "outputs": [],
   "source": [
    "msk_data = df[df['city'] == 'Москва']['hours']\n",
    "spb_data = df[df['city'] == 'Санкт-Петербург']['hours']"
   ]
  },
  {
   "cell_type": "code",
   "execution_count": 13,
   "id": "d2b31a31",
   "metadata": {},
   "outputs": [
    {
     "data": {
      "image/png": "[encoded data removed]",
      "text/plain": [
       "<Figure size 432x288 with 2 Axes>"
      ]
     },
     "metadata": {
      "needs_background": "light"
     },
     "output_type": "display_data"
    }
   ],
   "source": [
    "# Москва\n",
    "plt.subplot(1, 2, 1)\n",
    "sns.kdeplot(msk_data, fill=True, clip=(0, 50)) \n",
    "sns.rugplot(msk_data, alpha=0.5) \n",
    "plt.title('Москва', fontsize=14)\n",
    "plt.xlabel('Часы', fontsize=12)\n",
    "plt.ylabel('Плотность', fontsize=12)\n",
    "\n",
    "# Санкт-Петербург\n",
    "plt.subplot(1, 2, 2)\n",
    "sns.kdeplot(spb_data, fill=True, clip=(0, 50))\n",
    "sns.rugplot(spb_data, alpha=0.5) \n",
    "plt.title('Санкт-Петербург', fontsize=14)\n",
    "plt.xlabel('Часы', fontsize=12)\n",
    "plt.ylabel('Плотность', fontsize=12)\n",
    "\n",
    "plt.tight_layout()\n",
    "plt.show()"
   ]
  },
  {
   "cell_type": "markdown",
   "id": "c48a6d1f",
   "metadata": {},
   "source": [
    "Оба распределения (Москва и Санкт-Петербург) имеют выраженную скошенность вправо. Это означает, что большинство пользователей проводят относительно небольшое количество времени в приложении, а небольшое количество пользователей проводит значительно больше времени (выбросы).\n",
    "\n",
    "Оба распределения имеют пик вблизи нуля, что указывает на то, что много пользователей проводят очень мало времени в приложении.\n",
    "\n",
    "На основе визуальной оценки, распределения явно не являются нормальными. Они далеки от колоколообразной формы, характерной для нормального распределения."
   ]
  },
  {
   "cell_type": "markdown",
   "id": "05a4fd2f",
   "metadata": {},
   "source": [
    "Условия для применения t-теста:\n",
    "\n",
    "* Наблюдения в обеих выборках должны быть независимыми друг от друга. Это условие выполняется, поскольку каждый пользователь вносит свой вклад в данные независимо от других.\n",
    "* Данные в каждой выборке должны быть приблизительно нормально распределены. Это условие, судя по визуализациям, не выполняется. Распределения имеют выраженную скошенность вправо и пик вблизи нуля.\n",
    "* Дисперсии в обеих выборках должны быть примерно равны. Если дисперсии значительно различаются, следует использовать t-тест Уэлча, который не требует этого условия. Это условие нужно проверить тестом Левена.\n",
    "* Данные должны быть измерены в количественной шкале (интервальной или отношений). Это условие выполняется, так как \"часы активности\" - количественная переменная.\n"
   ]
  },
  {
   "cell_type": "markdown",
   "id": "2971c687",
   "metadata": {},
   "source": [
    "Почему я сомневаюсь в использовании t-теста в данном случае?\n",
    "\n",
    "Главная причина - нарушение условия нормальности. Хотя t-тест довольно устойчив к небольшим отклонениям от нормальности (особенно при больших размерах выборки), в нашем случае скошенность распределений довольно сильная.\n",
    "\n",
    "Можем ли использовать t-тест, несмотря на нарушение нормальности?\n",
    "Учитывая сильную скошенность распределений и наличие выбросов - НЕТ\n",
    "\n",
    "Вывод:\n",
    "\n",
    "В силу того, что результаты могут быть не совсем надежными из-за сильного отклонения от нормальности мы не можем использовать t-test. Поэтому более надежным подходом будет использование непараметрического теста Манна-Уитни."
   ]
  },
  {
   "cell_type": "code",
   "execution_count": 14,
   "id": "d44fe3ee",
   "metadata": {},
   "outputs": [
    {
     "data": {
      "image/png": "[encoded data removed]",
      "text/plain": [
       "<Figure size 432x288 with 1 Axes>"
      ]
     },
     "metadata": {
      "needs_background": "light"
     },
     "output_type": "display_data"
    }
   ],
   "source": [
    "import numpy as np\n",
    "import pandas as pd\n",
    "import matplotlib.pyplot as plt\n",
    "\n",
    "np.random.seed(42)\n",
    "main_size = 40_000\n",
    "sample_size = main_size // 100\n",
    "main_population = np.random.exponential(size=main_size)\n",
    "sample_means = pd.Series([np.mean(np.random.choice(main_population, size=sample_size)) for i in range(100)])\n",
    "\n",
    "ax = sample_means.hist(bins=np.linspace(0.9, 1.1, 20))\n",
    "ax.axvline(main_population.mean(), c='r', label=\"Main mean\")\n",
    "ax.axvline(sample_means.mean(), c='r', ls=\":\", label=\"Mean sample means\")\n",
    "ax.legend()\n",
    "plt.show()"
   ]
  },
  {
   "cell_type": "markdown",
   "id": "b71e33b0",
   "metadata": {},
   "source": [
    "Основные условия проведения u-теста:\n",
    "* Тест не требует, чтобы данные были нормально распределены.\n",
    "* Он используется для сравнения двух независимых групп (в нашем случае, пользователи из Москвы и Санкт-Петербурга).\n",
    "* Используем односторонний вариант теста, так как наша альтернативная гипотеза заключается в том, что пользователи из Санкт-Петербурга проводят больше времени в приложении, чем пользователи из Москвы.\n",
    "\n",
    "Все условия подходят для нашего случая"
   ]
  },
  {
   "cell_type": "code",
   "execution_count": 15,
   "id": "72cd300b",
   "metadata": {},
   "outputs": [
    {
     "name": "stdout",
     "output_type": "stream",
     "text": [
      "p-value: 0.6189600878052618\n",
      "Не можем отвергнуть нулевую гипотезу. Нет достаточных оснований утверждать, что пользователи из Санкт-Петербурга проводят в среднем больше времени за чтением и прослушиванием книг, чем пользователи из Москвы.\n"
     ]
    }
   ],
   "source": [
    "alpha = 0.05 # Уровень значимости\n",
    "results = stats.mannwhitneyu(spb_data, msk_data, alternative='greater') \n",
    "print(\"p-value:\", results.pvalue)\n",
    "\n",
    "# Интерпретация результатов\n",
    "if results.pvalue < alpha:\n",
    "    print(\"Отвергаем нулевую гипотезу. Пользователи из Санкт-Петербурга проводят в среднем больше времени за чтением и прослушиванием книг, чем пользователи из Москвы.\")\n",
    "else:\n",
    "    print(\"Не можем отвергнуть нулевую гипотезу. Нет достаточных оснований утверждать, что пользователи из Санкт-Петербурга проводят в среднем больше времени за чтением и прослушиванием книг, чем пользователи из Москвы.\")"
   ]
  },
  {
   "cell_type": "markdown",
   "id": "6953e84c",
   "metadata": {
    "id": "6953e84c"
   },
   "source": [
    "## 3. Аналитическая записка\n",
    "По результатам анализа данных подготовьте аналитическую записку, в которой опишете:\n",
    "\n",
    "- Выбранный тип t-теста и уровень статистической значимости.\n",
    "\n",
    "- Результат теста, или p-value.\n",
    "\n",
    "- Вывод на основе полученного p-value, то есть интерпретацию результатов.\n",
    "\n",
    "- Одну или две возможные причины, объясняющие полученные результаты.\n",
    "\n"
   ]
  },
  {
   "cell_type": "markdown",
   "id": "6f96078b",
   "metadata": {},
   "source": [
    "## Аналитическая записка: Сравнение активности пользователей Яндекс Книги в Москве и Санкт-Петербурге\n",
    "\n",
    "Анализ распределения данных:\n",
    "* Визуализированы распределения времени активности пользователей для Москвы и Санкт-Петербурга с использованием графиков плотности.\n",
    "* Установлено, что распределения имеют выраженную скошенность вправо и не соответствуют нормальному распределению.\n",
    "\n",
    "Выбор статистического теста:\n",
    "* На основании ненормального распределения данных был выбран непараметрический тест Манна-Уитни (Mann-Whitney U test) для сравнения двух независимых групп.\n",
    "* Использовался односторонний вариант теста, так как проверялась гипотеза о том, что пользователи из Санкт-Петербурга проводят больше времени, чем пользователи из Москвы.\n",
    "\n",
    "Уровень статистической значимости:\n",
    "* Установлен уровень статистической значимости alpha = 0.05. \n",
    "\n",
    "Интерпретация результатов:\n",
    "* Полученное значение p-value (0.61896) значительно превышает установленный уровень значимости (alpha = 0.05). На основании этого мы не можем отвергнуть нулевую гипотезу. \n",
    "* Это означает, что у нас нет достаточных статистических оснований утверждать, что пользователи из Санкт-Петербурга в среднем проводят больше времени за чтением и прослушиванием книг в приложении Яндекс Книги, чем пользователи из Москвы.\n",
    "\n",
    "Возможные причины:\n",
    "* Возможно, размер выборки недостаточно велик или разброс данных слишком велик, чтобы выявить существующие различия. Даже если небольшое различие и существует, тест не смог его обнаружить.\n",
    "* Вполне возможно, что реальной разницы в среднем времени активности пользователей между двумя городами и не существует. Возможно, культурные или социальные факторы, влияющие на чтение и прослушивание книг, в Москве и Санкт-Петербурге схожи.\n",
    "* На активность пользователей могут влиять другие факторы, которые не были учтены в данном анализе, например: возраст, пол, интересы, уровень образования, доступность других видов досуга, сезонность и т.д.\n",
    "\n",
    "Заключение:\n",
    "* Проведенный анализ не подтвердил гипотезу о том, что пользователи из Санкт-Петербурга в среднем проводят больше времени за чтением и прослушиванием книг в приложении Яндекс Книги, чем пользователи из Москвы"
   ]
  }
 ],
 "metadata": {
  "ExecuteTimeLog": [
   {
    "duration": 371,
    "start_time": "2025-03-23T15:48:56.329Z"
   },
   {
    "duration": 311,
    "start_time": "2025-03-23T15:50:22.272Z"
   },
   {
    "duration": 15,
    "start_time": "2025-03-23T15:50:52.972Z"
   },
   {
    "duration": 62,
    "start_time": "2025-03-23T15:53:50.528Z"
   },
   {
    "duration": 7,
    "start_time": "2025-03-23T15:53:56.794Z"
   },
   {
    "duration": 4,
    "start_time": "2025-03-23T15:54:00.535Z"
   },
   {
    "duration": 5,
    "start_time": "2025-03-23T15:55:26.962Z"
   },
   {
    "duration": 7,
    "start_time": "2025-03-23T15:55:49.383Z"
   },
   {
    "duration": 4,
    "start_time": "2025-03-23T15:55:54.672Z"
   },
   {
    "duration": 5,
    "start_time": "2025-03-23T15:56:05.785Z"
   },
   {
    "duration": 5,
    "start_time": "2025-03-23T15:56:12.774Z"
   },
   {
    "duration": 4,
    "start_time": "2025-03-23T15:56:17.544Z"
   },
   {
    "duration": 6,
    "start_time": "2025-03-23T15:56:23.951Z"
   },
   {
    "duration": 3,
    "start_time": "2025-03-23T15:57:00.453Z"
   },
   {
    "duration": 2,
    "start_time": "2025-03-23T15:57:00.738Z"
   },
   {
    "duration": 368,
    "start_time": "2025-03-23T15:57:01.215Z"
   },
   {
    "duration": 56,
    "start_time": "2025-03-23T15:57:01.895Z"
   },
   {
    "duration": 19,
    "start_time": "2025-03-23T15:57:02.760Z"
   },
   {
    "duration": 6,
    "start_time": "2025-03-23T15:57:06.744Z"
   },
   {
    "duration": 7,
    "start_time": "2025-03-23T15:57:08.835Z"
   },
   {
    "duration": 3,
    "start_time": "2025-03-23T15:57:10.183Z"
   },
   {
    "duration": 64,
    "start_time": "2025-03-23T15:57:54.006Z"
   },
   {
    "duration": 8,
    "start_time": "2025-03-23T15:58:10.988Z"
   },
   {
    "duration": 7,
    "start_time": "2025-03-23T15:58:35.795Z"
   },
   {
    "duration": 13,
    "start_time": "2025-03-23T15:58:50.285Z"
   },
   {
    "duration": 7,
    "start_time": "2025-03-23T15:59:10.149Z"
   },
   {
    "duration": 9,
    "start_time": "2025-03-23T15:59:19.752Z"
   },
   {
    "duration": 9,
    "start_time": "2025-03-23T15:59:28.766Z"
   },
   {
    "duration": 961,
    "start_time": "2025-03-23T16:08:12.050Z"
   },
   {
    "duration": 7,
    "start_time": "2025-03-23T16:08:32.006Z"
   },
   {
    "duration": 3334,
    "start_time": "2025-03-23T16:10:37.462Z"
   },
   {
    "duration": 260,
    "start_time": "2025-03-23T16:11:02.644Z"
   },
   {
    "duration": 1204,
    "start_time": "2025-03-23T16:12:01.641Z"
   },
   {
    "duration": 695,
    "start_time": "2025-03-23T16:12:23.137Z"
   },
   {
    "duration": 664,
    "start_time": "2025-03-23T16:13:00.833Z"
   },
   {
    "duration": 45,
    "start_time": "2025-03-23T16:13:37.658Z"
   },
   {
    "duration": 2,
    "start_time": "2025-03-23T16:13:50.477Z"
   },
   {
    "duration": 661,
    "start_time": "2025-03-23T16:13:51.113Z"
   },
   {
    "duration": 654,
    "start_time": "2025-03-23T16:15:41.429Z"
   },
   {
    "duration": 686,
    "start_time": "2025-03-23T16:16:41.007Z"
   },
   {
    "duration": 11,
    "start_time": "2025-03-23T16:58:13.042Z"
   },
   {
    "duration": 11,
    "start_time": "2025-03-23T16:58:20.538Z"
   },
   {
    "duration": 3,
    "start_time": "2025-03-23T17:01:27.695Z"
   },
   {
    "duration": 3,
    "start_time": "2025-03-23T17:06:41.515Z"
   },
   {
    "duration": 3,
    "start_time": "2025-03-23T17:06:41.685Z"
   },
   {
    "duration": 403,
    "start_time": "2025-03-23T17:06:41.870Z"
   },
   {
    "duration": 140,
    "start_time": "2025-03-23T17:06:42.275Z"
   },
   {
    "duration": 14,
    "start_time": "2025-03-23T17:06:42.417Z"
   },
   {
    "duration": 5,
    "start_time": "2025-03-23T17:06:42.432Z"
   },
   {
    "duration": 5,
    "start_time": "2025-03-23T17:06:42.576Z"
   },
   {
    "duration": 4,
    "start_time": "2025-03-23T17:06:42.753Z"
   },
   {
    "duration": 7,
    "start_time": "2025-03-23T17:06:42.926Z"
   },
   {
    "duration": 11,
    "start_time": "2025-03-23T17:06:43.125Z"
   },
   {
    "duration": 10,
    "start_time": "2025-03-23T17:06:43.351Z"
   },
   {
    "duration": 728,
    "start_time": "2025-03-23T17:06:50.198Z"
   },
   {
    "duration": 6,
    "start_time": "2025-03-23T17:06:50.928Z"
   },
   {
    "duration": 678,
    "start_time": "2025-03-23T17:06:50.936Z"
   },
   {
    "duration": 12,
    "start_time": "2025-03-23T17:06:51.616Z"
   },
   {
    "duration": 1323,
    "start_time": "2025-03-24T16:06:39.606Z"
   },
   {
    "duration": 2,
    "start_time": "2025-03-24T16:22:02.016Z"
   },
   {
    "duration": 3,
    "start_time": "2025-03-24T16:22:02.274Z"
   },
   {
    "duration": 2,
    "start_time": "2025-03-24T16:22:02.578Z"
   },
   {
    "duration": 174,
    "start_time": "2025-03-24T16:22:02.835Z"
   },
   {
    "duration": 12,
    "start_time": "2025-03-24T16:22:03.074Z"
   },
   {
    "duration": 6,
    "start_time": "2025-03-24T16:22:03.377Z"
   },
   {
    "duration": 6,
    "start_time": "2025-03-24T16:22:03.647Z"
   },
   {
    "duration": 4,
    "start_time": "2025-03-24T16:22:03.937Z"
   },
   {
    "duration": 8,
    "start_time": "2025-03-24T16:22:04.522Z"
   },
   {
    "duration": 9,
    "start_time": "2025-03-24T16:22:04.755Z"
   },
   {
    "duration": 11,
    "start_time": "2025-03-24T16:22:04.927Z"
   },
   {
    "duration": 7,
    "start_time": "2025-03-24T16:22:06.682Z"
   },
   {
    "duration": 651,
    "start_time": "2025-03-24T16:22:06.899Z"
   },
   {
    "duration": 11,
    "start_time": "2025-03-24T16:22:07.976Z"
   },
   {
    "duration": 10,
    "start_time": "2025-03-24T16:22:08.628Z"
   },
   {
    "duration": 232,
    "start_time": "2025-03-25T08:53:13.774Z"
   },
   {
    "duration": 4,
    "start_time": "2025-03-25T08:53:18.659Z"
   },
   {
    "duration": 4,
    "start_time": "2025-03-25T08:53:23.263Z"
   },
   {
    "duration": 412,
    "start_time": "2025-03-25T08:53:36.889Z"
   },
   {
    "duration": 395,
    "start_time": "2025-03-25T08:54:19.457Z"
   },
   {
    "duration": 4,
    "start_time": "2025-03-25T08:55:25.747Z"
   },
   {
    "duration": 8,
    "start_time": "2025-03-25T09:00:03.539Z"
   },
   {
    "duration": 3,
    "start_time": "2025-03-25T09:00:12.101Z"
   },
   {
    "duration": 4,
    "start_time": "2025-03-25T09:00:12.106Z"
   },
   {
    "duration": 1355,
    "start_time": "2025-03-25T09:00:12.111Z"
   },
   {
    "duration": 140,
    "start_time": "2025-03-25T09:00:13.469Z"
   },
   {
    "duration": 12,
    "start_time": "2025-03-25T09:00:13.611Z"
   },
   {
    "duration": 5,
    "start_time": "2025-03-25T09:00:13.625Z"
   },
   {
    "duration": 14,
    "start_time": "2025-03-25T09:00:13.632Z"
   },
   {
    "duration": 4,
    "start_time": "2025-03-25T09:00:13.648Z"
   },
   {
    "duration": 7,
    "start_time": "2025-03-25T09:00:13.653Z"
   },
   {
    "duration": 11,
    "start_time": "2025-03-25T09:00:13.662Z"
   },
   {
    "duration": 11,
    "start_time": "2025-03-25T09:00:13.674Z"
   },
   {
    "duration": 6,
    "start_time": "2025-03-25T09:00:13.686Z"
   },
   {
    "duration": 714,
    "start_time": "2025-03-25T09:00:13.694Z"
   },
   {
    "duration": 302,
    "start_time": "2025-03-25T09:00:22.091Z"
   },
   {
    "duration": 284,
    "start_time": "2025-03-25T09:01:39.604Z"
   },
   {
    "duration": 264,
    "start_time": "2025-03-25T09:01:49.121Z"
   },
   {
    "duration": 300,
    "start_time": "2025-03-25T09:02:21.212Z"
   },
   {
    "duration": 226,
    "start_time": "2025-03-25T09:02:26.063Z"
   },
   {
    "duration": 277,
    "start_time": "2025-03-25T09:02:29.031Z"
   },
   {
    "duration": 107,
    "start_time": "2025-03-25T09:02:55.977Z"
   },
   {
    "duration": 506,
    "start_time": "2025-03-25T09:03:30.089Z"
   },
   {
    "duration": 322,
    "start_time": "2025-03-25T09:03:37.008Z"
   },
   {
    "duration": 299,
    "start_time": "2025-03-25T09:05:44.188Z"
   },
   {
    "duration": 291,
    "start_time": "2025-03-25T09:05:47.776Z"
   },
   {
    "duration": 300,
    "start_time": "2025-03-25T09:05:49.883Z"
   },
   {
    "duration": 364,
    "start_time": "2025-03-25T09:05:53.979Z"
   },
   {
    "duration": 330,
    "start_time": "2025-03-25T09:06:10.494Z"
   },
   {
    "duration": 271,
    "start_time": "2025-03-25T09:06:14.172Z"
   },
   {
    "duration": 286,
    "start_time": "2025-03-25T09:06:18.232Z"
   },
   {
    "duration": 273,
    "start_time": "2025-03-25T09:06:20.584Z"
   },
   {
    "duration": 388,
    "start_time": "2025-03-25T09:06:30.983Z"
   },
   {
    "duration": 334,
    "start_time": "2025-03-25T09:06:34.383Z"
   },
   {
    "duration": 294,
    "start_time": "2025-03-25T09:06:51.872Z"
   },
   {
    "duration": 312,
    "start_time": "2025-03-25T09:06:56.311Z"
   },
   {
    "duration": 4,
    "start_time": "2025-03-25T09:08:47.392Z"
   },
   {
    "duration": 5,
    "start_time": "2025-03-25T09:08:47.398Z"
   },
   {
    "duration": 1179,
    "start_time": "2025-03-25T09:08:47.404Z"
   },
   {
    "duration": 67,
    "start_time": "2025-03-25T09:08:48.585Z"
   },
   {
    "duration": 12,
    "start_time": "2025-03-25T09:08:48.654Z"
   },
   {
    "duration": 46,
    "start_time": "2025-03-25T09:08:48.668Z"
   },
   {
    "duration": 6,
    "start_time": "2025-03-25T09:08:48.716Z"
   },
   {
    "duration": 5,
    "start_time": "2025-03-25T09:08:48.724Z"
   },
   {
    "duration": 9,
    "start_time": "2025-03-25T09:08:48.731Z"
   },
   {
    "duration": 13,
    "start_time": "2025-03-25T09:08:48.743Z"
   },
   {
    "duration": 10,
    "start_time": "2025-03-25T09:08:48.758Z"
   },
   {
    "duration": 9,
    "start_time": "2025-03-25T09:08:48.770Z"
   },
   {
    "duration": 691,
    "start_time": "2025-03-25T09:08:48.780Z"
   },
   {
    "duration": 310,
    "start_time": "2025-03-25T09:08:49.473Z"
   },
   {
    "duration": 11,
    "start_time": "2025-03-25T09:08:49.785Z"
   }
  ],
  "colab": {
   "provenance": []
  },
  "kernelspec": {
   "display_name": "Python 3 (ipykernel)",
   "language": "python",
   "name": "python3"
  },
  "language_info": {
   "codemirror_mode": {
    "name": "ipython",
    "version": 3
   },
   "file_extension": ".py",
   "mimetype": "text/x-python",
   "name": "python",
   "nbconvert_exporter": "python",
   "pygments_lexer": "ipython3",
   "version": "3.9.5"
  },
  "toc": {
   "base_numbering": 1,
   "nav_menu": {},
   "number_sections": true,
   "sideBar": true,
   "skip_h1_title": true,
   "title_cell": "Table of Contents",
   "title_sidebar": "Contents",
   "toc_cell": false,
   "toc_position": {},
   "toc_section_display": true,
   "toc_window_display": false
  }
 },
 "nbformat": 4,
 "nbformat_minor": 5
}
