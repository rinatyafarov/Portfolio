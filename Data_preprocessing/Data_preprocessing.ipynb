{
 "cells": [
  {
   "cell_type": "markdown",
   "id": "e06910dd",
   "metadata": {
    "id": "e06910dd"
   },
   "source": [
    "# \"Предообработка данных игры \"Секреты темнолесья\"\n",
    "\n",
    "- Автор:Яфаров Ринат \n",
    "- Дата:09.12.2024"
   ]
  },
  {
   "cell_type": "markdown",
   "id": "4149134c",
   "metadata": {
    "id": "4149134c"
   },
   "source": [
    "### Цели и задачи проекта\n",
    "\n",
    "<font color='#777778'>Цель проекта: Провести глубокое исследование и анализ развития игровой индустрии в период с 2000 по 2013 год, с акцентом на жанр RPG, для подготовки статьи, которая привлечет внимание новой аудитории к игре «Секреты Темнолесья».</font>"
   ]
  },
  {
   "cell_type": "markdown",
   "id": "728986ea",
   "metadata": {
    "id": "728986ea"
   },
   "source": [
    "### Описание данных\n",
    "\n",
    "<font color='#777778'>Данные /datasets/new_games.csv содержат информацию о продажах игр разных жанров и платформ, а также пользовательские и экспертные оценки игр:\n",
    "* `Name` — название игры.\n",
    "* `Platform` — название платформы.\n",
    "* `Year of Release` — год выпуска игры.\n",
    "* `Genre` — жанр игры.\n",
    "* `NA sales` — продажи в Северной Америке (в миллионах проданных копий).\n",
    "* `EU sales` — продажи в Европе (в миллионах проданных копий).\n",
    "* `JP sales` — продажи в Японии (в миллионах проданных копий).\n",
    "* `Other sales` — продажи в других странах (в миллионах проданных копий).\n",
    "* `Critic Score` — оценка критиков (от 0 до 100).\n",
    "* `User Score` — оценка пользователей (от 0 до 10).\n",
    "*`Rating` — рейтинг организации ESRB (англ. Entertainment Software Rating Board). Эта ассоциация определяет рейтинг *компьютерных игр и присваивает им подходящую возрастную категорию.</font>"
   ]
  },
  {
   "cell_type": "markdown",
   "id": "4fecaf95",
   "metadata": {
    "id": "4fecaf95"
   },
   "source": [
    "### Содержимое проекта\n",
    "\n",
    "Примерный план работы над данными: \n",
    "\n",
    "Загрузка и знакомство с данными\n",
    "- Загрузите необходимые библиотеки Python и данные датасета `/datasets/new_games.csv.`\n",
    "- Познакомьтесь с данными: выведите первые строки и результат метода `info()`.\n",
    "- Сделайте вывод о полученных данных: данные какого объёма вам предоставили, соответствуют ли они описанию, встречаются ли в них пропуски, используются ли верные типы данных.\n",
    "- Отметьте другие особенности данных, которые вы обнаружили и на которые стоит обратить внимание при предобработке. Например, вы можете проверить названия столбцов: все ли названия отражают содержимое данных и прописаны в удобном для работы виде.\n",
    "\n",
    "Проверка ошибок в данных и их предобработка\n",
    "Это самая объёмная и важная часть проекта. Теперь вам нужно внимательно изучить данные и провести их предобработку. Что нужно проверить:\n",
    "\n",
    "Названия, или метки, столбцов датафрейма:\n",
    "- Выведите на экран названия всех столбцов датафрейма и проверьте их стиль написания.\n",
    "- Приведите все столбцы к стилю snake case. Названия должны быть в нижнем регистре, а вместо пробелов — подчёркивания _.\n",
    "\n",
    "Типы данных:\n",
    "- Если встречаются некорректные типы данных, предположите их причины.\n",
    "- При необходимости проведите преобразование типов данных. Помните, что столбцы с числовыми данными и пропусками нельзя преобразовать к типу `int64`. Сначала вам понадобится обработать пропуски, а затем преобразовать типы данных.\n",
    "- В числовых столбцах могут встретиться строковые значения, например,unknown или другие. Приводите такие столбцы к числовому типу данных, заменив строковые значения на пропуски.\n",
    "\n",
    "Наличие пропусков в данных:\n",
    "- Посчитайте количество пропусков в каждом столбце в абсолютных и относительных значениях.\n",
    "- Изучите данные с пропущенными значениями. Напишите промежуточный вывод: для каких столбцов характерны пропуски и сколько их.\n",
    "- Предположите, почему пропуски могли возникнуть. Укажите, какие действия с этими данными можно сделать и почему.\n",
    "- Обработайтепропущенные значения. Для каждого случая вы можете выбрать оптимальный, на ваш взгляд, вариант: заменить на определённое значение, оставить как есть или удалить.\n",
    "- Если вы решите заменить пропуски на значение-индикатор, то убедитесь, что предложенное значение не может быть использовано в данных.\n",
    "- Если вы нашли пропуски в данных с количеством проданных копий игры в том или ином регионе, их можно заменить на среднее значение в зависимости от названия платформы и года выхода игры.\n",
    "\n",
    "Явные и неявные дубликаты в данных:\n",
    "- Изучите уникальные значения в категориальных данных, например с названиями жанра игры, платформы, рейтинга и года выпуска.\n",
    "- Проверьте, встречаются ли среди данных неявные дубликаты, связанные с опечатками или разным способом написания.\n",
    "- При необходимости проведите нормализацию данных с текстовыми значениями. Названия или жанры игр можно привести к нижнему регистру, а названия рейтинга — к верхнему.\n",
    "- После того как нормализуете данные и устраните неявные дубликаты, проверьте наличие явных дубликатов в данных.\n",
    "- Напишите промежуточный вывод: укажите количество найденных дубликатов и действия по их обработке.\n",
    "- В процессе подготовки данных вы могли удалять данные, например строки с пропусками или ошибками, дубликаты и прочее. В этом случае посчитайте количество удалённых строк в абсолютном и относительном значениях. После проведения предобработки данных напишите общий промежуточный вывод.\n",
    "\n",
    "Фильтрация данных\n",
    "- Коллеги хотят изучить историю продаж игр в начале XXI века, и их интересует период с 2000 по 2013 год включительно. Отберите данные по этому показателю. Сохраните новый срез данных в отдельном датафрейме, например df_actual.\n",
    "\n",
    "Категоризация данных\n",
    "- Проведите категоризацию данных:\n",
    "- Разделите все игры по оценкам пользователей и выделите такие категории: высокая оценка (от 8 до 10 включительно), средняя оценка (от 3 до 8, не включая правую границу интервала) и низкая оценка (от 0 до 3, не включая правую границу интервала).\n",
    "- Разделите все игры по оценкам критиков и выделите такие категории: высокая оценка (от 80 до 100 включительно), средняя оценка (от 30 до 80, не включая правую границу интервала) и низкая оценка (от 0 до 30, не включая правую границу интервала).\n",
    "- Выделите топ-7 платформ по количеству игр, выпущенных за весь актуальный период.\n",
    "\n",
    "В конце напишите основной вывод и отразите, какую работу проделали. Не забудьте указать описание среза данных и новых полей, которые добавили в исходный датасет.\n",
    "\n",
    "---"
   ]
  },
  {
   "cell_type": "markdown",
   "id": "6f7d21d6",
   "metadata": {
    "id": "6f7d21d6"
   },
   "source": [
    "##  Загрузка данных и знакомство с ними <a id='part1'></a>\n",
    "\n"
   ]
  },
  {
   "cell_type": "code",
   "execution_count": 1,
   "id": "ebb66dc5",
   "metadata": {
    "id": "ebb66dc5"
   },
   "outputs": [],
   "source": [
    "#загружаем библиотеку pandas для работы с данными в датафрейме\n",
    "import pandas as pd\n",
    "import numpy as np"
   ]
  },
  {
   "cell_type": "code",
   "execution_count": 2,
   "id": "ce87c1db",
   "metadata": {
    "id": "ce87c1db"
   },
   "outputs": [],
   "source": [
    "#выгружаем данные датасета\n",
    "df = pd.read_csv('https://code.s3.yandex.net//datasets/new_games.csv')"
   ]
  },
  {
   "cell_type": "code",
   "execution_count": 3,
   "id": "3937acf7",
   "metadata": {
    "id": "3937acf7"
   },
   "outputs": [
    {
     "name": "stdout",
     "output_type": "stream",
     "text": [
      "<class 'pandas.core.frame.DataFrame'>\n",
      "RangeIndex: 16956 entries, 0 to 16955\n",
      "Data columns (total 11 columns):\n",
      " #   Column           Non-Null Count  Dtype  \n",
      "---  ------           --------------  -----  \n",
      " 0   Name             16954 non-null  object \n",
      " 1   Platform         16956 non-null  object \n",
      " 2   Year of Release  16681 non-null  float64\n",
      " 3   Genre            16954 non-null  object \n",
      " 4   NA sales         16956 non-null  float64\n",
      " 5   EU sales         16956 non-null  object \n",
      " 6   JP sales         16956 non-null  object \n",
      " 7   Other sales      16956 non-null  float64\n",
      " 8   Critic Score     8242 non-null   float64\n",
      " 9   User Score       10152 non-null  object \n",
      " 10  Rating           10085 non-null  object \n",
      "dtypes: float64(4), object(7)\n",
      "memory usage: 1.4+ MB\n"
     ]
    }
   ],
   "source": [
    "#выводим основную информацию о данных в датафрейме\n",
    "df.info()"
   ]
  },
  {
   "cell_type": "code",
   "execution_count": 4,
   "id": "50fe136f",
   "metadata": {},
   "outputs": [
    {
     "data": {
      "text/html": [
       "<div>\n",
       "<style scoped>\n",
       "    .dataframe tbody tr th:only-of-type {\n",
       "        vertical-align: middle;\n",
       "    }\n",
       "\n",
       "    .dataframe tbody tr th {\n",
       "        vertical-align: top;\n",
       "    }\n",
       "\n",
       "    .dataframe thead th {\n",
       "        text-align: right;\n",
       "    }\n",
       "</style>\n",
       "<table border=\"1\" class=\"dataframe\">\n",
       "  <thead>\n",
       "    <tr style=\"text-align: right;\">\n",
       "      <th></th>\n",
       "      <th>Name</th>\n",
       "      <th>Platform</th>\n",
       "      <th>Year of Release</th>\n",
       "      <th>Genre</th>\n",
       "      <th>NA sales</th>\n",
       "      <th>EU sales</th>\n",
       "      <th>JP sales</th>\n",
       "      <th>Other sales</th>\n",
       "      <th>Critic Score</th>\n",
       "      <th>User Score</th>\n",
       "      <th>Rating</th>\n",
       "    </tr>\n",
       "  </thead>\n",
       "  <tbody>\n",
       "    <tr>\n",
       "      <th>15876</th>\n",
       "      <td>Motto NUGA-CEL!</td>\n",
       "      <td>PSP</td>\n",
       "      <td>2010.0</td>\n",
       "      <td>Adventure</td>\n",
       "      <td>0.00</td>\n",
       "      <td>0.0</td>\n",
       "      <td>0.02</td>\n",
       "      <td>0.00</td>\n",
       "      <td>NaN</td>\n",
       "      <td>NaN</td>\n",
       "      <td>NaN</td>\n",
       "    </tr>\n",
       "    <tr>\n",
       "      <th>13057</th>\n",
       "      <td>Olympic Soccer: Atlanta 1996</td>\n",
       "      <td>PS</td>\n",
       "      <td>1996.0</td>\n",
       "      <td>Sports</td>\n",
       "      <td>0.03</td>\n",
       "      <td>0.02</td>\n",
       "      <td>0.0</td>\n",
       "      <td>0.00</td>\n",
       "      <td>NaN</td>\n",
       "      <td>NaN</td>\n",
       "      <td>NaN</td>\n",
       "    </tr>\n",
       "    <tr>\n",
       "      <th>5738</th>\n",
       "      <td>Marvel Nemesis: Rise of the Imperfects</td>\n",
       "      <td>PSP</td>\n",
       "      <td>2005.0</td>\n",
       "      <td>Fighting</td>\n",
       "      <td>0.29</td>\n",
       "      <td>0.0</td>\n",
       "      <td>0.0</td>\n",
       "      <td>0.02</td>\n",
       "      <td>58.0</td>\n",
       "      <td>8.7</td>\n",
       "      <td>T</td>\n",
       "    </tr>\n",
       "    <tr>\n",
       "      <th>9189</th>\n",
       "      <td>.hack//Link</td>\n",
       "      <td>PSP</td>\n",
       "      <td>2010.0</td>\n",
       "      <td>Role-Playing</td>\n",
       "      <td>0.00</td>\n",
       "      <td>0.0</td>\n",
       "      <td>0.14</td>\n",
       "      <td>0.00</td>\n",
       "      <td>NaN</td>\n",
       "      <td>NaN</td>\n",
       "      <td>NaN</td>\n",
       "    </tr>\n",
       "    <tr>\n",
       "      <th>4741</th>\n",
       "      <td>Football Manager Handheld 2011</td>\n",
       "      <td>PSP</td>\n",
       "      <td>2010.0</td>\n",
       "      <td>Sports</td>\n",
       "      <td>0.00</td>\n",
       "      <td>0.27</td>\n",
       "      <td>0.0</td>\n",
       "      <td>0.14</td>\n",
       "      <td>77.0</td>\n",
       "      <td>7.7</td>\n",
       "      <td>E</td>\n",
       "    </tr>\n",
       "  </tbody>\n",
       "</table>\n",
       "</div>"
      ],
      "text/plain": [
       "                                         Name Platform  Year of Release  \\\n",
       "15876                         Motto NUGA-CEL!      PSP           2010.0   \n",
       "13057            Olympic Soccer: Atlanta 1996       PS           1996.0   \n",
       "5738   Marvel Nemesis: Rise of the Imperfects      PSP           2005.0   \n",
       "9189                              .hack//Link      PSP           2010.0   \n",
       "4741           Football Manager Handheld 2011      PSP           2010.0   \n",
       "\n",
       "              Genre  NA sales EU sales JP sales  Other sales  Critic Score  \\\n",
       "15876     Adventure      0.00      0.0     0.02         0.00           NaN   \n",
       "13057        Sports      0.03     0.02      0.0         0.00           NaN   \n",
       "5738       Fighting      0.29      0.0      0.0         0.02          58.0   \n",
       "9189   Role-Playing      0.00      0.0     0.14         0.00           NaN   \n",
       "4741         Sports      0.00     0.27      0.0         0.14          77.0   \n",
       "\n",
       "      User Score Rating  \n",
       "15876        NaN    NaN  \n",
       "13057        NaN    NaN  \n",
       "5738         8.7      T  \n",
       "9189         NaN    NaN  \n",
       "4741         7.7      E  "
      ]
     },
     "execution_count": 4,
     "metadata": {},
     "output_type": "execute_result"
    }
   ],
   "source": [
    "df.sample(5)"
   ]
  },
  {
   "cell_type": "markdown",
   "id": "45133a78",
   "metadata": {
    "id": "191981db"
   },
   "source": [
    "Можно увидеть, что данные соответствуют описанию. Также стоит отметить, что имеются пропуски, значительное количество пропусков находится в столбцах с оценками. Для некоторых столбцов тип данных подобран не совсем корректно,например в столбце `EU sales` находятся числовые значения, а тип данных `object`, тоже самое в столбце `JP sales`.Однако в столбце `rating` логично предположить, что тип данных должен быть `int64`, но из вывода данных видно, что в этом столбце значения представлены буквами. В столбце `year of release` также некорректно выбран тип данных, ведь тип данных `float64` немного не правильно представляет информацию о годах выпуска игр\n",
    "Названия столбцов имеют корректные названия, однако для удобства работы с ними нужно будет привести их к виду `snake case`"
   ]
  },
  {
   "cell_type": "markdown",
   "id": "774bf76e",
   "metadata": {
    "id": "774bf76e"
   },
   "source": [
    "---\n",
    "\n",
    "##   Проверка ошибок в данных и их предобработка\n",
    "\n",
    "\n",
    "###  Названия, или метки, столбцов датафрейма\n"
   ]
  },
  {
   "cell_type": "code",
   "execution_count": 5,
   "id": "b9276a2b",
   "metadata": {
    "id": "b9276a2b"
   },
   "outputs": [
    {
     "data": {
      "text/plain": [
       "Index(['Name', 'Platform', 'Year of Release', 'Genre', 'NA sales', 'EU sales',\n",
       "       'JP sales', 'Other sales', 'Critic Score', 'User Score', 'Rating'],\n",
       "      dtype='object')"
      ]
     },
     "execution_count": 5,
     "metadata": {},
     "output_type": "execute_result"
    }
   ],
   "source": [
    "#выводим на экран названия столбцов датафрейма\n",
    "df.columns"
   ]
  },
  {
   "cell_type": "markdown",
   "id": "a6736c49",
   "metadata": {
    "id": "87b573dd"
   },
   "source": [
    "Из вывода названий столбцов мы видим, что названия выполнены в стиле написания как в предложениях, кроме того, названия столбцов написаны через пробел."
   ]
  },
  {
   "cell_type": "markdown",
   "id": "f6eb26f5",
   "metadata": {},
   "source": [
    "Приведем названия столбцов к стилю snake case:"
   ]
  },
  {
   "cell_type": "code",
   "execution_count": 6,
   "id": "ab24f28c",
   "metadata": {},
   "outputs": [
    {
     "data": {
      "text/plain": [
       "Index(['name', 'platform', 'year_of_release', 'genre', 'na_sales', 'eu_sales',\n",
       "       'jp_sales', 'other_sales', 'critic_store', 'user_score', 'rating'],\n",
       "      dtype='object')"
      ]
     },
     "execution_count": 6,
     "metadata": {},
     "output_type": "execute_result"
    }
   ],
   "source": [
    "df = df.rename(columns={'Name': 'name',\n",
    "                        'Platform': 'platform',\n",
    "                        'Year of Release': 'year_of_release',\n",
    "                        'Genre': 'genre',\n",
    "                        'NA sales': 'na_sales',\n",
    "                        'EU sales': 'eu_sales',\n",
    "                        'JP sales': 'jp_sales',\n",
    "                        'Other sales': 'other_sales',\n",
    "                        'Critic Score': 'critic_store',\n",
    "                        'User Score': 'user_score',\n",
    "                        'Rating': 'rating'})\n",
    "df.columns"
   ]
  },
  {
   "cell_type": "markdown",
   "id": "41bc6bf8",
   "metadata": {
    "id": "41bc6bf8"
   },
   "source": [
    "###  Типы данных\n",
    "\n"
   ]
  },
  {
   "cell_type": "code",
   "execution_count": 7,
   "id": "37bc5a71",
   "metadata": {},
   "outputs": [
    {
     "data": {
      "text/plain": [
       "array(['28.96', '3.58', '12.76', '10.93', '8.89', '2.26', '9.14', '9.18',\n",
       "       '6.94', '0.63', '10.95', '7.47', '6.18', '8.03', '4.89', '8.49',\n",
       "       '9.09', '0.4', '3.75', '9.2', '4.46', '2.71', '3.44', '5.14',\n",
       "       '5.49', '3.9', '5.35', '3.17', '5.09', '4.24', '5.04', '5.86',\n",
       "       '3.68', '4.19', '5.73', '3.59', '4.51', '2.55', '4.02', '4.37',\n",
       "       '6.31', '3.45', '2.81', '2.85', '3.49', '0.01', '3.35', '2.04',\n",
       "       '3.07', '3.87', '3.0', '4.82', '3.64', '2.15', '3.69', '2.65',\n",
       "       '2.56', '3.11', '3.14', '1.94', '1.95', '2.47', '2.28', '3.42',\n",
       "       '3.63', '2.36', '1.71', '1.85', '2.79', '1.24', '6.12', '1.53',\n",
       "       '3.47', '2.24', '5.01', '2.01', '1.72', '2.07', '6.42', '3.86',\n",
       "       '0.45', '3.48', '1.89', '5.75', '2.17', '1.37', '2.35', '1.18',\n",
       "       '2.11', '1.88', '2.83', '2.99', '2.89', '3.27', '2.22', '2.14',\n",
       "       '1.45', '1.75', '1.04', '1.77', '3.02', '2.75', '2.16', '1.9',\n",
       "       '2.59', '2.2', '4.3', '0.93', '2.53', '2.52', '1.79', '1.3', '2.6',\n",
       "       '1.58', '1.2', '1.56', '1.34', '1.26', '0.83', '6.21', '2.8',\n",
       "       '1.59', '1.73', '4.33', '1.83', '0.0', '2.18', '1.98', '1.47',\n",
       "       '0.67', '1.55', '1.91', '0.69', '0.6', '1.93', '1.64', '0.55',\n",
       "       '2.19', '1.11', '2.29', '2.5', '0.96', '1.21', '1.12', '0.77',\n",
       "       '1.69', '1.08', '0.79', '2.37', '2.46', '0.26', '0.75', '1.25',\n",
       "       '2.43', '0.98', '0.74', '2.23', '0.61', '2.45', '1.41', '1.8',\n",
       "       '3.28', '1.16', '1.99', '1.38', '1.36', '1.17', '1.19', '0.99',\n",
       "       '1.68', '2.0', '1.33', '1.57', '1.48', '2.1', '1.27', '1.97',\n",
       "       '0.91', '1.39', '1.96', '0.24', '1.51', '0.14', '1.29', '2.39',\n",
       "       '1.03', '0.5', '0.58', '1.31', '2.02', '1.32', '1.01', '2.27',\n",
       "       '2.3', '1.82', '2.78', '0.44', '0.48', '0.27', '0.21', '2.48',\n",
       "       '0.51', '1.52', '0.04', '0.28', '1.35', '0.87', '2.13', '1.13',\n",
       "       '1.76', '0.76', '2.12', '0.66', '1.6', '1.44', '1.43', '1.7',\n",
       "       '0.47', '1.87', '0.86', '0.73', '1.28', '0.81', '1.09', '0.68',\n",
       "       '1.22', '1.4', '1.02', '1.49', '1.14', '0.49', '0.9', '0.38',\n",
       "       '1.42', '0.95', '1.62', '0.71', '1.05', '0.92', '0.33', '0.3',\n",
       "       '1.67', '1.0', '0.89', '0.1', '0.72', '0.59', '0.56', '0.16',\n",
       "       '0.97', '0.62', 'unknown', '0.85', '0.94', '0.88', '0.84', '1.06',\n",
       "       '0.2', '1.15', '0.8', '1.1', '0.7', '1.92', '0.32', '0.15', '0.53',\n",
       "       '0.09', '1.46', '0.29', '0.22', '1.23', '0.07', '0.17', '0.54',\n",
       "       '0.36', '0.31', '1.84', '0.52', '0.11', '0.64', '0.12', '2.05',\n",
       "       '1.63', '0.82', '0.08', '0.57', '1.65', '0.19', '0.02', '0.43',\n",
       "       '0.25', '1.5', '0.18', '0.39', '0.13', '1.07', '0.46', '0.41',\n",
       "       '0.06', '0.03', '0.37', '0.05', '0.23', '0.65', '0.42', '0.34',\n",
       "       '0.35', '0.78'], dtype=object)"
      ]
     },
     "execution_count": 7,
     "metadata": {},
     "output_type": "execute_result"
    }
   ],
   "source": [
    "df['eu_sales'].unique()"
   ]
  },
  {
   "cell_type": "code",
   "execution_count": 8,
   "id": "c0afc629",
   "metadata": {},
   "outputs": [
    {
     "data": {
      "text/plain": [
       "array(['3.77', '6.81', '3.79', '3.28', '10.22', '4.22', '6.5', '2.93',\n",
       "       '4.7', '0.28', '1.93', '4.13', '7.2', '3.6', '0.24', '2.53',\n",
       "       '0.98', '0.41', '3.54', '4.16', '6.04', '4.18', '3.84', '0.06',\n",
       "       '0.47', '5.38', '5.32', '5.65', '1.87', '0.13', '3.12', '0.36',\n",
       "       '0.11', '4.35', '0.65', '0.07', '0.08', '0.49', '0.3', '2.66',\n",
       "       '2.69', '0.48', '0.38', '5.33', '1.91', '3.96', '3.1', '1.1',\n",
       "       '1.2', '0.14', '2.54', '2.14', '0.81', '2.12', '0.44', '3.15',\n",
       "       '1.25', '0.04', '0.0', '2.47', '2.23', '1.69', '0.01', '3.0',\n",
       "       '0.02', '4.39', '1.98', '0.1', '3.81', '0.05', '2.49', '1.58',\n",
       "       '3.14', '2.73', '0.66', '0.22', '3.63', '1.45', '1.31', '2.43',\n",
       "       '0.7', '0.35', '1.4', '0.6', '2.26', '1.42', '1.28', '1.39',\n",
       "       '0.87', '0.17', '0.94', '0.19', '0.21', '1.6', '0.16', '1.03',\n",
       "       '0.25', '2.06', '1.49', '1.29', '0.09', '2.87', '0.03', '0.78',\n",
       "       '0.83', '2.33', '2.02', '1.36', '1.81', '1.97', '0.91', '0.99',\n",
       "       '0.95', '2.0', '1.01', '2.78', '2.11', '1.09', '0.2', '1.9',\n",
       "       '1.27', '3.61', '1.57', '2.2', '1.7', '1.08', '0.15', '1.11',\n",
       "       '0.29', '1.54', '0.12', '0.89', '4.87', '1.52', '1.32', '1.15',\n",
       "       '4.1', '1.46', '0.46', '1.05', '1.61', '0.26', '1.38', '0.62',\n",
       "       '0.73', '0.57', '0.31', '0.58', '1.76', '2.1', '0.9', '0.51',\n",
       "       '0.64', '2.46', '0.23', '0.37', '0.92', '1.07', '2.62', '1.12',\n",
       "       '0.54', '0.27', '0.59', '3.67', '0.55', '1.75', '3.44', '0.33',\n",
       "       '2.55', '2.32', '2.79', '0.74', '3.18', '0.82', '0.77', '0.4',\n",
       "       '2.35', '3.19', '0.8', '0.76', '3.03', '0.88', 'unknown', '0.45',\n",
       "       '1.16', '0.34', '1.19', '1.13', '2.13', '1.96', '0.71', '1.04',\n",
       "       '2.68', '0.68', '2.65', '0.96', '2.41', '0.52', '0.18', '1.34',\n",
       "       '1.48', '2.34', '1.06', '1.21', '2.29', '1.63', '2.05', '2.17',\n",
       "       '1.56', '1.35', '1.33', '0.63', '0.79', '0.75', '0.53', '1.53',\n",
       "       '1.3', '0.39', '0.69', '0.42', '0.93', '0.56', '0.84', '0.72',\n",
       "       '0.32', '1.71', '1.65', '0.61', '1.51', '1.5', '1.44', '1.24',\n",
       "       '1.18', '1.37', '1.0', '1.26', '0.85', '0.43', '0.67', '1.14',\n",
       "       '0.86', '1.17', '0.5', '1.02', '0.97'], dtype=object)"
      ]
     },
     "execution_count": 8,
     "metadata": {},
     "output_type": "execute_result"
    }
   ],
   "source": [
    "df['jp_sales'].unique()"
   ]
  },
  {
   "cell_type": "code",
   "execution_count": 9,
   "id": "080d1776",
   "metadata": {},
   "outputs": [
    {
     "data": {
      "text/plain": [
       "array(['8', nan, '8.3', '8.5', '6.6', '8.4', '8.6', '7.7', '6.3', '7.4',\n",
       "       '8.2', '9', '7.9', '8.1', '8.7', '7.1', '3.4', '5.3', '4.8', '3.2',\n",
       "       '8.9', '6.4', '7.8', '7.5', '2.6', '7.2', '9.2', '7', '7.3', '4.3',\n",
       "       '7.6', '5.7', '5', '9.1', '6.5', 'tbd', '8.8', '6.9', '9.4', '6.8',\n",
       "       '6.1', '6.7', '5.4', '4', '4.9', '4.5', '9.3', '6.2', '4.2', '6',\n",
       "       '3.7', '4.1', '5.8', '5.6', '5.5', '4.4', '4.6', '5.9', '3.9',\n",
       "       '3.1', '2.9', '5.2', '3.3', '4.7', '5.1', '3.5', '2.5', '1.9', '3',\n",
       "       '2.7', '2.2', '2', '9.5', '2.1', '3.6', '2.8', '1.8', '3.8', '0',\n",
       "       '1.6', '9.6', '2.4', '1.7', '1.1', '0.3', '1.5', '0.7', '1.2',\n",
       "       '2.3', '0.5', '1.3', '0.2', '0.6', '1.4', '0.9', '1', '9.7'],\n",
       "      dtype=object)"
      ]
     },
     "execution_count": 9,
     "metadata": {},
     "output_type": "execute_result"
    }
   ],
   "source": [
    "df['user_score'].unique()"
   ]
  },
  {
   "cell_type": "markdown",
   "id": "73eadf7a",
   "metadata": {},
   "source": [
    "Из уникальных значений столбцов `eu_sales`,`jp_sales`,`user_score` можно увидеть, что тип данных `object` для этих столбцов выбран не случайно. Видно, что есть строковые значения `unknown` и `tbd`, поэтому тип данных `object` достаточно логичен, однако для дальнейшего анализа будет удобнее работать с этими столбцами типа данных `float64`. Текстовые значения будут заменены на пропуски"
   ]
  },
  {
   "cell_type": "markdown",
   "id": "788f2b95",
   "metadata": {
    "id": "5033ee32"
   },
   "source": [
    "- Столбец `year_of_release` , в котором находятся значения года выпуска имеет тип данных `float64`. Лучше использовать тип данных `int64` или `datetime64`\n",
    "- Столбцы `eu_sales` и `jp_sales` имеют тип данных `object`,будем использовать `float64`\n",
    "- Столбец `user_score` имеет числовые значения, поэтому будем использовать тип данных `float64` для данного столбца\n"
   ]
  },
  {
   "cell_type": "code",
   "execution_count": 18,
   "id": "3011bbc4",
   "metadata": {},
   "outputs": [
    {
     "data": {
      "text/html": [
       "<div>\n",
       "<style scoped>\n",
       "    .dataframe tbody tr th:only-of-type {\n",
       "        vertical-align: middle;\n",
       "    }\n",
       "\n",
       "    .dataframe tbody tr th {\n",
       "        vertical-align: top;\n",
       "    }\n",
       "\n",
       "    .dataframe thead th {\n",
       "        text-align: right;\n",
       "    }\n",
       "</style>\n",
       "<table border=\"1\" class=\"dataframe\">\n",
       "  <thead>\n",
       "    <tr style=\"text-align: right;\">\n",
       "      <th></th>\n",
       "      <th>eu_sales</th>\n",
       "      <th>jp_sales</th>\n",
       "      <th>user_score</th>\n",
       "    </tr>\n",
       "  </thead>\n",
       "  <tbody>\n",
       "    <tr>\n",
       "      <th>0</th>\n",
       "      <td>28.96</td>\n",
       "      <td>3.77</td>\n",
       "      <td>8.0</td>\n",
       "    </tr>\n",
       "    <tr>\n",
       "      <th>1</th>\n",
       "      <td>3.58</td>\n",
       "      <td>6.81</td>\n",
       "      <td>NaN</td>\n",
       "    </tr>\n",
       "    <tr>\n",
       "      <th>2</th>\n",
       "      <td>12.76</td>\n",
       "      <td>3.79</td>\n",
       "      <td>8.3</td>\n",
       "    </tr>\n",
       "    <tr>\n",
       "      <th>3</th>\n",
       "      <td>10.93</td>\n",
       "      <td>3.28</td>\n",
       "      <td>8.0</td>\n",
       "    </tr>\n",
       "    <tr>\n",
       "      <th>4</th>\n",
       "      <td>8.89</td>\n",
       "      <td>10.22</td>\n",
       "      <td>NaN</td>\n",
       "    </tr>\n",
       "    <tr>\n",
       "      <th>...</th>\n",
       "      <td>...</td>\n",
       "      <td>...</td>\n",
       "      <td>...</td>\n",
       "    </tr>\n",
       "    <tr>\n",
       "      <th>16951</th>\n",
       "      <td>0.00</td>\n",
       "      <td>0.01</td>\n",
       "      <td>NaN</td>\n",
       "    </tr>\n",
       "    <tr>\n",
       "      <th>16952</th>\n",
       "      <td>0.01</td>\n",
       "      <td>0.00</td>\n",
       "      <td>NaN</td>\n",
       "    </tr>\n",
       "    <tr>\n",
       "      <th>16953</th>\n",
       "      <td>0.00</td>\n",
       "      <td>0.01</td>\n",
       "      <td>NaN</td>\n",
       "    </tr>\n",
       "    <tr>\n",
       "      <th>16954</th>\n",
       "      <td>0.00</td>\n",
       "      <td>0.00</td>\n",
       "      <td>NaN</td>\n",
       "    </tr>\n",
       "    <tr>\n",
       "      <th>16955</th>\n",
       "      <td>0.00</td>\n",
       "      <td>0.01</td>\n",
       "      <td>NaN</td>\n",
       "    </tr>\n",
       "  </tbody>\n",
       "</table>\n",
       "<p>16956 rows × 3 columns</p>\n",
       "</div>"
      ],
      "text/plain": [
       "       eu_sales  jp_sales  user_score\n",
       "0         28.96      3.77         8.0\n",
       "1          3.58      6.81         NaN\n",
       "2         12.76      3.79         8.3\n",
       "3         10.93      3.28         8.0\n",
       "4          8.89     10.22         NaN\n",
       "...         ...       ...         ...\n",
       "16951      0.00      0.01         NaN\n",
       "16952      0.01      0.00         NaN\n",
       "16953      0.00      0.01         NaN\n",
       "16954      0.00      0.00         NaN\n",
       "16955      0.00      0.01         NaN\n",
       "\n",
       "[16956 rows x 3 columns]"
      ]
     },
     "execution_count": 18,
     "metadata": {},
     "output_type": "execute_result"
    }
   ],
   "source": [
    "df[['eu_sales', 'jp_sales', 'user_score']].apply(pd.to_numeric, errors='coerce') "
   ]
  },
  {
   "cell_type": "code",
   "execution_count": 19,
   "id": "c9344643",
   "metadata": {},
   "outputs": [
    {
     "name": "stdout",
     "output_type": "stream",
     "text": [
      "<class 'pandas.core.frame.DataFrame'>\n",
      "RangeIndex: 16956 entries, 0 to 16955\n",
      "Data columns (total 11 columns):\n",
      " #   Column           Non-Null Count  Dtype  \n",
      "---  ------           --------------  -----  \n",
      " 0   name             16954 non-null  object \n",
      " 1   platform         16956 non-null  object \n",
      " 2   year_of_release  16681 non-null  float64\n",
      " 3   genre            16954 non-null  object \n",
      " 4   na_sales         16956 non-null  float64\n",
      " 5   eu_sales         16956 non-null  object \n",
      " 6   jp_sales         16956 non-null  object \n",
      " 7   other_sales      16956 non-null  float64\n",
      " 8   critic_store     8242 non-null   float64\n",
      " 9   user_score       10152 non-null  object \n",
      " 10  rating           10085 non-null  object \n",
      "dtypes: float64(4), object(7)\n",
      "memory usage: 1.4+ MB\n"
     ]
    }
   ],
   "source": [
    "df.info()"
   ]
  },
  {
   "cell_type": "code",
   "execution_count": 17,
   "id": "4814c683",
   "metadata": {},
   "outputs": [
    {
     "data": {
      "text/html": [
       "<div>\n",
       "<style scoped>\n",
       "    .dataframe tbody tr th:only-of-type {\n",
       "        vertical-align: middle;\n",
       "    }\n",
       "\n",
       "    .dataframe tbody tr th {\n",
       "        vertical-align: top;\n",
       "    }\n",
       "\n",
       "    .dataframe thead th {\n",
       "        text-align: right;\n",
       "    }\n",
       "</style>\n",
       "<table border=\"1\" class=\"dataframe\">\n",
       "  <thead>\n",
       "    <tr style=\"text-align: right;\">\n",
       "      <th></th>\n",
       "      <th>name</th>\n",
       "      <th>platform</th>\n",
       "      <th>year_of_release</th>\n",
       "      <th>genre</th>\n",
       "      <th>na_sales</th>\n",
       "      <th>eu_sales</th>\n",
       "      <th>jp_sales</th>\n",
       "      <th>other_sales</th>\n",
       "      <th>critic_store</th>\n",
       "      <th>user_score</th>\n",
       "      <th>rating</th>\n",
       "    </tr>\n",
       "  </thead>\n",
       "  <tbody>\n",
       "    <tr>\n",
       "      <th>0</th>\n",
       "      <td>Wii Sports</td>\n",
       "      <td>Wii</td>\n",
       "      <td>2006.0</td>\n",
       "      <td>Sports</td>\n",
       "      <td>41.36</td>\n",
       "      <td>28.96</td>\n",
       "      <td>3.77</td>\n",
       "      <td>8.45</td>\n",
       "      <td>76.0</td>\n",
       "      <td>8</td>\n",
       "      <td>E</td>\n",
       "    </tr>\n",
       "    <tr>\n",
       "      <th>1</th>\n",
       "      <td>Super Mario Bros.</td>\n",
       "      <td>NES</td>\n",
       "      <td>1985.0</td>\n",
       "      <td>Platform</td>\n",
       "      <td>29.08</td>\n",
       "      <td>3.58</td>\n",
       "      <td>6.81</td>\n",
       "      <td>0.77</td>\n",
       "      <td>NaN</td>\n",
       "      <td>NaN</td>\n",
       "      <td>NaN</td>\n",
       "    </tr>\n",
       "    <tr>\n",
       "      <th>2</th>\n",
       "      <td>Mario Kart Wii</td>\n",
       "      <td>Wii</td>\n",
       "      <td>2008.0</td>\n",
       "      <td>Racing</td>\n",
       "      <td>15.68</td>\n",
       "      <td>12.76</td>\n",
       "      <td>3.79</td>\n",
       "      <td>3.29</td>\n",
       "      <td>82.0</td>\n",
       "      <td>8.3</td>\n",
       "      <td>E</td>\n",
       "    </tr>\n",
       "    <tr>\n",
       "      <th>3</th>\n",
       "      <td>Wii Sports Resort</td>\n",
       "      <td>Wii</td>\n",
       "      <td>2009.0</td>\n",
       "      <td>Sports</td>\n",
       "      <td>15.61</td>\n",
       "      <td>10.93</td>\n",
       "      <td>3.28</td>\n",
       "      <td>2.95</td>\n",
       "      <td>80.0</td>\n",
       "      <td>8</td>\n",
       "      <td>E</td>\n",
       "    </tr>\n",
       "    <tr>\n",
       "      <th>4</th>\n",
       "      <td>Pokemon Red/Pokemon Blue</td>\n",
       "      <td>GB</td>\n",
       "      <td>1996.0</td>\n",
       "      <td>Role-Playing</td>\n",
       "      <td>11.27</td>\n",
       "      <td>8.89</td>\n",
       "      <td>10.22</td>\n",
       "      <td>1.00</td>\n",
       "      <td>NaN</td>\n",
       "      <td>NaN</td>\n",
       "      <td>NaN</td>\n",
       "    </tr>\n",
       "  </tbody>\n",
       "</table>\n",
       "</div>"
      ],
      "text/plain": [
       "                       name platform  year_of_release         genre  na_sales  \\\n",
       "0                Wii Sports      Wii           2006.0        Sports     41.36   \n",
       "1         Super Mario Bros.      NES           1985.0      Platform     29.08   \n",
       "2            Mario Kart Wii      Wii           2008.0        Racing     15.68   \n",
       "3         Wii Sports Resort      Wii           2009.0        Sports     15.61   \n",
       "4  Pokemon Red/Pokemon Blue       GB           1996.0  Role-Playing     11.27   \n",
       "\n",
       "  eu_sales jp_sales  other_sales  critic_store user_score rating  \n",
       "0    28.96     3.77         8.45          76.0          8      E  \n",
       "1     3.58     6.81         0.77           NaN        NaN    NaN  \n",
       "2    12.76     3.79         3.29          82.0        8.3      E  \n",
       "3    10.93     3.28         2.95          80.0          8      E  \n",
       "4     8.89    10.22         1.00           NaN        NaN    NaN  "
      ]
     },
     "execution_count": 17,
     "metadata": {},
     "output_type": "execute_result"
    }
   ],
   "source": [
    "df.head()"
   ]
  },
  {
   "cell_type": "markdown",
   "id": "00a70105",
   "metadata": {},
   "source": [
    "Я не понимаю почему все равно не преобразовался тип данных, используя твое предложение кода, поэтому попробую написать код по раздельности, сохраняя смысл твоего предложения)"
   ]
  },
  {
   "cell_type": "code",
   "execution_count": 22,
   "id": "b6d1f586",
   "metadata": {},
   "outputs": [],
   "source": [
    "df['eu_sales'] = pd.to_numeric(df['eu_sales'],errors = 'coerce')\n",
    "df['jp_sales'] = pd.to_numeric(df['jp_sales'],errors = 'coerce')\n",
    "df['user_score'] = pd.to_numeric(df['user_score'],errors = 'coerce')"
   ]
  },
  {
   "cell_type": "code",
   "execution_count": 23,
   "id": "8db98b87",
   "metadata": {},
   "outputs": [
    {
     "name": "stdout",
     "output_type": "stream",
     "text": [
      "<class 'pandas.core.frame.DataFrame'>\n",
      "RangeIndex: 16956 entries, 0 to 16955\n",
      "Data columns (total 11 columns):\n",
      " #   Column           Non-Null Count  Dtype  \n",
      "---  ------           --------------  -----  \n",
      " 0   name             16954 non-null  object \n",
      " 1   platform         16956 non-null  object \n",
      " 2   year_of_release  16681 non-null  float64\n",
      " 3   genre            16954 non-null  object \n",
      " 4   na_sales         16956 non-null  float64\n",
      " 5   eu_sales         16950 non-null  float64\n",
      " 6   jp_sales         16952 non-null  float64\n",
      " 7   other_sales      16956 non-null  float64\n",
      " 8   critic_store     8242 non-null   float64\n",
      " 9   user_score       7688 non-null   float64\n",
      " 10  rating           10085 non-null  object \n",
      "dtypes: float64(7), object(4)\n",
      "memory usage: 1.4+ MB\n"
     ]
    }
   ],
   "source": [
    "df.info()"
   ]
  },
  {
   "cell_type": "code",
   "execution_count": 24,
   "id": "8780449e",
   "metadata": {},
   "outputs": [
    {
     "data": {
      "text/html": [
       "<div>\n",
       "<style scoped>\n",
       "    .dataframe tbody tr th:only-of-type {\n",
       "        vertical-align: middle;\n",
       "    }\n",
       "\n",
       "    .dataframe tbody tr th {\n",
       "        vertical-align: top;\n",
       "    }\n",
       "\n",
       "    .dataframe thead th {\n",
       "        text-align: right;\n",
       "    }\n",
       "</style>\n",
       "<table border=\"1\" class=\"dataframe\">\n",
       "  <thead>\n",
       "    <tr style=\"text-align: right;\">\n",
       "      <th></th>\n",
       "      <th>name</th>\n",
       "      <th>platform</th>\n",
       "      <th>year_of_release</th>\n",
       "      <th>genre</th>\n",
       "      <th>na_sales</th>\n",
       "      <th>eu_sales</th>\n",
       "      <th>jp_sales</th>\n",
       "      <th>other_sales</th>\n",
       "      <th>critic_store</th>\n",
       "      <th>user_score</th>\n",
       "      <th>rating</th>\n",
       "    </tr>\n",
       "  </thead>\n",
       "  <tbody>\n",
       "    <tr>\n",
       "      <th>0</th>\n",
       "      <td>Wii Sports</td>\n",
       "      <td>Wii</td>\n",
       "      <td>2006.0</td>\n",
       "      <td>Sports</td>\n",
       "      <td>41.36</td>\n",
       "      <td>28.96</td>\n",
       "      <td>3.77</td>\n",
       "      <td>8.45</td>\n",
       "      <td>76.0</td>\n",
       "      <td>8.0</td>\n",
       "      <td>E</td>\n",
       "    </tr>\n",
       "    <tr>\n",
       "      <th>1</th>\n",
       "      <td>Super Mario Bros.</td>\n",
       "      <td>NES</td>\n",
       "      <td>1985.0</td>\n",
       "      <td>Platform</td>\n",
       "      <td>29.08</td>\n",
       "      <td>3.58</td>\n",
       "      <td>6.81</td>\n",
       "      <td>0.77</td>\n",
       "      <td>NaN</td>\n",
       "      <td>NaN</td>\n",
       "      <td>NaN</td>\n",
       "    </tr>\n",
       "    <tr>\n",
       "      <th>2</th>\n",
       "      <td>Mario Kart Wii</td>\n",
       "      <td>Wii</td>\n",
       "      <td>2008.0</td>\n",
       "      <td>Racing</td>\n",
       "      <td>15.68</td>\n",
       "      <td>12.76</td>\n",
       "      <td>3.79</td>\n",
       "      <td>3.29</td>\n",
       "      <td>82.0</td>\n",
       "      <td>8.3</td>\n",
       "      <td>E</td>\n",
       "    </tr>\n",
       "    <tr>\n",
       "      <th>3</th>\n",
       "      <td>Wii Sports Resort</td>\n",
       "      <td>Wii</td>\n",
       "      <td>2009.0</td>\n",
       "      <td>Sports</td>\n",
       "      <td>15.61</td>\n",
       "      <td>10.93</td>\n",
       "      <td>3.28</td>\n",
       "      <td>2.95</td>\n",
       "      <td>80.0</td>\n",
       "      <td>8.0</td>\n",
       "      <td>E</td>\n",
       "    </tr>\n",
       "    <tr>\n",
       "      <th>4</th>\n",
       "      <td>Pokemon Red/Pokemon Blue</td>\n",
       "      <td>GB</td>\n",
       "      <td>1996.0</td>\n",
       "      <td>Role-Playing</td>\n",
       "      <td>11.27</td>\n",
       "      <td>8.89</td>\n",
       "      <td>10.22</td>\n",
       "      <td>1.00</td>\n",
       "      <td>NaN</td>\n",
       "      <td>NaN</td>\n",
       "      <td>NaN</td>\n",
       "    </tr>\n",
       "  </tbody>\n",
       "</table>\n",
       "</div>"
      ],
      "text/plain": [
       "                       name platform  year_of_release         genre  na_sales  \\\n",
       "0                Wii Sports      Wii           2006.0        Sports     41.36   \n",
       "1         Super Mario Bros.      NES           1985.0      Platform     29.08   \n",
       "2            Mario Kart Wii      Wii           2008.0        Racing     15.68   \n",
       "3         Wii Sports Resort      Wii           2009.0        Sports     15.61   \n",
       "4  Pokemon Red/Pokemon Blue       GB           1996.0  Role-Playing     11.27   \n",
       "\n",
       "   eu_sales  jp_sales  other_sales  critic_store  user_score rating  \n",
       "0     28.96      3.77         8.45          76.0         8.0      E  \n",
       "1      3.58      6.81         0.77           NaN         NaN    NaN  \n",
       "2     12.76      3.79         3.29          82.0         8.3      E  \n",
       "3     10.93      3.28         2.95          80.0         8.0      E  \n",
       "4      8.89     10.22         1.00           NaN         NaN    NaN  "
      ]
     },
     "execution_count": 24,
     "metadata": {},
     "output_type": "execute_result"
    }
   ],
   "source": [
    "df.head()"
   ]
  },
  {
   "cell_type": "markdown",
   "id": "b39893cb",
   "metadata": {
    "id": "b39893cb"
   },
   "source": [
    "###  Наличие пропусков в данных\n",
    "\n",
    "Для начала подсчитаем количество пропусков в каждом столбце в абсолютном и относительном значениях:\n"
   ]
  },
  {
   "cell_type": "code",
   "execution_count": 25,
   "id": "0f1c91a8",
   "metadata": {
    "id": "0f1c91a8"
   },
   "outputs": [
    {
     "data": {
      "text/plain": [
       "user_score         9268\n",
       "critic_store       8714\n",
       "rating             6871\n",
       "year_of_release     275\n",
       "eu_sales              6\n",
       "jp_sales              4\n",
       "name                  2\n",
       "genre                 2\n",
       "platform              0\n",
       "na_sales              0\n",
       "other_sales           0\n",
       "dtype: int64"
      ]
     },
     "execution_count": 25,
     "metadata": {},
     "output_type": "execute_result"
    }
   ],
   "source": [
    "#подсчет количества пропусков в абсолютном значении\n",
    "df.isna().sum().sort_values(ascending = False)"
   ]
  },
  {
   "cell_type": "code",
   "execution_count": 26,
   "id": "247a6cf7",
   "metadata": {
    "id": "247a6cf7"
   },
   "outputs": [
    {
     "data": {
      "text/plain": [
       "user_score         0.546591\n",
       "critic_store       0.513918\n",
       "rating             0.405225\n",
       "year_of_release    0.016218\n",
       "eu_sales           0.000354\n",
       "jp_sales           0.000236\n",
       "name               0.000118\n",
       "genre              0.000118\n",
       "platform           0.000000\n",
       "na_sales           0.000000\n",
       "other_sales        0.000000\n",
       "dtype: float64"
      ]
     },
     "metadata": {},
     "output_type": "display_data"
    }
   ],
   "source": [
    "#подсчет доли пропусков от общего числа значений в столбце\n",
    "count_pr = df.isna().sum().sort_values(ascending = False)\n",
    "count_val = df.shape[0]\n",
    "display(count_pr/count_val)"
   ]
  },
  {
   "cell_type": "markdown",
   "id": "cf796f51",
   "metadata": {
    "id": "cf796f51"
   },
   "source": [
    "Из результатов мы видим, что в данных достаточно большое количество пропусков.\n",
    "В столбцах `user_score`, `critic_store` и `rating` процент пропусков находится около 50%. Эти пропуски для некоторых игр могут быть вызваны несколькими причинами:\n",
    "- Для новых игр может просто не быть достаточного количества отзывов от пользователей или экспертов, чтобы сформировать оценку.\n",
    "- Игры, которые не получили широкого распространения или известности, могут не иметь достаточного количества оценок, чтобы их можно было учесть.\n",
    "- Также стоит учитывать, что на некоторых платформах, таких как Steam или Metacritic, может отсутствовать система оценки, или игра могла быть выпущена на платформе, где такие оценки не ведутся.\n",
    "- Некоторые игры могут быть исключены из системы оценки по различным причинам, включая политику платформы или отсутствие достаточной информации о игре.\n",
    "\n",
    "В столбце `year_of_release` также присутствуют пропуски (1.6%), это может быть связано с тем, что:\n",
    "\n",
    "- Для некоторых игр, особенно инди-проектов или менее известных, может не быть доступной информации о дате релиза, что связано с тем, что игра была выпущена ограниченным тиражом или в рамках локального события.\n",
    "- Технические ошибки в базе данных или API, из которого собираются данные, могут привести к отсутствию информации о годе релиза.\n",
    "\n",
    "Также есть небольшое количество пропусков в столбцах `name`,`genre`. Эти пропуски могут быть связаны с какими-либо ошибками в заполнении данных.\n",
    "\n",
    "В заключении отметим наличие пропусков в столбцах `eu_sales`,`jp_sales`. Это может быть связано с тем, что игра не была выпущенна в этих странах\n",
    "\n"
   ]
  },
  {
   "cell_type": "markdown",
   "id": "43d74eb3",
   "metadata": {
    "id": "bd69e642"
   },
   "source": [
    "Далее следует решить, что делать с пропусками и нужно ли их обрабатывать:"
   ]
  },
  {
   "cell_type": "markdown",
   "id": "a1b380d2",
   "metadata": {
    "id": "b6965b19"
   },
   "source": [
    "Так как мы будем составлять срез данных и нам потребуется работать с данными столбца `year_of_release` нам потребуется обработать пропуски. Пропуски составляют 1.6 % от всего количества строк в таблице, поэтому будет целесообразно удалить все строки с пропусками в этом столбце, что впоследствии не должно повлиять на значения, которые мы получим при анализе."
   ]
  },
  {
   "cell_type": "code",
   "execution_count": 27,
   "id": "cc2d1374",
   "metadata": {
    "id": "cc2d1374"
   },
   "outputs": [],
   "source": [
    "#удаляем пропуски в столбце year_of_release\n",
    "df = df.dropna(subset = ['year_of_release'])"
   ]
  },
  {
   "cell_type": "code",
   "execution_count": 28,
   "id": "fc87a0ae",
   "metadata": {},
   "outputs": [],
   "source": [
    "#меняем тип данных для столбца year_of_release\n",
    "df['year_of_release'] = pd.to_numeric(df['year_of_release'])\n",
    "df['year_of_release'] = df['year_of_release'].astype('int64')"
   ]
  },
  {
   "cell_type": "markdown",
   "id": "71b6cb1d",
   "metadata": {},
   "source": [
    "Для столбцов с оценками пропуски оставим и не будем удалять, так как процент пропусков достаточно высок. Однако в дальнейших аналитических подсчетах будем учитывать наличие пропусков в данных этих столбцов."
   ]
  },
  {
   "cell_type": "markdown",
   "id": "c7d2809e",
   "metadata": {
    "id": "154be65d"
   },
   "source": [
    "Для столбцов с количество проданных копий игр в том или ином регионе, мы заменим пропущенное значение на среднее значение \n",
    "в зависимости от названия платформы и года выходы игры."
   ]
  },
  {
   "cell_type": "code",
   "execution_count": 29,
   "id": "3f42817b",
   "metadata": {
    "id": "3f42817b"
   },
   "outputs": [],
   "source": [
    "# заменяем пропуски в столбце eu_sales на средние значения в разрезе платформы и годы выхода игры\n",
    "def eu_sales_mean(row):\n",
    "    if pd.isna(row['eu_sales']):\n",
    "        group = df[(df['platform'] == row['platform']) & \n",
    "                   (df['year_of_release'] == row['year_of_release'])]\n",
    "        return group['eu_sales'].mean()\n",
    "    else:\n",
    "        return row['eu_sales']\n",
    "\n",
    "df['eu_sales'] = df.apply(eu_sales_mean, axis=1)"
   ]
  },
  {
   "cell_type": "code",
   "execution_count": 30,
   "id": "2784c760",
   "metadata": {
    "id": "2784c760"
   },
   "outputs": [],
   "source": [
    "# заменяем пропуски в столбце jp_sales на средние значения в разрезе платформы и годы выхода игры\n",
    "def jp_sales_mean(row):\n",
    "    if pd.isna(row['jp_sales']):\n",
    "        group = df[(df['platform'] == row['platform']) & \n",
    "                   (df['year_of_release'] == row['year_of_release'])]\n",
    "        return group['jp_sales'].mean()\n",
    "    else:\n",
    "        return row['jp_sales']\n",
    "\n",
    "df['jp_sales'] = df.apply(eu_sales_mean, axis=1)"
   ]
  },
  {
   "cell_type": "markdown",
   "id": "b82f9309",
   "metadata": {},
   "source": [
    "Пропуски в столбцах с именем и жанром стоит удалить, так как их очень мало и они совершенно незначительны и не будут вляить на результаты анализа"
   ]
  },
  {
   "cell_type": "code",
   "execution_count": 32,
   "id": "0e6a1569",
   "metadata": {},
   "outputs": [],
   "source": [
    "#удаляем пропуски в столбцах name и genre\n",
    "df = df.dropna(subset = ['name','genre'])"
   ]
  },
  {
   "cell_type": "code",
   "execution_count": 33,
   "id": "d63e7d07",
   "metadata": {},
   "outputs": [
    {
     "data": {
      "text/plain": [
       "user_score         9121\n",
       "critic_store       8594\n",
       "rating             6778\n",
       "name                  0\n",
       "platform              0\n",
       "year_of_release       0\n",
       "genre                 0\n",
       "na_sales              0\n",
       "eu_sales              0\n",
       "jp_sales              0\n",
       "other_sales           0\n",
       "dtype: int64"
      ]
     },
     "execution_count": 33,
     "metadata": {},
     "output_type": "execute_result"
    }
   ],
   "source": [
    "df.isna().sum().sort_values(ascending = False)"
   ]
  },
  {
   "cell_type": "markdown",
   "id": "a63363fd",
   "metadata": {
    "id": "a63363fd"
   },
   "source": [
    "###  Явные и неявные дубликаты в данных\n"
   ]
  },
  {
   "cell_type": "markdown",
   "id": "13040f42",
   "metadata": {},
   "source": [
    "Проверка неявных дубликатов:"
   ]
  },
  {
   "cell_type": "code",
   "execution_count": 34,
   "id": "491c9c39",
   "metadata": {
    "id": "491c9c39"
   },
   "outputs": [
    {
     "data": {
      "text/plain": [
       "Action          3341\n",
       "Sports          2325\n",
       "Misc            1740\n",
       "Role-Playing    1493\n",
       "Shooter         1314\n",
       "Adventure       1309\n",
       "Racing          1244\n",
       "Platform         891\n",
       "Simulation       866\n",
       "Fighting         844\n",
       "Strategy         679\n",
       "Puzzle           577\n",
       "ACTION            12\n",
       "SPORTS             7\n",
       "ROLE-PLAYING       6\n",
       "RACING             6\n",
       "FIGHTING           6\n",
       "SHOOTER            5\n",
       "ADVENTURE          4\n",
       "PLATFORM           3\n",
       "MISC               3\n",
       "PUZZLE             2\n",
       "SIMULATION         1\n",
       "STRATEGY           1\n",
       "Name: genre, dtype: int64"
      ]
     },
     "execution_count": 34,
     "metadata": {},
     "output_type": "execute_result"
    }
   ],
   "source": [
    "df['genre'].value_counts()"
   ]
  },
  {
   "cell_type": "markdown",
   "id": "73d2983c",
   "metadata": {
    "id": "f1627198"
   },
   "source": [
    "Из распределения значений в столбце `genre` можно увидеть, что одинаковые названия написаны по разному, что приводит к дубликатам."
   ]
  },
  {
   "cell_type": "code",
   "execution_count": 35,
   "id": "a0cac80c",
   "metadata": {
    "id": "a0cac80c"
   },
   "outputs": [],
   "source": [
    "#приведем все значения столбца genre к нижнему регистру\n",
    "df['genre']= df['genre'].str.lower()"
   ]
  },
  {
   "cell_type": "code",
   "execution_count": 36,
   "id": "cdee5b47",
   "metadata": {},
   "outputs": [
    {
     "data": {
      "text/plain": [
       "action          3353\n",
       "sports          2332\n",
       "misc            1743\n",
       "role-playing    1499\n",
       "shooter         1319\n",
       "adventure       1313\n",
       "racing          1250\n",
       "platform         894\n",
       "simulation       867\n",
       "fighting         850\n",
       "strategy         680\n",
       "puzzle           579\n",
       "Name: genre, dtype: int64"
      ]
     },
     "execution_count": 36,
     "metadata": {},
     "output_type": "execute_result"
    }
   ],
   "source": [
    "df['genre'].value_counts()"
   ]
  },
  {
   "cell_type": "markdown",
   "id": "44255c62",
   "metadata": {},
   "source": [
    "Мы привели значения столбца `genre` к нижнему регистру, тем самым убрали дублирующие значения"
   ]
  },
  {
   "cell_type": "markdown",
   "id": "3b192464",
   "metadata": {
    "id": "2f61e076"
   },
   "source": [
    "Далее рассмотрим столбец `platform` на наличие дублирующих значений:"
   ]
  },
  {
   "cell_type": "code",
   "execution_count": 37,
   "id": "29e57705",
   "metadata": {
    "id": "29e57705"
   },
   "outputs": [
    {
     "data": {
      "text/plain": [
       "PS2     2154\n",
       "DS      2147\n",
       "PS3     1330\n",
       "Wii     1305\n",
       "X360    1249\n",
       "PSP     1212\n",
       "PS      1208\n",
       "PC       972\n",
       "GBA      826\n",
       "XB       818\n",
       "GC       549\n",
       "3DS      522\n",
       "PSV      434\n",
       "PS4      395\n",
       "N64      320\n",
       "XOne     251\n",
       "SNES     241\n",
       "SAT      174\n",
       "WiiU     147\n",
       "2600     118\n",
       "NES      100\n",
       "GB        97\n",
       "DC        52\n",
       "GEN       27\n",
       "NG        12\n",
       "SCD        6\n",
       "WS         6\n",
       "3DO        3\n",
       "TG16       2\n",
       "GG         1\n",
       "PCFX       1\n",
       "Name: platform, dtype: int64"
      ]
     },
     "execution_count": 37,
     "metadata": {},
     "output_type": "execute_result"
    }
   ],
   "source": [
    "df['platform'].value_counts()"
   ]
  },
  {
   "cell_type": "markdown",
   "id": "1f826153",
   "metadata": {
    "id": "8548f894"
   },
   "source": [
    "Дублирующих значений в этом столбце не обнаружено"
   ]
  },
  {
   "cell_type": "markdown",
   "id": "a376596a",
   "metadata": {
    "id": "327e55bb"
   },
   "source": [
    "Проведем нормализацию данных. Для этого столбец `name` приведем к нижнему регистру, а столбец`rating` к верхнему."
   ]
  },
  {
   "cell_type": "code",
   "execution_count": 38,
   "id": "0814c721",
   "metadata": {
    "id": "0814c721"
   },
   "outputs": [
    {
     "data": {
      "text/plain": [
       "0          E\n",
       "1        NaN\n",
       "2          E\n",
       "3          E\n",
       "4        NaN\n",
       "        ... \n",
       "16951    NaN\n",
       "16952    NaN\n",
       "16953    NaN\n",
       "16954    NaN\n",
       "16955    NaN\n",
       "Name: rating, Length: 16679, dtype: object"
      ]
     },
     "execution_count": 38,
     "metadata": {},
     "output_type": "execute_result"
    }
   ],
   "source": [
    "#приводим столбец rating к верхнему регистру\n",
    "df['rating'].str.upper()"
   ]
  },
  {
   "cell_type": "code",
   "execution_count": 39,
   "id": "971181b2",
   "metadata": {},
   "outputs": [
    {
     "data": {
      "text/plain": [
       "0                           wii sports\n",
       "1                    super mario bros.\n",
       "2                       mario kart wii\n",
       "3                    wii sports resort\n",
       "4             pokemon red/pokemon blue\n",
       "                     ...              \n",
       "16951    samurai warriors: sanada maru\n",
       "16952                 lma manager 2007\n",
       "16953          haitaka no psychedelica\n",
       "16954                 spirits & spells\n",
       "16955              winning post 8 2016\n",
       "Name: name, Length: 16679, dtype: object"
      ]
     },
     "execution_count": 39,
     "metadata": {},
     "output_type": "execute_result"
    }
   ],
   "source": [
    "#приводим столбец name к нижнему регистру\n",
    "df['name'].str.lower()"
   ]
  },
  {
   "cell_type": "markdown",
   "id": "cf891c26",
   "metadata": {
    "id": "f9d8ee19"
   },
   "source": [
    "Далее проверим наличие явных дубликатов"
   ]
  },
  {
   "cell_type": "code",
   "execution_count": 40,
   "id": "3d7a9d8e",
   "metadata": {
    "id": "3d7a9d8e"
   },
   "outputs": [
    {
     "data": {
      "text/plain": [
       "'Количество явных дубликатов составляет:235'"
      ]
     },
     "metadata": {},
     "output_type": "display_data"
    }
   ],
   "source": [
    "#проверяем количество явных дубликатов\n",
    "count_duplicated = df.duplicated().sum()\n",
    "display(f\"Количество явных дубликатов составляет:{count_duplicated}\")"
   ]
  },
  {
   "cell_type": "markdown",
   "id": "6ca6f42c",
   "metadata": {
    "id": "1e48a7ce"
   },
   "source": [
    "Проведем очистку данных от явных дубликатов:"
   ]
  },
  {
   "cell_type": "code",
   "execution_count": 41,
   "id": "5166fdf8",
   "metadata": {
    "id": "5166fdf8"
   },
   "outputs": [
    {
     "data": {
      "text/plain": [
       "'Количество строк до удаления дубликатов: 16679'"
      ]
     },
     "metadata": {},
     "output_type": "display_data"
    },
    {
     "data": {
      "text/plain": [
       "'Количество строк после удаления дубликатов: 16444'"
      ]
     },
     "metadata": {},
     "output_type": "display_data"
    }
   ],
   "source": [
    "# Сохраняем количество строк до удаления дубликатов\n",
    "initial_row_count = df.shape[0]\n",
    "\n",
    "# Сортируем датафрейм по всем столбцам\n",
    "df_sorted = df.sort_values(by=list(df.columns))\n",
    "\n",
    "# Удаляем дубликаты\n",
    "df_no_duplicates = df_sorted.drop_duplicates()\n",
    "\n",
    "# Сохраняем количество строк после удаления дубликатов\n",
    "final_row_count = df_no_duplicates.shape[0]\n",
    "\n",
    "# Выводим результаты\n",
    "display(f\"Количество строк до удаления дубликатов: {initial_row_count}\")\n",
    "display(f\"Количество строк после удаления дубликатов: {final_row_count}\")"
   ]
  },
  {
   "cell_type": "markdown",
   "id": "57d68060",
   "metadata": {
    "id": "12a69dba"
   },
   "source": [
    "В результате предобработки данных было удалено 514 строк, что составляет примерно 3.03% от общего числа строк в изначальном наборе данных. Это включает 275 пропусков в столбце `year_of_release`, 4 пропуска в столбцах `name` и `genre`, а также 235 явных дубликатов. После этих преобразований размер датафрейма уменьшился с 16956 до 16444 строк."
   ]
  },
  {
   "cell_type": "markdown",
   "id": "613f0eb0",
   "metadata": {
    "id": "613f0eb0"
   },
   "source": [
    "---\n",
    "\n",
    "##  Фильтрация данных\n",
    "\n",
    "Коллеги хотят изучить историю продаж игр в начале XXI века, и их интересует период с 2000 по 2013 год включительно. Отберите данные по этому показателю. Сохраните новый срез данных в отдельном датафрейме, например `df_actual`."
   ]
  },
  {
   "cell_type": "code",
   "execution_count": 42,
   "id": "2344916d",
   "metadata": {
    "id": "2344916d"
   },
   "outputs": [
    {
     "name": "stdout",
     "output_type": "stream",
     "text": [
      "<class 'pandas.core.frame.DataFrame'>\n",
      "Int64Index: 12980 entries, 0 to 16954\n",
      "Data columns (total 11 columns):\n",
      " #   Column           Non-Null Count  Dtype  \n",
      "---  ------           --------------  -----  \n",
      " 0   name             12980 non-null  object \n",
      " 1   platform         12980 non-null  object \n",
      " 2   year_of_release  12980 non-null  int64  \n",
      " 3   genre            12980 non-null  object \n",
      " 4   na_sales         12980 non-null  float64\n",
      " 5   eu_sales         12980 non-null  float64\n",
      " 6   jp_sales         12980 non-null  float64\n",
      " 7   other_sales      12980 non-null  float64\n",
      " 8   critic_store     7267 non-null   float64\n",
      " 9   user_score       6572 non-null   float64\n",
      " 10  rating           8847 non-null   object \n",
      "dtypes: float64(6), int64(1), object(4)\n",
      "memory usage: 1.2+ MB\n"
     ]
    },
    {
     "data": {
      "text/plain": [
       "None"
      ]
     },
     "metadata": {},
     "output_type": "display_data"
    },
    {
     "data": {
      "text/html": [
       "<div>\n",
       "<style scoped>\n",
       "    .dataframe tbody tr th:only-of-type {\n",
       "        vertical-align: middle;\n",
       "    }\n",
       "\n",
       "    .dataframe tbody tr th {\n",
       "        vertical-align: top;\n",
       "    }\n",
       "\n",
       "    .dataframe thead th {\n",
       "        text-align: right;\n",
       "    }\n",
       "</style>\n",
       "<table border=\"1\" class=\"dataframe\">\n",
       "  <thead>\n",
       "    <tr style=\"text-align: right;\">\n",
       "      <th></th>\n",
       "      <th>name</th>\n",
       "      <th>platform</th>\n",
       "      <th>year_of_release</th>\n",
       "      <th>genre</th>\n",
       "      <th>na_sales</th>\n",
       "      <th>eu_sales</th>\n",
       "      <th>jp_sales</th>\n",
       "      <th>other_sales</th>\n",
       "      <th>critic_store</th>\n",
       "      <th>user_score</th>\n",
       "      <th>rating</th>\n",
       "    </tr>\n",
       "  </thead>\n",
       "  <tbody>\n",
       "    <tr>\n",
       "      <th>0</th>\n",
       "      <td>Wii Sports</td>\n",
       "      <td>Wii</td>\n",
       "      <td>2006</td>\n",
       "      <td>sports</td>\n",
       "      <td>41.36</td>\n",
       "      <td>28.96</td>\n",
       "      <td>28.96</td>\n",
       "      <td>8.45</td>\n",
       "      <td>76.0</td>\n",
       "      <td>8.0</td>\n",
       "      <td>E</td>\n",
       "    </tr>\n",
       "    <tr>\n",
       "      <th>2</th>\n",
       "      <td>Mario Kart Wii</td>\n",
       "      <td>Wii</td>\n",
       "      <td>2008</td>\n",
       "      <td>racing</td>\n",
       "      <td>15.68</td>\n",
       "      <td>12.76</td>\n",
       "      <td>12.76</td>\n",
       "      <td>3.29</td>\n",
       "      <td>82.0</td>\n",
       "      <td>8.3</td>\n",
       "      <td>E</td>\n",
       "    </tr>\n",
       "    <tr>\n",
       "      <th>3</th>\n",
       "      <td>Wii Sports Resort</td>\n",
       "      <td>Wii</td>\n",
       "      <td>2009</td>\n",
       "      <td>sports</td>\n",
       "      <td>15.61</td>\n",
       "      <td>10.93</td>\n",
       "      <td>10.93</td>\n",
       "      <td>2.95</td>\n",
       "      <td>80.0</td>\n",
       "      <td>8.0</td>\n",
       "      <td>E</td>\n",
       "    </tr>\n",
       "    <tr>\n",
       "      <th>6</th>\n",
       "      <td>New Super Mario Bros.</td>\n",
       "      <td>DS</td>\n",
       "      <td>2006</td>\n",
       "      <td>platform</td>\n",
       "      <td>11.28</td>\n",
       "      <td>9.14</td>\n",
       "      <td>9.14</td>\n",
       "      <td>2.88</td>\n",
       "      <td>89.0</td>\n",
       "      <td>8.5</td>\n",
       "      <td>E</td>\n",
       "    </tr>\n",
       "    <tr>\n",
       "      <th>7</th>\n",
       "      <td>Wii Play</td>\n",
       "      <td>Wii</td>\n",
       "      <td>2006</td>\n",
       "      <td>misc</td>\n",
       "      <td>13.96</td>\n",
       "      <td>9.18</td>\n",
       "      <td>9.18</td>\n",
       "      <td>2.84</td>\n",
       "      <td>58.0</td>\n",
       "      <td>6.6</td>\n",
       "      <td>E</td>\n",
       "    </tr>\n",
       "  </tbody>\n",
       "</table>\n",
       "</div>"
      ],
      "text/plain": [
       "                    name platform  year_of_release     genre  na_sales  \\\n",
       "0             Wii Sports      Wii             2006    sports     41.36   \n",
       "2         Mario Kart Wii      Wii             2008    racing     15.68   \n",
       "3      Wii Sports Resort      Wii             2009    sports     15.61   \n",
       "6  New Super Mario Bros.       DS             2006  platform     11.28   \n",
       "7               Wii Play      Wii             2006      misc     13.96   \n",
       "\n",
       "   eu_sales  jp_sales  other_sales  critic_store  user_score rating  \n",
       "0     28.96     28.96         8.45          76.0         8.0      E  \n",
       "2     12.76     12.76         3.29          82.0         8.3      E  \n",
       "3     10.93     10.93         2.95          80.0         8.0      E  \n",
       "6      9.14      9.14         2.88          89.0         8.5      E  \n",
       "7      9.18      9.18         2.84          58.0         6.6      E  "
      ]
     },
     "metadata": {},
     "output_type": "display_data"
    }
   ],
   "source": [
    "#создаем срез на основе предпочтений коллег\n",
    "df_actual = df[(df['year_of_release'] >= 2000) & (df['year_of_release'] <= 2013)].copy()\n",
    "display(df_actual.info())\n",
    "display(df_actual.head())"
   ]
  },
  {
   "cell_type": "markdown",
   "id": "a6f10b01",
   "metadata": {
    "id": "a6f10b01"
   },
   "source": [
    "---\n",
    "\n",
    "##  Категоризация данных\n",
    "    \n"
   ]
  },
  {
   "cell_type": "markdown",
   "id": "1238c03b",
   "metadata": {
    "id": "3db87229"
   },
   "source": [
    "Разделим все игры по оценкам пользователей на категории: высокая оценка (от 8 до 10 включительно), средняя оценка (от 3 до 8, не включая правую границу интервала) и низкая оценка (от 0 до 3, не включая правую границу интервала)."
   ]
  },
  {
   "cell_type": "code",
   "execution_count": 43,
   "id": "9b0ca0f2",
   "metadata": {
    "id": "9b0ca0f2"
   },
   "outputs": [
    {
     "data": {
      "text/html": [
       "<div>\n",
       "<style scoped>\n",
       "    .dataframe tbody tr th:only-of-type {\n",
       "        vertical-align: middle;\n",
       "    }\n",
       "\n",
       "    .dataframe tbody tr th {\n",
       "        vertical-align: top;\n",
       "    }\n",
       "\n",
       "    .dataframe thead th {\n",
       "        text-align: right;\n",
       "    }\n",
       "</style>\n",
       "<table border=\"1\" class=\"dataframe\">\n",
       "  <thead>\n",
       "    <tr style=\"text-align: right;\">\n",
       "      <th></th>\n",
       "      <th>name</th>\n",
       "      <th>platform</th>\n",
       "      <th>year_of_release</th>\n",
       "      <th>genre</th>\n",
       "      <th>na_sales</th>\n",
       "      <th>eu_sales</th>\n",
       "      <th>jp_sales</th>\n",
       "      <th>other_sales</th>\n",
       "      <th>critic_store</th>\n",
       "      <th>user_score</th>\n",
       "      <th>rating</th>\n",
       "      <th>user_score_category</th>\n",
       "    </tr>\n",
       "  </thead>\n",
       "  <tbody>\n",
       "    <tr>\n",
       "      <th>0</th>\n",
       "      <td>Wii Sports</td>\n",
       "      <td>Wii</td>\n",
       "      <td>2006</td>\n",
       "      <td>sports</td>\n",
       "      <td>41.36</td>\n",
       "      <td>28.96</td>\n",
       "      <td>28.96</td>\n",
       "      <td>8.45</td>\n",
       "      <td>76.0</td>\n",
       "      <td>8.0</td>\n",
       "      <td>E</td>\n",
       "      <td>высокая оценка</td>\n",
       "    </tr>\n",
       "    <tr>\n",
       "      <th>2</th>\n",
       "      <td>Mario Kart Wii</td>\n",
       "      <td>Wii</td>\n",
       "      <td>2008</td>\n",
       "      <td>racing</td>\n",
       "      <td>15.68</td>\n",
       "      <td>12.76</td>\n",
       "      <td>12.76</td>\n",
       "      <td>3.29</td>\n",
       "      <td>82.0</td>\n",
       "      <td>8.3</td>\n",
       "      <td>E</td>\n",
       "      <td>высокая оценка</td>\n",
       "    </tr>\n",
       "    <tr>\n",
       "      <th>3</th>\n",
       "      <td>Wii Sports Resort</td>\n",
       "      <td>Wii</td>\n",
       "      <td>2009</td>\n",
       "      <td>sports</td>\n",
       "      <td>15.61</td>\n",
       "      <td>10.93</td>\n",
       "      <td>10.93</td>\n",
       "      <td>2.95</td>\n",
       "      <td>80.0</td>\n",
       "      <td>8.0</td>\n",
       "      <td>E</td>\n",
       "      <td>высокая оценка</td>\n",
       "    </tr>\n",
       "    <tr>\n",
       "      <th>6</th>\n",
       "      <td>New Super Mario Bros.</td>\n",
       "      <td>DS</td>\n",
       "      <td>2006</td>\n",
       "      <td>platform</td>\n",
       "      <td>11.28</td>\n",
       "      <td>9.14</td>\n",
       "      <td>9.14</td>\n",
       "      <td>2.88</td>\n",
       "      <td>89.0</td>\n",
       "      <td>8.5</td>\n",
       "      <td>E</td>\n",
       "      <td>высокая оценка</td>\n",
       "    </tr>\n",
       "    <tr>\n",
       "      <th>7</th>\n",
       "      <td>Wii Play</td>\n",
       "      <td>Wii</td>\n",
       "      <td>2006</td>\n",
       "      <td>misc</td>\n",
       "      <td>13.96</td>\n",
       "      <td>9.18</td>\n",
       "      <td>9.18</td>\n",
       "      <td>2.84</td>\n",
       "      <td>58.0</td>\n",
       "      <td>6.6</td>\n",
       "      <td>E</td>\n",
       "      <td>средняя оценка</td>\n",
       "    </tr>\n",
       "  </tbody>\n",
       "</table>\n",
       "</div>"
      ],
      "text/plain": [
       "                    name platform  year_of_release     genre  na_sales  \\\n",
       "0             Wii Sports      Wii             2006    sports     41.36   \n",
       "2         Mario Kart Wii      Wii             2008    racing     15.68   \n",
       "3      Wii Sports Resort      Wii             2009    sports     15.61   \n",
       "6  New Super Mario Bros.       DS             2006  platform     11.28   \n",
       "7               Wii Play      Wii             2006      misc     13.96   \n",
       "\n",
       "   eu_sales  jp_sales  other_sales  critic_store  user_score rating  \\\n",
       "0     28.96     28.96         8.45          76.0         8.0      E   \n",
       "2     12.76     12.76         3.29          82.0         8.3      E   \n",
       "3     10.93     10.93         2.95          80.0         8.0      E   \n",
       "6      9.14      9.14         2.88          89.0         8.5      E   \n",
       "7      9.18      9.18         2.84          58.0         6.6      E   \n",
       "\n",
       "  user_score_category  \n",
       "0      высокая оценка  \n",
       "2      высокая оценка  \n",
       "3      высокая оценка  \n",
       "6      высокая оценка  \n",
       "7      средняя оценка  "
      ]
     },
     "metadata": {},
     "output_type": "display_data"
    }
   ],
   "source": [
    "# с помощью функции разделяем оценки пользователей  по категориям\n",
    "def category_of_user_rat(row):\n",
    "    if row['user_score'] >= 8 and row['user_score'] <= 10:\n",
    "        return \"высокая оценка\"\n",
    "    elif row['user_score'] >= 3 and row['user_score'] < 8:\n",
    "        return \"средняя оценка\"\n",
    "    elif row['user_score'] >= 0 and row['user_score'] < 3:\n",
    "        return \"низкая оценка\"\n",
    "    else:\n",
    "        return \"нет оценки\"\n",
    "df_actual['user_score_category'] =df_actual.apply(category_of_user_rat,axis = 1)\n",
    "display(df_actual.head())"
   ]
  },
  {
   "cell_type": "markdown",
   "id": "f8f34b40",
   "metadata": {
    "id": "f8f34b40"
   },
   "source": [
    "Разделим все игры по оценкам критиков и выделите такие категории: высокая оценка (от 80 до 100 включительно), средняя оценка (от 30 до 80, не включая правую границу интервала) и низкая оценка (от 0 до 30, не включая правую границу интервала)."
   ]
  },
  {
   "cell_type": "code",
   "execution_count": 44,
   "id": "e3f7acb0",
   "metadata": {
    "id": "e3f7acb0"
   },
   "outputs": [
    {
     "data": {
      "text/html": [
       "<div>\n",
       "<style scoped>\n",
       "    .dataframe tbody tr th:only-of-type {\n",
       "        vertical-align: middle;\n",
       "    }\n",
       "\n",
       "    .dataframe tbody tr th {\n",
       "        vertical-align: top;\n",
       "    }\n",
       "\n",
       "    .dataframe thead th {\n",
       "        text-align: right;\n",
       "    }\n",
       "</style>\n",
       "<table border=\"1\" class=\"dataframe\">\n",
       "  <thead>\n",
       "    <tr style=\"text-align: right;\">\n",
       "      <th></th>\n",
       "      <th>name</th>\n",
       "      <th>platform</th>\n",
       "      <th>year_of_release</th>\n",
       "      <th>genre</th>\n",
       "      <th>na_sales</th>\n",
       "      <th>eu_sales</th>\n",
       "      <th>jp_sales</th>\n",
       "      <th>other_sales</th>\n",
       "      <th>critic_store</th>\n",
       "      <th>user_score</th>\n",
       "      <th>rating</th>\n",
       "      <th>user_score_category</th>\n",
       "      <th>critic_store_category</th>\n",
       "    </tr>\n",
       "  </thead>\n",
       "  <tbody>\n",
       "    <tr>\n",
       "      <th>0</th>\n",
       "      <td>Wii Sports</td>\n",
       "      <td>Wii</td>\n",
       "      <td>2006</td>\n",
       "      <td>sports</td>\n",
       "      <td>41.36</td>\n",
       "      <td>28.96</td>\n",
       "      <td>28.96</td>\n",
       "      <td>8.45</td>\n",
       "      <td>76.0</td>\n",
       "      <td>8.0</td>\n",
       "      <td>E</td>\n",
       "      <td>высокая оценка</td>\n",
       "      <td>средняя оценка</td>\n",
       "    </tr>\n",
       "    <tr>\n",
       "      <th>2</th>\n",
       "      <td>Mario Kart Wii</td>\n",
       "      <td>Wii</td>\n",
       "      <td>2008</td>\n",
       "      <td>racing</td>\n",
       "      <td>15.68</td>\n",
       "      <td>12.76</td>\n",
       "      <td>12.76</td>\n",
       "      <td>3.29</td>\n",
       "      <td>82.0</td>\n",
       "      <td>8.3</td>\n",
       "      <td>E</td>\n",
       "      <td>высокая оценка</td>\n",
       "      <td>высокая оценка</td>\n",
       "    </tr>\n",
       "    <tr>\n",
       "      <th>3</th>\n",
       "      <td>Wii Sports Resort</td>\n",
       "      <td>Wii</td>\n",
       "      <td>2009</td>\n",
       "      <td>sports</td>\n",
       "      <td>15.61</td>\n",
       "      <td>10.93</td>\n",
       "      <td>10.93</td>\n",
       "      <td>2.95</td>\n",
       "      <td>80.0</td>\n",
       "      <td>8.0</td>\n",
       "      <td>E</td>\n",
       "      <td>высокая оценка</td>\n",
       "      <td>высокая оценка</td>\n",
       "    </tr>\n",
       "    <tr>\n",
       "      <th>6</th>\n",
       "      <td>New Super Mario Bros.</td>\n",
       "      <td>DS</td>\n",
       "      <td>2006</td>\n",
       "      <td>platform</td>\n",
       "      <td>11.28</td>\n",
       "      <td>9.14</td>\n",
       "      <td>9.14</td>\n",
       "      <td>2.88</td>\n",
       "      <td>89.0</td>\n",
       "      <td>8.5</td>\n",
       "      <td>E</td>\n",
       "      <td>высокая оценка</td>\n",
       "      <td>высокая оценка</td>\n",
       "    </tr>\n",
       "    <tr>\n",
       "      <th>7</th>\n",
       "      <td>Wii Play</td>\n",
       "      <td>Wii</td>\n",
       "      <td>2006</td>\n",
       "      <td>misc</td>\n",
       "      <td>13.96</td>\n",
       "      <td>9.18</td>\n",
       "      <td>9.18</td>\n",
       "      <td>2.84</td>\n",
       "      <td>58.0</td>\n",
       "      <td>6.6</td>\n",
       "      <td>E</td>\n",
       "      <td>средняя оценка</td>\n",
       "      <td>средняя оценка</td>\n",
       "    </tr>\n",
       "  </tbody>\n",
       "</table>\n",
       "</div>"
      ],
      "text/plain": [
       "                    name platform  year_of_release     genre  na_sales  \\\n",
       "0             Wii Sports      Wii             2006    sports     41.36   \n",
       "2         Mario Kart Wii      Wii             2008    racing     15.68   \n",
       "3      Wii Sports Resort      Wii             2009    sports     15.61   \n",
       "6  New Super Mario Bros.       DS             2006  platform     11.28   \n",
       "7               Wii Play      Wii             2006      misc     13.96   \n",
       "\n",
       "   eu_sales  jp_sales  other_sales  critic_store  user_score rating  \\\n",
       "0     28.96     28.96         8.45          76.0         8.0      E   \n",
       "2     12.76     12.76         3.29          82.0         8.3      E   \n",
       "3     10.93     10.93         2.95          80.0         8.0      E   \n",
       "6      9.14      9.14         2.88          89.0         8.5      E   \n",
       "7      9.18      9.18         2.84          58.0         6.6      E   \n",
       "\n",
       "  user_score_category critic_store_category  \n",
       "0      высокая оценка        средняя оценка  \n",
       "2      высокая оценка        высокая оценка  \n",
       "3      высокая оценка        высокая оценка  \n",
       "6      высокая оценка        высокая оценка  \n",
       "7      средняя оценка        средняя оценка  "
      ]
     },
     "metadata": {},
     "output_type": "display_data"
    }
   ],
   "source": [
    "# с помощью функции разделяем оценки критиков по категориям\n",
    "def category_of_critic_rat(row):\n",
    "    if row['critic_store'] >= 80 and row['critic_store'] <= 100:\n",
    "        return \"высокая оценка\"\n",
    "    elif row['critic_store'] >= 30 and row['critic_store'] < 80:\n",
    "        return \"средняя оценка\"\n",
    "    elif row['critic_store'] >= 0 and row['critic_store'] < 30:\n",
    "        return \"низкая оценка\"\n",
    "    else:\n",
    "        return \"нет оценки\"\n",
    "df_actual['critic_store_category'] =df_actual.apply(category_of_critic_rat,axis = 1)\n",
    "display(df_actual.head())"
   ]
  },
  {
   "cell_type": "markdown",
   "id": "olkTlTlAUDR9",
   "metadata": {
    "id": "olkTlTlAUDR9"
   },
   "source": [
    "После категоризации данных проверяем результат, сгруппировав данные по выделенным категориям и посчитав количество игр в каждой категории."
   ]
  },
  {
   "cell_type": "code",
   "execution_count": 45,
   "id": "HW0Nsp-4UMSL",
   "metadata": {
    "id": "HW0Nsp-4UMSL"
   },
   "outputs": [
    {
     "data": {
      "text/html": [
       "<div>\n",
       "<style scoped>\n",
       "    .dataframe tbody tr th:only-of-type {\n",
       "        vertical-align: middle;\n",
       "    }\n",
       "\n",
       "    .dataframe tbody tr th {\n",
       "        vertical-align: top;\n",
       "    }\n",
       "\n",
       "    .dataframe thead th {\n",
       "        text-align: right;\n",
       "    }\n",
       "</style>\n",
       "<table border=\"1\" class=\"dataframe\">\n",
       "  <thead>\n",
       "    <tr style=\"text-align: right;\">\n",
       "      <th></th>\n",
       "      <th>user_score_category</th>\n",
       "      <th>name</th>\n",
       "    </tr>\n",
       "  </thead>\n",
       "  <tbody>\n",
       "    <tr>\n",
       "      <th>0</th>\n",
       "      <td>высокая оценка</td>\n",
       "      <td>2307</td>\n",
       "    </tr>\n",
       "    <tr>\n",
       "      <th>1</th>\n",
       "      <td>нет оценки</td>\n",
       "      <td>6408</td>\n",
       "    </tr>\n",
       "    <tr>\n",
       "      <th>2</th>\n",
       "      <td>низкая оценка</td>\n",
       "      <td>117</td>\n",
       "    </tr>\n",
       "    <tr>\n",
       "      <th>3</th>\n",
       "      <td>средняя оценка</td>\n",
       "      <td>4148</td>\n",
       "    </tr>\n",
       "  </tbody>\n",
       "</table>\n",
       "</div>"
      ],
      "text/plain": [
       "  user_score_category  name\n",
       "0      высокая оценка  2307\n",
       "1          нет оценки  6408\n",
       "2       низкая оценка   117\n",
       "3      средняя оценка  4148"
      ]
     },
     "execution_count": 45,
     "metadata": {},
     "output_type": "execute_result"
    }
   ],
   "source": [
    "# с помощью метода groupby() проводим группировку категорий оценок пользователей,\n",
    "# используя агрегирующую функцию на подсчет количество игр\n",
    "df_actual.groupby(('user_score_category'),as_index=False)['name'].count()"
   ]
  },
  {
   "cell_type": "code",
   "execution_count": 46,
   "id": "x2ne0HIpUMMD",
   "metadata": {
    "id": "x2ne0HIpUMMD"
   },
   "outputs": [
    {
     "data": {
      "text/html": [
       "<div>\n",
       "<style scoped>\n",
       "    .dataframe tbody tr th:only-of-type {\n",
       "        vertical-align: middle;\n",
       "    }\n",
       "\n",
       "    .dataframe tbody tr th {\n",
       "        vertical-align: top;\n",
       "    }\n",
       "\n",
       "    .dataframe thead th {\n",
       "        text-align: right;\n",
       "    }\n",
       "</style>\n",
       "<table border=\"1\" class=\"dataframe\">\n",
       "  <thead>\n",
       "    <tr style=\"text-align: right;\">\n",
       "      <th></th>\n",
       "      <th>critic_store_category</th>\n",
       "      <th>name</th>\n",
       "    </tr>\n",
       "  </thead>\n",
       "  <tbody>\n",
       "    <tr>\n",
       "      <th>0</th>\n",
       "      <td>высокая оценка</td>\n",
       "      <td>1712</td>\n",
       "    </tr>\n",
       "    <tr>\n",
       "      <th>1</th>\n",
       "      <td>нет оценки</td>\n",
       "      <td>5713</td>\n",
       "    </tr>\n",
       "    <tr>\n",
       "      <th>2</th>\n",
       "      <td>низкая оценка</td>\n",
       "      <td>55</td>\n",
       "    </tr>\n",
       "    <tr>\n",
       "      <th>3</th>\n",
       "      <td>средняя оценка</td>\n",
       "      <td>5500</td>\n",
       "    </tr>\n",
       "  </tbody>\n",
       "</table>\n",
       "</div>"
      ],
      "text/plain": [
       "  critic_store_category  name\n",
       "0        высокая оценка  1712\n",
       "1            нет оценки  5713\n",
       "2         низкая оценка    55\n",
       "3        средняя оценка  5500"
      ]
     },
     "execution_count": 46,
     "metadata": {},
     "output_type": "execute_result"
    }
   ],
   "source": [
    "# с помощью метода groupby() проводим группировку категорий оценок критиков,\n",
    "# используя агрегирующую функцию на подсчет количество игр\n",
    "df_actual.groupby(('critic_store_category'),as_index=False)['name'].count()"
   ]
  },
  {
   "cell_type": "markdown",
   "id": "6a98444c",
   "metadata": {
    "id": "6a98444c"
   },
   "source": [
    "Далее выделим топ-7 платформ по количеству игр, выпущенных за весь актуальный период."
   ]
  },
  {
   "cell_type": "code",
   "execution_count": 47,
   "id": "003caa2c",
   "metadata": {
    "id": "003caa2c"
   },
   "outputs": [
    {
     "data": {
      "text/html": [
       "<div>\n",
       "<style scoped>\n",
       "    .dataframe tbody tr th:only-of-type {\n",
       "        vertical-align: middle;\n",
       "    }\n",
       "\n",
       "    .dataframe tbody tr th {\n",
       "        vertical-align: top;\n",
       "    }\n",
       "\n",
       "    .dataframe thead th {\n",
       "        text-align: right;\n",
       "    }\n",
       "</style>\n",
       "<table border=\"1\" class=\"dataframe\">\n",
       "  <thead>\n",
       "    <tr style=\"text-align: right;\">\n",
       "      <th></th>\n",
       "      <th>platform</th>\n",
       "      <th>name</th>\n",
       "    </tr>\n",
       "  </thead>\n",
       "  <tbody>\n",
       "    <tr>\n",
       "      <th>9</th>\n",
       "      <td>PS2</td>\n",
       "      <td>2154</td>\n",
       "    </tr>\n",
       "    <tr>\n",
       "      <th>2</th>\n",
       "      <td>DS</td>\n",
       "      <td>2146</td>\n",
       "    </tr>\n",
       "    <tr>\n",
       "      <th>15</th>\n",
       "      <td>Wii</td>\n",
       "      <td>1294</td>\n",
       "    </tr>\n",
       "    <tr>\n",
       "      <th>12</th>\n",
       "      <td>PSP</td>\n",
       "      <td>1199</td>\n",
       "    </tr>\n",
       "    <tr>\n",
       "      <th>17</th>\n",
       "      <td>X360</td>\n",
       "      <td>1138</td>\n",
       "    </tr>\n",
       "    <tr>\n",
       "      <th>10</th>\n",
       "      <td>PS3</td>\n",
       "      <td>1107</td>\n",
       "    </tr>\n",
       "    <tr>\n",
       "      <th>4</th>\n",
       "      <td>GBA</td>\n",
       "      <td>826</td>\n",
       "    </tr>\n",
       "  </tbody>\n",
       "</table>\n",
       "</div>"
      ],
      "text/plain": [
       "   platform  name\n",
       "9       PS2  2154\n",
       "2        DS  2146\n",
       "15      Wii  1294\n",
       "12      PSP  1199\n",
       "17     X360  1138\n",
       "10      PS3  1107\n",
       "4       GBA   826"
      ]
     },
     "metadata": {},
     "output_type": "display_data"
    }
   ],
   "source": [
    "# выделяем топ платформ по количеству игр и выводим первый\n",
    "df_groupbed = df_actual.groupby(('platform'),as_index=False)['name'].count()\n",
    "df_groupbed_sorted = df_groupbed.sort_values(by = ['name'], ascending = False)\n",
    "display(df_groupbed_sorted.head(7))"
   ]
  },
  {
   "cell_type": "markdown",
   "id": "2d9b2c18",
   "metadata": {
    "id": "c0158881"
   },
   "source": [
    "---\n",
    "\n",
    "##  Итоговый вывод\n"
   ]
  },
  {
   "cell_type": "markdown",
   "id": "717a11b8",
   "metadata": {
    "id": "0c1afc40"
   },
   "source": [
    "В заключении работы над проектом необходимо сделать выводы:\n",
    "- Был проведен подробный анализ данных,формирующий основные тенденции на рынке игр за последние десятилетий. Отчет полностью основан на предпочтениях заказчиков\n",
    "\n",
    "Теперь стоит разобрать основные решения, которые были приняты во время работы над проектом:\n",
    "- Для удобства работы с данными названия столбцов были приведены к виду `snake case`\n",
    "- Проанализировав данные, было принято решение преобразовать тип данных у некоторых столбцов для удобства работы с ними. Столбцы `user_score`,`eu_sales`,`jp_sales` были преобразованы к типу данных `float64`, так как содержат числовую информацию, с которой легче работать именно когла они имееют тип данных `float64`. Так столбец `year_of_release` был преобразован к типу `int64`, так как содержит в себе года.\n",
    "- Для всего датафрейма были проанализировано наличие пропусков в строках. В некоторых столбцах таких, как `critic_store`,`user_score`,`rating` было выявлено большое количество пропусков, которых составляли примерно 50% от всего объема данных, эти пропуски мы оставим, но в дальнейшем будем учитывать при категоризации данных. В столбце `year_of_release` мы обнаружили 275 пропусков, которые для корректности составления среза по предпочтениям заказчиков мы удалили. В столбцах `eu_sales` и `jp_sales` было обнаружено несколько пропусков, поэтому для корректности работы с данными мы заполнили пропуски средними значениями продаж в разрезе платформы и года выпуска. Пропуски столбцов `name` и `genre` мы удалили, так как их было совсем немного и предположить какое название пропущенно невозможно\n",
    "- В `genre` были обнаружены дубликаты в названиях жанров, поэтому было принято решение привести все названия к нижнему регистру, вследствии чего были убраны дублирующие значения этого столбца. Для потенциального предотвращения наличия повторяющихся значений в столбце `name` и `rating` мы привели эти столбцы к нижнему и верхнему регистру соответственно.\n",
    "- Было выявленно 235 явных дубликатов, впоследствии было принято удалить все эти строки. Количество строк до удаления дубликатов составляло 16679, а после удаления количество строк составляло 16444.В результате предобработки данных было удалено 514 строк, что составляет примерно 3.03% от общего числа строк в изначальном наборе данных.\n",
    "- Далее по запросу заказчиков мы составили срез данных с 2000 по 2013 год и сохранили эти данные в новый датафрейм\n",
    "- После этого, провели категоризацию новых срезанных данных. Разделили все игры по оценкам пользователей и критиков на категории: высокая оценка, средняя оценка  и низкая оценка. Оценки пользователей распределились следующим образом: высокая оценка - 2307, нет оценки - 6408, низкая оценка - 117, средняя оценка - 4148. А оценки критиков: высокая оценка - 1712, нет оценки - 5713, низкая оценка - 55, средняя оценка - 5500. Были добавлены новые столбцы `user_score_category` и `critic_store_category`\n",
    "- Также был составлен топ платформ по количеству выпущенных игр: 1. \"PS2\"- 2154 2.\"D\" - 146 3.\"Wii\" - 1294 4.\"PSP\" - 1199 5.\"X360\" - 1138 6.\"PS3\" - 1107 7.\"GBA\" - 826\n"
   ]
  }
 ],
 "metadata": {
  "ExecuteTimeLog": [
   {
    "duration": 343,
    "start_time": "2024-12-09T11:59:55.948Z"
   },
   {
    "duration": 140,
    "start_time": "2024-12-09T11:59:57.107Z"
   },
   {
    "duration": 13,
    "start_time": "2024-12-09T12:01:01.171Z"
   },
   {
    "duration": 1179,
    "start_time": "2024-12-09T12:12:24.630Z"
   },
   {
    "duration": 10,
    "start_time": "2024-12-09T12:15:11.429Z"
   },
   {
    "duration": 7,
    "start_time": "2024-12-09T12:15:29.702Z"
   },
   {
    "duration": 4,
    "start_time": "2024-12-09T12:15:52.837Z"
   },
   {
    "duration": 8,
    "start_time": "2024-12-09T12:17:10.154Z"
   },
   {
    "duration": 95,
    "start_time": "2024-12-09T14:15:57.737Z"
   },
   {
    "duration": 63,
    "start_time": "2024-12-09T14:24:29.677Z"
   },
   {
    "duration": 379,
    "start_time": "2024-12-09T14:24:42.137Z"
   },
   {
    "duration": 110,
    "start_time": "2024-12-09T14:24:42.809Z"
   },
   {
    "duration": 16,
    "start_time": "2024-12-09T14:24:44.763Z"
   },
   {
    "duration": 8,
    "start_time": "2024-12-09T14:24:50.633Z"
   },
   {
    "duration": 5,
    "start_time": "2024-12-09T14:24:52.976Z"
   },
   {
    "duration": 7,
    "start_time": "2024-12-09T14:25:09.147Z"
   },
   {
    "duration": 6,
    "start_time": "2024-12-09T14:25:22.999Z"
   },
   {
    "duration": 15,
    "start_time": "2024-12-09T14:31:02.931Z"
   },
   {
    "duration": 15,
    "start_time": "2024-12-09T14:31:43.219Z"
   },
   {
    "duration": 11,
    "start_time": "2024-12-09T14:33:55.641Z"
   },
   {
    "duration": 28,
    "start_time": "2024-12-09T14:45:26.410Z"
   },
   {
    "duration": 7,
    "start_time": "2024-12-09T14:45:37.785Z"
   },
   {
    "duration": 13,
    "start_time": "2024-12-09T14:56:49.501Z"
   },
   {
    "duration": 5,
    "start_time": "2024-12-09T14:57:23.791Z"
   },
   {
    "duration": 12,
    "start_time": "2024-12-09T14:58:53.067Z"
   },
   {
    "duration": 13,
    "start_time": "2024-12-09T15:00:31.858Z"
   },
   {
    "duration": 10,
    "start_time": "2024-12-09T15:01:01.184Z"
   },
   {
    "duration": 395,
    "start_time": "2024-12-09T15:02:01.022Z"
   },
   {
    "duration": 111,
    "start_time": "2024-12-09T15:02:01.566Z"
   },
   {
    "duration": 15,
    "start_time": "2024-12-09T15:02:02.356Z"
   },
   {
    "duration": 8,
    "start_time": "2024-12-09T15:02:03.839Z"
   },
   {
    "duration": 6,
    "start_time": "2024-12-09T15:02:04.545Z"
   },
   {
    "duration": 15,
    "start_time": "2024-12-09T15:02:05.119Z"
   },
   {
    "duration": 15,
    "start_time": "2024-12-09T15:02:05.702Z"
   },
   {
    "duration": 12,
    "start_time": "2024-12-09T15:02:06.224Z"
   },
   {
    "duration": 4,
    "start_time": "2024-12-09T15:02:07.255Z"
   },
   {
    "duration": 15,
    "start_time": "2024-12-09T15:02:07.840Z"
   },
   {
    "duration": 13,
    "start_time": "2024-12-09T15:02:37.930Z"
   },
   {
    "duration": 67,
    "start_time": "2024-12-09T15:03:31.543Z"
   },
   {
    "duration": 11,
    "start_time": "2024-12-09T15:04:35.778Z"
   },
   {
    "duration": 14,
    "start_time": "2024-12-09T15:05:04.603Z"
   },
   {
    "duration": 16,
    "start_time": "2024-12-09T15:05:19.472Z"
   },
   {
    "duration": 10,
    "start_time": "2024-12-09T15:10:55.355Z"
   },
   {
    "duration": 42,
    "start_time": "2024-12-09T15:17:18.277Z"
   },
   {
    "duration": 6,
    "start_time": "2024-12-09T15:17:39.635Z"
   },
   {
    "duration": 3,
    "start_time": "2024-12-09T15:17:45.733Z"
   },
   {
    "duration": 81,
    "start_time": "2024-12-09T15:17:50.181Z"
   },
   {
    "duration": 86,
    "start_time": "2024-12-09T15:21:06.580Z"
   },
   {
    "duration": 12,
    "start_time": "2024-12-09T15:21:17.937Z"
   },
   {
    "duration": 8,
    "start_time": "2024-12-09T15:21:51.962Z"
   },
   {
    "duration": 8,
    "start_time": "2024-12-09T15:21:56.122Z"
   },
   {
    "duration": 10,
    "start_time": "2024-12-09T15:22:02.090Z"
   },
   {
    "duration": 10,
    "start_time": "2024-12-09T15:22:25.971Z"
   },
   {
    "duration": 12,
    "start_time": "2024-12-09T15:47:20.592Z"
   },
   {
    "duration": 9,
    "start_time": "2024-12-09T15:55:35.476Z"
   },
   {
    "duration": 9,
    "start_time": "2024-12-09T15:59:03.659Z"
   },
   {
    "duration": 7,
    "start_time": "2024-12-09T16:00:33.037Z"
   },
   {
    "duration": 105,
    "start_time": "2024-12-09T16:00:54.843Z"
   },
   {
    "duration": 16,
    "start_time": "2024-12-09T16:01:01.042Z"
   },
   {
    "duration": 13,
    "start_time": "2024-12-09T16:01:07.311Z"
   },
   {
    "duration": 13,
    "start_time": "2024-12-09T16:01:10.314Z"
   },
   {
    "duration": 13,
    "start_time": "2024-12-09T16:01:20.091Z"
   },
   {
    "duration": 10,
    "start_time": "2024-12-09T16:01:34.133Z"
   },
   {
    "duration": 350,
    "start_time": "2024-12-09T16:01:56.961Z"
   },
   {
    "duration": 133,
    "start_time": "2024-12-09T16:01:57.313Z"
   },
   {
    "duration": 15,
    "start_time": "2024-12-09T16:01:58.540Z"
   },
   {
    "duration": 7,
    "start_time": "2024-12-09T16:02:05.110Z"
   },
   {
    "duration": 6,
    "start_time": "2024-12-09T16:02:06.593Z"
   },
   {
    "duration": 15,
    "start_time": "2024-12-09T16:02:08.055Z"
   },
   {
    "duration": 15,
    "start_time": "2024-12-09T16:02:09.900Z"
   },
   {
    "duration": 13,
    "start_time": "2024-12-09T16:02:11.612Z"
   },
   {
    "duration": 62,
    "start_time": "2024-12-09T16:02:16.156Z"
   },
   {
    "duration": 14,
    "start_time": "2024-12-09T16:02:17.032Z"
   },
   {
    "duration": 16,
    "start_time": "2024-12-09T16:02:17.617Z"
   },
   {
    "duration": 14,
    "start_time": "2024-12-09T16:02:18.436Z"
   },
   {
    "duration": 15,
    "start_time": "2024-12-09T16:02:19.068Z"
   },
   {
    "duration": 13,
    "start_time": "2024-12-09T16:02:22.730Z"
   },
   {
    "duration": 11,
    "start_time": "2024-12-09T16:02:27.319Z"
   },
   {
    "duration": 14,
    "start_time": "2024-12-09T16:02:28.977Z"
   },
   {
    "duration": 9,
    "start_time": "2024-12-09T16:02:32.756Z"
   },
   {
    "duration": 63,
    "start_time": "2024-12-09T16:17:31.809Z"
   },
   {
    "duration": 13,
    "start_time": "2024-12-09T16:17:57.054Z"
   },
   {
    "duration": 11,
    "start_time": "2024-12-09T16:21:07.122Z"
   },
   {
    "duration": 13,
    "start_time": "2024-12-09T16:21:19.624Z"
   },
   {
    "duration": 44,
    "start_time": "2024-12-09T16:23:29.311Z"
   },
   {
    "duration": 347,
    "start_time": "2024-12-09T16:23:41.865Z"
   },
   {
    "duration": 136,
    "start_time": "2024-12-09T16:23:42.242Z"
   },
   {
    "duration": 15,
    "start_time": "2024-12-09T16:23:43.216Z"
   },
   {
    "duration": 8,
    "start_time": "2024-12-09T16:23:47.310Z"
   },
   {
    "duration": 6,
    "start_time": "2024-12-09T16:23:49.087Z"
   },
   {
    "duration": 13,
    "start_time": "2024-12-09T16:23:50.224Z"
   },
   {
    "duration": 15,
    "start_time": "2024-12-09T16:23:50.809Z"
   },
   {
    "duration": 12,
    "start_time": "2024-12-09T16:23:51.488Z"
   },
   {
    "duration": 67,
    "start_time": "2024-12-09T16:23:52.833Z"
   },
   {
    "duration": 14,
    "start_time": "2024-12-09T16:29:38.308Z"
   },
   {
    "duration": 14,
    "start_time": "2024-12-09T16:29:38.899Z"
   },
   {
    "duration": 12,
    "start_time": "2024-12-09T16:29:39.607Z"
   },
   {
    "duration": 14,
    "start_time": "2024-12-09T16:29:40.069Z"
   },
   {
    "duration": 13,
    "start_time": "2024-12-09T16:29:53.525Z"
   },
   {
    "duration": 9,
    "start_time": "2024-12-09T16:29:55.604Z"
   },
   {
    "duration": 12,
    "start_time": "2024-12-09T16:29:56.860Z"
   },
   {
    "duration": 9,
    "start_time": "2024-12-09T16:30:01.169Z"
   },
   {
    "duration": 4,
    "start_time": "2024-12-09T16:30:02.077Z"
   },
   {
    "duration": 81,
    "start_time": "2024-12-09T16:38:04.656Z"
   },
   {
    "duration": 83,
    "start_time": "2024-12-09T16:38:14.090Z"
   },
   {
    "duration": 80,
    "start_time": "2024-12-09T16:38:20.917Z"
   },
   {
    "duration": 158,
    "start_time": "2024-12-09T16:43:56.975Z"
   },
   {
    "duration": 142,
    "start_time": "2024-12-09T16:44:29.005Z"
   },
   {
    "duration": 8,
    "start_time": "2024-12-09T16:44:53.915Z"
   },
   {
    "duration": 14,
    "start_time": "2024-12-09T16:47:27.455Z"
   },
   {
    "duration": 10,
    "start_time": "2024-12-09T16:47:45.081Z"
   },
   {
    "duration": 360,
    "start_time": "2024-12-10T04:40:23.373Z"
   },
   {
    "duration": 111,
    "start_time": "2024-12-10T04:40:23.980Z"
   },
   {
    "duration": 16,
    "start_time": "2024-12-10T04:40:25.125Z"
   },
   {
    "duration": 8,
    "start_time": "2024-12-10T04:40:28.979Z"
   },
   {
    "duration": 7,
    "start_time": "2024-12-10T04:40:30.681Z"
   },
   {
    "duration": 14,
    "start_time": "2024-12-10T04:40:31.974Z"
   },
   {
    "duration": 15,
    "start_time": "2024-12-10T04:40:32.504Z"
   },
   {
    "duration": 13,
    "start_time": "2024-12-10T04:40:33.225Z"
   },
   {
    "duration": 14,
    "start_time": "2024-12-10T04:40:35.053Z"
   },
   {
    "duration": 13,
    "start_time": "2024-12-10T04:40:35.481Z"
   },
   {
    "duration": 12,
    "start_time": "2024-12-10T04:40:35.941Z"
   },
   {
    "duration": 13,
    "start_time": "2024-12-10T04:40:36.557Z"
   },
   {
    "duration": 13,
    "start_time": "2024-12-10T04:40:37.033Z"
   },
   {
    "duration": 10,
    "start_time": "2024-12-10T04:40:38.031Z"
   },
   {
    "duration": 12,
    "start_time": "2024-12-10T04:40:38.510Z"
   },
   {
    "duration": 8,
    "start_time": "2024-12-10T04:40:40.567Z"
   },
   {
    "duration": 5,
    "start_time": "2024-12-10T04:40:41.105Z"
   },
   {
    "duration": 168,
    "start_time": "2024-12-10T04:40:42.826Z"
   },
   {
    "duration": 148,
    "start_time": "2024-12-10T04:40:43.526Z"
   },
   {
    "duration": 11,
    "start_time": "2024-12-10T04:40:47.530Z"
   },
   {
    "duration": 9,
    "start_time": "2024-12-10T04:40:48.585Z"
   },
   {
    "duration": 83,
    "start_time": "2024-12-10T04:40:51.429Z"
   },
   {
    "duration": 63,
    "start_time": "2024-12-10T04:41:43.059Z"
   },
   {
    "duration": 7,
    "start_time": "2024-12-10T04:42:49.998Z"
   },
   {
    "duration": 7,
    "start_time": "2024-12-10T04:44:47.109Z"
   },
   {
    "duration": 8,
    "start_time": "2024-12-10T04:45:12.333Z"
   },
   {
    "duration": 8,
    "start_time": "2024-12-10T04:45:27.882Z"
   },
   {
    "duration": 7,
    "start_time": "2024-12-10T04:46:54.618Z"
   },
   {
    "duration": 7,
    "start_time": "2024-12-10T04:47:04.570Z"
   },
   {
    "duration": 13,
    "start_time": "2024-12-10T04:52:59.087Z"
   },
   {
    "duration": 12,
    "start_time": "2024-12-10T04:53:34.115Z"
   },
   {
    "duration": 6,
    "start_time": "2024-12-10T04:54:14.517Z"
   },
   {
    "duration": 20,
    "start_time": "2024-12-10T04:56:33.798Z"
   },
   {
    "duration": 9,
    "start_time": "2024-12-10T04:56:56.335Z"
   },
   {
    "duration": 10,
    "start_time": "2024-12-10T04:57:20.351Z"
   },
   {
    "duration": 9,
    "start_time": "2024-12-10T04:57:56.202Z"
   },
   {
    "duration": 11,
    "start_time": "2024-12-10T04:58:13.422Z"
   },
   {
    "duration": 10,
    "start_time": "2024-12-10T04:58:30.728Z"
   },
   {
    "duration": 13,
    "start_time": "2024-12-10T05:07:14.886Z"
   },
   {
    "duration": 9,
    "start_time": "2024-12-10T05:07:24.859Z"
   },
   {
    "duration": 16,
    "start_time": "2024-12-10T05:23:42.037Z"
   },
   {
    "duration": 16,
    "start_time": "2024-12-10T05:23:59.101Z"
   },
   {
    "duration": 63,
    "start_time": "2024-12-10T05:25:49.953Z"
   },
   {
    "duration": 28,
    "start_time": "2024-12-10T05:38:56.786Z"
   },
   {
    "duration": 28,
    "start_time": "2024-12-10T05:39:40.336Z"
   },
   {
    "duration": 48,
    "start_time": "2024-12-10T17:17:31.295Z"
   },
   {
    "duration": 9,
    "start_time": "2024-12-10T17:19:07.609Z"
   },
   {
    "duration": 431,
    "start_time": "2024-12-10T17:19:23.417Z"
   },
   {
    "duration": 175,
    "start_time": "2024-12-10T17:19:23.850Z"
   },
   {
    "duration": 22,
    "start_time": "2024-12-10T17:19:24.813Z"
   },
   {
    "duration": 10,
    "start_time": "2024-12-10T17:19:27.130Z"
   },
   {
    "duration": 6,
    "start_time": "2024-12-10T17:19:28.292Z"
   },
   {
    "duration": 13,
    "start_time": "2024-12-10T17:19:29.084Z"
   },
   {
    "duration": 14,
    "start_time": "2024-12-10T17:19:29.658Z"
   },
   {
    "duration": 16,
    "start_time": "2024-12-10T17:19:30.229Z"
   },
   {
    "duration": 13,
    "start_time": "2024-12-10T17:19:31.373Z"
   },
   {
    "duration": 18,
    "start_time": "2024-12-10T17:19:31.826Z"
   },
   {
    "duration": 12,
    "start_time": "2024-12-10T17:19:32.210Z"
   },
   {
    "duration": 13,
    "start_time": "2024-12-10T17:19:32.724Z"
   },
   {
    "duration": 14,
    "start_time": "2024-12-10T17:19:33.330Z"
   },
   {
    "duration": 9,
    "start_time": "2024-12-10T17:19:34.561Z"
   },
   {
    "duration": 12,
    "start_time": "2024-12-10T17:19:35.283Z"
   },
   {
    "duration": 7,
    "start_time": "2024-12-10T17:19:37.540Z"
   },
   {
    "duration": 4,
    "start_time": "2024-12-10T17:19:38.119Z"
   },
   {
    "duration": 168,
    "start_time": "2024-12-10T17:19:39.767Z"
   },
   {
    "duration": 156,
    "start_time": "2024-12-10T17:19:40.512Z"
   },
   {
    "duration": 9,
    "start_time": "2024-12-10T17:19:41.565Z"
   },
   {
    "duration": 9,
    "start_time": "2024-12-10T17:19:42.184Z"
   },
   {
    "duration": 7,
    "start_time": "2024-12-10T17:19:44.108Z"
   },
   {
    "duration": 7,
    "start_time": "2024-12-10T17:19:45.238Z"
   },
   {
    "duration": 8,
    "start_time": "2024-12-10T17:19:45.902Z"
   },
   {
    "duration": 10,
    "start_time": "2024-12-10T17:19:47.862Z"
   },
   {
    "duration": 10,
    "start_time": "2024-12-10T17:19:49.637Z"
   },
   {
    "duration": 10,
    "start_time": "2024-12-10T17:19:50.369Z"
   },
   {
    "duration": 14,
    "start_time": "2024-12-10T17:19:51.667Z"
   },
   {
    "duration": 45,
    "start_time": "2024-12-10T17:19:52.972Z"
   },
   {
    "duration": 26,
    "start_time": "2024-12-10T17:19:55.712Z"
   },
   {
    "duration": 162,
    "start_time": "2024-12-10T17:19:59.721Z"
   },
   {
    "duration": 1225,
    "start_time": "2024-12-10T17:22:44.262Z"
   },
   {
    "duration": 1064,
    "start_time": "2024-12-10T17:23:07.636Z"
   },
   {
    "duration": 171,
    "start_time": "2024-12-10T17:24:06.442Z"
   },
   {
    "duration": 13,
    "start_time": "2024-12-10T17:30:26.946Z"
   },
   {
    "duration": 9,
    "start_time": "2024-12-10T17:30:35.150Z"
   },
   {
    "duration": 69,
    "start_time": "2024-12-10T17:32:40.740Z"
   },
   {
    "duration": 20,
    "start_time": "2024-12-10T17:32:45.738Z"
   },
   {
    "duration": 10,
    "start_time": "2024-12-10T17:33:17.799Z"
   },
   {
    "duration": 12,
    "start_time": "2024-12-10T17:34:27.991Z"
   },
   {
    "duration": 25,
    "start_time": "2024-12-10T17:36:49.821Z"
   },
   {
    "duration": 10,
    "start_time": "2024-12-10T17:37:54.380Z"
   },
   {
    "duration": 9,
    "start_time": "2024-12-10T17:38:06.882Z"
   },
   {
    "duration": 9,
    "start_time": "2024-12-10T17:38:19.175Z"
   },
   {
    "duration": 12,
    "start_time": "2024-12-10T17:38:34.790Z"
   },
   {
    "duration": 13,
    "start_time": "2024-12-10T17:47:48.599Z"
   },
   {
    "duration": 24,
    "start_time": "2024-12-10T17:48:15.539Z"
   },
   {
    "duration": 9,
    "start_time": "2024-12-10T17:50:44.907Z"
   },
   {
    "duration": 9,
    "start_time": "2024-12-10T17:51:18.630Z"
   },
   {
    "duration": 10,
    "start_time": "2024-12-10T17:52:06.433Z"
   },
   {
    "duration": 379,
    "start_time": "2024-12-10T18:15:26.976Z"
   },
   {
    "duration": 153,
    "start_time": "2024-12-10T18:15:27.357Z"
   },
   {
    "duration": 16,
    "start_time": "2024-12-10T18:15:27.762Z"
   },
   {
    "duration": 8,
    "start_time": "2024-12-10T18:15:28.986Z"
   },
   {
    "duration": 7,
    "start_time": "2024-12-10T18:15:30.170Z"
   },
   {
    "duration": 20,
    "start_time": "2024-12-10T18:15:31.078Z"
   },
   {
    "duration": 19,
    "start_time": "2024-12-10T18:15:31.506Z"
   },
   {
    "duration": 16,
    "start_time": "2024-12-10T18:15:31.887Z"
   },
   {
    "duration": 23,
    "start_time": "2024-12-10T18:15:32.687Z"
   },
   {
    "duration": 22,
    "start_time": "2024-12-10T18:15:33.073Z"
   },
   {
    "duration": 12,
    "start_time": "2024-12-10T18:15:33.469Z"
   },
   {
    "duration": 15,
    "start_time": "2024-12-10T18:15:33.856Z"
   },
   {
    "duration": 17,
    "start_time": "2024-12-10T18:15:34.266Z"
   },
   {
    "duration": 12,
    "start_time": "2024-12-10T18:15:35.071Z"
   },
   {
    "duration": 15,
    "start_time": "2024-12-10T18:15:35.456Z"
   },
   {
    "duration": 9,
    "start_time": "2024-12-10T18:15:37.107Z"
   },
   {
    "duration": 5,
    "start_time": "2024-12-10T18:15:37.528Z"
   },
   {
    "duration": 163,
    "start_time": "2024-12-10T18:15:38.758Z"
   },
   {
    "duration": 147,
    "start_time": "2024-12-10T18:15:39.241Z"
   },
   {
    "duration": 10,
    "start_time": "2024-12-10T18:15:40.045Z"
   },
   {
    "duration": 9,
    "start_time": "2024-12-10T18:15:40.474Z"
   },
   {
    "duration": 7,
    "start_time": "2024-12-10T18:15:41.919Z"
   },
   {
    "duration": 12,
    "start_time": "2024-12-10T18:15:42.928Z"
   },
   {
    "duration": 10,
    "start_time": "2024-12-10T18:15:43.323Z"
   },
   {
    "duration": 7,
    "start_time": "2024-12-10T18:15:44.777Z"
   },
   {
    "duration": 10,
    "start_time": "2024-12-10T18:15:46.158Z"
   },
   {
    "duration": 16,
    "start_time": "2024-12-10T18:15:46.606Z"
   },
   {
    "duration": 20,
    "start_time": "2024-12-10T18:15:47.490Z"
   },
   {
    "duration": 54,
    "start_time": "2024-12-10T18:15:48.499Z"
   },
   {
    "duration": 25,
    "start_time": "2024-12-10T18:15:50.032Z"
   },
   {
    "duration": 172,
    "start_time": "2024-12-10T18:15:52.322Z"
   },
   {
    "duration": 210,
    "start_time": "2024-12-10T18:15:53.830Z"
   },
   {
    "duration": 11,
    "start_time": "2024-12-10T18:15:55.310Z"
   },
   {
    "duration": 14,
    "start_time": "2024-12-10T18:16:13.759Z"
   },
   {
    "duration": 14,
    "start_time": "2024-12-10T18:16:15.467Z"
   },
   {
    "duration": 400,
    "start_time": "2024-12-10T18:24:41.392Z"
   },
   {
    "duration": 135,
    "start_time": "2024-12-10T18:24:41.794Z"
   },
   {
    "duration": 13,
    "start_time": "2024-12-10T18:24:41.930Z"
   },
   {
    "duration": 8,
    "start_time": "2024-12-10T18:24:42.378Z"
   },
   {
    "duration": 5,
    "start_time": "2024-12-10T18:24:42.953Z"
   },
   {
    "duration": 14,
    "start_time": "2024-12-10T18:24:43.346Z"
   },
   {
    "duration": 15,
    "start_time": "2024-12-10T18:24:43.546Z"
   },
   {
    "duration": 12,
    "start_time": "2024-12-10T18:24:43.731Z"
   },
   {
    "duration": 14,
    "start_time": "2024-12-10T18:24:44.628Z"
   },
   {
    "duration": 14,
    "start_time": "2024-12-10T18:24:44.966Z"
   },
   {
    "duration": 12,
    "start_time": "2024-12-10T18:24:45.394Z"
   },
   {
    "duration": 12,
    "start_time": "2024-12-10T18:24:45.754Z"
   },
   {
    "duration": 12,
    "start_time": "2024-12-10T18:24:46.090Z"
   },
   {
    "duration": 9,
    "start_time": "2024-12-10T18:24:46.817Z"
   },
   {
    "duration": 11,
    "start_time": "2024-12-10T18:24:47.166Z"
   },
   {
    "duration": 9,
    "start_time": "2024-12-10T18:24:48.643Z"
   },
   {
    "duration": 5,
    "start_time": "2024-12-10T18:24:49.011Z"
   },
   {
    "duration": 175,
    "start_time": "2024-12-10T18:24:50.051Z"
   },
   {
    "duration": 153,
    "start_time": "2024-12-10T18:24:50.387Z"
   },
   {
    "duration": 10,
    "start_time": "2024-12-10T18:24:51.055Z"
   },
   {
    "duration": 8,
    "start_time": "2024-12-10T18:24:51.409Z"
   },
   {
    "duration": 6,
    "start_time": "2024-12-10T18:24:52.421Z"
   },
   {
    "duration": 7,
    "start_time": "2024-12-10T18:24:53.064Z"
   },
   {
    "duration": 7,
    "start_time": "2024-12-10T18:24:53.396Z"
   },
   {
    "duration": 6,
    "start_time": "2024-12-10T18:24:54.366Z"
   },
   {
    "duration": 11,
    "start_time": "2024-12-10T18:24:55.355Z"
   },
   {
    "duration": 11,
    "start_time": "2024-12-10T18:24:55.711Z"
   },
   {
    "duration": 14,
    "start_time": "2024-12-10T18:24:56.330Z"
   },
   {
    "duration": 43,
    "start_time": "2024-12-10T18:24:56.946Z"
   },
   {
    "duration": 25,
    "start_time": "2024-12-10T18:24:57.921Z"
   },
   {
    "duration": 151,
    "start_time": "2024-12-10T18:24:58.863Z"
   },
   {
    "duration": 153,
    "start_time": "2024-12-10T18:24:59.503Z"
   },
   {
    "duration": 12,
    "start_time": "2024-12-10T18:25:00.146Z"
   },
   {
    "duration": 10,
    "start_time": "2024-12-10T18:25:00.471Z"
   },
   {
    "duration": 10,
    "start_time": "2024-12-10T18:25:01.176Z"
   },
   {
    "duration": 387,
    "start_time": "2024-12-10T20:04:31.513Z"
   },
   {
    "duration": 80,
    "start_time": "2024-12-10T20:04:31.902Z"
   },
   {
    "duration": 14,
    "start_time": "2024-12-10T20:04:31.983Z"
   },
   {
    "duration": 20,
    "start_time": "2024-12-10T20:04:31.999Z"
   },
   {
    "duration": 8,
    "start_time": "2024-12-10T20:04:32.020Z"
   },
   {
    "duration": 19,
    "start_time": "2024-12-10T20:04:32.030Z"
   },
   {
    "duration": 14,
    "start_time": "2024-12-10T20:04:32.050Z"
   },
   {
    "duration": 26,
    "start_time": "2024-12-10T20:04:32.066Z"
   },
   {
    "duration": 3,
    "start_time": "2024-12-10T20:05:56.581Z"
   },
   {
    "duration": 79,
    "start_time": "2024-12-10T20:05:56.585Z"
   },
   {
    "duration": 13,
    "start_time": "2024-12-10T20:05:56.666Z"
   },
   {
    "duration": 8,
    "start_time": "2024-12-10T20:05:56.681Z"
   },
   {
    "duration": 13,
    "start_time": "2024-12-10T20:05:56.691Z"
   },
   {
    "duration": 13,
    "start_time": "2024-12-10T20:05:56.706Z"
   },
   {
    "duration": 11,
    "start_time": "2024-12-10T20:05:56.721Z"
   },
   {
    "duration": 12,
    "start_time": "2024-12-10T20:05:56.733Z"
   },
   {
    "duration": 19,
    "start_time": "2024-12-10T20:05:56.746Z"
   },
   {
    "duration": 25,
    "start_time": "2024-12-10T20:05:56.767Z"
   },
   {
    "duration": 23,
    "start_time": "2024-12-10T20:05:56.795Z"
   },
   {
    "duration": 11,
    "start_time": "2024-12-10T20:05:56.820Z"
   },
   {
    "duration": 12,
    "start_time": "2024-12-10T20:05:56.833Z"
   },
   {
    "duration": 12,
    "start_time": "2024-12-10T20:05:56.846Z"
   },
   {
    "duration": 33,
    "start_time": "2024-12-10T20:05:56.859Z"
   },
   {
    "duration": 7,
    "start_time": "2024-12-10T20:05:56.893Z"
   },
   {
    "duration": 5,
    "start_time": "2024-12-10T20:05:56.901Z"
   },
   {
    "duration": 182,
    "start_time": "2024-12-10T20:05:56.907Z"
   },
   {
    "duration": 168,
    "start_time": "2024-12-10T20:05:57.090Z"
   },
   {
    "duration": 10,
    "start_time": "2024-12-10T20:05:57.260Z"
   },
   {
    "duration": 19,
    "start_time": "2024-12-10T20:05:57.271Z"
   },
   {
    "duration": 25,
    "start_time": "2024-12-10T20:05:57.292Z"
   },
   {
    "duration": 11,
    "start_time": "2024-12-10T20:05:57.319Z"
   },
   {
    "duration": 17,
    "start_time": "2024-12-10T20:05:57.332Z"
   },
   {
    "duration": 8,
    "start_time": "2024-12-10T20:05:57.350Z"
   },
   {
    "duration": 15,
    "start_time": "2024-12-10T20:05:57.360Z"
   },
   {
    "duration": 23,
    "start_time": "2024-12-10T20:05:57.376Z"
   },
   {
    "duration": 17,
    "start_time": "2024-12-10T20:05:57.400Z"
   },
   {
    "duration": 48,
    "start_time": "2024-12-10T20:05:57.420Z"
   },
   {
    "duration": 26,
    "start_time": "2024-12-10T20:05:57.486Z"
   },
   {
    "duration": 175,
    "start_time": "2024-12-10T20:05:57.514Z"
   },
   {
    "duration": 169,
    "start_time": "2024-12-10T20:05:57.691Z"
   },
   {
    "duration": 10,
    "start_time": "2024-12-10T20:05:57.861Z"
   },
   {
    "duration": 20,
    "start_time": "2024-12-10T20:05:57.872Z"
   },
   {
    "duration": 10,
    "start_time": "2024-12-10T20:05:57.894Z"
   },
   {
    "duration": 411,
    "start_time": "2024-12-10T20:11:05.435Z"
   },
   {
    "duration": 112,
    "start_time": "2024-12-10T20:11:05.847Z"
   },
   {
    "duration": 14,
    "start_time": "2024-12-10T20:11:05.961Z"
   },
   {
    "duration": 28,
    "start_time": "2024-12-10T20:11:05.976Z"
   },
   {
    "duration": 54,
    "start_time": "2024-12-10T20:11:06.006Z"
   },
   {
    "duration": 16,
    "start_time": "2024-12-10T20:11:06.061Z"
   },
   {
    "duration": 59,
    "start_time": "2024-12-10T20:11:06.078Z"
   },
   {
    "duration": 22,
    "start_time": "2024-12-10T20:11:06.138Z"
   },
   {
    "duration": 19,
    "start_time": "2024-12-10T20:11:06.162Z"
   },
   {
    "duration": 28,
    "start_time": "2024-12-10T20:11:06.183Z"
   },
   {
    "duration": 30,
    "start_time": "2024-12-10T20:11:06.214Z"
   },
   {
    "duration": 21,
    "start_time": "2024-12-10T20:11:06.246Z"
   },
   {
    "duration": 21,
    "start_time": "2024-12-10T20:11:06.269Z"
   },
   {
    "duration": 61,
    "start_time": "2024-12-10T20:11:06.294Z"
   },
   {
    "duration": 11,
    "start_time": "2024-12-10T20:11:06.357Z"
   },
   {
    "duration": 19,
    "start_time": "2024-12-10T20:11:06.370Z"
   },
   {
    "duration": 45,
    "start_time": "2024-12-10T20:11:06.390Z"
   },
   {
    "duration": 171,
    "start_time": "2024-12-10T20:11:06.436Z"
   },
   {
    "duration": 163,
    "start_time": "2024-12-10T20:11:06.609Z"
   },
   {
    "duration": 21,
    "start_time": "2024-12-10T20:11:06.773Z"
   },
   {
    "duration": 51,
    "start_time": "2024-12-10T20:11:06.796Z"
   },
   {
    "duration": 22,
    "start_time": "2024-12-10T20:11:06.849Z"
   },
   {
    "duration": 19,
    "start_time": "2024-12-10T20:11:06.873Z"
   },
   {
    "duration": 21,
    "start_time": "2024-12-10T20:11:06.894Z"
   },
   {
    "duration": 21,
    "start_time": "2024-12-10T20:11:06.918Z"
   },
   {
    "duration": 24,
    "start_time": "2024-12-10T20:11:06.940Z"
   },
   {
    "duration": 24,
    "start_time": "2024-12-10T20:11:06.966Z"
   },
   {
    "duration": 20,
    "start_time": "2024-12-10T20:11:06.991Z"
   },
   {
    "duration": 52,
    "start_time": "2024-12-10T20:11:07.013Z"
   },
   {
    "duration": 39,
    "start_time": "2024-12-10T20:11:07.067Z"
   },
   {
    "duration": 170,
    "start_time": "2024-12-10T20:11:07.108Z"
   },
   {
    "duration": 172,
    "start_time": "2024-12-10T20:11:07.280Z"
   },
   {
    "duration": 11,
    "start_time": "2024-12-10T20:11:07.453Z"
   },
   {
    "duration": 26,
    "start_time": "2024-12-10T20:11:07.465Z"
   },
   {
    "duration": 13,
    "start_time": "2024-12-10T20:11:07.492Z"
   },
   {
    "duration": 365,
    "start_time": "2024-12-10T20:37:19.611Z"
   },
   {
    "duration": 114,
    "start_time": "2024-12-10T20:37:20.493Z"
   },
   {
    "duration": 15,
    "start_time": "2024-12-10T20:37:24.533Z"
   },
   {
    "duration": 19,
    "start_time": "2024-12-10T20:37:26.580Z"
   },
   {
    "duration": 10,
    "start_time": "2024-12-10T20:37:48.037Z"
   },
   {
    "duration": 12,
    "start_time": "2024-12-10T20:38:06.114Z"
   },
   {
    "duration": 11,
    "start_time": "2024-12-10T20:38:20.257Z"
   },
   {
    "duration": 4,
    "start_time": "2024-12-10T20:50:43.061Z"
   },
   {
    "duration": 7,
    "start_time": "2024-12-10T20:50:47.019Z"
   },
   {
    "duration": 7,
    "start_time": "2024-12-10T20:53:24.911Z"
   },
   {
    "duration": 5,
    "start_time": "2024-12-10T20:54:55.555Z"
   },
   {
    "duration": 5,
    "start_time": "2024-12-10T20:56:31.303Z"
   },
   {
    "duration": 26,
    "start_time": "2024-12-10T21:01:30.104Z"
   },
   {
    "duration": 12,
    "start_time": "2024-12-10T21:02:04.065Z"
   },
   {
    "duration": 24,
    "start_time": "2024-12-10T21:03:56.614Z"
   },
   {
    "duration": 70,
    "start_time": "2024-12-10T21:04:15.128Z"
   },
   {
    "duration": 23,
    "start_time": "2024-12-10T21:04:52.798Z"
   },
   {
    "duration": 13,
    "start_time": "2024-12-10T21:05:02.247Z"
   },
   {
    "duration": 23,
    "start_time": "2024-12-10T21:05:14.108Z"
   },
   {
    "duration": 13,
    "start_time": "2024-12-10T21:05:16.725Z"
   },
   {
    "duration": 9,
    "start_time": "2024-12-10T21:07:05.562Z"
   },
   {
    "duration": 3,
    "start_time": "2024-12-10T21:07:31.974Z"
   },
   {
    "duration": 391,
    "start_time": "2024-12-10T21:07:47.332Z"
   },
   {
    "duration": 164,
    "start_time": "2024-12-10T21:07:47.997Z"
   },
   {
    "duration": 14,
    "start_time": "2024-12-10T21:07:50.954Z"
   },
   {
    "duration": 19,
    "start_time": "2024-12-10T21:07:51.716Z"
   },
   {
    "duration": 4,
    "start_time": "2024-12-10T21:07:55.613Z"
   },
   {
    "duration": 6,
    "start_time": "2024-12-10T21:07:57.890Z"
   },
   {
    "duration": 7,
    "start_time": "2024-12-10T21:08:01.344Z"
   },
   {
    "duration": 6,
    "start_time": "2024-12-10T21:08:06.627Z"
   },
   {
    "duration": 7,
    "start_time": "2024-12-10T21:08:09.770Z"
   },
   {
    "duration": 35,
    "start_time": "2024-12-10T21:08:16.446Z"
   },
   {
    "duration": 68,
    "start_time": "2024-12-10T21:08:20.234Z"
   },
   {
    "duration": 37,
    "start_time": "2024-12-10T21:12:26.287Z"
   },
   {
    "duration": 24,
    "start_time": "2024-12-10T21:12:37.224Z"
   },
   {
    "duration": 19,
    "start_time": "2024-12-10T21:12:40.861Z"
   },
   {
    "duration": 22,
    "start_time": "2024-12-10T21:14:11.246Z"
   },
   {
    "duration": 14,
    "start_time": "2024-12-10T21:14:18.634Z"
   },
   {
    "duration": 12,
    "start_time": "2024-12-10T21:14:23.814Z"
   },
   {
    "duration": 22,
    "start_time": "2024-12-10T21:15:08.785Z"
   },
   {
    "duration": 12,
    "start_time": "2024-12-10T21:15:10.846Z"
   },
   {
    "duration": 8,
    "start_time": "2024-12-10T21:16:44.666Z"
   },
   {
    "duration": 14,
    "start_time": "2024-12-10T21:16:55.969Z"
   },
   {
    "duration": 13,
    "start_time": "2024-12-10T21:17:49.381Z"
   },
   {
    "duration": 12,
    "start_time": "2024-12-10T21:18:01.477Z"
   },
   {
    "duration": 12,
    "start_time": "2024-12-10T21:18:10.021Z"
   },
   {
    "duration": 8,
    "start_time": "2024-12-10T21:19:38.176Z"
   },
   {
    "duration": 11,
    "start_time": "2024-12-10T21:19:42.463Z"
   },
   {
    "duration": 7,
    "start_time": "2024-12-10T21:19:48.091Z"
   },
   {
    "duration": 5,
    "start_time": "2024-12-10T21:19:48.778Z"
   },
   {
    "duration": 162,
    "start_time": "2024-12-10T21:19:51.842Z"
   },
   {
    "duration": 145,
    "start_time": "2024-12-10T21:19:52.645Z"
   },
   {
    "duration": 10,
    "start_time": "2024-12-10T21:19:58.165Z"
   },
   {
    "duration": 7,
    "start_time": "2024-12-10T21:20:15.129Z"
   },
   {
    "duration": 7,
    "start_time": "2024-12-10T21:21:22.231Z"
   },
   {
    "duration": 6,
    "start_time": "2024-12-10T21:22:42.727Z"
   },
   {
    "duration": 6,
    "start_time": "2024-12-10T21:22:45.498Z"
   },
   {
    "duration": 8,
    "start_time": "2024-12-10T21:22:46.093Z"
   },
   {
    "duration": 6,
    "start_time": "2024-12-10T21:22:48.551Z"
   },
   {
    "duration": 10,
    "start_time": "2024-12-10T21:22:50.334Z"
   },
   {
    "duration": 9,
    "start_time": "2024-12-10T21:22:51.165Z"
   },
   {
    "duration": 15,
    "start_time": "2024-12-10T21:22:52.886Z"
   },
   {
    "duration": 72,
    "start_time": "2024-12-10T21:22:53.859Z"
   },
   {
    "duration": 28,
    "start_time": "2024-12-10T21:22:57.830Z"
   },
   {
    "duration": 154,
    "start_time": "2024-12-10T21:23:01.838Z"
   },
   {
    "duration": 165,
    "start_time": "2024-12-10T21:23:03.973Z"
   },
   {
    "duration": 11,
    "start_time": "2024-12-10T21:23:06.015Z"
   },
   {
    "duration": 10,
    "start_time": "2024-12-10T21:23:06.390Z"
   },
   {
    "duration": 10,
    "start_time": "2024-12-10T21:23:08.130Z"
   }
  ],
  "colab": {
   "provenance": []
  },
  "kernelspec": {
   "display_name": "Python 3 (ipykernel)",
   "language": "python",
   "name": "python3"
  },
  "language_info": {
   "codemirror_mode": {
    "name": "ipython",
    "version": 3
   },
   "file_extension": ".py",
   "mimetype": "text/x-python",
   "name": "python",
   "nbconvert_exporter": "python",
   "pygments_lexer": "ipython3",
   "version": "3.9.5"
  },
  "toc": {
   "base_numbering": 1,
   "nav_menu": {},
   "number_sections": true,
   "sideBar": true,
   "skip_h1_title": true,
   "title_cell": "Table of Contents",
   "title_sidebar": "Contents",
   "toc_cell": false,
   "toc_position": {
    "height": "calc(100% - 180px)",
    "left": "10px",
    "top": "150px",
    "width": "278.398px"
   },
   "toc_section_display": true,
   "toc_window_display": true
  }
 },
 "nbformat": 4,
 "nbformat_minor": 5
}
