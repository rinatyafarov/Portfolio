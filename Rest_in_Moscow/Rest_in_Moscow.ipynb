{
 "cells": [
  {
   "cell_type": "markdown",
   "id": "e06910dd",
   "metadata": {
    "id": "e06910dd"
   },
   "source": [
    "# Изучение рынка заведений общественного питания Москвы\n",
    "\n",
    "- Автор:Яфаров Ринат\n",
    "- Дата:21.01.2025-26.01.2025"
   ]
  },
  {
   "cell_type": "markdown",
   "id": "4149134c",
   "metadata": {
    "id": "4149134c"
   },
   "source": [
    "### Цели и задачи проекта\n",
    "\n",
    "<font color='black'>Цель проекта заключается в проведении исследовательского анализа рынка общественного питания Москвы с целью выявления оптимального формата заведения (кафе, ресторан или бар), а также определения подходящего местоположения, меню и ценовой политики для нового заведения, которое планируют открыть инвесторы из фонда Shut Up and Take My Money. Результаты анализа помогут принять обоснованные решения, соответствующие текущим трендам и потребительским предпочтениям в сфере общественного питания.</font>"
   ]
  },
  {
   "cell_type": "markdown",
   "id": "728986ea",
   "metadata": {
    "id": "728986ea"
   },
   "source": [
    "### Описание данных\n",
    "\n",
    "<font color='black'> Файл `/datasets/rest_info.csv` содержит информацию о заведениях общественного питания:\n",
    "* `name` — название заведения;\n",
    "* `address` — адрес заведения;\n",
    "* `district` — административный район, в котором находится заведение, например Центральный административный округ;\n",
    "* `category` — категория заведения, например «кафе», «пиццерия» или «кофейня»;\n",
    "* `hours` — информация о днях и часах работы;\n",
    "* `rating` — рейтинг заведения по оценкам пользователей в Яндекс Картах (высшая оценка — 5.0);\n",
    "* `chain` — число, выраженное 0 или 1, которое показывает, является ли заведение сетевым (для маленьких сетей могут встречаться ошибки): 0 — заведение не является сетевым; 1 — заведение является сетевым.\n",
    "* `seats` — количество посадочных мест.\n",
    "</font>\n",
    "\n",
    "<font color='black'> Файл `/datasets/rest_price.csv` содержит информацию о среднем чеке в заведениях общественного питания:\n",
    "* `price` — категория цен в заведении, например «средние», «ниже среднего», «выше среднего» и так далее;\n",
    "* `avg_bill` — строка, которая хранит среднюю стоимость заказа в виде диапазона, например:\n",
    "«Средний счёт: 1000–1500 ₽»;\n",
    "«Цена чашки капучино: 130–220 ₽»;\n",
    "«Цена бокала пива: 400–600 ₽».\n",
    "и так далее;\n",
    "* `middle_avg_bill` — число с оценкой среднего чека, которое указано только для значений из столбца avg_bill, начинающихся с подстроки «Средний счёт»:\n",
    " Если в строке указан ценовой диапазон из двух значений, в столбец войдёт медиана этих двух значений.\n",
    " Если в строке указано одно число — цена без диапазона, то в столбец войдёт это число.\n",
    " Если значения нет или оно не начинается с подстроки «Средний счёт», то в столбец ничего не войдёт.\n",
    "* `middle_coffee_cup` — число с оценкой одной чашки капучино, которое указано только для значений из столбца avg_bill, начинающихся с подстроки «Цена одной чашки капучино»:\n",
    " Если в строке указан ценовой диапазон из двух значений, в столбец войдёт медиана этих двух значений.\n",
    " Если в строке указано одно число — цена без диапазона, то в столбец войдёт это число.\n",
    " Если значения нет или оно не начинается с подстроки «Цена одной чашки капучино», то в столбец ничего не войдёт.\n",
    "</font>"
   ]
  },
  {
   "cell_type": "markdown",
   "id": "4fecaf95",
   "metadata": {
    "id": "4fecaf95"
   },
   "source": [
    "### Содержимое проекта\n",
    "\n",
    "<font color='black'>Примерный план работы над проектом:    \n",
    "\n",
    "Шаг 1. Загрузка данных и знакомство с ними    \n",
    "Шаг 2. Предобработка данных    \n",
    "Шаг 3. Исследовательский анализ данных\n",
    "    \n",
    "Шаг 4. Итоговый вывод и рекомендации\n",
    "    \n",
    "</font>\n"
   ]
  },
  {
   "cell_type": "markdown",
   "id": "6f7d21d6",
   "metadata": {
    "id": "6f7d21d6"
   },
   "source": [
    "## 1. Загрузка данных и знакомство с ними\n",
    "\n",
    "- Загрузите данные о заведениях общественного питания Москвы. Путь к файлам: `/datasets/rest_info.csv` и `/datasets/rest_price.csv`."
   ]
  },
  {
   "cell_type": "markdown",
   "id": "17d2dbc3",
   "metadata": {},
   "source": [
    "Прежде чем приступить к загрузке датафреймов, импортируем нужные для работы библиотеки:"
   ]
  },
  {
   "cell_type": "code",
   "execution_count": 1,
   "id": "dd52cbd7",
   "metadata": {},
   "outputs": [
    {
     "name": "stdout",
     "output_type": "stream",
     "text": [
      "Collecting phik\n",
      "  Downloading phik-0.12.4-cp39-cp39-manylinux_2_17_x86_64.manylinux2014_x86_64.whl (686 kB)\n",
      "\u001b[K     |████████████████████████████████| 686 kB 1.2 MB/s eta 0:00:01\n",
      "\u001b[?25hRequirement already satisfied: scipy>=1.5.2 in /opt/conda/lib/python3.9/site-packages (from phik) (1.9.1)\n",
      "Requirement already satisfied: numpy>=1.18.0 in /opt/conda/lib/python3.9/site-packages (from phik) (1.21.1)\n",
      "Requirement already satisfied: joblib>=0.14.1 in /opt/conda/lib/python3.9/site-packages (from phik) (1.1.0)\n",
      "Requirement already satisfied: pandas>=0.25.1 in /opt/conda/lib/python3.9/site-packages (from phik) (1.2.4)\n",
      "Requirement already satisfied: matplotlib>=2.2.3 in /opt/conda/lib/python3.9/site-packages (from phik) (3.3.4)\n",
      "Requirement already satisfied: pyparsing!=2.0.4,!=2.1.2,!=2.1.6,>=2.0.3 in /opt/conda/lib/python3.9/site-packages (from matplotlib>=2.2.3->phik) (2.4.7)\n",
      "Requirement already satisfied: cycler>=0.10 in /opt/conda/lib/python3.9/site-packages (from matplotlib>=2.2.3->phik) (0.11.0)\n",
      "Requirement already satisfied: python-dateutil>=2.1 in /opt/conda/lib/python3.9/site-packages (from matplotlib>=2.2.3->phik) (2.8.1)\n",
      "Requirement already satisfied: kiwisolver>=1.0.1 in /opt/conda/lib/python3.9/site-packages (from matplotlib>=2.2.3->phik) (1.4.4)\n",
      "Requirement already satisfied: pillow>=6.2.0 in /opt/conda/lib/python3.9/site-packages (from matplotlib>=2.2.3->phik) (8.4.0)\n",
      "Requirement already satisfied: pytz>=2017.3 in /opt/conda/lib/python3.9/site-packages (from pandas>=0.25.1->phik) (2021.1)\n",
      "Requirement already satisfied: six>=1.5 in /opt/conda/lib/python3.9/site-packages (from python-dateutil>=2.1->matplotlib>=2.2.3->phik) (1.16.0)\n",
      "Installing collected packages: phik\n",
      "Successfully installed phik-0.12.4\n"
     ]
    }
   ],
   "source": [
    "!pip install phik"
   ]
  },
  {
   "cell_type": "code",
   "execution_count": 2,
   "id": "05faf34b",
   "metadata": {
    "id": "05faf34b"
   },
   "outputs": [],
   "source": [
    "# Импортируем библиотеки\n",
    "import pandas as pd\n",
    "\n",
    "# Загружаем библиотеки для визуализации данных\n",
    "import matplotlib.pyplot as plt\n",
    "import seaborn as sns\n",
    "\n",
    "# Загружаем библиотеку для расчёта коэффициента корреляции phi_k\n",
    "from phik import phik_matrix\n"
   ]
  },
  {
   "cell_type": "code",
   "execution_count": 3,
   "id": "ce87c1db",
   "metadata": {
    "id": "ce87c1db"
   },
   "outputs": [],
   "source": [
    "#загрузим для начала основную информацию о заведениях из первого файла:\n",
    "df1 = pd.read_csv('https://code.s3.yandex.net//datasets/rest_info.csv')"
   ]
  },
  {
   "cell_type": "code",
   "execution_count": 4,
   "id": "90fee493",
   "metadata": {
    "id": "90fee493"
   },
   "outputs": [
    {
     "name": "stdout",
     "output_type": "stream",
     "text": [
      "<class 'pandas.core.frame.DataFrame'>\n",
      "RangeIndex: 8406 entries, 0 to 8405\n",
      "Data columns (total 9 columns):\n",
      " #   Column    Non-Null Count  Dtype  \n",
      "---  ------    --------------  -----  \n",
      " 0   id        8406 non-null   object \n",
      " 1   name      8406 non-null   object \n",
      " 2   category  8406 non-null   object \n",
      " 3   address   8406 non-null   object \n",
      " 4   district  8406 non-null   object \n",
      " 5   hours     7870 non-null   object \n",
      " 6   rating    8406 non-null   float64\n",
      " 7   chain     8406 non-null   int64  \n",
      " 8   seats     4795 non-null   float64\n",
      "dtypes: float64(2), int64(1), object(6)\n",
      "memory usage: 591.2+ KB\n"
     ]
    }
   ],
   "source": [
    "#выводим основную информацию о данных в датафрейме\n",
    "df1.info()"
   ]
  },
  {
   "cell_type": "markdown",
   "id": "18b5dfff",
   "metadata": {
    "id": "18b5dfff"
   },
   "source": [
    "Можно увидеть, что данные соответствуют описанию. Также стоит отметить, что имеются пропуски, значительное количество пропусков находится в столбце с количеством посадочных мест и чуть меньше пропусков в столбце с информацией о днях и часах работы. Для некоторых столбцов тип данных подобран не совсем корректно, поэтому в дальнейшей работе мы поменяем некоторые типы данных. \n",
    "Названия столбцов имеют корректные названия и они все приведены к виду `snake case`"
   ]
  },
  {
   "cell_type": "code",
   "execution_count": 5,
   "id": "f68a7419",
   "metadata": {
    "id": "f68a7419"
   },
   "outputs": [
    {
     "data": {
      "text/html": [
       "<div>\n",
       "<style scoped>\n",
       "    .dataframe tbody tr th:only-of-type {\n",
       "        vertical-align: middle;\n",
       "    }\n",
       "\n",
       "    .dataframe tbody tr th {\n",
       "        vertical-align: top;\n",
       "    }\n",
       "\n",
       "    .dataframe thead th {\n",
       "        text-align: right;\n",
       "    }\n",
       "</style>\n",
       "<table border=\"1\" class=\"dataframe\">\n",
       "  <thead>\n",
       "    <tr style=\"text-align: right;\">\n",
       "      <th></th>\n",
       "      <th>id</th>\n",
       "      <th>name</th>\n",
       "      <th>category</th>\n",
       "      <th>address</th>\n",
       "      <th>district</th>\n",
       "      <th>hours</th>\n",
       "      <th>rating</th>\n",
       "      <th>chain</th>\n",
       "      <th>seats</th>\n",
       "    </tr>\n",
       "  </thead>\n",
       "  <tbody>\n",
       "    <tr>\n",
       "      <th>0</th>\n",
       "      <td>0c3e3439a8c64ea5bf6ecd6ca6ae19f0</td>\n",
       "      <td>WoWфли</td>\n",
       "      <td>кафе</td>\n",
       "      <td>Москва, улица Дыбенко, 7/1</td>\n",
       "      <td>Северный административный округ</td>\n",
       "      <td>ежедневно, 10:00–22:00</td>\n",
       "      <td>5.0</td>\n",
       "      <td>0</td>\n",
       "      <td>NaN</td>\n",
       "    </tr>\n",
       "    <tr>\n",
       "      <th>1</th>\n",
       "      <td>045780ada3474c57a2112e505d74b633</td>\n",
       "      <td>Четыре комнаты</td>\n",
       "      <td>ресторан</td>\n",
       "      <td>Москва, улица Дыбенко, 36, корп. 1</td>\n",
       "      <td>Северный административный округ</td>\n",
       "      <td>ежедневно, 10:00–22:00</td>\n",
       "      <td>4.5</td>\n",
       "      <td>0</td>\n",
       "      <td>4.0</td>\n",
       "    </tr>\n",
       "    <tr>\n",
       "      <th>2</th>\n",
       "      <td>1070b6b59144425896c65889347fcff6</td>\n",
       "      <td>Хазри</td>\n",
       "      <td>кафе</td>\n",
       "      <td>Москва, Клязьминская улица, 15</td>\n",
       "      <td>Северный административный округ</td>\n",
       "      <td>пн-чт 11:00–02:00; пт,сб 11:00–05:00; вс 11:00...</td>\n",
       "      <td>4.6</td>\n",
       "      <td>0</td>\n",
       "      <td>45.0</td>\n",
       "    </tr>\n",
       "    <tr>\n",
       "      <th>3</th>\n",
       "      <td>03ac7cd772104f65b58b349dc59f03ee</td>\n",
       "      <td>Dormouse Coffee Shop</td>\n",
       "      <td>кофейня</td>\n",
       "      <td>Москва, улица Маршала Федоренко, 12</td>\n",
       "      <td>Северный административный округ</td>\n",
       "      <td>ежедневно, 09:00–22:00</td>\n",
       "      <td>5.0</td>\n",
       "      <td>0</td>\n",
       "      <td>NaN</td>\n",
       "    </tr>\n",
       "    <tr>\n",
       "      <th>4</th>\n",
       "      <td>a163aada139c4c7f87b0b1c0b466a50f</td>\n",
       "      <td>Иль Марко</td>\n",
       "      <td>пиццерия</td>\n",
       "      <td>Москва, Правобережная улица, 1Б</td>\n",
       "      <td>Северный административный округ</td>\n",
       "      <td>ежедневно, 10:00–22:00</td>\n",
       "      <td>5.0</td>\n",
       "      <td>1</td>\n",
       "      <td>148.0</td>\n",
       "    </tr>\n",
       "  </tbody>\n",
       "</table>\n",
       "</div>"
      ],
      "text/plain": [
       "                                 id                  name  category  \\\n",
       "0  0c3e3439a8c64ea5bf6ecd6ca6ae19f0                WoWфли      кафе   \n",
       "1  045780ada3474c57a2112e505d74b633        Четыре комнаты  ресторан   \n",
       "2  1070b6b59144425896c65889347fcff6                 Хазри      кафе   \n",
       "3  03ac7cd772104f65b58b349dc59f03ee  Dormouse Coffee Shop   кофейня   \n",
       "4  a163aada139c4c7f87b0b1c0b466a50f             Иль Марко  пиццерия   \n",
       "\n",
       "                               address                         district  \\\n",
       "0           Москва, улица Дыбенко, 7/1  Северный административный округ   \n",
       "1   Москва, улица Дыбенко, 36, корп. 1  Северный административный округ   \n",
       "2       Москва, Клязьминская улица, 15  Северный административный округ   \n",
       "3  Москва, улица Маршала Федоренко, 12  Северный административный округ   \n",
       "4      Москва, Правобережная улица, 1Б  Северный административный округ   \n",
       "\n",
       "                                               hours  rating  chain  seats  \n",
       "0                             ежедневно, 10:00–22:00     5.0      0    NaN  \n",
       "1                             ежедневно, 10:00–22:00     4.5      0    4.0  \n",
       "2  пн-чт 11:00–02:00; пт,сб 11:00–05:00; вс 11:00...     4.6      0   45.0  \n",
       "3                             ежедневно, 09:00–22:00     5.0      0    NaN  \n",
       "4                             ежедневно, 10:00–22:00     5.0      1  148.0  "
      ]
     },
     "execution_count": 5,
     "metadata": {},
     "output_type": "execute_result"
    }
   ],
   "source": [
    "#выведем первые 5 строчек датафрейма:\n",
    "df1.head()"
   ]
  },
  {
   "cell_type": "code",
   "execution_count": 6,
   "id": "dd415c80",
   "metadata": {
    "id": "dd415c80"
   },
   "outputs": [
    {
     "data": {
      "text/html": [
       "<div>\n",
       "<style scoped>\n",
       "    .dataframe tbody tr th:only-of-type {\n",
       "        vertical-align: middle;\n",
       "    }\n",
       "\n",
       "    .dataframe tbody tr th {\n",
       "        vertical-align: top;\n",
       "    }\n",
       "\n",
       "    .dataframe thead th {\n",
       "        text-align: right;\n",
       "    }\n",
       "</style>\n",
       "<table border=\"1\" class=\"dataframe\">\n",
       "  <thead>\n",
       "    <tr style=\"text-align: right;\">\n",
       "      <th></th>\n",
       "      <th>id</th>\n",
       "      <th>name</th>\n",
       "      <th>category</th>\n",
       "      <th>address</th>\n",
       "      <th>district</th>\n",
       "      <th>hours</th>\n",
       "      <th>rating</th>\n",
       "      <th>chain</th>\n",
       "      <th>seats</th>\n",
       "    </tr>\n",
       "  </thead>\n",
       "  <tbody>\n",
       "    <tr>\n",
       "      <th>8401</th>\n",
       "      <td>0342ad1a45ed41ba89dcba246a8267e5</td>\n",
       "      <td>Суши Мания</td>\n",
       "      <td>кафе</td>\n",
       "      <td>Москва, Профсоюзная улица, 56</td>\n",
       "      <td>Юго-Западный административный округ</td>\n",
       "      <td>ежедневно, 09:00–02:00</td>\n",
       "      <td>4.4</td>\n",
       "      <td>0</td>\n",
       "      <td>86.0</td>\n",
       "    </tr>\n",
       "    <tr>\n",
       "      <th>8402</th>\n",
       "      <td>ee6bb7c3650e47bd8186fca08eda1091</td>\n",
       "      <td>Миславнес</td>\n",
       "      <td>кафе</td>\n",
       "      <td>Москва, Пролетарский проспект, 19, корп. 1</td>\n",
       "      <td>Южный административный округ</td>\n",
       "      <td>ежедневно, 08:00–22:00</td>\n",
       "      <td>4.8</td>\n",
       "      <td>0</td>\n",
       "      <td>150.0</td>\n",
       "    </tr>\n",
       "    <tr>\n",
       "      <th>8403</th>\n",
       "      <td>62e8c64d4c89467aba608e39ef87616b</td>\n",
       "      <td>Самовар</td>\n",
       "      <td>кафе</td>\n",
       "      <td>Москва, Люблинская улица, 112А, стр. 1</td>\n",
       "      <td>Юго-Восточный административный округ</td>\n",
       "      <td>ежедневно, круглосуточно</td>\n",
       "      <td>3.9</td>\n",
       "      <td>0</td>\n",
       "      <td>150.0</td>\n",
       "    </tr>\n",
       "    <tr>\n",
       "      <th>8404</th>\n",
       "      <td>06a0db5ecd4842d48cd6350aa923e297</td>\n",
       "      <td>Чайхана Sabr</td>\n",
       "      <td>кафе</td>\n",
       "      <td>Москва, Люблинская улица, 112А, стр. 1</td>\n",
       "      <td>Юго-Восточный административный округ</td>\n",
       "      <td>ежедневно, круглосуточно</td>\n",
       "      <td>4.2</td>\n",
       "      <td>1</td>\n",
       "      <td>150.0</td>\n",
       "    </tr>\n",
       "    <tr>\n",
       "      <th>8405</th>\n",
       "      <td>9d56f8f7a7f74df1a925bc0fd2de8aae</td>\n",
       "      <td>Kebab Time</td>\n",
       "      <td>кафе</td>\n",
       "      <td>Москва, Россошанский проезд, 6</td>\n",
       "      <td>Южный административный округ</td>\n",
       "      <td>ежедневно, круглосуточно</td>\n",
       "      <td>3.9</td>\n",
       "      <td>0</td>\n",
       "      <td>12.0</td>\n",
       "    </tr>\n",
       "  </tbody>\n",
       "</table>\n",
       "</div>"
      ],
      "text/plain": [
       "                                    id          name category  \\\n",
       "8401  0342ad1a45ed41ba89dcba246a8267e5    Суши Мания     кафе   \n",
       "8402  ee6bb7c3650e47bd8186fca08eda1091     Миславнес     кафе   \n",
       "8403  62e8c64d4c89467aba608e39ef87616b       Самовар     кафе   \n",
       "8404  06a0db5ecd4842d48cd6350aa923e297  Чайхана Sabr     кафе   \n",
       "8405  9d56f8f7a7f74df1a925bc0fd2de8aae    Kebab Time     кафе   \n",
       "\n",
       "                                         address  \\\n",
       "8401               Москва, Профсоюзная улица, 56   \n",
       "8402  Москва, Пролетарский проспект, 19, корп. 1   \n",
       "8403      Москва, Люблинская улица, 112А, стр. 1   \n",
       "8404      Москва, Люблинская улица, 112А, стр. 1   \n",
       "8405              Москва, Россошанский проезд, 6   \n",
       "\n",
       "                                  district                     hours  rating  \\\n",
       "8401   Юго-Западный административный округ    ежедневно, 09:00–02:00     4.4   \n",
       "8402          Южный административный округ    ежедневно, 08:00–22:00     4.8   \n",
       "8403  Юго-Восточный административный округ  ежедневно, круглосуточно     3.9   \n",
       "8404  Юго-Восточный административный округ  ежедневно, круглосуточно     4.2   \n",
       "8405          Южный административный округ  ежедневно, круглосуточно     3.9   \n",
       "\n",
       "      chain  seats  \n",
       "8401      0   86.0  \n",
       "8402      0  150.0  \n",
       "8403      0  150.0  \n",
       "8404      1  150.0  \n",
       "8405      0   12.0  "
      ]
     },
     "execution_count": 6,
     "metadata": {},
     "output_type": "execute_result"
    }
   ],
   "source": [
    "#выведем последние 5 строчек датафрейма:\n",
    "df1.tail()"
   ]
  },
  {
   "cell_type": "code",
   "execution_count": 7,
   "id": "a63820cf",
   "metadata": {},
   "outputs": [],
   "source": [
    "#выгрузим данных датафрейма из второго файла:\n",
    "df2 = pd.read_csv('https://code.s3.yandex.net//datasets/rest_price.csv')"
   ]
  },
  {
   "cell_type": "code",
   "execution_count": 8,
   "id": "8d09bb0b",
   "metadata": {},
   "outputs": [
    {
     "name": "stdout",
     "output_type": "stream",
     "text": [
      "<class 'pandas.core.frame.DataFrame'>\n",
      "RangeIndex: 4058 entries, 0 to 4057\n",
      "Data columns (total 5 columns):\n",
      " #   Column             Non-Null Count  Dtype  \n",
      "---  ------             --------------  -----  \n",
      " 0   id                 4058 non-null   object \n",
      " 1   price              3315 non-null   object \n",
      " 2   avg_bill           3816 non-null   object \n",
      " 3   middle_avg_bill    3149 non-null   float64\n",
      " 4   middle_coffee_cup  535 non-null    float64\n",
      "dtypes: float64(2), object(3)\n",
      "memory usage: 158.6+ KB\n"
     ]
    }
   ],
   "source": [
    "#выводим основную информацию о данных в датафрейме\n",
    "df2.info()"
   ]
  },
  {
   "cell_type": "markdown",
   "id": "3d9f2f49",
   "metadata": {},
   "source": [
    "В данных датафрейма почти в каждом столбце находятся пропуски, которые нужно будет обработать. Столбцы названы корректно и приведены к стилю `snake case`"
   ]
  },
  {
   "cell_type": "code",
   "execution_count": 9,
   "id": "fd9a9260",
   "metadata": {},
   "outputs": [
    {
     "data": {
      "text/html": [
       "<div>\n",
       "<style scoped>\n",
       "    .dataframe tbody tr th:only-of-type {\n",
       "        vertical-align: middle;\n",
       "    }\n",
       "\n",
       "    .dataframe tbody tr th {\n",
       "        vertical-align: top;\n",
       "    }\n",
       "\n",
       "    .dataframe thead th {\n",
       "        text-align: right;\n",
       "    }\n",
       "</style>\n",
       "<table border=\"1\" class=\"dataframe\">\n",
       "  <thead>\n",
       "    <tr style=\"text-align: right;\">\n",
       "      <th></th>\n",
       "      <th>id</th>\n",
       "      <th>price</th>\n",
       "      <th>avg_bill</th>\n",
       "      <th>middle_avg_bill</th>\n",
       "      <th>middle_coffee_cup</th>\n",
       "    </tr>\n",
       "  </thead>\n",
       "  <tbody>\n",
       "    <tr>\n",
       "      <th>0</th>\n",
       "      <td>045780ada3474c57a2112e505d74b633</td>\n",
       "      <td>выше среднего</td>\n",
       "      <td>Средний счёт:1500–1600 ₽</td>\n",
       "      <td>1550.0</td>\n",
       "      <td>NaN</td>\n",
       "    </tr>\n",
       "    <tr>\n",
       "      <th>1</th>\n",
       "      <td>1070b6b59144425896c65889347fcff6</td>\n",
       "      <td>средние</td>\n",
       "      <td>Средний счёт:от 1000 ₽</td>\n",
       "      <td>1000.0</td>\n",
       "      <td>NaN</td>\n",
       "    </tr>\n",
       "    <tr>\n",
       "      <th>2</th>\n",
       "      <td>03ac7cd772104f65b58b349dc59f03ee</td>\n",
       "      <td>NaN</td>\n",
       "      <td>Цена чашки капучино:155–185 ₽</td>\n",
       "      <td>NaN</td>\n",
       "      <td>170.0</td>\n",
       "    </tr>\n",
       "    <tr>\n",
       "      <th>3</th>\n",
       "      <td>a163aada139c4c7f87b0b1c0b466a50f</td>\n",
       "      <td>средние</td>\n",
       "      <td>Средний счёт:400–600 ₽</td>\n",
       "      <td>500.0</td>\n",
       "      <td>NaN</td>\n",
       "    </tr>\n",
       "    <tr>\n",
       "      <th>4</th>\n",
       "      <td>8a343546b24e4a499ad96eb7d0797a8a</td>\n",
       "      <td>средние</td>\n",
       "      <td>NaN</td>\n",
       "      <td>NaN</td>\n",
       "      <td>NaN</td>\n",
       "    </tr>\n",
       "  </tbody>\n",
       "</table>\n",
       "</div>"
      ],
      "text/plain": [
       "                                 id          price  \\\n",
       "0  045780ada3474c57a2112e505d74b633  выше среднего   \n",
       "1  1070b6b59144425896c65889347fcff6        средние   \n",
       "2  03ac7cd772104f65b58b349dc59f03ee            NaN   \n",
       "3  a163aada139c4c7f87b0b1c0b466a50f        средние   \n",
       "4  8a343546b24e4a499ad96eb7d0797a8a        средние   \n",
       "\n",
       "                        avg_bill  middle_avg_bill  middle_coffee_cup  \n",
       "0       Средний счёт:1500–1600 ₽           1550.0                NaN  \n",
       "1         Средний счёт:от 1000 ₽           1000.0                NaN  \n",
       "2  Цена чашки капучино:155–185 ₽              NaN              170.0  \n",
       "3         Средний счёт:400–600 ₽            500.0                NaN  \n",
       "4                            NaN              NaN                NaN  "
      ]
     },
     "execution_count": 9,
     "metadata": {},
     "output_type": "execute_result"
    }
   ],
   "source": [
    "#выведем первые 5 строчек датафрейма:\n",
    "df2.head()"
   ]
  },
  {
   "cell_type": "code",
   "execution_count": 10,
   "id": "6d660add",
   "metadata": {},
   "outputs": [
    {
     "data": {
      "text/html": [
       "<div>\n",
       "<style scoped>\n",
       "    .dataframe tbody tr th:only-of-type {\n",
       "        vertical-align: middle;\n",
       "    }\n",
       "\n",
       "    .dataframe tbody tr th {\n",
       "        vertical-align: top;\n",
       "    }\n",
       "\n",
       "    .dataframe thead th {\n",
       "        text-align: right;\n",
       "    }\n",
       "</style>\n",
       "<table border=\"1\" class=\"dataframe\">\n",
       "  <thead>\n",
       "    <tr style=\"text-align: right;\">\n",
       "      <th></th>\n",
       "      <th>id</th>\n",
       "      <th>price</th>\n",
       "      <th>avg_bill</th>\n",
       "      <th>middle_avg_bill</th>\n",
       "      <th>middle_coffee_cup</th>\n",
       "    </tr>\n",
       "  </thead>\n",
       "  <tbody>\n",
       "    <tr>\n",
       "      <th>4053</th>\n",
       "      <td>962800540173458486f3c465437c2d8b</td>\n",
       "      <td>средние</td>\n",
       "      <td>Цена бокала пива:от 140 ₽</td>\n",
       "      <td>NaN</td>\n",
       "      <td>NaN</td>\n",
       "    </tr>\n",
       "    <tr>\n",
       "      <th>4054</th>\n",
       "      <td>4277890d659341848d7051cbf2e51f51</td>\n",
       "      <td>выше среднего</td>\n",
       "      <td>Средний счёт:1000–1500 ₽</td>\n",
       "      <td>1250.0</td>\n",
       "      <td>NaN</td>\n",
       "    </tr>\n",
       "    <tr>\n",
       "      <th>4055</th>\n",
       "      <td>026cbc478f9b4c3294a83458dcd89982</td>\n",
       "      <td>средние</td>\n",
       "      <td>NaN</td>\n",
       "      <td>NaN</td>\n",
       "      <td>NaN</td>\n",
       "    </tr>\n",
       "    <tr>\n",
       "      <th>4056</th>\n",
       "      <td>71cc394927204d45b81c3a91edb47955</td>\n",
       "      <td>NaN</td>\n",
       "      <td>Средний счёт:50–250 ₽</td>\n",
       "      <td>150.0</td>\n",
       "      <td>NaN</td>\n",
       "    </tr>\n",
       "    <tr>\n",
       "      <th>4057</th>\n",
       "      <td>62e8c64d4c89467aba608e39ef87616b</td>\n",
       "      <td>NaN</td>\n",
       "      <td>Средний счёт:от 150 ₽</td>\n",
       "      <td>150.0</td>\n",
       "      <td>NaN</td>\n",
       "    </tr>\n",
       "  </tbody>\n",
       "</table>\n",
       "</div>"
      ],
      "text/plain": [
       "                                    id          price  \\\n",
       "4053  962800540173458486f3c465437c2d8b        средние   \n",
       "4054  4277890d659341848d7051cbf2e51f51  выше среднего   \n",
       "4055  026cbc478f9b4c3294a83458dcd89982        средние   \n",
       "4056  71cc394927204d45b81c3a91edb47955            NaN   \n",
       "4057  62e8c64d4c89467aba608e39ef87616b            NaN   \n",
       "\n",
       "                       avg_bill  middle_avg_bill  middle_coffee_cup  \n",
       "4053  Цена бокала пива:от 140 ₽              NaN                NaN  \n",
       "4054   Средний счёт:1000–1500 ₽           1250.0                NaN  \n",
       "4055                        NaN              NaN                NaN  \n",
       "4056      Средний счёт:50–250 ₽            150.0                NaN  \n",
       "4057      Средний счёт:от 150 ₽            150.0                NaN  "
      ]
     },
     "execution_count": 10,
     "metadata": {},
     "output_type": "execute_result"
    }
   ],
   "source": [
    "#выведем последние 5 строчек датафрейма:\n",
    "df2.tail()"
   ]
  },
  {
   "cell_type": "markdown",
   "id": "2c614a62",
   "metadata": {
    "id": "2c614a62"
   },
   "source": [
    "---\n",
    "\n",
    "### Промежуточный вывод\n",
    "\n"
   ]
  },
  {
   "cell_type": "markdown",
   "id": "cd054f65",
   "metadata": {
    "id": "3593b7d5"
   },
   "source": [
    "Датасет `rest_info.csv` содержит 9 столбцов и 8406 строк, в которых представлена основная информация об заведениях общественного питания Москвы.\n",
    "\n",
    "После первичного анализа данных можно сделать следующие выводы:\n",
    "- Названия столбцов приведены к единому виду.\n",
    "- Все представленные данные содержат как строковый формат данных, так и числовой и хранятся в типах данных `object`,`int64`, `float64`. Значения в столбцах `id`, `name`, `category`, `address`, `district` и `hours` представлены строковым форматом. `chain` представлен типом данных `int64` и показывает, является ли заведение сетевым (для маленьких сетей могут встречаться ошибки): 0 — заведение не является сетевым; 1 — заведение является сетевым. `rating`,`seats` представлены типом данных `float64`.\n",
    "- Пропуски содержатся столбце `seats` и `hours`. Однако следует проверить и другие столбцы: в них могут встречаться значения-индикаторы, которые будут говорить об отсутствии данных.\n",
    "- Судя по первому знакомству с данными, значения в столбцах соответствуют своему описанию."
   ]
  },
  {
   "cell_type": "markdown",
   "id": "b043cc6a",
   "metadata": {
    "id": "c2cc7f38"
   },
   "source": [
    "Датасет `rest_price.csv` содержит 5 столбцов и 4058 строк, в которых представлена основная информация о ценах в заведениях общественного питания Москвы.\n",
    "\n",
    "После первичного анализа данных можно сделать следующие выводы:\n",
    "- Названия столбцов приведены к единому виду.\n",
    "- Все представленные данные содержат как строковый формат данных, так и числовой и хранятся в типах данных `object`,`float64`. Значения в столбцах `id`, `price`, `avg_bill` представлены строковым форматом. `\tmiddle_avg_bill`,`middle_coffee_cup` представлены типом данных `float64`.\n",
    "- Пропуски содержатся в столбце `middle_coffee_cup`,`middle_avg_bill`,`price`,`avg_bill`. Такое наличие пропусков может быть связано с тем, что отсутствие информации в столбце может быть вызвано отсутствием необходимой информации в другом столбце.\n",
    "- Судя по первому знакомству с данными, значения в столбцах соответствуют своему описанию."
   ]
  },
  {
   "cell_type": "markdown",
   "id": "8a8d1491",
   "metadata": {
    "id": "8a8d1491"
   },
   "source": [
    "### Подготовка единого датафрейма\n",
    "\n",
    "- Объедините данные двух датасетов в один, с которым вы и продолжите работу."
   ]
  },
  {
   "cell_type": "code",
   "execution_count": 11,
   "id": "3408e303",
   "metadata": {
    "id": "3408e303"
   },
   "outputs": [],
   "source": [
    "#создаем общий датафрейм со всеми данными общественного питания города Москвы:\n",
    "df = df1.merge(df2,on='id',how='left')"
   ]
  },
  {
   "cell_type": "code",
   "execution_count": 12,
   "id": "5695950b",
   "metadata": {
    "id": "5695950b"
   },
   "outputs": [
    {
     "name": "stdout",
     "output_type": "stream",
     "text": [
      "<class 'pandas.core.frame.DataFrame'>\n",
      "Int64Index: 8406 entries, 0 to 8405\n",
      "Data columns (total 13 columns):\n",
      " #   Column             Non-Null Count  Dtype  \n",
      "---  ------             --------------  -----  \n",
      " 0   id                 8406 non-null   object \n",
      " 1   name               8406 non-null   object \n",
      " 2   category           8406 non-null   object \n",
      " 3   address            8406 non-null   object \n",
      " 4   district           8406 non-null   object \n",
      " 5   hours              7870 non-null   object \n",
      " 6   rating             8406 non-null   float64\n",
      " 7   chain              8406 non-null   int64  \n",
      " 8   seats              4795 non-null   float64\n",
      " 9   price              3315 non-null   object \n",
      " 10  avg_bill           3816 non-null   object \n",
      " 11  middle_avg_bill    3149 non-null   float64\n",
      " 12  middle_coffee_cup  535 non-null    float64\n",
      "dtypes: float64(4), int64(1), object(8)\n",
      "memory usage: 919.4+ KB\n"
     ]
    }
   ],
   "source": [
    "#выводим основную информацию объединенного датафрейма:\n",
    "df.info()"
   ]
  },
  {
   "cell_type": "code",
   "execution_count": 13,
   "id": "6577c71c",
   "metadata": {
    "id": "6577c71c"
   },
   "outputs": [
    {
     "data": {
      "text/html": [
       "<div>\n",
       "<style scoped>\n",
       "    .dataframe tbody tr th:only-of-type {\n",
       "        vertical-align: middle;\n",
       "    }\n",
       "\n",
       "    .dataframe tbody tr th {\n",
       "        vertical-align: top;\n",
       "    }\n",
       "\n",
       "    .dataframe thead th {\n",
       "        text-align: right;\n",
       "    }\n",
       "</style>\n",
       "<table border=\"1\" class=\"dataframe\">\n",
       "  <thead>\n",
       "    <tr style=\"text-align: right;\">\n",
       "      <th></th>\n",
       "      <th>id</th>\n",
       "      <th>name</th>\n",
       "      <th>category</th>\n",
       "      <th>address</th>\n",
       "      <th>district</th>\n",
       "      <th>hours</th>\n",
       "      <th>rating</th>\n",
       "      <th>chain</th>\n",
       "      <th>seats</th>\n",
       "      <th>price</th>\n",
       "      <th>avg_bill</th>\n",
       "      <th>middle_avg_bill</th>\n",
       "      <th>middle_coffee_cup</th>\n",
       "    </tr>\n",
       "  </thead>\n",
       "  <tbody>\n",
       "    <tr>\n",
       "      <th>0</th>\n",
       "      <td>0c3e3439a8c64ea5bf6ecd6ca6ae19f0</td>\n",
       "      <td>WoWфли</td>\n",
       "      <td>кафе</td>\n",
       "      <td>Москва, улица Дыбенко, 7/1</td>\n",
       "      <td>Северный административный округ</td>\n",
       "      <td>ежедневно, 10:00–22:00</td>\n",
       "      <td>5.0</td>\n",
       "      <td>0</td>\n",
       "      <td>NaN</td>\n",
       "      <td>NaN</td>\n",
       "      <td>NaN</td>\n",
       "      <td>NaN</td>\n",
       "      <td>NaN</td>\n",
       "    </tr>\n",
       "    <tr>\n",
       "      <th>1</th>\n",
       "      <td>045780ada3474c57a2112e505d74b633</td>\n",
       "      <td>Четыре комнаты</td>\n",
       "      <td>ресторан</td>\n",
       "      <td>Москва, улица Дыбенко, 36, корп. 1</td>\n",
       "      <td>Северный административный округ</td>\n",
       "      <td>ежедневно, 10:00–22:00</td>\n",
       "      <td>4.5</td>\n",
       "      <td>0</td>\n",
       "      <td>4.0</td>\n",
       "      <td>выше среднего</td>\n",
       "      <td>Средний счёт:1500–1600 ₽</td>\n",
       "      <td>1550.0</td>\n",
       "      <td>NaN</td>\n",
       "    </tr>\n",
       "    <tr>\n",
       "      <th>2</th>\n",
       "      <td>1070b6b59144425896c65889347fcff6</td>\n",
       "      <td>Хазри</td>\n",
       "      <td>кафе</td>\n",
       "      <td>Москва, Клязьминская улица, 15</td>\n",
       "      <td>Северный административный округ</td>\n",
       "      <td>пн-чт 11:00–02:00; пт,сб 11:00–05:00; вс 11:00...</td>\n",
       "      <td>4.6</td>\n",
       "      <td>0</td>\n",
       "      <td>45.0</td>\n",
       "      <td>средние</td>\n",
       "      <td>Средний счёт:от 1000 ₽</td>\n",
       "      <td>1000.0</td>\n",
       "      <td>NaN</td>\n",
       "    </tr>\n",
       "    <tr>\n",
       "      <th>3</th>\n",
       "      <td>03ac7cd772104f65b58b349dc59f03ee</td>\n",
       "      <td>Dormouse Coffee Shop</td>\n",
       "      <td>кофейня</td>\n",
       "      <td>Москва, улица Маршала Федоренко, 12</td>\n",
       "      <td>Северный административный округ</td>\n",
       "      <td>ежедневно, 09:00–22:00</td>\n",
       "      <td>5.0</td>\n",
       "      <td>0</td>\n",
       "      <td>NaN</td>\n",
       "      <td>NaN</td>\n",
       "      <td>Цена чашки капучино:155–185 ₽</td>\n",
       "      <td>NaN</td>\n",
       "      <td>170.0</td>\n",
       "    </tr>\n",
       "    <tr>\n",
       "      <th>4</th>\n",
       "      <td>a163aada139c4c7f87b0b1c0b466a50f</td>\n",
       "      <td>Иль Марко</td>\n",
       "      <td>пиццерия</td>\n",
       "      <td>Москва, Правобережная улица, 1Б</td>\n",
       "      <td>Северный административный округ</td>\n",
       "      <td>ежедневно, 10:00–22:00</td>\n",
       "      <td>5.0</td>\n",
       "      <td>1</td>\n",
       "      <td>148.0</td>\n",
       "      <td>средние</td>\n",
       "      <td>Средний счёт:400–600 ₽</td>\n",
       "      <td>500.0</td>\n",
       "      <td>NaN</td>\n",
       "    </tr>\n",
       "  </tbody>\n",
       "</table>\n",
       "</div>"
      ],
      "text/plain": [
       "                                 id                  name  category  \\\n",
       "0  0c3e3439a8c64ea5bf6ecd6ca6ae19f0                WoWфли      кафе   \n",
       "1  045780ada3474c57a2112e505d74b633        Четыре комнаты  ресторан   \n",
       "2  1070b6b59144425896c65889347fcff6                 Хазри      кафе   \n",
       "3  03ac7cd772104f65b58b349dc59f03ee  Dormouse Coffee Shop   кофейня   \n",
       "4  a163aada139c4c7f87b0b1c0b466a50f             Иль Марко  пиццерия   \n",
       "\n",
       "                               address                         district  \\\n",
       "0           Москва, улица Дыбенко, 7/1  Северный административный округ   \n",
       "1   Москва, улица Дыбенко, 36, корп. 1  Северный административный округ   \n",
       "2       Москва, Клязьминская улица, 15  Северный административный округ   \n",
       "3  Москва, улица Маршала Федоренко, 12  Северный административный округ   \n",
       "4      Москва, Правобережная улица, 1Б  Северный административный округ   \n",
       "\n",
       "                                               hours  rating  chain  seats  \\\n",
       "0                             ежедневно, 10:00–22:00     5.0      0    NaN   \n",
       "1                             ежедневно, 10:00–22:00     4.5      0    4.0   \n",
       "2  пн-чт 11:00–02:00; пт,сб 11:00–05:00; вс 11:00...     4.6      0   45.0   \n",
       "3                             ежедневно, 09:00–22:00     5.0      0    NaN   \n",
       "4                             ежедневно, 10:00–22:00     5.0      1  148.0   \n",
       "\n",
       "           price                       avg_bill  middle_avg_bill  \\\n",
       "0            NaN                            NaN              NaN   \n",
       "1  выше среднего       Средний счёт:1500–1600 ₽           1550.0   \n",
       "2        средние         Средний счёт:от 1000 ₽           1000.0   \n",
       "3            NaN  Цена чашки капучино:155–185 ₽              NaN   \n",
       "4        средние         Средний счёт:400–600 ₽            500.0   \n",
       "\n",
       "   middle_coffee_cup  \n",
       "0                NaN  \n",
       "1                NaN  \n",
       "2                NaN  \n",
       "3              170.0  \n",
       "4                NaN  "
      ]
     },
     "execution_count": 13,
     "metadata": {},
     "output_type": "execute_result"
    }
   ],
   "source": [
    "#выводим первые 5 строк объединенного датафрейма\n",
    "df.head()"
   ]
  },
  {
   "cell_type": "code",
   "execution_count": 14,
   "id": "62c28eee",
   "metadata": {},
   "outputs": [
    {
     "data": {
      "text/html": [
       "<div>\n",
       "<style scoped>\n",
       "    .dataframe tbody tr th:only-of-type {\n",
       "        vertical-align: middle;\n",
       "    }\n",
       "\n",
       "    .dataframe tbody tr th {\n",
       "        vertical-align: top;\n",
       "    }\n",
       "\n",
       "    .dataframe thead th {\n",
       "        text-align: right;\n",
       "    }\n",
       "</style>\n",
       "<table border=\"1\" class=\"dataframe\">\n",
       "  <thead>\n",
       "    <tr style=\"text-align: right;\">\n",
       "      <th></th>\n",
       "      <th>id</th>\n",
       "      <th>name</th>\n",
       "      <th>category</th>\n",
       "      <th>address</th>\n",
       "      <th>district</th>\n",
       "      <th>hours</th>\n",
       "      <th>rating</th>\n",
       "      <th>chain</th>\n",
       "      <th>seats</th>\n",
       "      <th>price</th>\n",
       "      <th>avg_bill</th>\n",
       "      <th>middle_avg_bill</th>\n",
       "      <th>middle_coffee_cup</th>\n",
       "    </tr>\n",
       "  </thead>\n",
       "  <tbody>\n",
       "    <tr>\n",
       "      <th>8401</th>\n",
       "      <td>0342ad1a45ed41ba89dcba246a8267e5</td>\n",
       "      <td>Суши Мания</td>\n",
       "      <td>кафе</td>\n",
       "      <td>Москва, Профсоюзная улица, 56</td>\n",
       "      <td>Юго-Западный административный округ</td>\n",
       "      <td>ежедневно, 09:00–02:00</td>\n",
       "      <td>4.4</td>\n",
       "      <td>0</td>\n",
       "      <td>86.0</td>\n",
       "      <td>NaN</td>\n",
       "      <td>NaN</td>\n",
       "      <td>NaN</td>\n",
       "      <td>NaN</td>\n",
       "    </tr>\n",
       "    <tr>\n",
       "      <th>8402</th>\n",
       "      <td>ee6bb7c3650e47bd8186fca08eda1091</td>\n",
       "      <td>Миславнес</td>\n",
       "      <td>кафе</td>\n",
       "      <td>Москва, Пролетарский проспект, 19, корп. 1</td>\n",
       "      <td>Южный административный округ</td>\n",
       "      <td>ежедневно, 08:00–22:00</td>\n",
       "      <td>4.8</td>\n",
       "      <td>0</td>\n",
       "      <td>150.0</td>\n",
       "      <td>NaN</td>\n",
       "      <td>NaN</td>\n",
       "      <td>NaN</td>\n",
       "      <td>NaN</td>\n",
       "    </tr>\n",
       "    <tr>\n",
       "      <th>8403</th>\n",
       "      <td>62e8c64d4c89467aba608e39ef87616b</td>\n",
       "      <td>Самовар</td>\n",
       "      <td>кафе</td>\n",
       "      <td>Москва, Люблинская улица, 112А, стр. 1</td>\n",
       "      <td>Юго-Восточный административный округ</td>\n",
       "      <td>ежедневно, круглосуточно</td>\n",
       "      <td>3.9</td>\n",
       "      <td>0</td>\n",
       "      <td>150.0</td>\n",
       "      <td>NaN</td>\n",
       "      <td>Средний счёт:от 150 ₽</td>\n",
       "      <td>150.0</td>\n",
       "      <td>NaN</td>\n",
       "    </tr>\n",
       "    <tr>\n",
       "      <th>8404</th>\n",
       "      <td>06a0db5ecd4842d48cd6350aa923e297</td>\n",
       "      <td>Чайхана Sabr</td>\n",
       "      <td>кафе</td>\n",
       "      <td>Москва, Люблинская улица, 112А, стр. 1</td>\n",
       "      <td>Юго-Восточный административный округ</td>\n",
       "      <td>ежедневно, круглосуточно</td>\n",
       "      <td>4.2</td>\n",
       "      <td>1</td>\n",
       "      <td>150.0</td>\n",
       "      <td>NaN</td>\n",
       "      <td>NaN</td>\n",
       "      <td>NaN</td>\n",
       "      <td>NaN</td>\n",
       "    </tr>\n",
       "    <tr>\n",
       "      <th>8405</th>\n",
       "      <td>9d56f8f7a7f74df1a925bc0fd2de8aae</td>\n",
       "      <td>Kebab Time</td>\n",
       "      <td>кафе</td>\n",
       "      <td>Москва, Россошанский проезд, 6</td>\n",
       "      <td>Южный административный округ</td>\n",
       "      <td>ежедневно, круглосуточно</td>\n",
       "      <td>3.9</td>\n",
       "      <td>0</td>\n",
       "      <td>12.0</td>\n",
       "      <td>NaN</td>\n",
       "      <td>NaN</td>\n",
       "      <td>NaN</td>\n",
       "      <td>NaN</td>\n",
       "    </tr>\n",
       "  </tbody>\n",
       "</table>\n",
       "</div>"
      ],
      "text/plain": [
       "                                    id          name category  \\\n",
       "8401  0342ad1a45ed41ba89dcba246a8267e5    Суши Мания     кафе   \n",
       "8402  ee6bb7c3650e47bd8186fca08eda1091     Миславнес     кафе   \n",
       "8403  62e8c64d4c89467aba608e39ef87616b       Самовар     кафе   \n",
       "8404  06a0db5ecd4842d48cd6350aa923e297  Чайхана Sabr     кафе   \n",
       "8405  9d56f8f7a7f74df1a925bc0fd2de8aae    Kebab Time     кафе   \n",
       "\n",
       "                                         address  \\\n",
       "8401               Москва, Профсоюзная улица, 56   \n",
       "8402  Москва, Пролетарский проспект, 19, корп. 1   \n",
       "8403      Москва, Люблинская улица, 112А, стр. 1   \n",
       "8404      Москва, Люблинская улица, 112А, стр. 1   \n",
       "8405              Москва, Россошанский проезд, 6   \n",
       "\n",
       "                                  district                     hours  rating  \\\n",
       "8401   Юго-Западный административный округ    ежедневно, 09:00–02:00     4.4   \n",
       "8402          Южный административный округ    ежедневно, 08:00–22:00     4.8   \n",
       "8403  Юго-Восточный административный округ  ежедневно, круглосуточно     3.9   \n",
       "8404  Юго-Восточный административный округ  ежедневно, круглосуточно     4.2   \n",
       "8405          Южный административный округ  ежедневно, круглосуточно     3.9   \n",
       "\n",
       "      chain  seats price               avg_bill  middle_avg_bill  \\\n",
       "8401      0   86.0   NaN                    NaN              NaN   \n",
       "8402      0  150.0   NaN                    NaN              NaN   \n",
       "8403      0  150.0   NaN  Средний счёт:от 150 ₽            150.0   \n",
       "8404      1  150.0   NaN                    NaN              NaN   \n",
       "8405      0   12.0   NaN                    NaN              NaN   \n",
       "\n",
       "      middle_coffee_cup  \n",
       "8401                NaN  \n",
       "8402                NaN  \n",
       "8403                NaN  \n",
       "8404                NaN  \n",
       "8405                NaN  "
      ]
     },
     "execution_count": 14,
     "metadata": {},
     "output_type": "execute_result"
    }
   ],
   "source": [
    "#выводим последние 5 строк объединенного датафрейма\n",
    "df.tail()"
   ]
  },
  {
   "cell_type": "markdown",
   "id": "956e82e2",
   "metadata": {
    "id": "956e82e2"
   },
   "source": [
    "## 2. Предобработка данных\n",
    "\n",
    "Подготовьте данные к исследовательскому анализу:\n"
   ]
  },
  {
   "cell_type": "code",
   "execution_count": 15,
   "id": "e70d2e45",
   "metadata": {},
   "outputs": [
    {
     "data": {
      "text/plain": [
       "id                    object\n",
       "name                  object\n",
       "category              object\n",
       "address               object\n",
       "district              object\n",
       "hours                 object\n",
       "rating               float64\n",
       "chain                  int64\n",
       "seats                float64\n",
       "price                 object\n",
       "avg_bill              object\n",
       "middle_avg_bill      float64\n",
       "middle_coffee_cup    float64\n",
       "dtype: object"
      ]
     },
     "execution_count": 15,
     "metadata": {},
     "output_type": "execute_result"
    }
   ],
   "source": [
    "# Выводим типы данных каждой колонки нового датафрейма\n",
    "df.dtypes"
   ]
  },
  {
   "cell_type": "markdown",
   "id": "41b475da",
   "metadata": {},
   "source": [
    "\n",
    "Типы данных полей `rating` и `chain`, как было отмечено ранее, стоит оптимизировать.\n"
   ]
  },
  {
   "cell_type": "code",
   "execution_count": 16,
   "id": "66804750",
   "metadata": {},
   "outputs": [],
   "source": [
    "# Оптимизируем типы данных в столбцах\n",
    "df['rating'] = pd.to_numeric(df['rating'], downcast='float')\n",
    "df['chain'] = pd.to_numeric(df['chain'], downcast='integer')"
   ]
  },
  {
   "cell_type": "code",
   "execution_count": 17,
   "id": "ff9daac7",
   "metadata": {},
   "outputs": [
    {
     "data": {
      "text/plain": [
       "id                    object\n",
       "name                  object\n",
       "category              object\n",
       "address               object\n",
       "district              object\n",
       "hours                 object\n",
       "rating               float32\n",
       "chain                   int8\n",
       "seats                float64\n",
       "price                 object\n",
       "avg_bill              object\n",
       "middle_avg_bill      float64\n",
       "middle_coffee_cup    float64\n",
       "dtype: object"
      ]
     },
     "execution_count": 17,
     "metadata": {},
     "output_type": "execute_result"
    }
   ],
   "source": [
    "# Проверим типы данных после оптимизации\n",
    "df.dtypes"
   ]
  },
  {
   "cell_type": "markdown",
   "id": "b6a9331b",
   "metadata": {
    "id": "3d8840ca"
   },
   "source": [
    "При первичном анализе мы обнаружили пропуски в столбце seats,hours,price,avg_bill,middle_avg_bill,middle_coffee_cup датафрейма. Узнаем абсолютное и относительное количество пропусков в этом столбце."
   ]
  },
  {
   "cell_type": "code",
   "execution_count": 18,
   "id": "2ea145ca",
   "metadata": {
    "id": "2ea145ca"
   },
   "outputs": [
    {
     "data": {
      "text/plain": [
       "middle_coffee_cup    7871\n",
       "middle_avg_bill      5257\n",
       "price                5091\n",
       "avg_bill             4590\n",
       "seats                3611\n",
       "hours                 536\n",
       "id                      0\n",
       "name                    0\n",
       "category                0\n",
       "address                 0\n",
       "district                0\n",
       "rating                  0\n",
       "chain                   0\n",
       "dtype: int64"
      ]
     },
     "execution_count": 18,
     "metadata": {},
     "output_type": "execute_result"
    }
   ],
   "source": [
    "#выводим общее количество пропусков в столбцах датафрейма\n",
    "df.isna().sum().sort_values(ascending=False)"
   ]
  },
  {
   "cell_type": "code",
   "execution_count": 19,
   "id": "d9e7c358",
   "metadata": {
    "id": "d9e7c358"
   },
   "outputs": [
    {
     "data": {
      "text/plain": [
       "middle_coffee_cup    0.936355\n",
       "middle_avg_bill      0.625387\n",
       "price                0.605639\n",
       "avg_bill             0.546039\n",
       "seats                0.429574\n",
       "hours                0.063764\n",
       "id                   0.000000\n",
       "name                 0.000000\n",
       "category             0.000000\n",
       "address              0.000000\n",
       "district             0.000000\n",
       "rating               0.000000\n",
       "chain                0.000000\n",
       "dtype: float64"
      ]
     },
     "execution_count": 19,
     "metadata": {},
     "output_type": "execute_result"
    }
   ],
   "source": [
    "#выводим долю пропусков в столбцах датафрейма\n",
    "(df.isna().sum() / df.shape[0]).sort_values(ascending=False)"
   ]
  },
  {
   "cell_type": "markdown",
   "id": "6701228c",
   "metadata": {},
   "source": [
    "Пропуски наблюдаются в следующих столбцах: `hours` , `seats`, `avg_bill` , `price`, `middle_avg_bill` и `middle_coffee_cup`.\n",
    "* Пропуски в данных столбцах форрмируются вполне логично и точного решения, что с ними делать пока нет, по ходу анализа будем предпринимать попытки сократить пропуски или оставим все как есть.\n",
    "* Разве, что можно в столбце с количеством посадочных мест обработать пропуски значением -1, т.к. при этом значении подсчеты будут отражаться корректно и без больших отклонений, как например при 0\n",
    "* А также для корректной работы заменим пропуски в `price`, `avg_bill` на пустую строку, так как эти колонки включают текстовые данные и связаны: если нет данных по среднему чеку - нет данных и по категории цены."
   ]
  },
  {
   "cell_type": "code",
   "execution_count": 20,
   "id": "2ffbb5d3",
   "metadata": {},
   "outputs": [],
   "source": [
    "# Заменим пропуски в seats\n",
    "df['seats'] = df['seats'].fillna(-1)"
   ]
  },
  {
   "cell_type": "code",
   "execution_count": 21,
   "id": "30a419de",
   "metadata": {},
   "outputs": [],
   "source": [
    "# Заменим пропуски в price и avg_bill\n",
    "df['price'] = df['price'].fillna('')\n",
    "df['avg_bill'] = df['avg_bill'].fillna('')"
   ]
  },
  {
   "cell_type": "code",
   "execution_count": 22,
   "id": "2817f371",
   "metadata": {},
   "outputs": [
    {
     "data": {
      "text/plain": [
       "id                      0\n",
       "name                    0\n",
       "category                0\n",
       "address                 0\n",
       "district                0\n",
       "hours                 536\n",
       "rating                  0\n",
       "chain                   0\n",
       "seats                   0\n",
       "price                   0\n",
       "avg_bill                0\n",
       "middle_avg_bill      5257\n",
       "middle_coffee_cup    7871\n",
       "dtype: int64"
      ]
     },
     "execution_count": 22,
     "metadata": {},
     "output_type": "execute_result"
    }
   ],
   "source": [
    "#отобразим показатели пропуского обработанного датафрейма\n",
    "df.isna().sum()"
   ]
  },
  {
   "cell_type": "markdown",
   "id": "2500e85a",
   "metadata": {},
   "source": [
    "Далее стоит проверить данные на наличие значений-индикаторов:"
   ]
  },
  {
   "cell_type": "code",
   "execution_count": 23,
   "id": "beb1b6d5",
   "metadata": {},
   "outputs": [
    {
     "name": "stdout",
     "output_type": "stream",
     "text": [
      "Уникальные значения в столбце district\n",
      "['Восточный административный округ' 'Западный административный округ'\n",
      " 'Северный административный округ'\n",
      " 'Северо-Восточный административный округ'\n",
      " 'Северо-Западный административный округ'\n",
      " 'Центральный административный округ'\n",
      " 'Юго-Восточный административный округ'\n",
      " 'Юго-Западный административный округ' 'Южный административный округ']\n",
      "\n",
      "\n",
      "Уникальные значения в столбце category\n",
      "['бар,паб' 'булочная' 'быстрое питание' 'кафе' 'кофейня' 'пиццерия'\n",
      " 'ресторан' 'столовая']\n",
      "\n",
      "\n",
      "Уникальные значения в столбце chain\n",
      "[0 1]\n",
      "\n",
      "\n",
      "Уникальные значения в столбце price\n",
      "['' 'высокие' 'выше среднего' 'низкие' 'средние']\n",
      "\n",
      "\n"
     ]
    }
   ],
   "source": [
    "# Выводим уникальные значения данных в столбцах\n",
    "for column in ['district', 'category', 'chain', 'price']:\n",
    "    print(f'Уникальные значения в столбце {column}')\n",
    "    print(df[column].sort_values().unique())\n",
    "    print('\\n')"
   ]
  },
  {
   "cell_type": "markdown",
   "id": "4e6a83ca",
   "metadata": {},
   "source": [
    "Данные выглядят корректно, дополнительный обработки не требуется"
   ]
  },
  {
   "cell_type": "code",
   "execution_count": 24,
   "id": "b52bae9a",
   "metadata": {
    "id": "b52bae9a"
   },
   "outputs": [
    {
     "data": {
      "text/plain": [
       "0"
      ]
     },
     "execution_count": 24,
     "metadata": {},
     "output_type": "execute_result"
    }
   ],
   "source": [
    "# Проверим датафрейм на полные дубликаты\n",
    "df.duplicated().sum()"
   ]
  },
  {
   "cell_type": "markdown",
   "id": "b3be2432",
   "metadata": {},
   "source": [
    "В датафрейме нет полных дубликатов строк. Перейдем к проверке датафрейма на дубликаты по id, возможна ситуация, когда нескольким заведениям присваивается один и тот же уникальный код, например, из-за технического сбоя."
   ]
  },
  {
   "cell_type": "code",
   "execution_count": 25,
   "id": "a08caf82",
   "metadata": {},
   "outputs": [
    {
     "data": {
      "text/plain": [
       "0"
      ]
     },
     "execution_count": 25,
     "metadata": {},
     "output_type": "execute_result"
    }
   ],
   "source": [
    "df.duplicated(subset='id').sum()"
   ]
  },
  {
   "cell_type": "markdown",
   "id": "ab1f4305",
   "metadata": {},
   "source": [
    "Дубликатов не обнаружено. Далее проведем проверку на неявные дубликаты, для этого столбцы с названием заведения, адресом приведем к единому текстовому виду"
   ]
  },
  {
   "cell_type": "code",
   "execution_count": 26,
   "id": "683cad7c",
   "metadata": {},
   "outputs": [
    {
     "data": {
      "text/html": [
       "<div>\n",
       "<style scoped>\n",
       "    .dataframe tbody tr th:only-of-type {\n",
       "        vertical-align: middle;\n",
       "    }\n",
       "\n",
       "    .dataframe tbody tr th {\n",
       "        vertical-align: top;\n",
       "    }\n",
       "\n",
       "    .dataframe thead th {\n",
       "        text-align: right;\n",
       "    }\n",
       "</style>\n",
       "<table border=\"1\" class=\"dataframe\">\n",
       "  <thead>\n",
       "    <tr style=\"text-align: right;\">\n",
       "      <th></th>\n",
       "      <th>id</th>\n",
       "      <th>name</th>\n",
       "      <th>category</th>\n",
       "      <th>address</th>\n",
       "      <th>district</th>\n",
       "      <th>hours</th>\n",
       "      <th>rating</th>\n",
       "      <th>chain</th>\n",
       "      <th>seats</th>\n",
       "      <th>price</th>\n",
       "      <th>avg_bill</th>\n",
       "      <th>middle_avg_bill</th>\n",
       "      <th>middle_coffee_cup</th>\n",
       "    </tr>\n",
       "  </thead>\n",
       "  <tbody>\n",
       "    <tr>\n",
       "      <th>0</th>\n",
       "      <td>0c3e3439a8c64ea5bf6ecd6ca6ae19f0</td>\n",
       "      <td>wowфли</td>\n",
       "      <td>кафе</td>\n",
       "      <td>москва, улица дыбенко, 7/1</td>\n",
       "      <td>Северный административный округ</td>\n",
       "      <td>ежедневно, 10:00–22:00</td>\n",
       "      <td>5.0</td>\n",
       "      <td>0</td>\n",
       "      <td>-1.0</td>\n",
       "      <td></td>\n",
       "      <td></td>\n",
       "      <td>NaN</td>\n",
       "      <td>NaN</td>\n",
       "    </tr>\n",
       "    <tr>\n",
       "      <th>1</th>\n",
       "      <td>045780ada3474c57a2112e505d74b633</td>\n",
       "      <td>четыре комнаты</td>\n",
       "      <td>ресторан</td>\n",
       "      <td>москва, улица дыбенко, 36, корп. 1</td>\n",
       "      <td>Северный административный округ</td>\n",
       "      <td>ежедневно, 10:00–22:00</td>\n",
       "      <td>4.5</td>\n",
       "      <td>0</td>\n",
       "      <td>4.0</td>\n",
       "      <td>выше среднего</td>\n",
       "      <td>Средний счёт:1500–1600 ₽</td>\n",
       "      <td>1550.0</td>\n",
       "      <td>NaN</td>\n",
       "    </tr>\n",
       "    <tr>\n",
       "      <th>2</th>\n",
       "      <td>1070b6b59144425896c65889347fcff6</td>\n",
       "      <td>хазри</td>\n",
       "      <td>кафе</td>\n",
       "      <td>москва, клязьминская улица, 15</td>\n",
       "      <td>Северный административный округ</td>\n",
       "      <td>пн-чт 11:00–02:00; пт,сб 11:00–05:00; вс 11:00...</td>\n",
       "      <td>4.6</td>\n",
       "      <td>0</td>\n",
       "      <td>45.0</td>\n",
       "      <td>средние</td>\n",
       "      <td>Средний счёт:от 1000 ₽</td>\n",
       "      <td>1000.0</td>\n",
       "      <td>NaN</td>\n",
       "    </tr>\n",
       "    <tr>\n",
       "      <th>3</th>\n",
       "      <td>03ac7cd772104f65b58b349dc59f03ee</td>\n",
       "      <td>dormouse coffee shop</td>\n",
       "      <td>кофейня</td>\n",
       "      <td>москва, улица маршала федоренко, 12</td>\n",
       "      <td>Северный административный округ</td>\n",
       "      <td>ежедневно, 09:00–22:00</td>\n",
       "      <td>5.0</td>\n",
       "      <td>0</td>\n",
       "      <td>-1.0</td>\n",
       "      <td></td>\n",
       "      <td>Цена чашки капучино:155–185 ₽</td>\n",
       "      <td>NaN</td>\n",
       "      <td>170.0</td>\n",
       "    </tr>\n",
       "    <tr>\n",
       "      <th>4</th>\n",
       "      <td>a163aada139c4c7f87b0b1c0b466a50f</td>\n",
       "      <td>иль марко</td>\n",
       "      <td>пиццерия</td>\n",
       "      <td>москва, правобережная улица, 1б</td>\n",
       "      <td>Северный административный округ</td>\n",
       "      <td>ежедневно, 10:00–22:00</td>\n",
       "      <td>5.0</td>\n",
       "      <td>1</td>\n",
       "      <td>148.0</td>\n",
       "      <td>средние</td>\n",
       "      <td>Средний счёт:400–600 ₽</td>\n",
       "      <td>500.0</td>\n",
       "      <td>NaN</td>\n",
       "    </tr>\n",
       "  </tbody>\n",
       "</table>\n",
       "</div>"
      ],
      "text/plain": [
       "                                 id                  name  category  \\\n",
       "0  0c3e3439a8c64ea5bf6ecd6ca6ae19f0                wowфли      кафе   \n",
       "1  045780ada3474c57a2112e505d74b633        четыре комнаты  ресторан   \n",
       "2  1070b6b59144425896c65889347fcff6                 хазри      кафе   \n",
       "3  03ac7cd772104f65b58b349dc59f03ee  dormouse coffee shop   кофейня   \n",
       "4  a163aada139c4c7f87b0b1c0b466a50f             иль марко  пиццерия   \n",
       "\n",
       "                               address                         district  \\\n",
       "0           москва, улица дыбенко, 7/1  Северный административный округ   \n",
       "1   москва, улица дыбенко, 36, корп. 1  Северный административный округ   \n",
       "2       москва, клязьминская улица, 15  Северный административный округ   \n",
       "3  москва, улица маршала федоренко, 12  Северный административный округ   \n",
       "4      москва, правобережная улица, 1б  Северный административный округ   \n",
       "\n",
       "                                               hours  rating  chain  seats  \\\n",
       "0                             ежедневно, 10:00–22:00     5.0      0   -1.0   \n",
       "1                             ежедневно, 10:00–22:00     4.5      0    4.0   \n",
       "2  пн-чт 11:00–02:00; пт,сб 11:00–05:00; вс 11:00...     4.6      0   45.0   \n",
       "3                             ежедневно, 09:00–22:00     5.0      0   -1.0   \n",
       "4                             ежедневно, 10:00–22:00     5.0      1  148.0   \n",
       "\n",
       "           price                       avg_bill  middle_avg_bill  \\\n",
       "0                                                            NaN   \n",
       "1  выше среднего       Средний счёт:1500–1600 ₽           1550.0   \n",
       "2        средние         Средний счёт:от 1000 ₽           1000.0   \n",
       "3                 Цена чашки капучино:155–185 ₽              NaN   \n",
       "4        средние         Средний счёт:400–600 ₽            500.0   \n",
       "\n",
       "   middle_coffee_cup  \n",
       "0                NaN  \n",
       "1                NaN  \n",
       "2                NaN  \n",
       "3              170.0  \n",
       "4                NaN  "
      ]
     },
     "execution_count": 26,
     "metadata": {},
     "output_type": "execute_result"
    }
   ],
   "source": [
    "for column in ['name', 'address']:\n",
    "    df[column] = df[column].str.lower()\n",
    "df.head()"
   ]
  },
  {
   "cell_type": "code",
   "execution_count": 27,
   "id": "e8fe2dae",
   "metadata": {},
   "outputs": [
    {
     "data": {
      "text/plain": [
       "4"
      ]
     },
     "execution_count": 27,
     "metadata": {},
     "output_type": "execute_result"
    }
   ],
   "source": [
    "# Поиск дубликатов по имени и адресу\n",
    "df.duplicated(subset=['name', 'address']).sum()"
   ]
  },
  {
   "cell_type": "code",
   "execution_count": 28,
   "id": "a9c758db",
   "metadata": {},
   "outputs": [],
   "source": [
    "#удалим дубликаты по имени и адресу:\n",
    "df= df.drop_duplicates(subset=['name','address'])"
   ]
  },
  {
   "cell_type": "code",
   "execution_count": 29,
   "id": "fa9f6641",
   "metadata": {},
   "outputs": [
    {
     "data": {
      "text/html": [
       "<div>\n",
       "<style scoped>\n",
       "    .dataframe tbody tr th:only-of-type {\n",
       "        vertical-align: middle;\n",
       "    }\n",
       "\n",
       "    .dataframe tbody tr th {\n",
       "        vertical-align: top;\n",
       "    }\n",
       "\n",
       "    .dataframe thead th {\n",
       "        text-align: right;\n",
       "    }\n",
       "</style>\n",
       "<table border=\"1\" class=\"dataframe\">\n",
       "  <thead>\n",
       "    <tr style=\"text-align: right;\">\n",
       "      <th></th>\n",
       "      <th>id</th>\n",
       "      <th>name</th>\n",
       "      <th>category</th>\n",
       "      <th>address</th>\n",
       "      <th>district</th>\n",
       "      <th>hours</th>\n",
       "      <th>rating</th>\n",
       "      <th>chain</th>\n",
       "      <th>seats</th>\n",
       "      <th>price</th>\n",
       "      <th>avg_bill</th>\n",
       "      <th>middle_avg_bill</th>\n",
       "      <th>middle_coffee_cup</th>\n",
       "    </tr>\n",
       "  </thead>\n",
       "  <tbody>\n",
       "  </tbody>\n",
       "</table>\n",
       "</div>"
      ],
      "text/plain": [
       "Empty DataFrame\n",
       "Columns: [id, name, category, address, district, hours, rating, chain, seats, price, avg_bill, middle_avg_bill, middle_coffee_cup]\n",
       "Index: []"
      ]
     },
     "execution_count": 29,
     "metadata": {},
     "output_type": "execute_result"
    }
   ],
   "source": [
    "# Проверка на удаление дубликатов\n",
    "df[df.duplicated(subset=['name', 'address'])]"
   ]
  },
  {
   "cell_type": "code",
   "execution_count": 30,
   "id": "d8a8a963",
   "metadata": {
    "id": "d8a8a963"
   },
   "outputs": [],
   "source": [
    "# Определяем функцию, которая создаст новый столбец с бинарным признаком в зависимости от данных в другом столбце\n",
    "def create_is_hours(x):\n",
    "    \"\"\"\n",
    "    Функция создаёт новый столбец с бинарным признаком, который указывает\n",
    "    на суть данных в столбце. \n",
    "    \"\"\"\n",
    "    if x == \"ежедневно, круглосуточно\":\n",
    "        return 1\n",
    "    return 0"
   ]
  },
  {
   "cell_type": "code",
   "execution_count": 31,
   "id": "42d1e685",
   "metadata": {
    "id": "42d1e685"
   },
   "outputs": [
    {
     "data": {
      "text/html": [
       "<div>\n",
       "<style scoped>\n",
       "    .dataframe tbody tr th:only-of-type {\n",
       "        vertical-align: middle;\n",
       "    }\n",
       "\n",
       "    .dataframe tbody tr th {\n",
       "        vertical-align: top;\n",
       "    }\n",
       "\n",
       "    .dataframe thead th {\n",
       "        text-align: right;\n",
       "    }\n",
       "</style>\n",
       "<table border=\"1\" class=\"dataframe\">\n",
       "  <thead>\n",
       "    <tr style=\"text-align: right;\">\n",
       "      <th></th>\n",
       "      <th>id</th>\n",
       "      <th>name</th>\n",
       "      <th>category</th>\n",
       "      <th>address</th>\n",
       "      <th>district</th>\n",
       "      <th>hours</th>\n",
       "      <th>rating</th>\n",
       "      <th>chain</th>\n",
       "      <th>seats</th>\n",
       "      <th>price</th>\n",
       "      <th>avg_bill</th>\n",
       "      <th>middle_avg_bill</th>\n",
       "      <th>middle_coffee_cup</th>\n",
       "      <th>is_24_7</th>\n",
       "    </tr>\n",
       "  </thead>\n",
       "  <tbody>\n",
       "    <tr>\n",
       "      <th>0</th>\n",
       "      <td>0c3e3439a8c64ea5bf6ecd6ca6ae19f0</td>\n",
       "      <td>wowфли</td>\n",
       "      <td>кафе</td>\n",
       "      <td>москва, улица дыбенко, 7/1</td>\n",
       "      <td>Северный административный округ</td>\n",
       "      <td>ежедневно, 10:00–22:00</td>\n",
       "      <td>5.0</td>\n",
       "      <td>0</td>\n",
       "      <td>-1.0</td>\n",
       "      <td></td>\n",
       "      <td></td>\n",
       "      <td>NaN</td>\n",
       "      <td>NaN</td>\n",
       "      <td>0</td>\n",
       "    </tr>\n",
       "    <tr>\n",
       "      <th>1</th>\n",
       "      <td>045780ada3474c57a2112e505d74b633</td>\n",
       "      <td>четыре комнаты</td>\n",
       "      <td>ресторан</td>\n",
       "      <td>москва, улица дыбенко, 36, корп. 1</td>\n",
       "      <td>Северный административный округ</td>\n",
       "      <td>ежедневно, 10:00–22:00</td>\n",
       "      <td>4.5</td>\n",
       "      <td>0</td>\n",
       "      <td>4.0</td>\n",
       "      <td>выше среднего</td>\n",
       "      <td>Средний счёт:1500–1600 ₽</td>\n",
       "      <td>1550.0</td>\n",
       "      <td>NaN</td>\n",
       "      <td>0</td>\n",
       "    </tr>\n",
       "    <tr>\n",
       "      <th>2</th>\n",
       "      <td>1070b6b59144425896c65889347fcff6</td>\n",
       "      <td>хазри</td>\n",
       "      <td>кафе</td>\n",
       "      <td>москва, клязьминская улица, 15</td>\n",
       "      <td>Северный административный округ</td>\n",
       "      <td>пн-чт 11:00–02:00; пт,сб 11:00–05:00; вс 11:00...</td>\n",
       "      <td>4.6</td>\n",
       "      <td>0</td>\n",
       "      <td>45.0</td>\n",
       "      <td>средние</td>\n",
       "      <td>Средний счёт:от 1000 ₽</td>\n",
       "      <td>1000.0</td>\n",
       "      <td>NaN</td>\n",
       "      <td>0</td>\n",
       "    </tr>\n",
       "    <tr>\n",
       "      <th>3</th>\n",
       "      <td>03ac7cd772104f65b58b349dc59f03ee</td>\n",
       "      <td>dormouse coffee shop</td>\n",
       "      <td>кофейня</td>\n",
       "      <td>москва, улица маршала федоренко, 12</td>\n",
       "      <td>Северный административный округ</td>\n",
       "      <td>ежедневно, 09:00–22:00</td>\n",
       "      <td>5.0</td>\n",
       "      <td>0</td>\n",
       "      <td>-1.0</td>\n",
       "      <td></td>\n",
       "      <td>Цена чашки капучино:155–185 ₽</td>\n",
       "      <td>NaN</td>\n",
       "      <td>170.0</td>\n",
       "      <td>0</td>\n",
       "    </tr>\n",
       "    <tr>\n",
       "      <th>4</th>\n",
       "      <td>a163aada139c4c7f87b0b1c0b466a50f</td>\n",
       "      <td>иль марко</td>\n",
       "      <td>пиццерия</td>\n",
       "      <td>москва, правобережная улица, 1б</td>\n",
       "      <td>Северный административный округ</td>\n",
       "      <td>ежедневно, 10:00–22:00</td>\n",
       "      <td>5.0</td>\n",
       "      <td>1</td>\n",
       "      <td>148.0</td>\n",
       "      <td>средние</td>\n",
       "      <td>Средний счёт:400–600 ₽</td>\n",
       "      <td>500.0</td>\n",
       "      <td>NaN</td>\n",
       "      <td>0</td>\n",
       "    </tr>\n",
       "  </tbody>\n",
       "</table>\n",
       "</div>"
      ],
      "text/plain": [
       "                                 id                  name  category  \\\n",
       "0  0c3e3439a8c64ea5bf6ecd6ca6ae19f0                wowфли      кафе   \n",
       "1  045780ada3474c57a2112e505d74b633        четыре комнаты  ресторан   \n",
       "2  1070b6b59144425896c65889347fcff6                 хазри      кафе   \n",
       "3  03ac7cd772104f65b58b349dc59f03ee  dormouse coffee shop   кофейня   \n",
       "4  a163aada139c4c7f87b0b1c0b466a50f             иль марко  пиццерия   \n",
       "\n",
       "                               address                         district  \\\n",
       "0           москва, улица дыбенко, 7/1  Северный административный округ   \n",
       "1   москва, улица дыбенко, 36, корп. 1  Северный административный округ   \n",
       "2       москва, клязьминская улица, 15  Северный административный округ   \n",
       "3  москва, улица маршала федоренко, 12  Северный административный округ   \n",
       "4      москва, правобережная улица, 1б  Северный административный округ   \n",
       "\n",
       "                                               hours  rating  chain  seats  \\\n",
       "0                             ежедневно, 10:00–22:00     5.0      0   -1.0   \n",
       "1                             ежедневно, 10:00–22:00     4.5      0    4.0   \n",
       "2  пн-чт 11:00–02:00; пт,сб 11:00–05:00; вс 11:00...     4.6      0   45.0   \n",
       "3                             ежедневно, 09:00–22:00     5.0      0   -1.0   \n",
       "4                             ежедневно, 10:00–22:00     5.0      1  148.0   \n",
       "\n",
       "           price                       avg_bill  middle_avg_bill  \\\n",
       "0                                                            NaN   \n",
       "1  выше среднего       Средний счёт:1500–1600 ₽           1550.0   \n",
       "2        средние         Средний счёт:от 1000 ₽           1000.0   \n",
       "3                 Цена чашки капучино:155–185 ₽              NaN   \n",
       "4        средние         Средний счёт:400–600 ₽            500.0   \n",
       "\n",
       "   middle_coffee_cup  is_24_7  \n",
       "0                NaN        0  \n",
       "1                NaN        0  \n",
       "2                NaN        0  \n",
       "3              170.0        0  \n",
       "4                NaN        0  "
      ]
     },
     "metadata": {},
     "output_type": "display_data"
    },
    {
     "data": {
      "text/html": [
       "<div>\n",
       "<style scoped>\n",
       "    .dataframe tbody tr th:only-of-type {\n",
       "        vertical-align: middle;\n",
       "    }\n",
       "\n",
       "    .dataframe tbody tr th {\n",
       "        vertical-align: top;\n",
       "    }\n",
       "\n",
       "    .dataframe thead th {\n",
       "        text-align: right;\n",
       "    }\n",
       "</style>\n",
       "<table border=\"1\" class=\"dataframe\">\n",
       "  <thead>\n",
       "    <tr style=\"text-align: right;\">\n",
       "      <th></th>\n",
       "      <th>id</th>\n",
       "      <th>name</th>\n",
       "      <th>category</th>\n",
       "      <th>address</th>\n",
       "      <th>district</th>\n",
       "      <th>hours</th>\n",
       "      <th>rating</th>\n",
       "      <th>chain</th>\n",
       "      <th>seats</th>\n",
       "      <th>price</th>\n",
       "      <th>avg_bill</th>\n",
       "      <th>middle_avg_bill</th>\n",
       "      <th>middle_coffee_cup</th>\n",
       "      <th>is_24_7</th>\n",
       "    </tr>\n",
       "  </thead>\n",
       "  <tbody>\n",
       "    <tr>\n",
       "      <th>8401</th>\n",
       "      <td>0342ad1a45ed41ba89dcba246a8267e5</td>\n",
       "      <td>суши мания</td>\n",
       "      <td>кафе</td>\n",
       "      <td>москва, профсоюзная улица, 56</td>\n",
       "      <td>Юго-Западный административный округ</td>\n",
       "      <td>ежедневно, 09:00–02:00</td>\n",
       "      <td>4.4</td>\n",
       "      <td>0</td>\n",
       "      <td>86.0</td>\n",
       "      <td></td>\n",
       "      <td></td>\n",
       "      <td>NaN</td>\n",
       "      <td>NaN</td>\n",
       "      <td>0</td>\n",
       "    </tr>\n",
       "    <tr>\n",
       "      <th>8402</th>\n",
       "      <td>ee6bb7c3650e47bd8186fca08eda1091</td>\n",
       "      <td>миславнес</td>\n",
       "      <td>кафе</td>\n",
       "      <td>москва, пролетарский проспект, 19, корп. 1</td>\n",
       "      <td>Южный административный округ</td>\n",
       "      <td>ежедневно, 08:00–22:00</td>\n",
       "      <td>4.8</td>\n",
       "      <td>0</td>\n",
       "      <td>150.0</td>\n",
       "      <td></td>\n",
       "      <td></td>\n",
       "      <td>NaN</td>\n",
       "      <td>NaN</td>\n",
       "      <td>0</td>\n",
       "    </tr>\n",
       "    <tr>\n",
       "      <th>8403</th>\n",
       "      <td>62e8c64d4c89467aba608e39ef87616b</td>\n",
       "      <td>самовар</td>\n",
       "      <td>кафе</td>\n",
       "      <td>москва, люблинская улица, 112а, стр. 1</td>\n",
       "      <td>Юго-Восточный административный округ</td>\n",
       "      <td>ежедневно, круглосуточно</td>\n",
       "      <td>3.9</td>\n",
       "      <td>0</td>\n",
       "      <td>150.0</td>\n",
       "      <td></td>\n",
       "      <td>Средний счёт:от 150 ₽</td>\n",
       "      <td>150.0</td>\n",
       "      <td>NaN</td>\n",
       "      <td>1</td>\n",
       "    </tr>\n",
       "    <tr>\n",
       "      <th>8404</th>\n",
       "      <td>06a0db5ecd4842d48cd6350aa923e297</td>\n",
       "      <td>чайхана sabr</td>\n",
       "      <td>кафе</td>\n",
       "      <td>москва, люблинская улица, 112а, стр. 1</td>\n",
       "      <td>Юго-Восточный административный округ</td>\n",
       "      <td>ежедневно, круглосуточно</td>\n",
       "      <td>4.2</td>\n",
       "      <td>1</td>\n",
       "      <td>150.0</td>\n",
       "      <td></td>\n",
       "      <td></td>\n",
       "      <td>NaN</td>\n",
       "      <td>NaN</td>\n",
       "      <td>1</td>\n",
       "    </tr>\n",
       "    <tr>\n",
       "      <th>8405</th>\n",
       "      <td>9d56f8f7a7f74df1a925bc0fd2de8aae</td>\n",
       "      <td>kebab time</td>\n",
       "      <td>кафе</td>\n",
       "      <td>москва, россошанский проезд, 6</td>\n",
       "      <td>Южный административный округ</td>\n",
       "      <td>ежедневно, круглосуточно</td>\n",
       "      <td>3.9</td>\n",
       "      <td>0</td>\n",
       "      <td>12.0</td>\n",
       "      <td></td>\n",
       "      <td></td>\n",
       "      <td>NaN</td>\n",
       "      <td>NaN</td>\n",
       "      <td>1</td>\n",
       "    </tr>\n",
       "  </tbody>\n",
       "</table>\n",
       "</div>"
      ],
      "text/plain": [
       "                                    id          name category  \\\n",
       "8401  0342ad1a45ed41ba89dcba246a8267e5    суши мания     кафе   \n",
       "8402  ee6bb7c3650e47bd8186fca08eda1091     миславнес     кафе   \n",
       "8403  62e8c64d4c89467aba608e39ef87616b       самовар     кафе   \n",
       "8404  06a0db5ecd4842d48cd6350aa923e297  чайхана sabr     кафе   \n",
       "8405  9d56f8f7a7f74df1a925bc0fd2de8aae    kebab time     кафе   \n",
       "\n",
       "                                         address  \\\n",
       "8401               москва, профсоюзная улица, 56   \n",
       "8402  москва, пролетарский проспект, 19, корп. 1   \n",
       "8403      москва, люблинская улица, 112а, стр. 1   \n",
       "8404      москва, люблинская улица, 112а, стр. 1   \n",
       "8405              москва, россошанский проезд, 6   \n",
       "\n",
       "                                  district                     hours  rating  \\\n",
       "8401   Юго-Западный административный округ    ежедневно, 09:00–02:00     4.4   \n",
       "8402          Южный административный округ    ежедневно, 08:00–22:00     4.8   \n",
       "8403  Юго-Восточный административный округ  ежедневно, круглосуточно     3.9   \n",
       "8404  Юго-Восточный административный округ  ежедневно, круглосуточно     4.2   \n",
       "8405          Южный административный округ  ежедневно, круглосуточно     3.9   \n",
       "\n",
       "      chain  seats price               avg_bill  middle_avg_bill  \\\n",
       "8401      0   86.0                                           NaN   \n",
       "8402      0  150.0                                           NaN   \n",
       "8403      0  150.0        Средний счёт:от 150 ₽            150.0   \n",
       "8404      1  150.0                                           NaN   \n",
       "8405      0   12.0                                           NaN   \n",
       "\n",
       "      middle_coffee_cup  is_24_7  \n",
       "8401                NaN        0  \n",
       "8402                NaN        0  \n",
       "8403                NaN        1  \n",
       "8404                NaN        1  \n",
       "8405                NaN        1  "
      ]
     },
     "metadata": {},
     "output_type": "display_data"
    }
   ],
   "source": [
    "# Создаём столбец is_24_7 с помощью функции create_is_hours:\n",
    "df['is_24_7'] = df['hours'].apply(create_is_hours)\n",
    "display(df.head())\n",
    "display(df.tail())"
   ]
  },
  {
   "cell_type": "markdown",
   "id": "562f30ab",
   "metadata": {
    "id": "562f30ab"
   },
   "source": [
    "---\n",
    "\n",
    "### Промежуточный вывод\n",
    "\n",
    "После предобработки данных напишите промежуточный вывод о проведённой работе. Отразите количество или долю отфильтрованных данных, если вы что-то удаляли."
   ]
  },
  {
   "cell_type": "markdown",
   "id": "c26adc94",
   "metadata": {
    "id": "4e587ce1"
   },
   "source": [
    "В процессе предобработки данных выполнены следующие действия:\n",
    "* Изучены типы данных каждого столбца, также они оптимизированы с понижением разрядности.\n",
    "* Проведена работа с пропусками в данных: некоторые заменены, некоторые оставлены. Также категориальны столбцы просмотрены на значения-индикаторы.\n",
    "* Датафрейм проверен на дубликаты. Полных дубликатов не обнаружено, но обнаружены неявные дубликаты в количестве 4х штук, они удалены из датафрейма.\n",
    "* Создан новый столбец `is_24_7`, который является показателем, работает ли заведение в ежедневном и круглосуточном ритме."
   ]
  },
  {
   "cell_type": "markdown",
   "id": "6953e84c",
   "metadata": {
    "id": "6953e84c"
   },
   "source": [
    "## 3. Исследовательский анализ данных\n",
    "Проведите исследовательский анализ исходных данных.\n",
    "\n",
    "При исследовании данных используйте визуализации. Проверьте, что для каждого случая подобран оптимальный тип визуализации с корректным оформлением. У графика должен быть заголовок, понятные подписи по осям, при необходимости легенда, а его размер является оптимальным для изучения.\n",
    "\n",
    "После исследования каждого пункта оставляйте небольшой комментарий с выводом или обсуждением результата. В конце шага обобщите результаты, выделив, по вашему мнению, самые важные."
   ]
  },
  {
   "cell_type": "markdown",
   "id": "8555d840",
   "metadata": {
    "id": "8555d840"
   },
   "source": [
    "---\n",
    "\n",
    "### Задача 1\n",
    "\n",
    "Какие категории заведений представлены в данных? Исследуйте количество объектов общественного питания по каждой категории. Результат сопроводите подходящей визуализацией."
   ]
  },
  {
   "cell_type": "code",
   "execution_count": 32,
   "id": "ef2bffe9",
   "metadata": {
    "id": "ef2bffe9"
   },
   "outputs": [
    {
     "data": {
      "text/plain": [
       "array(['кафе', 'ресторан', 'кофейня', 'пиццерия', 'бар,паб',\n",
       "       'быстрое питание', 'булочная', 'столовая'], dtype=object)"
      ]
     },
     "execution_count": 32,
     "metadata": {},
     "output_type": "execute_result"
    }
   ],
   "source": [
    "df['category'].unique()"
   ]
  },
  {
   "cell_type": "code",
   "execution_count": 33,
   "id": "71ab5e91",
   "metadata": {
    "id": "71ab5e91"
   },
   "outputs": [
    {
     "data": {
      "text/plain": [
       "кафе               2376\n",
       "ресторан           2042\n",
       "кофейня            1413\n",
       "бар,паб             764\n",
       "пиццерия            633\n",
       "быстрое питание     603\n",
       "столовая            315\n",
       "булочная            256\n",
       "Name: category, dtype: int64"
      ]
     },
     "execution_count": 33,
     "metadata": {},
     "output_type": "execute_result"
    }
   ],
   "source": [
    "df['category'].value_counts()"
   ]
  },
  {
   "cell_type": "code",
   "execution_count": 34,
   "id": "63360b97",
   "metadata": {
    "id": "63360b97"
   },
   "outputs": [
    {
     "data": {
      "image/png": "[encoded data removed]",
      "text/plain": [
       "<Figure size 1080x504 with 1 Axes>"
      ]
     },
     "metadata": {
      "needs_background": "light"
     },
     "output_type": "display_data"
    }
   ],
   "source": [
    "# Создаём контейнер графика matplotlib и задаём его размер\n",
    "plt.figure(figsize=(15, 7))\n",
    "\n",
    "# Строим столбчатую диаграмму с помощью pandas через plot(kind='bar')\n",
    "df['category'].value_counts().plot(\n",
    "               kind='bar', # Тип графика - столбчатая диаграмма\n",
    "               rot=0, # Градус вращения подписи по оси Х\n",
    "               legend=False, # Выключаем легенду\n",
    "               title=f'Количество заведений в в зависимости от категории',\n",
    "               color = 'blue'\n",
    ")\n",
    "\n",
    "# Настраиваем оформление графика\n",
    "plt.xlabel('Категории')\n",
    "plt.ylabel('Количество заведений')\n",
    "# Добавляем сетку графика\n",
    "plt.grid()\n",
    "\n",
    "# Выводим график\n",
    "plt.show()"
   ]
  },
  {
   "cell_type": "code",
   "execution_count": 35,
   "id": "34affcc2",
   "metadata": {},
   "outputs": [
    {
     "data": {
      "image/png": "[encoded data removed]",
      "text/plain": [
       "<Figure size 1080x504 with 1 Axes>"
      ]
     },
     "metadata": {
      "needs_background": "light"
     },
     "output_type": "display_data"
    }
   ],
   "source": [
    "# Создаём контейнер графика matplotlib и задаём его размер\n",
    "plt.figure(figsize=(15, 7))\n",
    "\n",
    "# Строим столбчатую диаграмму с помощью pandas через plot(kind='bar')\n",
    "df['category'].value_counts(normalize=True).plot(\n",
    "               kind='bar', # Тип графика - столбчатая диаграмма\n",
    "               rot=0, # Градус вращения подписи по оси Х\n",
    "               legend=False, # Выключаем легенду\n",
    "               title=f'Количество заведений в в зависимости от категории',\n",
    "               color = 'blue'\n",
    ")\n",
    "\n",
    "# Настраиваем оформление графика\n",
    "plt.xlabel('Категории')\n",
    "plt.ylabel('Количество заведений')\n",
    "# Добавляем сетку графика\n",
    "plt.grid()\n",
    "\n",
    "# Выводим график\n",
    "plt.show()"
   ]
  },
  {
   "cell_type": "markdown",
   "id": "8d532183",
   "metadata": {},
   "source": [
    "По графику можем сделать вывод, что большинство заведений относится к типу \"кафе\" (28%), \"ресторан\" (24%) или \"кофейня\" (примерно 17%). Не столь популярны \"бар, паб\", \"пиццерия\" и \"быстрое питание\". Замыкают рейтинг \"столовая\" и \"булочная\".\n",
    "\n",
    "\n",
    "Можно предположить, что на первые 3 позиции в распределении есть большой спрос со стороны потребителей, поэтому рейтинг выглядит именно так."
   ]
  },
  {
   "cell_type": "markdown",
   "id": "6821e1d0",
   "metadata": {
    "id": "6821e1d0"
   },
   "source": [
    "---\n",
    "\n",
    "### Задача 2\n",
    "\n",
    "Какие административные районы Москвы присутствуют в данных? Исследуйте распределение количества заведений по административным районам Москвы, а также отдельно распределение заведений каждой категории в Центральном административном округе Москвы. Результат сопроводите подходящими визуализациями."
   ]
  },
  {
   "cell_type": "code",
   "execution_count": 36,
   "id": "0a290cd1",
   "metadata": {
    "id": "0a290cd1"
   },
   "outputs": [
    {
     "data": {
      "text/plain": [
       "Центральный административный округ         2242\n",
       "Северный административный округ             898\n",
       "Южный административный округ                892\n",
       "Северо-Восточный административный округ     890\n",
       "Западный административный округ             850\n",
       "Восточный административный округ            798\n",
       "Юго-Восточный административный округ        714\n",
       "Юго-Западный административный округ         709\n",
       "Северо-Западный административный округ      409\n",
       "Name: district, dtype: int64"
      ]
     },
     "execution_count": 36,
     "metadata": {},
     "output_type": "execute_result"
    }
   ],
   "source": [
    "#выведем основные значения столбца district\n",
    "df['district'].value_counts()"
   ]
  },
  {
   "cell_type": "code",
   "execution_count": 37,
   "id": "41f1654a",
   "metadata": {
    "id": "41f1654a"
   },
   "outputs": [
    {
     "data": {
      "image/png": "[encoded data removed]",
      "text/plain": [
       "<Figure size 1080x720 with 1 Axes>"
      ]
     },
     "metadata": {
      "needs_background": "light"
     },
     "output_type": "display_data"
    }
   ],
   "source": [
    "# Создаём контейнер графика matplotlib и задаём его размер\n",
    "plt.figure(figsize=(15, 10))\n",
    "\n",
    "# Строим столбчатую диаграмму с помощью pandas через plot(kind='bar')\n",
    "df['district'].value_counts().plot(\n",
    "               kind='barh', # Тип графика - столбчатая диаграмма\n",
    "               rot=0, # Градус вращения подписи по оси Х\n",
    "               legend=False, # Выключаем легенду\n",
    "               title=f'Количество заведений в зависимости от региона Москвы',\n",
    "               color = 'blue'\n",
    ")\n",
    "\n",
    "# Настраиваем оформление графика\n",
    "plt.xlabel('Количество заведений')\n",
    "plt.ylabel('Регион')\n",
    "# Добавляем сетку графика\n",
    "plt.grid()\n",
    "\n",
    "# Выводим график\n",
    "plt.show()"
   ]
  },
  {
   "cell_type": "code",
   "execution_count": 38,
   "id": "513c688d",
   "metadata": {},
   "outputs": [
    {
     "data": {
      "image/png": "[encoded data removed]",
      "text/plain": [
       "<Figure size 1080x720 with 1 Axes>"
      ]
     },
     "metadata": {
      "needs_background": "light"
     },
     "output_type": "display_data"
    }
   ],
   "source": [
    "# Создаём контейнер графика matplotlib и задаём его размер\n",
    "plt.figure(figsize=(15, 10))\n",
    "\n",
    "# Строим столбчатую диаграмму с помощью pandas через plot(kind='bar')\n",
    "df['district'].value_counts(normalize=True).plot(\n",
    "               kind='barh', # Тип графика - столбчатая диаграмма\n",
    "               rot=0, # Градус вращения подписи по оси Х\n",
    "               legend=False, # Выключаем легенду\n",
    "               title=f'Количество заведений в зависимости от региона Москвы',\n",
    "               color = 'blue'\n",
    ")\n",
    "\n",
    "# Настраиваем оформление графика\n",
    "plt.xlabel('Количество заведений')\n",
    "plt.ylabel('Регион')\n",
    "# Добавляем сетку графика\n",
    "plt.grid()\n",
    "\n",
    "# Выводим график\n",
    "plt.show()"
   ]
  },
  {
   "cell_type": "markdown",
   "id": "9251818b",
   "metadata": {},
   "source": [
    "Видим, что значительная часть всех заведений расположена в Центральном административном районе Москвы - примерно 27% от всех, что весьма предсказуемо. Другие районы имеют долю среди остальных в промежутке 8-10%, однако особенно выделяется Северо-Западный административный округ - там заведений общественного питания всего около 5% от общего количества."
   ]
  },
  {
   "cell_type": "code",
   "execution_count": 39,
   "id": "11f64e05",
   "metadata": {},
   "outputs": [
    {
     "data": {
      "image/png": "[encoded data removed]",
      "text/plain": [
       "<Figure size 1080x504 with 1 Axes>"
      ]
     },
     "metadata": {
      "needs_background": "light"
     },
     "output_type": "display_data"
    }
   ],
   "source": [
    "central_districts = ['Центральный административный округ']  # Замените на актуальное название округа, если нужно\n",
    "filtered_df = df[df['district'].isin(central_districts)]\n",
    "\n",
    "# Группировка по категориям и подсчет количества заведений\n",
    "category_counts = filtered_df['category'].value_counts()\n",
    "\n",
    "# Создаём контейнер графика matplotlib и задаём его размер\n",
    "plt.figure(figsize=(15, 7))\n",
    "\n",
    "# Строим столбчатую диаграмму с помощью pandas через plot(kind='bar')\n",
    "category_counts.plot(\n",
    "               kind='bar', # Тип графика - столбчатая диаграмма\n",
    "               rot=0, # Градус вращения подписи по оси Х\n",
    "               legend=False, # Выключаем легенду\n",
    "               title=f'Количество заведений в центральном административном округе в разрезе категории заведения',\n",
    "               color = 'blue'\n",
    ")\n",
    "\n",
    "# Настраиваем оформление графика\n",
    "plt.xlabel('Категории')\n",
    "plt.ylabel('Количество заведений')\n",
    "# Добавляем сетку графика\n",
    "plt.grid()\n",
    "\n",
    "# Выводим график\n",
    "plt.show()"
   ]
  },
  {
   "cell_type": "code",
   "execution_count": 40,
   "id": "2a8dc632",
   "metadata": {},
   "outputs": [
    {
     "data": {
      "image/png": "[encoded data removed]",
      "text/plain": [
       "<Figure size 1080x504 with 1 Axes>"
      ]
     },
     "metadata": {
      "needs_background": "light"
     },
     "output_type": "display_data"
    }
   ],
   "source": [
    "central_districts = ['Центральный административный округ']  # Замените на актуальное название округа, если нужно\n",
    "filtered_df = df[df['district'].isin(central_districts)]\n",
    "\n",
    "# Группировка по категориям и подсчет количества заведений\n",
    "category_counts = filtered_df['category'].value_counts(normalize=True)\n",
    "\n",
    "# Создаём контейнер графика matplotlib и задаём его размер\n",
    "plt.figure(figsize=(15, 7))\n",
    "\n",
    "# Строим столбчатую диаграмму с помощью pandas через plot(kind='bar')\n",
    "category_counts.plot(\n",
    "               kind='bar', # Тип графика - столбчатая диаграмма\n",
    "               rot=0, # Градус вращения подписи по оси Х\n",
    "               legend=False, # Выключаем легенду\n",
    "               title=f'Количество заведений в центральном административном округе в разрезе категории заведения',\n",
    "               color = 'blue'\n",
    ")\n",
    "\n",
    "# Настраиваем оформление графика\n",
    "plt.xlabel('Категории')\n",
    "plt.ylabel('Количество заведений')\n",
    "# Добавляем сетку графика\n",
    "plt.grid()\n",
    "\n",
    "# Выводим график\n",
    "plt.show()"
   ]
  },
  {
   "cell_type": "markdown",
   "id": "7685eff0",
   "metadata": {},
   "source": [
    "По сравнению с графиком распределения заведений общественного питания по всей Москве график распределения заведений только по Центральному АО выглядит иначе: большая часть заведений - рестораны (почти 30%). Далее идут кафе (около 21%) и кофейни (18%), с незначительным отрывом бары/пабы (16-17%). Однако пиццерии, заведения быстрого питания, столовые и булочные так же непопулярны, как и по всей Москве."
   ]
  },
  {
   "cell_type": "markdown",
   "id": "7c824f58",
   "metadata": {
    "id": "7c824f58"
   },
   "source": [
    "---\n",
    "\n",
    "### Задача 3\n",
    "\n",
    "Изучите соотношение сетевых и несетевых заведений в целом по всем данным и в разрезе категорий заведения. Каких заведений больше — сетевых или несетевых? Какие категории заведений чаще являются сетевыми? Исследуйте данные, ответьте на вопросы и постройте необходимые визуализации."
   ]
  },
  {
   "cell_type": "code",
   "execution_count": 41,
   "id": "46e5c400",
   "metadata": {},
   "outputs": [
    {
     "data": {
      "text/plain": [
       "0    0.618781\n",
       "1    0.381219\n",
       "Name: chain, dtype: float64"
      ]
     },
     "execution_count": 41,
     "metadata": {},
     "output_type": "execute_result"
    }
   ],
   "source": [
    "#выводим долю сетевых и несетвых заведений\n",
    "df['chain'].value_counts(normalize=True)"
   ]
  },
  {
   "cell_type": "code",
   "execution_count": 42,
   "id": "0de29fa2",
   "metadata": {
    "id": "0de29fa2"
   },
   "outputs": [
    {
     "data": {
      "image/png": "[encoded data removed]",
      "text/plain": [
       "<Figure size 504x504 with 1 Axes>"
      ]
     },
     "metadata": {
      "needs_background": "light"
     },
     "output_type": "display_data"
    }
   ],
   "source": [
    "# Создаём контейнер графика matplotlib и задаём его размер\n",
    "plt.figure(figsize=(7, 7))\n",
    "\n",
    "# Строим столбчатую диаграмму с помощью pandas через plot(kind='bar')\n",
    "df['chain'].value_counts(normalize=True).plot(\n",
    "               kind='bar', # Тип графика - столбчатая диаграмма\n",
    "               rot=0, # Градус вращения подписи по оси Х\n",
    "               legend=False, # Выключаем легенду\n",
    "               title=f'Количество заведений в разрезе сетевых или несетевых на основе всех данных',\n",
    "               color = 'blue'\n",
    ")\n",
    "\n",
    "# Настраиваем оформление графика\n",
    "plt.xlabel('Категория заведения(1-сетевые, 0-несетевые)')\n",
    "plt.ylabel('Количество заведений')\n",
    "# Добавляем сетку графика\n",
    "plt.grid()\n",
    "\n",
    "# Выводим график\n",
    "plt.show()"
   ]
  },
  {
   "cell_type": "markdown",
   "id": "3b5250aa",
   "metadata": {},
   "source": [
    "Большая часть заведений относится к несетевым точкам - это примерно 62% всех заведений. Остальная часть (38%) - сетевые заведения.\n",
    "\n",
    "Изучим то же соотношение внутри каждой категории заведений:"
   ]
  },
  {
   "cell_type": "code",
   "execution_count": 43,
   "id": "0477f6b7",
   "metadata": {},
   "outputs": [
    {
     "data": {
      "text/html": [
       "<div>\n",
       "<style scoped>\n",
       "    .dataframe tbody tr th:only-of-type {\n",
       "        vertical-align: middle;\n",
       "    }\n",
       "\n",
       "    .dataframe tbody tr th {\n",
       "        vertical-align: top;\n",
       "    }\n",
       "\n",
       "    .dataframe thead th {\n",
       "        text-align: right;\n",
       "    }\n",
       "</style>\n",
       "<table border=\"1\" class=\"dataframe\">\n",
       "  <thead>\n",
       "    <tr style=\"text-align: right;\">\n",
       "      <th></th>\n",
       "      <th>category</th>\n",
       "      <th>chain</th>\n",
       "      <th>count</th>\n",
       "      <th>total_count</th>\n",
       "      <th>ratio</th>\n",
       "    </tr>\n",
       "  </thead>\n",
       "  <tbody>\n",
       "    <tr>\n",
       "      <th>0</th>\n",
       "      <td>бар,паб</td>\n",
       "      <td>0</td>\n",
       "      <td>596</td>\n",
       "      <td>764</td>\n",
       "      <td>0.780105</td>\n",
       "    </tr>\n",
       "    <tr>\n",
       "      <th>1</th>\n",
       "      <td>бар,паб</td>\n",
       "      <td>1</td>\n",
       "      <td>168</td>\n",
       "      <td>764</td>\n",
       "      <td>0.219895</td>\n",
       "    </tr>\n",
       "    <tr>\n",
       "      <th>2</th>\n",
       "      <td>булочная</td>\n",
       "      <td>0</td>\n",
       "      <td>99</td>\n",
       "      <td>256</td>\n",
       "      <td>0.386719</td>\n",
       "    </tr>\n",
       "    <tr>\n",
       "      <th>3</th>\n",
       "      <td>булочная</td>\n",
       "      <td>1</td>\n",
       "      <td>157</td>\n",
       "      <td>256</td>\n",
       "      <td>0.613281</td>\n",
       "    </tr>\n",
       "    <tr>\n",
       "      <th>4</th>\n",
       "      <td>быстрое питание</td>\n",
       "      <td>0</td>\n",
       "      <td>371</td>\n",
       "      <td>603</td>\n",
       "      <td>0.615257</td>\n",
       "    </tr>\n",
       "    <tr>\n",
       "      <th>5</th>\n",
       "      <td>быстрое питание</td>\n",
       "      <td>1</td>\n",
       "      <td>232</td>\n",
       "      <td>603</td>\n",
       "      <td>0.384743</td>\n",
       "    </tr>\n",
       "    <tr>\n",
       "      <th>6</th>\n",
       "      <td>кафе</td>\n",
       "      <td>0</td>\n",
       "      <td>1597</td>\n",
       "      <td>2376</td>\n",
       "      <td>0.672138</td>\n",
       "    </tr>\n",
       "    <tr>\n",
       "      <th>7</th>\n",
       "      <td>кафе</td>\n",
       "      <td>1</td>\n",
       "      <td>779</td>\n",
       "      <td>2376</td>\n",
       "      <td>0.327862</td>\n",
       "    </tr>\n",
       "    <tr>\n",
       "      <th>8</th>\n",
       "      <td>кофейня</td>\n",
       "      <td>0</td>\n",
       "      <td>693</td>\n",
       "      <td>1413</td>\n",
       "      <td>0.490446</td>\n",
       "    </tr>\n",
       "    <tr>\n",
       "      <th>9</th>\n",
       "      <td>кофейня</td>\n",
       "      <td>1</td>\n",
       "      <td>720</td>\n",
       "      <td>1413</td>\n",
       "      <td>0.509554</td>\n",
       "    </tr>\n",
       "    <tr>\n",
       "      <th>10</th>\n",
       "      <td>пиццерия</td>\n",
       "      <td>0</td>\n",
       "      <td>303</td>\n",
       "      <td>633</td>\n",
       "      <td>0.478673</td>\n",
       "    </tr>\n",
       "    <tr>\n",
       "      <th>11</th>\n",
       "      <td>пиццерия</td>\n",
       "      <td>1</td>\n",
       "      <td>330</td>\n",
       "      <td>633</td>\n",
       "      <td>0.521327</td>\n",
       "    </tr>\n",
       "    <tr>\n",
       "      <th>12</th>\n",
       "      <td>ресторан</td>\n",
       "      <td>0</td>\n",
       "      <td>1313</td>\n",
       "      <td>2042</td>\n",
       "      <td>0.642997</td>\n",
       "    </tr>\n",
       "    <tr>\n",
       "      <th>13</th>\n",
       "      <td>ресторан</td>\n",
       "      <td>1</td>\n",
       "      <td>729</td>\n",
       "      <td>2042</td>\n",
       "      <td>0.357003</td>\n",
       "    </tr>\n",
       "    <tr>\n",
       "      <th>14</th>\n",
       "      <td>столовая</td>\n",
       "      <td>0</td>\n",
       "      <td>227</td>\n",
       "      <td>315</td>\n",
       "      <td>0.720635</td>\n",
       "    </tr>\n",
       "    <tr>\n",
       "      <th>15</th>\n",
       "      <td>столовая</td>\n",
       "      <td>1</td>\n",
       "      <td>88</td>\n",
       "      <td>315</td>\n",
       "      <td>0.279365</td>\n",
       "    </tr>\n",
       "  </tbody>\n",
       "</table>\n",
       "</div>"
      ],
      "text/plain": [
       "           category  chain  count  total_count     ratio\n",
       "0           бар,паб      0    596          764  0.780105\n",
       "1           бар,паб      1    168          764  0.219895\n",
       "2          булочная      0     99          256  0.386719\n",
       "3          булочная      1    157          256  0.613281\n",
       "4   быстрое питание      0    371          603  0.615257\n",
       "5   быстрое питание      1    232          603  0.384743\n",
       "6              кафе      0   1597         2376  0.672138\n",
       "7              кафе      1    779         2376  0.327862\n",
       "8           кофейня      0    693         1413  0.490446\n",
       "9           кофейня      1    720         1413  0.509554\n",
       "10         пиццерия      0    303          633  0.478673\n",
       "11         пиццерия      1    330          633  0.521327\n",
       "12         ресторан      0   1313         2042  0.642997\n",
       "13         ресторан      1    729         2042  0.357003\n",
       "14         столовая      0    227          315  0.720635\n",
       "15         столовая      1     88          315  0.279365"
      ]
     },
     "metadata": {},
     "output_type": "display_data"
    }
   ],
   "source": [
    "# Считаем количество id по категориям и цепочкам\n",
    "count_series = df.groupby(['category', 'chain'])['id'].count().reset_index(name='count')\n",
    "\n",
    "# Считаем общее количество категорий\n",
    "value_counts = df['category'].value_counts().reset_index(name='total_count')\n",
    "value_counts.columns = ['category', 'total_count']\n",
    "\n",
    "# Объединяем результаты\n",
    "result = pd.merge(count_series, value_counts, on='category')\n",
    "\n",
    "# Теперь можно выполнить деление\n",
    "result['ratio'] = result['count'] / result['total_count']\n",
    "display(result)"
   ]
  },
  {
   "cell_type": "code",
   "execution_count": 44,
   "id": "7b540c52",
   "metadata": {},
   "outputs": [
    {
     "data": {
      "text/plain": [
       "<Figure size 1080x1080 with 0 Axes>"
      ]
     },
     "metadata": {},
     "output_type": "display_data"
    },
    {
     "data": {
      "image/png": "[encoded data removed]",
      "text/plain": [
       "<Figure size 432x288 with 1 Axes>"
      ]
     },
     "metadata": {
      "needs_background": "light"
     },
     "output_type": "display_data"
    }
   ],
   "source": [
    "plt.figure(figsize=(15, 15))\n",
    "\n",
    "# Считаем количество id по категориям и цепочкам\n",
    "count_series = df.groupby(['category', 'chain'])['id'].count().reset_index(name='count')\n",
    "\n",
    "# Считаем общее количество категорий\n",
    "value_counts = df['category'].value_counts().reset_index(name='total_count')\n",
    "value_counts.columns = ['category', 'total_count']\n",
    "\n",
    "# Объединяем результаты\n",
    "result = pd.merge(count_series, value_counts, on='category')\n",
    "\n",
    "# Теперь можно выполнить деление\n",
    "result['ratio'] = result['count'] / result['total_count']\n",
    "\n",
    "# Используем pivot_table для подготовки данных к визуализации\n",
    "pivot_data = result.pivot_table(index='category', columns='chain', values='ratio', fill_value=0)\n",
    "\n",
    "# Строим график\n",
    "pivot_data.plot(\n",
    "    kind='bar',\n",
    "    color=['skyblue','blue'],\n",
    "    rot=45,\n",
    "    legend=True,\n",
    "    title='Распределение заведений по сетевому признаку по категориям'\n",
    ")\n",
    "\n",
    "plt.xlabel('Категория')\n",
    "plt.ylabel('Соотношение')\n",
    "plt.grid(axis='y')\n",
    "plt.show()"
   ]
  },
  {
   "cell_type": "markdown",
   "id": "1cd0aa61",
   "metadata": {},
   "source": [
    "По представленному распределению чаще всего к сетевым заведениям (*темный синий цвет*) относятся булочные, пиццерии и кофейни. У несетевых заведений (*голубой цвет*) распределение следующее: бары, столовые, кафе, рестораны и точки быстрого питания. Такое количество несетевых точек может свидетельствовать о том, что собственникам бизнеса тяжело открывать новые заведения, либо же такой потребности пока нет.\n",
    "\n",
    "\n",
    "Более подробно поработаем с долей сетевых заведений, подкрепим выводы отдельной наглядной визуализацией:"
   ]
  },
  {
   "cell_type": "code",
   "execution_count": 45,
   "id": "e69736e0",
   "metadata": {},
   "outputs": [
    {
     "data": {
      "image/png": "[encoded data removed]",
      "text/plain": [
       "<Figure size 864x576 with 1 Axes>"
      ]
     },
     "metadata": {
      "needs_background": "light"
     },
     "output_type": "display_data"
    }
   ],
   "source": [
    "# Построим визуализацию долей сетевых заведений\n",
    "plt.figure(figsize=(12, 8))\n",
    "\n",
    "df.groupby('category')['chain'].mean().sort_values(ascending=False).plot(\n",
    "    kind='bar',\n",
    "    color='skyblue',\n",
    "    rot = 45,\n",
    "    legend=False,\n",
    "    title='Распределение долей сетевых заведений по категориям')\n",
    "\n",
    "plt.xlabel('Категория')\n",
    "plt.ylabel('Доля')\n",
    "plt.grid(axis='y')\n",
    "plt.show()"
   ]
  },
  {
   "cell_type": "markdown",
   "id": "482fa17d",
   "metadata": {},
   "source": [
    "Выводы подтвердились, к сетевым заведениям и правда чаще всего относятся булочные, пиццерии, кофейни, точки быстрого питания."
   ]
  },
  {
   "cell_type": "markdown",
   "id": "5913c3e3",
   "metadata": {
    "id": "5913c3e3"
   },
   "source": [
    "---\n",
    "\n",
    "### Задача 4\n",
    "\n",
    "Исследуйте количество посадочных мест в заведениях. Встречаются ли в данных аномальные значения или выбросы? Если да, то с чем они могут быть связаны? Приведите для каждой категории заведений наиболее типичное для него количество посадочных мест. Результат сопроводите подходящими визуализациями.\n"
   ]
  },
  {
   "cell_type": "code",
   "execution_count": 46,
   "id": "6cb238d2",
   "metadata": {
    "id": "6cb238d2"
   },
   "outputs": [
    {
     "data": {
      "text/plain": [
       "count    4792.000000\n",
       "mean      108.361436\n",
       "std       122.841130\n",
       "min         0.000000\n",
       "25%        40.000000\n",
       "50%        75.000000\n",
       "75%       140.000000\n",
       "max      1288.000000\n",
       "Name: seats, dtype: float64"
      ]
     },
     "execution_count": 46,
     "metadata": {},
     "output_type": "execute_result"
    }
   ],
   "source": [
    "# Получим общую информацию по данным о посадочных местах\n",
    "df[df['seats'] != -1]['seats'].describe()"
   ]
  },
  {
   "cell_type": "markdown",
   "id": "19af036f",
   "metadata": {
    "id": "062b55d8"
   },
   "source": [
    "Мы наблюдаем, что наиболее распространенное значение количества посадочных мест среди всех данных составляет 108. Тем не менее, среднее значение по этому столбцу может существенно искажаться из-за возможных выбросов, поэтому имеет смысл рассмотреть медиану (50%-й квантиль), которая равна 75. Среднее арифметическое и медиана заметно различаются, что может указывать на наличие выбросов, влияющих на типичное значение. Также вызывает вопросы максимальное количество мест — 1288. Вряд ли какое-либо кафе или ресторан сможет разместить такое количество посетителей."
   ]
  },
  {
   "cell_type": "markdown",
   "id": "95b2af38",
   "metadata": {
    "id": "ceadf25b"
   },
   "source": [
    "Для более подробного изучения обратимся к гистограмме распределения и диаграмме размаха:"
   ]
  },
  {
   "cell_type": "code",
   "execution_count": 47,
   "id": "5b4ac52d",
   "metadata": {},
   "outputs": [
    {
     "data": {
      "image/png": "[encoded data removed]",
      "text/plain": [
       "<Figure size 720x504 with 1 Axes>"
      ]
     },
     "metadata": {
      "needs_background": "light"
     },
     "output_type": "display_data"
    }
   ],
   "source": [
    "# Построим гистограмму распределения\n",
    "plt.figure(figsize=(10, 7))\n",
    "\n",
    "df[df['seats'] != -1]['seats'].plot(\n",
    "    kind='hist',\n",
    "    bins=70,\n",
    "    color='skyblue',\n",
    "    edgecolor='b',\n",
    "    title='Гистограмма распределения посадочных мест')\n",
    "\n",
    "plt.xlabel('Места')\n",
    "plt.ylabel('Частота')\n",
    "plt.xticks(range(0, 1400, 100))\n",
    "plt.grid(axis='y')\n",
    "plt.show()"
   ]
  },
  {
   "cell_type": "code",
   "execution_count": 48,
   "id": "524618e0",
   "metadata": {},
   "outputs": [
    {
     "data": {
      "text/plain": [
       "Text(0.5, 1.0, 'Распределение количества посадочных мест')"
      ]
     },
     "execution_count": 48,
     "metadata": {},
     "output_type": "execute_result"
    },
    {
     "data": {
      "image/png": "[encoded data removed]",
      "text/plain": [
       "<Figure size 720x288 with 1 Axes>"
      ]
     },
     "metadata": {
      "needs_background": "light"
     },
     "output_type": "display_data"
    }
   ],
   "source": [
    "# Построим диаграмму размаха\n",
    "plt.figure(figsize=(10, 4))\n",
    "\n",
    "# Подготовим датафрейм без искажающих результаты данных (замененных на -1 пропусков)\n",
    "df_seats = df[df['seats'] != -1]\n",
    "df_seats.boxplot(column='seats', vert=False)\n",
    "\n",
    "plt.xlabel('Количество посадочных мест')\n",
    "plt.title('Распределение количества посадочных мест')"
   ]
  },
  {
   "cell_type": "markdown",
   "id": "60eb9956",
   "metadata": {},
   "source": [
    "По гистограмме видно, что основная часть количества посадочных мест сосредоточена в диапазоне от 0 до 200. Распределение имеет правоасимметричный характер с длинным правым хвостом, что связано с наличием значений, значительно превышающих среднее. Диаграмма размаха подтверждает наличие выбросов, причем к ним относятся значения выше 300 мест. Можно предположить, что в данных присутствуют записи о больших залах, специально подготовленных для определенных мероприятий. Аномальные значения встречаются изолированно (например, количество мест свыше 600), что может указывать на ошибки в общедоступных источниках данных или на влияние человеческого фактора."
   ]
  },
  {
   "cell_type": "markdown",
   "id": "14aed0f3",
   "metadata": {},
   "source": [
    "Теперь мы разделим заведения на категории и определим типичное количество мест для каждой из них. Для более точного анализа заранее отфильтруем датафрейм, исключив заведения с количеством мест менее 300. В качестве типичного значения целесообразнее использовать медиану, поскольку количество мест является целочисленным типом данных, и это также позволит лучше отобразить результаты на графике."
   ]
  },
  {
   "cell_type": "code",
   "execution_count": 49,
   "id": "f0ac650e",
   "metadata": {},
   "outputs": [
    {
     "data": {
      "text/plain": [
       "category\n",
       "бар,паб            77.0\n",
       "булочная           48.0\n",
       "быстрое питание    60.0\n",
       "кафе               55.0\n",
       "кофейня            70.0\n",
       "пиццерия           50.0\n",
       "ресторан           80.0\n",
       "столовая           70.0\n",
       "Name: seats, dtype: float64"
      ]
     },
     "execution_count": 49,
     "metadata": {},
     "output_type": "execute_result"
    }
   ],
   "source": [
    "# Выведем для каждой категории типичное количество мест\n",
    "df_add = df[(df['seats'] != -1) & (df['seats'] < 300)]\n",
    "df_add.groupby('category')['seats'].median()"
   ]
  },
  {
   "cell_type": "code",
   "execution_count": 50,
   "id": "eb38d9e7",
   "metadata": {},
   "outputs": [
    {
     "data": {
      "image/png": "[encoded data removed]",
      "text/plain": [
       "<Figure size 720x432 with 1 Axes>"
      ]
     },
     "metadata": {
      "needs_background": "light"
     },
     "output_type": "display_data"
    }
   ],
   "source": [
    "# Построим визуализацию типичного значения количества мест для каждой категории\n",
    "plt.figure(figsize=(10, 6))\n",
    "\n",
    "df_add.groupby('category')['seats'].median().sort_values(ascending=False).plot(\n",
    "    kind='bar',\n",
    "    color='skyblue',\n",
    "    rot=45,\n",
    "    legend=False,\n",
    "    title='Распределение количества мест в среднем на каждую категорию заведения')\n",
    "\n",
    "plt.xlabel('Категория')\n",
    "plt.ylabel('Типичное значение')\n",
    "plt.grid(axis='y')\n",
    "plt.show()"
   ]
  },
  {
   "cell_type": "markdown",
   "id": "d9b20672",
   "metadata": {},
   "source": [
    "Наиболее типичное количество мест имеет высокие значения у ресторанов, баров и столовых. Для кофеен это необычный показатель, нужно более подробно изучить данные. Меньшее количество посадочных мест у заведений быстрого питания, кафе, пиццерий и булочных."
   ]
  },
  {
   "cell_type": "markdown",
   "id": "8ed065ea",
   "metadata": {
    "id": "8ed065ea"
   },
   "source": [
    "---\n",
    "\n",
    "### Задача 5\n",
    "\n",
    "Исследуйте рейтинг заведений. Визуализируйте распределение средних рейтингов по категориям заведений. Сильно ли различаются усреднённые рейтинги для разных типов общепита?"
   ]
  },
  {
   "cell_type": "code",
   "execution_count": 51,
   "id": "cc5206f8",
   "metadata": {
    "id": "cc5206f8"
   },
   "outputs": [
    {
     "data": {
      "text/plain": [
       "count    8402.000000\n",
       "mean        4.230016\n",
       "std         0.470320\n",
       "min         1.000000\n",
       "25%         4.100000\n",
       "50%         4.300000\n",
       "75%         4.400000\n",
       "max         5.000000\n",
       "Name: rating, dtype: float64"
      ]
     },
     "execution_count": 51,
     "metadata": {},
     "output_type": "execute_result"
    }
   ],
   "source": [
    "# Получим статистические показатели по рейтингам заведений\n",
    "df['rating'].describe()"
   ]
  },
  {
   "cell_type": "markdown",
   "id": "1d6ecfa4",
   "metadata": {},
   "source": [
    "Можно отметить, что минимальная оценка составляет `1.0`, а максимальная - `5.0`. Среднее значение `4.23` несильно отличается от медианы, которая составляет оценку `4.3`."
   ]
  },
  {
   "cell_type": "code",
   "execution_count": 52,
   "id": "07a8109e",
   "metadata": {},
   "outputs": [
    {
     "data": {
      "text/plain": [
       "category\n",
       "быстрое питание    4.050249\n",
       "кафе               4.124285\n",
       "столовая           4.211429\n",
       "булочная           4.268359\n",
       "кофейня            4.277282\n",
       "ресторан           4.290401\n",
       "пиццерия           4.301264\n",
       "бар,паб            4.387696\n",
       "Name: rating, dtype: float32"
      ]
     },
     "execution_count": 52,
     "metadata": {},
     "output_type": "execute_result"
    }
   ],
   "source": [
    "# Выявим средние рейтинги по категориям заведений\n",
    "df.groupby('category')['rating'].mean().sort_values()"
   ]
  },
  {
   "cell_type": "code",
   "execution_count": 53,
   "id": "8c483c3f",
   "metadata": {},
   "outputs": [
    {
     "data": {
      "image/png": "[encoded data removed]",
      "text/plain": [
       "<Figure size 720x432 with 1 Axes>"
      ]
     },
     "metadata": {
      "needs_background": "light"
     },
     "output_type": "display_data"
    }
   ],
   "source": [
    "# Визуализируем полученные данные с помощью столбачтой диаграммы\n",
    "import numpy as np\n",
    "\n",
    "plt.figure(figsize=(10, 6))\n",
    "\n",
    "df.groupby('category')['rating'].mean().sort_values(ascending=False).plot(\n",
    "    kind='bar',\n",
    "    color='skyblue',\n",
    "    rot=30,\n",
    "    legend=False,\n",
    "    title='Распределение среднего рейтинга заведений в зависимости от категории')\n",
    "\n",
    "plt.xlabel('Категория')\n",
    "plt.ylabel('Средний рейтинг')\n",
    "plt.grid(axis='y')\n",
    "plt.yticks(np.arange(0, 5, 0.5))\n",
    "plt.show()"
   ]
  },
  {
   "cell_type": "markdown",
   "id": "fcb3af4f",
   "metadata": {
    "id": "3e0ec5d7"
   },
   "source": [
    "По графику заметно, что усредненные рейтинги лежат в диапазоне `4.1-4.4` для каждой категории заведений. Самые высокие оценки заслужили бары и пабы с показателем с округлением в `4.4`. Средние рейтинги булочных, кофеен, пиццерий и ресторанов практически одинаковы и составляют приблизительно `4.3`, что является довольно неплохой оценкой. Рейтинги столовых и кафе составляют `4.2` и `4.1` соответственно. Минимальный средний рейтинг у заведений быстрого питания - `4.05`, что можно объяснить тем, что подобные заведения нацелены на скорое обслуживание, а не на качество предоставляемых блюд."
   ]
  },
  {
   "cell_type": "markdown",
   "id": "dd9702d9",
   "metadata": {
    "id": "dd9702d9"
   },
   "source": [
    "---\n",
    "\n",
    "### Задача 6\n",
    "\n",
    "Изучите, с какими данными показывают самую сильную корреляцию рейтинги заведений? Постройте и визуализируйте матрицу корреляции рейтинга заведения с разными данными: его категория, положение (административный район Москвы), статус сетевого заведения, количество мест, ценовая категория и признак, является ли заведения круглосуточным. Выберите самую сильную связь и проверьте её."
   ]
  },
  {
   "cell_type": "code",
   "execution_count": 54,
   "id": "15400eb9",
   "metadata": {
    "id": "15400eb9"
   },
   "outputs": [
    {
     "name": "stdout",
     "output_type": "stream",
     "text": [
      "interval columns not set, guessing: ['rating', 'chain', 'seats', 'is_24_7']\n",
      "Корреляционная матрица для переменной rating:\n"
     ]
    },
    {
     "data": {
      "text/html": [
       "<div>\n",
       "<style scoped>\n",
       "    .dataframe tbody tr th:only-of-type {\n",
       "        vertical-align: middle;\n",
       "    }\n",
       "\n",
       "    .dataframe tbody tr th {\n",
       "        vertical-align: top;\n",
       "    }\n",
       "\n",
       "    .dataframe thead th {\n",
       "        text-align: right;\n",
       "    }\n",
       "</style>\n",
       "<table border=\"1\" class=\"dataframe\">\n",
       "  <thead>\n",
       "    <tr style=\"text-align: right;\">\n",
       "      <th></th>\n",
       "      <th>rating</th>\n",
       "    </tr>\n",
       "  </thead>\n",
       "  <tbody>\n",
       "    <tr>\n",
       "      <th>district</th>\n",
       "      <td>0.276956</td>\n",
       "    </tr>\n",
       "    <tr>\n",
       "      <th>price</th>\n",
       "      <td>0.257868</td>\n",
       "    </tr>\n",
       "    <tr>\n",
       "      <th>category</th>\n",
       "      <td>0.188884</td>\n",
       "    </tr>\n",
       "    <tr>\n",
       "      <th>is_24_7</th>\n",
       "      <td>0.088509</td>\n",
       "    </tr>\n",
       "    <tr>\n",
       "      <th>chain</th>\n",
       "      <td>0.065368</td>\n",
       "    </tr>\n",
       "    <tr>\n",
       "      <th>seats</th>\n",
       "      <td>0.000000</td>\n",
       "    </tr>\n",
       "  </tbody>\n",
       "</table>\n",
       "</div>"
      ],
      "text/plain": [
       "            rating\n",
       "district  0.276956\n",
       "price     0.257868\n",
       "category  0.188884\n",
       "is_24_7   0.088509\n",
       "chain     0.065368\n",
       "seats     0.000000"
      ]
     },
     "execution_count": 54,
     "metadata": {},
     "output_type": "execute_result"
    }
   ],
   "source": [
    "# Вычислим корреляционную матрицу\n",
    "df_add = df[(df['seats'] != -1) & (df['price'] != '')] # Отсеиваем пропуски, которые были заменены на определенные значения\n",
    "corr_matrix = df_add[['category', 'district', 'rating', 'chain', 'seats', 'price', 'is_24_7']].phik_matrix()\n",
    "\n",
    "print('Корреляционная матрица для переменной rating:')\n",
    "corr_matrix.loc[corr_matrix.index != 'rating'][['rating']].sort_values(by='rating', ascending=False)"
   ]
  },
  {
   "cell_type": "code",
   "execution_count": 55,
   "id": "8f0379af",
   "metadata": {
    "id": "8f0379af"
   },
   "outputs": [
    {
     "data": {
      "image/png": "[encoded data removed]",
      "text/plain": [
       "<Figure size 144x432 with 1 Axes>"
      ]
     },
     "metadata": {
      "needs_background": "light"
     },
     "output_type": "display_data"
    }
   ],
   "source": [
    "plt.figure(figsize=(2, 6))\n",
    "\n",
    "df_heatmap = corr_matrix.loc[corr_matrix.index != 'rating'][['rating']].sort_values(by='rating', ascending=False)\n",
    "sns.heatmap(data=df_heatmap,\n",
    "            annot=True,\n",
    "            fmt='.3f',\n",
    "            linewidths=0.5,\n",
    "            cbar=False,\n",
    "            cmap='Blues')\n",
    "\n",
    "plt.title('Тепловая карта для rating')\n",
    "plt.xlabel('Рейтинг')\n",
    "plt.show()"
   ]
  },
  {
   "cell_type": "markdown",
   "id": "9dee251e",
   "metadata": {
    "id": "1a65a84d"
   },
   "source": [
    "Видим, что наибольшая корреляция наблюдается с расположением заведения `district` - 0.28. Далее идут ценовая категория 'price' (0.26) и категория самого заведения (0.19). Не столь существенна корреляция рейтинга с показателем круглосуточной работы `is_24_7` (0.09) и показателем сети заведений `chain` (0.07). Нулевая корреляция наблюдается с показателем количества посадочных мест `seats` (0.0).\n",
    "\n",
    "Выберем самую сильную связь и проверим её."
   ]
  },
  {
   "cell_type": "code",
   "execution_count": 56,
   "id": "c810a4fe",
   "metadata": {},
   "outputs": [
    {
     "name": "stderr",
     "output_type": "stream",
     "text": [
      "/opt/conda/lib/python3.9/site-packages/pandas/core/indexing.py:1676: SettingWithCopyWarning: \n",
      "A value is trying to be set on a copy of a slice from a DataFrame.\n",
      "Try using .loc[row_indexer,col_indexer] = value instead\n",
      "\n",
      "See the caveats in the documentation: https://pandas.pydata.org/pandas-docs/stable/user_guide/indexing.html#returning-a-view-versus-a-copy\n",
      "  self._setitem_single_column(ilocs[0], value, pi)\n"
     ]
    },
    {
     "data": {
      "image/png": "[encoded data removed]",
      "text/plain": [
       "<Figure size 720x432 with 1 Axes>"
      ]
     },
     "metadata": {
      "needs_background": "light"
     },
     "output_type": "display_data"
    }
   ],
   "source": [
    "plt.figure(figsize=(10, 6))\n",
    "\n",
    "df_add.loc[:, 'district'] = df_add.loc[:, 'district'].str.replace('административный округ', 'АО') # Для удобства отображения на графике\n",
    "\n",
    "df_add.groupby('district')['rating'].mean().sort_values(ascending=False).plot(\n",
    "    kind='bar',\n",
    "    color='skyblue',\n",
    "    rot=60,\n",
    "    title='Распределение среднего рейтинга по районам Москвы')\n",
    "\n",
    "mean_rating = df_add['rating'].mean()\n",
    "\n",
    "plt.axhline(mean_rating,\n",
    "            color='blue',\n",
    "            linestyle='--',\n",
    "            linewidth=1,\n",
    "            label=f'Средний рейтинг: {round(mean_rating,2)}')\n",
    "\n",
    "plt.xlabel('Административный округ')\n",
    "plt.ylabel('Рейтинг')\n",
    "plt.grid(axis='y')\n",
    "plt.yticks(np.arange(0, 5, 0.5))\n",
    "plt.legend()\n",
    "plt.show()"
   ]
  },
  {
   "cell_type": "markdown",
   "id": "7bcf35d5",
   "metadata": {},
   "source": [
    "Видно, что в разбросе рейтинга по районам нет больших отличий. Однако в определенной мере расположение заведения влияет на его рейтинг. Так, самые выскокие оценки у заведений, расположенных в Центральном АО, что является объяснимым: центр Москвы пестрит крупными и шикарными заведениями с соответствующим уровнем обслуживания. Высокие показатели также у Северного и Юго-Западного административных округов."
   ]
  },
  {
   "cell_type": "markdown",
   "id": "370de703",
   "metadata": {
    "id": "370de703"
   },
   "source": [
    "---\n",
    "\n",
    "### Задача 7\n",
    "\n",
    "Сгруппируйте данные по названиям заведений и найдите топ-15 популярных сетей в Москве. Для них посчитайте значения среднего рейтинга. Под популярностью понимается количество заведений этой сети в регионе. К какой категории заведений они относятся? Результат сопроводите подходящими визуализациями."
   ]
  },
  {
   "cell_type": "code",
   "execution_count": 57,
   "id": "5d828a9a",
   "metadata": {
    "id": "5d828a9a"
   },
   "outputs": [
    {
     "data": {
      "text/plain": [
       "кафе                                   188\n",
       "шоколадница                            120\n",
       "домино'с пицца                          77\n",
       "додо пицца                              74\n",
       "one price coffee                        72\n",
       "яндекс лавка                            69\n",
       "cofix                                   65\n",
       "prime                                   50\n",
       "хинкальная                              44\n",
       "шаурма                                  43\n",
       "кофепорт                                42\n",
       "кулинарная лавка братьев караваевых     39\n",
       "теремок                                 38\n",
       "чайхана                                 37\n",
       "ресторан                                34\n",
       "Name: name, dtype: int64"
      ]
     },
     "execution_count": 57,
     "metadata": {},
     "output_type": "execute_result"
    }
   ],
   "source": [
    "# Найдем топ-15 популярных сетей в Москве\n",
    "df['name'].value_counts().head(15)"
   ]
  },
  {
   "cell_type": "code",
   "execution_count": 58,
   "id": "d013c598",
   "metadata": {
    "id": "d013c598"
   },
   "outputs": [
    {
     "data": {
      "text/html": [
       "<div>\n",
       "<style scoped>\n",
       "    .dataframe tbody tr th:only-of-type {\n",
       "        vertical-align: middle;\n",
       "    }\n",
       "\n",
       "    .dataframe tbody tr th {\n",
       "        vertical-align: top;\n",
       "    }\n",
       "\n",
       "    .dataframe thead th {\n",
       "        text-align: right;\n",
       "    }\n",
       "</style>\n",
       "<table border=\"1\" class=\"dataframe\">\n",
       "  <thead>\n",
       "    <tr style=\"text-align: right;\">\n",
       "      <th></th>\n",
       "      <th>id</th>\n",
       "      <th>rating</th>\n",
       "    </tr>\n",
       "    <tr>\n",
       "      <th>name</th>\n",
       "      <th></th>\n",
       "      <th></th>\n",
       "    </tr>\n",
       "  </thead>\n",
       "  <tbody>\n",
       "    <tr>\n",
       "      <th>кафе</th>\n",
       "      <td>188</td>\n",
       "      <td>3.884574</td>\n",
       "    </tr>\n",
       "    <tr>\n",
       "      <th>шоколадница</th>\n",
       "      <td>120</td>\n",
       "      <td>4.177500</td>\n",
       "    </tr>\n",
       "    <tr>\n",
       "      <th>домино'с пицца</th>\n",
       "      <td>77</td>\n",
       "      <td>4.171429</td>\n",
       "    </tr>\n",
       "    <tr>\n",
       "      <th>додо пицца</th>\n",
       "      <td>74</td>\n",
       "      <td>4.286487</td>\n",
       "    </tr>\n",
       "    <tr>\n",
       "      <th>one price coffee</th>\n",
       "      <td>72</td>\n",
       "      <td>4.069445</td>\n",
       "    </tr>\n",
       "    <tr>\n",
       "      <th>яндекс лавка</th>\n",
       "      <td>69</td>\n",
       "      <td>3.872464</td>\n",
       "    </tr>\n",
       "    <tr>\n",
       "      <th>cofix</th>\n",
       "      <td>65</td>\n",
       "      <td>4.075385</td>\n",
       "    </tr>\n",
       "    <tr>\n",
       "      <th>prime</th>\n",
       "      <td>50</td>\n",
       "      <td>4.116000</td>\n",
       "    </tr>\n",
       "    <tr>\n",
       "      <th>хинкальная</th>\n",
       "      <td>44</td>\n",
       "      <td>4.322727</td>\n",
       "    </tr>\n",
       "    <tr>\n",
       "      <th>шаурма</th>\n",
       "      <td>43</td>\n",
       "      <td>3.909302</td>\n",
       "    </tr>\n",
       "    <tr>\n",
       "      <th>кофепорт</th>\n",
       "      <td>42</td>\n",
       "      <td>4.147619</td>\n",
       "    </tr>\n",
       "    <tr>\n",
       "      <th>кулинарная лавка братьев караваевых</th>\n",
       "      <td>39</td>\n",
       "      <td>4.394872</td>\n",
       "    </tr>\n",
       "    <tr>\n",
       "      <th>теремок</th>\n",
       "      <td>38</td>\n",
       "      <td>4.123684</td>\n",
       "    </tr>\n",
       "    <tr>\n",
       "      <th>чайхана</th>\n",
       "      <td>37</td>\n",
       "      <td>3.924324</td>\n",
       "    </tr>\n",
       "    <tr>\n",
       "      <th>ресторан</th>\n",
       "      <td>34</td>\n",
       "      <td>4.314706</td>\n",
       "    </tr>\n",
       "  </tbody>\n",
       "</table>\n",
       "</div>"
      ],
      "text/plain": [
       "                                      id    rating\n",
       "name                                              \n",
       "кафе                                 188  3.884574\n",
       "шоколадница                          120  4.177500\n",
       "домино'с пицца                        77  4.171429\n",
       "додо пицца                            74  4.286487\n",
       "one price coffee                      72  4.069445\n",
       "яндекс лавка                          69  3.872464\n",
       "cofix                                 65  4.075385\n",
       "prime                                 50  4.116000\n",
       "хинкальная                            44  4.322727\n",
       "шаурма                                43  3.909302\n",
       "кофепорт                              42  4.147619\n",
       "кулинарная лавка братьев караваевых   39  4.394872\n",
       "теремок                               38  4.123684\n",
       "чайхана                               37  3.924324\n",
       "ресторан                              34  4.314706"
      ]
     },
     "execution_count": 58,
     "metadata": {},
     "output_type": "execute_result"
    }
   ],
   "source": [
    "# Для каждой позиции в топе посчитаем значения среднего рейтинга\n",
    "df.groupby('name').agg({'id': 'count', 'rating': 'mean'}).sort_values(by='id', ascending=False).head(15)"
   ]
  },
  {
   "cell_type": "code",
   "execution_count": 59,
   "id": "774348d5",
   "metadata": {
    "id": "774348d5"
   },
   "outputs": [
    {
     "data": {
      "text/plain": [
       "<Figure size 864x576 with 0 Axes>"
      ]
     },
     "metadata": {},
     "output_type": "display_data"
    },
    {
     "data": {
      "image/png": "[encoded data removed]",
      "text/plain": [
       "<Figure size 432x288 with 1 Axes>"
      ]
     },
     "metadata": {
      "needs_background": "light"
     },
     "output_type": "display_data"
    }
   ],
   "source": [
    "# Построим визуализацию распределения среднего рейтинга среди популярных точек\n",
    "\n",
    "\n",
    "plt.figure(figsize=(12, 8))\n",
    "\n",
    "df_add1 = df.groupby('name').agg({'id': 'count', 'rating': 'mean'}).sort_values(by='id', ascending=False).head(15)\n",
    "df_add1.sort_values(by='rating', ascending=True).plot(\n",
    "        kind='barh', \n",
    "        y='rating',\n",
    "        color='skyblue',\n",
    "        legend=False,\n",
    "        title='Распределение среднего рейтинга среди популярных заведений')\n",
    "\n",
    "mean_rating = df_add1['rating'].mean()\n",
    "plt.axvline(mean_rating,\n",
    "            color='blue',\n",
    "            linestyle='--',\n",
    "            linewidth=1,\n",
    "            label=f'Средний рейтинг \\nпо всем заведениям \\nв топе: {round(mean_rating, 3)}')\n",
    "\n",
    "plt.xlabel('Рейтинг')\n",
    "plt.ylabel('Сеть заведений')\n",
    "plt.grid(axis='x')\n",
    "plt.xticks(np.arange(0, 5, 0.3))\n",
    "plt.legend()\n",
    "plt.show()"
   ]
  },
  {
   "cell_type": "markdown",
   "id": "22aa2e4b",
   "metadata": {},
   "source": [
    "Наиболее успешными с точки зрения потребительских оценок являются такие сети как \"кулинарная лавка братьев караваевых\", \"хинкальная\", \"ресторан\", \"додо пицца\", \"шоколадница\", \"домино'с пицца\", \"кофепорт\" и \"теремок\". Рейтинг остальных заведений падает ниже среднего (`4.12`), отличаются типы заведений \"шаурма\", \"кафе\" и \"яндекс лавка\" - их рейтинг ниже `4.0`."
   ]
  },
  {
   "cell_type": "code",
   "execution_count": 60,
   "id": "d830b948",
   "metadata": {},
   "outputs": [
    {
     "data": {
      "text/plain": [
       "name                                 category       \n",
       "кафе                                 кафе               158\n",
       "шоколадница                          кофейня            119\n",
       "домино'с пицца                       пиццерия            77\n",
       "додо пицца                           пиццерия            74\n",
       "one price coffee                     кофейня             72\n",
       "яндекс лавка                         ресторан            69\n",
       "cofix                                кофейня             65\n",
       "prime                                ресторан            49\n",
       "кофепорт                             кофейня             42\n",
       "кулинарная лавка братьев караваевых  кафе                39\n",
       "теремок                              ресторан            36\n",
       "ресторан                             ресторан            33\n",
       "шаурма                               быстрое питание     32\n",
       "cofefest                             кофейня             31\n",
       "чайхана                              кафе                26\n",
       "Name: id, dtype: int64"
      ]
     },
     "execution_count": 60,
     "metadata": {},
     "output_type": "execute_result"
    }
   ],
   "source": [
    "# Определяем категорию заведений\n",
    "df.groupby(['name', 'category'])['id'].count().sort_values(ascending=False).head(15)"
   ]
  },
  {
   "cell_type": "code",
   "execution_count": 61,
   "id": "a23fcd34",
   "metadata": {},
   "outputs": [
    {
     "data": {
      "text/plain": [
       "name                                 category       \n",
       "cofix                                кофейня             65\n",
       "one price coffee                     кофейня             72\n",
       "prime                                кафе                 1\n",
       "                                     ресторан            49\n",
       "додо пицца                           пиццерия            74\n",
       "домино'с пицца                       пиццерия            77\n",
       "кафе                                 бар,паб              2\n",
       "                                     быстрое питание      7\n",
       "                                     кафе               158\n",
       "                                     кофейня              6\n",
       "                                     пиццерия             1\n",
       "                                     ресторан             8\n",
       "                                     столовая             6\n",
       "кофепорт                             кофейня             42\n",
       "кулинарная лавка братьев караваевых  кафе                39\n",
       "ресторан                             пиццерия             1\n",
       "                                     ресторан            33\n",
       "теремок                              быстрое питание      2\n",
       "                                     ресторан            36\n",
       "хинкальная                           бар,паб              3\n",
       "                                     быстрое питание      6\n",
       "                                     кафе                19\n",
       "                                     ресторан            15\n",
       "                                     столовая             1\n",
       "чайхана                              быстрое питание      2\n",
       "                                     кафе                26\n",
       "                                     ресторан             9\n",
       "шаурма                               булочная             1\n",
       "                                     быстрое питание     32\n",
       "                                     кафе                10\n",
       "шоколадница                          кафе                 1\n",
       "                                     кофейня            119\n",
       "яндекс лавка                         ресторан            69\n",
       "Name: id, dtype: int64"
      ]
     },
     "execution_count": 61,
     "metadata": {},
     "output_type": "execute_result"
    }
   ],
   "source": [
    "# Получим список наименований заведений\n",
    "list_names = df_add1.reset_index()['name'].tolist()\n",
    "\n",
    "# Отфильтруем датафрейм только по названиям из топа\n",
    "df_filter = df[df['name'].isin(list_names)]\n",
    "\n",
    "# Определим категории заведений\n",
    "df_filter.groupby(['name', 'category'])['id'].count()"
   ]
  },
  {
   "cell_type": "markdown",
   "id": "18088093",
   "metadata": {},
   "source": [
    "Видно, что большинство популярных заведений относятся к категориям \"кафе\", \"кофейня\", \"пиццерия\", \"ресторан\" и \"быстрое питание\"."
   ]
  },
  {
   "cell_type": "markdown",
   "id": "85a90a94",
   "metadata": {
    "id": "85a90a94"
   },
   "source": [
    "---\n",
    "\n",
    "### Задача 8\n",
    "\n",
    "Изучите вариацию среднего чека заведения (столбец `middle_avg_bill`) в зависимости от района Москвы. Проанализируйте цены в Центральном административном округе и других. Как удалённость от центра влияет на цены в заведениях? Результат сопроводите подходящими визуализациями.\n"
   ]
  },
  {
   "cell_type": "code",
   "execution_count": 62,
   "id": "5fb4ffc6",
   "metadata": {
    "id": "5fb4ffc6"
   },
   "outputs": [
    {
     "data": {
      "text/plain": [
       "count     3149.000000\n",
       "mean       958.053668\n",
       "std       1009.732845\n",
       "min          0.000000\n",
       "25%        375.000000\n",
       "50%        750.000000\n",
       "75%       1250.000000\n",
       "max      35000.000000\n",
       "Name: middle_avg_bill, dtype: float64"
      ]
     },
     "execution_count": 62,
     "metadata": {},
     "output_type": "execute_result"
    }
   ],
   "source": [
    "# Выведем статистические показатели по столбцу\n",
    "df[df['middle_avg_bill'] != np.nan]['middle_avg_bill'].describe()"
   ]
  },
  {
   "cell_type": "markdown",
   "id": "adbb4061",
   "metadata": {
    "id": "b98066c1"
   },
   "source": [
    "По статистическим показателям видна скошенность среднего значения к области высоких значений. Это можно понять при сравнении среднего `958` и медианы `750`. Возможно, выбросы связаны с очень дорогими ресторанами или другими исключительными заведениями."
   ]
  },
  {
   "cell_type": "code",
   "execution_count": 63,
   "id": "9b5e00a5",
   "metadata": {
    "id": "9b5e00a5"
   },
   "outputs": [
    {
     "data": {
      "text/plain": [
       "district\n",
       "Центральный административный округ         1191.057547\n",
       "Западный административный округ            1053.225490\n",
       "Северный административный округ             927.959627\n",
       "Южный административный округ                834.398089\n",
       "Северо-Западный административный округ      822.222930\n",
       "Восточный административный округ            820.626923\n",
       "Юго-Западный административный округ         792.561702\n",
       "Северо-Восточный административный округ     716.611296\n",
       "Юго-Восточный административный округ        654.097938\n",
       "Name: middle_avg_bill, dtype: float64"
      ]
     },
     "execution_count": 63,
     "metadata": {},
     "output_type": "execute_result"
    }
   ],
   "source": [
    "# Изучим вариацию среднего чека заведения в зависимости от района Москвы\n",
    "df.groupby('district')['middle_avg_bill'].mean().sort_values(ascending=False)"
   ]
  },
  {
   "cell_type": "code",
   "execution_count": 64,
   "id": "92e60f12",
   "metadata": {},
   "outputs": [
    {
     "data": {
      "image/png": "[encoded data removed]",
      "text/plain": [
       "<Figure size 864x432 with 1 Axes>"
      ]
     },
     "metadata": {
      "needs_background": "light"
     },
     "output_type": "display_data"
    }
   ],
   "source": [
    "# Построим визуализацию вариаций среднего чека в зависимости от местоположения заведения\n",
    "plt.figure(figsize=(12, 6))\n",
    "\n",
    "df.groupby('district')['middle_avg_bill'].mean().sort_values(ascending=True).plot(\n",
    "    kind='barh',\n",
    "    color='skyblue',\n",
    "    title='Средний чек в зависимости от района Москвы')\n",
    "\n",
    "plt.xlabel('Средний чек')\n",
    "plt.ylabel('АО Москвы')\n",
    "plt.grid(axis='x')\n",
    "plt.xticks(range(0, 1250, 50))\n",
    "plt.show()"
   ]
  },
  {
   "cell_type": "markdown",
   "id": "ce9c65c4",
   "metadata": {},
   "source": [
    "По графику можно увидеть, что в Центральном административном округе самый большой средний чек в заведениях - около 1200. Это можно объяснить, например, высокой арендной платой за площадь собственников заведений и более высоким уровнем обслуживания с упором на обсепеченных людей. \n",
    "\n",
    "Далее идет Западный административный округ с показателем около 1000 рублей, затем Северный административный округ - примерно 925 рублей. Южный, Северо-Западный и Восточный административные округа находятся примерно на одном уровне по значению среднего чека - 825 рублей. Самое минимальное его значение в Юго-Восточном административном округе - 650 рублей.\n",
    "\n",
    "Можно сделать вывод, что удаленность от центра влияет прямо противоположно на средний чек в заведениях: чем больше расстояние от центра города, тем меньшая сумма среднего чека наблюдается."
   ]
  },
  {
   "cell_type": "markdown",
   "id": "c150bd4f",
   "metadata": {
    "id": "c150bd4f"
   },
   "source": [
    "---\n",
    "\n",
    "### Задача 9\n",
    "\n",
    " При необходимости проведите исследования других данных и их взаимосвязи. Например, часы работы заведений или стоимость чашки кофе в зависимости от расположения или типа заведения.\n"
   ]
  },
  {
   "cell_type": "code",
   "execution_count": 65,
   "id": "5ee8b279",
   "metadata": {
    "id": "5ee8b279"
   },
   "outputs": [
    {
     "data": {
      "text/html": [
       "<div>\n",
       "<style scoped>\n",
       "    .dataframe tbody tr th:only-of-type {\n",
       "        vertical-align: middle;\n",
       "    }\n",
       "\n",
       "    .dataframe tbody tr th {\n",
       "        vertical-align: top;\n",
       "    }\n",
       "\n",
       "    .dataframe thead th {\n",
       "        text-align: right;\n",
       "    }\n",
       "</style>\n",
       "<table border=\"1\" class=\"dataframe\">\n",
       "  <thead>\n",
       "    <tr style=\"text-align: right;\">\n",
       "      <th>is_24_7</th>\n",
       "      <th>0</th>\n",
       "      <th>1</th>\n",
       "    </tr>\n",
       "    <tr>\n",
       "      <th>district</th>\n",
       "      <th></th>\n",
       "      <th></th>\n",
       "    </tr>\n",
       "  </thead>\n",
       "  <tbody>\n",
       "    <tr>\n",
       "      <th>Восточный административный округ</th>\n",
       "      <td>0.878446</td>\n",
       "      <td>0.121554</td>\n",
       "    </tr>\n",
       "    <tr>\n",
       "      <th>Западный административный округ</th>\n",
       "      <td>0.915294</td>\n",
       "      <td>0.084706</td>\n",
       "    </tr>\n",
       "    <tr>\n",
       "      <th>Северный административный округ</th>\n",
       "      <td>0.920935</td>\n",
       "      <td>0.079065</td>\n",
       "    </tr>\n",
       "    <tr>\n",
       "      <th>Северо-Восточный административный округ</th>\n",
       "      <td>0.915730</td>\n",
       "      <td>0.084270</td>\n",
       "    </tr>\n",
       "    <tr>\n",
       "      <th>Северо-Западный административный округ</th>\n",
       "      <td>0.894866</td>\n",
       "      <td>0.105134</td>\n",
       "    </tr>\n",
       "    <tr>\n",
       "      <th>Центральный административный округ</th>\n",
       "      <td>0.941570</td>\n",
       "      <td>0.058430</td>\n",
       "    </tr>\n",
       "    <tr>\n",
       "      <th>Юго-Восточный административный округ</th>\n",
       "      <td>0.869748</td>\n",
       "      <td>0.130252</td>\n",
       "    </tr>\n",
       "    <tr>\n",
       "      <th>Юго-Западный административный округ</th>\n",
       "      <td>0.897038</td>\n",
       "      <td>0.102962</td>\n",
       "    </tr>\n",
       "    <tr>\n",
       "      <th>Южный административный округ</th>\n",
       "      <td>0.915919</td>\n",
       "      <td>0.084081</td>\n",
       "    </tr>\n",
       "  </tbody>\n",
       "</table>\n",
       "</div>"
      ],
      "text/plain": [
       "is_24_7                                         0         1\n",
       "district                                                   \n",
       "Восточный административный округ         0.878446  0.121554\n",
       "Западный административный округ          0.915294  0.084706\n",
       "Северный административный округ          0.920935  0.079065\n",
       "Северо-Восточный административный округ  0.915730  0.084270\n",
       "Северо-Западный административный округ   0.894866  0.105134\n",
       "Центральный административный округ       0.941570  0.058430\n",
       "Юго-Восточный административный округ     0.869748  0.130252\n",
       "Юго-Западный административный округ      0.897038  0.102962\n",
       "Южный административный округ             0.915919  0.084081"
      ]
     },
     "metadata": {},
     "output_type": "display_data"
    }
   ],
   "source": [
    "# Считаем количество заведений по округам и режиму работы\n",
    "count_by_district_and_mode = df.groupby(['district', 'is_24_7'])['id'].count().reset_index()\n",
    "\n",
    "# Считаем общее количество заведений по округам\n",
    "total_count_by_district = df['district'].value_counts().reset_index()\n",
    "total_count_by_district.columns = ['district', 'total']\n",
    "\n",
    "# Объединяем оба датафрейма по округам\n",
    "merged_df = count_by_district_and_mode.merge(total_count_by_district, on='district')\n",
    "\n",
    "# Рассчитываем долю заведений, работающих 24/7\n",
    "merged_df['proportion'] = merged_df['id'] / merged_df['total']\n",
    "\n",
    "# Пивотируем таблицу для удобного отображения\n",
    "result = merged_df.pivot(index='district', columns='is_24_7', values='proportion')\n",
    "\n",
    "# Выводим результат\n",
    "display(result)"
   ]
  },
  {
   "cell_type": "code",
   "execution_count": 66,
   "id": "c6a666d9",
   "metadata": {
    "id": "c6a666d9"
   },
   "outputs": [
    {
     "data": {
      "text/plain": [
       "<Figure size 864x576 with 0 Axes>"
      ]
     },
     "metadata": {},
     "output_type": "display_data"
    },
    {
     "data": {
      "image/png": "[encoded data removed]",
      "text/plain": [
       "<Figure size 432x288 with 1 Axes>"
      ]
     },
     "metadata": {
      "needs_background": "light"
     },
     "output_type": "display_data"
    }
   ],
   "source": [
    "# Визуализируем распределение долей\n",
    "\n",
    "plt.figure(figsize=(12, 8))\n",
    "\n",
    "# Считаем количество заведений по округам и режиму работы\n",
    "count_by_district_and_mode = df.groupby(['district', 'is_24_7'])['id'].count().reset_index()\n",
    "\n",
    "# Считаем общее количество заведений по округам\n",
    "total_count_by_district = df['district'].value_counts().reset_index()\n",
    "total_count_by_district.columns = ['district', 'total']\n",
    "\n",
    "# Объединяем оба датафрейма по округам\n",
    "merged_df = count_by_district_and_mode.merge(total_count_by_district, on='district')\n",
    "\n",
    "# Рассчитываем долю заведений, работающих 24/7\n",
    "merged_df['proportion'] = merged_df['id'] / merged_df['total']\n",
    "\n",
    "# Пивотируем таблицу для удобного отображения\n",
    "result = merged_df.pivot(index='district', columns='is_24_7', values='proportion')\n",
    "result.plot(kind='barh',\n",
    "             color=['skyblue','blue'],\n",
    "             title='Распределение круглосуточных и ежедневно работающих заведений \\nв зависимости от района')\n",
    "plt.xlabel('Доля заведений')\n",
    "plt.ylabel('АО')\n",
    "plt.grid(axis='x')\n",
    "plt.xticks(np.arange(0, 1, 0.1))\n",
    "plt.show()"
   ]
  },
  {
   "cell_type": "markdown",
   "id": "b6a80515",
   "metadata": {
    "id": "618096b5"
   },
   "source": [
    "Такая визуализация неудобна для анализа, возьмем данные только по работающим круглосуточно и ежедневно точкам общественного питания."
   ]
  },
  {
   "cell_type": "code",
   "execution_count": 67,
   "id": "5f979f04",
   "metadata": {},
   "outputs": [
    {
     "data": {
      "text/plain": [
       "district\n",
       "Юго-Восточный административный округ       0.130252\n",
       "Восточный административный округ           0.121554\n",
       "Северо-Западный административный округ     0.105134\n",
       "Юго-Западный административный округ        0.102962\n",
       "Западный административный округ            0.084706\n",
       "Северо-Восточный административный округ    0.084270\n",
       "Южный административный округ               0.084081\n",
       "Северный административный округ            0.079065\n",
       "Центральный административный округ         0.058430\n",
       "Name: is_24_7, dtype: float64"
      ]
     },
     "execution_count": 67,
     "metadata": {},
     "output_type": "execute_result"
    }
   ],
   "source": [
    "# Возьмем данные только для работающих круглосуточно и ежедневно заведений\n",
    "df.groupby('district')['is_24_7'].mean().sort_values(ascending=False)"
   ]
  },
  {
   "cell_type": "code",
   "execution_count": 68,
   "id": "25a18a3d",
   "metadata": {},
   "outputs": [
    {
     "data": {
      "image/png": "[encoded data removed]",
      "text/plain": [
       "<Figure size 864x576 with 1 Axes>"
      ]
     },
     "metadata": {
      "needs_background": "light"
     },
     "output_type": "display_data"
    }
   ],
   "source": [
    "# Построим визуализацию\n",
    "plt.figure(figsize=(12, 8))\n",
    "\n",
    "df.groupby('district')['is_24_7'].mean().sort_values(ascending=True).plot(\n",
    "    kind='barh',\n",
    "    color='skyblue',\n",
    "    title='Доля работающих круглосуточно и ежедневно заведений по районам')\n",
    "\n",
    "plt.xlabel('Доля заведений')\n",
    "plt.ylabel('Административный округ')\n",
    "plt.grid(axis='x')\n",
    "plt.show()"
   ]
  },
  {
   "cell_type": "markdown",
   "id": "5db0db6d",
   "metadata": {},
   "source": [
    "По графику можно сделать вывод, что больше всего заведений, работающих круглосуточно и ежедневно, находится в Юго-Восточном округе. Также таких заведений немало в Восточном АО, Северо-Западном АО и Юго-Западном АО. Любопытно, что в Центральном административном округе, имеющем рекордное количество заведений общественного питания, доля работающих круглосуточно и ежедневно минимальна среди других районов."
   ]
  },
  {
   "cell_type": "markdown",
   "id": "f2c54e9a",
   "metadata": {
    "id": "f2c54e9a"
   },
   "source": [
    "---\n",
    "\n",
    "### Промежуточный вывод\n",
    "\n",
    "Обобщите полученные результаты, выделив, по вашему мнению, самые важные."
   ]
  },
  {
   "cell_type": "markdown",
   "id": "dbe2eac1",
   "metadata": {
    "id": "c8869609"
   },
   "source": [
    "Исследовательский анализ данных показал:\n",
    "* Среди категорий общественного питания большой популярностью пользуются кафе, рестораны и кофейни.\n",
    "* Количество заведений общепита распределено неравномерно по районам Москвы: 27% находится в Центральном административном округе, по 10-11% приходится на Северный, Южный, Северо-Восточный и Западный административные округа, остальные заведения расположены в оставшихся районных единицах. При этом в ЦАО больше всего ресторанов, далее идут кафе и кофейни.\n",
    "* Доля сетевых заведений составляет чуть больше трети от всех - 32%. Причем к сетевым точкам чаще всего относятся булочные, пиццерии и кофейни, к несетевым - бары, столовые, кафе.\n",
    "* Посадочных мест больше всего в ресторанах, барах, кофейнях и столовых.\n",
    "* Рейтинг всех заведений неплохой, колеблется в диапазоне 4.1-4.4. Максимальная оценка у баров - 4.4, минимальная - у заведений быстрого питания 4.05.\n",
    "* Рейтинги в зависимости от расположения заведений распределяются примерно равномерно.\n",
    "* Выделен топ-15 популярных заведений. Их рейтинг колеблется от 3.9 до 4.4.\n",
    "* Выявлена связь среднего чека блюд с расположением заведения: удаляясь от центра Москвы, средний чек уменьшается."
   ]
  },
  {
   "cell_type": "markdown",
   "id": "480f3422",
   "metadata": {
    "id": "480f3422"
   },
   "source": [
    "## 4. Итоговый вывод и рекомендации\n",
    "\n",
    "### Общий обзор проделанной работы\n",
    "В ходе работы исследовано более 8000 данных, связанных с заведениями общественного питания. Данные включали информацию о наименовании заведения, адресе, административном районе, категории заведения, днях и часах работы, пользовательском рейтинге, показателе сети и количестве посадочных мест. Также к основным данным был присоединен датафрейм с содержанием категорий цен в заведении и среднем чеке, данные были предоставлены не для каждого заведения.\n",
    "\n",
    "Задача состояла в том, чтобы помочь инвесторам проекта провести анализ рынка Москвы в сфере общественного питания за 2022 год.\n",
    "\n",
    "### Главные выводы\n",
    "По проведенному анализу можно сделать следующие выводы:\n",
    "* Основная часть рынка Москвы представлена заведениями типа \"кафе\" (28%), \"ресторан\" (24%) и \"кофейня\" (17%). Не столь большую долю составляют столовые и булочные. Важно определиться с выбором категории будущего заведения в зависимости от возможностей и желания инвесторов.\n",
    "* Также стоит обратить внимание на то, что пик количества заведений приходится на Центральный административный район, остальные районы более \"свободны\".\n",
    "* Основную долю составляют несетевые заведения (62%), поэтому на первых порах важно сосредоточиться на развитии первой открывшейся точки, а далее развиваться в соответствии с накопленным потенциалом.\n",
    "\n",
    "### Рекомендации\n",
    "1. В качестве нового заведения можно обратить внимание как на популярные типы заведений (кафе, рестораны и кофейни), однако стоит понимать, что конкуренция среди этих типов высока - подобных точек общественного питания большое количество и нужно будет искать способы привлечения клиентов в свое заведение, так и на не столь распространенные типы - например, пиццерии, столовые, булочные.\n",
    "2. Для оптимального старта лучше всего выбрать местоположение будущего заведения в Юго-Восточном, Юго-Западном и Северо-Западном административных округах. Количество уже имеющихся точек общественного питания здесь не столь высоко, поэтому новичкам, вероятнее всего, будет легче вести бизнес. Также важно понимать, что некоторые районы в административных округах могут быть \"спальными\", что повлияет на выбор типа заведения.\n",
    "3. Можно обратить внимание на открытие круглосуточной и ежедневно работающей точки, так как доля подобных заведений в Москве невысока. Однако требуется больше данных, которых нет в предоставленной выборке, чтобы оценить спрос на заведения подобного рода.\n",
    "4. Ввиду большого количества заведений важно акцентировать внимание заведения на чем-то оригинальном, не похожим на другие заведения, установить лояльные, но приносящие прибыль, цены, а также сосредоточить внимание на сервисе."
   ]
  }
 ],
 "metadata": {
  "ExecuteTimeLog": [
   {
    "duration": 380,
    "start_time": "2025-01-21T14:26:13.266Z"
   },
   {
    "duration": 157,
    "start_time": "2025-01-21T14:30:02.760Z"
   },
   {
    "duration": 64,
    "start_time": "2025-01-21T14:31:10.753Z"
   },
   {
    "duration": 124,
    "start_time": "2025-01-21T14:31:13.320Z"
   },
   {
    "duration": 13,
    "start_time": "2025-01-21T14:31:13.807Z"
   },
   {
    "duration": 16,
    "start_time": "2025-01-21T14:34:28.155Z"
   },
   {
    "duration": 10,
    "start_time": "2025-01-21T14:37:55.675Z"
   },
   {
    "duration": 940,
    "start_time": "2025-01-21T14:41:57.746Z"
   },
   {
    "duration": 8,
    "start_time": "2025-01-21T14:42:11.605Z"
   },
   {
    "duration": 3872,
    "start_time": "2025-01-21T14:43:21.340Z"
   },
   {
    "duration": 60,
    "start_time": "2025-01-21T14:43:34.895Z"
   },
   {
    "duration": 2691,
    "start_time": "2025-01-21T14:43:38.162Z"
   },
   {
    "duration": 2748,
    "start_time": "2025-01-21T14:44:02.407Z"
   },
   {
    "duration": 4,
    "start_time": "2025-01-21T14:44:09.263Z"
   },
   {
    "duration": 219,
    "start_time": "2025-01-21T14:44:10.301Z"
   },
   {
    "duration": 14,
    "start_time": "2025-01-21T14:44:11.793Z"
   },
   {
    "duration": 11,
    "start_time": "2025-01-21T14:44:15.875Z"
   },
   {
    "duration": 10,
    "start_time": "2025-01-21T14:44:16.516Z"
   },
   {
    "duration": 103,
    "start_time": "2025-01-21T14:48:42.374Z"
   },
   {
    "duration": 11,
    "start_time": "2025-01-21T14:49:02.780Z"
   },
   {
    "duration": 9,
    "start_time": "2025-01-21T14:50:42.143Z"
   },
   {
    "duration": 8,
    "start_time": "2025-01-21T14:51:07.406Z"
   },
   {
    "duration": 9,
    "start_time": "2025-01-21T15:23:45.630Z"
   },
   {
    "duration": 9,
    "start_time": "2025-01-21T15:24:15.948Z"
   },
   {
    "duration": 11,
    "start_time": "2025-01-21T15:24:57.382Z"
   },
   {
    "duration": 290,
    "start_time": "2025-01-21T15:31:44.362Z"
   },
   {
    "duration": 9,
    "start_time": "2025-01-21T15:31:50.858Z"
   },
   {
    "duration": 14,
    "start_time": "2025-01-21T15:31:52.042Z"
   },
   {
    "duration": 13,
    "start_time": "2025-01-21T15:32:24.058Z"
   },
   {
    "duration": 13,
    "start_time": "2025-01-21T15:32:57.257Z"
   },
   {
    "duration": 12,
    "start_time": "2025-01-21T15:33:29.477Z"
   },
   {
    "duration": 3736,
    "start_time": "2025-01-22T15:14:02.355Z"
   },
   {
    "duration": 1469,
    "start_time": "2025-01-22T15:14:06.094Z"
   },
   {
    "duration": 102,
    "start_time": "2025-01-22T15:14:14.238Z"
   },
   {
    "duration": 15,
    "start_time": "2025-01-22T15:14:15.842Z"
   },
   {
    "duration": 16,
    "start_time": "2025-01-22T15:14:20.813Z"
   },
   {
    "duration": 13,
    "start_time": "2025-01-22T15:14:21.471Z"
   },
   {
    "duration": 55,
    "start_time": "2025-01-22T15:14:22.132Z"
   },
   {
    "duration": 10,
    "start_time": "2025-01-22T15:14:22.756Z"
   },
   {
    "duration": 10,
    "start_time": "2025-01-22T15:14:27.491Z"
   },
   {
    "duration": 10,
    "start_time": "2025-01-22T15:14:27.814Z"
   },
   {
    "duration": 13,
    "start_time": "2025-01-22T15:14:30.272Z"
   },
   {
    "duration": 15,
    "start_time": "2025-01-22T15:14:30.595Z"
   },
   {
    "duration": 15,
    "start_time": "2025-01-22T15:14:31.138Z"
   },
   {
    "duration": 19,
    "start_time": "2025-01-22T15:14:31.589Z"
   },
   {
    "duration": 4,
    "start_time": "2025-01-22T15:16:39.043Z"
   },
   {
    "duration": 107,
    "start_time": "2025-01-22T15:16:53.358Z"
   },
   {
    "duration": 5,
    "start_time": "2025-01-22T15:17:05.190Z"
   },
   {
    "duration": 4,
    "start_time": "2025-01-22T15:17:49.366Z"
   },
   {
    "duration": 5,
    "start_time": "2025-01-22T15:17:50.418Z"
   },
   {
    "duration": 20,
    "start_time": "2025-01-22T15:19:32.525Z"
   },
   {
    "duration": 24,
    "start_time": "2025-01-22T15:19:55.824Z"
   },
   {
    "duration": 14,
    "start_time": "2025-01-22T15:20:07.686Z"
   },
   {
    "duration": 9,
    "start_time": "2025-01-22T15:21:43.744Z"
   },
   {
    "duration": 12,
    "start_time": "2025-01-22T15:22:01.121Z"
   },
   {
    "duration": 10,
    "start_time": "2025-01-22T15:23:08.059Z"
   },
   {
    "duration": 11,
    "start_time": "2025-01-22T15:23:08.402Z"
   },
   {
    "duration": 3946,
    "start_time": "2025-01-25T11:44:24.463Z"
   },
   {
    "duration": 2708,
    "start_time": "2025-01-25T11:44:31.124Z"
   },
   {
    "duration": 1512,
    "start_time": "2025-01-25T11:44:34.221Z"
   },
   {
    "duration": 156,
    "start_time": "2025-01-25T11:44:37.684Z"
   },
   {
    "duration": 17,
    "start_time": "2025-01-25T11:44:38.686Z"
   },
   {
    "duration": 20,
    "start_time": "2025-01-25T11:44:41.350Z"
   },
   {
    "duration": 15,
    "start_time": "2025-01-25T11:44:43.797Z"
   },
   {
    "duration": 65,
    "start_time": "2025-01-25T11:44:45.157Z"
   },
   {
    "duration": 15,
    "start_time": "2025-01-25T11:44:45.567Z"
   },
   {
    "duration": 13,
    "start_time": "2025-01-25T11:44:46.180Z"
   },
   {
    "duration": 10,
    "start_time": "2025-01-25T11:44:46.364Z"
   },
   {
    "duration": 13,
    "start_time": "2025-01-25T11:44:47.528Z"
   },
   {
    "duration": 15,
    "start_time": "2025-01-25T11:44:47.909Z"
   },
   {
    "duration": 16,
    "start_time": "2025-01-25T11:44:48.270Z"
   },
   {
    "duration": 23,
    "start_time": "2025-01-25T11:44:48.822Z"
   },
   {
    "duration": 4,
    "start_time": "2025-01-25T11:44:50.669Z"
   },
   {
    "duration": 6,
    "start_time": "2025-01-25T11:44:51.052Z"
   },
   {
    "duration": 11,
    "start_time": "2025-01-25T11:45:10.652Z"
   },
   {
    "duration": 12,
    "start_time": "2025-01-25T11:45:11.053Z"
   },
   {
    "duration": 111,
    "start_time": "2025-01-25T11:51:29.860Z"
   },
   {
    "duration": 10,
    "start_time": "2025-01-25T11:51:35.347Z"
   },
   {
    "duration": 9,
    "start_time": "2025-01-25T11:52:36.049Z"
   },
   {
    "duration": 10,
    "start_time": "2025-01-25T11:53:04.619Z"
   },
   {
    "duration": 10,
    "start_time": "2025-01-25T11:53:22.579Z"
   },
   {
    "duration": 13,
    "start_time": "2025-01-25T11:54:08.369Z"
   },
   {
    "duration": 11,
    "start_time": "2025-01-25T11:54:28.624Z"
   },
   {
    "duration": 12,
    "start_time": "2025-01-25T11:54:44.264Z"
   },
   {
    "duration": 243,
    "start_time": "2025-01-25T19:59:36.196Z"
   },
   {
    "duration": 3963,
    "start_time": "2025-01-25T19:59:43.825Z"
   },
   {
    "duration": 1124,
    "start_time": "2025-01-25T19:59:47.790Z"
   },
   {
    "duration": 150,
    "start_time": "2025-01-25T19:59:48.916Z"
   },
   {
    "duration": 13,
    "start_time": "2025-01-25T19:59:49.068Z"
   },
   {
    "duration": 14,
    "start_time": "2025-01-25T19:59:49.082Z"
   },
   {
    "duration": 10,
    "start_time": "2025-01-25T19:59:49.097Z"
   },
   {
    "duration": 72,
    "start_time": "2025-01-25T19:59:49.108Z"
   },
   {
    "duration": 10,
    "start_time": "2025-01-25T19:59:49.182Z"
   },
   {
    "duration": 17,
    "start_time": "2025-01-25T19:59:49.194Z"
   },
   {
    "duration": 19,
    "start_time": "2025-01-25T19:59:49.213Z"
   },
   {
    "duration": 17,
    "start_time": "2025-01-25T19:59:49.233Z"
   },
   {
    "duration": 19,
    "start_time": "2025-01-25T19:59:49.251Z"
   },
   {
    "duration": 15,
    "start_time": "2025-01-25T19:59:49.271Z"
   },
   {
    "duration": 20,
    "start_time": "2025-01-25T19:59:49.288Z"
   },
   {
    "duration": 16,
    "start_time": "2025-01-25T19:59:49.310Z"
   },
   {
    "duration": 43,
    "start_time": "2025-01-25T19:59:49.327Z"
   },
   {
    "duration": 13,
    "start_time": "2025-01-25T19:59:51.553Z"
   },
   {
    "duration": 6,
    "start_time": "2025-01-25T20:00:49.114Z"
   },
   {
    "duration": 5,
    "start_time": "2025-01-25T20:01:24.705Z"
   },
   {
    "duration": 17,
    "start_time": "2025-01-25T20:07:47.423Z"
   },
   {
    "duration": 7,
    "start_time": "2025-01-25T20:08:10.808Z"
   },
   {
    "duration": 16,
    "start_time": "2025-01-25T20:08:18.551Z"
   },
   {
    "duration": 70,
    "start_time": "2025-01-25T20:09:10.697Z"
   },
   {
    "duration": 8,
    "start_time": "2025-01-25T20:10:26.829Z"
   },
   {
    "duration": 11,
    "start_time": "2025-01-25T20:11:03.150Z"
   },
   {
    "duration": 10,
    "start_time": "2025-01-25T20:12:57.939Z"
   },
   {
    "duration": 25,
    "start_time": "2025-01-25T20:13:54.582Z"
   },
   {
    "duration": 16,
    "start_time": "2025-01-25T20:16:02.236Z"
   },
   {
    "duration": 81,
    "start_time": "2025-01-25T20:17:50.867Z"
   },
   {
    "duration": 102,
    "start_time": "2025-01-25T20:18:02.979Z"
   },
   {
    "duration": 3,
    "start_time": "2025-01-25T20:18:06.379Z"
   },
   {
    "duration": 6,
    "start_time": "2025-01-25T20:19:36.986Z"
   },
   {
    "duration": 24,
    "start_time": "2025-01-25T20:19:54.332Z"
   },
   {
    "duration": 17,
    "start_time": "2025-01-25T20:20:52.030Z"
   },
   {
    "duration": 27,
    "start_time": "2025-01-25T20:21:10.608Z"
   },
   {
    "duration": 10,
    "start_time": "2025-01-25T20:21:56.862Z"
   },
   {
    "duration": 128,
    "start_time": "2025-01-25T20:22:45.320Z"
   },
   {
    "duration": 5,
    "start_time": "2025-01-25T20:22:53.192Z"
   },
   {
    "duration": 7,
    "start_time": "2025-01-25T20:23:18.791Z"
   },
   {
    "duration": 6,
    "start_time": "2025-01-25T20:23:32.770Z"
   },
   {
    "duration": 5,
    "start_time": "2025-01-25T20:24:02.839Z"
   },
   {
    "duration": 3944,
    "start_time": "2025-01-26T11:08:09.861Z"
   },
   {
    "duration": 1473,
    "start_time": "2025-01-26T11:08:13.808Z"
   },
   {
    "duration": 145,
    "start_time": "2025-01-26T11:08:15.283Z"
   },
   {
    "duration": 15,
    "start_time": "2025-01-26T11:08:15.431Z"
   },
   {
    "duration": 17,
    "start_time": "2025-01-26T11:08:15.447Z"
   },
   {
    "duration": 33,
    "start_time": "2025-01-26T11:08:15.465Z"
   },
   {
    "duration": 86,
    "start_time": "2025-01-26T11:08:15.500Z"
   },
   {
    "duration": 12,
    "start_time": "2025-01-26T11:08:15.587Z"
   },
   {
    "duration": 20,
    "start_time": "2025-01-26T11:08:15.600Z"
   },
   {
    "duration": 11,
    "start_time": "2025-01-26T11:08:15.623Z"
   },
   {
    "duration": 13,
    "start_time": "2025-01-26T11:08:15.636Z"
   },
   {
    "duration": 41,
    "start_time": "2025-01-26T11:08:15.651Z"
   },
   {
    "duration": 14,
    "start_time": "2025-01-26T11:08:15.694Z"
   },
   {
    "duration": 30,
    "start_time": "2025-01-26T11:08:15.710Z"
   },
   {
    "duration": 15,
    "start_time": "2025-01-26T11:08:15.742Z"
   },
   {
    "duration": 31,
    "start_time": "2025-01-26T11:08:15.759Z"
   },
   {
    "duration": 16,
    "start_time": "2025-01-26T11:08:15.792Z"
   },
   {
    "duration": 29,
    "start_time": "2025-01-26T11:08:15.810Z"
   },
   {
    "duration": 27,
    "start_time": "2025-01-26T11:08:15.841Z"
   },
   {
    "duration": 8,
    "start_time": "2025-01-26T11:08:16.137Z"
   },
   {
    "duration": 4,
    "start_time": "2025-01-26T11:08:16.365Z"
   },
   {
    "duration": 3,
    "start_time": "2025-01-26T11:08:16.614Z"
   },
   {
    "duration": 116,
    "start_time": "2025-01-26T11:08:16.838Z"
   },
   {
    "duration": 39,
    "start_time": "2025-01-26T11:08:30.117Z"
   },
   {
    "duration": 26,
    "start_time": "2025-01-26T11:11:05.459Z"
   },
   {
    "duration": 7,
    "start_time": "2025-01-26T11:11:38.662Z"
   },
   {
    "duration": 6,
    "start_time": "2025-01-26T11:11:51.920Z"
   },
   {
    "duration": 9,
    "start_time": "2025-01-26T11:12:11.491Z"
   },
   {
    "duration": 7,
    "start_time": "2025-01-26T11:12:16.419Z"
   },
   {
    "duration": 191,
    "start_time": "2025-01-26T11:14:47.595Z"
   },
   {
    "duration": 23,
    "start_time": "2025-01-26T11:15:33.355Z"
   },
   {
    "duration": 7,
    "start_time": "2025-01-26T11:15:47.474Z"
   },
   {
    "duration": 186,
    "start_time": "2025-01-26T11:16:30.026Z"
   },
   {
    "duration": 205,
    "start_time": "2025-01-26T11:16:40.714Z"
   },
   {
    "duration": 209,
    "start_time": "2025-01-26T11:17:44.657Z"
   },
   {
    "duration": 201,
    "start_time": "2025-01-26T11:18:12.042Z"
   },
   {
    "duration": 195,
    "start_time": "2025-01-26T11:18:38.785Z"
   },
   {
    "duration": 188,
    "start_time": "2025-01-26T11:18:44.817Z"
   },
   {
    "duration": 309,
    "start_time": "2025-01-26T11:20:53.679Z"
   },
   {
    "duration": 242,
    "start_time": "2025-01-26T11:21:28.088Z"
   },
   {
    "duration": 275,
    "start_time": "2025-01-26T11:21:56.248Z"
   },
   {
    "duration": 258,
    "start_time": "2025-01-26T11:22:03.285Z"
   },
   {
    "duration": 263,
    "start_time": "2025-01-26T11:22:09.608Z"
   },
   {
    "duration": 235,
    "start_time": "2025-01-26T11:22:14.247Z"
   },
   {
    "duration": 248,
    "start_time": "2025-01-26T11:22:18.151Z"
   },
   {
    "duration": 191,
    "start_time": "2025-01-26T11:28:00.203Z"
   },
   {
    "duration": 10,
    "start_time": "2025-01-26T11:28:46.485Z"
   },
   {
    "duration": 210,
    "start_time": "2025-01-26T11:29:47.964Z"
   },
   {
    "duration": 24,
    "start_time": "2025-01-26T11:30:32.463Z"
   },
   {
    "duration": 170,
    "start_time": "2025-01-26T11:33:05.069Z"
   },
   {
    "duration": 172,
    "start_time": "2025-01-26T11:33:16.746Z"
   },
   {
    "duration": 242,
    "start_time": "2025-01-26T11:33:32.394Z"
   },
   {
    "duration": 190,
    "start_time": "2025-01-26T11:33:36.240Z"
   },
   {
    "duration": 169,
    "start_time": "2025-01-26T11:33:39.393Z"
   },
   {
    "duration": 168,
    "start_time": "2025-01-26T11:34:32.465Z"
   },
   {
    "duration": 167,
    "start_time": "2025-01-26T11:34:38.453Z"
   },
   {
    "duration": 6,
    "start_time": "2025-01-26T11:54:54.296Z"
   },
   {
    "duration": 6,
    "start_time": "2025-01-26T11:55:08.562Z"
   },
   {
    "duration": 179,
    "start_time": "2025-01-26T11:55:32.472Z"
   },
   {
    "duration": 162,
    "start_time": "2025-01-26T11:55:42.241Z"
   },
   {
    "duration": 163,
    "start_time": "2025-01-26T11:56:09.113Z"
   },
   {
    "duration": 141,
    "start_time": "2025-01-26T11:56:21.178Z"
   },
   {
    "duration": 147,
    "start_time": "2025-01-26T11:56:24.953Z"
   },
   {
    "duration": 151,
    "start_time": "2025-01-26T11:56:30.737Z"
   },
   {
    "duration": 151,
    "start_time": "2025-01-26T11:56:33.679Z"
   },
   {
    "duration": 222,
    "start_time": "2025-01-26T11:56:38.393Z"
   },
   {
    "duration": 151,
    "start_time": "2025-01-26T11:56:41.905Z"
   },
   {
    "duration": 145,
    "start_time": "2025-01-26T11:56:53.659Z"
   },
   {
    "duration": 170,
    "start_time": "2025-01-26T11:57:12.888Z"
   },
   {
    "duration": 160,
    "start_time": "2025-01-26T11:57:19.681Z"
   },
   {
    "duration": 147,
    "start_time": "2025-01-26T11:57:34.784Z"
   },
   {
    "duration": 4313,
    "start_time": "2025-01-26T14:58:00.995Z"
   },
   {
    "duration": 1470,
    "start_time": "2025-01-26T14:58:05.310Z"
   },
   {
    "duration": 114,
    "start_time": "2025-01-26T15:00:16.701Z"
   },
   {
    "duration": 2627,
    "start_time": "2025-01-26T15:00:24.378Z"
   },
   {
    "duration": 3,
    "start_time": "2025-01-26T15:00:27.007Z"
   },
   {
    "duration": 131,
    "start_time": "2025-01-26T15:00:27.012Z"
   },
   {
    "duration": 15,
    "start_time": "2025-01-26T15:00:27.145Z"
   },
   {
    "duration": 16,
    "start_time": "2025-01-26T15:00:28.818Z"
   },
   {
    "duration": 12,
    "start_time": "2025-01-26T15:00:29.842Z"
   },
   {
    "duration": 67,
    "start_time": "2025-01-26T15:00:30.329Z"
   },
   {
    "duration": 12,
    "start_time": "2025-01-26T15:00:30.737Z"
   },
   {
    "duration": 13,
    "start_time": "2025-01-26T15:00:31.770Z"
   },
   {
    "duration": 9,
    "start_time": "2025-01-26T15:00:32.254Z"
   },
   {
    "duration": 11,
    "start_time": "2025-01-26T15:00:35.530Z"
   },
   {
    "duration": 15,
    "start_time": "2025-01-26T15:00:35.922Z"
   },
   {
    "duration": 16,
    "start_time": "2025-01-26T15:00:36.521Z"
   },
   {
    "duration": 14,
    "start_time": "2025-01-26T15:00:37.523Z"
   },
   {
    "duration": 5,
    "start_time": "2025-01-26T15:00:38.947Z"
   },
   {
    "duration": 7,
    "start_time": "2025-01-26T15:01:25.570Z"
   },
   {
    "duration": 7,
    "start_time": "2025-01-26T15:01:45.745Z"
   },
   {
    "duration": 9,
    "start_time": "2025-01-26T15:07:28.504Z"
   },
   {
    "duration": 16,
    "start_time": "2025-01-26T15:07:45.997Z"
   },
   {
    "duration": 12,
    "start_time": "2025-01-26T15:07:55.960Z"
   },
   {
    "duration": 12,
    "start_time": "2025-01-26T15:08:37.836Z"
   },
   {
    "duration": 4,
    "start_time": "2025-01-26T15:11:13.953Z"
   },
   {
    "duration": 5,
    "start_time": "2025-01-26T15:13:03.933Z"
   },
   {
    "duration": 16,
    "start_time": "2025-01-26T15:14:01.483Z"
   },
   {
    "duration": 20,
    "start_time": "2025-01-26T15:15:30.312Z"
   },
   {
    "duration": 22,
    "start_time": "2025-01-26T15:16:12.678Z"
   },
   {
    "duration": 78,
    "start_time": "2025-01-26T15:16:42.047Z"
   },
   {
    "duration": 4,
    "start_time": "2025-01-26T15:17:04.245Z"
   },
   {
    "duration": 6,
    "start_time": "2025-01-26T15:17:08.347Z"
   },
   {
    "duration": 25,
    "start_time": "2025-01-26T15:19:00.395Z"
   },
   {
    "duration": 13,
    "start_time": "2025-01-26T15:19:13.283Z"
   },
   {
    "duration": 13,
    "start_time": "2025-01-26T15:19:24.190Z"
   },
   {
    "duration": 30,
    "start_time": "2025-01-26T15:19:49.579Z"
   },
   {
    "duration": 32,
    "start_time": "2025-01-26T15:20:17.556Z"
   },
   {
    "duration": 8,
    "start_time": "2025-01-26T15:22:04.838Z"
   },
   {
    "duration": 24,
    "start_time": "2025-01-26T15:28:33.873Z"
   },
   {
    "duration": 208,
    "start_time": "2025-01-26T15:32:01.229Z"
   },
   {
    "duration": 6,
    "start_time": "2025-01-26T15:33:23.117Z"
   },
   {
    "duration": 350,
    "start_time": "2025-01-26T15:34:14.413Z"
   },
   {
    "duration": 238,
    "start_time": "2025-01-26T15:34:45.997Z"
   },
   {
    "duration": 231,
    "start_time": "2025-01-26T15:34:56.885Z"
   },
   {
    "duration": 205,
    "start_time": "2025-01-26T15:35:23.013Z"
   },
   {
    "duration": 7,
    "start_time": "2025-01-26T15:37:20.540Z"
   },
   {
    "duration": 6,
    "start_time": "2025-01-26T15:37:54.693Z"
   },
   {
    "duration": 161,
    "start_time": "2025-01-26T15:38:17.596Z"
   },
   {
    "duration": 153,
    "start_time": "2025-01-26T15:39:07.883Z"
   },
   {
    "duration": 25,
    "start_time": "2025-01-26T15:39:52.700Z"
   },
   {
    "duration": 25,
    "start_time": "2025-01-26T15:40:32.882Z"
   },
   {
    "duration": 2452,
    "start_time": "2025-01-26T15:41:56.554Z"
   },
   {
    "duration": 3,
    "start_time": "2025-01-26T15:41:59.009Z"
   },
   {
    "duration": 119,
    "start_time": "2025-01-26T15:41:59.195Z"
   },
   {
    "duration": 19,
    "start_time": "2025-01-26T15:41:59.608Z"
   },
   {
    "duration": 13,
    "start_time": "2025-01-26T15:42:01.810Z"
   },
   {
    "duration": 13,
    "start_time": "2025-01-26T15:42:02.594Z"
   },
   {
    "duration": 54,
    "start_time": "2025-01-26T15:42:03.587Z"
   },
   {
    "duration": 11,
    "start_time": "2025-01-26T15:42:04.311Z"
   },
   {
    "duration": 9,
    "start_time": "2025-01-26T15:42:05.437Z"
   },
   {
    "duration": 10,
    "start_time": "2025-01-26T15:42:06.048Z"
   },
   {
    "duration": 14,
    "start_time": "2025-01-26T15:42:08.568Z"
   },
   {
    "duration": 14,
    "start_time": "2025-01-26T15:42:09.409Z"
   },
   {
    "duration": 17,
    "start_time": "2025-01-26T15:42:10.169Z"
   },
   {
    "duration": 19,
    "start_time": "2025-01-26T15:42:10.977Z"
   },
   {
    "duration": 6,
    "start_time": "2025-01-26T15:42:12.521Z"
   },
   {
    "duration": 7,
    "start_time": "2025-01-26T15:42:13.770Z"
   },
   {
    "duration": 4,
    "start_time": "2025-01-26T15:42:14.610Z"
   },
   {
    "duration": 11,
    "start_time": "2025-01-26T15:42:19.960Z"
   },
   {
    "duration": 11,
    "start_time": "2025-01-26T15:42:20.650Z"
   },
   {
    "duration": 4,
    "start_time": "2025-01-26T15:42:21.832Z"
   },
   {
    "duration": 10,
    "start_time": "2025-01-26T15:42:22.280Z"
   },
   {
    "duration": 9,
    "start_time": "2025-01-26T15:42:22.961Z"
   },
   {
    "duration": 21,
    "start_time": "2025-01-26T15:42:24.761Z"
   },
   {
    "duration": 17,
    "start_time": "2025-01-26T15:42:26.577Z"
   },
   {
    "duration": 8,
    "start_time": "2025-01-26T15:42:27.481Z"
   },
   {
    "duration": 33,
    "start_time": "2025-01-26T15:42:28.474Z"
   },
   {
    "duration": 15,
    "start_time": "2025-01-26T15:42:29.273Z"
   },
   {
    "duration": 9,
    "start_time": "2025-01-26T15:42:29.934Z"
   },
   {
    "duration": 13,
    "start_time": "2025-01-26T15:42:31.057Z"
   },
   {
    "duration": 4,
    "start_time": "2025-01-26T15:42:35.399Z"
   },
   {
    "duration": 34,
    "start_time": "2025-01-26T15:42:37.026Z"
   },
   {
    "duration": 8,
    "start_time": "2025-01-26T15:42:49.784Z"
   },
   {
    "duration": 7,
    "start_time": "2025-01-26T15:42:50.856Z"
   },
   {
    "duration": 203,
    "start_time": "2025-01-26T15:42:52.931Z"
   },
   {
    "duration": 191,
    "start_time": "2025-01-26T15:42:54.313Z"
   },
   {
    "duration": 6,
    "start_time": "2025-01-26T15:42:56.528Z"
   },
   {
    "duration": 237,
    "start_time": "2025-01-26T15:42:57.344Z"
   },
   {
    "duration": 251,
    "start_time": "2025-01-26T15:42:58.387Z"
   },
   {
    "duration": 211,
    "start_time": "2025-01-26T15:43:01.504Z"
   },
   {
    "duration": 194,
    "start_time": "2025-01-26T15:43:02.915Z"
   },
   {
    "duration": 7,
    "start_time": "2025-01-26T15:43:06.950Z"
   },
   {
    "duration": 146,
    "start_time": "2025-01-26T15:43:07.985Z"
   },
   {
    "duration": 23,
    "start_time": "2025-01-26T15:43:09.905Z"
   },
   {
    "duration": 24,
    "start_time": "2025-01-26T15:43:11.090Z"
   },
   {
    "duration": 33,
    "start_time": "2025-01-26T15:45:22.497Z"
   },
   {
    "duration": 19,
    "start_time": "2025-01-26T15:45:34.450Z"
   },
   {
    "duration": 3,
    "start_time": "2025-01-26T15:46:29.336Z"
   },
   {
    "duration": 5,
    "start_time": "2025-01-26T15:47:33.143Z"
   },
   {
    "duration": 20,
    "start_time": "2025-01-26T15:47:43.502Z"
   },
   {
    "duration": 20,
    "start_time": "2025-01-26T15:53:42.325Z"
   },
   {
    "duration": 141,
    "start_time": "2025-01-26T15:55:37.949Z"
   },
   {
    "duration": 909,
    "start_time": "2025-01-26T15:56:04.973Z"
   },
   {
    "duration": 21,
    "start_time": "2025-01-26T16:00:17.562Z"
   },
   {
    "duration": 19,
    "start_time": "2025-01-26T16:00:26.875Z"
   },
   {
    "duration": 18,
    "start_time": "2025-01-26T16:01:08.562Z"
   },
   {
    "duration": 1197,
    "start_time": "2025-01-26T16:02:34.130Z"
   },
   {
    "duration": 1020,
    "start_time": "2025-01-26T16:04:58.416Z"
   },
   {
    "duration": 20,
    "start_time": "2025-01-26T16:07:01.695Z"
   },
   {
    "duration": 144,
    "start_time": "2025-01-26T16:07:24.960Z"
   },
   {
    "duration": 21,
    "start_time": "2025-01-26T16:08:50.191Z"
   },
   {
    "duration": 21,
    "start_time": "2025-01-26T16:08:57.989Z"
   },
   {
    "duration": 21,
    "start_time": "2025-01-26T16:09:16.349Z"
   },
   {
    "duration": 222,
    "start_time": "2025-01-26T16:10:19.174Z"
   },
   {
    "duration": 18,
    "start_time": "2025-01-26T16:10:49.598Z"
   },
   {
    "duration": 244,
    "start_time": "2025-01-26T16:11:13.990Z"
   },
   {
    "duration": 226,
    "start_time": "2025-01-26T16:11:26.469Z"
   },
   {
    "duration": 234,
    "start_time": "2025-01-26T16:11:34.148Z"
   },
   {
    "duration": 179,
    "start_time": "2025-01-26T16:13:00.059Z"
   },
   {
    "duration": 100,
    "start_time": "2025-01-26T16:13:22.419Z"
   },
   {
    "duration": 177,
    "start_time": "2025-01-26T16:13:26.251Z"
   },
   {
    "duration": 12,
    "start_time": "2025-01-26T16:14:15.108Z"
   },
   {
    "duration": 376,
    "start_time": "2025-01-26T16:15:12.519Z"
   },
   {
    "duration": 244,
    "start_time": "2025-01-26T16:15:22.842Z"
   },
   {
    "duration": 275,
    "start_time": "2025-01-26T16:15:28.804Z"
   },
   {
    "duration": 265,
    "start_time": "2025-01-26T16:15:39.170Z"
   },
   {
    "duration": 316,
    "start_time": "2025-01-26T16:15:44.490Z"
   },
   {
    "duration": 130,
    "start_time": "2025-01-26T16:16:12.305Z"
   },
   {
    "duration": 10,
    "start_time": "2025-01-26T16:17:32.528Z"
   },
   {
    "duration": 194,
    "start_time": "2025-01-26T16:18:04.568Z"
   },
   {
    "duration": 15,
    "start_time": "2025-01-26T16:18:59.168Z"
   },
   {
    "duration": 7,
    "start_time": "2025-01-26T16:19:21.903Z"
   },
   {
    "duration": 180,
    "start_time": "2025-01-26T16:19:47.287Z"
   },
   {
    "duration": 264,
    "start_time": "2025-01-26T16:20:46.975Z"
   },
   {
    "duration": 236,
    "start_time": "2025-01-26T16:21:40.998Z"
   },
   {
    "duration": 181,
    "start_time": "2025-01-26T16:21:51.712Z"
   },
   {
    "duration": 363,
    "start_time": "2025-01-26T16:22:42.238Z"
   },
   {
    "duration": 354,
    "start_time": "2025-01-26T16:23:14.749Z"
   },
   {
    "duration": 364,
    "start_time": "2025-01-26T16:23:20.734Z"
   },
   {
    "duration": 9,
    "start_time": "2025-01-26T16:24:00.496Z"
   },
   {
    "duration": 17,
    "start_time": "2025-01-26T16:24:19.735Z"
   },
   {
    "duration": 404,
    "start_time": "2025-01-26T16:24:51.052Z"
   },
   {
    "duration": 15,
    "start_time": "2025-01-26T16:25:24.734Z"
   },
   {
    "duration": 13,
    "start_time": "2025-01-26T16:25:37.116Z"
   },
   {
    "duration": 12,
    "start_time": "2025-01-26T16:26:32.068Z"
   },
   {
    "duration": 7,
    "start_time": "2025-01-26T16:26:53.030Z"
   },
   {
    "duration": 283,
    "start_time": "2025-01-26T16:27:08.823Z"
   },
   {
    "duration": 20,
    "start_time": "2025-01-26T16:27:35.859Z"
   },
   {
    "duration": 17,
    "start_time": "2025-01-26T16:28:27.196Z"
   },
   {
    "duration": 21,
    "start_time": "2025-01-26T16:28:50.475Z"
   },
   {
    "duration": 250,
    "start_time": "2025-01-26T16:29:31.752Z"
   },
   {
    "duration": 7,
    "start_time": "2025-01-26T16:30:04.674Z"
   },
   {
    "duration": 218,
    "start_time": "2025-01-26T16:30:29.531Z"
   },
   {
    "duration": 2442,
    "start_time": "2025-01-26T16:33:01.665Z"
   },
   {
    "duration": 1235,
    "start_time": "2025-01-26T16:33:04.109Z"
   },
   {
    "duration": 146,
    "start_time": "2025-01-26T16:33:05.880Z"
   },
   {
    "duration": 14,
    "start_time": "2025-01-26T16:33:06.194Z"
   },
   {
    "duration": 15,
    "start_time": "2025-01-26T16:33:06.917Z"
   },
   {
    "duration": 11,
    "start_time": "2025-01-26T16:33:07.260Z"
   },
   {
    "duration": 68,
    "start_time": "2025-01-26T16:33:07.633Z"
   },
   {
    "duration": 10,
    "start_time": "2025-01-26T16:33:07.953Z"
   },
   {
    "duration": 10,
    "start_time": "2025-01-26T16:33:08.536Z"
   },
   {
    "duration": 10,
    "start_time": "2025-01-26T16:33:08.802Z"
   },
   {
    "duration": 12,
    "start_time": "2025-01-26T16:33:10.111Z"
   },
   {
    "duration": 15,
    "start_time": "2025-01-26T16:33:10.415Z"
   },
   {
    "duration": 15,
    "start_time": "2025-01-26T16:33:10.696Z"
   },
   {
    "duration": 15,
    "start_time": "2025-01-26T16:33:10.985Z"
   },
   {
    "duration": 4,
    "start_time": "2025-01-26T16:33:11.488Z"
   },
   {
    "duration": 5,
    "start_time": "2025-01-26T16:33:12.007Z"
   },
   {
    "duration": 5,
    "start_time": "2025-01-26T16:33:12.288Z"
   },
   {
    "duration": 10,
    "start_time": "2025-01-26T16:33:13.081Z"
   },
   {
    "duration": 11,
    "start_time": "2025-01-26T16:33:13.304Z"
   },
   {
    "duration": 3,
    "start_time": "2025-01-26T16:33:13.826Z"
   },
   {
    "duration": 6,
    "start_time": "2025-01-26T16:33:14.064Z"
   },
   {
    "duration": 10,
    "start_time": "2025-01-26T16:33:14.296Z"
   },
   {
    "duration": 20,
    "start_time": "2025-01-26T16:33:14.800Z"
   },
   {
    "duration": 18,
    "start_time": "2025-01-26T16:33:15.575Z"
   },
   {
    "duration": 6,
    "start_time": "2025-01-26T16:33:16.104Z"
   },
   {
    "duration": 27,
    "start_time": "2025-01-26T16:33:16.669Z"
   },
   {
    "duration": 11,
    "start_time": "2025-01-26T16:33:16.908Z"
   },
   {
    "duration": 9,
    "start_time": "2025-01-26T16:33:17.162Z"
   },
   {
    "duration": 12,
    "start_time": "2025-01-26T16:33:17.425Z"
   },
   {
    "duration": 3,
    "start_time": "2025-01-26T16:33:17.955Z"
   },
   {
    "duration": 29,
    "start_time": "2025-01-26T16:33:18.218Z"
   },
   {
    "duration": 5,
    "start_time": "2025-01-26T16:33:21.832Z"
   },
   {
    "duration": 6,
    "start_time": "2025-01-26T16:33:22.217Z"
   },
   {
    "duration": 192,
    "start_time": "2025-01-26T16:33:22.649Z"
   },
   {
    "duration": 184,
    "start_time": "2025-01-26T16:33:23.624Z"
   },
   {
    "duration": 6,
    "start_time": "2025-01-26T16:33:25.287Z"
   },
   {
    "duration": 231,
    "start_time": "2025-01-26T16:33:25.817Z"
   },
   {
    "duration": 243,
    "start_time": "2025-01-26T16:33:26.552Z"
   },
   {
    "duration": 193,
    "start_time": "2025-01-26T16:33:28.417Z"
   },
   {
    "duration": 189,
    "start_time": "2025-01-26T16:33:29.033Z"
   },
   {
    "duration": 8,
    "start_time": "2025-01-26T16:33:30.687Z"
   },
   {
    "duration": 141,
    "start_time": "2025-01-26T16:33:31.112Z"
   },
   {
    "duration": 20,
    "start_time": "2025-01-26T16:33:32.000Z"
   },
   {
    "duration": 306,
    "start_time": "2025-01-26T16:33:32.393Z"
   },
   {
    "duration": 176,
    "start_time": "2025-01-26T16:33:33.280Z"
   },
   {
    "duration": 10,
    "start_time": "2025-01-26T16:33:34.591Z"
   },
   {
    "duration": 282,
    "start_time": "2025-01-26T16:33:35.642Z"
   },
   {
    "duration": 123,
    "start_time": "2025-01-26T16:33:35.984Z"
   },
   {
    "duration": 10,
    "start_time": "2025-01-26T16:33:36.968Z"
   },
   {
    "duration": 183,
    "start_time": "2025-01-26T16:33:37.272Z"
   },
   {
    "duration": 8,
    "start_time": "2025-01-26T16:33:38.239Z"
   },
   {
    "duration": 8,
    "start_time": "2025-01-26T16:33:38.832Z"
   },
   {
    "duration": 188,
    "start_time": "2025-01-26T16:33:39.153Z"
   },
   {
    "duration": 162,
    "start_time": "2025-01-26T16:33:40.065Z"
   },
   {
    "duration": 233,
    "start_time": "2025-01-26T16:33:40.361Z"
   },
   {
    "duration": 352,
    "start_time": "2025-01-26T16:33:40.975Z"
   },
   {
    "duration": 9,
    "start_time": "2025-01-26T16:33:42.375Z"
   },
   {
    "duration": 18,
    "start_time": "2025-01-26T16:33:42.680Z"
   },
   {
    "duration": 392,
    "start_time": "2025-01-26T16:33:43.058Z"
   },
   {
    "duration": 15,
    "start_time": "2025-01-26T16:33:43.733Z"
   },
   {
    "duration": 13,
    "start_time": "2025-01-26T16:33:44.088Z"
   },
   {
    "duration": 11,
    "start_time": "2025-01-26T16:33:45.114Z"
   },
   {
    "duration": 12,
    "start_time": "2025-01-26T16:33:45.771Z"
   },
   {
    "duration": 280,
    "start_time": "2025-01-26T16:33:46.137Z"
   },
   {
    "duration": 20,
    "start_time": "2025-01-26T16:33:47.169Z"
   },
   {
    "duration": 358,
    "start_time": "2025-01-26T16:33:47.618Z"
   },
   {
    "duration": 8,
    "start_time": "2025-01-26T16:33:48.232Z"
   },
   {
    "duration": 224,
    "start_time": "2025-01-26T16:33:48.598Z"
   },
   {
    "duration": 3653,
    "start_time": "2025-01-27T08:27:05.786Z"
   },
   {
    "duration": 1441,
    "start_time": "2025-01-27T08:27:09.441Z"
   },
   {
    "duration": 199,
    "start_time": "2025-01-27T08:27:10.884Z"
   },
   {
    "duration": 15,
    "start_time": "2025-01-27T08:27:11.085Z"
   },
   {
    "duration": 15,
    "start_time": "2025-01-27T08:27:11.395Z"
   },
   {
    "duration": 12,
    "start_time": "2025-01-27T08:27:12.173Z"
   },
   {
    "duration": 79,
    "start_time": "2025-01-27T08:27:12.806Z"
   },
   {
    "duration": 12,
    "start_time": "2025-01-27T08:27:13.639Z"
   },
   {
    "duration": 9,
    "start_time": "2025-01-27T08:27:16.854Z"
   },
   {
    "duration": 9,
    "start_time": "2025-01-27T08:27:17.498Z"
   },
   {
    "duration": 12,
    "start_time": "2025-01-27T08:27:22.875Z"
   },
   {
    "duration": 15,
    "start_time": "2025-01-27T08:27:23.404Z"
   },
   {
    "duration": 16,
    "start_time": "2025-01-27T08:27:24.037Z"
   },
   {
    "duration": 15,
    "start_time": "2025-01-27T08:27:24.539Z"
   },
   {
    "duration": 5,
    "start_time": "2025-01-27T08:27:35.310Z"
   },
   {
    "duration": 5,
    "start_time": "2025-01-27T08:27:36.076Z"
   },
   {
    "duration": 5,
    "start_time": "2025-01-27T08:27:39.186Z"
   },
   {
    "duration": 13,
    "start_time": "2025-01-27T08:27:40.711Z"
   },
   {
    "duration": 13,
    "start_time": "2025-01-27T08:27:41.152Z"
   },
   {
    "duration": 3,
    "start_time": "2025-01-27T08:27:42.180Z"
   },
   {
    "duration": 6,
    "start_time": "2025-01-27T08:27:42.548Z"
   },
   {
    "duration": 10,
    "start_time": "2025-01-27T08:27:42.988Z"
   },
   {
    "duration": 21,
    "start_time": "2025-01-27T08:27:44.799Z"
   },
   {
    "duration": 25,
    "start_time": "2025-01-27T08:27:47.272Z"
   },
   {
    "duration": 7,
    "start_time": "2025-01-27T08:27:47.942Z"
   },
   {
    "duration": 41,
    "start_time": "2025-01-27T08:27:48.796Z"
   },
   {
    "duration": 12,
    "start_time": "2025-01-27T08:27:49.315Z"
   },
   {
    "duration": 9,
    "start_time": "2025-01-27T08:27:49.820Z"
   },
   {
    "duration": 14,
    "start_time": "2025-01-27T08:27:50.447Z"
   },
   {
    "duration": 3,
    "start_time": "2025-01-27T08:27:52.920Z"
   },
   {
    "duration": 33,
    "start_time": "2025-01-27T08:27:54.151Z"
   },
   {
    "duration": 5,
    "start_time": "2025-01-27T08:27:58.073Z"
   },
   {
    "duration": 6,
    "start_time": "2025-01-27T08:27:58.419Z"
   },
   {
    "duration": 207,
    "start_time": "2025-01-27T08:27:59.004Z"
   },
   {
    "duration": 208,
    "start_time": "2025-01-27T08:28:00.004Z"
   },
   {
    "duration": 6,
    "start_time": "2025-01-27T08:28:02.576Z"
   },
   {
    "duration": 275,
    "start_time": "2025-01-27T08:28:03.235Z"
   },
   {
    "duration": 274,
    "start_time": "2025-01-27T08:28:03.846Z"
   },
   {
    "duration": 216,
    "start_time": "2025-01-27T08:28:05.348Z"
   },
   {
    "duration": 207,
    "start_time": "2025-01-27T08:28:06.913Z"
   },
   {
    "duration": 7,
    "start_time": "2025-01-27T08:28:10.048Z"
   },
   {
    "duration": 149,
    "start_time": "2025-01-27T08:28:10.652Z"
   },
   {
    "duration": 21,
    "start_time": "2025-01-27T08:28:12.386Z"
   },
   {
    "duration": 342,
    "start_time": "2025-01-27T08:28:15.760Z"
   },
   {
    "duration": 199,
    "start_time": "2025-01-27T08:28:17.620Z"
   },
   {
    "duration": 10,
    "start_time": "2025-01-27T08:28:20.059Z"
   },
   {
    "duration": 261,
    "start_time": "2025-01-27T08:28:22.229Z"
   },
   {
    "duration": 131,
    "start_time": "2025-01-27T08:28:23.134Z"
   },
   {
    "duration": 10,
    "start_time": "2025-01-27T08:28:25.236Z"
   },
   {
    "duration": 188,
    "start_time": "2025-01-27T08:28:25.911Z"
   },
   {
    "duration": 9,
    "start_time": "2025-01-27T08:28:28.206Z"
   },
   {
    "duration": 8,
    "start_time": "2025-01-27T08:28:29.252Z"
   },
   {
    "duration": 195,
    "start_time": "2025-01-27T08:28:29.878Z"
   },
   {
    "duration": 161,
    "start_time": "2025-01-27T08:28:32.325Z"
   },
   {
    "duration": 234,
    "start_time": "2025-01-27T08:28:32.824Z"
   },
   {
    "duration": 334,
    "start_time": "2025-01-27T08:28:45.515Z"
   },
   {
    "duration": 9,
    "start_time": "2025-01-27T08:28:49.139Z"
   },
   {
    "duration": 19,
    "start_time": "2025-01-27T08:28:49.967Z"
   },
   {
    "duration": 448,
    "start_time": "2025-01-27T08:28:50.732Z"
   },
   {
    "duration": 17,
    "start_time": "2025-01-27T08:28:52.081Z"
   },
   {
    "duration": 12,
    "start_time": "2025-01-27T08:28:52.844Z"
   },
   {
    "duration": 11,
    "start_time": "2025-01-27T08:29:02.399Z"
   },
   {
    "duration": 8,
    "start_time": "2025-01-27T08:29:03.364Z"
   },
   {
    "duration": 297,
    "start_time": "2025-01-27T08:29:04.516Z"
   },
   {
    "duration": 22,
    "start_time": "2025-01-27T08:29:08.065Z"
   },
   {
    "duration": 371,
    "start_time": "2025-01-27T08:29:09.115Z"
   },
   {
    "duration": 9,
    "start_time": "2025-01-27T08:29:11.031Z"
   },
   {
    "duration": 252,
    "start_time": "2025-01-27T08:29:11.688Z"
   }
  ],
  "colab": {
   "provenance": []
  },
  "kernelspec": {
   "display_name": "Python 3 (ipykernel)",
   "language": "python",
   "name": "python3"
  },
  "language_info": {
   "codemirror_mode": {
    "name": "ipython",
    "version": 3
   },
   "file_extension": ".py",
   "mimetype": "text/x-python",
   "name": "python",
   "nbconvert_exporter": "python",
   "pygments_lexer": "ipython3",
   "version": "3.9.5"
  },
  "toc": {
   "base_numbering": 1,
   "nav_menu": {},
   "number_sections": true,
   "sideBar": true,
   "skip_h1_title": true,
   "title_cell": "Table of Contents",
   "title_sidebar": "Contents",
   "toc_cell": false,
   "toc_position": {},
   "toc_section_display": true,
   "toc_window_display": false
  }
 },
 "nbformat": 4,
 "nbformat_minor": 5
}
