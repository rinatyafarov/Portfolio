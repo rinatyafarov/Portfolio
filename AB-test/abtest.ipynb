{
 "cells": [
  {
   "cell_type": "markdown",
   "metadata": {
    "id": "u98L9TgH0eMk"
   },
   "source": [
    "# Разработка A/B-тестирования и анализ результатов\n",
    "\n",
    "Вы работаете продуктовым аналитиком в компании, которая разрабатывает развлекательное приложение с функцией «бесконечной» ленты, как, например, в приложениях с короткими видео. В вашем приложении существует две модели монетизации: первая — ежемесячная платная подписка, которая позволяет пользователям смотреть ленту без рекламы, вторая — демонстрация рекламы для пользователей, которые ещё не оформили подписку.\n",
    "\n",
    "Команда разработчиков рекомендательных систем создала новый алгоритм рекомендаций, который, по их мнению, будет показывать более интересный контент для каждого пользователя. Вас, как аналитика, просят помочь рассчитать параметры A/B-теста, который позволит проверить эту гипотезу, и проанализировать его результаты."
   ]
  },
  {
   "cell_type": "markdown",
   "metadata": {},
   "source": [
    "Яфаров Ринат 15.03.2025"
   ]
  },
  {
   "cell_type": "markdown",
   "metadata": {
    "id": "LJBRALHs0eMf"
   },
   "source": [
    "## Описание данных\n",
    "\n",
    "Вы будете работать с тремя таблицами:\n",
    "\n",
    "- `sessions_project_history.csv` — таблица с историческими данными по сессиям пользователей на период с 2025-08-15 по 2025-09-23. Путь к файлу: `/datasets/sessions_project_history.csv`.\n",
    "\n",
    "- `sessions_project_test_part.csv` — таблица с данными за первый день проведения A/B-теста, то есть за 2025-10-14. Путь к файлу: `/datasets/sessions_project_test_part.csv`.\n",
    "\n",
    "- `sessions_project_test.csv` — таблица с данными за весь период проведения A/B-теста, то есть с 2025-10-14 по 2025-11-02. Путь к файлу: `/datasets/sessions_project_test.csv`.\n",
    "\n",
    "У этих таблиц почти совпадает структура и содержание колонок, различаются лишь периоды наблюдения.\n",
    "\n",
    "Поля таблиц `sessions_project_history.csv`, `sessions_project_test.csv`, `sessions_project_test_part.csv`:\n",
    "\n",
    "- `user_id` — идентификатор пользователя;\n",
    "\n",
    "- `session_id` — идентификатор сессии в приложении;\n",
    "\n",
    "- `session_date` — дата сессии;\n",
    "\n",
    "- `session_start_ts` — дата и время начала сессии;\n",
    "\n",
    "- `install_date` — дата установки приложения;\n",
    "\n",
    "- `session_number` — порядковый номер сессии для конкретного пользователя;\n",
    "\n",
    "- `registration_flag` — является ли пользователь зарегистрированным;\n",
    "\n",
    "- `page_counter` — количество просмотренных страниц во время сессии;\n",
    "\n",
    "- `region` — регион пользователя;\n",
    "\n",
    "- `device` — тип устройства пользователя;\n",
    "\n",
    "- `test_group` — тестовая группа (в таблице с историческими данными этого столбца нет).\n",
    "\n",
    "\n",
    "## Что нужно сделать\n",
    "Ваши задачи: рассчитать параметры теста, оценить корректность его проведения и проанализировать результаты эксперимента."
   ]
  },
  {
   "cell_type": "markdown",
   "metadata": {
    "id": "UpOucjID0eMl"
   },
   "source": [
    "### 1. Работа с историческими данными (EDA)"
   ]
  },
  {
   "cell_type": "markdown",
   "metadata": {
    "id": "8iJMtL-30eMl"
   },
   "source": [
    "#### 1.1. Загрузка исторических данных\n",
    "На первом этапе поработайте с историческими данными приложения:\n",
    "\n",
    "- Импортируйте библиотеку pandas.\n",
    "\n",
    "- Считайте и сохраните в датафрейм `sessions_history` CSV-файл с историческими данными о сессиях пользователей `sessions_project_history.csv`.\n",
    "\n",
    "Выведите на экран первые пять строк полученного датафрейма."
   ]
  },
  {
   "cell_type": "code",
   "execution_count": 1,
   "metadata": {
    "id": "6TPR2-1RPboT"
   },
   "outputs": [
    {
     "data": {
      "text/html": [
       "<div>\n",
       "<style scoped>\n",
       "    .dataframe tbody tr th:only-of-type {\n",
       "        vertical-align: middle;\n",
       "    }\n",
       "\n",
       "    .dataframe tbody tr th {\n",
       "        vertical-align: top;\n",
       "    }\n",
       "\n",
       "    .dataframe thead th {\n",
       "        text-align: right;\n",
       "    }\n",
       "</style>\n",
       "<table border=\"1\" class=\"dataframe\">\n",
       "  <thead>\n",
       "    <tr style=\"text-align: right;\">\n",
       "      <th></th>\n",
       "      <th>user_id</th>\n",
       "      <th>session_id</th>\n",
       "      <th>session_date</th>\n",
       "      <th>session_start_ts</th>\n",
       "      <th>install_date</th>\n",
       "      <th>session_number</th>\n",
       "      <th>registration_flag</th>\n",
       "      <th>page_counter</th>\n",
       "      <th>region</th>\n",
       "      <th>device</th>\n",
       "    </tr>\n",
       "  </thead>\n",
       "  <tbody>\n",
       "    <tr>\n",
       "      <th>0</th>\n",
       "      <td>E302123B7000BFE4</td>\n",
       "      <td>F9AF61A0C2023832</td>\n",
       "      <td>2025-08-15</td>\n",
       "      <td>2025-08-15 17:47:35</td>\n",
       "      <td>2025-08-15</td>\n",
       "      <td>1</td>\n",
       "      <td>0</td>\n",
       "      <td>3</td>\n",
       "      <td>CIS</td>\n",
       "      <td>iPhone</td>\n",
       "    </tr>\n",
       "    <tr>\n",
       "      <th>1</th>\n",
       "      <td>2530F72E221829FB</td>\n",
       "      <td>85003A206CBDAC6F</td>\n",
       "      <td>2025-08-15</td>\n",
       "      <td>2025-08-15 16:42:14</td>\n",
       "      <td>2025-08-15</td>\n",
       "      <td>1</td>\n",
       "      <td>0</td>\n",
       "      <td>4</td>\n",
       "      <td>MENA</td>\n",
       "      <td>Android</td>\n",
       "    </tr>\n",
       "    <tr>\n",
       "      <th>2</th>\n",
       "      <td>876E020A4FC512F5</td>\n",
       "      <td>3677423E49D72DEE</td>\n",
       "      <td>2025-08-15</td>\n",
       "      <td>2025-08-15 12:30:00</td>\n",
       "      <td>2025-08-15</td>\n",
       "      <td>1</td>\n",
       "      <td>0</td>\n",
       "      <td>4</td>\n",
       "      <td>EU</td>\n",
       "      <td>PC</td>\n",
       "    </tr>\n",
       "    <tr>\n",
       "      <th>3</th>\n",
       "      <td>2640B349E1D81584</td>\n",
       "      <td>956B45F5915CA225</td>\n",
       "      <td>2025-08-15</td>\n",
       "      <td>2025-08-15 15:31:31</td>\n",
       "      <td>2025-08-15</td>\n",
       "      <td>1</td>\n",
       "      <td>0</td>\n",
       "      <td>4</td>\n",
       "      <td>CIS</td>\n",
       "      <td>Android</td>\n",
       "    </tr>\n",
       "    <tr>\n",
       "      <th>4</th>\n",
       "      <td>94E1CBFAEF1F5EE9</td>\n",
       "      <td>83BF0DA35F9F1F40</td>\n",
       "      <td>2025-08-15</td>\n",
       "      <td>2025-08-15 21:33:53</td>\n",
       "      <td>2025-08-15</td>\n",
       "      <td>1</td>\n",
       "      <td>0</td>\n",
       "      <td>3</td>\n",
       "      <td>CIS</td>\n",
       "      <td>Android</td>\n",
       "    </tr>\n",
       "  </tbody>\n",
       "</table>\n",
       "</div>"
      ],
      "text/plain": [
       "            user_id        session_id session_date     session_start_ts  \\\n",
       "0  E302123B7000BFE4  F9AF61A0C2023832   2025-08-15  2025-08-15 17:47:35   \n",
       "1  2530F72E221829FB  85003A206CBDAC6F   2025-08-15  2025-08-15 16:42:14   \n",
       "2  876E020A4FC512F5  3677423E49D72DEE   2025-08-15  2025-08-15 12:30:00   \n",
       "3  2640B349E1D81584  956B45F5915CA225   2025-08-15  2025-08-15 15:31:31   \n",
       "4  94E1CBFAEF1F5EE9  83BF0DA35F9F1F40   2025-08-15  2025-08-15 21:33:53   \n",
       "\n",
       "  install_date  session_number  registration_flag  page_counter region  \\\n",
       "0   2025-08-15               1                  0             3    CIS   \n",
       "1   2025-08-15               1                  0             4   MENA   \n",
       "2   2025-08-15               1                  0             4     EU   \n",
       "3   2025-08-15               1                  0             4    CIS   \n",
       "4   2025-08-15               1                  0             3    CIS   \n",
       "\n",
       "    device  \n",
       "0   iPhone  \n",
       "1  Android  \n",
       "2       PC  \n",
       "3  Android  \n",
       "4  Android  "
      ]
     },
     "execution_count": 1,
     "metadata": {},
     "output_type": "execute_result"
    }
   ],
   "source": [
    "import pandas as pd\n",
    "sessions_history = pd.read_csv('https://code.s3.yandex.net/datasets/sessions_project_history.csv')\n",
    "sessions_history.head()"
   ]
  },
  {
   "cell_type": "markdown",
   "metadata": {
    "id": "qTDoiODz0eMo"
   },
   "source": [
    "#### 1.2. Знакомство с данными\n",
    "- Для каждого уникального пользователя `user_id` рассчитайте количество уникальных сессий `session_id`.\n",
    "\n",
    "- Выведите на экран все данные из таблицы `sessions_history` для одного пользователя с наибольшим количеством сессий. Если таких пользователей несколько, выберите любого из них.\n",
    "\n",
    "- Изучите таблицу для одного пользователя, чтобы лучше понять логику формирования каждого столбца данных.\n",
    "\n"
   ]
  },
  {
   "cell_type": "code",
   "execution_count": 2,
   "metadata": {
    "id": "PWZO9vTIPbPN"
   },
   "outputs": [
    {
     "data": {
      "text/html": [
       "<div>\n",
       "<style scoped>\n",
       "    .dataframe tbody tr th:only-of-type {\n",
       "        vertical-align: middle;\n",
       "    }\n",
       "\n",
       "    .dataframe tbody tr th {\n",
       "        vertical-align: top;\n",
       "    }\n",
       "\n",
       "    .dataframe thead th {\n",
       "        text-align: right;\n",
       "    }\n",
       "</style>\n",
       "<table border=\"1\" class=\"dataframe\">\n",
       "  <thead>\n",
       "    <tr style=\"text-align: right;\">\n",
       "      <th></th>\n",
       "      <th>user_id</th>\n",
       "      <th>session_id</th>\n",
       "    </tr>\n",
       "  </thead>\n",
       "  <tbody>\n",
       "    <tr>\n",
       "      <th>8948</th>\n",
       "      <td>10E0DEFC1ABDBBE0</td>\n",
       "      <td>10</td>\n",
       "    </tr>\n",
       "    <tr>\n",
       "      <th>55627</th>\n",
       "      <td>6A73CB5566BB494D</td>\n",
       "      <td>10</td>\n",
       "    </tr>\n",
       "    <tr>\n",
       "      <th>72346</th>\n",
       "      <td>8A60431A825D035B</td>\n",
       "      <td>9</td>\n",
       "    </tr>\n",
       "    <tr>\n",
       "      <th>109383</th>\n",
       "      <td>D11541BAC141FB94</td>\n",
       "      <td>9</td>\n",
       "    </tr>\n",
       "    <tr>\n",
       "      <th>47956</th>\n",
       "      <td>5BCFE7C4DCC148E9</td>\n",
       "      <td>9</td>\n",
       "    </tr>\n",
       "  </tbody>\n",
       "</table>\n",
       "</div>"
      ],
      "text/plain": [
       "                 user_id  session_id\n",
       "8948    10E0DEFC1ABDBBE0          10\n",
       "55627   6A73CB5566BB494D          10\n",
       "72346   8A60431A825D035B           9\n",
       "109383  D11541BAC141FB94           9\n",
       "47956   5BCFE7C4DCC148E9           9"
      ]
     },
     "execution_count": 2,
     "metadata": {},
     "output_type": "execute_result"
    }
   ],
   "source": [
    "#группируем датафрейм и считаем количество уникальных сессий\n",
    "user_df=sessions_history.groupby('user_id')['session_id'].count().reset_index()\n",
    "user_df = user_df.sort_values(by='session_id',ascending=False)\n",
    "user_df.head()"
   ]
  },
  {
   "cell_type": "code",
   "execution_count": 3,
   "metadata": {},
   "outputs": [
    {
     "data": {
      "text/html": [
       "<div>\n",
       "<style scoped>\n",
       "    .dataframe tbody tr th:only-of-type {\n",
       "        vertical-align: middle;\n",
       "    }\n",
       "\n",
       "    .dataframe tbody tr th {\n",
       "        vertical-align: top;\n",
       "    }\n",
       "\n",
       "    .dataframe thead th {\n",
       "        text-align: right;\n",
       "    }\n",
       "</style>\n",
       "<table border=\"1\" class=\"dataframe\">\n",
       "  <thead>\n",
       "    <tr style=\"text-align: right;\">\n",
       "      <th></th>\n",
       "      <th>user_id</th>\n",
       "      <th>session_id</th>\n",
       "      <th>session_date</th>\n",
       "      <th>session_start_ts</th>\n",
       "      <th>install_date</th>\n",
       "      <th>session_number</th>\n",
       "      <th>registration_flag</th>\n",
       "      <th>page_counter</th>\n",
       "      <th>region</th>\n",
       "      <th>device</th>\n",
       "    </tr>\n",
       "  </thead>\n",
       "  <tbody>\n",
       "    <tr>\n",
       "      <th>115558</th>\n",
       "      <td>10E0DEFC1ABDBBE0</td>\n",
       "      <td>B8F0423BBFFCF5DC</td>\n",
       "      <td>2025-08-14</td>\n",
       "      <td>2025-08-14 13:57:39</td>\n",
       "      <td>2025-08-14</td>\n",
       "      <td>1</td>\n",
       "      <td>0</td>\n",
       "      <td>4</td>\n",
       "      <td>CIS</td>\n",
       "      <td>Android</td>\n",
       "    </tr>\n",
       "    <tr>\n",
       "      <th>191751</th>\n",
       "      <td>10E0DEFC1ABDBBE0</td>\n",
       "      <td>87CA2FA549473837</td>\n",
       "      <td>2025-08-15</td>\n",
       "      <td>2025-08-15 16:42:10</td>\n",
       "      <td>2025-08-14</td>\n",
       "      <td>2</td>\n",
       "      <td>0</td>\n",
       "      <td>3</td>\n",
       "      <td>CIS</td>\n",
       "      <td>Android</td>\n",
       "    </tr>\n",
       "    <tr>\n",
       "      <th>239370</th>\n",
       "      <td>10E0DEFC1ABDBBE0</td>\n",
       "      <td>4ADD8011DCDCE318</td>\n",
       "      <td>2025-08-16</td>\n",
       "      <td>2025-08-16 19:53:21</td>\n",
       "      <td>2025-08-14</td>\n",
       "      <td>3</td>\n",
       "      <td>0</td>\n",
       "      <td>3</td>\n",
       "      <td>CIS</td>\n",
       "      <td>Android</td>\n",
       "    </tr>\n",
       "    <tr>\n",
       "      <th>274629</th>\n",
       "      <td>10E0DEFC1ABDBBE0</td>\n",
       "      <td>DF0FD0E09BF1F3D7</td>\n",
       "      <td>2025-08-17</td>\n",
       "      <td>2025-08-17 15:03:43</td>\n",
       "      <td>2025-08-14</td>\n",
       "      <td>4</td>\n",
       "      <td>0</td>\n",
       "      <td>1</td>\n",
       "      <td>CIS</td>\n",
       "      <td>Android</td>\n",
       "    </tr>\n",
       "    <tr>\n",
       "      <th>302501</th>\n",
       "      <td>10E0DEFC1ABDBBE0</td>\n",
       "      <td>3C221774B4DE6885</td>\n",
       "      <td>2025-08-18</td>\n",
       "      <td>2025-08-18 17:29:14</td>\n",
       "      <td>2025-08-14</td>\n",
       "      <td>5</td>\n",
       "      <td>0</td>\n",
       "      <td>4</td>\n",
       "      <td>CIS</td>\n",
       "      <td>Android</td>\n",
       "    </tr>\n",
       "    <tr>\n",
       "      <th>325557</th>\n",
       "      <td>10E0DEFC1ABDBBE0</td>\n",
       "      <td>031BD7A67048105B</td>\n",
       "      <td>2025-08-19</td>\n",
       "      <td>2025-08-19 13:23:55</td>\n",
       "      <td>2025-08-14</td>\n",
       "      <td>6</td>\n",
       "      <td>0</td>\n",
       "      <td>2</td>\n",
       "      <td>CIS</td>\n",
       "      <td>Android</td>\n",
       "    </tr>\n",
       "    <tr>\n",
       "      <th>345336</th>\n",
       "      <td>10E0DEFC1ABDBBE0</td>\n",
       "      <td>FF4315CF4AD4B100</td>\n",
       "      <td>2025-08-20</td>\n",
       "      <td>2025-08-20 19:31:54</td>\n",
       "      <td>2025-08-14</td>\n",
       "      <td>7</td>\n",
       "      <td>0</td>\n",
       "      <td>2</td>\n",
       "      <td>CIS</td>\n",
       "      <td>Android</td>\n",
       "    </tr>\n",
       "    <tr>\n",
       "      <th>377532</th>\n",
       "      <td>10E0DEFC1ABDBBE0</td>\n",
       "      <td>4045FEA0747203B4</td>\n",
       "      <td>2025-08-22</td>\n",
       "      <td>2025-08-22 17:54:13</td>\n",
       "      <td>2025-08-14</td>\n",
       "      <td>8</td>\n",
       "      <td>0</td>\n",
       "      <td>2</td>\n",
       "      <td>CIS</td>\n",
       "      <td>Android</td>\n",
       "    </tr>\n",
       "    <tr>\n",
       "      <th>403538</th>\n",
       "      <td>10E0DEFC1ABDBBE0</td>\n",
       "      <td>344B086C421C7F37</td>\n",
       "      <td>2025-08-24</td>\n",
       "      <td>2025-08-24 14:46:13</td>\n",
       "      <td>2025-08-14</td>\n",
       "      <td>9</td>\n",
       "      <td>0</td>\n",
       "      <td>2</td>\n",
       "      <td>CIS</td>\n",
       "      <td>Android</td>\n",
       "    </tr>\n",
       "    <tr>\n",
       "      <th>414743</th>\n",
       "      <td>10E0DEFC1ABDBBE0</td>\n",
       "      <td>054F20BA371E4C9D</td>\n",
       "      <td>2025-08-25</td>\n",
       "      <td>2025-08-25 18:36:41</td>\n",
       "      <td>2025-08-14</td>\n",
       "      <td>10</td>\n",
       "      <td>0</td>\n",
       "      <td>3</td>\n",
       "      <td>CIS</td>\n",
       "      <td>Android</td>\n",
       "    </tr>\n",
       "  </tbody>\n",
       "</table>\n",
       "</div>"
      ],
      "text/plain": [
       "                 user_id        session_id session_date     session_start_ts  \\\n",
       "115558  10E0DEFC1ABDBBE0  B8F0423BBFFCF5DC   2025-08-14  2025-08-14 13:57:39   \n",
       "191751  10E0DEFC1ABDBBE0  87CA2FA549473837   2025-08-15  2025-08-15 16:42:10   \n",
       "239370  10E0DEFC1ABDBBE0  4ADD8011DCDCE318   2025-08-16  2025-08-16 19:53:21   \n",
       "274629  10E0DEFC1ABDBBE0  DF0FD0E09BF1F3D7   2025-08-17  2025-08-17 15:03:43   \n",
       "302501  10E0DEFC1ABDBBE0  3C221774B4DE6885   2025-08-18  2025-08-18 17:29:14   \n",
       "325557  10E0DEFC1ABDBBE0  031BD7A67048105B   2025-08-19  2025-08-19 13:23:55   \n",
       "345336  10E0DEFC1ABDBBE0  FF4315CF4AD4B100   2025-08-20  2025-08-20 19:31:54   \n",
       "377532  10E0DEFC1ABDBBE0  4045FEA0747203B4   2025-08-22  2025-08-22 17:54:13   \n",
       "403538  10E0DEFC1ABDBBE0  344B086C421C7F37   2025-08-24  2025-08-24 14:46:13   \n",
       "414743  10E0DEFC1ABDBBE0  054F20BA371E4C9D   2025-08-25  2025-08-25 18:36:41   \n",
       "\n",
       "       install_date  session_number  registration_flag  page_counter region  \\\n",
       "115558   2025-08-14               1                  0             4    CIS   \n",
       "191751   2025-08-14               2                  0             3    CIS   \n",
       "239370   2025-08-14               3                  0             3    CIS   \n",
       "274629   2025-08-14               4                  0             1    CIS   \n",
       "302501   2025-08-14               5                  0             4    CIS   \n",
       "325557   2025-08-14               6                  0             2    CIS   \n",
       "345336   2025-08-14               7                  0             2    CIS   \n",
       "377532   2025-08-14               8                  0             2    CIS   \n",
       "403538   2025-08-14               9                  0             2    CIS   \n",
       "414743   2025-08-14              10                  0             3    CIS   \n",
       "\n",
       "         device  \n",
       "115558  Android  \n",
       "191751  Android  \n",
       "239370  Android  \n",
       "274629  Android  \n",
       "302501  Android  \n",
       "325557  Android  \n",
       "345336  Android  \n",
       "377532  Android  \n",
       "403538  Android  \n",
       "414743  Android  "
      ]
     },
     "metadata": {},
     "output_type": "display_data"
    }
   ],
   "source": [
    "#выводим на экран пользователя с максимальным количеством ссесий\n",
    "display(sessions_history[sessions_history['user_id']=='10E0DEFC1ABDBBE0'])"
   ]
  },
  {
   "cell_type": "markdown",
   "metadata": {},
   "source": [
    "Были выведены все строки с информацией о пользователе с user_id = 10E0DEFC1ABDBBE0. Из вывода видно как формируются строки и видна корректность назначения номера ссесии"
   ]
  },
  {
   "cell_type": "markdown",
   "metadata": {
    "id": "CmcGpJTP0eMq"
   },
   "source": [
    "#### 1.3. Анализ числа регистраций\n",
    "Одна из важнейших метрик продукта — число зарегистрированных пользователей. Используя исторические данные, визуализируйте, как менялось число регистраций в приложении за время его существования.\n",
    "\n",
    "- Агрегируйте исторические данные и рассчитайте число уникальных пользователей и число зарегистрированных пользователей для каждого дня наблюдения. Для простоты считайте, что у пользователя в течение дня бывает одна сессия максимум и статус регистрации в течение одного дня не может измениться.\n",
    "\n",
    "- Постройте линейные графики общего числа пользователей и общего числа зарегистрированных пользователей по дням. Отобразите их на одном графике.\n",
    "\n",
    "- Постройте отдельный линейный график доли зарегистрированных пользователей от всех пользователей по дням.\n",
    "\n",
    "- На обоих графиках должны быть заголовок, подписанные оси X и Y, сетка и легенда."
   ]
  },
  {
   "cell_type": "code",
   "execution_count": 4,
   "metadata": {
    "id": "tN_6Ml3EPatS"
   },
   "outputs": [],
   "source": [
    "import matplotlib.pyplot as plt"
   ]
  },
  {
   "cell_type": "code",
   "execution_count": 5,
   "metadata": {},
   "outputs": [],
   "source": [
    "#группируем столбцы по дням и считаем число всех уникальных пользователей\n",
    "daily_users = sessions_history.groupby('session_date')['user_id'].nunique()\n",
    "#группируем столбцы по дням и считаем число всех зарегистрированных пользователей\n",
    "daily_registered_users = sessions_history[sessions_history['registration_flag'] == 1].groupby('session_date')['user_id'].nunique()\n"
   ]
  },
  {
   "cell_type": "code",
   "execution_count": 6,
   "metadata": {},
   "outputs": [
    {
     "data": {
      "image/png": "[encoded data removed]",
      "text/plain": [
       "<Figure size 864x432 with 1 Axes>"
      ]
     },
     "metadata": {
      "needs_background": "light"
     },
     "output_type": "display_data"
    }
   ],
   "source": [
    "#визуализируем динамику числа пользователей по дням\n",
    "plt.figure(figsize=(12, 6))\n",
    "plt.plot(daily_users.index, daily_users.values, label='Общее число пользователей')\n",
    "plt.plot(daily_registered_users.index, daily_registered_users.values, label='Общее число зарегистрированных пользователей')\n",
    "\n",
    "plt.xlabel('Дата')\n",
    "plt.ylabel('Число пользователей')\n",
    "plt.title('Динамика числа пользователей и числа зарегистрированных пользователей по дням')\n",
    "plt.legend()\n",
    "plt.grid(True)\n",
    "plt.xticks(rotation=45)\n",
    "plt.tight_layout()\n",
    "plt.show()"
   ]
  },
  {
   "cell_type": "markdown",
   "metadata": {},
   "source": [
    "Из графика видно, что больше пользователей, которые не были зарегистрированны в приложении. Число пользователей по дням достаточно нестабильная величина исходя из графика, в некоторые дни видны достаточно очевидные скачки в значениях, это может быть связано,например, с тем, что пользователи более активно используют приложение в выходные дни."
   ]
  },
  {
   "cell_type": "code",
   "execution_count": 7,
   "metadata": {},
   "outputs": [
    {
     "data": {
      "image/png": "[encoded data removed]",
      "text/plain": [
       "<Figure size 864x432 with 1 Axes>"
      ]
     },
     "metadata": {
      "needs_background": "light"
     },
     "output_type": "display_data"
    }
   ],
   "source": [
    "#рассчитываем долю зарегистрированных пользователей от общего количества по дням\n",
    "daily_registration_rate = daily_registered_users / daily_users\n",
    "\n",
    "# Построение графика\n",
    "plt.figure(figsize=(12, 6))\n",
    "plt.plot(daily_registration_rate.index, daily_registration_rate.values, label='Доля зарегистрированных пользователей')\n",
    "\n",
    "plt.xlabel('Дата')\n",
    "plt.ylabel('Доля')\n",
    "plt.title('Динамика доли зарегистрированных пользователей по дням')\n",
    "plt.legend()\n",
    "plt.grid(True)\n",
    "plt.xticks(rotation=45)\n",
    "plt.tight_layout()\n",
    "plt.show()"
   ]
  },
  {
   "cell_type": "markdown",
   "metadata": {
    "id": "UR7D7RhF0eMr"
   },
   "source": [
    "#### 1.4. Анализ числа просмотренных страниц\n",
    "Другая важная метрика продукта — число просмотренных страниц в приложении. Чем больше страниц просмотрено, тем сильнее пользователь увлечён контентом, а значит, выше шансы на то, что он зарегистрируется и оплатит подписку.\n",
    "\n",
    "- Найдите количество сессий для каждого значения количества просмотренных страниц. Например: одну страницу просмотрели в 29160 сессиях, две страницы в 105536 сессиях и так далее.\n",
    "\n",
    "- Постройте столбчатую диаграмму, где по оси X будет число просмотренных страниц, по оси Y — количество сессий.\n",
    "\n",
    "- На диаграмме должны быть заголовок, подписанные оси X и Y."
   ]
  },
  {
   "cell_type": "code",
   "execution_count": 8,
   "metadata": {
    "id": "cb6hPlVzPaSf"
   },
   "outputs": [],
   "source": [
    "# Группировка по количеству просмотренных страниц и подсчет сессий\n",
    "session_counts = sessions_history.groupby('page_counter')['session_id'].count()"
   ]
  },
  {
   "cell_type": "code",
   "execution_count": 9,
   "metadata": {},
   "outputs": [
    {
     "data": {
      "image/png": "[encoded data removed]",
      "text/plain": [
       "<Figure size 864x432 with 1 Axes>"
      ]
     },
     "metadata": {
      "needs_background": "light"
     },
     "output_type": "display_data"
    }
   ],
   "source": [
    "# Построение столбчатой диаграммы\n",
    "plt.figure(figsize=(12, 6))\n",
    "bars = plt.bar(session_counts.index, session_counts.values, color='skyblue')\n",
    "\n",
    "plt.xlabel('Количество просмотренных страниц')\n",
    "plt.ylabel('Количество сессий')\n",
    "plt.title('Распределение сессий по количеству просмотренных страниц')\n",
    "plt.grid(axis='y', alpha=0.75)\n",
    "\n",
    "plt.xticks(session_counts.index)  # Убедимся, что все значения page_counter отображаются на оси X\n",
    "\n",
    "# Добавление значений внутрь столбиков\n",
    "for bar in bars:\n",
    "    yval = bar.get_height()\n",
    "    plt.text(bar.get_x() + bar.get_width()/2, yval, int(yval), ha='center', va='bottom', color='black')\n",
    "\n",
    "plt.tight_layout()\n",
    "plt.show()"
   ]
  },
  {
   "cell_type": "markdown",
   "metadata": {},
   "source": [
    "Из диаграммы видно, что чаще всего пользователи просмотривают от 2 до 4 страниц.Также видно,что очень мало раз пользователи доходили до 7 просмотренных страниц"
   ]
  },
  {
   "cell_type": "markdown",
   "metadata": {
    "id": "xDltSpVP0eMr"
   },
   "source": [
    "#### 1.5. Доля пользователей, просмотревших более четырёх страниц\n",
    "Продуктовая команда продукта считает, что сессии, в рамках которых пользователь просмотрел 4 и более страниц, говорят об удовлетворённости контентом и алгоритмами рекомендаций. Этот показатель является важной прокси-метрикой для продукта.\n",
    "\n",
    "- В датафрейме `sessions_history` создайте дополнительный столбец `good_session`. В него войдёт значение `1`, если за одну сессию было просмотрено 4 и более страниц, и значение `0`, если было просмотрено меньше.\n",
    "\n",
    "- Постройте график со средним значением доли успешных сессий ко всем сессиям по дням за весь период наблюдения."
   ]
  },
  {
   "cell_type": "code",
   "execution_count": 10,
   "metadata": {},
   "outputs": [],
   "source": [
    "#создаем новый столбец для флага(количество просмотренных страниц >=4)\n",
    "sessions_history['good_session'] = sessions_history['page_counter'].apply(lambda x: 1 if x >= 4 else 0)"
   ]
  },
  {
   "cell_type": "code",
   "execution_count": 11,
   "metadata": {},
   "outputs": [],
   "source": [
    "# Агрегация данных по дням и расчет среднего значения good_session\n",
    "daily_good_session_rate = sessions_history.groupby('session_date')['good_session'].mean()"
   ]
  },
  {
   "cell_type": "code",
   "execution_count": 12,
   "metadata": {
    "id": "iygaPfixPYMW"
   },
   "outputs": [
    {
     "data": {
      "image/png": "[encoded data removed]",
      "text/plain": [
       "<Figure size 864x432 with 1 Axes>"
      ]
     },
     "metadata": {
      "needs_background": "light"
     },
     "output_type": "display_data"
    }
   ],
   "source": [
    "# Построение графика\n",
    "plt.figure(figsize=(12, 6))\n",
    "plt.plot(daily_good_session_rate.index, daily_good_session_rate.values, label='Средняя доля успешных сессий')\n",
    "\n",
    "plt.xlabel('Дата')\n",
    "plt.ylabel('Средняя доля')\n",
    "plt.title('Динамика средней доли успешных сессий по дням')\n",
    "plt.grid(True)\n",
    "plt.xticks(rotation=45)\n",
    "plt.legend()\n",
    "plt.tight_layout()\n",
    "plt.show()"
   ]
  },
  {
   "cell_type": "markdown",
   "metadata": {},
   "source": [
    "Из графика видна тенденция к резкому изменению значений средней доли успешных сессий по дням. Особенно это заметно под конец исследуемого периода."
   ]
  },
  {
   "cell_type": "markdown",
   "metadata": {
    "id": "21JcG77Y0eMt"
   },
   "source": [
    "### 2. Подготовка к тесту\n",
    "При планировании теста необходимо проделать несколько важных шагов:\n",
    "\n",
    "- Определиться с целевой метрикой.\n",
    "\n",
    "- Рассчитать необходимый размер выборки.\n",
    "\n",
    "- Исходя из текущих значений трафика, рассчитать необходимую длительность проведения теста."
   ]
  },
  {
   "cell_type": "markdown",
   "metadata": {
    "id": "uzaeln270eMt"
   },
   "source": [
    "#### 2.1. Расчёт размера выборки\n",
    "В рамках курса вам уже приходилось рассчитывать размеры выборки, используя онлайн-калькуляторы. В этом задании предлагаем воспользоваться готовым кодом и рассчитать необходимое для вашего дизайна эксперимента количество пользователей.\n",
    "\n",
    "Для этого установите в коде ниже следующие параметры:\n",
    "\n",
    "- Уровень значимости — 0.05.\n",
    "\n",
    "- Вероятность ошибки второго рода — 0.2.\n",
    "\n",
    "- Мощность теста.\n",
    "\n",
    "- Минимальный детектируемый эффект, или MDE, — 3%. Обратите внимание, что здесь нужно указать десятичную дробь, а не процент.\n",
    "\n",
    "При расчёте размера выборки мы будем использовать метод `solve_power()` из класса `power.NormalIndPower` модуля `statsmodels.stats`.\n",
    "\n",
    "Запустите ячейку и изучите полученное значение."
   ]
  },
  {
   "cell_type": "code",
   "execution_count": 13,
   "metadata": {
    "id": "zSxJyPGPNdaI"
   },
   "outputs": [
    {
     "name": "stdout",
     "output_type": "stream",
     "text": [
      "Необходимый размер выборки для каждой группы: 17441\n"
     ]
    }
   ],
   "source": [
    "from statsmodels.stats.power import NormalIndPower\n",
    "\n",
    "# Задаём параметры\n",
    "alpha = 0.05  # Уровень значимости\n",
    "beta = 0.2  # Ошибка второго рода, часто 1 - мощность\n",
    "power = 0.8  # Мощность теста\n",
    "mde = 0.03  # Минимальный детектируемый эффект\n",
    "\n",
    "# Инициализируем класс NormalIndPower\n",
    "power_analysis = NormalIndPower()\n",
    "\n",
    "# Рассчитываем размер выборки\n",
    "sample_size = power_analysis.solve_power(\n",
    "    effect_size = mde,\n",
    "    power = power,\n",
    "    alpha = alpha,\n",
    "    ratio = 1 # Равномерное распределение выборок\n",
    ")\n",
    "\n",
    "print(f\"Необходимый размер выборки для каждой группы: {int(sample_size)}\")"
   ]
  },
  {
   "cell_type": "markdown",
   "metadata": {
    "id": "qLEv4RoV0eMu"
   },
   "source": [
    "#### 2.1. Расчёт длительности A/B-теста\n",
    "\n",
    "Используйте данные о количестве пользователей в каждой выборке и среднем количестве пользователей приложения. Рассчитайте длительность теста, разделив одно на другое.\n",
    "\n",
    "- Рассчитайте среднее количество уникальных пользователей приложения в день.\n",
    "\n",
    "- Определите длительность теста, исходя из рассчитанного значения размера выборок и среднего дневного трафика приложения. Количество дней округлите в большую сторону."
   ]
  },
  {
   "cell_type": "code",
   "execution_count": 14,
   "metadata": {
    "id": "KZDRbryDOGHa"
   },
   "outputs": [
    {
     "name": "stdout",
     "output_type": "stream",
     "text": [
      "Рассчитанная длительность A/B-теста при текущем уровене трафика в 9907.363636363636 пользователей в день составит 2 дней\n"
     ]
    }
   ],
   "source": [
    "from math import ceil\n",
    "\n",
    "# Среднее количество пользователей приложения в день по историческим данным\n",
    "avg_daily_users =sessions_history.groupby('session_date')['user_id'].nunique().mean()\n",
    "\n",
    "# Рассчитываем длительность теста в днях как отношение размера выборки к среднему числу пользователей\n",
    "test_duration = ceil(17441/avg_daily_users)\n",
    "\n",
    "print(f\"Рассчитанная длительность A/B-теста при текущем уровене трафика в {avg_daily_users} пользователей в день составит {test_duration} дней\")"
   ]
  },
  {
   "cell_type": "markdown",
   "metadata": {
    "id": "ZuvtAdha0eMv"
   },
   "source": [
    "### 3. Мониторинг А/В-теста"
   ]
  },
  {
   "cell_type": "markdown",
   "metadata": {
    "id": "jq5sE3Ya0eMv"
   },
   "source": [
    "#### 3.1. Проверка распределения пользователей\n",
    "\n",
    "A/B-тест успешно запущен, и уже доступны данные за первые три дня. На этом этапе нужно убедиться, что всё идёт хорошо: пользователи разделены правильным образом, а интересующие вас метрики корректно считаются.\n",
    "\n",
    "- Считайте и сохраните в датафрейм `sessions_test_part` CSV-файл с историческими данными о сессиях пользователей `sessions_project_test_part.csv`.\n",
    "\n",
    "- Рассчитайте количество уникальных пользователей в каждой из экспериментальных групп для одного дня наблюдения.\n",
    "\n",
    "- Рассчитайте и выведите на экран процентную разницу в количестве пользователей в группах A и B. Постройте любую удобную визуализацию, на которой можно было бы увидеть возможное различие двух групп.\n",
    "\n",
    "Для расчёта процентной разницы воспользуйтесь формулой:\n",
    "$$P = 100 \\cdot  \\frac{|A − B|}{A}$$"
   ]
  },
  {
   "cell_type": "code",
   "execution_count": 15,
   "metadata": {},
   "outputs": [],
   "source": [
    "#загружаем данные\n",
    "sessions_project_test_part = pd.read_csv('https://code.s3.yandex.net/datasets/sessions_project_test_part.csv')"
   ]
  },
  {
   "cell_type": "code",
   "execution_count": 16,
   "metadata": {
    "id": "G1bqIzDJOUiz"
   },
   "outputs": [
    {
     "data": {
      "text/html": [
       "<div>\n",
       "<style scoped>\n",
       "    .dataframe tbody tr th:only-of-type {\n",
       "        vertical-align: middle;\n",
       "    }\n",
       "\n",
       "    .dataframe tbody tr th {\n",
       "        vertical-align: top;\n",
       "    }\n",
       "\n",
       "    .dataframe thead th {\n",
       "        text-align: right;\n",
       "    }\n",
       "</style>\n",
       "<table border=\"1\" class=\"dataframe\">\n",
       "  <thead>\n",
       "    <tr style=\"text-align: right;\">\n",
       "      <th></th>\n",
       "      <th>user_id</th>\n",
       "      <th>session_id</th>\n",
       "      <th>session_date</th>\n",
       "      <th>session_start_ts</th>\n",
       "      <th>install_date</th>\n",
       "      <th>session_number</th>\n",
       "      <th>registration_flag</th>\n",
       "      <th>page_counter</th>\n",
       "      <th>region</th>\n",
       "      <th>device</th>\n",
       "      <th>test_group</th>\n",
       "    </tr>\n",
       "  </thead>\n",
       "  <tbody>\n",
       "    <tr>\n",
       "      <th>0</th>\n",
       "      <td>3404844B53442747</td>\n",
       "      <td>B4901323BD537E45</td>\n",
       "      <td>2025-10-14</td>\n",
       "      <td>2025-10-14 19:28:49</td>\n",
       "      <td>2025-10-14</td>\n",
       "      <td>1</td>\n",
       "      <td>0</td>\n",
       "      <td>3</td>\n",
       "      <td>CIS</td>\n",
       "      <td>Android</td>\n",
       "      <td>B</td>\n",
       "    </tr>\n",
       "    <tr>\n",
       "      <th>1</th>\n",
       "      <td>3A2BF4D364E62D89</td>\n",
       "      <td>216FC619308F8788</td>\n",
       "      <td>2025-10-14</td>\n",
       "      <td>2025-10-14 21:11:04</td>\n",
       "      <td>2025-10-14</td>\n",
       "      <td>1</td>\n",
       "      <td>0</td>\n",
       "      <td>3</td>\n",
       "      <td>MENA</td>\n",
       "      <td>iPhone</td>\n",
       "      <td>A</td>\n",
       "    </tr>\n",
       "    <tr>\n",
       "      <th>2</th>\n",
       "      <td>79CDAE11E32B1597</td>\n",
       "      <td>EDFCE4AC1A504074</td>\n",
       "      <td>2025-10-14</td>\n",
       "      <td>2025-10-14 21:44:03</td>\n",
       "      <td>2025-10-14</td>\n",
       "      <td>1</td>\n",
       "      <td>0</td>\n",
       "      <td>3</td>\n",
       "      <td>CIS</td>\n",
       "      <td>iPhone</td>\n",
       "      <td>A</td>\n",
       "    </tr>\n",
       "    <tr>\n",
       "      <th>3</th>\n",
       "      <td>D6AF8D78297A931F</td>\n",
       "      <td>CF0AC0EEDE92C690</td>\n",
       "      <td>2025-10-14</td>\n",
       "      <td>2025-10-14 19:07:55</td>\n",
       "      <td>2025-10-14</td>\n",
       "      <td>1</td>\n",
       "      <td>0</td>\n",
       "      <td>4</td>\n",
       "      <td>CIS</td>\n",
       "      <td>PC</td>\n",
       "      <td>A</td>\n",
       "    </tr>\n",
       "    <tr>\n",
       "      <th>4</th>\n",
       "      <td>37E0CE723AE568E0</td>\n",
       "      <td>2E6ED45E8C86C4E9</td>\n",
       "      <td>2025-10-14</td>\n",
       "      <td>2025-10-14 15:39:44</td>\n",
       "      <td>2025-10-14</td>\n",
       "      <td>1</td>\n",
       "      <td>0</td>\n",
       "      <td>3</td>\n",
       "      <td>CIS</td>\n",
       "      <td>Mac</td>\n",
       "      <td>B</td>\n",
       "    </tr>\n",
       "  </tbody>\n",
       "</table>\n",
       "</div>"
      ],
      "text/plain": [
       "            user_id        session_id session_date     session_start_ts  \\\n",
       "0  3404844B53442747  B4901323BD537E45   2025-10-14  2025-10-14 19:28:49   \n",
       "1  3A2BF4D364E62D89  216FC619308F8788   2025-10-14  2025-10-14 21:11:04   \n",
       "2  79CDAE11E32B1597  EDFCE4AC1A504074   2025-10-14  2025-10-14 21:44:03   \n",
       "3  D6AF8D78297A931F  CF0AC0EEDE92C690   2025-10-14  2025-10-14 19:07:55   \n",
       "4  37E0CE723AE568E0  2E6ED45E8C86C4E9   2025-10-14  2025-10-14 15:39:44   \n",
       "\n",
       "  install_date  session_number  registration_flag  page_counter region  \\\n",
       "0   2025-10-14               1                  0             3    CIS   \n",
       "1   2025-10-14               1                  0             3   MENA   \n",
       "2   2025-10-14               1                  0             3    CIS   \n",
       "3   2025-10-14               1                  0             4    CIS   \n",
       "4   2025-10-14               1                  0             3    CIS   \n",
       "\n",
       "    device test_group  \n",
       "0  Android          B  \n",
       "1   iPhone          A  \n",
       "2   iPhone          A  \n",
       "3       PC          A  \n",
       "4      Mac          B  "
      ]
     },
     "execution_count": 16,
     "metadata": {},
     "output_type": "execute_result"
    }
   ],
   "source": [
    "#фильтруем данные\n",
    "first_day = sessions_project_test_part['session_date'].min()\n",
    "df_test_day = sessions_project_test_part[sessions_project_test_part['session_date'] == first_day]\n",
    "sessions_project_test_part.head()"
   ]
  },
  {
   "cell_type": "code",
   "execution_count": 17,
   "metadata": {},
   "outputs": [
    {
     "name": "stdout",
     "output_type": "stream",
     "text": [
      "Количество уникальных пользователей в группе A: 1477\n",
      "Количество уникальных пользователей в группе B: 1466\n",
      "Процентная разница в количестве пользователей между группами: 0.74%\n"
     ]
    }
   ],
   "source": [
    "# Расчет количества уникальных пользователей в каждой группе\n",
    "users_a = sessions_project_test_part[sessions_project_test_part['test_group'] == 'A']['user_id'].nunique()\n",
    "users_b = sessions_project_test_part[sessions_project_test_part['test_group'] == 'B']['user_id'].nunique()\n",
    "# Расчет процентной разницы\n",
    "percent_difference = 100 * abs(users_a - users_b) / users_a\n",
    "\n",
    "print(f\"Количество уникальных пользователей в группе A: {users_a}\")\n",
    "print(f\"Количество уникальных пользователей в группе B: {users_b}\")\n",
    "print(f\"Процентная разница в количестве пользователей между группами: {percent_difference:.2f}%\")\n"
   ]
  },
  {
   "cell_type": "markdown",
   "metadata": {},
   "source": [
    "Видно, что процентная разница между группами достаточно небольшояя, что говорит о корректности проведение теста"
   ]
  },
  {
   "cell_type": "code",
   "execution_count": 18,
   "metadata": {},
   "outputs": [
    {
     "data": {
      "image/png": "[encoded data removed]",
      "text/plain": [
       "<Figure size 576x432 with 1 Axes>"
      ]
     },
     "metadata": {
      "needs_background": "light"
     },
     "output_type": "display_data"
    },
    {
     "data": {
      "image/png": "[encoded data removed]",
      "text/plain": [
       "<Figure size 576x432 with 1 Axes>"
      ]
     },
     "metadata": {},
     "output_type": "display_data"
    }
   ],
   "source": [
    "# Визуализация (столбчатая диаграмма)\n",
    "groups = ['A', 'B']\n",
    "counts = [users_a, users_b]\n",
    "\n",
    "plt.figure(figsize=(8, 6))\n",
    "plt.bar(groups, counts, color=['skyblue', 'lightcoral'])\n",
    "plt.xlabel('Экспериментальные группы')\n",
    "plt.ylabel('Количество уникальных пользователей')\n",
    "plt.title('Распределение пользователей по группам')\n",
    "plt.ylim(1400, max(counts) * 1.1)  # Регулировка лимитов оси Y для лучшего отображения\n",
    "plt.tight_layout()\n",
    "plt.show()\n",
    "\n",
    "# Альтернативная визуализация (круговая диаграмма)\n",
    "plt.figure(figsize=(8, 6))\n",
    "plt.pie(counts, labels=groups, autopct='%1.1f%%', colors=['skyblue', 'lightcoral'], startangle=90)\n",
    "plt.title('Распределение пользователей по группам')\n",
    "plt.tight_layout()\n",
    "plt.show()"
   ]
  },
  {
   "cell_type": "markdown",
   "metadata": {
    "id": "sgpNY5bv0eM0"
   },
   "source": [
    "#### 3.2. Проверка пересечений пользователей\n",
    "Помимо проверки равенства количества пользователей в группах полезно убедиться в том, что группы независимы. Для этого нужно убедиться, что никто из пользователей случайно не попал в обе группы одновременно.\n",
    "\n",
    "- Рассчитайте количество пользователей, которые встречаются одновременно в группах A и B, или убедитесь, что таких нет."
   ]
  },
  {
   "cell_type": "code",
   "execution_count": 19,
   "metadata": {
    "id": "E72ozN9FOX1u"
   },
   "outputs": [
    {
     "name": "stdout",
     "output_type": "stream",
     "text": [
      "Количество пользователей, одновременно находящихся в группах A и B: 0\n"
     ]
    }
   ],
   "source": [
    "# Выделяем пользователей из группы A\n",
    "users_a = set(sessions_project_test_part[sessions_project_test_part['test_group'] == 'A']['user_id'].unique())\n",
    "\n",
    "# Выделяем пользователей из группы B\n",
    "users_b = set(sessions_project_test_part[sessions_project_test_part['test_group'] == 'B']['user_id'].unique())\n",
    "\n",
    "# Находим пересечение множеств (пользователи, попавшие в обе группы)\n",
    "common_users = users_a.intersection(users_b)\n",
    "\n",
    "# Выводим количество общих пользователей\n",
    "num_common_users = len(common_users)\n",
    "\n",
    "print(f\"Количество пользователей, одновременно находящихся в группах A и B: {num_common_users}\")"
   ]
  },
  {
   "cell_type": "markdown",
   "metadata": {},
   "source": [
    "Видно, что пересечений между группами не обнаружено, что говорит о корректности проведение теста"
   ]
  },
  {
   "cell_type": "markdown",
   "metadata": {
    "id": "6RvkNLrg0eM1"
   },
   "source": [
    "#### 3.3. Равномерность разделения пользователей по устройствам\n",
    "Полезно также убедиться в том, что пользователи равномерно распределены по всем доступным категориальным переменным — типам устройства и регионам.\n",
    "\n",
    "Постройте две диаграммы:\n",
    "\n",
    "- доля каждого типа устройства для пользователей из группы A,\n",
    "\n",
    "- доля каждого типа устройства для пользователей из группы B.\n",
    "\n",
    "Постарайтесь добавить на диаграммы все необходимые подписи, пояснения и заголовки, которые позволят сделать вывод о том, совпадает ли распределение устройств в группах A и B.\n"
   ]
  },
  {
   "cell_type": "code",
   "execution_count": 20,
   "metadata": {
    "id": "x_IP6PUNPWHC"
   },
   "outputs": [],
   "source": [
    "# Расчет распределения типов устройств в группе A\n",
    "device_counts_a = sessions_project_test_part[sessions_project_test_part['test_group'] == 'A']['device'].value_counts(normalize=True) * 100\n",
    "\n",
    "# Расчет распределения типов устройств в группе B\n",
    "device_counts_b = sessions_project_test_part[sessions_project_test_part['test_group'] == 'B']['device'].value_counts(normalize=True) * 100"
   ]
  },
  {
   "cell_type": "code",
   "execution_count": 21,
   "metadata": {},
   "outputs": [
    {
     "data": {
      "image/png": "[encoded data removed]",
      "text/plain": [
       "<Figure size 1080x432 with 2 Axes>"
      ]
     },
     "metadata": {},
     "output_type": "display_data"
    }
   ],
   "source": [
    "# Создание фигуры с двумя subplots\n",
    "fig, axes = plt.subplots(1, 2, figsize=(15, 6))\n",
    "\n",
    "# --- Диаграмма для группы A ---\n",
    "axes[0].pie(device_counts_a, labels=device_counts_a.index, autopct='%1.1f%%', startangle=90, colors=plt.cm.Paired.colors)\n",
    "axes[0].set_title('Распределение типов устройств в группе A')\n",
    "\n",
    "# --- Диаграмма для группы B ---\n",
    "axes[1].pie(device_counts_b, labels=device_counts_b.index, autopct='%1.1f%%', startangle=90, colors=plt.cm.Paired.colors)\n",
    "axes[1].set_title('Распределение типов устройств в группе B')\n",
    "\n",
    "# Добавление общего заголовка для фигуры\n",
    "fig.suptitle('Сравнение распределения типов устройств в группах A и B', fontsize=16)\n",
    "\n",
    "plt.tight_layout(rect=[0, 0.03, 1, 0.95])  # Подстройка размещения элементов для предотвращения перекрытия\n",
    "plt.show()"
   ]
  },
  {
   "cell_type": "markdown",
   "metadata": {},
   "source": [
    "Из графиков видно, что типы устройств в группах распределены практически одинаково, что говорит о корректности проведения теста"
   ]
  },
  {
   "cell_type": "markdown",
   "metadata": {
    "id": "gAgmP6vo0eM1"
   },
   "source": [
    "#### 3.4. Равномерность распределения пользователей по регионам\n",
    "Теперь убедитесь, что пользователи равномерно распределены по регионам.\n",
    "\n",
    "Постройте две диаграммы:\n",
    "\n",
    "- доля каждого региона для пользователей из группы A,\n",
    "\n",
    "- доля каждого региона для пользователей из группы B.\n",
    "\n",
    "Постарайтесь добавить на диаграммы все необходимые подписи, пояснения и заголовки, которые позволят сделать вывод о том, совпадает ли распределение регионов в группах A и B. Постарайтесь использовать другой тип диаграммы, не тот, что в прошлом задании.\n"
   ]
  },
  {
   "cell_type": "code",
   "execution_count": 22,
   "metadata": {
    "id": "3hAq-FG4OdYM"
   },
   "outputs": [],
   "source": [
    "# Расчет распределения регионов в группе A\n",
    "region_counts_a = sessions_project_test_part[sessions_project_test_part['test_group'] == 'A']['region'].value_counts(normalize=True) * 100\n",
    "\n",
    "# Расчет распределения регионов в группе B\n",
    "region_counts_b = sessions_project_test_part[sessions_project_test_part['test_group'] == 'B']['region'].value_counts(normalize=True) * 100"
   ]
  },
  {
   "cell_type": "code",
   "execution_count": 32,
   "metadata": {},
   "outputs": [],
   "source": [
    "import seaborn as sns"
   ]
  },
  {
   "cell_type": "code",
   "execution_count": 33,
   "metadata": {},
   "outputs": [
    {
     "data": {
      "image/png": "[encoded data removed]",
      "text/plain": [
       "<Figure size 1296x504 with 2 Axes>"
      ]
     },
     "metadata": {
      "needs_background": "light"
     },
     "output_type": "display_data"
    }
   ],
   "source": [
    "# Создание фигуры с двумя subplots\n",
    "fig, axes = plt.subplots(1, 2, figsize=(18, 7))\n",
    "\n",
    "# --- Столбчатая диаграмма для группы A ---\n",
    "sns.barplot(x=region_counts_a.index, y=region_counts_a.values, ax=axes[0], palette='viridis')\n",
    "axes[0].set_title('Распределение регионов в группе A')\n",
    "axes[0].set_xlabel('Регион')\n",
    "axes[0].set_ylabel('Доля (%)')\n",
    "axes[0].tick_params(axis='x', rotation=45)\n",
    "\n",
    "# --- Столбчатая диаграмма для группы B ---\n",
    "sns.barplot(x=region_counts_b.index, y=region_counts_b.values, ax=axes[1], palette='viridis')\n",
    "axes[1].set_title('Распределение регионов в группе B')\n",
    "axes[1].set_xlabel('Регион')\n",
    "axes[1].set_ylabel('Доля (%)')\n",
    "axes[1].tick_params(axis='x', rotation=45)\n",
    "\n",
    "# Добавление общего заголовка для фигуры\n",
    "fig.suptitle('Сравнение распределения регионов в группах A и B', fontsize=16)\n",
    "\n",
    "plt.tight_layout(rect=[0, 0.03, 1, 0.95])  # Подстройка размещения элементов для предотвращения перекрытия\n",
    "plt.show()"
   ]
  },
  {
   "cell_type": "markdown",
   "metadata": {},
   "source": [
    "Видно, что распределение пользователей немного отличается между группами, но основные показатели схожи"
   ]
  },
  {
   "cell_type": "markdown",
   "metadata": {
    "id": "X2WSZ-sDrSUi"
   },
   "source": [
    "#### 3.5. Вывод после проверки A/B-теста\n",
    "\n",
    "На основе проведённого анализа A/B-теста сформулируйте и запишите свои выводы. В выводе обязательно укажите:\n",
    "\n",
    "- Были ли обнаружено различие в количестве пользователей в двух группах.\n",
    "\n",
    "- Являются ли выборки независимыми. Было ли обнаружено пересечение пользователей из тестовой и контрольной групп.\n",
    "\n",
    "- Сохраняется ли равномерное распределение пользователей тестовой и контрольной групп по категориальным переменным: устройствам и регионам.\n",
    "\n",
    "Сделайте заключение о том, корректно ли проходит A/B-тест или наблюдаются какие-либо нарушения."
   ]
  },
  {
   "cell_type": "markdown",
   "metadata": {},
   "source": [
    "Из проведенных расчетов проверки работы теста, можно сказать, что тест проходит корректно, аномалий между группами не было обнаружено, и можно переходить к проверке результатов A/B-теста"
   ]
  },
  {
   "cell_type": "markdown",
   "metadata": {
    "id": "nudRr_BQ0eM2"
   },
   "source": [
    "### 4. Проверка результатов A/B-теста\n",
    "\n",
    "A/B-тест завершён, и у вас есть результаты за все дни проведения эксперимента. Необходимо убедиться в корректности теста и верно интерпретировать результаты."
   ]
  },
  {
   "cell_type": "markdown",
   "metadata": {
    "id": "JVve-YBB0eM2"
   },
   "source": [
    "#### 4.1. Получение результатов теста и подсчёт основной метрики\n",
    "\n",
    "- Считайте и сохраните в датафрейм `sessions_test` CSV-файл с историческими данными о сессиях пользователей `sessions_project_test.csv`.\n",
    "\n",
    "- В датафрейме `sessions_test` создайте дополнительный столбец `good_session`. В него войдёт значение `1`, если за одну сессию было просмотрено 4 и более страниц, и значение `0`, если просмотрено меньше."
   ]
  },
  {
   "cell_type": "code",
   "execution_count": 24,
   "metadata": {
    "id": "EqRlwMtKPTir"
   },
   "outputs": [],
   "source": [
    "#загружаем данные\n",
    "sessions_test = pd.read_csv('https://code.s3.yandex.net/datasets/sessions_project_test.csv')"
   ]
  },
  {
   "cell_type": "code",
   "execution_count": 25,
   "metadata": {},
   "outputs": [
    {
     "data": {
      "text/html": [
       "<div>\n",
       "<style scoped>\n",
       "    .dataframe tbody tr th:only-of-type {\n",
       "        vertical-align: middle;\n",
       "    }\n",
       "\n",
       "    .dataframe tbody tr th {\n",
       "        vertical-align: top;\n",
       "    }\n",
       "\n",
       "    .dataframe thead th {\n",
       "        text-align: right;\n",
       "    }\n",
       "</style>\n",
       "<table border=\"1\" class=\"dataframe\">\n",
       "  <thead>\n",
       "    <tr style=\"text-align: right;\">\n",
       "      <th></th>\n",
       "      <th>user_id</th>\n",
       "      <th>session_id</th>\n",
       "      <th>session_date</th>\n",
       "      <th>session_start_ts</th>\n",
       "      <th>install_date</th>\n",
       "      <th>session_number</th>\n",
       "      <th>registration_flag</th>\n",
       "      <th>page_counter</th>\n",
       "      <th>region</th>\n",
       "      <th>device</th>\n",
       "      <th>test_group</th>\n",
       "      <th>good_session</th>\n",
       "    </tr>\n",
       "  </thead>\n",
       "  <tbody>\n",
       "    <tr>\n",
       "      <th>0</th>\n",
       "      <td>6DAE3B3654DA738E</td>\n",
       "      <td>C69249E26E58F6E2</td>\n",
       "      <td>2025-10-26</td>\n",
       "      <td>2025-10-26 18:15:05</td>\n",
       "      <td>2025-10-16</td>\n",
       "      <td>3</td>\n",
       "      <td>0</td>\n",
       "      <td>3</td>\n",
       "      <td>MENA</td>\n",
       "      <td>Android</td>\n",
       "      <td>A</td>\n",
       "      <td>0</td>\n",
       "    </tr>\n",
       "    <tr>\n",
       "      <th>1</th>\n",
       "      <td>0A3FE5D1DD59110A</td>\n",
       "      <td>66D66D7C9F5181B7</td>\n",
       "      <td>2025-10-21</td>\n",
       "      <td>2025-10-21 17:04:53</td>\n",
       "      <td>2025-10-15</td>\n",
       "      <td>2</td>\n",
       "      <td>1</td>\n",
       "      <td>2</td>\n",
       "      <td>CIS</td>\n",
       "      <td>Android</td>\n",
       "      <td>B</td>\n",
       "      <td>0</td>\n",
       "    </tr>\n",
       "    <tr>\n",
       "      <th>2</th>\n",
       "      <td>2041F1D7AA740B88</td>\n",
       "      <td>50DE51D42215E74C</td>\n",
       "      <td>2025-10-23</td>\n",
       "      <td>2025-10-23 17:39:29</td>\n",
       "      <td>2025-10-19</td>\n",
       "      <td>3</td>\n",
       "      <td>0</td>\n",
       "      <td>2</td>\n",
       "      <td>MENA</td>\n",
       "      <td>Android</td>\n",
       "      <td>A</td>\n",
       "      <td>0</td>\n",
       "    </tr>\n",
       "    <tr>\n",
       "      <th>3</th>\n",
       "      <td>43D7585009168086</td>\n",
       "      <td>5763C0C353C22263</td>\n",
       "      <td>2025-10-24</td>\n",
       "      <td>2025-10-24 15:01:57</td>\n",
       "      <td>2025-10-18</td>\n",
       "      <td>4</td>\n",
       "      <td>0</td>\n",
       "      <td>1</td>\n",
       "      <td>CIS</td>\n",
       "      <td>iPhone</td>\n",
       "      <td>B</td>\n",
       "      <td>0</td>\n",
       "    </tr>\n",
       "    <tr>\n",
       "      <th>4</th>\n",
       "      <td>15AD68B14D62D88C</td>\n",
       "      <td>B1AD09F93C1053BC</td>\n",
       "      <td>2025-10-17</td>\n",
       "      <td>2025-10-17 17:34:39</td>\n",
       "      <td>2025-10-17</td>\n",
       "      <td>1</td>\n",
       "      <td>0</td>\n",
       "      <td>2</td>\n",
       "      <td>MENA</td>\n",
       "      <td>Android</td>\n",
       "      <td>B</td>\n",
       "      <td>0</td>\n",
       "    </tr>\n",
       "  </tbody>\n",
       "</table>\n",
       "</div>"
      ],
      "text/plain": [
       "            user_id        session_id session_date     session_start_ts  \\\n",
       "0  6DAE3B3654DA738E  C69249E26E58F6E2   2025-10-26  2025-10-26 18:15:05   \n",
       "1  0A3FE5D1DD59110A  66D66D7C9F5181B7   2025-10-21  2025-10-21 17:04:53   \n",
       "2  2041F1D7AA740B88  50DE51D42215E74C   2025-10-23  2025-10-23 17:39:29   \n",
       "3  43D7585009168086  5763C0C353C22263   2025-10-24  2025-10-24 15:01:57   \n",
       "4  15AD68B14D62D88C  B1AD09F93C1053BC   2025-10-17  2025-10-17 17:34:39   \n",
       "\n",
       "  install_date  session_number  registration_flag  page_counter region  \\\n",
       "0   2025-10-16               3                  0             3   MENA   \n",
       "1   2025-10-15               2                  1             2    CIS   \n",
       "2   2025-10-19               3                  0             2   MENA   \n",
       "3   2025-10-18               4                  0             1    CIS   \n",
       "4   2025-10-17               1                  0             2   MENA   \n",
       "\n",
       "    device test_group  good_session  \n",
       "0  Android          A             0  \n",
       "1  Android          B             0  \n",
       "2  Android          A             0  \n",
       "3   iPhone          B             0  \n",
       "4  Android          B             0  "
      ]
     },
     "execution_count": 25,
     "metadata": {},
     "output_type": "execute_result"
    }
   ],
   "source": [
    "# Создание столбца good_session\n",
    "sessions_test['good_session'] = (sessions_test['page_counter'] >= 4).astype(int)\n",
    "\n",
    "# Вывод первых нескольких строк датафрейма с новым столбцом для проверки\n",
    "sessions_test.head()"
   ]
  },
  {
   "cell_type": "markdown",
   "metadata": {
    "id": "aeYhrMYy0eM2"
   },
   "source": [
    "#### 4.2. Проверка корректности результатов теста\n",
    "\n",
    "Прежде чем приступать к анализу ключевых продуктовых метрик, необходимо убедиться, что тест проведён корректно и вы будете сравнивать две сопоставимые группы.\n",
    "\n",
    "- Рассчитайте количество уникальных сессий для каждого дня и обеих тестовых групп, используя группировку.\n",
    "\n",
    "- Проверьте, что количество уникальных дневных сессий в двух выборках не различается или различия не статистически значимы. Используйте статистический тест, который позволит сделать вывод о равенстве средних двух выборок.\n",
    "\n",
    "- В качестве ответа выведите на экран полученное значение p-value и интерпретируйте его."
   ]
  },
  {
   "cell_type": "code",
   "execution_count": 26,
   "metadata": {
    "id": "5NUlcltkTTSU"
   },
   "outputs": [],
   "source": [
    "# Группировка по session_date и test_group и подсчет уникальных session_id\n",
    "sessions_per_day = sessions_test.groupby(['session_date', 'test_group'])['session_id'].nunique().reset_index()\n",
    "\n",
    "# Разделение на две группы\n",
    "group_A = sessions_per_day[sessions_per_day['test_group'] == 'A']['session_id']\n",
    "group_B = sessions_per_day[sessions_per_day['test_group'] == 'B']['session_id']\n"
   ]
  },
  {
   "cell_type": "code",
   "execution_count": 27,
   "metadata": {},
   "outputs": [],
   "source": [
    "from scipy import stats"
   ]
  },
  {
   "cell_type": "code",
   "execution_count": 28,
   "metadata": {},
   "outputs": [
    {
     "name": "stdout",
     "output_type": "stream",
     "text": [
      "P-value: 0.938219304859116\n",
      "Различия в количестве уникальных сессий между группами статистически не значимы.\n"
     ]
    }
   ],
   "source": [
    "# Проверка равенства дисперсий для использования правильного t-теста\n",
    "levene_result = stats.levene(group_A, group_B)\n",
    "equal_variances = levene_result.pvalue > 0.05\n",
    "\n",
    "# Проведение t-теста (Стьюдента)\n",
    "t_test_result = stats.ttest_ind(group_A, group_B, equal_var=equal_variances)\n",
    "\n",
    "# Вывод p-value и интерпретация\n",
    "p_value = t_test_result.pvalue\n",
    "print(f\"P-value: {p_value}\")\n",
    "\n",
    "alpha = 0.05  # Уровень значимости\n",
    "\n",
    "if p_value < alpha:\n",
    "    print(\"Различия в количестве уникальных сессий между группами статистически значимы.\")\n",
    "else:\n",
    "    print(\"Различия в количестве уникальных сессий между группами статистически не значимы.\")"
   ]
  },
  {
   "cell_type": "markdown",
   "metadata": {
    "id": "7kwRxzg70eM3"
   },
   "source": [
    "#### 4.3. Сравнение доли успешных сессий\n",
    "\n",
    "Когда вы убедились, что количество сессий в обеих выборках не различалось, можно переходить к анализу ключевой метрики — доли успешных сессий.\n",
    "\n",
    "Используйте созданный на первом шаге задания столбец `good_session` и рассчитайте долю успешных сессий для выборок A и B, а также разницу в этом показателе. Полученный вывод отобразите на экране."
   ]
  },
  {
   "cell_type": "code",
   "execution_count": 29,
   "metadata": {
    "id": "Uku-V1CpPRCz"
   },
   "outputs": [
    {
     "name": "stdout",
     "output_type": "stream",
     "text": [
      "Доля успешных сессий в группе A: 0.3077\n",
      "Доля успешных сессий в группе B: 0.3183\n",
      "Разница в долях успешных сессий (B - A): 0.0106\n",
      "Группа B имеет более высокую долю успешных сессий.\n"
     ]
    }
   ],
   "source": [
    "# Расчет доли успешных сессий для каждой группы\n",
    "success_rate = sessions_test.groupby('test_group')['good_session'].mean()\n",
    "\n",
    "# Расчет разницы в долях успешных сессий\n",
    "difference = success_rate['B'] - success_rate['A']\n",
    "\n",
    "# Вывод результатов\n",
    "print(f\"Доля успешных сессий в группе A: {success_rate['A']:.4f}\")\n",
    "print(f\"Доля успешных сессий в группе B: {success_rate['B']:.4f}\")\n",
    "print(f\"Разница в долях успешных сессий (B - A): {difference:.4f}\")\n",
    "\n",
    "if difference > 0:\n",
    "    print(\"Группа B имеет более высокую долю успешных сессий.\")\n",
    "elif difference < 0:\n",
    "    print(\"Группа A имеет более высокую долю успешных сессий.\")\n",
    "else:\n",
    "    print(\"Доли успешных сессий в группах A и B равны.\")\n"
   ]
  },
  {
   "cell_type": "markdown",
   "metadata": {
    "id": "9fMFuja10eM4"
   },
   "source": [
    "#### 4.4. Насколько статистически значимо изменение ключевой метрики\n",
    "\n",
    "На предыдущем шаге вы убедились, что количество успешных сессий в тестовой выборке примерно на 1.1% выше, чем в контрольной, но делать выводы только на основе этого значения будет некорректно. Для принятия решения всегда необходимо отвечать на вопрос: является ли это изменение статистически значимым.\n",
    "\n",
    "- Используя статистический тест, рассчитайте, является ли изменение в метрике доли успешных сессий статистически значимым.\n",
    "\n",
    "- Выведите на экран полученное значение p-value и свои выводы о статистической значимости. Напомним, что уровень значимости в эксперименте был выбран на уровне 0.05."
   ]
  },
  {
   "cell_type": "code",
   "execution_count": 30,
   "metadata": {},
   "outputs": [],
   "source": [
    "import statsmodels.stats.proportion as proportion"
   ]
  },
  {
   "cell_type": "code",
   "execution_count": 31,
   "metadata": {
    "id": "gFvhRGwlPLS0"
   },
   "outputs": [
    {
     "name": "stdout",
     "output_type": "stream",
     "text": [
      "P-value: 0.0003\n",
      "Изменение в доле успешных сессий статистически значимо.\n"
     ]
    }
   ],
   "source": [
    "# Подсчет количества успешных и всех сессий для каждой группы\n",
    "summary_data = sessions_test.groupby('test_group')['good_session'].agg(['sum', 'count'])\n",
    "successes = summary_data['sum'].values\n",
    "trials = summary_data['count'].values\n",
    "\n",
    "# Проведение z-теста для пропорций\n",
    "z_stat, p_value = proportion.proportions_ztest(successes, trials, alternative='two-sided')\n",
    "\n",
    "# Вывод p-value и выводы о статистической значимости\n",
    "print(f\"P-value: {p_value:.4f}\")\n",
    "\n",
    "alpha = 0.05  # Уровень значимости\n",
    "\n",
    "if p_value < alpha:\n",
    "    print(\"Изменение в доле успешных сессий статистически значимо.\")\n",
    "else:\n",
    "    print(\"Изменение в доле успешных сессий статистически не значимо.\")"
   ]
  },
  {
   "cell_type": "markdown",
   "metadata": {
    "id": "GnJrkY9Q63zS"
   },
   "source": [
    "#### 4.5. Вывод по результатам A/B-эксперимента\n"
   ]
  },
  {
   "cell_type": "markdown",
   "metadata": {
    "id": "rri8KRIgPMrW"
   },
   "source": [
    "На основании проведенного A/B-теста с целью оценки влияния нового алгоритма рекомендаций на долю успешных сессий (сессий, в которых пользователь просмотрел 4 и более страницы), можно сделать следующие выводы:\n",
    "\n",
    "Характеристики эксперимента:\n",
    "* Размер выборки: 17441 пользователей в каждой группе \n",
    "* Фактические размеры групп: Группа A - 1477 пользователей, Группа B - 1466 пользователей (разница 0.74%).\n",
    "* Уникальность пользователей: Пользователи находились только в одной группе (A или B).\n",
    "\n",
    "Результаты:\n",
    "* Сопоставимость групп: Статистически значимых различий в количестве уникальных сессий между группами A и B не обнаружено (p-value = 0.9382), что говорит о сопоставимости групп.\n",
    "*  Доля успешных сессий: Группа A: 0.3077,Группа B: 0.3183,Разница (B - A): 0.0106 (1.06 процентных пункта)\n",
    "\n",
    "Статистическая значимость: Разница в доле успешных сессий статистически значима (p-value = 0.0003).\n",
    "\n",
    "Вывод:\n",
    "Внедрение нового алгоритма рекомендаций оказало положительное влияние на ключевую метрику — долю успешных сессий. В группе B, использовавшей новый алгоритм, доля успешных сессий статистически значимо увеличилась на 1.06 процентных пункта по сравнению с контрольной группой A (p-value = 0.0003).\n",
    "\n",
    "Рекомендация:\n",
    "Несмотря на то, что статистическая значимость достигнута, следует учитывать, что фактический размер выборки значительно меньше необходимого.Рекомендуется повторить A/B-тест с более крупными выборками, чтобы убедиться в устойчивости результатов.\n",
    "Если результаты повторного теста подтвердят положительное влияние нового алгоритма рекомендаций, его можно будет внедрить в приложение. Однако, важно также оценить потенциальные затраты на внедрение и поддержку нового алгоритма, а также рассмотреть возможность анализа других метрик, чтобы получить более полное представление о его влиянии на пользовательский опыт. Кроме того, из-за относительно небольшого размера групп и короткого времени проведения теста, результаты стоит воспринимать как предварительные и требующие подтверждения на большем объеме данных."
   ]
  },
  {
   "cell_type": "code",
   "execution_count": null,
   "metadata": {},
   "outputs": [],
   "source": []
  }
 ],
 "metadata": {
  "ExecuteTimeLog": [
   {
    "duration": 444,
    "start_time": "2025-03-15T09:33:10.585Z"
   },
   {
    "duration": 1949,
    "start_time": "2025-03-15T09:37:09.831Z"
   },
   {
    "duration": 1659,
    "start_time": "2025-03-15T09:38:48.420Z"
   },
   {
    "duration": 66,
    "start_time": "2025-03-15T09:44:22.463Z"
   },
   {
    "duration": 7,
    "start_time": "2025-03-15T09:44:49.320Z"
   },
   {
    "duration": 315,
    "start_time": "2025-03-15T09:45:30.826Z"
   },
   {
    "duration": 302,
    "start_time": "2025-03-15T09:46:40.530Z"
   },
   {
    "duration": 303,
    "start_time": "2025-03-15T09:46:59.453Z"
   },
   {
    "duration": 60,
    "start_time": "2025-03-15T09:47:18.761Z"
   },
   {
    "duration": 320,
    "start_time": "2025-03-15T09:47:27.059Z"
   },
   {
    "duration": 40,
    "start_time": "2025-03-15T09:50:21.773Z"
   },
   {
    "duration": 2552,
    "start_time": "2025-03-15T11:52:48.936Z"
   },
   {
    "duration": 386,
    "start_time": "2025-03-15T11:52:51.490Z"
   },
   {
    "duration": 45,
    "start_time": "2025-03-15T11:52:51.878Z"
   },
   {
    "duration": 416,
    "start_time": "2025-03-15T11:55:01.186Z"
   },
   {
    "duration": 78,
    "start_time": "2025-03-15T11:55:21.726Z"
   },
   {
    "duration": 276,
    "start_time": "2025-03-15T11:55:54.075Z"
   },
   {
    "duration": 12,
    "start_time": "2025-03-15T11:56:12.066Z"
   },
   {
    "duration": 230,
    "start_time": "2025-03-15T11:56:20.306Z"
   },
   {
    "duration": 789,
    "start_time": "2025-03-15T11:56:23.646Z"
   },
   {
    "duration": 787,
    "start_time": "2025-03-15T11:58:08.952Z"
   },
   {
    "duration": 41,
    "start_time": "2025-03-15T12:00:28.067Z"
   },
   {
    "duration": 326,
    "start_time": "2025-03-15T12:00:39.636Z"
   },
   {
    "duration": 193,
    "start_time": "2025-03-15T12:01:24.007Z"
   },
   {
    "duration": 366,
    "start_time": "2025-03-15T12:01:56.422Z"
   },
   {
    "duration": 171,
    "start_time": "2025-03-15T12:08:50.570Z"
   },
   {
    "duration": 41,
    "start_time": "2025-03-15T12:09:18.590Z"
   },
   {
    "duration": 648,
    "start_time": "2025-03-15T12:09:19.797Z"
   },
   {
    "duration": 537,
    "start_time": "2025-03-15T12:11:50.263Z"
   },
   {
    "duration": 206,
    "start_time": "2025-03-15T12:14:13.852Z"
   },
   {
    "duration": 95,
    "start_time": "2025-03-15T12:19:27.306Z"
   },
   {
    "duration": 2003,
    "start_time": "2025-03-15T12:20:58.095Z"
   },
   {
    "duration": 411,
    "start_time": "2025-03-15T12:21:00.100Z"
   },
   {
    "duration": 46,
    "start_time": "2025-03-15T12:21:00.513Z"
   },
   {
    "duration": 3,
    "start_time": "2025-03-15T12:21:00.562Z"
   },
   {
    "duration": 306,
    "start_time": "2025-03-15T12:21:00.568Z"
   },
   {
    "duration": 791,
    "start_time": "2025-03-15T12:21:00.876Z"
   },
   {
    "duration": 802,
    "start_time": "2025-03-15T12:21:01.669Z"
   },
   {
    "duration": 38,
    "start_time": "2025-03-15T12:21:02.474Z"
   },
   {
    "duration": 386,
    "start_time": "2025-03-15T12:21:02.513Z"
   },
   {
    "duration": 172,
    "start_time": "2025-03-15T12:21:02.902Z"
   },
   {
    "duration": 52,
    "start_time": "2025-03-15T12:21:03.077Z"
   },
   {
    "duration": 822,
    "start_time": "2025-03-15T12:21:03.131Z"
   },
   {
    "duration": 20,
    "start_time": "2025-03-15T12:21:03.955Z"
   },
   {
    "duration": 301,
    "start_time": "2025-03-15T12:21:03.977Z"
   },
   {
    "duration": 55,
    "start_time": "2025-03-15T12:21:04.280Z"
   },
   {
    "duration": 612,
    "start_time": "2025-03-15T12:22:19.976Z"
   },
   {
    "duration": 11,
    "start_time": "2025-03-15T12:23:15.119Z"
   },
   {
    "duration": 6,
    "start_time": "2025-03-15T12:23:22.451Z"
   },
   {
    "duration": 7,
    "start_time": "2025-03-15T12:23:57.739Z"
   },
   {
    "duration": 36,
    "start_time": "2025-03-15T12:24:05.151Z"
   },
   {
    "duration": 7,
    "start_time": "2025-03-15T12:24:35.204Z"
   },
   {
    "duration": 63,
    "start_time": "2025-03-15T12:25:10.856Z"
   },
   {
    "duration": 474,
    "start_time": "2025-03-15T12:25:33.588Z"
   },
   {
    "duration": 563,
    "start_time": "2025-03-15T12:27:31.536Z"
   },
   {
    "duration": 9,
    "start_time": "2025-03-15T12:28:48.946Z"
   },
   {
    "duration": 8,
    "start_time": "2025-03-15T12:31:25.033Z"
   },
   {
    "duration": 417,
    "start_time": "2025-03-15T12:31:45.889Z"
   },
   {
    "duration": 10,
    "start_time": "2025-03-15T12:38:25.684Z"
   },
   {
    "duration": 421,
    "start_time": "2025-03-15T12:38:42.373Z"
   },
   {
    "duration": 577,
    "start_time": "2025-03-15T12:41:10.451Z"
   },
   {
    "duration": 14,
    "start_time": "2025-03-15T12:44:09.187Z"
   },
   {
    "duration": 20,
    "start_time": "2025-03-15T12:44:15.982Z"
   },
   {
    "duration": 14,
    "start_time": "2025-03-15T12:44:26.811Z"
   },
   {
    "duration": 56,
    "start_time": "2025-03-15T12:46:13.134Z"
   },
   {
    "duration": 15,
    "start_time": "2025-03-15T12:46:29.916Z"
   },
   {
    "duration": 3,
    "start_time": "2025-03-15T12:46:42.375Z"
   },
   {
    "duration": 11,
    "start_time": "2025-03-15T12:46:43.457Z"
   },
   {
    "duration": 17,
    "start_time": "2025-03-15T12:49:33.764Z"
   },
   {
    "duration": 18,
    "start_time": "2025-03-15T12:50:33.101Z"
   },
   {
    "duration": 6,
    "start_time": "2025-03-15T12:50:49.688Z"
   },
   {
    "duration": 14,
    "start_time": "2025-03-15T12:50:50.640Z"
   },
   {
    "duration": 2052,
    "start_time": "2025-03-15T13:27:56.455Z"
   },
   {
    "duration": 326,
    "start_time": "2025-03-15T13:28:02.279Z"
   },
   {
    "duration": 37,
    "start_time": "2025-03-15T13:28:04.976Z"
   },
   {
    "duration": 297,
    "start_time": "2025-03-15T13:30:31.065Z"
   },
   {
    "duration": 34,
    "start_time": "2025-03-15T13:30:31.485Z"
   },
   {
    "duration": 35,
    "start_time": "2025-03-15T13:30:54.302Z"
   },
   {
    "duration": 3,
    "start_time": "2025-03-15T13:30:56.740Z"
   },
   {
    "duration": 175,
    "start_time": "2025-03-15T13:32:24.474Z"
   },
   {
    "duration": 717,
    "start_time": "2025-03-15T13:32:48.311Z"
   },
   {
    "duration": 683,
    "start_time": "2025-03-15T13:36:30.200Z"
   },
   {
    "duration": 131,
    "start_time": "2025-03-15T13:41:49.095Z"
   },
   {
    "duration": 27,
    "start_time": "2025-03-15T13:41:54.227Z"
   },
   {
    "duration": 660,
    "start_time": "2025-03-15T13:41:56.534Z"
   },
   {
    "duration": 674,
    "start_time": "2025-03-15T13:42:12.868Z"
   },
   {
    "duration": 108,
    "start_time": "2025-03-15T13:45:06.011Z"
   },
   {
    "duration": 1707,
    "start_time": "2025-03-15T13:45:23.486Z"
   },
   {
    "duration": 320,
    "start_time": "2025-03-15T13:45:25.194Z"
   },
   {
    "duration": 46,
    "start_time": "2025-03-15T13:45:25.516Z"
   },
   {
    "duration": 3,
    "start_time": "2025-03-15T13:45:25.564Z"
   },
   {
    "duration": 225,
    "start_time": "2025-03-15T13:45:25.568Z"
   },
   {
    "duration": 816,
    "start_time": "2025-03-15T13:45:25.796Z"
   },
   {
    "duration": 727,
    "start_time": "2025-03-15T13:45:26.615Z"
   },
   {
    "duration": 48,
    "start_time": "2025-03-15T13:45:27.343Z"
   },
   {
    "duration": 339,
    "start_time": "2025-03-15T13:45:27.393Z"
   },
   {
    "duration": 138,
    "start_time": "2025-03-15T13:45:27.734Z"
   },
   {
    "duration": 39,
    "start_time": "2025-03-15T13:45:27.874Z"
   },
   {
    "duration": 693,
    "start_time": "2025-03-15T13:45:27.915Z"
   },
   {
    "duration": 13,
    "start_time": "2025-03-15T13:45:28.704Z"
   },
   {
    "duration": 174,
    "start_time": "2025-03-15T13:45:29.476Z"
   },
   {
    "duration": 171,
    "start_time": "2025-03-15T13:45:30.916Z"
   },
   {
    "duration": 14,
    "start_time": "2025-03-15T13:45:31.206Z"
   },
   {
    "duration": 8,
    "start_time": "2025-03-15T13:45:31.686Z"
   },
   {
    "duration": 393,
    "start_time": "2025-03-15T13:45:33.076Z"
   },
   {
    "duration": 8,
    "start_time": "2025-03-15T13:45:40.293Z"
   },
   {
    "duration": 9,
    "start_time": "2025-03-15T13:46:14.645Z"
   },
   {
    "duration": 370,
    "start_time": "2025-03-15T13:46:15.715Z"
   },
   {
    "duration": 8,
    "start_time": "2025-03-15T13:47:02.303Z"
   },
   {
    "duration": 380,
    "start_time": "2025-03-15T13:47:03.083Z"
   },
   {
    "duration": 546,
    "start_time": "2025-03-15T13:49:15.426Z"
   },
   {
    "duration": 13,
    "start_time": "2025-03-15T13:49:16.791Z"
   },
   {
    "duration": 41,
    "start_time": "2025-03-15T13:49:23.131Z"
   },
   {
    "duration": 3,
    "start_time": "2025-03-15T13:49:23.849Z"
   },
   {
    "duration": 6,
    "start_time": "2025-03-15T13:49:24.489Z"
   },
   {
    "duration": 12,
    "start_time": "2025-03-15T13:49:29.461Z"
   },
   {
    "duration": 3,
    "start_time": "2025-03-15T13:49:30.901Z"
   },
   {
    "duration": 14,
    "start_time": "2025-03-15T13:49:31.861Z"
   },
   {
    "duration": 1861,
    "start_time": "2025-03-15T13:53:00.947Z"
   },
   {
    "duration": 334,
    "start_time": "2025-03-15T13:53:02.809Z"
   },
   {
    "duration": 42,
    "start_time": "2025-03-15T13:53:03.145Z"
   },
   {
    "duration": 4,
    "start_time": "2025-03-15T13:53:03.189Z"
   },
   {
    "duration": 264,
    "start_time": "2025-03-15T13:53:03.194Z"
   },
   {
    "duration": 818,
    "start_time": "2025-03-15T13:53:03.460Z"
   },
   {
    "duration": 665,
    "start_time": "2025-03-15T13:53:04.280Z"
   },
   {
    "duration": 30,
    "start_time": "2025-03-15T13:53:04.947Z"
   },
   {
    "duration": 381,
    "start_time": "2025-03-15T13:53:04.979Z"
   },
   {
    "duration": 135,
    "start_time": "2025-03-15T13:53:05.363Z"
   },
   {
    "duration": 29,
    "start_time": "2025-03-15T13:53:05.500Z"
   },
   {
    "duration": 717,
    "start_time": "2025-03-15T13:53:05.531Z"
   },
   {
    "duration": 20,
    "start_time": "2025-03-15T13:53:06.249Z"
   },
   {
    "duration": 286,
    "start_time": "2025-03-15T13:53:06.271Z"
   },
   {
    "duration": 59,
    "start_time": "2025-03-15T13:53:06.559Z"
   },
   {
    "duration": 14,
    "start_time": "2025-03-15T13:53:06.619Z"
   },
   {
    "duration": 41,
    "start_time": "2025-03-15T13:53:06.635Z"
   },
   {
    "duration": 610,
    "start_time": "2025-03-15T13:53:06.678Z"
   },
   {
    "duration": 12,
    "start_time": "2025-03-15T13:53:07.291Z"
   },
   {
    "duration": 90,
    "start_time": "2025-03-15T13:53:07.306Z"
   },
   {
    "duration": 381,
    "start_time": "2025-03-15T13:53:07.399Z"
   },
   {
    "duration": 8,
    "start_time": "2025-03-15T13:53:07.782Z"
   },
   {
    "duration": 353,
    "start_time": "2025-03-15T13:53:07.830Z"
   },
   {
    "duration": 684,
    "start_time": "2025-03-15T13:53:08.836Z"
   },
   {
    "duration": 13,
    "start_time": "2025-03-15T13:53:09.522Z"
   },
   {
    "duration": 117,
    "start_time": "2025-03-15T13:53:09.537Z"
   },
   {
    "duration": 3,
    "start_time": "2025-03-15T13:53:09.680Z"
   },
   {
    "duration": 6,
    "start_time": "2025-03-15T13:53:09.877Z"
   },
   {
    "duration": 14,
    "start_time": "2025-03-15T13:53:10.220Z"
   },
   {
    "duration": 2,
    "start_time": "2025-03-15T13:53:10.620Z"
   },
   {
    "duration": 17,
    "start_time": "2025-03-15T13:53:10.810Z"
   },
   {
    "duration": 2336,
    "start_time": "2025-07-07T11:39:31.741Z"
   },
   {
    "duration": 411,
    "start_time": "2025-07-07T11:39:34.257Z"
   },
   {
    "duration": 44,
    "start_time": "2025-07-07T11:39:34.677Z"
   },
   {
    "duration": 492,
    "start_time": "2025-07-07T11:39:35.607Z"
   },
   {
    "duration": 321,
    "start_time": "2025-07-07T11:39:36.101Z"
   },
   {
    "duration": 952,
    "start_time": "2025-07-07T11:39:36.425Z"
   },
   {
    "duration": 859,
    "start_time": "2025-07-07T11:39:37.379Z"
   },
   {
    "duration": 43,
    "start_time": "2025-07-07T11:39:38.240Z"
   },
   {
    "duration": 484,
    "start_time": "2025-07-07T11:39:38.285Z"
   },
   {
    "duration": 172,
    "start_time": "2025-07-07T11:39:38.771Z"
   },
   {
    "duration": 50,
    "start_time": "2025-07-07T11:39:38.947Z"
   },
   {
    "duration": 908,
    "start_time": "2025-07-07T11:39:39.000Z"
   },
   {
    "duration": 514,
    "start_time": "2025-07-07T11:39:39.910Z"
   },
   {
    "duration": 245,
    "start_time": "2025-07-07T11:39:40.427Z"
   },
   {
    "duration": 134,
    "start_time": "2025-07-07T11:39:40.674Z"
   },
   {
    "duration": 55,
    "start_time": "2025-07-07T11:39:40.809Z"
   },
   {
    "duration": 13,
    "start_time": "2025-07-07T11:39:40.866Z"
   },
   {
    "duration": 585,
    "start_time": "2025-07-07T11:39:40.881Z"
   },
   {
    "duration": 9,
    "start_time": "2025-07-07T11:39:41.469Z"
   },
   {
    "duration": 9,
    "start_time": "2025-07-07T11:39:41.665Z"
   },
   {
    "duration": 444,
    "start_time": "2025-07-07T11:39:41.865Z"
   },
   {
    "duration": 9,
    "start_time": "2025-07-07T11:39:42.462Z"
   },
   {
    "duration": 346,
    "start_time": "2025-07-07T11:39:42.657Z"
   },
   {
    "duration": 581,
    "start_time": "2025-07-07T11:39:44.169Z"
   },
   {
    "duration": 19,
    "start_time": "2025-07-07T11:39:44.754Z"
   },
   {
    "duration": 49,
    "start_time": "2025-07-07T11:39:44.861Z"
   },
   {
    "duration": 4,
    "start_time": "2025-07-07T11:39:45.150Z"
   },
   {
    "duration": 8,
    "start_time": "2025-07-07T11:39:45.322Z"
   },
   {
    "duration": 13,
    "start_time": "2025-07-07T11:39:45.722Z"
   },
   {
    "duration": 7,
    "start_time": "2025-07-07T11:39:46.217Z"
   },
   {
    "duration": 17,
    "start_time": "2025-07-07T11:39:46.411Z"
   },
   {
    "duration": 94,
    "start_time": "2025-07-07T11:42:05.503Z"
   },
   {
    "duration": 470,
    "start_time": "2025-07-07T11:42:06.262Z"
   }
  ],
  "colab": {
   "provenance": []
  },
  "kernelspec": {
   "display_name": "Python 3 (ipykernel)",
   "language": "python",
   "name": "python3"
  },
  "language_info": {
   "codemirror_mode": {
    "name": "ipython",
    "version": 3
   },
   "file_extension": ".py",
   "mimetype": "text/x-python",
   "name": "python",
   "nbconvert_exporter": "python",
   "pygments_lexer": "ipython3",
   "version": "3.9.5"
  },
  "toc": {
   "base_numbering": 1,
   "nav_menu": {},
   "number_sections": true,
   "sideBar": true,
   "skip_h1_title": true,
   "title_cell": "Table of Contents",
   "title_sidebar": "Contents",
   "toc_cell": false,
   "toc_position": {},
   "toc_section_display": true,
   "toc_window_display": false
  }
 },
 "nbformat": 4,
 "nbformat_minor": 1
}
